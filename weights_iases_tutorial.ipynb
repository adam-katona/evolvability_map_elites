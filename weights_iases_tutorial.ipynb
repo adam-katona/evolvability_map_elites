{
 "cells": [
  {
   "cell_type": "code",
   "execution_count": 1,
   "metadata": {},
   "outputs": [],
   "source": [
    "import os\n",
    "os.chdir(\"/scratch/ak1774/runs\")\n",
    "import wandb\n"
   ]
  },
  {
   "cell_type": "code",
   "execution_count": 11,
   "metadata": {},
   "outputs": [
    {
     "data": {
      "text/plain": [
       "False"
      ]
     },
     "execution_count": 11,
     "metadata": {},
     "output_type": "execute_result"
    }
   ],
   "source": [
    "import types\n",
    "isinstance(wandb.config, types.FunctionType)"
   ]
  },
  {
   "cell_type": "code",
   "execution_count": 2,
   "metadata": {},
   "outputs": [
    {
     "data": {
      "text/plain": [
       "function"
      ]
     },
     "execution_count": 2,
     "metadata": {},
     "output_type": "execute_result"
    }
   ],
   "source": [
    "type(wandb.config)"
   ]
  },
  {
   "cell_type": "code",
   "execution_count": 5,
   "metadata": {},
   "outputs": [
    {
     "data": {
      "text/plain": [
       "wandb.sdk.wandb_config.Config"
      ]
     },
     "execution_count": 5,
     "metadata": {},
     "output_type": "execute_result"
    }
   ],
   "source": [
    "type(wandb.config)"
   ]
  },
  {
   "cell_type": "code",
   "execution_count": 10,
   "metadata": {},
   "outputs": [
    {
     "name": "stderr",
     "output_type": "stream",
     "text": [
      "wandb: Currently logged in as: adam_katona (use `wandb login --relogin` to force relogin)\n",
      "wandb: wandb version 0.12.9 is available!  To upgrade, please run:\n",
      "wandb:  $ pip install wandb --upgrade\n"
     ]
    },
    {
     "data": {
      "text/html": [
       "\n",
       "                    Syncing run <strong><a href=\"https://wandb.ai/adam_katona/test_plots/runs/w5tx8o8v\" target=\"_blank\">gallant-forest-5</a></strong> to <a href=\"https://wandb.ai/adam_katona/test_plots\" target=\"_blank\">Weights & Biases</a> (<a href=\"https://docs.wandb.com/integrations/jupyter.html\" target=\"_blank\">docs</a>).<br/>\n",
       "\n",
       "                "
      ],
      "text/plain": [
       "<IPython.core.display.HTML object>"
      ]
     },
     "metadata": {},
     "output_type": "display_data"
    },
    {
     "data": {
      "text/html": [
       "<button onClick=\"this.nextSibling.style.display='block';this.style.display='none';\">Display W&B run</button><iframe src=\"https://wandb.ai/adam_katona/test_plots/runs/w5tx8o8v?jupyter=true\" style=\"border:none;width:100%;height:420px;display:none;\"></iframe>"
      ],
      "text/plain": [
       "<wandb.sdk.wandb_run.Run at 0x7fae75520bb0>"
      ]
     },
     "execution_count": 10,
     "metadata": {},
     "output_type": "execute_result"
    }
   ],
   "source": [
    "wandb.init(project=\"test_plots\", entity=\"adam_katona\")"
   ]
  },
  {
   "cell_type": "code",
   "execution_count": 3,
   "metadata": {},
   "outputs": [],
   "source": [
    "wandb.config = {\n",
    "  \"learning_rate\": 0.001,\n",
    "  \"epochs\": 100,\n",
    "  \"batch_size\": 128\n",
    "}"
   ]
  },
  {
   "cell_type": "code",
   "execution_count": 4,
   "metadata": {},
   "outputs": [
    {
     "ename": "AttributeError",
     "evalue": "'NoneType' object has no attribute 'name'",
     "output_type": "error",
     "traceback": [
      "\u001b[0;31m---------------------------------------------------------------------------\u001b[0m",
      "\u001b[0;31mAttributeError\u001b[0m                            Traceback (most recent call last)",
      "\u001b[0;32m<ipython-input-4-25d26b02e02f>\u001b[0m in \u001b[0;36m<module>\u001b[0;34m\u001b[0m\n\u001b[0;32m----> 1\u001b[0;31m \u001b[0mwandb\u001b[0m\u001b[0;34m.\u001b[0m\u001b[0mrun\u001b[0m\u001b[0;34m.\u001b[0m\u001b[0mname\u001b[0m\u001b[0;34m\u001b[0m\u001b[0;34m\u001b[0m\u001b[0m\n\u001b[0m",
      "\u001b[0;31mAttributeError\u001b[0m: 'NoneType' object has no attribute 'name'"
     ]
    }
   ],
   "source": []
  },
  {
   "cell_type": "code",
   "execution_count": 4,
   "metadata": {},
   "outputs": [],
   "source": [
    "wandb.run.name = \"run2\""
   ]
  },
  {
   "cell_type": "code",
   "execution_count": 5,
   "metadata": {},
   "outputs": [],
   "source": [
    "wandb.run.config.update(wandb.config)"
   ]
  },
  {
   "cell_type": "code",
   "execution_count": 40,
   "metadata": {},
   "outputs": [],
   "source": [
    "a = wandb.config"
   ]
  },
  {
   "cell_type": "code",
   "execution_count": 15,
   "metadata": {},
   "outputs": [],
   "source": [
    "\n",
    "step_logs = {\n",
    "    \n",
    "    ## UPDATE logs ##\n",
    "    \"parent_id\" : \"26\",  # what is the id of the parent who got selected to reproduce\n",
    "    \"parent_eval_results\" : {\n",
    "        \"eval_returns_mean\" : 3,\n",
    "        \"eval_returns_std\" : 1,\n",
    "    },\n",
    "    \"parent_cell\" : [2,7],\n",
    "    \n",
    "    \"update_type\" : \"ES_FITNESS\",  # can be ES_FITNESS, ES_EVO, ES_INNOV\n",
    "    \n",
    "    \"pop_returns_mean\" : 2.1,\n",
    "    \"pop_returns_best\" : 4,\n",
    "    \"pop_returns_std\" : 1.1,\n",
    "    \n",
    "    \"pop_num_cells_occupied\" : 51,\n",
    "    \"pop_num_new_cells_occupied\" : 24,\n",
    "    \"pop_variability\" : 2,\n",
    "    \"pop_innovation\" : 1,\n",
    "    \n",
    "    \"child_id\" : \"27\",\n",
    "    \"child_eval_results\" : {\n",
    "        \"eval_returns_mean\" : 3.2,\n",
    "        \"eval_returns_std\" : 1.1,\n",
    "    },\n",
    "    \n",
    "    ## Overall status logs\n",
    "    \"best_returns_seen\" : 5.2,\n",
    "    \"num_cells_occupied\" : 86,\n",
    "    \n",
    "}\n"
   ]
  },
  {
   "cell_type": "code",
   "execution_count": 19,
   "metadata": {},
   "outputs": [],
   "source": [
    "wandb.log(step_logs)\n",
    "wandb.log(step_logs)\n",
    "wandb.log(step_logs)\n",
    "wandb.log(step_logs)"
   ]
  },
  {
   "cell_type": "code",
   "execution_count": 26,
   "metadata": {},
   "outputs": [],
   "source": [
    "wandb.log({\"loss\": 3})\n",
    "wandb.log({\"loss\": 2})\n",
    "wandb.log({\"loss\": 3})\n",
    "wandb.log({\"loss\": 1})"
   ]
  },
  {
   "cell_type": "code",
   "execution_count": 22,
   "metadata": {},
   "outputs": [],
   "source": [
    "a = wandb.run"
   ]
  },
  {
   "cell_type": "code",
   "execution_count": 27,
   "metadata": {},
   "outputs": [],
   "source": [
    "a = a.history"
   ]
  },
  {
   "cell_type": "code",
   "execution_count": 28,
   "metadata": {},
   "outputs": [],
   "source": [
    "wandb.run.log(step_logs)"
   ]
  },
  {
   "cell_type": "code",
   "execution_count": 30,
   "metadata": {},
   "outputs": [
    {
     "ename": "TypeError",
     "evalue": "'History' object is not callable",
     "output_type": "error",
     "traceback": [
      "\u001b[0;31m---------------------------------------------------------------------------\u001b[0m",
      "\u001b[0;31mTypeError\u001b[0m                                 Traceback (most recent call last)",
      "\u001b[0;32m<ipython-input-30-24212f244c16>\u001b[0m in \u001b[0;36m<module>\u001b[0;34m\u001b[0m\n\u001b[0;32m----> 1\u001b[0;31m \u001b[0mwandb\u001b[0m\u001b[0;34m.\u001b[0m\u001b[0mrun\u001b[0m\u001b[0;34m.\u001b[0m\u001b[0mhistory\u001b[0m\u001b[0;34m(\u001b[0m\u001b[0;34m)\u001b[0m\u001b[0;34m\u001b[0m\u001b[0;34m\u001b[0m\u001b[0m\n\u001b[0m",
      "\u001b[0;31mTypeError\u001b[0m: 'History' object is not callable"
     ]
    }
   ],
   "source": [
    "wandb.run.history()"
   ]
  },
  {
   "cell_type": "code",
   "execution_count": null,
   "metadata": {},
   "outputs": [],
   "source": [
    "wandb.Histogram(array)"
   ]
  },
  {
   "cell_type": "code",
   "execution_count": null,
   "metadata": {},
   "outputs": [],
   "source": []
  },
  {
   "cell_type": "code",
   "execution_count": 6,
   "metadata": {},
   "outputs": [],
   "source": [
    "import wandb\n",
    "api = wandb.Api()\n",
    "\n",
    "# run is specified by <entity>/<project>/<run id>\n",
    "run = api.run(\"adam_katona/my-test-project/b7s8gvi3\")\n",
    "\n",
    "# save the metrics for the run to a csv file\n",
    "metrics_dataframe = run.history()\n",
    "#metrics_dataframe.to_csv(\"metrics.csv\")"
   ]
  },
  {
   "cell_type": "code",
   "execution_count": 7,
   "metadata": {},
   "outputs": [
    {
     "data": {
      "text/html": [
       "<div>\n",
       "<style scoped>\n",
       "    .dataframe tbody tr th:only-of-type {\n",
       "        vertical-align: middle;\n",
       "    }\n",
       "\n",
       "    .dataframe tbody tr th {\n",
       "        vertical-align: top;\n",
       "    }\n",
       "\n",
       "    .dataframe thead th {\n",
       "        text-align: right;\n",
       "    }\n",
       "</style>\n",
       "<table border=\"1\" class=\"dataframe\">\n",
       "  <thead>\n",
       "    <tr style=\"text-align: right;\">\n",
       "      <th></th>\n",
       "      <th>_step</th>\n",
       "      <th>loss</th>\n",
       "      <th>_runtime</th>\n",
       "      <th>_timestamp</th>\n",
       "    </tr>\n",
       "  </thead>\n",
       "  <tbody>\n",
       "    <tr>\n",
       "      <th>0</th>\n",
       "      <td>0</td>\n",
       "      <td>3</td>\n",
       "      <td>43</td>\n",
       "      <td>1636555297</td>\n",
       "    </tr>\n",
       "    <tr>\n",
       "      <th>1</th>\n",
       "      <td>1</td>\n",
       "      <td>3</td>\n",
       "      <td>52</td>\n",
       "      <td>1636555306</td>\n",
       "    </tr>\n",
       "    <tr>\n",
       "      <th>2</th>\n",
       "      <td>2</td>\n",
       "      <td>2</td>\n",
       "      <td>52</td>\n",
       "      <td>1636555306</td>\n",
       "    </tr>\n",
       "    <tr>\n",
       "      <th>3</th>\n",
       "      <td>3</td>\n",
       "      <td>3</td>\n",
       "      <td>52</td>\n",
       "      <td>1636555306</td>\n",
       "    </tr>\n",
       "    <tr>\n",
       "      <th>4</th>\n",
       "      <td>4</td>\n",
       "      <td>1</td>\n",
       "      <td>52</td>\n",
       "      <td>1636555306</td>\n",
       "    </tr>\n",
       "  </tbody>\n",
       "</table>\n",
       "</div>"
      ],
      "text/plain": [
       "   _step  loss  _runtime  _timestamp\n",
       "0      0     3        43  1636555297\n",
       "1      1     3        52  1636555306\n",
       "2      2     2        52  1636555306\n",
       "3      3     3        52  1636555306\n",
       "4      4     1        52  1636555306"
      ]
     },
     "execution_count": 7,
     "metadata": {},
     "output_type": "execute_result"
    }
   ],
   "source": [
    "metrics_dataframe"
   ]
  },
  {
   "cell_type": "code",
   "execution_count": 8,
   "metadata": {},
   "outputs": [
    {
     "data": {
      "text/plain": [
       "{'learning_rate': 0.001, 'epochs': 100, 'batch_size': 128}"
      ]
     },
     "execution_count": 8,
     "metadata": {},
     "output_type": "execute_result"
    }
   ],
   "source": [
    "wandb.config"
   ]
  },
  {
   "cell_type": "code",
   "execution_count": 12,
   "metadata": {},
   "outputs": [],
   "source": [
    "run.update()"
   ]
  },
  {
   "cell_type": "code",
   "execution_count": 11,
   "metadata": {},
   "outputs": [],
   "source": [
    "run.config = wandb.config"
   ]
  },
  {
   "cell_type": "code",
   "execution_count": 24,
   "metadata": {},
   "outputs": [
    {
     "data": {
      "text/plain": [
       "[<matplotlib.lines.Line2D at 0x7f89a6e23310>]"
      ]
     },
     "execution_count": 24,
     "metadata": {},
     "output_type": "execute_result"
    },
    {
     "data": {
      "image/png": "[encoded data removed]",
      "text/plain": [
       "<Figure size 432x288 with 1 Axes>"
      ]
     },
     "metadata": {
      "needs_background": "light"
     },
     "output_type": "display_data"
    }
   ],
   "source": [
    "import matplotlib.pyplot as plt\n",
    "fig = plt.figure()\n",
    "plt.plot([1,2],[4,3])"
   ]
  },
  {
   "cell_type": "code",
   "execution_count": 25,
   "metadata": {},
   "outputs": [],
   "source": [
    "wandb.log({\"fig\": fig})"
   ]
  },
  {
   "cell_type": "code",
   "execution_count": 27,
   "metadata": {},
   "outputs": [
    {
     "data": {
      "text/plain": [
       "'/scratch/ak1774/runs/wandb/run-20211216_074842-1stxzts2/files'"
      ]
     },
     "execution_count": 27,
     "metadata": {},
     "output_type": "execute_result"
    }
   ],
   "source": [
    "wandb.run.dir"
   ]
  },
  {
   "cell_type": "code",
   "execution_count": 29,
   "metadata": {},
   "outputs": [],
   "source": [
    "import numpy as np\n",
    "a = np.zeros(19)"
   ]
  },
  {
   "cell_type": "code",
   "execution_count": 31,
   "metadata": {},
   "outputs": [],
   "source": [
    "np.savetxt(wandb.run.dir + \"/foo.csv\", a, delimiter=\",\")"
   ]
  },
  {
   "cell_type": "code",
   "execution_count": 32,
   "metadata": {},
   "outputs": [
    {
     "data": {
      "text/html": [
       "<br/>Waiting for W&B process to finish, PID 913285... <strong style=\"color:green\">(success).</strong>"
      ],
      "text/plain": [
       "<IPython.core.display.HTML object>"
      ]
     },
     "metadata": {},
     "output_type": "display_data"
    },
    {
     "data": {
      "application/vnd.jupyter.widget-view+json": {
       "model_id": "a3eae6b5df384e8d97b01305107c54d2",
       "version_major": 2,
       "version_minor": 0
      },
      "text/plain": [
       "VBox(children=(Label(value=' 0.02MB of 0.02MB uploaded (0.00MB deduped)\\r'), FloatProgress(value=1.0, max=1.0)…"
      ]
     },
     "metadata": {},
     "output_type": "display_data"
    },
    {
     "data": {
      "text/html": [
       "<style>\n",
       "    table.wandb td:nth-child(1) { padding: 0 10px; text-align: right }\n",
       "    .wandb-row { display: flex; flex-direction: row; flex-wrap: wrap; width: 100% }\n",
       "    .wandb-col { display: flex; flex-direction: column; flex-basis: 100%; flex: 1; padding: 10px; }\n",
       "    </style>\n",
       "<div class=\"wandb-row\"><div class=\"wandb-col\">\n",
       "<h3>Run history:</h3><br/><table class=\"wandb\"><tr><td>loss</td><td>█▅█▁█▅█▁</td></tr></table><br/></div><div class=\"wandb-col\">\n",
       "<h3>Run summary:</h3><br/><table class=\"wandb\"><tr><td>loss</td><td>1</td></tr></table>\n",
       "</div></div>\n",
       "Synced 4 W&B file(s), 3 media file(s), 0 artifact file(s) and 1 other file(s)\n",
       "<br/>Synced <strong style=\"color:#cdcd00\">vague-dust-1</strong>: <a href=\"https://wandb.ai/adam_katona/test_plots/runs/1stxzts2\" target=\"_blank\">https://wandb.ai/adam_katona/test_plots/runs/1stxzts2</a><br/>\n",
       "Find logs at: <code>./wandb/run-20211216_074842-1stxzts2/logs</code><br/>\n"
      ],
      "text/plain": [
       "<IPython.core.display.HTML object>"
      ]
     },
     "metadata": {},
     "output_type": "display_data"
    }
   ],
   "source": [
    "wandb.finish()"
   ]
  },
  {
   "cell_type": "code",
   "execution_count": 44,
   "metadata": {},
   "outputs": [
    {
     "data": {
      "text/plain": [
       "'/scratch/ak1774/runs/wandb/run-20211216_100348-17q8mx6w/files'"
      ]
     },
     "execution_count": 44,
     "metadata": {},
     "output_type": "execute_result"
    }
   ],
   "source": [
    "wandb.run.dir"
   ]
  },
  {
   "cell_type": "code",
   "execution_count": 49,
   "metadata": {},
   "outputs": [],
   "source": [
    "run_name = wandb.run.dir.split(\"/\")[-2]"
   ]
  },
  {
   "cell_type": "code",
   "execution_count": 50,
   "metadata": {},
   "outputs": [],
   "source": [
    "run_checkpoint_path = \"/scratch/ak1774/runs/large_files/\" + run_name\n",
    "os.makedirs(run_checkpoint_path,exist_ok=True)"
   ]
  },
  {
   "cell_type": "code",
   "execution_count": 10,
   "metadata": {},
   "outputs": [
    {
     "name": "stderr",
     "output_type": "stream",
     "text": [
      "WARNING:root:Converting video data to uint8\n"
     ]
    }
   ],
   "source": [
    "frames = np.random.randn(10,1,64,64) * 255\n",
    "wandb.log({\"video\": wandb.Video(frames, fps=4)})"
   ]
  },
  {
   "cell_type": "code",
   "execution_count": 7,
   "metadata": {},
   "outputs": [],
   "source": [
    "import numpy as np"
   ]
  },
  {
   "cell_type": "code",
   "execution_count": 16,
   "metadata": {},
   "outputs": [
    {
     "data": {
      "text/plain": [
       "(1, 1)"
      ]
     },
     "execution_count": 16,
     "metadata": {},
     "output_type": "execute_result"
    }
   ],
   "source": [
    "np.stack([np.zeros(1)]).shape"
   ]
  },
  {
   "cell_type": "code",
   "execution_count": 20,
   "metadata": {},
   "outputs": [],
   "source": [
    "a = np.zeros([2,4])"
   ]
  },
  {
   "cell_type": "code",
   "execution_count": 21,
   "metadata": {},
   "outputs": [
    {
     "data": {
      "text/plain": [
       "[array([0., 0., 0., 0.]), array([0., 0., 0., 0.])]"
      ]
     },
     "execution_count": 21,
     "metadata": {},
     "output_type": "execute_result"
    }
   ],
   "source": [
    "list(a)"
   ]
  },
  {
   "cell_type": "code",
   "execution_count": 13,
   "metadata": {},
   "outputs": [
    {
     "data": {
      "text/plain": [
       "(2,)"
      ]
     },
     "execution_count": 13,
     "metadata": {},
     "output_type": "execute_result"
    }
   ],
   "source": [
    "2,"
   ]
  },
  {
   "cell_type": "code",
   "execution_count": 29,
   "metadata": {},
   "outputs": [],
   "source": [
    "import pandas as pd \n",
    "import wandb\n",
    "import matplotlib.pyplot as plt"
   ]
  },
  {
   "cell_type": "code",
   "execution_count": 39,
   "metadata": {},
   "outputs": [],
   "source": [
    "api = wandb.Api()\n",
    "sweep = api.sweep(\"adam_katona/uncategorized/nz2cbo33\")\n",
    "sweep_runs = sweep.runs"
   ]
  },
  {
   "cell_type": "code",
   "execution_count": 40,
   "metadata": {},
   "outputs": [
    {
     "name": "stdout",
     "output_type": "stream",
     "text": [
      "<Run adam_katona/uncategorized/vidkqe4i (failed)>\n",
      "<Run adam_katona/uncategorized/s0w362cd (finished)>\n",
      "<Run adam_katona/uncategorized/v22985f2 (finished)>\n",
      "<Run adam_katona/uncategorized/ck0vwki7 (finished)>\n",
      "<Run adam_katona/uncategorized/qdloow7p (failed)>\n",
      "<Run adam_katona/uncategorized/4kpar3iw (finished)>\n",
      "<Run adam_katona/uncategorized/zb57gcde (finished)>\n",
      "<Run adam_katona/uncategorized/8hjvmydi (finished)>\n",
      "<Run adam_katona/uncategorized/bchikxpa (failed)>\n",
      "<Run adam_katona/uncategorized/o8vtrufz (finished)>\n",
      "<Run adam_katona/uncategorized/l0sst3kk (finished)>\n",
      "<Run adam_katona/uncategorized/sfjpyw15 (finished)>\n"
     ]
    }
   ],
   "source": [
    "for run in sweep_runs:\n",
    "    print(run)"
   ]
  },
  {
   "cell_type": "code",
   "execution_count": 41,
   "metadata": {},
   "outputs": [],
   "source": [
    "#def group_runs_by_env(runs):\n",
    "    \n",
    "env_list = set([run.config[\"env_id\"] for run in sweep_runs])\n",
    "env_runs_dict = {}\n",
    "for env in env_list:\n",
    "    env_runs = []\n",
    "    for run in sweep_runs:\n",
    "        if run.config[\"env_id\"] == env:\n",
    "            env_runs.append(run)\n",
    "    env_runs_dict[env] = env_runs\n",
    "\n",
    "\n"
   ]
  },
  {
   "cell_type": "code",
   "execution_count": 42,
   "metadata": {},
   "outputs": [
    {
     "name": "stdout",
     "output_type": "stream",
     "text": [
      "QDAntBulletEnv-v0\n",
      "{'type': 'single_map', 'metrics': ['eval_fitness']}\n",
      "<Run adam_katona/uncategorized/ck0vwki7 (finished)>\n",
      "{'type': 'single_map', 'metrics': ['eval_fitness']}\n",
      "<Run adam_katona/uncategorized/8hjvmydi (finished)>\n",
      "{'type': 'single_map', 'metrics': ['eval_fitness']}\n",
      "<Run adam_katona/uncategorized/sfjpyw15 (finished)>\n",
      "QDWalker2DBulletEnv-v0\n",
      "{'type': 'single_map', 'metrics': ['eval_fitness']}\n",
      "<Run adam_katona/uncategorized/v22985f2 (finished)>\n",
      "{'type': 'single_map', 'metrics': ['eval_fitness']}\n",
      "<Run adam_katona/uncategorized/zb57gcde (finished)>\n",
      "{'type': 'single_map', 'metrics': ['eval_fitness']}\n",
      "<Run adam_katona/uncategorized/l0sst3kk (finished)>\n",
      "QDHopperBulletEnv-v0\n",
      "{'type': 'multi_map', 'metrics': ['eval_fitness', 'evolvability', 'innovation']}\n",
      "<Run adam_katona/uncategorized/vidkqe4i (failed)>\n",
      "{'type': 'single_map', 'metrics': ['eval_fitness']}\n",
      "<Run adam_katona/uncategorized/qdloow7p (failed)>\n",
      "{'type': 'single_map', 'metrics': ['eval_fitness']}\n",
      "<Run adam_katona/uncategorized/bchikxpa (failed)>\n",
      "QDHalfCheetahBulletEnv-v0\n",
      "{'type': 'single_map', 'metrics': ['eval_fitness']}\n",
      "<Run adam_katona/uncategorized/s0w362cd (finished)>\n",
      "{'type': 'single_map', 'metrics': ['eval_fitness']}\n",
      "<Run adam_katona/uncategorized/4kpar3iw (finished)>\n",
      "{'type': 'single_map', 'metrics': ['eval_fitness']}\n",
      "<Run adam_katona/uncategorized/o8vtrufz (finished)>\n"
     ]
    }
   ],
   "source": [
    "for env,runs in env_runs_dict.items():\n",
    "    print(env)\n",
    "    for run in runs:\n",
    "        print(run.config[\"BMAP_type_and_metrics\"])\n",
    "        print(run)"
   ]
  },
  {
   "cell_type": "code",
   "execution_count": 25,
   "metadata": {},
   "outputs": [
    {
     "data": {
      "text/plain": [
       "Index(['current_evolvability', 'best_fitness_so_far', '_step', '_runtime',\n",
       "       'current_children_fitness_std', 'current_children_fitness_mean',\n",
       "       'current_innovation', 'best_evolvability_so_far',\n",
       "       'current_eval_fitness', 'evaluations_so_far', 'generation_number',\n",
       "       '_timestamp', 'cumm_qd_score', 'b_map_cumm_plot', 'b_map_plot',\n",
       "       'b_map_accumulation_plot', 'cumm_nonempty_cells', 'nonempty_ratio',\n",
       "       'qd_score', 'cumm_nonempty_ratio', 'nonempty_cells'],\n",
       "      dtype='object')"
      ]
     },
     "execution_count": 25,
     "metadata": {},
     "output_type": "execute_result"
    }
   ],
   "source": [
    "df.keys()"
   ]
  },
  {
   "cell_type": "code",
   "execution_count": 36,
   "metadata": {},
   "outputs": [
    {
     "data": {
      "text/plain": [
       "{'ES_lr': 0.01,\n",
       " 'env_id': 'QDHopperBulletEnv-v0',\n",
       " 'ES_sigma': 0.02,\n",
       " 'env_args': {'use_norm_obs': True},\n",
       " 'ES_popsize': 2000,\n",
       " 'ES_L2_COEFF': 0.005,\n",
       " 'policy_args': {'init': 'normc',\n",
       "  'layers': [128, 128],\n",
       "  'activation': 'tanh',\n",
       "  'action_noise': 0.01},\n",
       " 'ALGORITHM_TYPE': 'PLAIN_ES',\n",
       " 'PLOT_FREQUENCY': 100,\n",
       " 'ES_OPTIMIZER_TYPE': 'ADAM',\n",
       " 'GA_MUTATION_POWER': 0.02,\n",
       " 'ES_NUM_GENERATIONS': 1000,\n",
       " 'GA_NUM_EVALUATIONS': 10,\n",
       " 'CHECKPOINT_FREQUENCY': 100,\n",
       " 'GA_MULTI_PARENT_MODE': True,\n",
       " 'BMAP_type_and_metrics': {'type': 'multi_map',\n",
       "  'metrics': ['eval_fitness', 'evolvability', 'innovation']},\n",
       " 'ES_UPDATES_MODES_TO_USE': ['evolvability'],\n",
       " 'ES_EVALUATION_BATCH_SIZE': 5,\n",
       " 'ES_PARENT_SELECTION_MODE': 'rank_proportional',\n",
       " 'GA_PARENT_SELECTION_MODE': 'rank_proportional',\n",
       " 'ES_CENTRAL_NUM_EVALUATIONS': 30,\n",
       " 'GA_CHILDREN_PER_GENERATION': 200,\n",
       " 'map_elites_grid_description': {'bc_limits': [[0, 1], [0, 1], [0, 1], [0, 1]],\n",
       "  'grid_dims': [6, 6, 6, 6]},\n",
       " 'GA_MAP_ELITES_NUM_GENERATIONS': 1000,\n",
       " 'ES_ND_SORT_MAX_FRONT_SIZE_TO_KEEP': 6,\n",
       " 'NOVELTY_CALCULATION_NUM_NEIGHBORS': 10,\n",
       " 'ES_STEPS_UNTIL_NEW_PARENT_SELECTION': 5,\n",
       " 'FILL_MAP_WITH_OFFSPRING_NUM_CHILDREN': 2000,\n",
       " 'ES_RANK_PROPORTIONAL_SELECTION_AGRESSIVENESS': 1,\n",
       " 'GA_RANK_PROPORTIONAL_SELECTION_AGRESSIVENESS': 1,\n",
       " 'ES_NUM_INITIAL_RANDOM_INDIVIDUALS_TO_POPULATE_MAP': 20,\n",
       " 'FILL_MAP_WITH_OFFSPRING_MEASURE_EVERY_N_GENERATIONS': 100}"
      ]
     },
     "execution_count": 36,
     "metadata": {},
     "output_type": "execute_result"
    }
   ],
   "source": [
    "sweep_runs[0].config"
   ]
  },
  {
   "cell_type": "code",
   "execution_count": 30,
   "metadata": {},
   "outputs": [
    {
     "data": {
      "text/plain": [
       "[<matplotlib.lines.Line2D at 0x7fad8bf6ae80>]"
      ]
     },
     "execution_count": 30,
     "metadata": {},
     "output_type": "execute_result"
    },
    {
     "data": {
      "image/png": "[encoded data removed]",
      "text/plain": [
       "<Figure size 432x288 with 1 Axes>"
      ]
     },
     "metadata": {
      "needs_background": "light"
     },
     "output_type": "display_data"
    }
   ],
   "source": [
    "plt.plot(df[\"current_eval_fitness\"])"
   ]
  },
  {
   "cell_type": "code",
   "execution_count": null,
   "metadata": {},
   "outputs": [],
   "source": []
  }
 ],
 "metadata": {
  "kernelspec": {
   "display_name": "Python 3",
   "language": "python",
   "name": "python3"
  },
  "language_info": {
   "codemirror_mode": {
    "name": "ipython",
    "version": 3
   },
   "file_extension": ".py",
   "mimetype": "text/x-python",
   "name": "python",
   "nbconvert_exporter": "python",
   "pygments_lexer": "ipython3",
   "version": "3.8.10"
  }
 },
 "nbformat": 4,
 "nbformat_minor": 4
}
