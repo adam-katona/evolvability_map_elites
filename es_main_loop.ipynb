{
 "cells": [
  {
   "cell_type": "code",
   "execution_count": 1,
   "metadata": {},
   "outputs": [],
   "source": [
    "from dask.distributed import Client\n",
    "import dask\n",
    "import matplotlib.pyplot as plt\n",
    "\n",
    "import os\n",
    "os.environ[\"MKL_NUM_THREADS\"] = \"1\" \n",
    "os.environ[\"NUMEXPR_NUM_THREADS\"] = \"1\" \n",
    "os.environ[\"OMP_NUM_THREADS\"] = \"1\" \n",
    "import numpy as np"
   ]
  },
  {
   "cell_type": "code",
   "execution_count": 2,
   "metadata": {},
   "outputs": [],
   "source": [
    "import os\n",
    "os.chdir(\"/scratch/ak1774/runs\")"
   ]
  },
  {
   "cell_type": "code",
   "execution_count": 3,
   "metadata": {},
   "outputs": [],
   "source": [
    "client = Client(n_workers=10, threads_per_worker=1)"
   ]
  },
  {
   "cell_type": "code",
   "execution_count": 4,
   "metadata": {},
   "outputs": [],
   "source": [
    "def set_up_worker():\n",
    "    import os\n",
    "    os.environ[\"MKL_NUM_THREADS\"] = \"1\" \n",
    "    os.environ[\"NUMEXPR_NUM_THREADS\"] = \"1\" \n",
    "    os.environ[\"OMP_NUM_THREADS\"] = \"1\" \n",
    "    \n",
    "client.run(set_up_worker);"
   ]
  },
  {
   "cell_type": "code",
   "execution_count": 5,
   "metadata": {},
   "outputs": [],
   "source": [
    "%load_ext autoreload\n",
    "%autoreload 2"
   ]
  },
  {
   "cell_type": "code",
   "execution_count": 6,
   "metadata": {},
   "outputs": [],
   "source": [
    "from es_map import es_update\n",
    "from es_map import distributed_evaluate\n",
    "from es_map.interaction import interaction\n",
    "from es_map import behavior_map\n",
    "from es_map import novelty_archive\n",
    "from es_map import map_elite_utils"
   ]
  },
  {
   "cell_type": "code",
   "execution_count": 7,
   "metadata": {},
   "outputs": [],
   "source": [
    "config = {\n",
    "    \"env_id\" : \"DamageAnt-v2\",\n",
    "    \"policy_args\" : {\n",
    "        \"init\" : \"normc\",\n",
    "        \"layers\" :[256, 256],\n",
    "       \"activation\" : 'tanh',\n",
    "       \"action_noise\" : 0.01,\n",
    "    },\n",
    "    \"env_args\" : {\n",
    "        \"use_norm_obs\" : True,\n",
    "    },\n",
    "    \n",
    "    \"ES_NUM_INITIAL_RANDOM_INDIVIDUALS_TO_POPULATE_MAP\" : 20,\n",
    "    \n",
    "    \"ES_NUM_GENERATIONS\" : 1000,\n",
    "    \"ES_popsize\" : 100,\n",
    "    \"ES_sigma\" : 0.02,\n",
    "    \"ES_EVALUATION_BATCH_SIZE\" : 5,\n",
    "    \"ES_lr\" : 0.01,\n",
    "    \n",
    "    \"ES_CENTRAL_NUM_EVALUATIONS\" : 30,\n",
    "    \"ES_STEPS_UNTIL_NEW_PARENT_SELECTION\" : 5,\n",
    "    \n",
    "    \"GA_MAP_ELITES_NUM_GENERATIONS\" : 1000,\n",
    "    \n",
    "    \"GA_CHILDREN_PER_GENERATION\" : 200,\n",
    "    \"GA_NUM_EVALUATIONS\" : 10,\n",
    "    \n",
    "    \"GA_MULTI_PARENT_MODE\" : True,\n",
    "    \"GA_PARENT_SELECTION_MODE\" : \"rank_proportional\",  # \"uniform\", \"rank_proportional\"\n",
    "    \"GA_RANK_PROPORTIONAL_SELECTION_AGRESSIVENESS\" : 1.0,  # 0.0 uniform, 1.0 normal , higher more agressive\n",
    "    \"GA_MUTATION_POWER\" : 0.02,\n",
    "    \n",
    "    \"map_elites_grid_description\" : {\n",
    "        \"bc_limits\" : [[0,1],[0,1],[0,1],[0,1]],\n",
    "        \"grid_dims\" : [6,6,6,6],\n",
    "    },\n",
    "    \n",
    "    # BMAP settings\n",
    "    \"BMAP_type_and_metrics\" : {\n",
    "        \"type\" : \"single_map\",    # type can be: \"single_map\",\"multi_map\",\"nd_sorted_map\" \n",
    "        \"metrics\" : [\"fitness\"],    # metric can be: [\"f\"],[\"f\",e], [\"f,e,i\"], etc... \n",
    "    },\n",
    "    \"ES_UPDATES_MODES_TO_USE\" : [\"fitness\"],#\"evolvability\",\"innovation\"], # list of updates to use\n",
    "    \"ES_PARENT_SELECTION_MODE\" : \"rank_proportional\",  # \"uniform\", \"rank_proportional\"\n",
    "    \"ES_RANK_PROPORTIONAL_SELECTION_AGRESSIVENESS\" : 1.0,  # 0.0 uniform, 1.0 normal , higher more agressive\n",
    "    \n",
    "    \"NOVELTY_CALCULATION_NUM_NEIGHBORS\" : 10,\n",
    "    \n",
    "    \n",
    "    \"CHECKPOINT_FREQUENCY\" : 100,\n",
    "    \"PLOT_FREQUENCY\" : 100,\n",
    "}"
   ]
  },
  {
   "cell_type": "code",
   "execution_count": 8,
   "metadata": {},
   "outputs": [
    {
     "name": "stderr",
     "output_type": "stream",
     "text": [
      "wandb: Currently logged in as: adam_katona (use `wandb login --relogin` to force relogin)\n",
      "wandb: wandb version 0.12.9 is available!  To upgrade, please run:\n",
      "wandb:  $ pip install wandb --upgrade\n"
     ]
    },
    {
     "data": {
      "text/html": [
       "\n",
       "                    Syncing run <strong><a href=\"https://wandb.ai/adam_katona/evolvability_map_elites/runs/984vqkhn\" target=\"_blank\">ancient-sky-39</a></strong> to <a href=\"https://wandb.ai/adam_katona/evolvability_map_elites\" target=\"_blank\">Weights & Biases</a> (<a href=\"https://docs.wandb.com/integrations/jupyter.html\" target=\"_blank\">docs</a>).<br/>\n",
       "\n",
       "                "
      ],
      "text/plain": [
       "<IPython.core.display.HTML object>"
      ]
     },
     "metadata": {},
     "output_type": "display_data"
    }
   ],
   "source": [
    "wandb_logging = True\n",
    "if wandb_logging is True:\n",
    "    import wandb\n",
    "    config\n",
    "    #wandb.config = config\n",
    "    wandb.init(project=\"evolvability_map_elites\", entity=\"adam_katona\")\n",
    "    wandb.run.name = \"me_es_test\"\n",
    "    wandb.run.config.update(config)\n",
    "\n",
    "    run_name = wandb.run.dir.split(\"/\")[-2]\n",
    "    run_checkpoint_path = \"/scratch/ak1774/runs/large_files/\" + run_name\n",
    "    os.makedirs(run_checkpoint_path,exist_ok=True)"
   ]
  },
  {
   "cell_type": "code",
   "execution_count": 9,
   "metadata": {},
   "outputs": [],
   "source": [
    "import itertools\n",
    "        \n",
    "def create_id_generator():\n",
    "    counter = itertools.count()\n",
    "    def get_next_id():\n",
    "        return next(counter)\n",
    "    return get_next_id\n",
    "    \n",
    "get_next_individual_id = create_id_generator()"
   ]
  },
  {
   "cell_type": "code",
   "execution_count": null,
   "metadata": {},
   "outputs": [],
   "source": []
  },
  {
   "cell_type": "code",
   "execution_count": 10,
   "metadata": {},
   "outputs": [],
   "source": [
    "####################\n",
    "## SINGLE MAP ######\n",
    "####################"
   ]
  },
  {
   "cell_type": "code",
   "execution_count": 28,
   "metadata": {},
   "outputs": [
    {
     "name": "stderr",
     "output_type": "stream",
     "text": [
      "[autoreload of es_map.es_map_elites failed: Traceback (most recent call last):\n",
      "  File \"/scratch/ak1774/vargpu_env/lib/python3.8/site-packages/IPython/extensions/autoreload.py\", line 245, in check\n",
      "    superreload(m, reload, self.old_objects)\n",
      "  File \"/scratch/ak1774/vargpu_env/lib/python3.8/site-packages/IPython/extensions/autoreload.py\", line 394, in superreload\n",
      "    module = reload(module)\n",
      "  File \"/usr/lib/python3.8/imp.py\", line 314, in reload\n",
      "    return importlib.reload(module)\n",
      "  File \"/usr/lib/python3.8/importlib/__init__.py\", line 169, in reload\n",
      "    _bootstrap._exec(spec, module)\n",
      "  File \"<frozen importlib._bootstrap>\", line 604, in _exec\n",
      "  File \"<frozen importlib._bootstrap_external>\", line 848, in exec_module\n",
      "  File \"<frozen importlib._bootstrap>\", line 219, in _call_with_frames_removed\n",
      "  File \"/home/userfs/a/ak1774/workspace/evolvability_map_elites/evolvability_map_elites/es_map/es_map_elites.py\", line 9, in <module>\n",
      "    from es_map import nd_sort\n",
      "  File \"/home/userfs/a/ak1774/workspace/evolvability_map_elites/evolvability_map_elites/es_map/nd_sort.py\", line 5\n",
      "    def nd_sort_get_first_front(fitnesses)\n",
      "                                         ^\n",
      "SyntaxError: invalid syntax\n",
      "]\n"
     ]
    }
   ],
   "source": [
    "import numpy as np"
   ]
  },
  {
   "cell_type": "code",
   "execution_count": 29,
   "metadata": {},
   "outputs": [
    {
     "data": {
      "text/plain": [
       "0.0"
      ]
     },
     "execution_count": 29,
     "metadata": {},
     "output_type": "execute_result"
    }
   ],
   "source": [
    "np.sum([])"
   ]
  },
  {
   "cell_type": "code",
   "execution_count": 32,
   "metadata": {},
   "outputs": [],
   "source": [
    "a = np.ones([3,4,4])"
   ]
  },
  {
   "cell_type": "code",
   "execution_count": 34,
   "metadata": {},
   "outputs": [],
   "source": [
    "def f(x):\n",
    "    if x is None:\n",
    "        return 2\n",
    "    else:\n",
    "        return x+1\n",
    "vf = np.vectorize(f)"
   ]
  },
  {
   "cell_type": "code",
   "execution_count": 35,
   "metadata": {},
   "outputs": [
    {
     "data": {
      "text/plain": [
       "array([[[2., 2., 2., 2.],\n",
       "        [2., 2., 2., 2.],\n",
       "        [2., 2., 2., 2.],\n",
       "        [2., 2., 2., 2.]],\n",
       "\n",
       "       [[2., 2., 2., 2.],\n",
       "        [2., 2., 2., 2.],\n",
       "        [2., 2., 2., 2.],\n",
       "        [2., 2., 2., 2.]],\n",
       "\n",
       "       [[2., 2., 2., 2.],\n",
       "        [2., 2., 2., 2.],\n",
       "        [2., 2., 2., 2.],\n",
       "        [2., 2., 2., 2.]]])"
      ]
     },
     "execution_count": 35,
     "metadata": {},
     "output_type": "execute_result"
    }
   ],
   "source": [
    "vf(a)"
   ]
  },
  {
   "cell_type": "code",
   "execution_count": 39,
   "metadata": {},
   "outputs": [
    {
     "data": {
      "text/plain": [
       "32.0"
      ]
     },
     "execution_count": 39,
     "metadata": {},
     "output_type": "execute_result"
    }
   ],
   "source": [
    "np.ceil(np.sqrt(1000))"
   ]
  },
  {
   "cell_type": "code",
   "execution_count": 43,
   "metadata": {},
   "outputs": [],
   "source": [
    "a = np.array([None]*6)"
   ]
  },
  {
   "cell_type": "code",
   "execution_count": 44,
   "metadata": {},
   "outputs": [],
   "source": [
    "a[:3] = np.array([1,2,3])"
   ]
  },
  {
   "cell_type": "code",
   "execution_count": 51,
   "metadata": {},
   "outputs": [
    {
     "data": {
      "text/plain": [
       "False"
      ]
     },
     "execution_count": 51,
     "metadata": {},
     "output_type": "execute_result"
    }
   ],
   "source": [
    "a1 = [1,2]\n",
    "a = [3,3,5]\n",
    "a1 in []\n",
    "        "
   ]
  },
  {
   "cell_type": "code",
   "execution_count": 53,
   "metadata": {},
   "outputs": [
    {
     "data": {
      "text/plain": [
       "[<matplotlib.lines.Line2D at 0x7f9b1b236c40>]"
      ]
     },
     "execution_count": 53,
     "metadata": {},
     "output_type": "execute_result"
    },
    {
     "data": {
      "image/png": "[encoded data removed]",
      "text/plain": [
       "<Figure size 432x288 with 1 Axes>"
      ]
     },
     "metadata": {
      "needs_background": "light"
     },
     "output_type": "display_data"
    }
   ],
   "source": [
    "fig,ax = plt.subplots()\n",
    "ax.plot(a)\n",
    "ax.plot([2,3,1])"
   ]
  },
  {
   "cell_type": "code",
   "execution_count": 54,
   "metadata": {},
   "outputs": [
    {
     "data": {
      "image/png": "[encoded data removed]",
      "text/plain": [
       "<Figure size 432x288 with 1 Axes>"
      ]
     },
     "execution_count": 54,
     "metadata": {},
     "output_type": "execute_result"
    }
   ],
   "source": [
    "fig"
   ]
  },
  {
   "cell_type": "code",
   "execution_count": null,
   "metadata": {},
   "outputs": [],
   "source": []
  },
  {
   "cell_type": "code",
   "execution_count": null,
   "metadata": {},
   "outputs": [],
   "source": []
  },
  {
   "cell_type": "code",
   "execution_count": 23,
   "metadata": {},
   "outputs": [
    {
     "name": "stderr",
     "output_type": "stream",
     "text": [
      "[autoreload of es_map.es_map_elites failed: Traceback (most recent call last):\n",
      "  File \"/scratch/ak1774/vargpu_env/lib/python3.8/site-packages/IPython/extensions/autoreload.py\", line 245, in check\n",
      "    superreload(m, reload, self.old_objects)\n",
      "  File \"/scratch/ak1774/vargpu_env/lib/python3.8/site-packages/IPython/extensions/autoreload.py\", line 394, in superreload\n",
      "    module = reload(module)\n",
      "  File \"/usr/lib/python3.8/imp.py\", line 314, in reload\n",
      "    return importlib.reload(module)\n",
      "  File \"/usr/lib/python3.8/importlib/__init__.py\", line 169, in reload\n",
      "    _bootstrap._exec(spec, module)\n",
      "  File \"<frozen importlib._bootstrap>\", line 604, in _exec\n",
      "  File \"<frozen importlib._bootstrap_external>\", line 844, in exec_module\n",
      "  File \"<frozen importlib._bootstrap_external>\", line 981, in get_code\n",
      "  File \"<frozen importlib._bootstrap_external>\", line 911, in source_to_code\n",
      "  File \"<frozen importlib._bootstrap>\", line 219, in _call_with_frames_removed\n",
      "  File \"/home/userfs/a/ak1774/workspace/evolvability_map_elites/evolvability_map_elites/es_map/es_map_elites.py\", line 256\n",
      "    else: # Single map\n",
      "    ^\n",
      "IndentationError: expected an indented block\n",
      "]\n"
     ]
    }
   ],
   "source": [
    "a = [1,2,3,4]"
   ]
  },
  {
   "cell_type": "code",
   "execution_count": 26,
   "metadata": {},
   "outputs": [
    {
     "data": {
      "text/plain": [
       "[1, 2, 3, 4]"
      ]
     },
     "execution_count": 26,
     "metadata": {},
     "output_type": "execute_result"
    }
   ],
   "source": [
    "a[:7]"
   ]
  },
  {
   "cell_type": "code",
   "execution_count": 27,
   "metadata": {},
   "outputs": [
    {
     "data": {
      "text/plain": [
       "array([[1, 2],\n",
       "       [3, 4]])"
      ]
     },
     "execution_count": 27,
     "metadata": {},
     "output_type": "execute_result"
    }
   ],
   "source": [
    "np.stack([[1,2],[3,4]])"
   ]
  },
  {
   "cell_type": "code",
   "execution_count": null,
   "metadata": {},
   "outputs": [],
   "source": []
  },
  {
   "cell_type": "code",
   "execution_count": 56,
   "metadata": {},
   "outputs": [],
   "source": [
    "import torch"
   ]
  },
  {
   "cell_type": "code",
   "execution_count": 87,
   "metadata": {},
   "outputs": [],
   "source": [
    "a = torch.randn(3)\n",
    "a1 = torch.nn.Parameter(a.clone())\n",
    "a2 = torch.nn.Parameter(a.clone())\n",
    "sgd = torch.optim.SGD([a1],lr=0.01)\n",
    "adam = torch.optim.Adam([a1],lr=0.01)"
   ]
  },
  {
   "cell_type": "code",
   "execution_count": 89,
   "metadata": {},
   "outputs": [
    {
     "name": "stdout",
     "output_type": "stream",
     "text": [
      "Parameter containing:\n",
      "tensor([-1.1662, -0.3570, -1.0755], requires_grad=True)\n",
      "Parameter containing:\n",
      "tensor([-1.1727, -0.3439, -1.0945], requires_grad=True)\n"
     ]
    }
   ],
   "source": [
    "grad = torch.randn(3)\n",
    "a1.grad = grad.clone()\n",
    "a2.grad = grad.clone()\n",
    "sgd.step()\n",
    "print(a1)\n",
    "adam.step()\n",
    "print(a2)"
   ]
  },
  {
   "cell_type": "code",
   "execution_count": null,
   "metadata": {},
   "outputs": [],
   "source": []
  },
  {
   "cell_type": "code",
   "execution_count": 82,
   "metadata": {},
   "outputs": [
    {
     "name": "stdout",
     "output_type": "stream",
     "text": [
      "Parameter containing:\n",
      "tensor([-1.7781, -1.6267,  0.4675], requires_grad=True)\n",
      "Parameter containing:\n",
      "tensor([-1.7781, -1.6267,  0.4675], requires_grad=True)\n"
     ]
    }
   ],
   "source": [
    "\n"
   ]
  },
  {
   "cell_type": "code",
   "execution_count": 78,
   "metadata": {},
   "outputs": [],
   "source": [
    "optim.load_state_dict(optim.state_dict())"
   ]
  },
  {
   "cell_type": "code",
   "execution_count": 79,
   "metadata": {},
   "outputs": [
    {
     "data": {
      "text/plain": [
       "{'state': {0: {'step': 1,\n",
       "   'exp_avg': tensor([-1.0497e-01,  1.0641e-01, -2.6047e-02, -2.3925e-02, -3.2195e-02,\n",
       "            1.5132e-01,  1.3294e-01,  7.1574e-02,  1.6160e-01, -2.9640e-02,\n",
       "           -7.2179e-03,  1.9616e-01, -9.8143e-02, -3.5410e-02,  2.7050e-02,\n",
       "           -2.0221e-01,  1.3035e-02, -1.3770e-01,  1.1939e-01,  1.7022e-01,\n",
       "            3.7447e-02, -6.0189e-02, -2.7245e-02, -1.4125e-02, -1.6534e-01,\n",
       "           -6.6010e-02, -5.9216e-02, -3.8937e-02,  1.5546e-01, -2.9956e-02,\n",
       "            1.7500e-01, -1.2481e-01,  2.0378e-01, -1.0554e-01, -9.6572e-02,\n",
       "           -5.7930e-02,  4.4368e-02,  2.3544e-02,  1.9907e-02,  1.4801e-01,\n",
       "           -5.9930e-02, -2.8463e-02,  2.8150e-02, -9.5624e-02, -1.5445e-01,\n",
       "           -4.1884e-02, -9.7244e-02,  6.0231e-02,  8.9551e-02,  4.1776e-02,\n",
       "           -2.2697e-02, -9.7762e-02, -1.2364e-01, -5.7126e-02,  3.9547e-02,\n",
       "            4.3314e-02, -1.0980e-02, -1.8337e-03,  1.2950e-01,  2.0477e-02,\n",
       "            1.1682e-01, -1.4747e-01, -7.7606e-02, -1.7290e-02,  8.9418e-02,\n",
       "           -2.0205e-01,  1.2682e-01, -4.8538e-02, -2.0406e-01, -1.0090e-01,\n",
       "           -1.3695e-01, -3.0801e-02,  6.8962e-02, -4.6151e-02, -1.1311e-01,\n",
       "           -1.7287e-01,  3.2050e-02, -1.0200e-01,  1.8224e-02,  7.8470e-02,\n",
       "           -4.4421e-03,  4.8947e-02, -8.0662e-02, -4.5978e-02,  1.8141e-01,\n",
       "            1.7979e-03, -4.8807e-02,  1.9279e-01, -8.9537e-02,  1.0148e-02,\n",
       "            1.6168e-01, -2.7414e-02, -1.0182e-01, -2.0409e-02, -8.2163e-02,\n",
       "            1.1161e-01, -3.4850e-02,  2.5189e-01, -3.8873e-02, -7.0397e-02,\n",
       "            7.5063e-03, -1.3823e-01, -6.3349e-02,  4.7147e-02,  7.2706e-02,\n",
       "            1.6796e-01, -1.3610e-01,  7.8283e-02,  2.4208e-02, -1.5726e-01,\n",
       "           -2.3074e-02, -8.8257e-02, -2.6845e-02, -6.4721e-02, -1.0787e-01,\n",
       "            1.5018e-01,  1.1728e-01,  6.5974e-02,  9.7156e-02,  1.0017e-01,\n",
       "            2.4830e-02,  3.5191e-01, -7.6180e-02, -7.2565e-02,  1.0528e-02,\n",
       "            9.1493e-02,  6.5047e-02, -3.2823e-02,  1.3767e-01, -4.0863e-02,\n",
       "            2.6434e-01,  4.6336e-02,  1.5357e-01, -7.5860e-03, -4.0045e-02,\n",
       "           -9.4162e-02, -1.5211e-01, -6.4266e-02,  9.2279e-02,  1.5878e-02,\n",
       "           -4.5324e-02, -1.0862e-01, -2.2873e-02, -4.7904e-02, -1.8538e-01,\n",
       "           -6.6149e-02,  9.3517e-02, -7.3591e-02, -5.8378e-03, -7.9866e-02,\n",
       "            1.5232e-01,  5.0158e-03,  1.6465e-02,  2.4708e-02, -1.5766e-01,\n",
       "            9.9468e-02, -2.0855e-01, -5.4127e-02,  1.6851e-01, -1.3587e-01,\n",
       "            2.2340e-01, -4.7438e-02, -4.9966e-02, -2.4293e-01,  8.3482e-02,\n",
       "           -3.8560e-02, -3.2134e-02, -1.1299e-01,  1.3974e-01, -6.5796e-02,\n",
       "            6.8620e-03, -7.1900e-02,  1.6430e-02,  1.8080e-02, -2.0686e-01,\n",
       "            1.6152e-01,  1.5366e-01, -4.2251e-02,  1.1590e-01,  5.0545e-02,\n",
       "            7.8798e-02,  8.2370e-02,  1.2942e-01, -1.3868e-01,  1.2410e-01,\n",
       "           -9.3508e-02, -1.8048e-01, -8.1906e-02,  6.9706e-02,  9.1377e-02,\n",
       "            2.3866e-02,  2.9281e-02,  8.3013e-02, -4.6534e-03,  8.5979e-02,\n",
       "            7.2165e-02,  2.8699e-02,  1.1194e-01, -6.0393e-02,  2.5969e-02,\n",
       "           -7.9212e-02,  3.4775e-02, -2.8987e-02,  6.7563e-02,  1.1594e-01,\n",
       "            2.7984e-02,  6.1956e-02,  3.3218e-02, -6.5713e-02,  7.9779e-02,\n",
       "           -2.8687e-02, -4.1747e-02,  1.5000e-01, -7.8393e-03, -3.4556e-02,\n",
       "            2.0369e-01,  8.0651e-02,  8.0367e-02,  4.8515e-02, -1.4040e-01,\n",
       "            1.0014e-01, -4.3352e-02,  5.6500e-02, -4.2410e-02, -2.4899e-01,\n",
       "            5.6600e-02,  1.9343e-01,  1.3376e-01, -1.3913e-01, -7.4086e-02,\n",
       "           -3.3598e-02,  8.5625e-03, -1.6570e-02,  5.4190e-02, -9.3896e-02,\n",
       "           -9.2774e-02,  1.1712e-01, -2.4360e-03,  5.7750e-02,  3.4382e-02,\n",
       "            4.4779e-02, -1.2666e-01, -1.1379e-02,  1.3307e-01,  9.2036e-02,\n",
       "            2.0063e-01,  2.4683e-02,  3.5802e-03, -3.2624e-02, -6.0746e-02,\n",
       "           -4.6851e-02,  1.1887e-02, -2.8372e-02,  8.4359e-02, -2.3872e-02,\n",
       "           -1.1405e-01,  9.0595e-02,  7.5649e-02,  4.3006e-02, -3.0949e-02,\n",
       "           -1.1618e-01,  2.0951e-02,  1.5642e-01, -4.8023e-02,  1.0528e-01,\n",
       "            1.3163e-01, -7.2844e-02,  1.1444e-01,  2.3504e-01,  1.1047e-01,\n",
       "           -3.3423e-02, -2.3985e-02, -7.7480e-02,  7.1459e-02, -1.6819e-02,\n",
       "            1.2600e-01, -7.0550e-02,  5.4556e-04, -5.9239e-02, -4.1913e-02,\n",
       "           -8.5644e-02,  3.2712e-02, -1.1572e-01,  2.5950e-02, -5.9427e-02,\n",
       "            6.5527e-02,  1.7275e-01,  2.3811e-02,  2.2533e-02, -2.7551e-02,\n",
       "            1.4899e-01,  8.8953e-02, -1.6658e-01,  5.7137e-03, -1.7911e-01,\n",
       "            3.4145e-02,  6.5874e-02, -1.5876e-01,  5.8576e-02, -1.1274e-02,\n",
       "            2.0741e-01, -4.9182e-02, -4.5853e-02,  5.5992e-02,  2.6891e-04,\n",
       "            1.5735e-02, -2.0590e-01,  1.1227e-01, -1.2356e-01, -4.0588e-02,\n",
       "            1.4625e-02, -6.7145e-02,  4.9411e-02, -5.0856e-02,  5.4993e-02,\n",
       "            7.3293e-02, -1.6861e-02, -5.3408e-02,  1.2466e-01, -4.7513e-02,\n",
       "            1.0801e-01, -1.0216e-01, -1.4722e-01,  1.7765e-01, -2.2209e-01,\n",
       "            4.1471e-02, -1.8787e-01, -2.7432e-01,  1.5667e-01, -8.4646e-02,\n",
       "            8.8621e-02,  8.8050e-02,  1.2143e-01, -1.9260e-01, -4.2595e-02,\n",
       "            7.3791e-02, -1.9323e-01, -1.3723e-01, -9.4228e-02,  4.8074e-03,\n",
       "           -3.4360e-02,  6.9087e-02,  7.3711e-02,  1.5971e-01, -3.2260e-02,\n",
       "           -8.3356e-03,  1.0794e-01,  1.5897e-01,  8.0770e-02,  1.8654e-02,\n",
       "           -2.2206e-02,  5.5473e-02, -5.4046e-02, -5.8338e-02,  1.3143e-01,\n",
       "            3.1823e-02,  4.0884e-02,  1.0494e-02,  1.4967e-02, -2.0163e-01,\n",
       "            1.6935e-02,  7.9826e-02,  4.1572e-02, -8.3182e-02, -1.2362e-01,\n",
       "           -3.5563e-02,  1.7320e-01,  2.3386e-01, -7.9813e-02,  1.5032e-01,\n",
       "           -4.2198e-02,  2.2766e-01,  6.7814e-02,  2.0623e-02, -7.2239e-02,\n",
       "            1.4776e-01, -6.3838e-02,  6.1299e-02,  1.3505e-01, -5.2336e-02,\n",
       "           -8.4848e-02,  2.6786e-02, -1.0926e-02,  7.2775e-02,  1.8149e-01,\n",
       "            1.2732e-01,  6.1473e-03, -5.4668e-02,  5.3676e-02, -1.4239e-01,\n",
       "           -2.5612e-02,  6.8542e-02, -4.3853e-02, -1.7246e-01,  9.0354e-02,\n",
       "           -3.9726e-03, -5.6916e-02,  3.7160e-03,  2.1120e-02,  1.3870e-02,\n",
       "           -2.0632e-01,  1.0232e-01, -1.4126e-01,  5.9022e-02, -1.6160e-01,\n",
       "           -5.1654e-03,  8.4243e-02, -8.9390e-02,  3.6400e-02, -7.4165e-02,\n",
       "           -3.7093e-02, -2.7480e-02, -3.3256e-03, -1.4110e-01, -2.4898e-02,\n",
       "            7.6258e-02,  6.1478e-02,  5.1809e-02,  4.2683e-02, -1.1331e-01,\n",
       "            1.9245e-02, -2.1942e-02, -7.3730e-02,  1.9763e-02,  6.5740e-02,\n",
       "           -4.7180e-02, -3.5876e-02, -6.5122e-02, -3.2193e-02,  1.4536e-01,\n",
       "           -9.1378e-03,  1.0587e-03, -8.2030e-02, -2.6392e-02, -1.7668e-02,\n",
       "            2.5640e-02, -1.1243e-01, -2.1834e-02,  1.0523e-01, -7.9690e-02,\n",
       "           -8.1663e-02, -2.5177e-02,  1.7360e-01,  1.5684e-02,  1.1627e-02,\n",
       "           -1.5121e-01, -1.0996e-02,  1.9359e-02,  9.1608e-02, -7.9092e-02,\n",
       "           -1.4874e-01,  2.6824e-02, -2.9507e-01, -1.1547e-01,  8.9247e-02,\n",
       "            2.6609e-02, -1.3839e-01,  4.2773e-02, -5.0085e-02, -5.7384e-02,\n",
       "           -1.6019e-01,  6.4819e-02,  8.1127e-02,  1.2804e-02, -1.4595e-01,\n",
       "            7.4778e-02,  2.0543e-02, -2.6976e-02,  7.6668e-02,  6.8788e-02,\n",
       "            2.0790e-02, -1.7208e-01,  1.5416e-01,  3.4398e-02,  2.5331e-02,\n",
       "           -9.7591e-02, -4.5851e-02,  5.8096e-02, -1.8032e-01,  1.0883e-01,\n",
       "            2.0527e-02,  1.7286e-01,  5.6662e-03, -3.6987e-02,  4.0599e-03,\n",
       "           -1.8334e-02,  8.8004e-02, -7.2467e-03, -7.6555e-03,  2.2599e-02,\n",
       "            1.0250e-01,  2.7124e-02, -7.5688e-02, -9.1288e-02, -1.2856e-01,\n",
       "            2.1714e-02,  8.5827e-02, -1.6748e-02,  1.9742e-02,  1.0579e-01]),\n",
       "   'exp_avg_sq': tensor([1.1018e-03, 1.1323e-03, 6.7844e-05, 5.7239e-05, 1.0365e-04, 2.2896e-03,\n",
       "           1.7674e-03, 5.1229e-04, 2.6114e-03, 8.7855e-05, 5.2099e-06, 3.8478e-03,\n",
       "           9.6320e-04, 1.2539e-04, 7.3169e-05, 4.0887e-03, 1.6991e-05, 1.8960e-03,\n",
       "           1.4254e-03, 2.8974e-03, 1.4023e-04, 3.6227e-04, 7.4226e-05, 1.9950e-05,\n",
       "           2.7336e-03, 4.3573e-04, 3.5065e-04, 1.5161e-04, 2.4167e-03, 8.9735e-05,\n",
       "           3.0624e-03, 1.5578e-03, 4.1528e-03, 1.1139e-03, 9.3262e-04, 3.3559e-04,\n",
       "           1.9686e-04, 5.5430e-05, 3.9627e-05, 2.1908e-03, 3.5916e-04, 8.1012e-05,\n",
       "           7.9244e-05, 9.1439e-04, 2.3853e-03, 1.7542e-04, 9.4565e-04, 3.6277e-04,\n",
       "           8.0193e-04, 1.7452e-04, 5.1515e-05, 9.5575e-04, 1.5287e-03, 3.2634e-04,\n",
       "           1.5640e-04, 1.8761e-04, 1.2055e-05, 3.3623e-07, 1.6770e-03, 4.1933e-05,\n",
       "           1.3647e-03, 2.1747e-03, 6.0226e-04, 2.9895e-05, 7.9956e-04, 4.0825e-03,\n",
       "           1.6084e-03, 2.3559e-04, 4.1641e-03, 1.0182e-03, 1.8756e-03, 9.4871e-05,\n",
       "           4.7558e-04, 2.1299e-04, 1.2794e-03, 2.9884e-03, 1.0272e-04, 1.0404e-03,\n",
       "           3.3211e-05, 6.1575e-04, 1.9732e-06, 2.3958e-04, 6.5064e-04, 2.1139e-04,\n",
       "           3.2909e-03, 3.2326e-07, 2.3821e-04, 3.7169e-03, 8.0168e-04, 1.0298e-05,\n",
       "           2.6139e-03, 7.5153e-05, 1.0367e-03, 4.1651e-05, 6.7508e-04, 1.2456e-03,\n",
       "           1.2145e-04, 6.3449e-03, 1.5111e-04, 4.9558e-04, 5.6345e-06, 1.9107e-03,\n",
       "           4.0130e-04, 2.2228e-04, 5.2862e-04, 2.8212e-03, 1.8523e-03, 6.1282e-04,\n",
       "           5.8603e-05, 2.4731e-03, 5.3243e-05, 7.7893e-04, 7.2064e-05, 4.1888e-04,\n",
       "           1.1635e-03, 2.2554e-03, 1.3755e-03, 4.3526e-04, 9.4392e-04, 1.0033e-03,\n",
       "           6.1654e-05, 1.2384e-02, 5.8034e-04, 5.2657e-04, 1.1083e-05, 8.3709e-04,\n",
       "           4.2311e-04, 1.0774e-04, 1.8952e-03, 1.6698e-04, 6.9877e-03, 2.1470e-04,\n",
       "           2.3585e-03, 5.7548e-06, 1.6036e-04, 8.8664e-04, 2.3138e-03, 4.1301e-04,\n",
       "           8.5155e-04, 2.5211e-05, 2.0543e-04, 1.1798e-03, 5.2315e-05, 2.2948e-04,\n",
       "           3.4366e-03, 4.3757e-04, 8.7454e-04, 5.4157e-04, 3.4080e-06, 6.3786e-04,\n",
       "           2.3202e-03, 2.5158e-06, 2.7110e-05, 6.1050e-05, 2.4857e-03, 9.8939e-04,\n",
       "           4.3492e-03, 2.9297e-04, 2.8395e-03, 1.8462e-03, 4.9906e-03, 2.2504e-04,\n",
       "           2.4966e-04, 5.9014e-03, 6.9693e-04, 1.4868e-04, 1.0326e-04, 1.2767e-03,\n",
       "           1.9527e-03, 4.3291e-04, 4.7087e-06, 5.1696e-04, 2.6996e-05, 3.2688e-05,\n",
       "           4.2792e-03, 2.6089e-03, 2.3612e-03, 1.7851e-04, 1.3432e-03, 2.5548e-04,\n",
       "           6.2091e-04, 6.7848e-04, 1.6749e-03, 1.9233e-03, 1.5400e-03, 8.7437e-04,\n",
       "           3.2574e-03, 6.7087e-04, 4.8589e-04, 8.3498e-04, 5.6956e-05, 8.5735e-05,\n",
       "           6.8911e-04, 2.1654e-06, 7.3924e-04, 5.2078e-04, 8.2366e-05, 1.2530e-03,\n",
       "           3.6473e-04, 6.7439e-05, 6.2745e-04, 1.2093e-04, 8.4023e-05, 4.5648e-04,\n",
       "           1.3442e-03, 7.8312e-05, 3.8385e-04, 1.1035e-04, 4.3182e-04, 6.3647e-04,\n",
       "           8.2293e-05, 1.7428e-04, 2.2499e-03, 6.1454e-06, 1.1941e-04, 4.1489e-03,\n",
       "           6.5046e-04, 6.4589e-04, 2.3537e-04, 1.9712e-03, 1.0028e-03, 1.8794e-04,\n",
       "           3.1922e-04, 1.7986e-04, 6.1996e-03, 3.2036e-04, 3.7417e-03, 1.7893e-03,\n",
       "           1.9358e-03, 5.4887e-04, 1.1288e-04, 7.3316e-06, 2.7456e-05, 2.9366e-04,\n",
       "           8.8165e-04, 8.6071e-04, 1.3717e-03, 5.9343e-07, 3.3351e-04, 1.1821e-04,\n",
       "           2.0052e-04, 1.6043e-03, 1.2948e-05, 1.7707e-03, 8.4707e-04, 4.0251e-03,\n",
       "           6.0923e-05, 1.2818e-06, 1.0644e-04, 3.6900e-04, 2.1950e-04, 1.4130e-05,\n",
       "           8.0498e-05, 7.1164e-04, 5.6986e-05, 1.3007e-03, 8.2074e-04, 5.7228e-04,\n",
       "           1.8495e-04, 9.5786e-05, 1.3497e-03, 4.3895e-05, 2.4467e-03, 2.3063e-04,\n",
       "           1.1084e-03, 1.7327e-03, 5.3062e-04, 1.3098e-03, 5.5245e-03, 1.2204e-03,\n",
       "           1.1171e-04, 5.7529e-05, 6.0031e-04, 5.1064e-04, 2.8289e-05, 1.5876e-03,\n",
       "           4.9774e-04, 2.9764e-08, 3.5093e-04, 1.7567e-04, 7.3348e-04, 1.0701e-04,\n",
       "           1.3391e-03, 6.7342e-05, 3.5316e-04, 4.2937e-04, 2.9843e-03, 5.6694e-05,\n",
       "           5.0775e-05, 7.5906e-05, 2.2198e-03, 7.9126e-04, 2.7748e-03, 3.2647e-06,\n",
       "           3.2081e-03, 1.1659e-04, 4.3394e-04, 2.5205e-03, 3.4312e-04, 1.2711e-05,\n",
       "           4.3018e-03, 2.4189e-04, 2.1025e-04, 3.1351e-04, 7.2315e-09, 2.4760e-05,\n",
       "           4.2393e-03, 1.2605e-03, 1.5267e-03, 1.6473e-04, 2.1389e-05, 4.5084e-04,\n",
       "           2.4414e-04, 2.5864e-04, 3.0242e-04, 5.3718e-04, 2.8431e-05, 2.8524e-04,\n",
       "           1.5541e-03, 2.2575e-04, 1.1666e-03, 1.0437e-03, 2.1674e-03, 3.1560e-03,\n",
       "           4.9322e-03, 1.7198e-04, 3.5294e-03, 7.5254e-03, 2.4546e-03, 7.1649e-04,\n",
       "           7.8537e-04, 7.7528e-04, 1.4746e-03, 3.7096e-03, 1.8143e-04, 5.4451e-04,\n",
       "           3.7338e-03, 1.8831e-03, 8.8790e-04, 2.3111e-06, 1.1806e-04, 4.7730e-04,\n",
       "           5.4333e-04, 2.5507e-03, 1.0407e-04, 6.9483e-06, 1.1651e-03, 2.5270e-03,\n",
       "           6.5238e-04, 3.4798e-05, 4.9309e-05, 3.0773e-04, 2.9210e-04, 3.4033e-04,\n",
       "           1.7275e-03, 1.0127e-04, 1.6715e-04, 1.1012e-05, 2.2400e-05, 4.0655e-03,\n",
       "           2.8679e-05, 6.3721e-04, 1.7283e-04, 6.9193e-04, 1.5283e-03, 1.2648e-04,\n",
       "           2.9997e-03, 5.4692e-03, 6.3700e-04, 2.2595e-03, 1.7807e-04, 5.1827e-03,\n",
       "           4.5988e-04, 4.2532e-05, 5.2185e-04, 2.1834e-03, 4.0753e-04, 3.7575e-04,\n",
       "           1.8237e-03, 2.7390e-04, 7.1992e-04, 7.1747e-05, 1.1937e-05, 5.2962e-04,\n",
       "           3.2939e-03, 1.6211e-03, 3.7789e-06, 2.9885e-04, 2.8811e-04, 2.0275e-03,\n",
       "           6.5599e-05, 4.6980e-04, 1.9230e-04, 2.9743e-03, 8.1638e-04, 1.5781e-06,\n",
       "           3.2395e-04, 1.3809e-06, 4.4607e-05, 1.9237e-05, 4.2568e-03, 1.0469e-03,\n",
       "           1.9955e-03, 3.4837e-04, 2.6114e-03, 2.6681e-06, 7.0969e-04, 7.9906e-04,\n",
       "           1.3250e-04, 5.5004e-04, 1.3759e-04, 7.5513e-05, 1.1060e-06, 1.9909e-03,\n",
       "           6.1992e-05, 5.8153e-04, 3.7796e-04, 2.6842e-04, 1.8218e-04, 1.2838e-03,\n",
       "           3.7037e-05, 4.8144e-05, 5.4361e-04, 3.9056e-05, 4.3218e-04, 2.2259e-04,\n",
       "           1.2871e-04, 4.2409e-04, 1.0364e-04, 2.1129e-03, 8.3500e-06, 1.1207e-07,\n",
       "           6.7290e-04, 6.9654e-05, 3.1217e-05, 6.5739e-05, 1.2641e-03, 4.7673e-05,\n",
       "           1.1073e-03, 6.3505e-04, 6.6689e-04, 6.3386e-05, 3.0137e-03, 2.4598e-05,\n",
       "           1.3519e-05, 2.2863e-03, 1.2091e-05, 3.7478e-05, 8.3920e-04, 6.2556e-04,\n",
       "           2.2125e-03, 7.1951e-05, 8.7067e-03, 1.3334e-03, 7.9651e-04, 7.0807e-05,\n",
       "           1.9153e-03, 1.8295e-04, 2.5086e-04, 3.2930e-04, 2.5660e-03, 4.2015e-04,\n",
       "           6.5817e-04, 1.6395e-05, 2.1301e-03, 5.5918e-04, 4.2202e-05, 7.2772e-05,\n",
       "           5.8780e-04, 4.7317e-04, 4.3221e-05, 2.9610e-03, 2.3765e-03, 1.1832e-04,\n",
       "           6.4165e-05, 9.5240e-04, 2.1023e-04, 3.3751e-04, 3.2514e-03, 1.1845e-03,\n",
       "           4.2135e-05, 2.9880e-03, 3.2105e-06, 1.3680e-04, 1.6483e-06, 3.3612e-05,\n",
       "           7.7447e-04, 5.2515e-06, 5.8606e-06, 5.1073e-05, 1.0506e-03, 7.3572e-05,\n",
       "           5.7286e-04, 8.3335e-04, 1.6528e-03, 4.7152e-05, 7.3663e-04, 2.8050e-05,\n",
       "           3.8975e-05, 1.1192e-03])}},\n",
       " 'param_groups': [{'lr': 0.01,\n",
       "   'betas': (0.9, 0.999),\n",
       "   'eps': 1e-08,\n",
       "   'weight_decay': 0,\n",
       "   'amsgrad': False,\n",
       "   'params': [0]}]}"
      ]
     },
     "execution_count": 79,
     "metadata": {},
     "output_type": "execute_result"
    }
   ],
   "source": [
    "optim.state_dict()"
   ]
  },
  {
   "cell_type": "code",
   "execution_count": 8,
   "metadata": {},
   "outputs": [],
   "source": [
    "def select_parent_es_me(non_empty_cells,config,selection_metric):\n",
    "    if len(non_empty_cells) == 0:\n",
    "            parent_cell = None\n",
    "            parent_params = get_random_individual(config)\n",
    "            parent_obs_mean = None\n",
    "            parent_obs_std = None\n",
    "            \n",
    "    else:\n",
    "        if config[\"ES_PARENT_SELECTION_MODE\"] == \"uniform\":\n",
    "            parent_cell = np.random.choice(non_empty_cells)  # NOTE, here goes cell selection method\n",
    "        elif config[\"ES_PARENT_SELECTION_MODE\"] == \"rank_proportional\":\n",
    "            sorted_cells = sorted(non_empty_cells,key=lambda x : x[\"selection_metric\"])                \n",
    "            selected_index = rank_based_selection(num_parent_candidates=len(sorted_cells),\n",
    "                                                     num_children=None, # only want a single parent\n",
    "                                                     agressiveness=config[\"GA_RANK_PROPORTIONAL_SELECTION_AGRESSIVENESS\"])\n",
    "            parent_cell = sorted_cells[selected_index]\n",
    "\n",
    "        else:\n",
    "            raise \"NOT IMPLEMENTED\"\n",
    "\n",
    "    return parent_cell"
   ]
  },
  {
   "cell_type": "code",
   "execution_count": null,
   "metadata": {},
   "outputs": [],
   "source": [
    "DEBUG = False\n",
    "if DEBUG is True:\n",
    "    config[\"ES_NUM_GENERATIONS\"] = 30\n",
    "    config[\"ES_popsize\"] = 20\n",
    "    config[\"ES_CENTRAL_NUM_EVALUATIONS\"] = 4\n",
    "    \n",
    "\n",
    "b_archive = novelty_archive.NoveltyArchive(bc_dim = len(config[\"map_elites_grid_description\"][\"grid_dims\"]))\n",
    "    \n",
    "run_name = wandb.run.dir.split(\"/\")[-2]\n",
    "run_checkpoint_path = \"/scratch/ak1774/runs/large_files/\" + run_name\n",
    "\n",
    "evaluations_per_generation = config[\"ES_popsize\"] + config[\"ES_CENTRAL_NUM_EVALUATIONS\"] \n",
    "B_MAP_TYPE = config[\"BMAP_type_and_metrics\"][0]\n",
    "B_MAP_METRICS = config[\"BMAP_type_and_metrics\"][1]\n",
    "\n",
    "generation_number = 0\n",
    "evaluations_so_far = 0\n",
    "best_fitness_so_far = 0\n",
    "best_model_so_far = None\n",
    "    \n",
    "\n",
    "# there are several kinds of modes\n",
    "# selection mode (which type of parent we select (this one is only available for multi map))\n",
    "# update mode (which type of es update we do)\n",
    "# archive mode (which type of map we try to insert it to (only available for multi map))\n",
    "    \n",
    "# MODES Summary\n",
    "# I decided not to have selection mode, we select with uniform prob from each map \n",
    "# (this would be only be relevent if we want to have different update probabilities for parents from different maps)\n",
    "# I decided not to have archive mode, we try to archive into all the maps\n",
    "\n",
    "    \n",
    "if B_MAP_TYPE == \"single_map\" or B_MAP_TYPE == \"nd_sorted_map\":\n",
    "    b_map = behavior_map.Grid_behaviour_map(config)\n",
    "    while True\n",
    "        if generation_number >= config[\"ES_NUM_GENERATIONS\"]:\n",
    "            print(\"Done, reached iteration: \",config[\"ES_NUM_GENERATIONS\"])\n",
    "            break\n",
    "            \n",
    "        \n",
    "    \n",
    "        non_empty_cells = b_map.get_non_empty_cells(config)\n",
    "        if len(non_empty_cells) == 0: # no parent available\n",
    "            parent = None # TODO prepare new individual NOTE this should be different because we want to evaluate the parent not the child here\n",
    "        \n",
    "            # evaluate new individual\n",
    "            # can also calculate children to get evolvability and innovation\n",
    "        \n",
    "        \n",
    "        \n",
    "        else:\n",
    "            if B_MAP_TYPE == \"single_map\":\n",
    "                # select parent cell\n",
    "                selection_metric = \"eval_fitness\"\n",
    "                selected_parent_cell = select_parent_es_me(non_empty_cells,config,selection_metric)\n",
    "                parent = selected_parent_cell[\"elite\"]\n",
    "\n",
    "            elif B_MAP_TYPE == \"nd_sorted_map\":\n",
    "                # select parent cell\n",
    "                # for slectinf cells with nd sorted map, we cannot simply use a metric.\n",
    "                # ech cell contains a tradeoff between objectives\n",
    "                # let us do uniform selection from each cell\n",
    "                parent_cell = np.random.choice(non_empty_cells)\n",
    "                \n",
    "                # now let us select an individual form the non dominated front of elites in the cell\n",
    "                parent = np.random.choice(parent_cell[\"elites\"])\n",
    "\n",
    "\n",
    "        \n",
    "        \n",
    "        # decide on update mode (explore,exploit,build_evolvability)\n",
    "        es_update_mode = np.random.choice(config[\"ES_UPDATES_MODES_TO_USE\"])\n",
    "    \n",
    "    \n",
    "    \n",
    "    \n",
    "    \n",
    "elif B_MAP_TYPE == \"multi_map\":\n",
    "    b_map = behavior_map.Grid_behaviour_multi_map(config)\n",
    "    while True:\n",
    "        if generation_number >= config[\"ES_NUM_GENERATIONS\"]:\n",
    "            print(\"Done, reached iteration: \",config[\"ES_NUM_GENERATIONS\"])\n",
    "            break\n",
    "        \n",
    "            # Decide on selection mode (which map we select a parent from) Should we just do uniform from ech map?\n",
    "            # Should which update we do depend on which map we select the parent from?\n",
    "            \n",
    "            # Decide on update mode (it makes sense to mix this up, eg we want to use the evolvable parent to find fit child)\n",
    "            # Decide on archive mode (for fitness we can always test archiving, for innov and evolvability, we need a new evaluation to evaluate)\n",
    "            # once we do the new evaluation, we can try to archive it into all the maps\n",
    "        \n",
    "            non_empty_cells = b_map.get_non_empty_cells(config)\n",
    "        \n",
    "        \n",
    "    \n",
    "    \n",
    "    \n",
    "    \n",
    "    \n",
    "    \n",
    "    \n",
    "    \n",
    "    \n",
    "    \n",
    "    \n",
    "    \n",
    "    \n",
    "    \n",
    "    \n",
    "    \n",
    "    \n",
    "    \n",
    "    generation_number += 1\n"
   ]
  },
  {
   "cell_type": "code",
   "execution_count": null,
   "metadata": {},
   "outputs": [],
   "source": []
  },
  {
   "cell_type": "code",
   "execution_count": null,
   "metadata": {},
   "outputs": [],
   "source": []
  },
  {
   "cell_type": "code",
   "execution_count": null,
   "metadata": {},
   "outputs": [],
   "source": [
    "\n",
    "        \n",
    "        \n",
    "        \n",
    "        "
   ]
  },
  {
   "cell_type": "code",
   "execution_count": null,
   "metadata": {},
   "outputs": [],
   "source": [
    "####################\n",
    "## ND SORTED MAP ###\n",
    "####################"
   ]
  },
  {
   "cell_type": "code",
   "execution_count": null,
   "metadata": {},
   "outputs": [],
   "source": [
    "b_map = behavior_map.Grid_behaviour_map(config)\n",
    "while True:\n",
    "    if generation_number >= config[\"ES_NUM_GENERATIONS\"]:\n",
    "        print(\"Done, reached iteration: \",config[\"ES_NUM_GENERATIONS\"])\n",
    "        break"
   ]
  },
  {
   "cell_type": "code",
   "execution_count": null,
   "metadata": {},
   "outputs": [],
   "source": [
    "####################\n",
    "## MULTI MAP #######\n",
    "####################"
   ]
  },
  {
   "cell_type": "code",
   "execution_count": null,
   "metadata": {},
   "outputs": [],
   "source": [
    "b_map = behavior_map.Grid_behaviour_map(config)\n",
    "while True:\n",
    "    if generation_number >= config[\"ES_NUM_GENERATIONS\"]:\n",
    "        print(\"Done, reached iteration: \",config[\"ES_NUM_GENERATIONS\"])\n",
    "        break\n",
    "        "
   ]
  },
  {
   "cell_type": "code",
   "execution_count": null,
   "metadata": {},
   "outputs": [],
   "source": []
  },
  {
   "cell_type": "code",
   "execution_count": null,
   "metadata": {},
   "outputs": [],
   "source": []
  },
  {
   "cell_type": "code",
   "execution_count": 5,
   "metadata": {},
   "outputs": [],
   "source": [
    "config[\"BMAP_type_and_metrics\"] = [\n",
    "    \"multi_map\",\n",
    "    [\"f\",\"e\"],\n",
    "]"
   ]
  },
  {
   "cell_type": "code",
   "execution_count": 16,
   "metadata": {},
   "outputs": [],
   "source": [
    "b_map = behavior_map.create_b_map_grid(config)"
   ]
  },
  {
   "cell_type": "code",
   "execution_count": 7,
   "metadata": {},
   "outputs": [
    {
     "data": {
      "text/plain": [
       "<es_map.behavior_map.Grid_behaviour_multi_map at 0x7f78a468aac0>"
      ]
     },
     "execution_count": 7,
     "metadata": {},
     "output_type": "execute_result"
    }
   ],
   "source": [
    "b_map"
   ]
  },
  {
   "cell_type": "code",
   "execution_count": null,
   "metadata": {},
   "outputs": [],
   "source": [
    "    \"BMAP_type_and_metrics\" : [\"single_map\",    # type can be: \"single_map\",\"multi_map\",\"nd_sorted_map\" \n",
    "                               [\"fitness\"]],    # metric can be: [\"f\"],[\"f\",e], [\"f,e,i\"], etc... "
   ]
  },
  {
   "cell_type": "code",
   "execution_count": 17,
   "metadata": {},
   "outputs": [],
   "source": [
    "b_map.data[1,4,3,5,2] = 19"
   ]
  },
  {
   "cell_type": "code",
   "execution_count": 18,
   "metadata": {},
   "outputs": [
    {
     "data": {
      "text/plain": [
       "array([19], dtype=object)"
      ]
     },
     "execution_count": 18,
     "metadata": {},
     "output_type": "execute_result"
    }
   ],
   "source": [
    "b_map.get_non_empty_cells(config,metric=\"e\")"
   ]
  },
  {
   "cell_type": "code",
   "execution_count": 21,
   "metadata": {},
   "outputs": [
    {
     "data": {
      "text/plain": [
       "[0, 3, 3, 3, 3]"
      ]
     },
     "execution_count": 21,
     "metadata": {},
     "output_type": "execute_result"
    }
   ],
   "source": [
    "b_map.get_cell_coords(bc=[0.5,0.5,0.5,0.5,],config=config,metric=\"f\")"
   ]
  },
  {
   "cell_type": "code",
   "execution_count": 20,
   "metadata": {},
   "outputs": [
    {
     "data": {
      "text/plain": [
       "(3, 3, 3, 3)"
      ]
     },
     "execution_count": 20,
     "metadata": {},
     "output_type": "execute_result"
    }
   ],
   "source": [
    "behavior_map._get_cell_coords([0.5,0.5,0.5,0.5,],config)"
   ]
  },
  {
   "cell_type": "code",
   "execution_count": null,
   "metadata": {},
   "outputs": [],
   "source": []
  },
  {
   "cell_type": "code",
   "execution_count": null,
   "metadata": {},
   "outputs": [],
   "source": []
  }
 ],
 "metadata": {
  "kernelspec": {
   "display_name": "Python 3",
   "language": "python",
   "name": "python3"
  },
  "language_info": {
   "codemirror_mode": {
    "name": "ipython",
    "version": 3
   },
   "file_extension": ".py",
   "mimetype": "text/x-python",
   "name": "python",
   "nbconvert_exporter": "python",
   "pygments_lexer": "ipython3",
   "version": "3.8.10"
  }
 },
 "nbformat": 4,
 "nbformat_minor": 4
}
