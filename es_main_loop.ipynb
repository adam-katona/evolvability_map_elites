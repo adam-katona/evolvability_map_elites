{
 "cells": [
  {
   "cell_type": "code",
   "execution_count": 1,
   "metadata": {},
   "outputs": [],
   "source": [
    "from dask.distributed import Client\n",
    "import dask\n",
    "import matplotlib.pyplot as plt\n",
    "\n",
    "import os\n",
    "os.environ[\"MKL_NUM_THREADS\"] = \"1\" \n",
    "os.environ[\"NUMEXPR_NUM_THREADS\"] = \"1\" \n",
    "os.environ[\"OMP_NUM_THREADS\"] = \"1\" \n",
    "import numpy as np"
   ]
  },
  {
   "cell_type": "code",
   "execution_count": 2,
   "metadata": {},
   "outputs": [],
   "source": [
    "import os\n",
    "os.chdir(\"/scratch/ak1774/runs\")"
   ]
  },
  {
   "cell_type": "code",
   "execution_count": 3,
   "metadata": {},
   "outputs": [],
   "source": [
    "client = Client(n_workers=20, threads_per_worker=1)"
   ]
  },
  {
   "cell_type": "code",
   "execution_count": 4,
   "metadata": {},
   "outputs": [],
   "source": [
    "def set_up_worker():\n",
    "    import os\n",
    "    os.environ[\"MKL_NUM_THREADS\"] = \"1\" \n",
    "    os.environ[\"NUMEXPR_NUM_THREADS\"] = \"1\" \n",
    "    os.environ[\"OMP_NUM_THREADS\"] = \"1\" \n",
    "    \n",
    "client.run(set_up_worker);"
   ]
  },
  {
   "cell_type": "code",
   "execution_count": 5,
   "metadata": {},
   "outputs": [],
   "source": [
    "%load_ext autoreload\n",
    "%autoreload 2"
   ]
  },
  {
   "cell_type": "code",
   "execution_count": 6,
   "metadata": {},
   "outputs": [],
   "source": [
    "from es_map import es_update\n",
    "from es_map import distributed_evaluate\n",
    "from es_map.interaction import interaction\n",
    "from es_map import behavior_map\n",
    "from es_map import novelty_archive\n",
    "from es_map import map_elite_utils"
   ]
  },
  {
   "cell_type": "code",
   "execution_count": 14,
   "metadata": {},
   "outputs": [],
   "source": [
    "config = {\n",
    "    \"env_id\" : \"DamageAnt-v2\",\n",
    "    \"policy_args\" : {\n",
    "        \"init\" : \"normc\",\n",
    "        \"layers\" :[256, 256],\n",
    "       \"activation\" : 'tanh',\n",
    "       \"action_noise\" : 0.01,\n",
    "    },\n",
    "    \"env_args\" : {\n",
    "        \"use_norm_obs\" : True,\n",
    "    },\n",
    "    \n",
    "    \"ES_NUM_INITIAL_RANDOM_INDIVIDUALS_TO_POPULATE_MAP\" : 20,\n",
    "    \n",
    "    \"ES_NUM_GENERATIONS\" : 1000,\n",
    "    \"ES_popsize\" : 100,\n",
    "    \"ES_sigma\" : 0.02,\n",
    "    \"ES_EVALUATION_BATCH_SIZE\" : 5,\n",
    "    \"ES_lr\" : 0.01,\n",
    "    \n",
    "    \"ES_CENTRAL_NUM_EVALUATIONS\" : 30,\n",
    "    \"ES_STEPS_UNTIL_NEW_PARENT_SELECTION\" : 5,\n",
    "    \n",
    "    \"GA_MAP_ELITES_NUM_GENERATIONS\" : 1000,\n",
    "    \n",
    "    \"GA_CHILDREN_PER_GENERATION\" : 200,\n",
    "    \"GA_NUM_EVALUATIONS\" : 10,\n",
    "    \n",
    "    \"GA_MULTI_PARENT_MODE\" : True,\n",
    "    \"GA_PARENT_SELECTION_MODE\" : \"rank_proportional\",  # \"uniform\", \"rank_proportional\"\n",
    "    \"GA_RANK_PROPORTIONAL_SELECTION_AGRESSIVENESS\" : 1.0,  # 0.0 uniform, 1.0 normal , higher more agressive\n",
    "    \"GA_MUTATION_POWER\" : 0.02,\n",
    "    \n",
    "    \"map_elites_grid_description\" : {\n",
    "        \"bc_limits\" : [[0,1],[0,1],[0,1],[0,1]],\n",
    "        \"grid_dims\" : [6,6,6,6],\n",
    "    },\n",
    "    \n",
    "    # BMAP settings\n",
    "    \"BMAP_type_and_metrics\" : [\"single_map\",    # type can be: \"single_map\",\"multi_map\",\"nd_sorted_map\" \n",
    "                               [\"fitness\"]],    # metric can be: [\"f\"],[\"f\",e], [\"f,e,i\"], etc... \n",
    "    \"ES_UPDATES_MODES_TO_USE\" : [\"fitness\"],#\"evolvability\",\"innovation\"], # list of updates to use\n",
    "    \"ES_PARENT_SELECTION_MODE\" : \"rank_proportional\",  # \"uniform\", \"rank_proportional\"\n",
    "    \"ES_RANK_PROPORTIONAL_SELECTION_AGRESSIVENESS\" : 1.0,  # 0.0 uniform, 1.0 normal , higher more agressive\n",
    "    \n",
    "    \n",
    "    \"CHECKPOINT_FREQUENCY\" : 100,\n",
    "    \"PLOT_FREQUENCY\" : 100,\n",
    "}"
   ]
  },
  {
   "cell_type": "code",
   "execution_count": 15,
   "metadata": {},
   "outputs": [],
   "source": [
    "wandb_logging = False\n",
    "if wandb_logging is True:\n",
    "    import wandb\n",
    "    config\n",
    "    #wandb.config = config\n",
    "    wandb.init(project=\"evolvability_map_elites\", entity=\"adam_katona\")\n",
    "    wandb.run.name = \"me_es_test\"\n",
    "    wandb.run.config.update(config)\n",
    "\n",
    "    run_name = wandb.run.dir.split(\"/\")[-2]\n",
    "    run_checkpoint_path = \"/scratch/ak1774/runs/large_files/\" + run_name\n",
    "    os.makedirs(run_checkpoint_path,exist_ok=True)"
   ]
  },
  {
   "cell_type": "code",
   "execution_count": 16,
   "metadata": {},
   "outputs": [],
   "source": [
    "import itertools\n",
    "        \n",
    "def create_id_generator():\n",
    "    counter = itertools.count()\n",
    "    def get_next_id():\n",
    "        return next(counter)\n",
    "    return get_next_id\n",
    "    \n",
    "get_next_individual_id = create_id_generator()"
   ]
  },
  {
   "cell_type": "code",
   "execution_count": 17,
   "metadata": {},
   "outputs": [],
   "source": [
    "####################\n",
    "## SINGLE MAP ######\n",
    "####################"
   ]
  },
  {
   "cell_type": "code",
   "execution_count": 18,
   "metadata": {},
   "outputs": [
    {
     "name": "stdout",
     "output_type": "stream",
     "text": [
      "CREATING RANDOM INDIVIDUAL\n",
      "1 2 1007.1448011801327\n",
      "3 2 1007.1448011801327\n",
      "5 3 1007.1448011801327\n",
      "7 4 1007.1448011801327\n",
      "9 4 1007.1448011801327\n",
      "11 5 1007.1448011801327\n",
      "13 6 1007.1448011801327\n",
      "15 6 1007.1448011801327\n",
      "17 6 1007.1448011801327\n",
      "Done, reached iteration:  15\n",
      "Doing final save!\n"
     ]
    },
    {
     "ename": "NameError",
     "evalue": "name 'run_checkpoint_path' is not defined",
     "output_type": "error",
     "traceback": [
      "\u001b[0;31m---------------------------------------------------------------------------\u001b[0m",
      "\u001b[0;31mNameError\u001b[0m                                 Traceback (most recent call last)",
      "\u001b[0;32m<ipython-input-18-094554036c0b>\u001b[0m in \u001b[0;36m<module>\u001b[0;34m\u001b[0m\n\u001b[1;32m    260\u001b[0m \u001b[0;31m################\u001b[0m\u001b[0;34m\u001b[0m\u001b[0;34m\u001b[0m\u001b[0;34m\u001b[0m\u001b[0m\n\u001b[1;32m    261\u001b[0m \u001b[0mprint\u001b[0m\u001b[0;34m(\u001b[0m\u001b[0;34m\"Doing final save!\"\u001b[0m\u001b[0;34m)\u001b[0m\u001b[0;34m\u001b[0m\u001b[0;34m\u001b[0m\u001b[0m\n\u001b[0;32m--> 262\u001b[0;31m \u001b[0mnp\u001b[0m\u001b[0;34m.\u001b[0m\u001b[0msave\u001b[0m\u001b[0;34m(\u001b[0m\u001b[0mrun_checkpoint_path\u001b[0m\u001b[0;34m+\u001b[0m\u001b[0;34m\"/b_map.npy\"\u001b[0m\u001b[0;34m,\u001b[0m\u001b[0mb_map\u001b[0m\u001b[0;34m.\u001b[0m\u001b[0mdata\u001b[0m\u001b[0;34m,\u001b[0m\u001b[0mallow_pickle\u001b[0m\u001b[0;34m=\u001b[0m\u001b[0;32mTrue\u001b[0m\u001b[0;34m)\u001b[0m\u001b[0;34m\u001b[0m\u001b[0;34m\u001b[0m\u001b[0m\n\u001b[0m\u001b[1;32m    263\u001b[0m \u001b[0mb_archive\u001b[0m\u001b[0;34m.\u001b[0m\u001b[0msave_to_file\u001b[0m\u001b[0;34m(\u001b[0m\u001b[0mrun_checkpoint_path\u001b[0m\u001b[0;34m+\u001b[0m\u001b[0;34m\"/b_archive.npy\"\u001b[0m\u001b[0;34m)\u001b[0m\u001b[0;34m\u001b[0m\u001b[0;34m\u001b[0m\u001b[0m\n\u001b[1;32m    264\u001b[0m \u001b[0mprint\u001b[0m\u001b[0;34m(\u001b[0m\u001b[0;34m\"Final save done: \"\u001b[0m\u001b[0;34m,\u001b[0m \u001b[0mrun_checkpoint_path\u001b[0m\u001b[0;34m)\u001b[0m\u001b[0;34m\u001b[0m\u001b[0;34m\u001b[0m\u001b[0m\n",
      "\u001b[0;31mNameError\u001b[0m: name 'run_checkpoint_path' is not defined"
     ]
    }
   ],
   "source": [
    "# TODO dump config into large file folder\n",
    "\n",
    "DEBUG = True\n",
    "if DEBUG:\n",
    "    config[\"ES_NUM_GENERATIONS\"] = 15\n",
    "    config[\"ES_popsize\"] = 12\n",
    "    config[\"ES_NUM_INITIAL_RANDOM_INDIVIDUALS_TO_POPULATE_MAP\"] = 1\n",
    "    config[\"ES_CENTRAL_NUM_EVALUATIONS\"] = 3\n",
    "    config[\"ES_STEPS_UNTIL_NEW_PARENT_SELECTION\"] = 3\n",
    "    \n",
    "\n",
    "\n",
    "generation_number = 0\n",
    "evaluations_so_far = 0\n",
    "best_fitness_so_far = 0\n",
    "best_model_so_far = None\n",
    "best_evolvability_so_far = 0\n",
    "\n",
    "\n",
    "\n",
    "b_map = behavior_map.Grid_behaviour_map(config)\n",
    "b_archive = novelty_archive.NoveltyArchive(bc_dim = len(config[\"map_elites_grid_description\"][\"grid_dims\"]))\n",
    "\n",
    "while True:\n",
    "    if generation_number >= config[\"ES_NUM_GENERATIONS\"]:\n",
    "        print(\"Done, reached iteration: \",config[\"ES_NUM_GENERATIONS\"])\n",
    "        break\n",
    "        \n",
    "    non_empty_cells = b_map.get_non_empty_cells()\n",
    "    \n",
    "    ##############################################\n",
    "    ## Populate the map with random individuals ##\n",
    "    ##############################################\n",
    "    if len(non_empty_cells) == 0: # no parent available\n",
    "        \n",
    "        for _ in range(config[\"ES_NUM_INITIAL_RANDOM_INDIVIDUALS_TO_POPULATE_MAP\"]):\n",
    "            print(\"CREATING RANDOM INDIVIDUAL\")\n",
    "            new_individual_params = map_elite_utils.get_random_individual(config)\n",
    "\n",
    "            # for the single map we are only interested in the fitness\n",
    "            # but we maybe should calculate evolvability and innovation so we can compare them to the other algos\n",
    "\n",
    "            eval_results = distributed_evaluate.evaluate_individual_repeated(theta=new_individual_params,\n",
    "                                                             obs_mean=None,obs_std=None,eval=True,\n",
    "                                                             config=config,repeat_n=config[\"ES_CENTRAL_NUM_EVALUATIONS\"])\n",
    "\n",
    "            # TODO, maybe also evaluate children to get evolvability\n",
    "            \n",
    "            # insert the new individual in the map\n",
    "            map_coords = b_map.get_cell_coords(eval_results[\"bc\"])\n",
    "            # Add to map if fitness is larger, or map is empty\n",
    "            \n",
    "            # id the cell occupied?\n",
    "            needs_adding = False\n",
    "            if b_map.data[map_coords] is None:\n",
    "                needs_adding = True\n",
    "            elif b_map.data[map_coords][\"elite\"][\"eval_fitness\"] < eval_results[\"fitness\"]:\n",
    "                needs_adding = True\n",
    "            \n",
    "            if needs_adding is True:      \n",
    "                new_individual = {\n",
    "                    \"params\" : new_individual_params,\n",
    "                    \"ID\" : get_next_individual_id(),\n",
    "                    \"parent_ID\" : None,\n",
    "                    \"generation_created\" : generation_number,\n",
    "                    \n",
    "                    \"child_eval\" : None, # TODO\n",
    "                    \n",
    "                    \"eval_fitness\" : eval_results[\"fitness\"],\n",
    "                    \"eval_bc\" : eval_results[\"bc\"],\n",
    "                    \n",
    "                    \"obs_stats\" : {  \n",
    "                        \"obs_sum\" : None,  # TODO handle obs stats\n",
    "                        \"obs_sq\" : None,\n",
    "                        \"obs_count\" : None,\n",
    "                    },\n",
    "                    \n",
    "                    \"evolvability\" : None,\n",
    "                    \"innovation\" : None,\n",
    "\n",
    "                    \"innovation_over_time\" : None,  # innovation decreases over time, as we add new individuals to the archive\n",
    "                    #{  \n",
    "                    #    generation_number : innovation_at_generation,\n",
    "                    #    generation_number : innovation_at_generation,\n",
    "                    #},\n",
    "                }\n",
    "                \n",
    "                new_cell = {\n",
    "                    \"elite\" : new_individual\n",
    "                }\n",
    "                b_map.data[map_coords] = new_cell\n",
    "                \n",
    "                if new_individual[\"eval_fitness\"] > best_fitness_so_far:\n",
    "                    best_fitness_so_far = new_individual[\"eval_fitness\"]\n",
    "            \n",
    "\n",
    "    ######################\n",
    "    ## PARENT SELECTION ##\n",
    "    ######################\n",
    "    else:\n",
    "        if config[\"ES_PARENT_SELECTION_MODE\"] == \"uniform\":\n",
    "            parent_cell = np.random.choice(non_empty_cells)  # NOTE, here goes cell selection method\n",
    "        elif config[\"ES_PARENT_SELECTION_MODE\"] == \"rank_proportional\":\n",
    "            sorted_cells = sorted(non_empty_cells,key=lambda x : x[\"elite\"][\"eval_fitness\"])                \n",
    "            selected_index = map_elite_utils.rank_based_selection(num_parent_candidates=len(sorted_cells),\n",
    "                                                     num_children=None, # only want a single parent\n",
    "                                                     agressiveness=config[\"ES_RANK_PROPORTIONAL_SELECTION_AGRESSIVENESS\"])\n",
    "            parent_cell = sorted_cells[selected_index]\n",
    "            \n",
    "        \n",
    "        current_individual = parent_cell[\"elite\"]\n",
    "            \n",
    "        # decide on update mode (explore,exploit,build_evolvability)\n",
    "        es_update_mode = np.random.choice(config[\"ES_UPDATES_MODES_TO_USE\"])\n",
    "            \n",
    "        for update_step_i in range(config[\"ES_STEPS_UNTIL_NEW_PARENT_SELECTION\"]):\n",
    "            \n",
    "            #######################\n",
    "            ## EVALUATE CHILDREN ##\n",
    "            #######################\n",
    "            # does this cell already have cached evaluations?, then we can reuse it\n",
    "            if current_individual[\"child_eval\"] is None:  # maybe this should never happen, we will see\n",
    "                #current_individual -> obs_mean,obs_std # TODO\n",
    "                obs_mean,obs_std = None,None\n",
    "                current_individual[\"child_eval\"] = distributed_evaluate.es_evaluate_children(client,current_individual[\"params\"],obs_mean,obs_std,config)\n",
    "                \n",
    "                \n",
    "            ##################\n",
    "            ## DO ES UPDATE ##\n",
    "            ##################\n",
    "            updated_theta = es_update.es_update(current_individual[\"params\"],current_individual[\"child_eval\"],\n",
    "                                                config,es_update_type=es_update_mode,novelty_archive=b_archive)\n",
    "            \n",
    "            # TODO \n",
    "            #current_evolvability = es_update.calculate_behavioural_variance(child_evaluations,config)\n",
    "            #current_innovation = es_update.calculate_innovativeness() # TODO\n",
    "            \n",
    "            \n",
    "            ############################\n",
    "            ## EVALUATE UPDATED THETA ##\n",
    "            ############################\n",
    "            \n",
    "            updated_eval_results = distributed_evaluate.evaluate_individual_repeated(theta=updated_theta,\n",
    "                                                             obs_mean=None,obs_std=None,eval=True,\n",
    "                                                             config=config,repeat_n=config[\"ES_CENTRAL_NUM_EVALUATIONS\"])\n",
    "            \n",
    "            ##################################\n",
    "            ## EVALUATE CHILDREN OF UPDATED ##\n",
    "            ##################################\n",
    "            \n",
    "            updated_child_eval = distributed_evaluate.es_evaluate_children(client,updated_theta,obs_mean=None,obs_std=None,config=config)\n",
    "            updated_evolvability = 0\n",
    "            updated_innovation = 0\n",
    "            \n",
    "            new_individual = {\n",
    "                \"params\" : updated_theta,  # 1d torch tensor containing the parameters \n",
    "                \"ID\" : get_next_individual_id(),\n",
    "                \"parent_ID\" : current_individual[\"ID\"],\n",
    "                \"generation_created\" : generation_number,\n",
    "\n",
    "                \"child_eval\" : updated_child_eval,\n",
    "\n",
    "                \"eval_fitness\" : updated_eval_results[\"fitness\"],\n",
    "                \"eval_bc\" : updated_eval_results[\"bc\"],\n",
    "\n",
    "                \"obs_stats\" : {   # TODO\n",
    "                    \"obs_sum\" : None,\n",
    "                    \"obs_sq\" : None,\n",
    "                    \"obs_count\" : None,\n",
    "                },\n",
    "\n",
    "                \"evolvability\" : updated_evolvability,\n",
    "                \"innovation\" : updated_innovation,\n",
    "\n",
    "                \"innovation_over_time\" : {   # innovation decreases over time, as we add new individuals to the archive\n",
    "                    generation_number : updated_innovation,\n",
    "                },\n",
    "            }\n",
    "            if new_individual[\"evolvability\"] > best_evolvability_so_far:\n",
    "                best_evolvability_so_far = new_individual[\"evolvability\"]\n",
    "            if new_individual[\"eval_fitness\"] > best_fitness_so_far:\n",
    "                best_fitness_so_far = new_individual[\"eval_fitness\"]\n",
    "            \n",
    "            #########################\n",
    "            ## INSERT INTO ARCHIVE ##\n",
    "            #########################\n",
    "            \n",
    "            map_coords = b_map.get_cell_coords(new_individual[\"eval_bc\"])\n",
    "            if b_map.data[map_coords] is None:\n",
    "                new_cell = { \"elite\" : new_individual }\n",
    "                b_map.data[map_coords] = new_cell\n",
    "            elif b_map.data[map_coords][\"elite\"][\"eval_fitness\"] < new_individual[\"eval_fitness\"]:\n",
    "                b_map.data[map_coords][\"elite\"] = new_individual \n",
    "                \n",
    "            ################################\n",
    "            ## PREPARE FOR NEXT ITERATION ##\n",
    "            ################################\n",
    "            current_individual = new_individual\n",
    "            \n",
    "            \n",
    "            ########################\n",
    "            ## EVERY STEP LOGGING ##\n",
    "            ########################\n",
    "\n",
    "            non_empty_cells = b_map.get_non_empty_cells()\n",
    "            print(generation_number,len(non_empty_cells),best_fitness_so_far)\n",
    "\n",
    "            # Do the step logging \n",
    "            step_logs = {\n",
    "                \"generation_number\" : generation_number,\n",
    "                \"nonempty_cells\" : len(non_empty_cells),\n",
    "                \"nonempty_ratio\" : float(len(non_empty_cells)) / b_map.data.size,\n",
    "                \"best_fitness_so_far\" : best_fitness_so_far,\n",
    "                \"best_evolvability_so_far\" : best_evolvability_so_far,\n",
    "                \"current_children_fitness_mean\" : np.mean(new_individual[\"child_eval\"][\"fitnesses\"]),\n",
    "                \"current_children_fitness_std\" : np.std(new_individual[\"child_eval\"][\"fitnesses\"]),\n",
    "                \"current_eval_fitness\" : new_individual[\"eval_fitness\"],\n",
    "            }\n",
    "            if wandb_logging is True:\n",
    "                wandb.log(step_logs)\n",
    "            \n",
    "            ####################\n",
    "            ## N STEP LOGGING ##\n",
    "            ####################\n",
    "\n",
    "            # Do the n-step logging\n",
    "            if generation_number % config[\"PLOT_FREQUENCY\"] == 10:\n",
    "                # do plot map\n",
    "                # save map without heavy stuff???\n",
    "                fig_f,ax = map_elite_utils.plot_4d_map(b_map,metric=\"eval_fitness\")\n",
    "                fig_evo,ax = map_elite_utils.plot_4d_map(b_map,metric=\"evolvability\")\n",
    "                n_step_log = {\n",
    "                    \"b_map_plot\" : fig_f,\n",
    "                    \"b_map_evolvability_plot\" : fig_evo, \n",
    "                }\n",
    "                if wandb_logging is True:\n",
    "                    wandb.log(n_step_log)\n",
    "\n",
    "                # also print some stuff to console\n",
    "                print(generation_number)\n",
    "                for k,v in step_logs.items():\n",
    "                    print(k,v)\n",
    "            \n",
    "            ###################\n",
    "            ## CHECKPOINTING ##\n",
    "            ###################\n",
    "\n",
    "            # Do checkpointing\n",
    "            if generation_number % config[\"CHECKPOINT_FREQUENCY\"] == 10:\n",
    "                np.save(run_checkpoint_path+\"/b_map.npy\",b_map.data,allow_pickle=True)\n",
    "                b_archive.save_to_file(run_checkpoint_path+\"/b_archive.npy\")\n",
    "                \n",
    "        \n",
    "            generation_number += 1\n",
    "            \n",
    "            \n",
    "################\n",
    "## FINAL SAVE ##\n",
    "################\n",
    "print(\"Doing final save!\")\n",
    "np.save(run_checkpoint_path+\"/b_map.npy\",b_map.data,allow_pickle=True)\n",
    "b_archive.save_to_file(run_checkpoint_path+\"/b_archive.npy\")\n",
    "print(\"Final save done: \", run_checkpoint_path)\n",
    "            \n",
    "            \n",
    "            \n",
    "        \n",
    "        \n",
    "        \n",
    "        \n",
    "        \n",
    "        \n",
    "        "
   ]
  },
  {
   "cell_type": "code",
   "execution_count": null,
   "metadata": {},
   "outputs": [],
   "source": []
  },
  {
   "cell_type": "code",
   "execution_count": null,
   "metadata": {},
   "outputs": [],
   "source": []
  },
  {
   "cell_type": "code",
   "execution_count": null,
   "metadata": {},
   "outputs": [],
   "source": []
  },
  {
   "cell_type": "code",
   "execution_count": null,
   "metadata": {},
   "outputs": [],
   "source": []
  },
  {
   "cell_type": "code",
   "execution_count": null,
   "metadata": {},
   "outputs": [],
   "source": []
  },
  {
   "cell_type": "code",
   "execution_count": null,
   "metadata": {},
   "outputs": [],
   "source": []
  },
  {
   "cell_type": "code",
   "execution_count": null,
   "metadata": {},
   "outputs": [],
   "source": []
  },
  {
   "cell_type": "code",
   "execution_count": null,
   "metadata": {},
   "outputs": [],
   "source": []
  },
  {
   "cell_type": "code",
   "execution_count": null,
   "metadata": {},
   "outputs": [],
   "source": []
  },
  {
   "cell_type": "code",
   "execution_count": null,
   "metadata": {},
   "outputs": [],
   "source": []
  },
  {
   "cell_type": "code",
   "execution_count": null,
   "metadata": {},
   "outputs": [],
   "source": []
  },
  {
   "cell_type": "code",
   "execution_count": null,
   "metadata": {},
   "outputs": [],
   "source": []
  },
  {
   "cell_type": "code",
   "execution_count": 8,
   "metadata": {},
   "outputs": [],
   "source": [
    "def select_parent_es_me(non_empty_cells,config,selection_metric):\n",
    "    if len(non_empty_cells) == 0:\n",
    "            parent_cell = None\n",
    "            parent_params = get_random_individual(config)\n",
    "            parent_obs_mean = None\n",
    "            parent_obs_std = None\n",
    "            \n",
    "    else:\n",
    "        if config[\"ES_PARENT_SELECTION_MODE\"] == \"uniform\":\n",
    "            parent_cell = np.random.choice(non_empty_cells)  # NOTE, here goes cell selection method\n",
    "        elif config[\"ES_PARENT_SELECTION_MODE\"] == \"rank_proportional\":\n",
    "            sorted_cells = sorted(non_empty_cells,key=lambda x : x[\"selection_metric\"])                \n",
    "            selected_index = rank_based_selection(num_parent_candidates=len(sorted_cells),\n",
    "                                                     num_children=None, # only want a single parent\n",
    "                                                     agressiveness=config[\"GA_RANK_PROPORTIONAL_SELECTION_AGRESSIVENESS\"])\n",
    "            parent_cell = sorted_cells[selected_index]\n",
    "\n",
    "        else:\n",
    "            raise \"NOT IMPLEMENTED\"\n",
    "\n",
    "    return parent_cell"
   ]
  },
  {
   "cell_type": "code",
   "execution_count": null,
   "metadata": {},
   "outputs": [],
   "source": [
    "DEBUG = False\n",
    "if DEBUG is True:\n",
    "    config[\"ES_NUM_GENERATIONS\"] = 30\n",
    "    config[\"ES_popsize\"] = 20\n",
    "    config[\"ES_CENTRAL_NUM_EVALUATIONS\"] = 4\n",
    "    \n",
    "\n",
    "b_archive = novelty_archive.NoveltyArchive(bc_dim = len(config[\"map_elites_grid_description\"][\"grid_dims\"]))\n",
    "    \n",
    "run_name = wandb.run.dir.split(\"/\")[-2]\n",
    "run_checkpoint_path = \"/scratch/ak1774/runs/large_files/\" + run_name\n",
    "\n",
    "evaluations_per_generation = config[\"ES_popsize\"] + config[\"ES_CENTRAL_NUM_EVALUATIONS\"] \n",
    "B_MAP_TYPE = config[\"BMAP_type_and_metrics\"][0]\n",
    "B_MAP_METRICS = config[\"BMAP_type_and_metrics\"][1]\n",
    "\n",
    "generation_number = 0\n",
    "evaluations_so_far = 0\n",
    "best_fitness_so_far = 0\n",
    "best_model_so_far = None\n",
    "    \n",
    "\n",
    "# there are several kinds of modes\n",
    "# selection mode (which type of parent we select (this one is only available for multi map))\n",
    "# update mode (which type of es update we do)\n",
    "# archive mode (which type of map we try to insert it to (only available for multi map))\n",
    "    \n",
    "# MODES Summary\n",
    "# I decided not to have selection mode, we select with uniform prob from each map \n",
    "# (this would be only be relevent if we want to have different update probabilities for parents from different maps)\n",
    "# I decided not to have archive mode, we try to archive into all the maps\n",
    "\n",
    "    \n",
    "if B_MAP_TYPE == \"single_map\" or B_MAP_TYPE == \"nd_sorted_map\":\n",
    "    b_map = behavior_map.Grid_behaviour_map(config)\n",
    "    while True\n",
    "        if generation_number >= config[\"ES_NUM_GENERATIONS\"]:\n",
    "            print(\"Done, reached iteration: \",config[\"ES_NUM_GENERATIONS\"])\n",
    "            break\n",
    "            \n",
    "        \n",
    "    \n",
    "        non_empty_cells = b_map.get_non_empty_cells(config)\n",
    "        if len(non_empty_cells) == 0: # no parent available\n",
    "            parent = None # TODO prepare new individual NOTE this should be different because we want to evaluate the parent not the child here\n",
    "        \n",
    "            # evaluate new individual\n",
    "            # can also calculate children to get evolvability and innovation\n",
    "        \n",
    "        \n",
    "        \n",
    "        else:\n",
    "            if B_MAP_TYPE == \"single_map\":\n",
    "                # select parent cell\n",
    "                selection_metric = \"eval_fitness\"\n",
    "                selected_parent_cell = select_parent_es_me(non_empty_cells,config,selection_metric)\n",
    "                parent = selected_parent_cell[\"elite\"]\n",
    "\n",
    "            elif B_MAP_TYPE == \"nd_sorted_map\":\n",
    "                # select parent cell\n",
    "                # for slectinf cells with nd sorted map, we cannot simply use a metric.\n",
    "                # ech cell contains a tradeoff between objectives\n",
    "                # let us do uniform selection from each cell\n",
    "                parent_cell = np.random.choice(non_empty_cells)\n",
    "                \n",
    "                # now let us select an individual form the non dominated front of elites in the cell\n",
    "                parent = np.random.choice(parent_cell[\"elites\"])\n",
    "\n",
    "\n",
    "        \n",
    "        \n",
    "        # decide on update mode (explore,exploit,build_evolvability)\n",
    "        es_update_mode = np.random.choice(config[\"ES_UPDATES_MODES_TO_USE\"])\n",
    "    \n",
    "    \n",
    "    \n",
    "    \n",
    "    \n",
    "elif B_MAP_TYPE == \"multi_map\":\n",
    "    b_map = behavior_map.Grid_behaviour_multi_map(config)\n",
    "    while True:\n",
    "        if generation_number >= config[\"ES_NUM_GENERATIONS\"]:\n",
    "            print(\"Done, reached iteration: \",config[\"ES_NUM_GENERATIONS\"])\n",
    "            break\n",
    "        \n",
    "            # Decide on selection mode (which map we select a parent from) Should we just do uniform from ech map?\n",
    "            # Should which update we do depend on which map we select the parent from?\n",
    "            \n",
    "            # Decide on update mode (it makes sense to mix this up, eg we want to use the evolvable parent to find fit child)\n",
    "            # Decide on archive mode (for fitness we can always test archiving, for innov and evolvability, we need a new evaluation to evaluate)\n",
    "            # once we do the new evaluation, we can try to archive it into all the maps\n",
    "        \n",
    "            non_empty_cells = b_map.get_non_empty_cells(config)\n",
    "        \n",
    "        \n",
    "    \n",
    "    \n",
    "    \n",
    "    \n",
    "    \n",
    "    \n",
    "    \n",
    "    \n",
    "    \n",
    "    \n",
    "    \n",
    "    \n",
    "    \n",
    "    \n",
    "    \n",
    "    \n",
    "    \n",
    "    \n",
    "    generation_number += 1\n"
   ]
  },
  {
   "cell_type": "code",
   "execution_count": null,
   "metadata": {},
   "outputs": [],
   "source": []
  },
  {
   "cell_type": "code",
   "execution_count": null,
   "metadata": {},
   "outputs": [],
   "source": []
  },
  {
   "cell_type": "code",
   "execution_count": null,
   "metadata": {},
   "outputs": [],
   "source": [
    "\n",
    "        \n",
    "        \n",
    "        \n",
    "        "
   ]
  },
  {
   "cell_type": "code",
   "execution_count": null,
   "metadata": {},
   "outputs": [],
   "source": [
    "####################\n",
    "## ND SORTED MAP ###\n",
    "####################"
   ]
  },
  {
   "cell_type": "code",
   "execution_count": null,
   "metadata": {},
   "outputs": [],
   "source": [
    "b_map = behavior_map.Grid_behaviour_map(config)\n",
    "while True:\n",
    "    if generation_number >= config[\"ES_NUM_GENERATIONS\"]:\n",
    "        print(\"Done, reached iteration: \",config[\"ES_NUM_GENERATIONS\"])\n",
    "        break"
   ]
  },
  {
   "cell_type": "code",
   "execution_count": null,
   "metadata": {},
   "outputs": [],
   "source": [
    "####################\n",
    "## MULTI MAP #######\n",
    "####################"
   ]
  },
  {
   "cell_type": "code",
   "execution_count": null,
   "metadata": {},
   "outputs": [],
   "source": [
    "b_map = behavior_map.Grid_behaviour_map(config)\n",
    "while True:\n",
    "    if generation_number >= config[\"ES_NUM_GENERATIONS\"]:\n",
    "        print(\"Done, reached iteration: \",config[\"ES_NUM_GENERATIONS\"])\n",
    "        break\n",
    "        "
   ]
  },
  {
   "cell_type": "code",
   "execution_count": null,
   "metadata": {},
   "outputs": [],
   "source": []
  },
  {
   "cell_type": "code",
   "execution_count": null,
   "metadata": {},
   "outputs": [],
   "source": []
  },
  {
   "cell_type": "code",
   "execution_count": 5,
   "metadata": {},
   "outputs": [],
   "source": [
    "config[\"BMAP_type_and_metrics\"] = [\n",
    "    \"multi_map\",\n",
    "    [\"f\",\"e\"],\n",
    "]"
   ]
  },
  {
   "cell_type": "code",
   "execution_count": 16,
   "metadata": {},
   "outputs": [],
   "source": [
    "b_map = behavior_map.create_b_map_grid(config)"
   ]
  },
  {
   "cell_type": "code",
   "execution_count": 7,
   "metadata": {},
   "outputs": [
    {
     "data": {
      "text/plain": [
       "<es_map.behavior_map.Grid_behaviour_multi_map at 0x7f78a468aac0>"
      ]
     },
     "execution_count": 7,
     "metadata": {},
     "output_type": "execute_result"
    }
   ],
   "source": [
    "b_map"
   ]
  },
  {
   "cell_type": "code",
   "execution_count": null,
   "metadata": {},
   "outputs": [],
   "source": [
    "    \"BMAP_type_and_metrics\" : [\"single_map\",    # type can be: \"single_map\",\"multi_map\",\"nd_sorted_map\" \n",
    "                               [\"fitness\"]],    # metric can be: [\"f\"],[\"f\",e], [\"f,e,i\"], etc... "
   ]
  },
  {
   "cell_type": "code",
   "execution_count": 17,
   "metadata": {},
   "outputs": [],
   "source": [
    "b_map.data[1,4,3,5,2] = 19"
   ]
  },
  {
   "cell_type": "code",
   "execution_count": 18,
   "metadata": {},
   "outputs": [
    {
     "data": {
      "text/plain": [
       "array([19], dtype=object)"
      ]
     },
     "execution_count": 18,
     "metadata": {},
     "output_type": "execute_result"
    }
   ],
   "source": [
    "b_map.get_non_empty_cells(config,metric=\"e\")"
   ]
  },
  {
   "cell_type": "code",
   "execution_count": 21,
   "metadata": {},
   "outputs": [
    {
     "data": {
      "text/plain": [
       "[0, 3, 3, 3, 3]"
      ]
     },
     "execution_count": 21,
     "metadata": {},
     "output_type": "execute_result"
    }
   ],
   "source": [
    "b_map.get_cell_coords(bc=[0.5,0.5,0.5,0.5,],config=config,metric=\"f\")"
   ]
  },
  {
   "cell_type": "code",
   "execution_count": 20,
   "metadata": {},
   "outputs": [
    {
     "data": {
      "text/plain": [
       "(3, 3, 3, 3)"
      ]
     },
     "execution_count": 20,
     "metadata": {},
     "output_type": "execute_result"
    }
   ],
   "source": [
    "behavior_map._get_cell_coords([0.5,0.5,0.5,0.5,],config)"
   ]
  },
  {
   "cell_type": "code",
   "execution_count": null,
   "metadata": {},
   "outputs": [],
   "source": []
  },
  {
   "cell_type": "code",
   "execution_count": null,
   "metadata": {},
   "outputs": [],
   "source": []
  }
 ],
 "metadata": {
  "kernelspec": {
   "display_name": "Python 3",
   "language": "python",
   "name": "python3"
  },
  "language_info": {
   "codemirror_mode": {
    "name": "ipython",
    "version": 3
   },
   "file_extension": ".py",
   "mimetype": "text/x-python",
   "name": "python",
   "nbconvert_exporter": "python",
   "pygments_lexer": "ipython3",
   "version": "3.8.10"
  }
 },
 "nbformat": 4,
 "nbformat_minor": 4
}
