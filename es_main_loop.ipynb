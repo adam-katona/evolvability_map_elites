{
 "cells": [
  {
   "cell_type": "code",
   "execution_count": 1,
   "metadata": {},
   "outputs": [],
   "source": [
    "from dask.distributed import Client\n",
    "import dask\n",
    "import matplotlib.pyplot as plt\n",
    "\n",
    "import os\n",
    "os.environ[\"MKL_NUM_THREADS\"] = \"1\" \n",
    "os.environ[\"NUMEXPR_NUM_THREADS\"] = \"1\" \n",
    "os.environ[\"OMP_NUM_THREADS\"] = \"1\" \n",
    "import numpy as np"
   ]
  },
  {
   "cell_type": "code",
   "execution_count": 2,
   "metadata": {},
   "outputs": [],
   "source": [
    "import os\n",
    "os.chdir(\"/scratch/ak1774/runs\")"
   ]
  },
  {
   "cell_type": "code",
   "execution_count": 3,
   "metadata": {},
   "outputs": [],
   "source": [
    "client = Client(n_workers=10, threads_per_worker=1)"
   ]
  },
  {
   "cell_type": "code",
   "execution_count": 4,
   "metadata": {},
   "outputs": [],
   "source": [
    "def set_up_worker():\n",
    "    import os\n",
    "    os.environ[\"MKL_NUM_THREADS\"] = \"1\" \n",
    "    os.environ[\"NUMEXPR_NUM_THREADS\"] = \"1\" \n",
    "    os.environ[\"OMP_NUM_THREADS\"] = \"1\" \n",
    "    \n",
    "client.run(set_up_worker);"
   ]
  },
  {
   "cell_type": "code",
   "execution_count": 5,
   "metadata": {},
   "outputs": [],
   "source": [
    "%load_ext autoreload\n",
    "%autoreload 2"
   ]
  },
  {
   "cell_type": "code",
   "execution_count": 6,
   "metadata": {},
   "outputs": [],
   "source": [
    "from es_map import es_update\n",
    "from es_map import distributed_evaluate\n",
    "from es_map.interaction import interaction\n",
    "from es_map import behavior_map\n",
    "from es_map import novelty_archive\n",
    "from es_map import map_elite_utils"
   ]
  },
  {
   "cell_type": "code",
   "execution_count": 7,
   "metadata": {},
   "outputs": [],
   "source": [
    "config = {\n",
    "    \"env_id\" : \"DamageAnt-v2\",\n",
    "    \"policy_args\" : {\n",
    "        \"init\" : \"normc\",\n",
    "        \"layers\" :[256, 256],\n",
    "       \"activation\" : 'tanh',\n",
    "       \"action_noise\" : 0.01,\n",
    "    },\n",
    "    \"env_args\" : {\n",
    "        \"use_norm_obs\" : True,\n",
    "    },\n",
    "    \n",
    "    \"ES_NUM_INITIAL_RANDOM_INDIVIDUALS_TO_POPULATE_MAP\" : 20,\n",
    "    \n",
    "    \"ES_NUM_GENERATIONS\" : 1000,\n",
    "    \"ES_popsize\" : 100,\n",
    "    \"ES_sigma\" : 0.02,\n",
    "    \"ES_EVALUATION_BATCH_SIZE\" : 5,\n",
    "    \"ES_lr\" : 0.01,\n",
    "    \n",
    "    \"ES_CENTRAL_NUM_EVALUATIONS\" : 30,\n",
    "    \"ES_STEPS_UNTIL_NEW_PARENT_SELECTION\" : 5,\n",
    "    \n",
    "    \"GA_MAP_ELITES_NUM_GENERATIONS\" : 1000,\n",
    "    \n",
    "    \"GA_CHILDREN_PER_GENERATION\" : 200,\n",
    "    \"GA_NUM_EVALUATIONS\" : 10,\n",
    "    \n",
    "    \"GA_MULTI_PARENT_MODE\" : True,\n",
    "    \"GA_PARENT_SELECTION_MODE\" : \"rank_proportional\",  # \"uniform\", \"rank_proportional\"\n",
    "    \"GA_RANK_PROPORTIONAL_SELECTION_AGRESSIVENESS\" : 1.0,  # 0.0 uniform, 1.0 normal , higher more agressive\n",
    "    \"GA_MUTATION_POWER\" : 0.02,\n",
    "    \n",
    "    \"map_elites_grid_description\" : {\n",
    "        \"bc_limits\" : [[0,1],[0,1],[0,1],[0,1]],\n",
    "        \"grid_dims\" : [6,6,6,6],\n",
    "    },\n",
    "    \n",
    "    # BMAP settings\n",
    "    \"BMAP_type_and_metrics\" : [\"single_map\",    # type can be: \"single_map\",\"multi_map\",\"nd_sorted_map\" \n",
    "                               [\"fitness\"]],    # metric can be: [\"f\"],[\"f\",e], [\"f,e,i\"], etc... \n",
    "    \"ES_UPDATES_MODES_TO_USE\" : [\"fitness\"],#\"evolvability\",\"innovation\"], # list of updates to use\n",
    "    \"ES_PARENT_SELECTION_MODE\" : \"rank_proportional\",  # \"uniform\", \"rank_proportional\"\n",
    "    \"ES_RANK_PROPORTIONAL_SELECTION_AGRESSIVENESS\" : 1.0,  # 0.0 uniform, 1.0 normal , higher more agressive\n",
    "    \n",
    "    \"NOVELTY_CALCULATION_NUM_NEIGHBORS\" : 10,\n",
    "    \n",
    "    \n",
    "    \"CHECKPOINT_FREQUENCY\" : 100,\n",
    "    \"PLOT_FREQUENCY\" : 100,\n",
    "}"
   ]
  },
  {
   "cell_type": "code",
   "execution_count": 8,
   "metadata": {},
   "outputs": [
    {
     "name": "stderr",
     "output_type": "stream",
     "text": [
      "wandb: Currently logged in as: adam_katona (use `wandb login --relogin` to force relogin)\n",
      "wandb: wandb version 0.12.9 is available!  To upgrade, please run:\n",
      "wandb:  $ pip install wandb --upgrade\n"
     ]
    },
    {
     "data": {
      "text/html": [
       "\n",
       "                    Syncing run <strong><a href=\"https://wandb.ai/adam_katona/evolvability_map_elites/runs/984vqkhn\" target=\"_blank\">ancient-sky-39</a></strong> to <a href=\"https://wandb.ai/adam_katona/evolvability_map_elites\" target=\"_blank\">Weights & Biases</a> (<a href=\"https://docs.wandb.com/integrations/jupyter.html\" target=\"_blank\">docs</a>).<br/>\n",
       "\n",
       "                "
      ],
      "text/plain": [
       "<IPython.core.display.HTML object>"
      ]
     },
     "metadata": {},
     "output_type": "display_data"
    }
   ],
   "source": [
    "wandb_logging = True\n",
    "if wandb_logging is True:\n",
    "    import wandb\n",
    "    config\n",
    "    #wandb.config = config\n",
    "    wandb.init(project=\"evolvability_map_elites\", entity=\"adam_katona\")\n",
    "    wandb.run.name = \"me_es_test\"\n",
    "    wandb.run.config.update(config)\n",
    "\n",
    "    run_name = wandb.run.dir.split(\"/\")[-2]\n",
    "    run_checkpoint_path = \"/scratch/ak1774/runs/large_files/\" + run_name\n",
    "    os.makedirs(run_checkpoint_path,exist_ok=True)"
   ]
  },
  {
   "cell_type": "code",
   "execution_count": 9,
   "metadata": {},
   "outputs": [],
   "source": [
    "import itertools\n",
    "        \n",
    "def create_id_generator():\n",
    "    counter = itertools.count()\n",
    "    def get_next_id():\n",
    "        return next(counter)\n",
    "    return get_next_id\n",
    "    \n",
    "get_next_individual_id = create_id_generator()"
   ]
  },
  {
   "cell_type": "code",
   "execution_count": null,
   "metadata": {},
   "outputs": [],
   "source": []
  },
  {
   "cell_type": "code",
   "execution_count": 10,
   "metadata": {},
   "outputs": [],
   "source": [
    "####################\n",
    "## SINGLE MAP ######\n",
    "####################"
   ]
  },
  {
   "cell_type": "code",
   "execution_count": 11,
   "metadata": {},
   "outputs": [
    {
     "name": "stdout",
     "output_type": "stream",
     "text": [
      "staring run_es_map_elites_single_map\n",
      "CREATING RANDOM INDIVIDUAL\n",
      "new parent selected\n",
      "new update started\n",
      "0 1 1002.7893505029407\n",
      "new update started\n",
      "1 2 1002.7893505029407\n",
      "new update started\n",
      "2 2 1002.7893505029407\n",
      "new parent selected\n",
      "new update started\n",
      "3 2 1002.7893505029407\n",
      "new update started\n",
      "4 3 1002.7893505029407\n",
      "new update started\n",
      "5 4 1002.7893505029407\n",
      "new parent selected\n",
      "new update started\n",
      "6 4 1002.7893505029407\n",
      "new update started\n",
      "7 4 1002.7893505029407\n",
      "new update started\n",
      "8 4 1002.7893505029407\n",
      "new parent selected\n",
      "new update started\n",
      "9 5 1002.7893505029407\n",
      "new update started\n",
      "10 5 1002.7893505029407\n",
      "10\n",
      "generation_number 10\n",
      "nonempty_cells 5\n",
      "nonempty_ratio 0.0038580246913580245\n",
      "best_fitness_so_far 1002.7893505029407\n",
      "best_evolvability_so_far 0.5636820850118095\n",
      "current_children_fitness_mean 931.210173423072\n",
      "current_children_fitness_std 46.655241378000134\n",
      "current_eval_fitness 979.6856014213819\n",
      "current_evolvability 0.512684284722222\n",
      "current_innovation 0.9483553425012256\n",
      "new update started\n",
      "11 5 1002.7893505029407\n",
      "new parent selected\n",
      "new update started\n",
      "12 5 1002.7893505029407\n",
      "new update started\n",
      "13 5 1002.7893505029407\n",
      "new update started\n",
      "14 5 1002.7893505029407\n",
      "Done, reached iteration:  15\n",
      "Doing final save!\n",
      "Final save done:  /scratch/ak1774/runs/large_files/run-20220105_093754-984vqkhn\n"
     ]
    },
    {
     "data": {
      "image/png": "[encoded data removed]",
      "text/plain": [
       "<Figure size 432x288 with 1 Axes>"
      ]
     },
     "metadata": {
      "needs_background": "light"
     },
     "output_type": "display_data"
    },
    {
     "data": {
      "image/png": "[encoded data removed]",
      "text/plain": [
       "<Figure size 432x288 with 1 Axes>"
      ]
     },
     "metadata": {
      "needs_background": "light"
     },
     "output_type": "display_data"
    }
   ],
   "source": [
    "from es_map import es_map_elites\n",
    "es_map_elites.run_es_map_elites_single_map(client,config,wandb_logging=wandb_logging)\n"
   ]
  },
  {
   "cell_type": "code",
   "execution_count": 12,
   "metadata": {},
   "outputs": [],
   "source": [
    "path = \"/scratch/ak1774/runs/large_files/run-20220105_093754-984vqkhn/\"\n",
    "b_map_data = np.load(path+\"b_map.npy\",allow_pickle=True)\n",
    "b_map = behavior_map.Grid_behaviour_map(config)\n",
    "b_map.data = b_map_data\n",
    "\n",
    "b_archive = novelty_archive.NoveltyArchive(bc_dim = len(config[\"map_elites_grid_description\"][\"grid_dims\"]))\n",
    "b_archive.load_from_file(path+\"b_archive.npy\")  \n"
   ]
  },
  {
   "cell_type": "code",
   "execution_count": 17,
   "metadata": {},
   "outputs": [],
   "source": [
    "non_empty = b_map.get_non_empty_cells()"
   ]
  },
  {
   "cell_type": "code",
   "execution_count": 19,
   "metadata": {},
   "outputs": [
    {
     "name": "stdout",
     "output_type": "stream",
     "text": [
      "5  ->  6\n",
      "2  ->  10\n",
      "4  ->  5\n",
      "1  ->  2\n",
      "0  ->  1\n"
     ]
    }
   ],
   "source": [
    "for val in non_empty:\n",
    "    print(val[\"elite\"][\"parent_ID\"],\" -> \",val[\"elite\"][\"ID\"])"
   ]
  },
  {
   "cell_type": "code",
   "execution_count": 22,
   "metadata": {},
   "outputs": [
    {
     "name": "stdout",
     "output_type": "stream",
     "text": [
      "0.8819801175926912\n",
      "1.1248987699199067\n",
      "1.0178191986263412\n",
      "0.8490709091754112\n",
      "0.0\n"
     ]
    }
   ],
   "source": [
    "for val in non_empty:\n",
    "    print(val[\"elite\"][\"innovation\"])"
   ]
  },
  {
   "cell_type": "code",
   "execution_count": 20,
   "metadata": {},
   "outputs": [
    {
     "data": {
      "text/plain": [
       "array([{'elite': {'params': array([-0.07261   ,  0.08643386, -0.07179888, ...,  0.02999999,\n",
       "        0.08999998, -0.01      ], dtype=float32), 'ID': 6, 'parent_ID': 5, 'generation_created': 5, 'child_eval': {'noise_descriptors': [(17928319, 1), (91375039, 1), (18054745, 1), (33682388, 1), (56855153, 1), (99774933, 1), (17928319, -1), (91375039, -1), (18054745, -1), (33682388, -1), (56855153, -1), (99774933, -1)], 'fitnesses': array([ 993.4061404 ,  990.24855026,  999.52314359, 1001.76143257,\n",
       "        982.95016805,  993.24580099,  985.82323806,  991.18547174,\n",
       "        994.42099981,  995.36613476,  979.20012972,  994.96111701]), 'bcs': array([[0.981, 0.968, 0.821, 0.969],\n",
       "       [0.974, 0.971, 0.013, 0.969],\n",
       "       [0.946, 0.983, 0.002, 0.99 ],\n",
       "       [0.957, 0.954, 0.949, 0.966],\n",
       "       [0.869, 0.687, 0.902, 0.011],\n",
       "       [0.002, 0.988, 0.952, 0.987],\n",
       "       [0.972, 0.975, 0.971, 0.977],\n",
       "       [0.603, 0.854, 0.742, 0.869],\n",
       "       [0.989, 0.031, 0.975, 0.891],\n",
       "       [0.989, 0.001, 0.986, 0.97 ],\n",
       "       [0.989, 0.991, 0.001, 0.988],\n",
       "       [0.983, 0.441, 0.972, 0.418]]), 'child_obs_sum': array([0., 0., 0., 0., 0., 0., 0., 0., 0., 0., 0., 0., 0., 0., 0., 0., 0.,\n",
       "       0., 0., 0., 0., 0., 0., 0., 0., 0., 0.], dtype=float32), 'child_obs_sq': array([0., 0., 0., 0., 0., 0., 0., 0., 0., 0., 0., 0., 0., 0., 0., 0., 0.,\n",
       "       0., 0., 0., 0., 0., 0., 0., 0., 0., 0.], dtype=float32), 'child_obs_count': 0, 'batch_time': 2.1065436204274497}, 'eval_fitness': 999.1972677380526, 'eval_bc': array([0.988     , 0.00266667, 0.989     , 0.98366667]), 'obs_stats': {'obs_sum': None, 'obs_sq': None, 'obs_count': None}, 'evolvability': 0.4517648541666666, 'innovation': 0.8819801175926912, 'innovation_over_time': {5: 0.8819801175926912}}},\n",
       "       {'elite': {'params': array([-0.07261   ,  0.08643386, -0.07179888, ...,  0.02999999,\n",
       "        0.08999998, -0.01      ], dtype=float32), 'ID': 10, 'parent_ID': 2, 'generation_created': 9, 'child_eval': {'noise_descriptors': [(74443151, 1), (16567635, 1), (81961596, 1), (19307416, 1), (45078269, 1), (64854041, 1), (74443151, -1), (16567635, -1), (81961596, -1), (19307416, -1), (45078269, -1), (64854041, -1)], 'fitnesses': array([971.23472998,  45.66040006, 205.18546156, 947.84614347,\n",
       "       982.15111773, 815.31414194, 955.25159769, 830.04267351,\n",
       "       951.51361904, 915.25975379, 925.11590172, 944.58553028]), 'bcs': array([[0.971     , 0.962     , 0.967     , 0.958     ],\n",
       "       [0.09090909, 0.1038961 , 0.07792208, 0.12987013],\n",
       "       [0.10566038, 0.14339623, 0.09811321, 0.1245283 ],\n",
       "       [0.72      , 0.727     , 0.095     , 0.745     ],\n",
       "       [0.918     , 0.023     , 0.915     , 0.906     ],\n",
       "       [0.149     , 0.133     , 0.109     , 0.151     ],\n",
       "       [0.973     , 0.944     , 0.03      , 0.957     ],\n",
       "       [0.336     , 0.111     , 0.323     , 0.234     ],\n",
       "       [0.976     , 0.877     , 0.975     , 0.01      ],\n",
       "       [0.661     , 0.781     , 0.067     , 0.773     ],\n",
       "       [0.291     , 0.182     , 0.335     , 0.106     ],\n",
       "       [0.96      , 0.906     , 0.973     , 0.663     ]]), 'child_obs_sum': array([0., 0., 0., 0., 0., 0., 0., 0., 0., 0., 0., 0., 0., 0., 0., 0., 0.,\n",
       "       0., 0., 0., 0., 0., 0., 0., 0., 0., 0.], dtype=float32), 'child_obs_sq': array([0., 0., 0., 0., 0., 0., 0., 0., 0., 0., 0., 0., 0., 0., 0., 0., 0.,\n",
       "       0., 0., 0., 0., 0., 0., 0., 0., 0., 0.], dtype=float32), 'child_obs_count': 0, 'batch_time': 1.6694870789845784}, 'eval_fitness': 983.506026409645, 'eval_bc': array([0.96766667, 0.634     , 0.96433333, 0.95666667]), 'obs_stats': {'obs_sum': None, 'obs_sq': None, 'obs_count': None}, 'evolvability': 0.5636820850118095, 'innovation': 1.1248987699199067, 'innovation_over_time': {9: 1.1248987699199067}}},\n",
       "       {'elite': {'params': array([-0.07261   ,  0.08643386, -0.07179888, ...,  0.02999999,\n",
       "        0.08999998, -0.01      ], dtype=float32), 'ID': 5, 'parent_ID': 4, 'generation_created': 4, 'child_eval': {'noise_descriptors': [(33566833, 1), (4045581, 1), (76082779, 1), (78919244, 1), (33425525, 1), (32101523, 1), (33566833, -1), (4045581, -1), (76082779, -1), (78919244, -1), (33425525, -1), (32101523, -1)], 'fitnesses': array([999.17310938, 989.78325913, 997.6619507 , 992.36150802,\n",
       "       998.46884567, 998.63873565, 996.15219056, 985.59287899,\n",
       "       999.10598711, 989.35127345, 986.75510784, 985.4043183 ]), 'bcs': array([[0.892, 0.652, 0.48 , 0.959],\n",
       "       [0.801, 0.983, 0.822, 0.98 ],\n",
       "       [0.9  , 0.975, 0.007, 0.977],\n",
       "       [0.931, 0.981, 0.006, 0.981],\n",
       "       [0.755, 0.981, 0.065, 0.939],\n",
       "       [0.936, 0.983, 0.003, 0.988],\n",
       "       [0.939, 0.983, 0.954, 0.973],\n",
       "       [0.979, 0.008, 0.978, 0.92 ],\n",
       "       [0.989, 0.005, 0.984, 0.982],\n",
       "       [0.974, 0.982, 0.   , 0.989],\n",
       "       [0.955, 0.306, 0.902, 0.097],\n",
       "       [0.013, 0.977, 0.956, 0.974]]), 'child_obs_sum': array([0., 0., 0., 0., 0., 0., 0., 0., 0., 0., 0., 0., 0., 0., 0., 0., 0.,\n",
       "       0., 0., 0., 0., 0., 0., 0., 0., 0., 0.], dtype=float32), 'child_obs_sq': array([0., 0., 0., 0., 0., 0., 0., 0., 0., 0., 0., 0., 0., 0., 0., 0., 0.,\n",
       "       0., 0., 0., 0., 0., 0., 0., 0., 0., 0.], dtype=float32), 'child_obs_count': 0, 'batch_time': 1.9760231971740723}, 'eval_fitness': 1001.4499222732247, 'eval_bc': array([0.98233333, 0.97166667, 0.015     , 0.97366667]), 'obs_stats': {'obs_sum': None, 'obs_sq': None, 'obs_count': None}, 'evolvability': 0.46249443055555556, 'innovation': 1.0178191986263412, 'innovation_over_time': {4: 1.0178191986263412}}},\n",
       "       {'elite': {'params': array([-0.07261   ,  0.08643386, -0.07179888, ...,  0.02999999,\n",
       "        0.08999998, -0.01      ], dtype=float32), 'ID': 2, 'parent_ID': 1, 'generation_created': 1, 'child_eval': {'noise_descriptors': [(38308920, 1), (12937047, 1), (48036982, 1), (392363, 1), (18865249, 1), (29069312, 1), (38308920, -1), (12937047, -1), (48036982, -1), (392363, -1), (18865249, -1), (29069312, -1)], 'fitnesses': array([ 996.90438031, 1000.62825536,  987.78341754, 1004.53882695,\n",
       "        999.79990162,  997.56046332,  993.85519973,  992.99500075,\n",
       "        997.11297619,  999.93249739,  996.49143235,  991.32541235]), 'bcs': array([[0.99 , 0.093, 0.992, 0.664],\n",
       "       [0.921, 0.456, 0.814, 0.702],\n",
       "       [0.162, 0.938, 0.949, 0.864],\n",
       "       [0.927, 0.085, 0.981, 0.936],\n",
       "       [0.987, 0.988, 0.989, 0.002],\n",
       "       [0.987, 0.888, 0.964, 0.028],\n",
       "       [0.987, 0.963, 0.951, 0.132],\n",
       "       [0.975, 0.959, 0.986, 0.012],\n",
       "       [0.989, 0.   , 0.991, 0.835],\n",
       "       [0.967, 0.985, 0.002, 0.99 ],\n",
       "       [0.977, 0.951, 0.805, 0.936],\n",
       "       [0.002, 0.989, 0.984, 0.987]]), 'child_obs_sum': array([0., 0., 0., 0., 0., 0., 0., 0., 0., 0., 0., 0., 0., 0., 0., 0., 0.,\n",
       "       0., 0., 0., 0., 0., 0., 0., 0., 0., 0.], dtype=float32), 'child_obs_sq': array([0., 0., 0., 0., 0., 0., 0., 0., 0., 0., 0., 0., 0., 0., 0., 0., 0.,\n",
       "       0., 0., 0., 0., 0., 0., 0., 0., 0., 0.], dtype=float32), 'child_obs_count': 0, 'batch_time': 2.006605307261149}, 'eval_fitness': 1001.022834334075, 'eval_bc': array([0.988     , 0.954     , 0.98766667, 0.00733333]), 'obs_stats': {'obs_sum': None, 'obs_sq': None, 'obs_count': None}, 'evolvability': 0.4958065416666666, 'innovation': 0.8490709091754112, 'innovation_over_time': {1: 0.8490709091754112}}},\n",
       "       {'elite': {'params': array([-0.07261   ,  0.08643386, -0.07179888, ...,  0.02999999,\n",
       "        0.08999998, -0.01      ], dtype=float32), 'ID': 1, 'parent_ID': 0, 'generation_created': 0, 'child_eval': {'noise_descriptors': [(59862828, 1), (65777096, 1), (91824745, 1), (99788679, 1), (19975425, 1), (69493274, 1), (59862828, -1), (65777096, -1), (91824745, -1), (99788679, -1), (19975425, -1), (69493274, -1)], 'fitnesses': array([ 997.86881001,  999.30211427,  999.50995937,  994.96091802,\n",
       "       1000.06917221,  998.50377966,  991.69924443,  992.76542909,\n",
       "       1000.71389135,  995.99257031,  995.74558193, 1000.75021521]), 'bcs': array([[0.985, 0.977, 0.988, 0.001],\n",
       "       [0.986, 0.001, 0.992, 0.644],\n",
       "       [0.986, 0.561, 0.991, 0.002],\n",
       "       [0.992, 0.972, 0.994, 0.001],\n",
       "       [0.918, 0.519, 0.934, 0.483],\n",
       "       [0.98 , 0.292, 0.912, 0.379],\n",
       "       [0.098, 0.983, 0.806, 0.994],\n",
       "       [0.981, 0.989, 0.584, 0.983],\n",
       "       [0.863, 0.848, 0.272, 0.886],\n",
       "       [0.974, 0.774, 0.294, 0.918],\n",
       "       [0.476, 0.611, 0.965, 0.936],\n",
       "       [0.831, 0.988, 0.006, 0.988]]), 'child_obs_sum': array([0., 0., 0., 0., 0., 0., 0., 0., 0., 0., 0., 0., 0., 0., 0., 0., 0.,\n",
       "       0., 0., 0., 0., 0., 0., 0., 0., 0., 0.], dtype=float32), 'child_obs_sq': array([0., 0., 0., 0., 0., 0., 0., 0., 0., 0., 0., 0., 0., 0., 0., 0., 0.,\n",
       "       0., 0., 0., 0., 0., 0., 0., 0., 0., 0.], dtype=float32), 'child_obs_count': 0, 'batch_time': 1.943853219350179}, 'eval_fitness': 1002.7893505029407, 'eval_bc': array([0.98366667, 0.98233333, 0.967     , 0.986     ]), 'obs_stats': {'obs_sum': None, 'obs_sq': None, 'obs_count': None}, 'evolvability': 0.43454770833333334, 'innovation': 0.0, 'innovation_over_time': {0: 0.0}}}],\n",
       "      dtype=object)"
      ]
     },
     "execution_count": 20,
     "metadata": {},
     "output_type": "execute_result"
    }
   ],
   "source": [
    "non_empty"
   ]
  },
  {
   "cell_type": "code",
   "execution_count": null,
   "metadata": {},
   "outputs": [],
   "source": []
  },
  {
   "cell_type": "code",
   "execution_count": 18,
   "metadata": {},
   "outputs": [
    {
     "name": "stdout",
     "output_type": "stream",
     "text": [
      "CREATING RANDOM INDIVIDUAL\n",
      "1 2 1007.1448011801327\n",
      "3 2 1007.1448011801327\n",
      "5 3 1007.1448011801327\n",
      "7 4 1007.1448011801327\n",
      "9 4 1007.1448011801327\n",
      "11 5 1007.1448011801327\n",
      "13 6 1007.1448011801327\n",
      "15 6 1007.1448011801327\n",
      "17 6 1007.1448011801327\n",
      "Done, reached iteration:  15\n",
      "Doing final save!\n"
     ]
    },
    {
     "ename": "NameError",
     "evalue": "name 'run_checkpoint_path' is not defined",
     "output_type": "error",
     "traceback": [
      "\u001b[0;31m---------------------------------------------------------------------------\u001b[0m",
      "\u001b[0;31mNameError\u001b[0m                                 Traceback (most recent call last)",
      "\u001b[0;32m<ipython-input-18-094554036c0b>\u001b[0m in \u001b[0;36m<module>\u001b[0;34m\u001b[0m\n\u001b[1;32m    260\u001b[0m \u001b[0;31m################\u001b[0m\u001b[0;34m\u001b[0m\u001b[0;34m\u001b[0m\u001b[0;34m\u001b[0m\u001b[0m\n\u001b[1;32m    261\u001b[0m \u001b[0mprint\u001b[0m\u001b[0;34m(\u001b[0m\u001b[0;34m\"Doing final save!\"\u001b[0m\u001b[0;34m)\u001b[0m\u001b[0;34m\u001b[0m\u001b[0;34m\u001b[0m\u001b[0m\n\u001b[0;32m--> 262\u001b[0;31m \u001b[0mnp\u001b[0m\u001b[0;34m.\u001b[0m\u001b[0msave\u001b[0m\u001b[0;34m(\u001b[0m\u001b[0mrun_checkpoint_path\u001b[0m\u001b[0;34m+\u001b[0m\u001b[0;34m\"/b_map.npy\"\u001b[0m\u001b[0;34m,\u001b[0m\u001b[0mb_map\u001b[0m\u001b[0;34m.\u001b[0m\u001b[0mdata\u001b[0m\u001b[0;34m,\u001b[0m\u001b[0mallow_pickle\u001b[0m\u001b[0;34m=\u001b[0m\u001b[0;32mTrue\u001b[0m\u001b[0;34m)\u001b[0m\u001b[0;34m\u001b[0m\u001b[0;34m\u001b[0m\u001b[0m\n\u001b[0m\u001b[1;32m    263\u001b[0m \u001b[0mb_archive\u001b[0m\u001b[0;34m.\u001b[0m\u001b[0msave_to_file\u001b[0m\u001b[0;34m(\u001b[0m\u001b[0mrun_checkpoint_path\u001b[0m\u001b[0;34m+\u001b[0m\u001b[0;34m\"/b_archive.npy\"\u001b[0m\u001b[0;34m)\u001b[0m\u001b[0;34m\u001b[0m\u001b[0;34m\u001b[0m\u001b[0m\n\u001b[1;32m    264\u001b[0m \u001b[0mprint\u001b[0m\u001b[0;34m(\u001b[0m\u001b[0;34m\"Final save done: \"\u001b[0m\u001b[0;34m,\u001b[0m \u001b[0mrun_checkpoint_path\u001b[0m\u001b[0;34m)\u001b[0m\u001b[0;34m\u001b[0m\u001b[0;34m\u001b[0m\u001b[0m\n",
      "\u001b[0;31mNameError\u001b[0m: name 'run_checkpoint_path' is not defined"
     ]
    }
   ],
   "source": [
    "# TODO dump config into large file folder\n",
    "\n",
    "DEBUG = True\n",
    "if DEBUG:\n",
    "    config[\"ES_NUM_GENERATIONS\"] = 15\n",
    "    config[\"ES_popsize\"] = 12\n",
    "    config[\"ES_NUM_INITIAL_RANDOM_INDIVIDUALS_TO_POPULATE_MAP\"] = 1\n",
    "    config[\"ES_CENTRAL_NUM_EVALUATIONS\"] = 3\n",
    "    config[\"ES_STEPS_UNTIL_NEW_PARENT_SELECTION\"] = 3\n",
    "    \n",
    "\n",
    "\n",
    "generation_number = 0\n",
    "evaluations_so_far = 0\n",
    "best_fitness_so_far = 0\n",
    "best_model_so_far = None\n",
    "best_evolvability_so_far = 0\n",
    "\n",
    "\n",
    "\n",
    "b_map = behavior_map.Grid_behaviour_map(config)\n",
    "b_archive = novelty_archive.NoveltyArchive(bc_dim = len(config[\"map_elites_grid_description\"][\"grid_dims\"]))\n",
    "\n",
    "while True:\n",
    "    if generation_number >= config[\"ES_NUM_GENERATIONS\"]:\n",
    "        print(\"Done, reached iteration: \",config[\"ES_NUM_GENERATIONS\"])\n",
    "        break\n",
    "        \n",
    "    non_empty_cells = b_map.get_non_empty_cells()\n",
    "    \n",
    "    ##############################################\n",
    "    ## Populate the map with random individuals ##\n",
    "    ##############################################\n",
    "    if len(non_empty_cells) == 0: # no parent available\n",
    "        \n",
    "        for _ in range(config[\"ES_NUM_INITIAL_RANDOM_INDIVIDUALS_TO_POPULATE_MAP\"]):\n",
    "            print(\"CREATING RANDOM INDIVIDUAL\")\n",
    "            new_individual_params = map_elite_utils.get_random_individual(config)\n",
    "\n",
    "            # for the single map we are only interested in the fitness\n",
    "            # but we maybe should calculate evolvability and innovation so we can compare them to the other algos\n",
    "\n",
    "            eval_results = distributed_evaluate.evaluate_individual_repeated(theta=new_individual_params,\n",
    "                                                             obs_mean=None,obs_std=None,eval=True,\n",
    "                                                             config=config,repeat_n=config[\"ES_CENTRAL_NUM_EVALUATIONS\"])\n",
    "\n",
    "            # TODO, maybe also evaluate children to get evolvability\n",
    "            \n",
    "            # insert the new individual in the map\n",
    "            map_coords = b_map.get_cell_coords(eval_results[\"bc\"])\n",
    "            # Add to map if fitness is larger, or map is empty\n",
    "            \n",
    "            # id the cell occupied?\n",
    "            needs_adding = False\n",
    "            if b_map.data[map_coords] is None:\n",
    "                needs_adding = True\n",
    "            elif b_map.data[map_coords][\"elite\"][\"eval_fitness\"] < eval_results[\"fitness\"]:\n",
    "                needs_adding = True\n",
    "            \n",
    "            if needs_adding is True:      \n",
    "                new_individual = {\n",
    "                    \"params\" : new_individual_params,\n",
    "                    \"ID\" : get_next_individual_id(),\n",
    "                    \"parent_ID\" : None,\n",
    "                    \"generation_created\" : generation_number,\n",
    "                    \n",
    "                    \"child_eval\" : None, # TODO\n",
    "                    \n",
    "                    \"eval_fitness\" : eval_results[\"fitness\"],\n",
    "                    \"eval_bc\" : eval_results[\"bc\"],\n",
    "                    \n",
    "                    \"obs_stats\" : {  \n",
    "                        \"obs_sum\" : None,  # TODO handle obs stats\n",
    "                        \"obs_sq\" : None,\n",
    "                        \"obs_count\" : None,\n",
    "                    },\n",
    "                    \n",
    "                    \"evolvability\" : None,\n",
    "                    \"innovation\" : None,\n",
    "\n",
    "                    \"innovation_over_time\" : None,  # innovation decreases over time, as we add new individuals to the archive\n",
    "                    #{  \n",
    "                    #    generation_number : innovation_at_generation,\n",
    "                    #    generation_number : innovation_at_generation,\n",
    "                    #},\n",
    "                }\n",
    "                \n",
    "                new_cell = {\n",
    "                    \"elite\" : new_individual\n",
    "                }\n",
    "                b_map.data[map_coords] = new_cell\n",
    "                \n",
    "                if new_individual[\"eval_fitness\"] > best_fitness_so_far:\n",
    "                    best_fitness_so_far = new_individual[\"eval_fitness\"]\n",
    "            \n",
    "\n",
    "    ######################\n",
    "    ## PARENT SELECTION ##\n",
    "    ######################\n",
    "    else:\n",
    "        if config[\"ES_PARENT_SELECTION_MODE\"] == \"uniform\":\n",
    "            parent_cell = np.random.choice(non_empty_cells)  # NOTE, here goes cell selection method\n",
    "        elif config[\"ES_PARENT_SELECTION_MODE\"] == \"rank_proportional\":\n",
    "            sorted_cells = sorted(non_empty_cells,key=lambda x : x[\"elite\"][\"eval_fitness\"])                \n",
    "            selected_index = map_elite_utils.rank_based_selection(num_parent_candidates=len(sorted_cells),\n",
    "                                                     num_children=None, # only want a single parent\n",
    "                                                     agressiveness=config[\"ES_RANK_PROPORTIONAL_SELECTION_AGRESSIVENESS\"])\n",
    "            parent_cell = sorted_cells[selected_index]\n",
    "            \n",
    "        \n",
    "        current_individual = parent_cell[\"elite\"]\n",
    "            \n",
    "        # decide on update mode (explore,exploit,build_evolvability)\n",
    "        es_update_mode = np.random.choice(config[\"ES_UPDATES_MODES_TO_USE\"])\n",
    "            \n",
    "        for update_step_i in range(config[\"ES_STEPS_UNTIL_NEW_PARENT_SELECTION\"]):\n",
    "            \n",
    "            #######################\n",
    "            ## EVALUATE CHILDREN ##\n",
    "            #######################\n",
    "            # does this cell already have cached evaluations?, then we can reuse it\n",
    "            if current_individual[\"child_eval\"] is None:  # maybe this should never happen, we will see\n",
    "                #current_individual -> obs_mean,obs_std # TODO\n",
    "                obs_mean,obs_std = None,None\n",
    "                current_individual[\"child_eval\"] = distributed_evaluate.es_evaluate_children(client,current_individual[\"params\"],obs_mean,obs_std,config)\n",
    "                \n",
    "                \n",
    "            ##################\n",
    "            ## DO ES UPDATE ##\n",
    "            ##################\n",
    "            updated_theta = es_update.es_update(current_individual[\"params\"],current_individual[\"child_eval\"],\n",
    "                                                config,es_update_type=es_update_mode,novelty_archive=b_archive)\n",
    "            \n",
    "            if current_individual[\"evolvability\"] is None:\n",
    "                current_evolvability = es_update.calculate_behavioural_variance(child_evaluations,config)\n",
    "                current_innovation = es_update.calculate_innovativeness(child_evaluations,b_archive,config)\n",
    "                current_individual[\"evolvability\"] = current_evolvability\n",
    "                current_individual[\"innovation\"] = current_innovation\n",
    "                \n",
    "            \n",
    "            \n",
    "            ############################\n",
    "            ## EVALUATE UPDATED THETA ##\n",
    "            ############################\n",
    "            \n",
    "            updated_eval_results = distributed_evaluate.evaluate_individual_repeated(theta=updated_theta,\n",
    "                                                             obs_mean=None,obs_std=None,eval=True,\n",
    "                                                             config=config,repeat_n=config[\"ES_CENTRAL_NUM_EVALUATIONS\"])\n",
    "            \n",
    "            ##################################\n",
    "            ## EVALUATE CHILDREN OF UPDATED ##\n",
    "            ##################################\n",
    "            \n",
    "            updated_child_eval = distributed_evaluate.es_evaluate_children(client,updated_theta,obs_mean=None,obs_std=None,config=config)\n",
    "            updated_evolvability = es_update.calculate_behavioural_variance(updated_child_eval,config)\n",
    "            updated_innovation = es_update.calculate_innovativeness(updated_child_eval,b_archive,config)\n",
    "            \n",
    "            new_individual = {\n",
    "                \"params\" : updated_theta,  # 1d torch tensor containing the parameters \n",
    "                \"ID\" : get_next_individual_id(),\n",
    "                \"parent_ID\" : current_individual[\"ID\"],\n",
    "                \"generation_created\" : generation_number,\n",
    "\n",
    "                \"child_eval\" : updated_child_eval,\n",
    "\n",
    "                \"eval_fitness\" : updated_eval_results[\"fitness\"],\n",
    "                \"eval_bc\" : updated_eval_results[\"bc\"],\n",
    "\n",
    "                \"obs_stats\" : {   # TODO\n",
    "                    \"obs_sum\" : None,\n",
    "                    \"obs_sq\" : None,\n",
    "                    \"obs_count\" : None,\n",
    "                },\n",
    "\n",
    "                \"evolvability\" : updated_evolvability,\n",
    "                \"innovation\" : updated_innovation,\n",
    "\n",
    "                \"innovation_over_time\" : {   # innovation decreases over time, as we add new individuals to the archive\n",
    "                    generation_number : updated_innovation,\n",
    "                },\n",
    "            }\n",
    "            \n",
    "            if new_individual[\"evolvability\"] > best_evolvability_so_far:\n",
    "                best_evolvability_so_far = new_individual[\"evolvability\"]\n",
    "            if new_individual[\"eval_fitness\"] > best_fitness_so_far:\n",
    "                best_fitness_so_far = new_individual[\"eval_fitness\"]\n",
    "            \n",
    "            #########################\n",
    "            ## INSERT INTO ARCHIVE ##\n",
    "            #########################\n",
    "            \n",
    "            # Weather or not we insert it, we add it to the behavior archive\n",
    "            b_archive.add_to_archive(new_individual[\"eval_bc\"])\n",
    "            \n",
    "            map_coords = b_map.get_cell_coords(new_individual[\"eval_bc\"])\n",
    "            if b_map.data[map_coords] is None:\n",
    "                new_cell = { \"elite\" : new_individual }\n",
    "                b_map.data[map_coords] = new_cell\n",
    "            elif b_map.data[map_coords][\"elite\"][\"eval_fitness\"] < new_individual[\"eval_fitness\"]:\n",
    "                b_map.data[map_coords][\"elite\"] = new_individual \n",
    "                \n",
    "            ################################\n",
    "            ## PREPARE FOR NEXT ITERATION ##\n",
    "            ################################\n",
    "            current_individual = new_individual\n",
    "            \n",
    "            \n",
    "            ########################\n",
    "            ## EVERY STEP LOGGING ##\n",
    "            ########################\n",
    "\n",
    "            non_empty_cells = b_map.get_non_empty_cells()\n",
    "            print(generation_number,len(non_empty_cells),best_fitness_so_far)\n",
    "\n",
    "            # Do the step logging \n",
    "            step_logs = {\n",
    "                \"generation_number\" : generation_number,\n",
    "                \"nonempty_cells\" : len(non_empty_cells),\n",
    "                \"nonempty_ratio\" : float(len(non_empty_cells)) / b_map.data.size,\n",
    "                \"best_fitness_so_far\" : best_fitness_so_far,\n",
    "                \"best_evolvability_so_far\" : best_evolvability_so_far,\n",
    "                \"current_children_fitness_mean\" : np.mean(new_individual[\"child_eval\"][\"fitnesses\"]),\n",
    "                \"current_children_fitness_std\" : np.std(new_individual[\"child_eval\"][\"fitnesses\"]),\n",
    "                \"current_eval_fitness\" : new_individual[\"eval_fitness\"],\n",
    "                \"current_evolvability\" : new_individual[\"evolvability\"],\n",
    "                \"current_innovation\" : new_individual[\"innovation\"],\n",
    "            }\n",
    "            if wandb_logging is True:\n",
    "                wandb.log(step_logs)\n",
    "            \n",
    "            ####################\n",
    "            ## N STEP LOGGING ##\n",
    "            ####################\n",
    "\n",
    "            # Do the n-step logging\n",
    "            if generation_number % config[\"PLOT_FREQUENCY\"] == 10:\n",
    "                # do plot map\n",
    "                # save map without heavy stuff???\n",
    "                fig_f,ax = map_elite_utils.plot_4d_map(b_map,metric=\"eval_fitness\")\n",
    "                fig_evo,ax = map_elite_utils.plot_4d_map(b_map,metric=\"evolvability\")\n",
    "                n_step_log = {\n",
    "                    \"b_map_plot\" : fig_f,\n",
    "                    \"b_map_evolvability_plot\" : fig_evo, \n",
    "                }\n",
    "                if wandb_logging is True:\n",
    "                    wandb.log(n_step_log)\n",
    "\n",
    "                # also print some stuff to console\n",
    "                print(generation_number)\n",
    "                for k,v in step_logs.items():\n",
    "                    print(k,v)\n",
    "            \n",
    "            ###################\n",
    "            ## CHECKPOINTING ##\n",
    "            ###################\n",
    "\n",
    "            # Do checkpointing\n",
    "            if generation_number % config[\"CHECKPOINT_FREQUENCY\"] == 10:\n",
    "                np.save(run_checkpoint_path+\"/b_map.npy\",b_map.data,allow_pickle=True)\n",
    "                b_archive.save_to_file(run_checkpoint_path+\"/b_archive.npy\")\n",
    "                \n",
    "        \n",
    "            generation_number += 1\n",
    "            \n",
    "            \n",
    "################\n",
    "## FINAL SAVE ##\n",
    "################\n",
    "print(\"Doing final save!\")\n",
    "np.save(run_checkpoint_path+\"/b_map.npy\",b_map.data,allow_pickle=True)\n",
    "b_archive.save_to_file(run_checkpoint_path+\"/b_archive.npy\")\n",
    "print(\"Final save done: \", run_checkpoint_path)\n",
    "            \n",
    "            \n",
    "            \n",
    "        \n",
    "        \n",
    "        \n",
    "        \n",
    "        \n",
    "        \n",
    "        "
   ]
  },
  {
   "cell_type": "code",
   "execution_count": null,
   "metadata": {},
   "outputs": [],
   "source": []
  },
  {
   "cell_type": "code",
   "execution_count": null,
   "metadata": {},
   "outputs": [],
   "source": []
  },
  {
   "cell_type": "code",
   "execution_count": null,
   "metadata": {},
   "outputs": [],
   "source": []
  },
  {
   "cell_type": "code",
   "execution_count": null,
   "metadata": {},
   "outputs": [],
   "source": []
  },
  {
   "cell_type": "code",
   "execution_count": null,
   "metadata": {},
   "outputs": [],
   "source": []
  },
  {
   "cell_type": "code",
   "execution_count": null,
   "metadata": {},
   "outputs": [],
   "source": []
  },
  {
   "cell_type": "code",
   "execution_count": null,
   "metadata": {},
   "outputs": [],
   "source": []
  },
  {
   "cell_type": "code",
   "execution_count": null,
   "metadata": {},
   "outputs": [],
   "source": []
  },
  {
   "cell_type": "code",
   "execution_count": null,
   "metadata": {},
   "outputs": [],
   "source": []
  },
  {
   "cell_type": "code",
   "execution_count": null,
   "metadata": {},
   "outputs": [],
   "source": []
  },
  {
   "cell_type": "code",
   "execution_count": null,
   "metadata": {},
   "outputs": [],
   "source": []
  },
  {
   "cell_type": "code",
   "execution_count": null,
   "metadata": {},
   "outputs": [],
   "source": []
  },
  {
   "cell_type": "code",
   "execution_count": 8,
   "metadata": {},
   "outputs": [],
   "source": [
    "def select_parent_es_me(non_empty_cells,config,selection_metric):\n",
    "    if len(non_empty_cells) == 0:\n",
    "            parent_cell = None\n",
    "            parent_params = get_random_individual(config)\n",
    "            parent_obs_mean = None\n",
    "            parent_obs_std = None\n",
    "            \n",
    "    else:\n",
    "        if config[\"ES_PARENT_SELECTION_MODE\"] == \"uniform\":\n",
    "            parent_cell = np.random.choice(non_empty_cells)  # NOTE, here goes cell selection method\n",
    "        elif config[\"ES_PARENT_SELECTION_MODE\"] == \"rank_proportional\":\n",
    "            sorted_cells = sorted(non_empty_cells,key=lambda x : x[\"selection_metric\"])                \n",
    "            selected_index = rank_based_selection(num_parent_candidates=len(sorted_cells),\n",
    "                                                     num_children=None, # only want a single parent\n",
    "                                                     agressiveness=config[\"GA_RANK_PROPORTIONAL_SELECTION_AGRESSIVENESS\"])\n",
    "            parent_cell = sorted_cells[selected_index]\n",
    "\n",
    "        else:\n",
    "            raise \"NOT IMPLEMENTED\"\n",
    "\n",
    "    return parent_cell"
   ]
  },
  {
   "cell_type": "code",
   "execution_count": null,
   "metadata": {},
   "outputs": [],
   "source": [
    "DEBUG = False\n",
    "if DEBUG is True:\n",
    "    config[\"ES_NUM_GENERATIONS\"] = 30\n",
    "    config[\"ES_popsize\"] = 20\n",
    "    config[\"ES_CENTRAL_NUM_EVALUATIONS\"] = 4\n",
    "    \n",
    "\n",
    "b_archive = novelty_archive.NoveltyArchive(bc_dim = len(config[\"map_elites_grid_description\"][\"grid_dims\"]))\n",
    "    \n",
    "run_name = wandb.run.dir.split(\"/\")[-2]\n",
    "run_checkpoint_path = \"/scratch/ak1774/runs/large_files/\" + run_name\n",
    "\n",
    "evaluations_per_generation = config[\"ES_popsize\"] + config[\"ES_CENTRAL_NUM_EVALUATIONS\"] \n",
    "B_MAP_TYPE = config[\"BMAP_type_and_metrics\"][0]\n",
    "B_MAP_METRICS = config[\"BMAP_type_and_metrics\"][1]\n",
    "\n",
    "generation_number = 0\n",
    "evaluations_so_far = 0\n",
    "best_fitness_so_far = 0\n",
    "best_model_so_far = None\n",
    "    \n",
    "\n",
    "# there are several kinds of modes\n",
    "# selection mode (which type of parent we select (this one is only available for multi map))\n",
    "# update mode (which type of es update we do)\n",
    "# archive mode (which type of map we try to insert it to (only available for multi map))\n",
    "    \n",
    "# MODES Summary\n",
    "# I decided not to have selection mode, we select with uniform prob from each map \n",
    "# (this would be only be relevent if we want to have different update probabilities for parents from different maps)\n",
    "# I decided not to have archive mode, we try to archive into all the maps\n",
    "\n",
    "    \n",
    "if B_MAP_TYPE == \"single_map\" or B_MAP_TYPE == \"nd_sorted_map\":\n",
    "    b_map = behavior_map.Grid_behaviour_map(config)\n",
    "    while True\n",
    "        if generation_number >= config[\"ES_NUM_GENERATIONS\"]:\n",
    "            print(\"Done, reached iteration: \",config[\"ES_NUM_GENERATIONS\"])\n",
    "            break\n",
    "            \n",
    "        \n",
    "    \n",
    "        non_empty_cells = b_map.get_non_empty_cells(config)\n",
    "        if len(non_empty_cells) == 0: # no parent available\n",
    "            parent = None # TODO prepare new individual NOTE this should be different because we want to evaluate the parent not the child here\n",
    "        \n",
    "            # evaluate new individual\n",
    "            # can also calculate children to get evolvability and innovation\n",
    "        \n",
    "        \n",
    "        \n",
    "        else:\n",
    "            if B_MAP_TYPE == \"single_map\":\n",
    "                # select parent cell\n",
    "                selection_metric = \"eval_fitness\"\n",
    "                selected_parent_cell = select_parent_es_me(non_empty_cells,config,selection_metric)\n",
    "                parent = selected_parent_cell[\"elite\"]\n",
    "\n",
    "            elif B_MAP_TYPE == \"nd_sorted_map\":\n",
    "                # select parent cell\n",
    "                # for slectinf cells with nd sorted map, we cannot simply use a metric.\n",
    "                # ech cell contains a tradeoff between objectives\n",
    "                # let us do uniform selection from each cell\n",
    "                parent_cell = np.random.choice(non_empty_cells)\n",
    "                \n",
    "                # now let us select an individual form the non dominated front of elites in the cell\n",
    "                parent = np.random.choice(parent_cell[\"elites\"])\n",
    "\n",
    "\n",
    "        \n",
    "        \n",
    "        # decide on update mode (explore,exploit,build_evolvability)\n",
    "        es_update_mode = np.random.choice(config[\"ES_UPDATES_MODES_TO_USE\"])\n",
    "    \n",
    "    \n",
    "    \n",
    "    \n",
    "    \n",
    "elif B_MAP_TYPE == \"multi_map\":\n",
    "    b_map = behavior_map.Grid_behaviour_multi_map(config)\n",
    "    while True:\n",
    "        if generation_number >= config[\"ES_NUM_GENERATIONS\"]:\n",
    "            print(\"Done, reached iteration: \",config[\"ES_NUM_GENERATIONS\"])\n",
    "            break\n",
    "        \n",
    "            # Decide on selection mode (which map we select a parent from) Should we just do uniform from ech map?\n",
    "            # Should which update we do depend on which map we select the parent from?\n",
    "            \n",
    "            # Decide on update mode (it makes sense to mix this up, eg we want to use the evolvable parent to find fit child)\n",
    "            # Decide on archive mode (for fitness we can always test archiving, for innov and evolvability, we need a new evaluation to evaluate)\n",
    "            # once we do the new evaluation, we can try to archive it into all the maps\n",
    "        \n",
    "            non_empty_cells = b_map.get_non_empty_cells(config)\n",
    "        \n",
    "        \n",
    "    \n",
    "    \n",
    "    \n",
    "    \n",
    "    \n",
    "    \n",
    "    \n",
    "    \n",
    "    \n",
    "    \n",
    "    \n",
    "    \n",
    "    \n",
    "    \n",
    "    \n",
    "    \n",
    "    \n",
    "    \n",
    "    generation_number += 1\n"
   ]
  },
  {
   "cell_type": "code",
   "execution_count": null,
   "metadata": {},
   "outputs": [],
   "source": []
  },
  {
   "cell_type": "code",
   "execution_count": null,
   "metadata": {},
   "outputs": [],
   "source": []
  },
  {
   "cell_type": "code",
   "execution_count": null,
   "metadata": {},
   "outputs": [],
   "source": [
    "\n",
    "        \n",
    "        \n",
    "        \n",
    "        "
   ]
  },
  {
   "cell_type": "code",
   "execution_count": null,
   "metadata": {},
   "outputs": [],
   "source": [
    "####################\n",
    "## ND SORTED MAP ###\n",
    "####################"
   ]
  },
  {
   "cell_type": "code",
   "execution_count": null,
   "metadata": {},
   "outputs": [],
   "source": [
    "b_map = behavior_map.Grid_behaviour_map(config)\n",
    "while True:\n",
    "    if generation_number >= config[\"ES_NUM_GENERATIONS\"]:\n",
    "        print(\"Done, reached iteration: \",config[\"ES_NUM_GENERATIONS\"])\n",
    "        break"
   ]
  },
  {
   "cell_type": "code",
   "execution_count": null,
   "metadata": {},
   "outputs": [],
   "source": [
    "####################\n",
    "## MULTI MAP #######\n",
    "####################"
   ]
  },
  {
   "cell_type": "code",
   "execution_count": null,
   "metadata": {},
   "outputs": [],
   "source": [
    "b_map = behavior_map.Grid_behaviour_map(config)\n",
    "while True:\n",
    "    if generation_number >= config[\"ES_NUM_GENERATIONS\"]:\n",
    "        print(\"Done, reached iteration: \",config[\"ES_NUM_GENERATIONS\"])\n",
    "        break\n",
    "        "
   ]
  },
  {
   "cell_type": "code",
   "execution_count": null,
   "metadata": {},
   "outputs": [],
   "source": []
  },
  {
   "cell_type": "code",
   "execution_count": null,
   "metadata": {},
   "outputs": [],
   "source": []
  },
  {
   "cell_type": "code",
   "execution_count": 5,
   "metadata": {},
   "outputs": [],
   "source": [
    "config[\"BMAP_type_and_metrics\"] = [\n",
    "    \"multi_map\",\n",
    "    [\"f\",\"e\"],\n",
    "]"
   ]
  },
  {
   "cell_type": "code",
   "execution_count": 16,
   "metadata": {},
   "outputs": [],
   "source": [
    "b_map = behavior_map.create_b_map_grid(config)"
   ]
  },
  {
   "cell_type": "code",
   "execution_count": 7,
   "metadata": {},
   "outputs": [
    {
     "data": {
      "text/plain": [
       "<es_map.behavior_map.Grid_behaviour_multi_map at 0x7f78a468aac0>"
      ]
     },
     "execution_count": 7,
     "metadata": {},
     "output_type": "execute_result"
    }
   ],
   "source": [
    "b_map"
   ]
  },
  {
   "cell_type": "code",
   "execution_count": null,
   "metadata": {},
   "outputs": [],
   "source": [
    "    \"BMAP_type_and_metrics\" : [\"single_map\",    # type can be: \"single_map\",\"multi_map\",\"nd_sorted_map\" \n",
    "                               [\"fitness\"]],    # metric can be: [\"f\"],[\"f\",e], [\"f,e,i\"], etc... "
   ]
  },
  {
   "cell_type": "code",
   "execution_count": 17,
   "metadata": {},
   "outputs": [],
   "source": [
    "b_map.data[1,4,3,5,2] = 19"
   ]
  },
  {
   "cell_type": "code",
   "execution_count": 18,
   "metadata": {},
   "outputs": [
    {
     "data": {
      "text/plain": [
       "array([19], dtype=object)"
      ]
     },
     "execution_count": 18,
     "metadata": {},
     "output_type": "execute_result"
    }
   ],
   "source": [
    "b_map.get_non_empty_cells(config,metric=\"e\")"
   ]
  },
  {
   "cell_type": "code",
   "execution_count": 21,
   "metadata": {},
   "outputs": [
    {
     "data": {
      "text/plain": [
       "[0, 3, 3, 3, 3]"
      ]
     },
     "execution_count": 21,
     "metadata": {},
     "output_type": "execute_result"
    }
   ],
   "source": [
    "b_map.get_cell_coords(bc=[0.5,0.5,0.5,0.5,],config=config,metric=\"f\")"
   ]
  },
  {
   "cell_type": "code",
   "execution_count": 20,
   "metadata": {},
   "outputs": [
    {
     "data": {
      "text/plain": [
       "(3, 3, 3, 3)"
      ]
     },
     "execution_count": 20,
     "metadata": {},
     "output_type": "execute_result"
    }
   ],
   "source": [
    "behavior_map._get_cell_coords([0.5,0.5,0.5,0.5,],config)"
   ]
  },
  {
   "cell_type": "code",
   "execution_count": null,
   "metadata": {},
   "outputs": [],
   "source": []
  },
  {
   "cell_type": "code",
   "execution_count": null,
   "metadata": {},
   "outputs": [],
   "source": []
  }
 ],
 "metadata": {
  "kernelspec": {
   "display_name": "Python 3",
   "language": "python",
   "name": "python3"
  },
  "language_info": {
   "codemirror_mode": {
    "name": "ipython",
    "version": 3
   },
   "file_extension": ".py",
   "mimetype": "text/x-python",
   "name": "python",
   "nbconvert_exporter": "python",
   "pygments_lexer": "ipython3",
   "version": "3.8.10"
  }
 },
 "nbformat": 4,
 "nbformat_minor": 4
}
