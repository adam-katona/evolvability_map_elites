{
 "cells": [
  {
   "cell_type": "code",
   "execution_count": 1,
   "metadata": {},
   "outputs": [],
   "source": [
    "from dask.distributed import Client\n",
    "import dask\n",
    "import matplotlib.pyplot as plt\n",
    "\n",
    "import os\n",
    "os.environ[\"MKL_NUM_THREADS\"] = \"1\" \n",
    "os.environ[\"NUMEXPR_NUM_THREADS\"] = \"1\" \n",
    "os.environ[\"OMP_NUM_THREADS\"] = \"1\" \n",
    "import numpy as np"
   ]
  },
  {
   "cell_type": "code",
   "execution_count": 2,
   "metadata": {},
   "outputs": [],
   "source": [
    "import os\n",
    "os.chdir(\"/scratch/ak1774/runs\")"
   ]
  },
  {
   "cell_type": "code",
   "execution_count": 3,
   "metadata": {},
   "outputs": [],
   "source": [
    "client = Client(n_workers=10, threads_per_worker=1)"
   ]
  },
  {
   "cell_type": "code",
   "execution_count": 4,
   "metadata": {},
   "outputs": [],
   "source": [
    "def set_up_worker():\n",
    "    import os\n",
    "    os.environ[\"MKL_NUM_THREADS\"] = \"1\" \n",
    "    os.environ[\"NUMEXPR_NUM_THREADS\"] = \"1\" \n",
    "    os.environ[\"OMP_NUM_THREADS\"] = \"1\" \n",
    "    \n",
    "client.run(set_up_worker);"
   ]
  },
  {
   "cell_type": "code",
   "execution_count": 5,
   "metadata": {},
   "outputs": [],
   "source": [
    "%load_ext autoreload\n",
    "%autoreload 2"
   ]
  },
  {
   "cell_type": "code",
   "execution_count": 6,
   "metadata": {},
   "outputs": [],
   "source": [
    "from es_map import es_update\n",
    "from es_map import distributed_evaluate\n",
    "from es_map.interaction import interaction\n",
    "from es_map import behavior_map\n",
    "from es_map import novelty_archive\n",
    "from es_map import map_elite_utils"
   ]
  },
  {
   "cell_type": "code",
   "execution_count": 7,
   "metadata": {},
   "outputs": [],
   "source": [
    "config = {\n",
    "    \"env_id\" : \"DamageAnt-v2\",\n",
    "    \"policy_args\" : {\n",
    "        \"init\" : \"normc\",\n",
    "        \"layers\" :[256, 256],\n",
    "       \"activation\" : 'tanh',\n",
    "       \"action_noise\" : 0.01,\n",
    "    },\n",
    "    \"env_args\" : {\n",
    "        \"use_norm_obs\" : True,\n",
    "    },\n",
    "    \n",
    "    \"ES_NUM_INITIAL_RANDOM_INDIVIDUALS_TO_POPULATE_MAP\" : 20,\n",
    "    \n",
    "    \"ES_NUM_GENERATIONS\" : 1000,\n",
    "    \"ES_popsize\" : 100,\n",
    "    \"ES_sigma\" : 0.02,\n",
    "    \"ES_EVALUATION_BATCH_SIZE\" : 5,\n",
    "    \"ES_lr\" : 0.01,\n",
    "    \n",
    "    \"ES_CENTRAL_NUM_EVALUATIONS\" : 30,\n",
    "    \"ES_STEPS_UNTIL_NEW_PARENT_SELECTION\" : 5,\n",
    "    \n",
    "    \"GA_MAP_ELITES_NUM_GENERATIONS\" : 1000,\n",
    "    \n",
    "    \"GA_CHILDREN_PER_GENERATION\" : 200,\n",
    "    \"GA_NUM_EVALUATIONS\" : 10,\n",
    "    \n",
    "    \"GA_MULTI_PARENT_MODE\" : True,\n",
    "    \"GA_PARENT_SELECTION_MODE\" : \"rank_proportional\",  # \"uniform\", \"rank_proportional\"\n",
    "    \"GA_RANK_PROPORTIONAL_SELECTION_AGRESSIVENESS\" : 1.0,  # 0.0 uniform, 1.0 normal , higher more agressive\n",
    "    \"GA_MUTATION_POWER\" : 0.02,\n",
    "    \n",
    "    \"map_elites_grid_description\" : {\n",
    "        \"bc_limits\" : [[0,1],[0,1],[0,1],[0,1]],\n",
    "        \"grid_dims\" : [6,6,6,6],\n",
    "    },\n",
    "    \n",
    "    # BMAP settings\n",
    "    \"BMAP_type_and_metrics\" : {\n",
    "        \"type\" : \"single_map\",    # type can be: \"single_map\",\"multi_map\",\"nd_sorted_map\" \n",
    "        \"metrics\" : [\"fitness\"],    # metric can be: [\"f\"],[\"f\",e], [\"f,e,i\"], etc... \n",
    "    },\n",
    "    \"ES_UPDATES_MODES_TO_USE\" : [\"fitness\"],#\"evolvability\",\"innovation\"], # list of updates to use\n",
    "    \"ES_PARENT_SELECTION_MODE\" : \"rank_proportional\",  # \"uniform\", \"rank_proportional\"\n",
    "    \"ES_RANK_PROPORTIONAL_SELECTION_AGRESSIVENESS\" : 1.0,  # 0.0 uniform, 1.0 normal , higher more agressive\n",
    "    \n",
    "    \"NOVELTY_CALCULATION_NUM_NEIGHBORS\" : 10,\n",
    "    \n",
    "    \n",
    "    \"CHECKPOINT_FREQUENCY\" : 100,\n",
    "    \"PLOT_FREQUENCY\" : 100,\n",
    "}"
   ]
  },
  {
   "cell_type": "code",
   "execution_count": 8,
   "metadata": {},
   "outputs": [
    {
     "name": "stderr",
     "output_type": "stream",
     "text": [
      "wandb: Currently logged in as: adam_katona (use `wandb login --relogin` to force relogin)\n",
      "wandb: wandb version 0.12.9 is available!  To upgrade, please run:\n",
      "wandb:  $ pip install wandb --upgrade\n"
     ]
    },
    {
     "data": {
      "text/html": [
       "\n",
       "                    Syncing run <strong><a href=\"https://wandb.ai/adam_katona/evolvability_map_elites/runs/984vqkhn\" target=\"_blank\">ancient-sky-39</a></strong> to <a href=\"https://wandb.ai/adam_katona/evolvability_map_elites\" target=\"_blank\">Weights & Biases</a> (<a href=\"https://docs.wandb.com/integrations/jupyter.html\" target=\"_blank\">docs</a>).<br/>\n",
       "\n",
       "                "
      ],
      "text/plain": [
       "<IPython.core.display.HTML object>"
      ]
     },
     "metadata": {},
     "output_type": "display_data"
    }
   ],
   "source": [
    "wandb_logging = True\n",
    "if wandb_logging is True:\n",
    "    import wandb\n",
    "    config\n",
    "    #wandb.config = config\n",
    "    wandb.init(project=\"evolvability_map_elites\", entity=\"adam_katona\")\n",
    "    wandb.run.name = \"me_es_test\"\n",
    "    wandb.run.config.update(config)\n",
    "\n",
    "    run_name = wandb.run.dir.split(\"/\")[-2]\n",
    "    run_checkpoint_path = \"/scratch/ak1774/runs/large_files/\" + run_name\n",
    "    os.makedirs(run_checkpoint_path,exist_ok=True)"
   ]
  },
  {
   "cell_type": "code",
   "execution_count": 9,
   "metadata": {},
   "outputs": [],
   "source": [
    "import itertools\n",
    "        \n",
    "def create_id_generator():\n",
    "    counter = itertools.count()\n",
    "    def get_next_id():\n",
    "        return next(counter)\n",
    "    return get_next_id\n",
    "    \n",
    "get_next_individual_id = create_id_generator()"
   ]
  },
  {
   "cell_type": "code",
   "execution_count": null,
   "metadata": {},
   "outputs": [],
   "source": []
  },
  {
   "cell_type": "code",
   "execution_count": 10,
   "metadata": {},
   "outputs": [],
   "source": [
    "####################\n",
    "## SINGLE MAP ######\n",
    "####################"
   ]
  },
  {
   "cell_type": "code",
   "execution_count": 28,
   "metadata": {},
   "outputs": [
    {
     "name": "stderr",
     "output_type": "stream",
     "text": [
      "[autoreload of es_map.es_map_elites failed: Traceback (most recent call last):\n",
      "  File \"/scratch/ak1774/vargpu_env/lib/python3.8/site-packages/IPython/extensions/autoreload.py\", line 245, in check\n",
      "    superreload(m, reload, self.old_objects)\n",
      "  File \"/scratch/ak1774/vargpu_env/lib/python3.8/site-packages/IPython/extensions/autoreload.py\", line 394, in superreload\n",
      "    module = reload(module)\n",
      "  File \"/usr/lib/python3.8/imp.py\", line 314, in reload\n",
      "    return importlib.reload(module)\n",
      "  File \"/usr/lib/python3.8/importlib/__init__.py\", line 169, in reload\n",
      "    _bootstrap._exec(spec, module)\n",
      "  File \"<frozen importlib._bootstrap>\", line 604, in _exec\n",
      "  File \"<frozen importlib._bootstrap_external>\", line 848, in exec_module\n",
      "  File \"<frozen importlib._bootstrap>\", line 219, in _call_with_frames_removed\n",
      "  File \"/home/userfs/a/ak1774/workspace/evolvability_map_elites/evolvability_map_elites/es_map/es_map_elites.py\", line 9, in <module>\n",
      "    from es_map import nd_sort\n",
      "  File \"/home/userfs/a/ak1774/workspace/evolvability_map_elites/evolvability_map_elites/es_map/nd_sort.py\", line 5\n",
      "    def nd_sort_get_first_front(fitnesses)\n",
      "                                         ^\n",
      "SyntaxError: invalid syntax\n",
      "]\n"
     ]
    }
   ],
   "source": [
    "import numpy as np"
   ]
  },
  {
   "cell_type": "code",
   "execution_count": 29,
   "metadata": {},
   "outputs": [
    {
     "data": {
      "text/plain": [
       "0.0"
      ]
     },
     "execution_count": 29,
     "metadata": {},
     "output_type": "execute_result"
    }
   ],
   "source": [
    "np.sum([])"
   ]
  },
  {
   "cell_type": "code",
   "execution_count": 32,
   "metadata": {},
   "outputs": [],
   "source": [
    "a = np.ones([3,4,4])"
   ]
  },
  {
   "cell_type": "code",
   "execution_count": 34,
   "metadata": {},
   "outputs": [],
   "source": [
    "def f(x):\n",
    "    if x is None:\n",
    "        return 2\n",
    "    else:\n",
    "        return x+1\n",
    "vf = np.vectorize(f)"
   ]
  },
  {
   "cell_type": "code",
   "execution_count": 35,
   "metadata": {},
   "outputs": [
    {
     "data": {
      "text/plain": [
       "array([[[2., 2., 2., 2.],\n",
       "        [2., 2., 2., 2.],\n",
       "        [2., 2., 2., 2.],\n",
       "        [2., 2., 2., 2.]],\n",
       "\n",
       "       [[2., 2., 2., 2.],\n",
       "        [2., 2., 2., 2.],\n",
       "        [2., 2., 2., 2.],\n",
       "        [2., 2., 2., 2.]],\n",
       "\n",
       "       [[2., 2., 2., 2.],\n",
       "        [2., 2., 2., 2.],\n",
       "        [2., 2., 2., 2.],\n",
       "        [2., 2., 2., 2.]]])"
      ]
     },
     "execution_count": 35,
     "metadata": {},
     "output_type": "execute_result"
    }
   ],
   "source": [
    "vf(a)"
   ]
  },
  {
   "cell_type": "code",
   "execution_count": 39,
   "metadata": {},
   "outputs": [
    {
     "data": {
      "text/plain": [
       "32.0"
      ]
     },
     "execution_count": 39,
     "metadata": {},
     "output_type": "execute_result"
    }
   ],
   "source": [
    "np.ceil(np.sqrt(1000))"
   ]
  },
  {
   "cell_type": "code",
   "execution_count": 43,
   "metadata": {},
   "outputs": [],
   "source": [
    "a = np.array([None]*6)"
   ]
  },
  {
   "cell_type": "code",
   "execution_count": 44,
   "metadata": {},
   "outputs": [],
   "source": [
    "a[:3] = np.array([1,2,3])"
   ]
  },
  {
   "cell_type": "code",
   "execution_count": 51,
   "metadata": {},
   "outputs": [
    {
     "data": {
      "text/plain": [
       "False"
      ]
     },
     "execution_count": 51,
     "metadata": {},
     "output_type": "execute_result"
    }
   ],
   "source": [
    "a1 = [1,2]\n",
    "a = [3,3,5]\n",
    "a1 in []\n",
    "        "
   ]
  },
  {
   "cell_type": "code",
   "execution_count": 53,
   "metadata": {},
   "outputs": [
    {
     "data": {
      "text/plain": [
       "[<matplotlib.lines.Line2D at 0x7f9b1b236c40>]"
      ]
     },
     "execution_count": 53,
     "metadata": {},
     "output_type": "execute_result"
    },
    {
     "data": {
      "image/png": "[encoded data removed]",
      "text/plain": [
       "<Figure size 432x288 with 1 Axes>"
      ]
     },
     "metadata": {
      "needs_background": "light"
     },
     "output_type": "display_data"
    }
   ],
   "source": [
    "fig,ax = plt.subplots()\n",
    "ax.plot(a)\n",
    "ax.plot([2,3,1])"
   ]
  },
  {
   "cell_type": "code",
   "execution_count": 54,
   "metadata": {},
   "outputs": [
    {
     "data": {
      "image/png": "[encoded data removed]",
      "text/plain": [
       "<Figure size 432x288 with 1 Axes>"
      ]
     },
     "execution_count": 54,
     "metadata": {},
     "output_type": "execute_result"
    }
   ],
   "source": [
    "fig"
   ]
  },
  {
   "cell_type": "code",
   "execution_count": null,
   "metadata": {},
   "outputs": [],
   "source": []
  },
  {
   "cell_type": "code",
   "execution_count": null,
   "metadata": {},
   "outputs": [],
   "source": []
  },
  {
   "cell_type": "code",
   "execution_count": 23,
   "metadata": {},
   "outputs": [
    {
     "name": "stderr",
     "output_type": "stream",
     "text": [
      "[autoreload of es_map.es_map_elites failed: Traceback (most recent call last):\n",
      "  File \"/scratch/ak1774/vargpu_env/lib/python3.8/site-packages/IPython/extensions/autoreload.py\", line 245, in check\n",
      "    superreload(m, reload, self.old_objects)\n",
      "  File \"/scratch/ak1774/vargpu_env/lib/python3.8/site-packages/IPython/extensions/autoreload.py\", line 394, in superreload\n",
      "    module = reload(module)\n",
      "  File \"/usr/lib/python3.8/imp.py\", line 314, in reload\n",
      "    return importlib.reload(module)\n",
      "  File \"/usr/lib/python3.8/importlib/__init__.py\", line 169, in reload\n",
      "    _bootstrap._exec(spec, module)\n",
      "  File \"<frozen importlib._bootstrap>\", line 604, in _exec\n",
      "  File \"<frozen importlib._bootstrap_external>\", line 844, in exec_module\n",
      "  File \"<frozen importlib._bootstrap_external>\", line 981, in get_code\n",
      "  File \"<frozen importlib._bootstrap_external>\", line 911, in source_to_code\n",
      "  File \"<frozen importlib._bootstrap>\", line 219, in _call_with_frames_removed\n",
      "  File \"/home/userfs/a/ak1774/workspace/evolvability_map_elites/evolvability_map_elites/es_map/es_map_elites.py\", line 256\n",
      "    else: # Single map\n",
      "    ^\n",
      "IndentationError: expected an indented block\n",
      "]\n"
     ]
    }
   ],
   "source": [
    "a = [1,2,3,4]"
   ]
  },
  {
   "cell_type": "code",
   "execution_count": 26,
   "metadata": {},
   "outputs": [
    {
     "data": {
      "text/plain": [
       "[1, 2, 3, 4]"
      ]
     },
     "execution_count": 26,
     "metadata": {},
     "output_type": "execute_result"
    }
   ],
   "source": [
    "a[:7]"
   ]
  },
  {
   "cell_type": "code",
   "execution_count": 27,
   "metadata": {},
   "outputs": [
    {
     "data": {
      "text/plain": [
       "array([[1, 2],\n",
       "       [3, 4]])"
      ]
     },
     "execution_count": 27,
     "metadata": {},
     "output_type": "execute_result"
    }
   ],
   "source": [
    "np.stack([[1,2],[3,4]])"
   ]
  },
  {
   "cell_type": "code",
   "execution_count": null,
   "metadata": {},
   "outputs": [],
   "source": []
  },
  {
   "cell_type": "code",
   "execution_count": null,
   "metadata": {},
   "outputs": [],
   "source": []
  },
  {
   "cell_type": "code",
   "execution_count": null,
   "metadata": {},
   "outputs": [],
   "source": []
  },
  {
   "cell_type": "code",
   "execution_count": null,
   "metadata": {},
   "outputs": [],
   "source": []
  },
  {
   "cell_type": "code",
   "execution_count": null,
   "metadata": {},
   "outputs": [],
   "source": []
  },
  {
   "cell_type": "code",
   "execution_count": 8,
   "metadata": {},
   "outputs": [],
   "source": [
    "def select_parent_es_me(non_empty_cells,config,selection_metric):\n",
    "    if len(non_empty_cells) == 0:\n",
    "            parent_cell = None\n",
    "            parent_params = get_random_individual(config)\n",
    "            parent_obs_mean = None\n",
    "            parent_obs_std = None\n",
    "            \n",
    "    else:\n",
    "        if config[\"ES_PARENT_SELECTION_MODE\"] == \"uniform\":\n",
    "            parent_cell = np.random.choice(non_empty_cells)  # NOTE, here goes cell selection method\n",
    "        elif config[\"ES_PARENT_SELECTION_MODE\"] == \"rank_proportional\":\n",
    "            sorted_cells = sorted(non_empty_cells,key=lambda x : x[\"selection_metric\"])                \n",
    "            selected_index = rank_based_selection(num_parent_candidates=len(sorted_cells),\n",
    "                                                     num_children=None, # only want a single parent\n",
    "                                                     agressiveness=config[\"GA_RANK_PROPORTIONAL_SELECTION_AGRESSIVENESS\"])\n",
    "            parent_cell = sorted_cells[selected_index]\n",
    "\n",
    "        else:\n",
    "            raise \"NOT IMPLEMENTED\"\n",
    "\n",
    "    return parent_cell"
   ]
  },
  {
   "cell_type": "code",
   "execution_count": null,
   "metadata": {},
   "outputs": [],
   "source": [
    "DEBUG = False\n",
    "if DEBUG is True:\n",
    "    config[\"ES_NUM_GENERATIONS\"] = 30\n",
    "    config[\"ES_popsize\"] = 20\n",
    "    config[\"ES_CENTRAL_NUM_EVALUATIONS\"] = 4\n",
    "    \n",
    "\n",
    "b_archive = novelty_archive.NoveltyArchive(bc_dim = len(config[\"map_elites_grid_description\"][\"grid_dims\"]))\n",
    "    \n",
    "run_name = wandb.run.dir.split(\"/\")[-2]\n",
    "run_checkpoint_path = \"/scratch/ak1774/runs/large_files/\" + run_name\n",
    "\n",
    "evaluations_per_generation = config[\"ES_popsize\"] + config[\"ES_CENTRAL_NUM_EVALUATIONS\"] \n",
    "B_MAP_TYPE = config[\"BMAP_type_and_metrics\"][0]\n",
    "B_MAP_METRICS = config[\"BMAP_type_and_metrics\"][1]\n",
    "\n",
    "generation_number = 0\n",
    "evaluations_so_far = 0\n",
    "best_fitness_so_far = 0\n",
    "best_model_so_far = None\n",
    "    \n",
    "\n",
    "# there are several kinds of modes\n",
    "# selection mode (which type of parent we select (this one is only available for multi map))\n",
    "# update mode (which type of es update we do)\n",
    "# archive mode (which type of map we try to insert it to (only available for multi map))\n",
    "    \n",
    "# MODES Summary\n",
    "# I decided not to have selection mode, we select with uniform prob from each map \n",
    "# (this would be only be relevent if we want to have different update probabilities for parents from different maps)\n",
    "# I decided not to have archive mode, we try to archive into all the maps\n",
    "\n",
    "    \n",
    "if B_MAP_TYPE == \"single_map\" or B_MAP_TYPE == \"nd_sorted_map\":\n",
    "    b_map = behavior_map.Grid_behaviour_map(config)\n",
    "    while True\n",
    "        if generation_number >= config[\"ES_NUM_GENERATIONS\"]:\n",
    "            print(\"Done, reached iteration: \",config[\"ES_NUM_GENERATIONS\"])\n",
    "            break\n",
    "            \n",
    "        \n",
    "    \n",
    "        non_empty_cells = b_map.get_non_empty_cells(config)\n",
    "        if len(non_empty_cells) == 0: # no parent available\n",
    "            parent = None # TODO prepare new individual NOTE this should be different because we want to evaluate the parent not the child here\n",
    "        \n",
    "            # evaluate new individual\n",
    "            # can also calculate children to get evolvability and innovation\n",
    "        \n",
    "        \n",
    "        \n",
    "        else:\n",
    "            if B_MAP_TYPE == \"single_map\":\n",
    "                # select parent cell\n",
    "                selection_metric = \"eval_fitness\"\n",
    "                selected_parent_cell = select_parent_es_me(non_empty_cells,config,selection_metric)\n",
    "                parent = selected_parent_cell[\"elite\"]\n",
    "\n",
    "            elif B_MAP_TYPE == \"nd_sorted_map\":\n",
    "                # select parent cell\n",
    "                # for slectinf cells with nd sorted map, we cannot simply use a metric.\n",
    "                # ech cell contains a tradeoff between objectives\n",
    "                # let us do uniform selection from each cell\n",
    "                parent_cell = np.random.choice(non_empty_cells)\n",
    "                \n",
    "                # now let us select an individual form the non dominated front of elites in the cell\n",
    "                parent = np.random.choice(parent_cell[\"elites\"])\n",
    "\n",
    "\n",
    "        \n",
    "        \n",
    "        # decide on update mode (explore,exploit,build_evolvability)\n",
    "        es_update_mode = np.random.choice(config[\"ES_UPDATES_MODES_TO_USE\"])\n",
    "    \n",
    "    \n",
    "    \n",
    "    \n",
    "    \n",
    "elif B_MAP_TYPE == \"multi_map\":\n",
    "    b_map = behavior_map.Grid_behaviour_multi_map(config)\n",
    "    while True:\n",
    "        if generation_number >= config[\"ES_NUM_GENERATIONS\"]:\n",
    "            print(\"Done, reached iteration: \",config[\"ES_NUM_GENERATIONS\"])\n",
    "            break\n",
    "        \n",
    "            # Decide on selection mode (which map we select a parent from) Should we just do uniform from ech map?\n",
    "            # Should which update we do depend on which map we select the parent from?\n",
    "            \n",
    "            # Decide on update mode (it makes sense to mix this up, eg we want to use the evolvable parent to find fit child)\n",
    "            # Decide on archive mode (for fitness we can always test archiving, for innov and evolvability, we need a new evaluation to evaluate)\n",
    "            # once we do the new evaluation, we can try to archive it into all the maps\n",
    "        \n",
    "            non_empty_cells = b_map.get_non_empty_cells(config)\n",
    "        \n",
    "        \n",
    "    \n",
    "    \n",
    "    \n",
    "    \n",
    "    \n",
    "    \n",
    "    \n",
    "    \n",
    "    \n",
    "    \n",
    "    \n",
    "    \n",
    "    \n",
    "    \n",
    "    \n",
    "    \n",
    "    \n",
    "    \n",
    "    generation_number += 1\n"
   ]
  },
  {
   "cell_type": "code",
   "execution_count": null,
   "metadata": {},
   "outputs": [],
   "source": []
  },
  {
   "cell_type": "code",
   "execution_count": null,
   "metadata": {},
   "outputs": [],
   "source": []
  },
  {
   "cell_type": "code",
   "execution_count": null,
   "metadata": {},
   "outputs": [],
   "source": [
    "\n",
    "        \n",
    "        \n",
    "        \n",
    "        "
   ]
  },
  {
   "cell_type": "code",
   "execution_count": null,
   "metadata": {},
   "outputs": [],
   "source": [
    "####################\n",
    "## ND SORTED MAP ###\n",
    "####################"
   ]
  },
  {
   "cell_type": "code",
   "execution_count": null,
   "metadata": {},
   "outputs": [],
   "source": [
    "b_map = behavior_map.Grid_behaviour_map(config)\n",
    "while True:\n",
    "    if generation_number >= config[\"ES_NUM_GENERATIONS\"]:\n",
    "        print(\"Done, reached iteration: \",config[\"ES_NUM_GENERATIONS\"])\n",
    "        break"
   ]
  },
  {
   "cell_type": "code",
   "execution_count": null,
   "metadata": {},
   "outputs": [],
   "source": [
    "####################\n",
    "## MULTI MAP #######\n",
    "####################"
   ]
  },
  {
   "cell_type": "code",
   "execution_count": null,
   "metadata": {},
   "outputs": [],
   "source": [
    "b_map = behavior_map.Grid_behaviour_map(config)\n",
    "while True:\n",
    "    if generation_number >= config[\"ES_NUM_GENERATIONS\"]:\n",
    "        print(\"Done, reached iteration: \",config[\"ES_NUM_GENERATIONS\"])\n",
    "        break\n",
    "        "
   ]
  },
  {
   "cell_type": "code",
   "execution_count": null,
   "metadata": {},
   "outputs": [],
   "source": []
  },
  {
   "cell_type": "code",
   "execution_count": null,
   "metadata": {},
   "outputs": [],
   "source": []
  },
  {
   "cell_type": "code",
   "execution_count": 5,
   "metadata": {},
   "outputs": [],
   "source": [
    "config[\"BMAP_type_and_metrics\"] = [\n",
    "    \"multi_map\",\n",
    "    [\"f\",\"e\"],\n",
    "]"
   ]
  },
  {
   "cell_type": "code",
   "execution_count": 16,
   "metadata": {},
   "outputs": [],
   "source": [
    "b_map = behavior_map.create_b_map_grid(config)"
   ]
  },
  {
   "cell_type": "code",
   "execution_count": 7,
   "metadata": {},
   "outputs": [
    {
     "data": {
      "text/plain": [
       "<es_map.behavior_map.Grid_behaviour_multi_map at 0x7f78a468aac0>"
      ]
     },
     "execution_count": 7,
     "metadata": {},
     "output_type": "execute_result"
    }
   ],
   "source": [
    "b_map"
   ]
  },
  {
   "cell_type": "code",
   "execution_count": null,
   "metadata": {},
   "outputs": [],
   "source": [
    "    \"BMAP_type_and_metrics\" : [\"single_map\",    # type can be: \"single_map\",\"multi_map\",\"nd_sorted_map\" \n",
    "                               [\"fitness\"]],    # metric can be: [\"f\"],[\"f\",e], [\"f,e,i\"], etc... "
   ]
  },
  {
   "cell_type": "code",
   "execution_count": 17,
   "metadata": {},
   "outputs": [],
   "source": [
    "b_map.data[1,4,3,5,2] = 19"
   ]
  },
  {
   "cell_type": "code",
   "execution_count": 18,
   "metadata": {},
   "outputs": [
    {
     "data": {
      "text/plain": [
       "array([19], dtype=object)"
      ]
     },
     "execution_count": 18,
     "metadata": {},
     "output_type": "execute_result"
    }
   ],
   "source": [
    "b_map.get_non_empty_cells(config,metric=\"e\")"
   ]
  },
  {
   "cell_type": "code",
   "execution_count": 21,
   "metadata": {},
   "outputs": [
    {
     "data": {
      "text/plain": [
       "[0, 3, 3, 3, 3]"
      ]
     },
     "execution_count": 21,
     "metadata": {},
     "output_type": "execute_result"
    }
   ],
   "source": [
    "b_map.get_cell_coords(bc=[0.5,0.5,0.5,0.5,],config=config,metric=\"f\")"
   ]
  },
  {
   "cell_type": "code",
   "execution_count": 20,
   "metadata": {},
   "outputs": [
    {
     "data": {
      "text/plain": [
       "(3, 3, 3, 3)"
      ]
     },
     "execution_count": 20,
     "metadata": {},
     "output_type": "execute_result"
    }
   ],
   "source": [
    "behavior_map._get_cell_coords([0.5,0.5,0.5,0.5,],config)"
   ]
  },
  {
   "cell_type": "code",
   "execution_count": null,
   "metadata": {},
   "outputs": [],
   "source": []
  },
  {
   "cell_type": "code",
   "execution_count": null,
   "metadata": {},
   "outputs": [],
   "source": []
  }
 ],
 "metadata": {
  "kernelspec": {
   "display_name": "Python 3",
   "language": "python",
   "name": "python3"
  },
  "language_info": {
   "codemirror_mode": {
    "name": "ipython",
    "version": 3
   },
   "file_extension": ".py",
   "mimetype": "text/x-python",
   "name": "python",
   "nbconvert_exporter": "python",
   "pygments_lexer": "ipython3",
   "version": "3.8.10"
  }
 },
 "nbformat": 4,
 "nbformat_minor": 4
}
