{
 "cells": [
  {
   "cell_type": "code",
   "execution_count": 1,
   "metadata": {},
   "outputs": [
    {
     "name": "stdout",
     "output_type": "stream",
     "text": [
      "env: CUDA_VISIBLE_DEVICES=0\n"
     ]
    }
   ],
   "source": [
    "%env CUDA_VISIBLE_DEVICES=0\n",
    "\n",
    "from matplotlib.lines import Line2D\n",
    "from matplotlib.patches import Circle\n",
    "import matplotlib.pyplot as plt\n",
    "import numpy as np\n",
    "from brax import jumpy as jp\n",
    "\n",
    "import brax"
   ]
  },
  {
   "cell_type": "code",
   "execution_count": 2,
   "metadata": {},
   "outputs": [],
   "source": [
    "import sys\n",
    "from typing import Tuple\n",
    "\n",
    "import jax\n",
    "import jax.numpy as jnp\n",
    "from flax.struct import dataclass\n",
    "\n",
    "#from evojax.task.base import VectorizedTask\n",
    "#from evojax.task.base import TaskState\n",
    "\n",
    "try:\n",
    "    from brax.envs import create\n",
    "    from brax.envs import State as BraxState\n",
    "except ModuleNotFoundError:\n",
    "    print('You need to install brax for Brax tasks:')\n",
    "    print('  pip install git+https://github.com/google/brax.git@main')\n",
    "    sys.exit()\n",
    "\n",
    "\n",
    "@dataclass\n",
    "class State():\n",
    "    state: BraxState\n",
    "    obs: jnp.ndarray\n",
    "        \n",
    "class BraxTask():\n",
    "    \"\"\"Tasks from the Brax simulator.\"\"\"\n",
    "\n",
    "    def __init__(self,\n",
    "                 env_name: str,\n",
    "                 max_steps: int = 1000,\n",
    "                 test: bool = False):\n",
    "        self.max_steps = max_steps\n",
    "        self.test = test\n",
    "        brax_env = create(env_name=env_name, episode_length=max_steps)\n",
    "        self.obs_shape = tuple([brax_env.observation_size, ])\n",
    "        self.act_shape = tuple([brax_env.action_size, ])\n",
    "\n",
    "        def reset_fn(key):\n",
    "            state = brax_env.reset(key)\n",
    "            return State(state=state, obs=state.obs)\n",
    "\n",
    "        self._reset_fn = jax.jit(jax.vmap(reset_fn))\n",
    "\n",
    "        def step_fn(state, action):\n",
    "            state = brax_env.step(state.state, action)\n",
    "            return State(state=state, obs=state.obs), state.reward, state.done\n",
    "\n",
    "        self._step_fn = jax.jit(jax.vmap(step_fn))\n",
    "\n",
    "    def reset(self, key: jnp.ndarray) -> State:\n",
    "        return self._reset_fn(key)\n",
    "\n",
    "    def step(self,\n",
    "             state: State,\n",
    "             action: jnp.ndarray) -> Tuple[State, jnp.ndarray, jnp.ndarray]:\n",
    "        return self._step_fn(state, action)"
   ]
  },
  {
   "cell_type": "code",
   "execution_count": 3,
   "metadata": {},
   "outputs": [],
   "source": [
    "from brax import envs\n",
    "\n",
    "env_name = \"ant\"  # @param ['ant', 'humanoid', 'halfcheetah', 'fetch']\n",
    "env_fn = envs.create_fn(env_name=env_name)\n",
    "env = env_fn()\n",
    "state = env.reset(rng=jp.random_prngkey(seed=0))"
   ]
  },
  {
   "cell_type": "code",
   "execution_count": 4,
   "metadata": {},
   "outputs": [
    {
     "name": "stdout",
     "output_type": "stream",
     "text": [
      "CPU times: user 9.34 s, sys: 2.73 ms, total: 9.34 s\n",
      "Wall time: 9.34 s\n"
     ]
    }
   ],
   "source": [
    "%%time\n",
    "rollout = []\n",
    "for i in range(100):\n",
    "    # wiggle sinusoidally\n",
    "    action = jp.ones((env.action_size,)) * jp.sin(i * jp.pi / 15)\n",
    "    state = env.step(state, action)\n",
    "    rollout.append(state)"
   ]
  },
  {
   "cell_type": "code",
   "execution_count": 5,
   "metadata": {},
   "outputs": [],
   "source": [
    "state = jax.jit(env.step)(state, jnp.ones((env.action_size,)))"
   ]
  },
  {
   "cell_type": "code",
   "execution_count": 6,
   "metadata": {},
   "outputs": [
    {
     "name": "stdout",
     "output_type": "stream",
     "text": [
      "CPU times: user 286 ms, sys: 11.8 ms, total: 298 ms\n",
      "Wall time: 252 ms\n"
     ]
    }
   ],
   "source": [
    "%%time\n",
    "for _ in range(100):\n",
    "    state = jax.jit(env.step)(state, jnp.ones((env.action_size,)))"
   ]
  },
  {
   "cell_type": "code",
   "execution_count": null,
   "metadata": {},
   "outputs": [],
   "source": []
  },
  {
   "cell_type": "code",
   "execution_count": 10,
   "metadata": {},
   "outputs": [
    {
     "data": {
      "text/plain": [
       "[GpuDevice(id=0, process_index=0)]"
      ]
     },
     "execution_count": 10,
     "metadata": {},
     "output_type": "execute_result"
    }
   ],
   "source": [
    "jax.devices()"
   ]
  },
  {
   "cell_type": "code",
   "execution_count": 11,
   "metadata": {},
   "outputs": [
    {
     "data": {
      "text/plain": [
       "<module 'brax.jumpy' from '/scratch/ak1774/vargpu_env/lib/python3.8/site-packages/brax/jumpy.py'>"
      ]
     },
     "execution_count": 11,
     "metadata": {},
     "output_type": "execute_result"
    }
   ],
   "source": [
    "jp"
   ]
  },
  {
   "cell_type": "code",
   "execution_count": 12,
   "metadata": {},
   "outputs": [],
   "source": [
    "import jax.numpy as jnp"
   ]
  },
  {
   "cell_type": "code",
   "execution_count": 13,
   "metadata": {},
   "outputs": [
    {
     "data": {
      "text/plain": [
       "<module 'jax.numpy' from '/scratch/ak1774/vargpu_env/lib/python3.8/site-packages/jax/numpy/__init__.py'>"
      ]
     },
     "execution_count": 13,
     "metadata": {},
     "output_type": "execute_result"
    }
   ],
   "source": [
    "jnp"
   ]
  },
  {
   "cell_type": "code",
   "execution_count": 15,
   "metadata": {},
   "outputs": [],
   "source": [
    "a = jnp.ones(10)"
   ]
  },
  {
   "cell_type": "code",
   "execution_count": 19,
   "metadata": {},
   "outputs": [
    {
     "data": {
      "text/plain": [
       "DeviceArray([1., 1., 1., 1., 1., 1., 1., 1., 1., 1.], dtype=float32)"
      ]
     },
     "execution_count": 19,
     "metadata": {},
     "output_type": "execute_result"
    }
   ],
   "source": [
    "a*a"
   ]
  },
  {
   "cell_type": "code",
   "execution_count": 20,
   "metadata": {},
   "outputs": [
    {
     "data": {
      "text/plain": [
       "1"
      ]
     },
     "execution_count": 20,
     "metadata": {},
     "output_type": "execute_result"
    }
   ],
   "source": [
    "jax.local_device_count()"
   ]
  },
  {
   "cell_type": "code",
   "execution_count": null,
   "metadata": {},
   "outputs": [],
   "source": []
  },
  {
   "cell_type": "code",
   "execution_count": null,
   "metadata": {},
   "outputs": [],
   "source": [
    "# The plan\n",
    "# Things that need doing\n",
    "# Parent selection\n",
    "# Creating population (mutations)\n",
    "# Evaluating the population\n",
    "# Calculating novelty (needs an archive, neerest neigbor)\n",
    "\n"
   ]
  },
  {
   "cell_type": "code",
   "execution_count": 21,
   "metadata": {},
   "outputs": [
    {
     "data": {
      "text/plain": [
       "1"
      ]
     },
     "execution_count": 21,
     "metadata": {},
     "output_type": "execute_result"
    }
   ],
   "source": [
    "jax.process_count()"
   ]
  },
  {
   "cell_type": "code",
   "execution_count": null,
   "metadata": {},
   "outputs": [],
   "source": [
    "# Now lut us create a run_episode_batch function.\n",
    "# Question, how does brax handle uneven episode length?\n"
   ]
  },
  {
   "cell_type": "code",
   "execution_count": null,
   "metadata": {},
   "outputs": [],
   "source": []
  },
  {
   "cell_type": "code",
   "execution_count": 30,
   "metadata": {},
   "outputs": [],
   "source": [
    "from flax import struct\n",
    "\n",
    "@struct.dataclass\n",
    "class A():\n",
    "    a:int"
   ]
  },
  {
   "cell_type": "code",
   "execution_count": 31,
   "metadata": {},
   "outputs": [],
   "source": [
    "v  = A(3)"
   ]
  },
  {
   "cell_type": "code",
   "execution_count": 32,
   "metadata": {},
   "outputs": [
    {
     "data": {
      "text/plain": [
       "A(a=3)"
      ]
     },
     "execution_count": 32,
     "metadata": {},
     "output_type": "execute_result"
    }
   ],
   "source": [
    "v"
   ]
  },
  {
   "cell_type": "code",
   "execution_count": 33,
   "metadata": {},
   "outputs": [
    {
     "ename": "TypeError",
     "evalue": "__init__() missing 1 required positional argument: 'a'",
     "output_type": "error",
     "traceback": [
      "\u001b[0;31m---------------------------------------------------------------------------\u001b[0m",
      "\u001b[0;31mTypeError\u001b[0m                                 Traceback (most recent call last)",
      "\u001b[0;32m<ipython-input-33-6234893e030b>\u001b[0m in \u001b[0;36m<module>\u001b[0;34m\u001b[0m\n\u001b[0;32m----> 1\u001b[0;31m \u001b[0mA\u001b[0m\u001b[0;34m(\u001b[0m\u001b[0;34m)\u001b[0m\u001b[0;34m\u001b[0m\u001b[0;34m\u001b[0m\u001b[0m\n\u001b[0m",
      "\u001b[0;31mTypeError\u001b[0m: __init__() missing 1 required positional argument: 'a'"
     ]
    }
   ],
   "source": [
    "A()"
   ]
  },
  {
   "cell_type": "code",
   "execution_count": 36,
   "metadata": {},
   "outputs": [
    {
     "data": {
      "text/plain": [
       "<function flax.struct.dataclass.<locals>.replace(self, **updates)>"
      ]
     },
     "execution_count": 36,
     "metadata": {},
     "output_type": "execute_result"
    }
   ],
   "source": [
    "A.replace"
   ]
  },
  {
   "cell_type": "code",
   "execution_count": null,
   "metadata": {},
   "outputs": [],
   "source": [
    " # The way i want to use gpu\n",
    "\n",
    "novelty_archive = jpn.array()  # previusly seen behavior to calculate novelty, stored on GPU\n",
    "elites_map = np.array()  # the map is stored on the cpu\n",
    "\n",
    "jax_do_es_update = jax.jit(evaluate_children_and_do_es_update)\n",
    "\n",
    "for gen in range(1000):\n",
    "    \n",
    "    \n",
    "    # select parent\n",
    "    parent = select_random_elite(elites_map)\n",
    "    \n",
    "    # copy parent params to gpu\n",
    "    parent_params = jpn.array(parent[\"params\"])\n",
    "    \n",
    "    # evaluate_children and do es update\n",
    "    # this is all the heavy calculations\n",
    "    # - creating mutated copies\n",
    "    # - running episodes for each children\n",
    "    # - calculating the weighted sum for the es update\n",
    "    child_eval_result,new_params = jax_do_es_update(parent_params)  \n",
    "    \n",
    "    # evaluate the new params\n",
    "    new_params_eval_results = jax_do_eval_episodes(new_params)\n",
    "    \n",
    "    # copy back params and eval result to cpu\n",
    "    new_params_eval_results = np.array(new_params_eval_results)\n",
    "    child_eval_result = np.array(child_eval_result)\n",
    "    new_params = np.array(new_params)\n",
    "    \n",
    "    # add to archive\n",
    "    add_to_archive(elites_map,new_params_eval_results,child_eval_result,new_params)\n",
    "    \n",
    "# NOTE\n",
    "# if i want to cache results, i should use a random table, which is the same for the gpu and cpu,\n",
    "# so I can just store the random indicies for evaluations.\n",
    "# Why do i actually need to cache results?\n",
    "# The main reason is that i need to evaluate children to calculate evolvability, and want to reuse them later to do updates.\n",
    "# If i do the x step per parent before switching, than this have marginal benefit, (calculating 11 pop instead of 10)\n",
    "# So let us not do it.\n",
    "\n",
    "\n"
   ]
  },
  {
   "cell_type": "code",
   "execution_count": null,
   "metadata": {},
   "outputs": [],
   "source": [
    "def jax_do_es_update(parent_params,novelty_archive):\n",
    "    \n",
    "    noise = jpn.randn(POP_SIZE,NUM_PARAMS)\n",
    "    pop = parent_params + noise\n",
    "    \n",
    "    \n",
    "    \n",
    "    \n",
    "    \n",
    "    \n",
    "    "
   ]
  },
  {
   "cell_type": "code",
   "execution_count": 5,
   "metadata": {},
   "outputs": [],
   "source": [
    "import numpy as np"
   ]
  },
  {
   "cell_type": "code",
   "execution_count": 1,
   "metadata": {},
   "outputs": [
    {
     "name": "stdout",
     "output_type": "stream",
     "text": [
      "env: CUDA_VISIBLE_DEVICES=0\n"
     ]
    }
   ],
   "source": [
    "%env CUDA_VISIBLE_DEVICES=0\n",
    "\n",
    "import brax\n",
    "from brax import jumpy as jp\n",
    "from brax.envs import env\n",
    "import jax.numpy as jnp\n",
    "import jax"
   ]
  },
  {
   "cell_type": "code",
   "execution_count": 2,
   "metadata": {},
   "outputs": [],
   "source": [
    "# To calculate novelty, we need to calculate the distance from each point in the archive,\n",
    "# then calcululate the mean of the k nearest neigbor distance\n",
    "key = jax.random.PRNGKey(seed=5)\n",
    "archive = jax.random.normal(key, shape=(20,2))\n"
   ]
  },
  {
   "cell_type": "code",
   "execution_count": 10,
   "metadata": {},
   "outputs": [],
   "source": [
    "eval_bds = jax.random.normal(key, shape=(5,2))"
   ]
  },
  {
   "cell_type": "code",
   "execution_count": 57,
   "metadata": {},
   "outputs": [],
   "source": [
    "def get_calculate_novelty_fn(k):\n",
    "    def calculate_novelty(bd,archive):\n",
    "        # For no\n",
    "        distances = jnp.sqrt(jnp.sum((archive - bd)**2,axis=1))\n",
    "        nearest_neighbors,nearest_indicies = jax.lax.top_k(-distances, k) # take negative to calculate neerest instead of furthest\n",
    "        novelty = -jnp.mean(nearest_neighbors)   # take negative again, to get the mean distance\n",
    "        return novelty\n",
    "    \n",
    "    return calculate_novelty\n",
    "\n",
    "calculate_novelty = get_calculate_novelty_fn(k=10)\n",
    "    \n",
    "# we batch only \n",
    "calculate_novelty_batch = jax.jit(jax.vmap(calculate_novelty,in_axes=[0, None]))\n",
    "jitted_calculate_novelty_batch = jax.jit(jax.vmap(calculate_novelty,in_axes=[0, None]))\n",
    "\n",
    "\n"
   ]
  },
  {
   "cell_type": "code",
   "execution_count": null,
   "metadata": {},
   "outputs": [],
   "source": [
    "eval_bds = jax.random.normal(key, shape=(5,2))"
   ]
  },
  {
   "cell_type": "code",
   "execution_count": 45,
   "metadata": {},
   "outputs": [],
   "source": [
    "novelties = calculate_novelty_batch(eval_bds,archive)"
   ]
  },
  {
   "cell_type": "code",
   "execution_count": null,
   "metadata": {},
   "outputs": [],
   "source": []
  },
  {
   "cell_type": "code",
   "execution_count": 64,
   "metadata": {},
   "outputs": [],
   "source": [
    "\n",
    "# TEST speed of novelty calculation\n",
    "\n",
    "# CPU verison\n",
    "def calculate_novelty_cpu(eval_bds,archive):\n",
    "    from sklearn.neighbors import NearestNeighbors\n",
    "    nn_model = NearestNeighbors(n_neighbors=5, algorithm='ball_tree', metric='euclidean')\n",
    "    nn_model.fit(archive)\n",
    "    distances, indicies = nn_model.kneighbors(eval_bds,n_neighbors=min(10,eval_bds.shape[0]))  \n",
    "    return np.mean(distances,axis=1)\n",
    "        \n",
    "def calculate_novelty_gpu(eval_bds,archive):\n",
    "    return calculate_novelty_batch(eval_bds,archive)\n",
    "\n",
    "def calculate_novelty_gpu_jit(eval_bds,archive):\n",
    "    return jitted_calculate_novelty_batch(eval_bds,archive)\n",
    "\n",
    "key = jax.random.PRNGKey(seed=6)\n",
    "archive = jax.random.normal(key, shape=(2000,2))\n",
    "eval_bds = jax.random.normal(key, shape=(10000,2))\n",
    "    \n",
    "# copy to cpu beforehand\n",
    "cpu_eval_bds = np.array(eval_bds)\n",
    "cpu_archive = np.array(archive)\n",
    "    \n"
   ]
  },
  {
   "cell_type": "code",
   "execution_count": 68,
   "metadata": {},
   "outputs": [
    {
     "name": "stdout",
     "output_type": "stream",
     "text": [
      "CPU times: user 98.3 ms, sys: 318 µs, total: 98.6 ms\n",
      "Wall time: 96.7 ms\n"
     ]
    },
    {
     "data": {
      "text/plain": [
       "array([0.10318025, 0.10136115, 0.08714432, ..., 0.26581214, 0.45856768,\n",
       "       0.06177525])"
      ]
     },
     "execution_count": 68,
     "metadata": {},
     "output_type": "execute_result"
    }
   ],
   "source": [
    "%%time\n",
    "calculate_novelty_cpu(cpu_eval_bds,cpu_archive)"
   ]
  },
  {
   "cell_type": "code",
   "execution_count": 69,
   "metadata": {},
   "outputs": [
    {
     "name": "stdout",
     "output_type": "stream",
     "text": [
      "CPU times: user 4.49 ms, sys: 154 µs, total: 4.64 ms\n",
      "Wall time: 3.29 ms\n"
     ]
    },
    {
     "data": {
      "text/plain": [
       "DeviceArray([0.10318024, 0.10136115, 0.08714432, ..., 0.26581216,\n",
       "             0.4585677 , 0.06177524], dtype=float32)"
      ]
     },
     "execution_count": 69,
     "metadata": {},
     "output_type": "execute_result"
    }
   ],
   "source": [
    "%%time\n",
    "calculate_novelty_gpu(eval_bds,archive).block_until_ready()"
   ]
  },
  {
   "cell_type": "code",
   "execution_count": 67,
   "metadata": {},
   "outputs": [
    {
     "name": "stdout",
     "output_type": "stream",
     "text": [
      "CPU times: user 4.16 ms, sys: 28 µs, total: 4.19 ms\n",
      "Wall time: 3.3 ms\n"
     ]
    },
    {
     "data": {
      "text/plain": [
       "DeviceArray([0.10318024, 0.10136115, 0.08714432, ..., 0.26581216,\n",
       "             0.4585677 , 0.06177524], dtype=float32)"
      ]
     },
     "execution_count": 67,
     "metadata": {},
     "output_type": "execute_result"
    }
   ],
   "source": [
    "%%time\n",
    "calculate_novelty_gpu_jit(eval_bds,archive).block_until_ready()"
   ]
  },
  {
   "cell_type": "code",
   "execution_count": null,
   "metadata": {},
   "outputs": [],
   "source": []
  },
  {
   "cell_type": "code",
   "execution_count": null,
   "metadata": {},
   "outputs": [],
   "source": [
    "key = jax.random.PRNGKey(seed=6)\n",
    "noise = jax.random.normal(key, shape=(10000,100000))\n",
    "weights = jax.random.normal(key, shape=(10000))"
   ]
  },
  {
   "cell_type": "code",
   "execution_count": null,
   "metadata": {},
   "outputs": [],
   "source": [
    "results = jnp.ma"
   ]
  },
  {
   "cell_type": "code",
   "execution_count": null,
   "metadata": {},
   "outputs": [],
   "source": []
  },
  {
   "cell_type": "code",
   "execution_count": null,
   "metadata": {},
   "outputs": [],
   "source": []
  },
  {
   "cell_type": "code",
   "execution_count": null,
   "metadata": {},
   "outputs": [],
   "source": []
  },
  {
   "cell_type": "code",
   "execution_count": 32,
   "metadata": {},
   "outputs": [],
   "source": []
  },
  {
   "cell_type": "code",
   "execution_count": null,
   "metadata": {},
   "outputs": [],
   "source": []
  },
  {
   "cell_type": "code",
   "execution_count": null,
   "metadata": {},
   "outputs": [],
   "source": []
  }
 ],
 "metadata": {
  "kernelspec": {
   "display_name": "Python 3",
   "language": "python",
   "name": "python3"
  },
  "language_info": {
   "codemirror_mode": {
    "name": "ipython",
    "version": 3
   },
   "file_extension": ".py",
   "mimetype": "text/x-python",
   "name": "python",
   "nbconvert_exporter": "python",
   "pygments_lexer": "ipython3",
   "version": "3.8.10"
  }
 },
 "nbformat": 4,
 "nbformat_minor": 4
}
