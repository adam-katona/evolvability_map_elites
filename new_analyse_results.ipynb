{
 "cells": [
  {
   "cell_type": "code",
   "execution_count": 1,
   "id": "18f86bcf-ab9a-446d-af57-2ef0a3deda95",
   "metadata": {},
   "outputs": [
    {
     "name": "stdout",
     "output_type": "stream",
     "text": [
      "1.4.2\n"
     ]
    }
   ],
   "source": [
    "import os\n",
    "import wandb\n",
    "import copy \n",
    "import json\n",
    "\n",
    "import pandas as pd \n",
    "print(pd.__version__)\n",
    "import matplotlib.pyplot as plt\n",
    "import numpy as np\n",
    "\n",
    "import analyse_results_utils\n",
    "from es_map import custom_configs\n",
    "from es_map.my_brax_envs import brax_envs\n",
    "# CUDA_VISIBLE_DEVICES=0 wandb agent adam_katona/uncategorized/noibtlha"
   ]
  },
  {
   "cell_type": "code",
   "execution_count": null,
   "id": "dfa02ecc-9a73-452b-9754-45b5df5e9bc7",
   "metadata": {},
   "outputs": [],
   "source": []
  },
  {
   "cell_type": "code",
   "execution_count": 22,
   "id": "3c6ef35c-a882-4a1a-9f94-d54b872a7581",
   "metadata": {},
   "outputs": [
    {
     "data": {
      "text/plain": [
       "194"
      ]
     },
     "execution_count": 22,
     "metadata": {},
     "output_type": "execute_result"
    }
   ],
   "source": [
    "api = wandb.Api()\n",
    "jax_es_sweep = api.sweep(\"adam_katona/uncategorized/noibtlha\") \n",
    "#jax_es_sweep = api.sweep(\"adam_katona/uncategorized/c7q2v97c\") \n",
    "#jax_es_sweep = api.sweep(\"adam_katona/uncategorized/ghkaoset\") \n",
    "#jax_es_sweep = api.sweep(\"adam_katona/uncategorized/jd18zi1o\") \n",
    "\n",
    "sweep_runs = list(jax_es_sweep.runs)\n",
    "len(sweep_runs)"
   ]
  },
  {
   "cell_type": "code",
   "execution_count": 23,
   "id": "f5f0dfde-a369-43c7-8b5e-d4a61d38ccfb",
   "metadata": {},
   "outputs": [],
   "source": [
    "def id_to_path(id):\n",
    "    from glob import glob    \n",
    "    path = glob(\"/scratch/ak1774/runs/large_files_jax/*\"+id, recursive = False)[0]\n",
    "    return path"
   ]
  },
  {
   "cell_type": "code",
   "execution_count": 24,
   "id": "72a03744-c967-4787-b2fd-99a336af6a24",
   "metadata": {},
   "outputs": [],
   "source": [
    "#for i,wanddb_run in enumerate(sweep_runs):\n",
    "#    print(i,wanddb_run.name,len(wanddb_run.history()))\n",
    "#type(sweep_runs[27].config)\n",
    "#plt.plot(sweep_runs[40].history()[\"generation_number\"])\n",
    "#sweep_runs[40].name"
   ]
  },
  {
   "cell_type": "code",
   "execution_count": 25,
   "id": "17668746-7351-4cef-b629-7a8150ee6a13",
   "metadata": {},
   "outputs": [
    {
     "name": "stdout",
     "output_type": "stream",
     "text": [
      "0 / 194\n",
      "40 / 194\n",
      "80 / 194\n",
      "120 / 194\n",
      "160 / 194\n"
     ]
    }
   ],
   "source": [
    "all_runs = []\n",
    "failed_runs = []\n",
    "for i,wanddb_run in enumerate(sweep_runs):\n",
    "    if i%40 == 0:\n",
    "        print(i,\"/\",len(sweep_runs))\n",
    "    #run_logs = wanddb_run.history()\n",
    "    \n",
    "    config = copy.deepcopy(wanddb_run.config)\n",
    "    config = custom_configs.get_config_from_index(config,config[\"config_index\"])\n",
    "    bd_descriptor = brax_envs.env_to_bd_descriptor(config[\"env_name\"],config[\"env_mode\"])\n",
    "    config[\"map_elites_grid_description\"] = bd_descriptor\n",
    "    \n",
    "    \n",
    "    run_id = wanddb_run.dir.split(\"/\")[-1]\n",
    "    run = {}\n",
    "    run[\"path\"] = analyse_results_utils.id_to_path(run_id)\n",
    "    if  os.path.exists(run[\"path\"]+\"/b_archive.npy\"):\n",
    "        run[\"b_map_evolver\"] = np.load(run[\"path\"]+\"/b_map_evolver.npy\",allow_pickle=True)\n",
    "        run[\"b_map_performance\"] = np.load(run[\"path\"]+\"/b_map_performance.npy\",allow_pickle=True)\n",
    "        run[\"b_archive\"] = np.load(run[\"path\"]+\"/b_archive.npy\")\n",
    "        run[\"wandb_run\"] = wanddb_run\n",
    "        run[\"config\"] = config\n",
    "        all_runs.append(run)\n",
    "    else:\n",
    "        failed_runs.append(wanddb_run.config)"
   ]
  },
  {
   "cell_type": "code",
   "execution_count": 26,
   "id": "97255c62-8e76-47a6-a399-6fd67e242144",
   "metadata": {},
   "outputs": [
    {
     "name": "stdout",
     "output_type": "stream",
     "text": [
      "all_runs:  187\n",
      "failed_runs:  7\n"
     ]
    }
   ],
   "source": [
    "print(\"all_runs: \",len(all_runs))\n",
    "print(\"failed_runs: \",len(failed_runs))"
   ]
  },
  {
   "cell_type": "code",
   "execution_count": 27,
   "id": "a59efd49-04de-41b0-a731-ed94ae2fc1f6",
   "metadata": {},
   "outputs": [],
   "source": [
    "def config_to_type(config):\n",
    "    # the types i am interested in are:\n",
    "    # if the ubdates are combined, we put a \"_C\" at the end\n",
    "    acceptable_names = [\n",
    "     \"ME__explore\",\n",
    "     \"ME__exploit\",\n",
    "     \"ME__explore-exploit\",\n",
    "    \n",
    "     \"E-ME-f__exploit\",\n",
    "     \"E-ME-f__explore-exploit\",\n",
    "\n",
    "     \"E-ME-f__evolvability\",\n",
    "     \"E-ME-f__evolvability-exploit\",\n",
    "     \"E-ME-f__explore-evolvability-exploit\",\n",
    "    \n",
    "     \"E-ME-e__explore-evolvability-exploit\",\n",
    "     \"E-ME-i__explore-evolvability-exploit\",\n",
    "    \n",
    "     \"MM-ME-fei__explore-evolvability-exploit\",\n",
    "     \"ND-ME-fei__explore-evolvability-exploit\",\n",
    "    ]\n",
    "    \n",
    "    def in_mode(mode_list,mode):\n",
    "        for m in mode_list:\n",
    "            if mode in m:\n",
    "                return True\n",
    "        return False\n",
    "    \n",
    "    # first get the first part\n",
    "    name = \"\"\n",
    "    if config[\"BMAP_type_and_metrics\"][\"type\"] == \"single_map\":\n",
    "        if \"eval_fitness\" in config[\"BMAP_type_and_metrics\"][\"metrics\"]:\n",
    "            name += \"ME__\"\n",
    "        else:\n",
    "            name += \"E-ME-\"\n",
    "            if \"excpected_fitness\" in config[\"BMAP_type_and_metrics\"][\"metrics\"]:\n",
    "                name += \"f\"\n",
    "            if \"evo_ent\" in config[\"BMAP_type_and_metrics\"][\"metrics\"] or \"evo_var\" in config[\"BMAP_type_and_metrics\"][\"metrics\"]:\n",
    "                name += \"e\"\n",
    "            if \"innovation\" in config[\"BMAP_type_and_metrics\"][\"metrics\"]:\n",
    "                name += \"i\"\n",
    "            name += \"__\"\n",
    "    else:    \n",
    "        if config[\"BMAP_type_and_metrics\"][\"type\"] == \"multi_map\":\n",
    "            name += \"MM-ME-\"\n",
    "        elif config[\"BMAP_type_and_metrics\"][\"type\"] == \"nd_sorted_map\":\n",
    "            name += \"ND-ME-\"\n",
    "            \n",
    "        if \"excpected_fitness\" in config[\"BMAP_type_and_metrics\"][\"metrics\"]:\n",
    "            name += \"f\"\n",
    "        if \"evo_ent\" in config[\"BMAP_type_and_metrics\"][\"metrics\"] or \"evo_var\" in config[\"BMAP_type_and_metrics\"][\"metrics\"]:\n",
    "            name += \"e\"\n",
    "        if \"innovation\" in config[\"BMAP_type_and_metrics\"][\"metrics\"]:\n",
    "            name += \"i\"\n",
    "        name += \"__\"\n",
    "        \n",
    "    # now get the second part\n",
    "    if in_mode(config[\"ES_UPDATES_MODES_TO_USE\"],\"innovation\"):\n",
    "        name += \"explore-\"\n",
    "    if in_mode(config[\"ES_UPDATES_MODES_TO_USE\"],\"evo\"):\n",
    "        name += \"evolvability-\"\n",
    "    if in_mode(config[\"ES_UPDATES_MODES_TO_USE\"],\"fitness\"):\n",
    "        name += \"exploit-\"\n",
    "        \n",
    "    # remove trailing dash\n",
    "    if name[-1] == \"-\":\n",
    "        name = name[:-1]\n",
    "    \n",
    "    return name\n",
    "    #if name in acceptable_names:\n",
    "    #    return name\n",
    "    #else:\n",
    "    #    return \"not_interested\"\n",
    "    \n",
    "    \n",
    "def group_runs_by_type(runs):\n",
    "    typed_runs = {}\n",
    "    for run in runs:\n",
    "        run_type = config_to_type(run[\"config\"])\n",
    "        run[\"ALGO_NAME\"] = run_type\n",
    "        if run_type != \"not_interested\":\n",
    "            if run_type in typed_runs:\n",
    "                typed_runs[run_type].append(run)\n",
    "            else:\n",
    "                typed_runs[run_type] = [run]\n",
    "    return typed_runs\n",
    "            \n",
    "    \n",
    "type_runs = group_runs_by_type(all_runs)\n"
   ]
  },
  {
   "cell_type": "code",
   "execution_count": 39,
   "id": "2b7a9e7e-e540-4366-b298-fc3f56fe62df",
   "metadata": {},
   "outputs": [
    {
     "data": {
      "text/plain": [
       "{0: 'ME__explore',\n",
       " 11: 'E-ME-fei__explore-evolvability-exploit',\n",
       " 10: 'E-ME-fei__explore-evolvability-exploit',\n",
       " 9: 'E-ME-i__explore-evolvability-exploit',\n",
       " 8: 'E-ME-e__explore-evolvability-exploit',\n",
       " 7: 'E-ME-f__explore-evolvability-exploit',\n",
       " 6: 'E-ME-f__evolvability-exploit',\n",
       " 5: 'E-ME-f__evolvability',\n",
       " 4: 'E-ME-f__explore-exploit',\n",
       " 3: 'E-ME-f__exploit',\n",
       " 2: 'ME__explore-exploit',\n",
       " 1: 'ME__exploit'}"
      ]
     },
     "execution_count": 39,
     "metadata": {},
     "output_type": "execute_result"
    }
   ],
   "source": [
    "all_config_types = {}\n",
    "for run in all_runs:\n",
    "    all_config_types[run[\"config\"][\"config_index\"]] = config_to_type(run[\"config\"])\n",
    "all_config_types\n"
   ]
  },
  {
   "cell_type": "code",
   "execution_count": 51,
   "id": "7636cd96-6cdf-42e3-ae11-a1db5f6f78d4",
   "metadata": {},
   "outputs": [
    {
     "name": "stdout",
     "output_type": "stream",
     "text": [
      "walker\n",
      "walker\n",
      "walker\n",
      "walker\n",
      "walker\n",
      "walker\n",
      "walker\n",
      "walker\n",
      "walker\n",
      "walker\n",
      "walker\n",
      "walker\n",
      "walker\n",
      "walker\n",
      "walker\n",
      "walker\n",
      "walker\n",
      "walker\n",
      "walker\n",
      "walker\n",
      "walker\n",
      "walker\n",
      "walker\n",
      "walker\n",
      "walker\n",
      "walker\n",
      "walker\n",
      "walker\n",
      "walker\n",
      "walker\n",
      "walker\n",
      "walker\n",
      "walker\n",
      "walker\n",
      "walker\n",
      "walker\n",
      "walker\n",
      "walker\n",
      "walker\n",
      "walker\n",
      "walker\n",
      "walker\n",
      "walker\n",
      "walker\n",
      "walker\n",
      "walker\n",
      "walker\n",
      "walker\n",
      "walker\n",
      "walker\n",
      "walker\n",
      "walker\n",
      "walker\n",
      "walker\n",
      "walker\n",
      "walker\n",
      "walker\n",
      "walker\n",
      "walker\n",
      "walker\n",
      "walker\n",
      "walker\n",
      "walker\n",
      "walker\n",
      "walker\n",
      "walker\n",
      "walker\n",
      "walker\n",
      "walker\n",
      "walker\n",
      "walker\n",
      "walker\n",
      "walker\n",
      "walker\n",
      "walker\n",
      "walker\n",
      "walker\n",
      "walker\n",
      "walker\n",
      "walker\n",
      "walker\n",
      "walker\n",
      "walker\n",
      "walker\n",
      "walker\n",
      "walker\n",
      "walker\n",
      "walker\n",
      "walker\n",
      "walker\n",
      "walker\n",
      "walker\n",
      "walker\n",
      "walker\n",
      "walker\n",
      "walker\n",
      "walker\n",
      "walker\n",
      "walker\n",
      "walker\n",
      "walker\n",
      "walker\n",
      "walker\n",
      "walker\n",
      "walker\n",
      "walker\n",
      "walker\n",
      "walker\n",
      "walker\n",
      "walker\n",
      "walker\n",
      "walker\n",
      "walker\n",
      "walker\n",
      "walker\n",
      "walker\n",
      "walker\n",
      "walker\n",
      "walker\n",
      "walker\n",
      "walker\n",
      "walker\n",
      "walker\n",
      "walker\n",
      "walker\n",
      "walker\n",
      "walker\n",
      "walker\n",
      "walker\n",
      "walker\n",
      "walker\n",
      "walker\n",
      "walker\n",
      "walker\n",
      "walker\n",
      "walker\n",
      "walker\n",
      "walker\n",
      "walker\n",
      "walker\n",
      "walker\n",
      "walker\n",
      "walker\n",
      "walker\n",
      "walker\n",
      "walker\n",
      "walker\n",
      "walker\n",
      "walker\n",
      "walker\n",
      "walker\n",
      "walker\n",
      "walker\n",
      "walker\n",
      "walker\n",
      "walker\n",
      "walker\n",
      "walker\n",
      "walker\n",
      "walker\n",
      "walker\n",
      "walker\n",
      "walker\n",
      "walker\n",
      "walker\n",
      "walker\n",
      "walker\n",
      "walker\n",
      "walker\n",
      "walker\n",
      "walker\n",
      "walker\n",
      "walker\n",
      "walker\n",
      "walker\n",
      "walker\n",
      "walker\n",
      "walker\n",
      "walker\n",
      "walker\n",
      "walker\n",
      "walker\n",
      "walker\n",
      "walker\n",
      "walker\n",
      "walker\n",
      "walker\n"
     ]
    }
   ],
   "source": [
    "for run in all_runs: # [run for run in all_runs if run[\"config\"][\"config_index\"]==11]:\n",
    "    print(a[\"config\"][\"env_name\"])\n",
    "#    print(a[\"b_map_evolver\"].shape)"
   ]
  },
  {
   "cell_type": "code",
   "execution_count": 28,
   "id": "5e1c9b1e-b124-41f5-92fc-7fc72f8243d2",
   "metadata": {},
   "outputs": [
    {
     "data": {
      "text/plain": [
       "dict_keys(['ME__explore', 'E-ME-fei__explore-evolvability-exploit', 'E-ME-i__explore-evolvability-exploit', 'E-ME-e__explore-evolvability-exploit', 'E-ME-f__explore-evolvability-exploit', 'E-ME-f__evolvability-exploit', 'E-ME-f__evolvability', 'E-ME-f__explore-exploit', 'E-ME-f__exploit', 'ME__explore-exploit', 'ME__exploit'])"
      ]
     },
     "execution_count": 28,
     "metadata": {},
     "output_type": "execute_result"
    }
   ],
   "source": [
    "type_runs.keys()"
   ]
  },
  {
   "cell_type": "code",
   "execution_count": 29,
   "id": "dd20ff96-1ceb-475e-9350-ffabf3fb9d00",
   "metadata": {},
   "outputs": [
    {
     "data": {
      "text/plain": [
       "dict_keys(['path', 'b_map_evolver', 'b_map_performance', 'b_archive', 'wandb_run', 'config', 'ALGO_NAME'])"
      ]
     },
     "execution_count": 29,
     "metadata": {},
     "output_type": "execute_result"
    }
   ],
   "source": [
    "all_runs[0].keys()"
   ]
  },
  {
   "cell_type": "code",
   "execution_count": 48,
   "id": "884729b3-ca06-4ba3-adbf-c2c5b98b79f5",
   "metadata": {},
   "outputs": [
    {
     "data": {
      "text/plain": [
       "(266, 2)"
      ]
     },
     "execution_count": 48,
     "metadata": {},
     "output_type": "execute_result"
    }
   ],
   "source": [
    "all_runs[0][\"b_archive\"].shape"
   ]
  },
  {
   "cell_type": "code",
   "execution_count": 30,
   "id": "8aab2da7-1e60-4e5a-ab9c-faef351f5cc8",
   "metadata": {
    "tags": []
   },
   "outputs": [],
   "source": [
    "def add_colums_with_key(df,column_name,runs,lambda_fun):\n",
    "    df[column_name] = [lambda_fun(run) for run in runs]\n",
    "\n",
    "def get_non_empty_ratio(run):\n",
    "    num_cells = run[\"b_map_performance\"].size\n",
    "    num_nonempty = sum((run[\"b_map_performance\"] != None).reshape(-1))\n",
    "    val = float(num_nonempty)/num_cells\n",
    "    run[\"non_empty_ratio\"] = val\n",
    "    return val\n",
    "    \n",
    "def get_normal_qd_score(run):\n",
    "    non_empty = run[\"b_map_performance\"][run[\"b_map_performance\"] != None]\n",
    "    normal_fitnesses = [cell[\"elite\"][\"eval_normal_fitness\"] for cell in non_empty]\n",
    "    val = sum(normal_fitnesses)\n",
    "    run[\"normal_qd_score\"] = val\n",
    "    return val\n",
    "\n",
    "\n",
    "def get_distance_qd_score(run):\n",
    "    non_empty = run[\"b_map_performance\"][run[\"b_map_performance\"] != None]\n",
    "    normal_fitnesses = [cell[\"elite\"][\"eval_mean_dist\"] for cell in non_empty]\n",
    "    val = sum(normal_fitnesses)\n",
    "    run[\"distance_qd_score\"] = val\n",
    "    return val\n",
    "\n",
    "def get_best_normal_fitness(run):\n",
    "    non_empty = run[\"b_map_performance\"][run[\"b_map_performance\"] != None]\n",
    "    val = max([cell[\"elite\"][\"eval_normal_fitness\"] for cell in non_empty])\n",
    "    run[\"best_normal_fitness\"] = val\n",
    "    return val\n",
    "    \n",
    "def get_best_distance_fitness(run):\n",
    "    non_empty = run[\"b_map_performance\"][run[\"b_map_performance\"] != None]\n",
    "    val = max([cell[\"elite\"][\"eval_mean_dist\"] for cell in non_empty])\n",
    "    run[\"best_distance_fitness\"] = val\n",
    "    return val\n",
    "    \n",
    "import pandas as pd\n",
    "df = pd.DataFrame()\n",
    "add_colums_with_key(df,\"ALGO_NAME\",all_runs,lambda x : x[\"ALGO_NAME\"])\n",
    "add_colums_with_key(df,\"env_name\",all_runs,lambda x : x[\"config\"][\"env_name\"])\n",
    "add_colums_with_key(df,\"env_mode\",all_runs,lambda x : x[\"config\"][\"env_mode\"])\n",
    "#add_colums_with_key(df,\"map_type\",all_runs,lambda x : x[\"config\"][\"BMAP_type_and_metrics\"][\"type\"])\n",
    "#add_colums_with_key(df,\"map_metrics\",all_runs,lambda x : \"\".join(x[\"config\"][\"BMAP_type_and_metrics\"][\"metrics\"]))\n",
    "#add_colums_with_key(df,\"updates\",all_runs,lambda x : \"\".join(x[\"config\"][\"ES_UPDATES_MODES_TO_USE\"]))\n",
    "\n",
    "add_colums_with_key(df,\"non_empty_ratio\",all_runs,get_non_empty_ratio)\n",
    "add_colums_with_key(df,\"normal_qd_score\",all_runs,get_normal_qd_score)\n",
    "add_colums_with_key(df,\"distance_qd_score\",all_runs,get_distance_qd_score)\n",
    "add_colums_with_key(df,\"best_normal_fitness\",all_runs,get_best_normal_fitness)\n",
    "add_colums_with_key(df,\"best_distance_fitness\",all_runs,get_best_distance_fitness)\n",
    "\n",
    "#df"
   ]
  },
  {
   "cell_type": "code",
   "execution_count": 31,
   "id": "17f6492c-284a-48b4-a2a2-b93ee3d84554",
   "metadata": {},
   "outputs": [
    {
     "data": {
      "text/plain": [
       "[('halfcheetah', 'NORMAL_CONTACT'),\n",
       " ('hopper', 'NORMAL_CONTACT'),\n",
       " ('ant', 'NORMAL_CONTACT'),\n",
       " ('humanoid', 'CONTROL_FINAL_POS'),\n",
       " ('walker', 'NORMAL_CONTACT'),\n",
       " ('humanoid', 'DISTANCE_FINAL_POS'),\n",
       " ('hopper', 'CONTROL_FINAL_POS'),\n",
       " ('halfcheetah', 'CONTROL_FINAL_POS'),\n",
       " ('walker', 'CONTROL_FINAL_POS'),\n",
       " ('ant', 'CONTROL_FINAL_POS'),\n",
       " ('halfcheetah', 'DISTANCE_FINAL_POS'),\n",
       " ('humanoid', 'NORMAL_CONTACT'),\n",
       " ('ant', 'DISTANCE_FINAL_POS'),\n",
       " ('hopper', 'DISTANCE_FINAL_POS'),\n",
       " ('walker', 'DISTANCE_FINAL_POS')]"
      ]
     },
     "execution_count": 31,
     "metadata": {},
     "output_type": "execute_result"
    }
   ],
   "source": [
    "def get_unique_combinations(runs,keys):\n",
    "    all_tuples = []\n",
    "    for run in runs:\n",
    "        all_tuples.append(tuple(run[\"config\"][key] for key in keys))\n",
    "    return list(set(all_tuples))\n",
    "combinations = get_unique_combinations(all_runs,[\"env_name\",\"env_mode\"])\n",
    "combinations\n"
   ]
  },
  {
   "cell_type": "code",
   "execution_count": 36,
   "id": "56302b70-3845-4022-a2c9-563c827903a3",
   "metadata": {},
   "outputs": [],
   "source": [
    "selected_combinations = [\n",
    "    ('ant', 'NORMAL_CONTACT'),\n",
    "    #('ant', 'DISTANCE_CONTACT'),\n",
    "    ('ant', 'DISTANCE_FINAL_POS'),\n",
    "    ('halfcheetah', 'NORMAL_CONTACT'),\n",
    "    #('halfcheetah', 'DISTANCE_CONTACT'),\n",
    "    ('halfcheetah', 'DISTANCE_FINAL_POS'),\n",
    "]"
   ]
  },
  {
   "cell_type": "code",
   "execution_count": 34,
   "id": "2010a0c3-a663-47ed-a5c5-cc8c78017809",
   "metadata": {},
   "outputs": [
    {
     "data": {
      "text/html": [
       "<div>\n",
       "<style scoped>\n",
       "    .dataframe tbody tr th:only-of-type {\n",
       "        vertical-align: middle;\n",
       "    }\n",
       "\n",
       "    .dataframe tbody tr th {\n",
       "        vertical-align: top;\n",
       "    }\n",
       "\n",
       "    .dataframe thead th {\n",
       "        text-align: right;\n",
       "    }\n",
       "</style>\n",
       "<table border=\"1\" class=\"dataframe\">\n",
       "  <thead>\n",
       "    <tr style=\"text-align: right;\">\n",
       "      <th></th>\n",
       "      <th>ALGO_NAME</th>\n",
       "      <th>env_name</th>\n",
       "      <th>env_mode</th>\n",
       "      <th>non_empty_ratio</th>\n",
       "      <th>normal_qd_score</th>\n",
       "      <th>distance_qd_score</th>\n",
       "      <th>best_normal_fitness</th>\n",
       "      <th>best_distance_fitness</th>\n",
       "    </tr>\n",
       "  </thead>\n",
       "  <tbody>\n",
       "    <tr>\n",
       "      <th>0</th>\n",
       "      <td>ME__explore</td>\n",
       "      <td>walker</td>\n",
       "      <td>DISTANCE_FINAL_POS</td>\n",
       "      <td>0.040000</td>\n",
       "      <td>464.650382</td>\n",
       "      <td>6.083261</td>\n",
       "      <td>177.59874</td>\n",
       "      <td>1.8335097</td>\n",
       "    </tr>\n",
       "    <tr>\n",
       "      <th>184</th>\n",
       "      <td>ME__explore</td>\n",
       "      <td>walker</td>\n",
       "      <td>NORMAL_CONTACT</td>\n",
       "      <td>0.375977</td>\n",
       "      <td>18265.302567</td>\n",
       "      <td>258.377611</td>\n",
       "      <td>136.06114</td>\n",
       "      <td>1.1295115</td>\n",
       "    </tr>\n",
       "    <tr>\n",
       "      <th>183</th>\n",
       "      <td>ME__explore</td>\n",
       "      <td>hopper</td>\n",
       "      <td>NORMAL_CONTACT</td>\n",
       "      <td>0.530000</td>\n",
       "      <td>5295.866101</td>\n",
       "      <td>57.136595</td>\n",
       "      <td>180.45969</td>\n",
       "      <td>1.7908285</td>\n",
       "    </tr>\n",
       "    <tr>\n",
       "      <th>182</th>\n",
       "      <td>ME__explore</td>\n",
       "      <td>halfcheetah</td>\n",
       "      <td>NORMAL_CONTACT</td>\n",
       "      <td>0.295898</td>\n",
       "      <td>44752.192743</td>\n",
       "      <td>1661.579612</td>\n",
       "      <td>281.04156</td>\n",
       "      <td>12.000041</td>\n",
       "    </tr>\n",
       "    <tr>\n",
       "      <th>181</th>\n",
       "      <td>ME__explore</td>\n",
       "      <td>ant</td>\n",
       "      <td>DISTANCE_FINAL_POS</td>\n",
       "      <td>0.006836</td>\n",
       "      <td>-3400.432312</td>\n",
       "      <td>31.135876</td>\n",
       "      <td>-420.27896</td>\n",
       "      <td>5.801775</td>\n",
       "    </tr>\n",
       "    <tr>\n",
       "      <th>...</th>\n",
       "      <td>...</td>\n",
       "      <td>...</td>\n",
       "      <td>...</td>\n",
       "      <td>...</td>\n",
       "      <td>...</td>\n",
       "      <td>...</td>\n",
       "      <td>...</td>\n",
       "      <td>...</td>\n",
       "    </tr>\n",
       "    <tr>\n",
       "      <th>36</th>\n",
       "      <td>E-ME-fei__explore-evolvability-exploit</td>\n",
       "      <td>ant</td>\n",
       "      <td>NORMAL_CONTACT</td>\n",
       "      <td>0.023920</td>\n",
       "      <td>-1112.052752</td>\n",
       "      <td>52.770452</td>\n",
       "      <td>220.08266</td>\n",
       "      <td>3.1810937</td>\n",
       "    </tr>\n",
       "    <tr>\n",
       "      <th>14</th>\n",
       "      <td>E-ME-fei__explore-evolvability-exploit</td>\n",
       "      <td>walker</td>\n",
       "      <td>DISTANCE_FINAL_POS</td>\n",
       "      <td>0.040000</td>\n",
       "      <td>304.845474</td>\n",
       "      <td>5.589699</td>\n",
       "      <td>109.00961</td>\n",
       "      <td>1.4952008</td>\n",
       "    </tr>\n",
       "    <tr>\n",
       "      <th>15</th>\n",
       "      <td>E-ME-fei__explore-evolvability-exploit</td>\n",
       "      <td>humanoid</td>\n",
       "      <td>DISTANCE_FINAL_POS</td>\n",
       "      <td>0.003906</td>\n",
       "      <td>1491.916473</td>\n",
       "      <td>3.408246</td>\n",
       "      <td>409.21985</td>\n",
       "      <td>0.9203543</td>\n",
       "    </tr>\n",
       "    <tr>\n",
       "      <th>24</th>\n",
       "      <td>E-ME-fei__explore-evolvability-exploit</td>\n",
       "      <td>walker</td>\n",
       "      <td>CONTROL_FINAL_POS</td>\n",
       "      <td>0.030000</td>\n",
       "      <td>228.585953</td>\n",
       "      <td>1.538775</td>\n",
       "      <td>87.60625</td>\n",
       "      <td>1.0426825</td>\n",
       "    </tr>\n",
       "    <tr>\n",
       "      <th>16</th>\n",
       "      <td>E-ME-fei__explore-evolvability-exploit</td>\n",
       "      <td>ant</td>\n",
       "      <td>DISTANCE_FINAL_POS</td>\n",
       "      <td>0.004883</td>\n",
       "      <td>-1348.179868</td>\n",
       "      <td>19.845949</td>\n",
       "      <td>7.920023</td>\n",
       "      <td>5.4258585</td>\n",
       "    </tr>\n",
       "  </tbody>\n",
       "</table>\n",
       "<p>187 rows × 8 columns</p>\n",
       "</div>"
      ],
      "text/plain": [
       "                                  ALGO_NAME     env_name            env_mode  \\\n",
       "0                               ME__explore       walker  DISTANCE_FINAL_POS   \n",
       "184                             ME__explore       walker      NORMAL_CONTACT   \n",
       "183                             ME__explore       hopper      NORMAL_CONTACT   \n",
       "182                             ME__explore  halfcheetah      NORMAL_CONTACT   \n",
       "181                             ME__explore          ant  DISTANCE_FINAL_POS   \n",
       "..                                      ...          ...                 ...   \n",
       "36   E-ME-fei__explore-evolvability-exploit          ant      NORMAL_CONTACT   \n",
       "14   E-ME-fei__explore-evolvability-exploit       walker  DISTANCE_FINAL_POS   \n",
       "15   E-ME-fei__explore-evolvability-exploit     humanoid  DISTANCE_FINAL_POS   \n",
       "24   E-ME-fei__explore-evolvability-exploit       walker   CONTROL_FINAL_POS   \n",
       "16   E-ME-fei__explore-evolvability-exploit          ant  DISTANCE_FINAL_POS   \n",
       "\n",
       "     non_empty_ratio  normal_qd_score  distance_qd_score best_normal_fitness  \\\n",
       "0           0.040000       464.650382           6.083261           177.59874   \n",
       "184         0.375977     18265.302567         258.377611           136.06114   \n",
       "183         0.530000      5295.866101          57.136595           180.45969   \n",
       "182         0.295898     44752.192743        1661.579612           281.04156   \n",
       "181         0.006836     -3400.432312          31.135876          -420.27896   \n",
       "..               ...              ...                ...                 ...   \n",
       "36          0.023920     -1112.052752          52.770452           220.08266   \n",
       "14          0.040000       304.845474           5.589699           109.00961   \n",
       "15          0.003906      1491.916473           3.408246           409.21985   \n",
       "24          0.030000       228.585953           1.538775            87.60625   \n",
       "16          0.004883     -1348.179868          19.845949            7.920023   \n",
       "\n",
       "    best_distance_fitness  \n",
       "0               1.8335097  \n",
       "184             1.1295115  \n",
       "183             1.7908285  \n",
       "182             12.000041  \n",
       "181              5.801775  \n",
       "..                    ...  \n",
       "36              3.1810937  \n",
       "14              1.4952008  \n",
       "15              0.9203543  \n",
       "24              1.0426825  \n",
       "16              5.4258585  \n",
       "\n",
       "[187 rows x 8 columns]"
      ]
     },
     "execution_count": 34,
     "metadata": {},
     "output_type": "execute_result"
    }
   ],
   "source": [
    "custom_order = [\n",
    "     \"ME__explore\",\n",
    "     \"ME__exploit\",\n",
    "     \"ME__explore-exploit\",\n",
    "    \n",
    "     \"E-ME-f__exploit\",\n",
    "     \"E-ME-f__explore-exploit\",\n",
    "\n",
    "     \"E-ME-f__evolvability\",\n",
    "     \"E-ME-f__evolvability-exploit\",\n",
    "     \"E-ME-f__explore-evolvability-exploit\",\n",
    "    \n",
    "     \"E-ME-e__explore-evolvability-exploit\",\n",
    "     \"E-ME-i__explore-evolvability-exploit\",\n",
    "    \n",
    "     \"MM-ME-fei__explore-evolvability-exploit\",\n",
    "     \"ND-ME-fei__explore-evolvability-exploit\",\n",
    "    ]\n",
    "def get_algo_index(algo):\n",
    "    if algo in custom_order:\n",
    "        return custom_order.index(algo)\n",
    "    else:\n",
    "        return 99999\n",
    "df = df.sort_values(by=\"ALGO_NAME\",key=lambda x: x.apply(get_algo_index))\n",
    "df"
   ]
  },
  {
   "cell_type": "code",
   "execution_count": 38,
   "id": "6a068a41-562f-4ded-818f-2b36d6d65d7e",
   "metadata": {
    "tags": []
   },
   "outputs": [
    {
     "name": "stdout",
     "output_type": "stream",
     "text": [
      "('ant', 'NORMAL_CONTACT') 13\n"
     ]
    },
    {
     "name": "stderr",
     "output_type": "stream",
     "text": [
      "/scratch/ak1774/vargpu_env/lib/python3.8/site-packages/numpy/core/_asarray.py:83: VisibleDeprecationWarning: Creating an ndarray from ragged nested sequences (which is a list-or-tuple of lists-or-tuples-or ndarrays with different lengths or shapes) is deprecated. If you meant to do this, you must specify 'dtype=object' when creating the ndarray\n",
      "  return array(a, dtype, copy=False, order=order)\n"
     ]
    },
    {
     "data": {
      "image/png": "[encoded data removed]",
      "text/plain": [
       "<Figure size 432x288 with 1 Axes>"
      ]
     },
     "metadata": {
      "needs_background": "light"
     },
     "output_type": "display_data"
    },
    {
     "name": "stdout",
     "output_type": "stream",
     "text": [
      "('ant', 'DISTANCE_FINAL_POS') 13\n"
     ]
    },
    {
     "name": "stderr",
     "output_type": "stream",
     "text": [
      "/scratch/ak1774/vargpu_env/lib/python3.8/site-packages/numpy/core/_asarray.py:83: VisibleDeprecationWarning: Creating an ndarray from ragged nested sequences (which is a list-or-tuple of lists-or-tuples-or ndarrays with different lengths or shapes) is deprecated. If you meant to do this, you must specify 'dtype=object' when creating the ndarray\n",
      "  return array(a, dtype, copy=False, order=order)\n"
     ]
    },
    {
     "data": {
      "image/png": "[encoded data removed]",
      "text/plain": [
       "<Figure size 432x288 with 1 Axes>"
      ]
     },
     "metadata": {
      "needs_background": "light"
     },
     "output_type": "display_data"
    },
    {
     "name": "stdout",
     "output_type": "stream",
     "text": [
      "('halfcheetah', 'NORMAL_CONTACT') 12\n"
     ]
    },
    {
     "name": "stderr",
     "output_type": "stream",
     "text": [
      "/scratch/ak1774/vargpu_env/lib/python3.8/site-packages/numpy/core/_asarray.py:83: VisibleDeprecationWarning: Creating an ndarray from ragged nested sequences (which is a list-or-tuple of lists-or-tuples-or ndarrays with different lengths or shapes) is deprecated. If you meant to do this, you must specify 'dtype=object' when creating the ndarray\n",
      "  return array(a, dtype, copy=False, order=order)\n"
     ]
    },
    {
     "data": {
      "image/png": "[encoded data removed]",
      "text/plain": [
       "<Figure size 432x288 with 1 Axes>"
      ]
     },
     "metadata": {
      "needs_background": "light"
     },
     "output_type": "display_data"
    },
    {
     "name": "stdout",
     "output_type": "stream",
     "text": [
      "('halfcheetah', 'DISTANCE_FINAL_POS') 12\n"
     ]
    },
    {
     "name": "stderr",
     "output_type": "stream",
     "text": [
      "/scratch/ak1774/vargpu_env/lib/python3.8/site-packages/numpy/core/_asarray.py:83: VisibleDeprecationWarning: Creating an ndarray from ragged nested sequences (which is a list-or-tuple of lists-or-tuples-or ndarrays with different lengths or shapes) is deprecated. If you meant to do this, you must specify 'dtype=object' when creating the ndarray\n",
      "  return array(a, dtype, copy=False, order=order)\n"
     ]
    },
    {
     "data": {
      "image/png": "[encoded data removed]",
      "text/plain": [
       "<Figure size 432x288 with 1 Axes>"
      ]
     },
     "metadata": {
      "needs_background": "light"
     },
     "output_type": "display_data"
    }
   ],
   "source": [
    "for env_combo in selected_combinations:\n",
    "    mask = (df[\"env_name\"] == env_combo[0]) & (df[\"env_mode\"] == env_combo[1])\n",
    "    print(env_combo,sum(mask))\n",
    "    #display(df[mask])\n",
    "    # normal_qd_score\n",
    "    # best_distance_fitness\n",
    "    # non_empty_ratio\n",
    "    \n",
    "    # now we want to group the runs with the same \n",
    "    #env_data = df[mask].groupby(by='ALGO_NAME')\n",
    "    #env_data.boxplot(column='non_empty_ratio',rot=45) # by='ALGO_NAME'\n",
    "    \n",
    "    df[mask].boxplot(column='best_distance_fitness', by='ALGO_NAME',rot=90) \n",
    "    plt.show()"
   ]
  },
  {
   "cell_type": "code",
   "execution_count": null,
   "id": "817b9bd6-87db-4c87-b28b-58ad4ad7b613",
   "metadata": {},
   "outputs": [],
   "source": [
    "# Go over all the hypothesis one by one\n",
    "# Hipothesis 1, selecting for excpected fitness instead of eval fitness will help\n",
    "# Hypothesis 2, adding evolvability update to the mix helps with everything\n",
    "# Hypothesis 3, doing map insertion based on evolvability hepls\n",
    "#  - sub question, is it better to do multi map or nd sorted map\n",
    "\n",
    "\n"
   ]
  },
  {
   "cell_type": "code",
   "execution_count": null,
   "id": "85f14fe3-8a54-4f0a-af7a-7480e266ec39",
   "metadata": {
    "tags": []
   },
   "outputs": [],
   "source": []
  },
  {
   "cell_type": "code",
   "execution_count": null,
   "id": "201fd722-f239-4d6c-a198-a682b81e8851",
   "metadata": {},
   "outputs": [],
   "source": []
  },
  {
   "cell_type": "code",
   "execution_count": 35,
   "id": "5b8d5be8-77bb-4f16-ace1-140d68b2bf74",
   "metadata": {},
   "outputs": [
    {
     "name": "stdout",
     "output_type": "stream",
     "text": [
      "E-ME-i__explore-evolvability-exploit 10\n",
      "E-ME-fei__explore-evolvability-exploit 17\n",
      "E-ME-f__exploit 10\n",
      "E-ME-e__explore-evolvability-exploit 10\n",
      "E-ME-f__explore-evolvability-exploit 10\n",
      "ME__explore-exploit 10\n",
      "E-ME-f__evolvability 10\n",
      "E-ME-f__evolvability-exploit 10\n",
      "E-ME-f__explore-exploit 10\n",
      "ME__exploit 10\n",
      "ME__explore 10\n"
     ]
    }
   ],
   "source": [
    "for algo in set(df[\"ALGO_NAME\"]):\n",
    "    print(algo, sum(df[\"ALGO_NAME\"] == algo) )\n"
   ]
  },
  {
   "cell_type": "code",
   "execution_count": null,
   "id": "bfe84f48-674f-4f7c-b865-ba64724797e4",
   "metadata": {},
   "outputs": [],
   "source": []
  },
  {
   "cell_type": "code",
   "execution_count": null,
   "id": "78afc0fe-4709-4a81-9275-609ec075bdef",
   "metadata": {},
   "outputs": [],
   "source": []
  },
  {
   "cell_type": "code",
   "execution_count": null,
   "id": "0be5d898-069a-41d7-ad9e-2ad2e877b543",
   "metadata": {},
   "outputs": [],
   "source": []
  }
 ],
 "metadata": {
  "kernelspec": {
   "display_name": "Python 3",
   "language": "python",
   "name": "python3"
  },
  "language_info": {
   "codemirror_mode": {
    "name": "ipython",
    "version": 3
   },
   "file_extension": ".py",
   "mimetype": "text/x-python",
   "name": "python",
   "nbconvert_exporter": "python",
   "pygments_lexer": "ipython3",
   "version": "3.8.10"
  }
 },
 "nbformat": 4,
 "nbformat_minor": 5
}
