{
 "cells": [
  {
   "cell_type": "code",
   "execution_count": 1,
   "id": "22c69ee9-f41b-4e02-814a-379a329f5c78",
   "metadata": {},
   "outputs": [
    {
     "name": "stdout",
     "output_type": "stream",
     "text": [
      "env: CUDA_VISIBLE_DEVICES=0\n",
      "env: XLA_PYTHON_CLIENT_PREALLOCATE=false\n"
     ]
    }
   ],
   "source": [
    "%env CUDA_VISIBLE_DEVICES=0\n",
    "%env XLA_PYTHON_CLIENT_PREALLOCATE=false"
   ]
  },
  {
   "cell_type": "code",
   "execution_count": 2,
   "id": "43761795-668d-4d2f-80ea-a5352b7266b7",
   "metadata": {},
   "outputs": [],
   "source": [
    "import brax\n",
    "from brax import jumpy as jp\n",
    "from brax.envs import env\n",
    "import jax.numpy as jnp\n",
    "import jax\n",
    "from brax.envs import wrappers\n",
    "import numpy as np\n",
    "from brax.envs import humanoid"
   ]
  },
  {
   "cell_type": "code",
   "execution_count": 3,
   "id": "e755d51a-1dcd-46b1-9570-88c7f23c90ac",
   "metadata": {},
   "outputs": [],
   "source": [
    "key = jax.random.PRNGKey(777)\n",
    "key_envs = jax.random.split(key, 1)"
   ]
  },
  {
   "cell_type": "code",
   "execution_count": 4,
   "id": "6d1df4c2-dbdd-48fa-bc57-fb5581147bdf",
   "metadata": {},
   "outputs": [],
   "source": [
    "from es_map.my_brax_envs import brax_envs\n",
    "        "
   ]
  },
  {
   "cell_type": "code",
   "execution_count": 47,
   "id": "aa094b54-2f5d-4660-b17e-54ba600d576a",
   "metadata": {},
   "outputs": [
    {
     "data": {
      "text/plain": [
       "<brax.envs.wrappers.AutoResetWrapper at 0x7fa82c1b3910>"
      ]
     },
     "execution_count": 47,
     "metadata": {},
     "output_type": "execute_result"
    }
   ],
   "source": [
    "#env = brax_envs.DirectionalHumanoid()\n",
    "env = humanoid.Humanoid()\n",
    "env = wrappers.EpisodeWrapper(env, episode_length=1000, action_repeat=1)\n",
    "env = wrappers.VectorWrapper(env, batch_size=10) # for each iteration, we evaluate the children and the parent performance in parallel\n",
    "env = wrappers.AutoResetWrapper(env) # not sure if this is nessasary, we only look at the first episode\n",
    "#env = wrappers.VectorGymWrapper(env) \n",
    "env"
   ]
  },
  {
   "cell_type": "code",
   "execution_count": 50,
   "id": "dfb49b8f-a858-495a-96d6-940ab10fe067",
   "metadata": {},
   "outputs": [
    {
     "data": {
      "text/plain": [
       "brax.envs.env.State"
      ]
     },
     "execution_count": 50,
     "metadata": {},
     "output_type": "execute_result"
    }
   ],
   "source": [
    "state = env.reset(key)\n",
    "type(state)"
   ]
  },
  {
   "cell_type": "code",
   "execution_count": null,
   "id": "c623c41f-4034-4c71-a7da-10c7f4fdb58c",
   "metadata": {},
   "outputs": [],
   "source": []
  },
  {
   "cell_type": "code",
   "execution_count": 46,
   "id": "6a0aa74a-f105-4456-a51e-48fdf2d87b47",
   "metadata": {},
   "outputs": [
    {
     "data": {
      "text/plain": [
       "jaxlib.xla_extension.DeviceArray"
      ]
     },
     "execution_count": 46,
     "metadata": {},
     "output_type": "execute_result"
    }
   ],
   "source": [
    "env._state.obs"
   ]
  },
  {
   "cell_type": "code",
   "execution_count": 11,
   "id": "7fb9ead6-a4ce-4688-bf03-025822481d75",
   "metadata": {},
   "outputs": [],
   "source": [
    "env = brax_envs.DirectionalHumanoid()"
   ]
  },
  {
   "cell_type": "code",
   "execution_count": 32,
   "id": "1da498ce-51ec-4132-bc6c-c475e77ffbc6",
   "metadata": {},
   "outputs": [],
   "source": [
    "env = humanoid.Humanoid()"
   ]
  },
  {
   "cell_type": "code",
   "execution_count": 33,
   "id": "67026d03-93f2-4946-810b-fa0c60ab48a4",
   "metadata": {},
   "outputs": [],
   "source": [
    "state = env.reset(key)"
   ]
  },
  {
   "cell_type": "code",
   "execution_count": 37,
   "id": "833010d6-216b-4ad1-8c32-5d54757c8484",
   "metadata": {},
   "outputs": [
    {
     "data": {
      "text/plain": [
       "array([[ 0.00000000e+00,  0.00000000e+00,  1.24404382e+00],\n",
       "       [ 1.45984871e-02,  2.09814643e-04,  9.88878467e-01],\n",
       "       [ 7.70314353e-02,  1.65541916e-03,  8.36154882e-01],\n",
       "       [ 9.33636416e-02, -9.78395111e-02,  7.98286458e-01],\n",
       "       [ 1.00315547e-01, -8.67310428e-02,  3.97192330e-01],\n",
       "       [ 9.09667975e-02,  1.02138981e-01,  7.99976724e-01],\n",
       "       [ 9.66054598e-02,  9.31103282e-02,  3.98776815e-01],\n",
       "       [ 0.00000000e+00, -1.70000002e-01,  1.30404381e+00],\n",
       "       [ 1.18477987e-01, -4.15513617e-01,  1.15276240e+00],\n",
       "       [ 0.00000000e+00,  1.70000002e-01,  1.30404381e+00],\n",
       "       [ 1.19111008e-01,  4.13431582e-01,  1.14992166e+00],\n",
       "       [ 0.00000000e+00,  0.00000000e+00,  0.00000000e+00]])"
      ]
     },
     "execution_count": 37,
     "metadata": {},
     "output_type": "execute_result"
    }
   ],
   "source": [
    "state.qp.pos"
   ]
  },
  {
   "cell_type": "code",
   "execution_count": 25,
   "id": "e26571ff-ce30-4f99-b92a-e26d861ac099",
   "metadata": {},
   "outputs": [
    {
     "data": {
      "text/plain": [
       "(2,)"
      ]
     },
     "execution_count": 25,
     "metadata": {},
     "output_type": "execute_result"
    }
   ],
   "source": [
    "angle = jax.random.uniform(key, shape=[1], minval=-np.pi, maxval=np.pi)\n",
    "direction = jnp.concatenate([jnp.cos(angle),jnp.sin(angle)])\n",
    "direction.shape\n"
   ]
  },
  {
   "cell_type": "code",
   "execution_count": null,
   "id": "3c4c87e3-0d94-45d3-a42f-71f3ac03237c",
   "metadata": {},
   "outputs": [],
   "source": []
  },
  {
   "cell_type": "code",
   "execution_count": 8,
   "id": "ddf55e55-f0a5-4b2e-9522-a1a8bc0b11a8",
   "metadata": {},
   "outputs": [],
   "source": [
    "state = my_env.reset(key)"
   ]
  },
  {
   "cell_type": "code",
   "execution_count": 18,
   "id": "a3920d33-10c7-4c3e-acae-6e500b7a384f",
   "metadata": {},
   "outputs": [],
   "source": [
    "info = state.info\n",
    "info[\"fitness\"] = 5"
   ]
  },
  {
   "cell_type": "code",
   "execution_count": 22,
   "id": "22e458fc-a96e-4632-b330-1fe6cdb35db8",
   "metadata": {},
   "outputs": [],
   "source": [
    "#state.replace(info=info)"
   ]
  },
  {
   "cell_type": "code",
   "execution_count": 11,
   "id": "93cbe433-b7d1-4638-8324-ce78bf88596f",
   "metadata": {},
   "outputs": [],
   "source": [
    "from brax.envs import wrappers\n",
    "my_env = wrappers.EpisodeWrapper(my_env, episode_length=1000, action_repeat=1)\n",
    "my_env = wrappers.VectorWrapper(my_env, batch_size=10) # for each iteration, we evaluate the children and the parent performance in parallel\n",
    "my_env = wrappers.AutoResetWrapper(my_env) # not sure if this is nessasary, we only look at the first episode\n",
    "my_env = wrappers.VectorGymWrapper(my_env) "
   ]
  },
  {
   "cell_type": "code",
   "execution_count": 13,
   "id": "df31ecb5-512c-4bca-bd50-56642d053ce1",
   "metadata": {},
   "outputs": [],
   "source": [
    "obs = my_env.reset()"
   ]
  },
  {
   "cell_type": "code",
   "execution_count": 18,
   "id": "dc4c3e80-b72f-4ddd-8429-06610f247020",
   "metadata": {},
   "outputs": [
    {
     "data": {
      "text/plain": [
       "dict_keys(['bd_final_pos', 'bd_foot_contacts', 'first_obs', 'first_qp', 'fitness_control_cost_and_survive', 'fitness_directional_distance', 'fitness_distance_walked', 'fitness_forward', 'steps', 'truncation'])"
      ]
     },
     "execution_count": 18,
     "metadata": {},
     "output_type": "execute_result"
    }
   ],
   "source": [
    "my_env._state.info.keys()"
   ]
  },
  {
   "cell_type": "code",
   "execution_count": null,
   "id": "b42f4476-c67a-4217-8435-8d5c757e77fc",
   "metadata": {},
   "outputs": [],
   "source": []
  },
  {
   "cell_type": "code",
   "execution_count": 40,
   "id": "eeb2dbef-eaa7-43b7-9e62-22c0f4e6248f",
   "metadata": {},
   "outputs": [],
   "source": [
    "class A:\n",
    "    @property\n",
    "    def action_space(self):\n",
    "        return 5\n",
    "    \n",
    "class B(A):\n",
    "    @property\n",
    "    def action_space(self):\n",
    "        return super().action_space+1"
   ]
  },
  {
   "cell_type": "code",
   "execution_count": 41,
   "id": "5633ae32-9722-4cfc-9376-8282d37e5411",
   "metadata": {},
   "outputs": [
    {
     "data": {
      "text/plain": [
       "5"
      ]
     },
     "execution_count": 41,
     "metadata": {},
     "output_type": "execute_result"
    }
   ],
   "source": [
    "a = A()\n",
    "a.action_space"
   ]
  },
  {
   "cell_type": "code",
   "execution_count": 42,
   "id": "45cc5da7-0548-4301-b5ef-afa6cd516b81",
   "metadata": {},
   "outputs": [
    {
     "data": {
      "text/plain": [
       "6"
      ]
     },
     "execution_count": 42,
     "metadata": {},
     "output_type": "execute_result"
    }
   ],
   "source": [
    "b = B()\n",
    "b.action_space"
   ]
  },
  {
   "cell_type": "code",
   "execution_count": 46,
   "id": "20a62ede-4ddf-4a04-b0c3-065618dc7f03",
   "metadata": {},
   "outputs": [
    {
     "data": {
      "text/plain": [
       "DeviceArray([[ 1,  0],\n",
       "             [ 1,  1],\n",
       "             [ 0,  1],\n",
       "             [-1,  1],\n",
       "             [-1,  0],\n",
       "             [-1, -1],\n",
       "             [ 0, -1],\n",
       "             [ 1, -1]], dtype=int32)"
      ]
     },
     "execution_count": 46,
     "metadata": {},
     "output_type": "execute_result"
    }
   ],
   "source": [
    "jnp.array([ [1,0],\n",
    "                                [1,1],\n",
    "                                [0,1],\n",
    "                                [-1,1],\n",
    "                                [-1,0],\n",
    "                                [-1,-1],\n",
    "                                [0,-1],\n",
    "                                [1,-1] ]) "
   ]
  },
  {
   "cell_type": "code",
   "execution_count": 48,
   "id": "32bcd531-de95-4b52-b568-a69f902e0047",
   "metadata": {},
   "outputs": [
    {
     "data": {
      "text/plain": [
       "3.141592653589793"
      ]
     },
     "execution_count": 48,
     "metadata": {},
     "output_type": "execute_result"
    }
   ],
   "source": [
    "import numpy as np\n",
    "np.pi"
   ]
  },
  {
   "cell_type": "code",
   "execution_count": 51,
   "id": "fcc78f14-9ef0-452d-8cbb-cb8a2347eb3a",
   "metadata": {},
   "outputs": [],
   "source": [
    "angle = jax.random.uniform(key, shape=[1], minval=-np.pi, maxval=np.pi)\n",
    "direction = jnp.array([jnp.cos(angle),jnp.sin(angle)])"
   ]
  },
  {
   "cell_type": "code",
   "execution_count": 57,
   "id": "66ba8795-b038-4c95-a5cc-3ff8319408ab",
   "metadata": {},
   "outputs": [
    {
     "data": {
      "text/plain": [
       "[0, 1, 2]"
      ]
     },
     "execution_count": 57,
     "metadata": {},
     "output_type": "execute_result"
    }
   ],
   "source": [
    "a = 3\n",
    "b = list(range(5))\n",
    "b[0:a]"
   ]
  },
  {
   "cell_type": "code",
   "execution_count": 58,
   "id": "b0e64f00-9dd8-4506-8a1e-2e6804b1ba16",
   "metadata": {},
   "outputs": [],
   "source": [
    "env = humanoid.Humanoid()"
   ]
  },
  {
   "cell_type": "code",
   "execution_count": 60,
   "id": "2af12688-7661-4097-b6b2-34a8147dbe98",
   "metadata": {},
   "outputs": [],
   "source": [
    "state = env.reset(key)"
   ]
  },
  {
   "cell_type": "code",
   "execution_count": 73,
   "id": "9606ac5f-6481-4b1b-9534-8e21a74c195e",
   "metadata": {},
   "outputs": [],
   "source": [
    "state = env.step(state,jax.random.normal(key,[env.action_size]))"
   ]
  },
  {
   "cell_type": "code",
   "execution_count": 74,
   "id": "9bfd2d77-c343-429c-a712-5c696fdf6212",
   "metadata": {},
   "outputs": [
    {
     "data": {
      "text/plain": [
       "{'reward_linvel': 0.0003550625329710997,\n",
       " 'reward_quadctrl': DeviceArray(0.09240411, dtype=float32),\n",
       " 'reward_alive': 5.0,\n",
       " 'reward_impact': 0.0}"
      ]
     },
     "execution_count": 74,
     "metadata": {},
     "output_type": "execute_result"
    }
   ],
   "source": [
    "state.metrics"
   ]
  },
  {
   "cell_type": "code",
   "execution_count": 64,
   "id": "c1938b6d-6b0c-47a0-82ba-3fd4d438efd5",
   "metadata": {},
   "outputs": [
    {
     "data": {
      "text/plain": [
       "17"
      ]
     },
     "execution_count": 64,
     "metadata": {},
     "output_type": "execute_result"
    }
   ],
   "source": []
  },
  {
   "cell_type": "code",
   "execution_count": 69,
   "id": "08d52edf-f514-480f-b43d-910b82fe0b64",
   "metadata": {},
   "outputs": [
    {
     "data": {
      "text/plain": [
       "DeviceArray([-1.1558233 ,  0.50814235, -0.58695835, -0.8900643 ,\n",
       "              0.04154558,  0.13478915, -0.8070986 ,  1.1654325 ,\n",
       "             -0.04823395, -1.3722824 , -0.05616152, -0.0096882 ,\n",
       "             -0.91943014, -0.15495552, -0.0483593 , -0.9986773 ,\n",
       "             -0.849832  ], dtype=float32)"
      ]
     },
     "execution_count": 69,
     "metadata": {},
     "output_type": "execute_result"
    }
   ],
   "source": []
  },
  {
   "cell_type": "code",
   "execution_count": 82,
   "id": "db105d71-98eb-40bd-a091-e2e927603e9d",
   "metadata": {},
   "outputs": [],
   "source": [
    "class A:\n",
    "    const_A = 10\n",
    "    def __init__(self):\n",
    "        self.a = self.const_A"
   ]
  },
  {
   "cell_type": "code",
   "execution_count": 83,
   "id": "79c6e098-64ee-4e7b-ab3d-8b2f032eee8d",
   "metadata": {},
   "outputs": [],
   "source": [
    "a = A()"
   ]
  },
  {
   "cell_type": "code",
   "execution_count": 85,
   "id": "d6093866-36a7-4ca3-9a0b-70fe685eeddf",
   "metadata": {},
   "outputs": [
    {
     "data": {
      "text/plain": [
       "10"
      ]
     },
     "execution_count": 85,
     "metadata": {},
     "output_type": "execute_result"
    }
   ],
   "source": [
    "a.a"
   ]
  },
  {
   "cell_type": "code",
   "execution_count": 59,
   "id": "c5e32643-03d0-4fc2-854a-e1dacaa99121",
   "metadata": {},
   "outputs": [],
   "source": [
    "from brax.envs import wrappers\n",
    "from es_map.my_brax_envs import brax_envs\n",
    "\n",
    "env = brax_envs.FelxibleAnt()\n",
    "\n",
    "env = wrappers.EpisodeWrapper(env, episode_length=1000, action_repeat=1)\n",
    "env = wrappers.VectorWrapper(env, batch_size=10) # for each iteration, we evaluate the children and the parent performance in parallel\n",
    "env = wrappers.AutoResetWrapper(env) # not sure if this is nessasary, we only look at the first episode\n",
    "env = wrappers.VectorGymWrapper(env) "
   ]
  },
  {
   "cell_type": "code",
   "execution_count": 60,
   "id": "2ca54d18-3ab8-4f24-88c0-ba8243be691b",
   "metadata": {},
   "outputs": [],
   "source": [
    "obs = env.reset()\n"
   ]
  },
  {
   "cell_type": "code",
   "execution_count": 66,
   "id": "21fae561-6d1d-48f9-863f-fcf97a6cf6fa",
   "metadata": {},
   "outputs": [
    {
     "data": {
      "text/plain": [
       "dict_keys(['bd_final_pos', 'bd_foot_contacts', 'contact_cum', 'first_obs', 'first_qp', 'fitness_control_cost_and_survive', 'fitness_directional_distance', 'fitness_distance_walked', 'fitness_forward', 'steps', 'truncation'])"
      ]
     },
     "execution_count": 66,
     "metadata": {},
     "output_type": "execute_result"
    }
   ],
   "source": [
    "env._state.info.keys()"
   ]
  },
  {
   "cell_type": "code",
   "execution_count": 63,
   "id": "8508d913-9dd2-4fc2-a286-9bd868a620d9",
   "metadata": {},
   "outputs": [
    {
     "data": {
      "text/plain": [
       "DeviceArray([[0., 0.],\n",
       "             [0., 0.],\n",
       "             [0., 0.],\n",
       "             [0., 0.],\n",
       "             [0., 0.],\n",
       "             [0., 0.],\n",
       "             [0., 0.],\n",
       "             [0., 0.],\n",
       "             [0., 0.],\n",
       "             [0., 0.]], dtype=float32)"
      ]
     },
     "execution_count": 63,
     "metadata": {},
     "output_type": "execute_result"
    }
   ],
   "source": [
    "env._state.info[\"bd_final_pos\"]\n"
   ]
  },
  {
   "cell_type": "code",
   "execution_count": 64,
   "id": "e732eb29-822c-41d1-a99c-9833506d3673",
   "metadata": {},
   "outputs": [
    {
     "data": {
      "text/plain": [
       "DeviceArray([[0., 0., 0., 0.],\n",
       "             [0., 0., 0., 0.],\n",
       "             [0., 0., 0., 0.],\n",
       "             [0., 0., 0., 0.],\n",
       "             [0., 0., 0., 0.],\n",
       "             [0., 0., 0., 0.],\n",
       "             [0., 0., 0., 0.],\n",
       "             [0., 0., 0., 0.],\n",
       "             [0., 0., 0., 0.],\n",
       "             [0., 0., 0., 0.]], dtype=float32)"
      ]
     },
     "execution_count": 64,
     "metadata": {},
     "output_type": "execute_result"
    }
   ],
   "source": [
    "env._state.info[\"bd_foot_contacts\"]"
   ]
  },
  {
   "cell_type": "code",
   "execution_count": 29,
   "id": "706f3a87-be96-472c-8472-abee23f024d6",
   "metadata": {},
   "outputs": [],
   "source": [
    "a = {\n",
    "    \"aa\" : np.ones(4),\n",
    "    \"bb\" : np.zeros(5),\n",
    "}\n",
    "np.save(\"test.npy\",a)"
   ]
  },
  {
   "cell_type": "code",
   "execution_count": 30,
   "id": "3169fdb1-b165-44ed-bc53-acd227972cc3",
   "metadata": {},
   "outputs": [],
   "source": [
    "b = np.load(\"test.npy\",allow_pickle=True)"
   ]
  },
  {
   "cell_type": "code",
   "execution_count": 52,
   "id": "4a7a0fe7-dbe8-4f89-b5eb-42de1419a887",
   "metadata": {},
   "outputs": [],
   "source": [
    "np.savez(\"test2.npy\",cc=a[\"aa\"],bb=a[\"bb\"])"
   ]
  },
  {
   "cell_type": "code",
   "execution_count": 53,
   "id": "e2b9a01b-a05a-40c8-b953-6372060a8b73",
   "metadata": {},
   "outputs": [],
   "source": [
    "b = np.load(\"test2.npy.npz\")"
   ]
  },
  {
   "cell_type": "code",
   "execution_count": 57,
   "id": "755480d3-191e-4f7d-a71a-224cacae9767",
   "metadata": {},
   "outputs": [
    {
     "data": {
      "text/plain": [
       "{'cc': array([1., 1., 1., 1.]), 'bb': array([0., 0., 0., 0., 0.])}"
      ]
     },
     "execution_count": 57,
     "metadata": {},
     "output_type": "execute_result"
    }
   ],
   "source": [
    "dict(b)"
   ]
  },
  {
   "cell_type": "code",
   "execution_count": 25,
   "id": "ad322fe0-9e71-4a94-a98e-4f889d1fca39",
   "metadata": {},
   "outputs": [
    {
     "ename": "TypeError",
     "evalue": "'aa' is an invalid keyword argument for print()",
     "output_type": "error",
     "traceback": [
      "\u001b[0;31m---------------------------------------------------------------------------\u001b[0m",
      "\u001b[0;31mTypeError\u001b[0m                                 Traceback (most recent call last)",
      "\u001b[0;32m<ipython-input-25-f56a092eef76>\u001b[0m in \u001b[0;36m<module>\u001b[0;34m\u001b[0m\n\u001b[0;32m----> 1\u001b[0;31m \u001b[0mprint\u001b[0m\u001b[0;34m(\u001b[0m\u001b[0;34m**\u001b[0m\u001b[0ma\u001b[0m\u001b[0;34m)\u001b[0m\u001b[0;34m\u001b[0m\u001b[0;34m\u001b[0m\u001b[0m\n\u001b[0m",
      "\u001b[0;31mTypeError\u001b[0m: 'aa' is an invalid keyword argument for print()"
     ]
    }
   ],
   "source": [
    "\n"
   ]
  },
  {
   "cell_type": "code",
   "execution_count": 49,
   "id": "57733ec5-ff7d-4ee6-8f30-eeeca7844619",
   "metadata": {},
   "outputs": [
    {
     "data": {
      "text/plain": [
       "'/home/userfs/a/ak1774/workspace/evolvability_map_elites/evolvability_map_elites'"
      ]
     },
     "execution_count": 49,
     "metadata": {},
     "output_type": "execute_result"
    }
   ],
   "source": [
    "import os\n",
    "os.getcwd()"
   ]
  },
  {
   "cell_type": "code",
   "execution_count": null,
   "id": "c753ba05-e515-4946-b037-46023a4882f3",
   "metadata": {},
   "outputs": [],
   "source": []
  }
 ],
 "metadata": {
  "kernelspec": {
   "display_name": "Python 3",
   "language": "python",
   "name": "python3"
  },
  "language_info": {
   "codemirror_mode": {
    "name": "ipython",
    "version": 3
   },
   "file_extension": ".py",
   "mimetype": "text/x-python",
   "name": "python",
   "nbconvert_exporter": "python",
   "pygments_lexer": "ipython3",
   "version": "3.8.10"
  }
 },
 "nbformat": 4,
 "nbformat_minor": 5
}
