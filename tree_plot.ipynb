{
 "cells": [
  {
   "cell_type": "code",
   "execution_count": 57,
   "id": "efb70e5f-9f8a-4f06-ba2a-d4c62d496934",
   "metadata": {},
   "outputs": [],
   "source": [
    "import pickle\n",
    "from ete3 import Tree\n",
    "from ete3 import TreeStyle\n",
    "import numpy as np\n",
    "import matplotlib.pyplot as plt"
   ]
  },
  {
   "cell_type": "code",
   "execution_count": 58,
   "id": "ad463bf6-0cb3-44ce-b457-1232872cbdfb",
   "metadata": {},
   "outputs": [],
   "source": [
    "import os\n",
    "os.environ['QT_QPA_PLATFORM']='offscreen'"
   ]
  },
  {
   "cell_type": "code",
   "execution_count": 59,
   "id": "5bbb1587-3981-42c3-879e-e560ad9378b3",
   "metadata": {},
   "outputs": [],
   "source": [
    "# 1k k run run-20220602_155806-k0px14jf\n",
    "# 1k run: run-20220602_155801-i8ftkrwq\n",
    "# \"run-20220608_222101-ey5rdpge\"\n",
    "with open(\"/scratch/ak1774/runs/large_files_jax/run-20220608_222101-ey5rdpge/lineage_data.pickle\", \"rb\") as input_file:\n",
    "    lineage_data = pickle.load(input_file)\n",
    "    "
   ]
  },
  {
   "cell_type": "code",
   "execution_count": 60,
   "id": "1eb8d377-8074-4c30-95c7-d7956a946fad",
   "metadata": {},
   "outputs": [
    {
     "data": {
      "text/plain": [
       "[{'ID': 1,\n",
       "  'parent_ID': 0,\n",
       "  'generation_created': 0,\n",
       "  'lineage_length_before_individual': 1},\n",
       " {'ID': 2,\n",
       "  'parent_ID': 1,\n",
       "  'generation_created': 1,\n",
       "  'lineage_length_before_individual': 2},\n",
       " {'ID': 3,\n",
       "  'parent_ID': 2,\n",
       "  'generation_created': 2,\n",
       "  'lineage_length_before_individual': 3}]"
      ]
     },
     "execution_count": 60,
     "metadata": {},
     "output_type": "execute_result"
    }
   ],
   "source": [
    "lineage_data[:3]"
   ]
  },
  {
   "cell_type": "code",
   "execution_count": 61,
   "id": "6608b56e-35ab-4d61-96ba-2cba16b13f66",
   "metadata": {},
   "outputs": [
    {
     "data": {
      "text/plain": [
       "5000"
      ]
     },
     "execution_count": 61,
     "metadata": {},
     "output_type": "execute_result"
    }
   ],
   "source": [
    "# we need to transform the lineage data to:\n",
    "# {parent_id : child_data_list}\n",
    "child_dict = {}\n",
    "ID_dict = {}\n",
    "for data in lineage_data:\n",
    "    parent_ID = data[\"parent_ID\"]\n",
    "    ID_dict[data[\"ID\"]] = data\n",
    "    if parent_ID in child_dict:\n",
    "        child_dict[parent_ID].append(data)\n",
    "    else:\n",
    "        child_dict[parent_ID] = [data]\n",
    "\n",
    "len(lineage_data)"
   ]
  },
  {
   "cell_type": "code",
   "execution_count": null,
   "id": "564b3a12-7926-4567-8e15-d4d05a638e25",
   "metadata": {},
   "outputs": [],
   "source": []
  },
  {
   "cell_type": "code",
   "execution_count": null,
   "id": "e56cc5ed-e9d5-4ce3-9d73-80e994bb6ade",
   "metadata": {},
   "outputs": [],
   "source": []
  },
  {
   "cell_type": "code",
   "execution_count": null,
   "id": "cece140a-e3b6-4419-ae75-7a663b84dce8",
   "metadata": {},
   "outputs": [],
   "source": [
    "def calculate_child_dict(lineage_data):\n",
    "    child_dict = {}\n",
    "    ID_dict = {}\n",
    "    for data in lineage_data:\n",
    "        parent_ID = data[\"parent_ID\"]\n",
    "        ID_dict[data[\"ID\"]] = data\n",
    "        if parent_ID in child_dict:\n",
    "            child_dict[parent_ID].append(data)\n",
    "        else:\n",
    "            child_dict[parent_ID] = [data]\n",
    "            \n",
    "    return child_dict\n",
    "\n",
    "def calculate_lineage_descriptors(lineage_data)\n",
    "    child_dict = calculate_child_dict(lineage_data)\n",
    "    \n",
    "    number_of_child = [len(children) for parent_id,children in child_dict.items()]\n",
    "    lineage_lengths = [data[\"lineage_length_before_individual\"] for data in lineage_data]\n",
    "    \n",
    "    return {\n",
    "        \"mean_num_child\" : \n",
    "    }\n",
    "    print(\"np.mean(number_of_child) \",np.mean(number_of_child))\n",
    "    print(\"np.max(number_of_child) \",np.max(number_of_child))\n",
    "\n",
    "    \n",
    "    print(\"np.mean(lineage_lengths) \",np.mean(lineage_lengths))\n",
    "    print(\"np.max(lineage_lengths) \",np.max(lineage_lengths))\n",
    "\n",
    "def calculate_lineage_descriptors_of_alive(alive_individuals):\n",
    "    "
   ]
  },
  {
   "cell_type": "code",
   "execution_count": 68,
   "id": "75eebbb1-ea8e-45e3-baab-1b46053b59d9",
   "metadata": {},
   "outputs": [
    {
     "name": "stdout",
     "output_type": "stream",
     "text": [
      "np.mean(number_of_child)  1.2330456226880395\n",
      "np.max(number_of_child)  23\n",
      "np.mean(lineage_lengths)  15.306\n",
      "np.max(lineage_lengths)  35\n"
     ]
    },
    {
     "data": {
      "image/png": "[encoded data removed]",
      "text/plain": [
       "<Figure size 432x288 with 1 Axes>"
      ]
     },
     "metadata": {
      "needs_background": "light"
     },
     "output_type": "display_data"
    },
    {
     "data": {
      "image/png": "[encoded data removed]",
      "text/plain": [
       "<Figure size 432x288 with 1 Axes>"
      ]
     },
     "metadata": {
      "needs_background": "light"
     },
     "output_type": "display_data"
    }
   ],
   "source": [
    "# things I want from lineage data\n",
    "# - average length of alive lineages \n",
    "# - max length of alive lineages\n",
    "# - max number of children\n",
    "# - number of parents\n",
    "\n",
    "# Plots to make:\n",
    "# - distribution of number of children\n",
    "# - distribution of lineage length\n",
    "# - distribution of lineage length of alive\n",
    "\n",
    "number_of_child = [len(children) for parent_id,children in child_dict.items()]\n",
    "print(\"np.mean(number_of_child) \",np.mean(number_of_child))\n",
    "print(\"np.max(number_of_child) \",np.max(number_of_child))\n",
    "\n",
    "lineage_lengths = [data[\"lineage_length_before_individual\"] for data in lineage_data]\n",
    "print(\"np.mean(lineage_lengths) \",np.mean(lineage_lengths))\n",
    "print(\"np.max(lineage_lengths) \",np.max(lineage_lengths))\n",
    "\n",
    "plt.hist(number_of_child,bins=20);\n",
    "plt.yscale('log')\n",
    "plt.show()\n",
    "\n",
    "plt.hist(lineage_lengths,bins=40)\n",
    "plt.show()\n"
   ]
  },
  {
   "cell_type": "code",
   "execution_count": 39,
   "id": "8acf9342-d1a3-43ff-ac4f-9b1d0ba80c5c",
   "metadata": {},
   "outputs": [
    {
     "data": {
      "text/plain": [
       "39"
      ]
     },
     "execution_count": 39,
     "metadata": {},
     "output_type": "execute_result"
    }
   ],
   "source": [
    "len(number_of_child)"
   ]
  },
  {
   "cell_type": "code",
   "execution_count": null,
   "id": "4945f5ef-4e9d-42c3-a6df-585f17a470a0",
   "metadata": {},
   "outputs": [],
   "source": []
  },
  {
   "cell_type": "code",
   "execution_count": null,
   "id": "fc965a1b-5228-44a7-a909-eca01c486309",
   "metadata": {},
   "outputs": [],
   "source": []
  },
  {
   "cell_type": "code",
   "execution_count": null,
   "id": "39f27a34-2fb0-47a2-af5d-f4f6bf096d0d",
   "metadata": {},
   "outputs": [],
   "source": []
  },
  {
   "cell_type": "code",
   "execution_count": 5,
   "id": "59b62d4c-823e-4130-a387-1def0a91ef08",
   "metadata": {},
   "outputs": [
    {
     "name": "stdout",
     "output_type": "stream",
     "text": [
      "\n",
      "   /-1\n",
      "  |\n",
      "--|--2\n",
      "  |\n",
      "  |   /-3\n",
      "   \\-|\n",
      "      \\-4\n"
     ]
    }
   ],
   "source": [
    "unrooted_tree = Tree( \"(1,2,(3,4));\" )\n",
    "print(unrooted_tree)"
   ]
  },
  {
   "cell_type": "code",
   "execution_count": 12,
   "id": "ac65c772-6cc5-4384-895a-80ae2a078eb4",
   "metadata": {},
   "outputs": [],
   "source": [
    "\n",
    "        \n"
   ]
  },
  {
   "cell_type": "code",
   "execution_count": 7,
   "id": "d47d7ed1-b7b9-44fb-a863-ca427f60460d",
   "metadata": {},
   "outputs": [
    {
     "data": {
      "text/plain": [
       "'((36,(81,82,83,84,85,121,122,123,124,125,331,332,333,334,335,366,367,368,369,370,511,512,513,514,515,641,642,643,644,645,666,667,668,669,670,716,717,718,719,720,851,852,853,854,855),(101,102,103,104,105,(531,532,533,534,535,721,722,723,724,725,856,857,858,859,860),132,133,134,135,156,157,158,159,160,206,207,208,209,210,(696,697,698,699,700,786,787,788,789,790),292,293,294,295,341,342,343,344,345,376,377,378,379,380,381,382,383,384,385,456,457,458,459,460,526,527,528,529,530,566,567,568,569,570,576,577,578,579,580,586,587,588,589,590,751,752,753,754,755,791,792,793,794,795,826,827,828,829,830,966,967,968,969,970,971,972,973,974,975),39,40),(16,17,18,19,20,26,27,28,29,30,31,32,33,34,35,(56,57,58,59,60,111,112,113,114,115,226,227,228,(506,507,508,509,510,911,912,913,914,915),230,421,422,423,424,425,446,447,448,449,450,671,672,673,674,675,676,677,678,679,680,741,742,743,744,745,816,817,818,819,820,821,822,823,824,825,906,907,908,909,910,951,952,953,954,955,981,982,983,984,985,991,992,993,994,995),42,43,(61,62,63,64,(106,107,108,109,110,(461,462,463,464,465,496,497,498,499,500,651,652,653,654,655,726,727,728,729,730,766,767,768,769,770),152,153,154,155,386,387,388,389,390,571,572,573,574,575,871,872,873,874,875),91,92,93,94,95,196,197,198,199,200,296,297,298,299,300,436,437,438,439,440,471,472,473,474,475,501,502,503,504,505,521,522,523,524,525,551,552,553,554,555,596,597,598,599,600,601,602,603,604,605,691,692,693,694,695,(916,917,918,919,920),902,903,904,905,921,922,923,924,925,941,942,943,944,945),(346,347,348,349,350,406,407,408,409,410,626,627,628,629,630,686,687,688,689,690,731,732,733,734,735,841,842,843,844,845,881,882,883,884,885,926,927,928,929,930,931,932,933,934,935),96,97,98,99,100,286,287,288,289,290,431,432,433,434,435,481,482,483,484,485,516,517,518,519,520,536,537,538,539,540,776,777,778,779,780,781,782,783,784,785,806,807,808,809,810,876,877,878,879,880,896,897,898,899,900,961,962,963,964,965),(6,7,8,9,10,11,12,((191,192,193,194,195,311,312,313,314,315,401,402,403,404,405,486,487,488,489,490,606,607,608,609,610,621,622,623,624,625,756,757,758,759,760,936,937,938,939,940,956,957,958,959,960),47,48,49,(71,72,73,74,75,116,117,118,119,120,391,392,393,394,395,466,467,468,469,470,476,477,478,479,480,491,492,493,494,495,846,847,848,849,850),166,167,168,169,170,211,212,213,214,215,221,222,223,224,225,231,232,233,234,235,241,242,243,244,245,321,322,323,324,325,371,372,373,374,375,396,397,398,399,400,411,412,413,414,415,441,442,443,444,445,541,542,543,544,545,616,617,618,619,620,646,647,648,649,650,771,772,773,774,775,996,997,998,999,1000),14,(21,22,23,(86,87,88,89,90,141,142,143,144,145,171,172,173,174,175,176,177,(561,562,563,564,565),179,180,181,182,183,184,185,201,202,203,204,205,216,217,218,219,220,246,247,248,249,250,316,317,318,319,320,326,327,328,329,330,416,417,418,419,420,451,452,453,454,455,581,582,583,584,585,681,682,683,684,685,701,702,703,704,705,736,737,738,739,740,796,797,798,799,800,801,802,803,804,805,866,867,868,869,870,891,892,893,894,895,946,947,948,949,950),25,51,52,53,54,55,76,77,78,79,80,236,237,238,239,240,256,257,258,259,260,276,277,278,279,280,361,362,363,364,365,426,427,428,429,430,546,547,548,549,550,556,557,558,559,560,591,592,593,594,595,656,657,658,659,660,706,707,708,709,710,811,812,813,814,815,831,832,833,834,835,836,837,838,839,840),66,67,68,69,70,126,127,128,129,(301,302,303,304,305,611,612,613,614,615,631,632,633,634,635,636,637,638,639,640,976,977,978,979,980),136,137,138,139,140,146,147,148,149,150,161,162,163,164,165,186,187,188,189,190,251,252,253,254,255,261,262,263,264,265,266,267,268,269,270,271,272,273,274,275,281,282,283,284,285,306,307,308,309,310,336,337,338,339,340,351,352,353,354,355,356,357,358,359,360,661,662,663,664,665,711,712,713,714,715,746,747,748,749,750,761,762,763,764,765,861,862,863,864,865,886,887,888,889,890,986,987,988,989,990),4,5);'"
      ]
     },
     "execution_count": 7,
     "metadata": {},
     "output_type": "execute_result"
    }
   ],
   "source": [
    "# create tree string, this is going to be a recursive function\n",
    "def create_node_string(node_id):\n",
    "    if node_id in child_dict:\n",
    "        # node have children\n",
    "        node_string = \"(\"\n",
    "        node_string += \",\".join([create_node_string(child[\"ID\"]) for child in child_dict[node_id]])\n",
    "        node_string += \")\"\n",
    "        return node_string\n",
    "    else:\n",
    "        # node does not have children, it is a leaf node\n",
    "        return str(ID_dict[node_id][\"ID\"])\n",
    "root_node_id = 0\n",
    "tree_string = create_node_string(root_node_id) + \";\"\n",
    "tree_string\n"
   ]
  },
  {
   "cell_type": "code",
   "execution_count": 8,
   "id": "2bf0fa33-198b-49e3-953a-d4328b5632c3",
   "metadata": {},
   "outputs": [],
   "source": [
    "my_tree = Tree( tree_string )\n"
   ]
  },
  {
   "cell_type": "code",
   "execution_count": 10,
   "id": "07e94f36-0fa9-45c1-a4e4-1bfa779090d0",
   "metadata": {},
   "outputs": [],
   "source": [
    "#my_tree.render(\"mytree.png\", w=183, units=\"mm\");"
   ]
  },
  {
   "cell_type": "code",
   "execution_count": null,
   "id": "93be7df2-4526-4886-9f1a-95b611f182be",
   "metadata": {},
   "outputs": [],
   "source": [
    "ts = TreeStyle()\n",
    "ts.show_leaf_name = True\n",
    "ts.mode = \"c\"\n",
    "ts.arc_start = -180 # 0 degrees = 3 o'clock\n",
    "ts.arc_span = 180\n",
    "my_tree.show(tree_style=ts)"
   ]
  },
  {
   "cell_type": "code",
   "execution_count": null,
   "id": "7b4b4613-d697-4413-9bd1-2dc2e5bb97e4",
   "metadata": {},
   "outputs": [],
   "source": []
  },
  {
   "cell_type": "code",
   "execution_count": null,
   "id": "fb3ae960-85e8-4ff9-9ede-f40f251a69f5",
   "metadata": {},
   "outputs": [],
   "source": []
  },
  {
   "cell_type": "code",
   "execution_count": null,
   "id": "8641209b-abf7-421e-a539-490c68151dd8",
   "metadata": {},
   "outputs": [],
   "source": []
  },
  {
   "cell_type": "code",
   "execution_count": null,
   "id": "8a5d1d07-ea8f-419d-95e0-4c2c9bb94c52",
   "metadata": {},
   "outputs": [],
   "source": []
  },
  {
   "cell_type": "code",
   "execution_count": null,
   "id": "c5b4538b-6cec-4163-9c54-1457aced9b48",
   "metadata": {},
   "outputs": [],
   "source": []
  }
 ],
 "metadata": {
  "kernelspec": {
   "display_name": "Python 3",
   "language": "python",
   "name": "python3"
  },
  "language_info": {
   "codemirror_mode": {
    "name": "ipython",
    "version": 3
   },
   "file_extension": ".py",
   "mimetype": "text/x-python",
   "name": "python",
   "nbconvert_exporter": "python",
   "pygments_lexer": "ipython3",
   "version": "3.8.10"
  }
 },
 "nbformat": 4,
 "nbformat_minor": 5
}
