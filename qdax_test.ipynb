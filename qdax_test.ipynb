{
 "cells": [
  {
   "cell_type": "code",
   "execution_count": 1,
   "metadata": {},
   "outputs": [
    {
     "name": "stdout",
     "output_type": "stream",
     "text": [
      "env: CUDA_VISIBLE_DEVICES=0\n"
     ]
    }
   ],
   "source": [
    "%env CUDA_VISIBLE_DEVICES=0\n",
    "from es_map import qdax_task\n",
    "\n",
    "import numpy as np\n",
    "import brax\n",
    "#from brax import jumpy as jp\n",
    "from brax.envs import env\n",
    "import jax.numpy as jnp\n",
    "import jax\n",
    "\n",
    "from brax.envs import wrappers\n"
   ]
  },
  {
   "cell_type": "code",
   "execution_count": 2,
   "metadata": {},
   "outputs": [],
   "source": [
    "from brax import jumpy as jp"
   ]
  },
  {
   "cell_type": "code",
   "execution_count": 3,
   "metadata": {},
   "outputs": [],
   "source": [
    "key = jax.random.PRNGKey(777)\n",
    "key_envs = jax.random.split(key, 1)"
   ]
  },
  {
   "cell_type": "code",
   "execution_count": 4,
   "metadata": {},
   "outputs": [
    {
     "data": {
      "text/plain": [
       "es_map.qdax_envs.unidirectional_envs.ant.QDUniAnt"
      ]
     },
     "execution_count": 4,
     "metadata": {},
     "output_type": "execute_result"
    }
   ],
   "source": [
    "from es_map.qdax_envs.unidirectional_envs import ant, walker, hopper, halfcheetah, humanoid\n",
    "ant.QDUniAnt"
   ]
  },
  {
   "cell_type": "code",
   "execution_count": null,
   "metadata": {},
   "outputs": [],
   "source": []
  },
  {
   "cell_type": "code",
   "execution_count": 5,
   "metadata": {},
   "outputs": [
    {
     "ename": "NameError",
     "evalue": "name 'envs' is not defined",
     "output_type": "error",
     "traceback": [
      "\u001b[0;31m---------------------------------------------------------------------------\u001b[0m",
      "\u001b[0;31mNameError\u001b[0m                                 Traceback (most recent call last)",
      "\u001b[0;32m<ipython-input-5-4fc87cf6bde4>\u001b[0m in \u001b[0;36m<module>\u001b[0;34m\u001b[0m\n\u001b[1;32m      1\u001b[0m \u001b[0menvironment\u001b[0m \u001b[0;34m=\u001b[0m \u001b[0;34m\"ant\"\u001b[0m  \u001b[0;31m# @param ['ant', 'halfcheetah', 'hopper', 'humanoid', 'reacher', 'walker2d', 'fetch', 'grasp', 'ur5e']\u001b[0m\u001b[0;34m\u001b[0m\u001b[0;34m\u001b[0m\u001b[0m\n\u001b[0;32m----> 2\u001b[0;31m \u001b[0menv\u001b[0m \u001b[0;34m=\u001b[0m \u001b[0menvs\u001b[0m\u001b[0;34m.\u001b[0m\u001b[0mcreate\u001b[0m\u001b[0;34m(\u001b[0m\u001b[0menv_name\u001b[0m\u001b[0;34m=\u001b[0m\u001b[0menvironment\u001b[0m\u001b[0;34m)\u001b[0m\u001b[0;34m\u001b[0m\u001b[0;34m\u001b[0m\u001b[0m\n\u001b[0m\u001b[1;32m      3\u001b[0m \u001b[0mstate\u001b[0m \u001b[0;34m=\u001b[0m \u001b[0menv\u001b[0m\u001b[0;34m.\u001b[0m\u001b[0mreset\u001b[0m\u001b[0;34m(\u001b[0m\u001b[0mrng\u001b[0m\u001b[0;34m=\u001b[0m\u001b[0mjp\u001b[0m\u001b[0;34m.\u001b[0m\u001b[0mrandom_prngkey\u001b[0m\u001b[0;34m(\u001b[0m\u001b[0mseed\u001b[0m\u001b[0;34m=\u001b[0m\u001b[0;36m0\u001b[0m\u001b[0;34m)\u001b[0m\u001b[0;34m)\u001b[0m\u001b[0;34m\u001b[0m\u001b[0;34m\u001b[0m\u001b[0m\n",
      "\u001b[0;31mNameError\u001b[0m: name 'envs' is not defined"
     ]
    }
   ],
   "source": [
    "environment = \"ant\"  # @param ['ant', 'halfcheetah', 'hopper', 'humanoid', 'reacher', 'walker2d', 'fetch', 'grasp', 'ur5e']\n",
    "env = envs.create(env_name=environment)\n",
    "state = env.reset(rng=jp.random_prngkey(seed=0))"
   ]
  },
  {
   "cell_type": "code",
   "execution_count": 20,
   "metadata": {},
   "outputs": [],
   "source": [
    "env = ant.QDUniAnt()"
   ]
  },
  {
   "cell_type": "code",
   "execution_count": 7,
   "metadata": {},
   "outputs": [],
   "source": [
    "state = env.reset(key)"
   ]
  },
  {
   "cell_type": "code",
   "execution_count": 10,
   "metadata": {},
   "outputs": [],
   "source": [
    "obs = env.reset()\n",
    "action = jnp.array(np.random.randn(*env.action_space.shape))\n",
    "obs,reward,done,info = env.step(action)\n"
   ]
  },
  {
   "cell_type": "code",
   "execution_count": 19,
   "metadata": {},
   "outputs": [
    {
     "data": {
      "text/plain": [
       "DeviceArray([[-5.3280688e-05,  1.0067961e-05],\n",
       "             [ 2.0433247e-02, -1.5636818e-02],\n",
       "             [ 1.5331312e-03,  2.6831359e-03],\n",
       "             ...,\n",
       "             [ 9.7237397e-03,  1.9296104e-02],\n",
       "             [ 6.5357529e-04, -1.6677615e-03],\n",
       "             [ 1.2993325e-02, -4.0642726e-03]], dtype=float32)"
      ]
     },
     "execution_count": 19,
     "metadata": {},
     "output_type": "execute_result"
    }
   ],
   "source": [
    "env._state.qp.pos[:,0,0:2]"
   ]
  },
  {
   "cell_type": "code",
   "execution_count": 25,
   "metadata": {},
   "outputs": [],
   "source": [
    "#env.reset()\n",
    "#env._state.info"
   ]
  },
  {
   "cell_type": "code",
   "execution_count": 37,
   "metadata": {},
   "outputs": [],
   "source": [
    "a = jax.random.normal(key,[8])\n",
    "\n",
    "def jax_es_create_population(parent_params,key,popsize,eval_batch_size,sigma):\n",
    "    \n",
    "    half_popsize = int(popsize/2)\n",
    "    if 2*half_popsize != popsize:\n",
    "        raise \"error, popsize must be divisible by 2\"\n",
    "    \n",
    "    # copy params to gpu, if not there already\n",
    "    parent_params = jnp.array(parent_params)\n",
    "    \n",
    "    perturbations = jax.random.normal(key,[half_popsize, parent_params.shape[0]])\n",
    "    \n",
    "    # mirrored sampling\n",
    "    perturbations = jnp.concatenate([perturbations, -1 * perturbations])\n",
    "    child_params = parent_params + sigma * perturbations\n",
    "    \n",
    "    parent_eval_params = jnp.repeat(parent_params.reshape(1,-1),eval_batch_size,axis=0)\n",
    "    all_params = jnp.concatenate([child_params,parent_eval_params],axis=0)\n",
    "\n",
    "    return all_params,perturbations\n",
    "\n",
    "all_params,perturbations = jax_es_create_population(a,key,popsize=4,eval_batch_size=2,sigma=1.0)"
   ]
  },
  {
   "cell_type": "code",
   "execution_count": 28,
   "metadata": {},
   "outputs": [
    {
     "data": {
      "text/plain": [
       "DeviceArray([[0, 1, 2, 3, 4, 5, 6, 7, 8, 9],\n",
       "             [0, 1, 2, 3, 4, 5, 6, 7, 8, 9],\n",
       "             [0, 1, 2, 3, 4, 5, 6, 7, 8, 9],\n",
       "             [0, 1, 2, 3, 4, 5, 6, 7, 8, 9]], dtype=int32)"
      ]
     },
     "execution_count": 28,
     "metadata": {},
     "output_type": "execute_result"
    }
   ],
   "source": [
    "a = jnp.array(np.arange(10)).reshape(1,-1)\n",
    "jnp.repeat(a,4,axis=0)"
   ]
  },
  {
   "cell_type": "code",
   "execution_count": 32,
   "metadata": {},
   "outputs": [],
   "source": [
    "#from brax.envs import ant"
   ]
  },
  {
   "cell_type": "code",
   "execution_count": 20,
   "metadata": {},
   "outputs": [],
   "source": [
    "action_space = env.action_space"
   ]
  },
  {
   "cell_type": "code",
   "execution_count": 27,
   "metadata": {},
   "outputs": [],
   "source": [
    "orig_env  = ant.QDUniAnt()"
   ]
  },
  {
   "cell_type": "code",
   "execution_count": 54,
   "metadata": {},
   "outputs": [
    {
     "data": {
      "text/plain": [
       "VectorGymWrapper(10)"
      ]
     },
     "execution_count": 54,
     "metadata": {},
     "output_type": "execute_result"
    }
   ],
   "source": [
    "batch_size = 10\n",
    "\n",
    "env = ant.QDUniAnt()\n",
    "env = wrappers.EpisodeWrapper(env, episode_length=1000, action_repeat=1)\n",
    "env = wrappers.VectorWrapper(env, batch_size=batch_size)\n",
    "env = wrappers.AutoResetWrapper(env)\n",
    "env = wrappers.VectorGymWrapper(env)\n",
    "env\n"
   ]
  },
  {
   "cell_type": "code",
   "execution_count": 57,
   "metadata": {},
   "outputs": [
    {
     "data": {
      "text/plain": [
       "<brax.envs.wrappers.AutoResetWrapper at 0x7f6c242f2730>"
      ]
     },
     "execution_count": 57,
     "metadata": {},
     "output_type": "execute_result"
    }
   ],
   "source": [
    "env._env"
   ]
  },
  {
   "cell_type": "code",
   "execution_count": 29,
   "metadata": {},
   "outputs": [],
   "source": [
    "obs = env.reset()\n",
    "action = jnp.array(np.random.randn(*env.action_space.shape))\n",
    "obs,reward,done,info = env.step(action)"
   ]
  },
  {
   "cell_type": "code",
   "execution_count": null,
   "metadata": {},
   "outputs": [],
   "source": [
    "env._state.qp.pos[:,0]"
   ]
  },
  {
   "cell_type": "code",
   "execution_count": 62,
   "metadata": {},
   "outputs": [
    {
     "ename": "AttributeError",
     "evalue": "'QDUniAnt' object has no attribute 'config'",
     "output_type": "error",
     "traceback": [
      "\u001b[0;31m---------------------------------------------------------------------------\u001b[0m",
      "\u001b[0;31mAttributeError\u001b[0m                            Traceback (most recent call last)",
      "\u001b[0;32m<ipython-input-62-136249cbd202>\u001b[0m in \u001b[0;36m<module>\u001b[0;34m\u001b[0m\n\u001b[1;32m      1\u001b[0m \u001b[0;32mfrom\u001b[0m \u001b[0mIPython\u001b[0m\u001b[0;34m.\u001b[0m\u001b[0mdisplay\u001b[0m \u001b[0;32mimport\u001b[0m \u001b[0mHTML\u001b[0m\u001b[0;34m,\u001b[0m \u001b[0mclear_output\u001b[0m\u001b[0;34m\u001b[0m\u001b[0;34m\u001b[0m\u001b[0m\n\u001b[1;32m      2\u001b[0m \u001b[0;32mfrom\u001b[0m \u001b[0mbrax\u001b[0m\u001b[0;34m.\u001b[0m\u001b[0mio\u001b[0m \u001b[0;32mimport\u001b[0m \u001b[0mhtml\u001b[0m\u001b[0;34m\u001b[0m\u001b[0;34m\u001b[0m\u001b[0m\n\u001b[0;32m----> 3\u001b[0;31m \u001b[0mHTML\u001b[0m\u001b[0;34m(\u001b[0m\u001b[0mhtml\u001b[0m\u001b[0;34m.\u001b[0m\u001b[0mrender\u001b[0m\u001b[0;34m(\u001b[0m\u001b[0morig_env\u001b[0m\u001b[0;34m.\u001b[0m\u001b[0munwrapped\u001b[0m\u001b[0;34m,\u001b[0m \u001b[0;34m[\u001b[0m\u001b[0msingle_state\u001b[0m\u001b[0;34m.\u001b[0m\u001b[0mqp\u001b[0m\u001b[0;34m]\u001b[0m\u001b[0;34m)\u001b[0m\u001b[0;34m)\u001b[0m\u001b[0;34m\u001b[0m\u001b[0;34m\u001b[0m\u001b[0m\n\u001b[0m",
      "\u001b[0;32m/scratch/ak1774/vargpu_env/lib/python3.8/site-packages/brax/io/html.py\u001b[0m in \u001b[0;36mrender\u001b[0;34m(sys, qps, height)\u001b[0m\n\u001b[1;32m     43\u001b[0m     \u001b[0;32mraise\u001b[0m \u001b[0mRuntimeError\u001b[0m\u001b[0;34m(\u001b[0m\u001b[0;34m'unexpected shape in qp.'\u001b[0m\u001b[0;34m)\u001b[0m\u001b[0;34m\u001b[0m\u001b[0;34m\u001b[0m\u001b[0m\n\u001b[1;32m     44\u001b[0m   d = {\n\u001b[0;32m---> 45\u001b[0;31m       \u001b[0;34m'config'\u001b[0m\u001b[0;34m:\u001b[0m \u001b[0mjson_format\u001b[0m\u001b[0;34m.\u001b[0m\u001b[0mMessageToDict\u001b[0m\u001b[0;34m(\u001b[0m\u001b[0msys\u001b[0m\u001b[0;34m.\u001b[0m\u001b[0mconfig\u001b[0m\u001b[0;34m,\u001b[0m \u001b[0;32mTrue\u001b[0m\u001b[0;34m)\u001b[0m\u001b[0;34m,\u001b[0m\u001b[0;34m\u001b[0m\u001b[0;34m\u001b[0m\u001b[0m\n\u001b[0m\u001b[1;32m     46\u001b[0m       \u001b[0;34m'pos'\u001b[0m\u001b[0;34m:\u001b[0m \u001b[0;34m[\u001b[0m\u001b[0mqp\u001b[0m\u001b[0;34m.\u001b[0m\u001b[0mpos\u001b[0m \u001b[0;32mfor\u001b[0m \u001b[0mqp\u001b[0m \u001b[0;32min\u001b[0m \u001b[0mqps\u001b[0m\u001b[0;34m]\u001b[0m\u001b[0;34m,\u001b[0m\u001b[0;34m\u001b[0m\u001b[0;34m\u001b[0m\u001b[0m\n\u001b[1;32m     47\u001b[0m       \u001b[0;34m'rot'\u001b[0m\u001b[0;34m:\u001b[0m \u001b[0;34m[\u001b[0m\u001b[0mqp\u001b[0m\u001b[0;34m.\u001b[0m\u001b[0mrot\u001b[0m \u001b[0;32mfor\u001b[0m \u001b[0mqp\u001b[0m \u001b[0;32min\u001b[0m \u001b[0mqps\u001b[0m\u001b[0;34m]\u001b[0m\u001b[0;34m,\u001b[0m\u001b[0;34m\u001b[0m\u001b[0;34m\u001b[0m\u001b[0m\n",
      "\u001b[0;31mAttributeError\u001b[0m: 'QDUniAnt' object has no attribute 'config'"
     ]
    }
   ],
   "source": [
    "from IPython.display import HTML, clear_output\n",
    "from brax.io import html\n",
    "HTML(html.render(orig_env.unwrapped, [single_state.qp]))"
   ]
  },
  {
   "cell_type": "code",
   "execution_count": 32,
   "metadata": {},
   "outputs": [
    {
     "data": {
      "text/plain": [
       "(10, 10, 3)"
      ]
     },
     "execution_count": 32,
     "metadata": {},
     "output_type": "execute_result"
    }
   ],
   "source": [
    "single_env_qp = "
   ]
  },
  {
   "cell_type": "code",
   "execution_count": 73,
   "metadata": {},
   "outputs": [
    {
     "name": "stdout",
     "output_type": "stream",
     "text": [
      "0\n"
     ]
    },
    {
     "ename": "TypeError",
     "evalue": "__call__() takes 2 positional arguments but 3 were given",
     "output_type": "error",
     "traceback": [
      "\u001b[0;31m---------------------------------------------------------------------------\u001b[0m",
      "\u001b[0;31mUnfilteredStackTrace\u001b[0m                      Traceback (most recent call last)",
      "\u001b[0;32m<ipython-input-73-c25704051822>\u001b[0m in \u001b[0;36m<module>\u001b[0;34m\u001b[0m\n\u001b[1;32m     31\u001b[0m     \u001b[0mact_rng\u001b[0m\u001b[0;34m,\u001b[0m \u001b[0mrng\u001b[0m \u001b[0;34m=\u001b[0m \u001b[0mjax\u001b[0m\u001b[0;34m.\u001b[0m\u001b[0mrandom\u001b[0m\u001b[0;34m.\u001b[0m\u001b[0msplit\u001b[0m\u001b[0;34m(\u001b[0m\u001b[0mrng\u001b[0m\u001b[0;34m)\u001b[0m\u001b[0;34m\u001b[0m\u001b[0;34m\u001b[0m\u001b[0m\n\u001b[0;32m---> 32\u001b[0;31m     \u001b[0mact\u001b[0m \u001b[0;34m=\u001b[0m \u001b[0mjit_inference_fn\u001b[0m\u001b[0;34m(\u001b[0m\u001b[0mparams\u001b[0m\u001b[0;34m,\u001b[0m \u001b[0mstate\u001b[0m\u001b[0;34m.\u001b[0m\u001b[0mobs\u001b[0m\u001b[0;34m,\u001b[0m \u001b[0mact_rng\u001b[0m\u001b[0;34m)\u001b[0m\u001b[0;34m\u001b[0m\u001b[0;34m\u001b[0m\u001b[0m\n\u001b[0m\u001b[1;32m     33\u001b[0m     \u001b[0mstate\u001b[0m \u001b[0;34m=\u001b[0m \u001b[0mjit_env_step\u001b[0m\u001b[0;34m(\u001b[0m\u001b[0mstate\u001b[0m\u001b[0;34m,\u001b[0m \u001b[0mact\u001b[0m\u001b[0;34m)\u001b[0m\u001b[0;34m\u001b[0m\u001b[0;34m\u001b[0m\u001b[0m\n",
      "\u001b[0;32m/scratch/ak1774/vargpu_env/lib/python3.8/site-packages/jax/_src/traceback_util.py\u001b[0m in \u001b[0;36mreraise_with_filtered_traceback\u001b[0;34m(*args, **kwargs)\u001b[0m\n\u001b[1;32m    164\u001b[0m     \u001b[0;32mtry\u001b[0m\u001b[0;34m:\u001b[0m\u001b[0;34m\u001b[0m\u001b[0;34m\u001b[0m\u001b[0m\n\u001b[0;32m--> 165\u001b[0;31m       \u001b[0;32mreturn\u001b[0m \u001b[0mfun\u001b[0m\u001b[0;34m(\u001b[0m\u001b[0;34m*\u001b[0m\u001b[0margs\u001b[0m\u001b[0;34m,\u001b[0m \u001b[0;34m**\u001b[0m\u001b[0mkwargs\u001b[0m\u001b[0;34m)\u001b[0m\u001b[0;34m\u001b[0m\u001b[0;34m\u001b[0m\u001b[0m\n\u001b[0m\u001b[1;32m    166\u001b[0m     \u001b[0;32mexcept\u001b[0m \u001b[0mException\u001b[0m \u001b[0;32mas\u001b[0m \u001b[0me\u001b[0m\u001b[0;34m:\u001b[0m\u001b[0;34m\u001b[0m\u001b[0;34m\u001b[0m\u001b[0m\n",
      "\u001b[0;32m/scratch/ak1774/vargpu_env/lib/python3.8/site-packages/jax/_src/api.py\u001b[0m in \u001b[0;36mcache_miss\u001b[0;34m(*args, **kwargs)\u001b[0m\n\u001b[1;32m    428\u001b[0m     \u001b[0mflat_fun\u001b[0m\u001b[0;34m,\u001b[0m \u001b[0mout_tree\u001b[0m \u001b[0;34m=\u001b[0m \u001b[0mflatten_fun\u001b[0m\u001b[0;34m(\u001b[0m\u001b[0mclosed_fun\u001b[0m\u001b[0;34m,\u001b[0m \u001b[0min_tree\u001b[0m\u001b[0;34m)\u001b[0m\u001b[0;34m\u001b[0m\u001b[0;34m\u001b[0m\u001b[0m\n\u001b[0;32m--> 429\u001b[0;31m     out_flat = xla.xla_call(\n\u001b[0m\u001b[1;32m    430\u001b[0m         \u001b[0mflat_fun\u001b[0m\u001b[0;34m,\u001b[0m \u001b[0;34m*\u001b[0m\u001b[0margs_flat\u001b[0m\u001b[0;34m,\u001b[0m\u001b[0;34m\u001b[0m\u001b[0;34m\u001b[0m\u001b[0m\n",
      "\u001b[0;32m/scratch/ak1774/vargpu_env/lib/python3.8/site-packages/jax/core.py\u001b[0m in \u001b[0;36mbind\u001b[0;34m(self, fun, *args, **params)\u001b[0m\n\u001b[1;32m   1682\u001b[0m   \u001b[0;32mdef\u001b[0m \u001b[0mbind\u001b[0m\u001b[0;34m(\u001b[0m\u001b[0mself\u001b[0m\u001b[0;34m,\u001b[0m \u001b[0mfun\u001b[0m\u001b[0;34m,\u001b[0m \u001b[0;34m*\u001b[0m\u001b[0margs\u001b[0m\u001b[0;34m,\u001b[0m \u001b[0;34m**\u001b[0m\u001b[0mparams\u001b[0m\u001b[0;34m)\u001b[0m\u001b[0;34m:\u001b[0m\u001b[0;34m\u001b[0m\u001b[0;34m\u001b[0m\u001b[0m\n\u001b[0;32m-> 1683\u001b[0;31m     \u001b[0;32mreturn\u001b[0m \u001b[0mcall_bind\u001b[0m\u001b[0;34m(\u001b[0m\u001b[0mself\u001b[0m\u001b[0;34m,\u001b[0m \u001b[0mfun\u001b[0m\u001b[0;34m,\u001b[0m \u001b[0;34m*\u001b[0m\u001b[0margs\u001b[0m\u001b[0;34m,\u001b[0m \u001b[0;34m**\u001b[0m\u001b[0mparams\u001b[0m\u001b[0;34m)\u001b[0m\u001b[0;34m\u001b[0m\u001b[0;34m\u001b[0m\u001b[0m\n\u001b[0m\u001b[1;32m   1684\u001b[0m \u001b[0;34m\u001b[0m\u001b[0m\n",
      "\u001b[0;32m/scratch/ak1774/vargpu_env/lib/python3.8/site-packages/jax/core.py\u001b[0m in \u001b[0;36mcall_bind\u001b[0;34m(primitive, fun, *args, **params)\u001b[0m\n\u001b[1;32m   1694\u001b[0m   \u001b[0mtracers\u001b[0m \u001b[0;34m=\u001b[0m \u001b[0mmap\u001b[0m\u001b[0;34m(\u001b[0m\u001b[0mtop_trace\u001b[0m\u001b[0;34m.\u001b[0m\u001b[0mfull_raise\u001b[0m\u001b[0;34m,\u001b[0m \u001b[0margs\u001b[0m\u001b[0;34m)\u001b[0m\u001b[0;34m\u001b[0m\u001b[0;34m\u001b[0m\u001b[0m\n\u001b[0;32m-> 1695\u001b[0;31m   \u001b[0mouts\u001b[0m \u001b[0;34m=\u001b[0m \u001b[0mtop_trace\u001b[0m\u001b[0;34m.\u001b[0m\u001b[0mprocess_call\u001b[0m\u001b[0;34m(\u001b[0m\u001b[0mprimitive\u001b[0m\u001b[0;34m,\u001b[0m \u001b[0mfun\u001b[0m\u001b[0;34m,\u001b[0m \u001b[0mtracers\u001b[0m\u001b[0;34m,\u001b[0m \u001b[0mparams\u001b[0m\u001b[0;34m)\u001b[0m\u001b[0;34m\u001b[0m\u001b[0;34m\u001b[0m\u001b[0m\n\u001b[0m\u001b[1;32m   1696\u001b[0m   \u001b[0;32mreturn\u001b[0m \u001b[0mmap\u001b[0m\u001b[0;34m(\u001b[0m\u001b[0mfull_lower\u001b[0m\u001b[0;34m,\u001b[0m \u001b[0mapply_todos\u001b[0m\u001b[0;34m(\u001b[0m\u001b[0menv_trace_todo\u001b[0m\u001b[0;34m(\u001b[0m\u001b[0;34m)\u001b[0m\u001b[0;34m,\u001b[0m \u001b[0mouts\u001b[0m\u001b[0;34m)\u001b[0m\u001b[0;34m)\u001b[0m\u001b[0;34m\u001b[0m\u001b[0;34m\u001b[0m\u001b[0m\n",
      "\u001b[0;32m/scratch/ak1774/vargpu_env/lib/python3.8/site-packages/jax/core.py\u001b[0m in \u001b[0;36mprocess_call\u001b[0;34m(self, primitive, f, tracers, params)\u001b[0m\n\u001b[1;32m    593\u001b[0m   \u001b[0;32mdef\u001b[0m \u001b[0mprocess_call\u001b[0m\u001b[0;34m(\u001b[0m\u001b[0mself\u001b[0m\u001b[0;34m,\u001b[0m \u001b[0mprimitive\u001b[0m\u001b[0;34m,\u001b[0m \u001b[0mf\u001b[0m\u001b[0;34m,\u001b[0m \u001b[0mtracers\u001b[0m\u001b[0;34m,\u001b[0m \u001b[0mparams\u001b[0m\u001b[0;34m)\u001b[0m\u001b[0;34m:\u001b[0m\u001b[0;34m\u001b[0m\u001b[0;34m\u001b[0m\u001b[0m\n\u001b[0;32m--> 594\u001b[0;31m     \u001b[0;32mreturn\u001b[0m \u001b[0mprimitive\u001b[0m\u001b[0;34m.\u001b[0m\u001b[0mimpl\u001b[0m\u001b[0;34m(\u001b[0m\u001b[0mf\u001b[0m\u001b[0;34m,\u001b[0m \u001b[0;34m*\u001b[0m\u001b[0mtracers\u001b[0m\u001b[0;34m,\u001b[0m \u001b[0;34m**\u001b[0m\u001b[0mparams\u001b[0m\u001b[0;34m)\u001b[0m\u001b[0;34m\u001b[0m\u001b[0;34m\u001b[0m\u001b[0m\n\u001b[0m\u001b[1;32m    595\u001b[0m   \u001b[0mprocess_map\u001b[0m \u001b[0;34m=\u001b[0m \u001b[0mprocess_call\u001b[0m\u001b[0;34m\u001b[0m\u001b[0;34m\u001b[0m\u001b[0m\n",
      "\u001b[0;32m/scratch/ak1774/vargpu_env/lib/python3.8/site-packages/jax/_src/dispatch.py\u001b[0m in \u001b[0;36m_xla_call_impl\u001b[0;34m(***failed resolving arguments***)\u001b[0m\n\u001b[1;32m    141\u001b[0m   \u001b[0;32mdel\u001b[0m \u001b[0minline\u001b[0m  \u001b[0;31m# Only used at tracing time\u001b[0m\u001b[0;34m\u001b[0m\u001b[0;34m\u001b[0m\u001b[0m\n\u001b[0;32m--> 142\u001b[0;31m   compiled_fun = _xla_callable(fun, device, backend, name, donated_invars,\n\u001b[0m\u001b[1;32m    143\u001b[0m                                *unsafe_map(arg_spec, args))\n",
      "\u001b[0;32m/scratch/ak1774/vargpu_env/lib/python3.8/site-packages/jax/linear_util.py\u001b[0m in \u001b[0;36mmemoized_fun\u001b[0;34m(fun, *args)\u001b[0m\n\u001b[1;32m    271\u001b[0m     \u001b[0;32melse\u001b[0m\u001b[0;34m:\u001b[0m\u001b[0;34m\u001b[0m\u001b[0;34m\u001b[0m\u001b[0m\n\u001b[0;32m--> 272\u001b[0;31m       \u001b[0mans\u001b[0m \u001b[0;34m=\u001b[0m \u001b[0mcall\u001b[0m\u001b[0;34m(\u001b[0m\u001b[0mfun\u001b[0m\u001b[0;34m,\u001b[0m \u001b[0;34m*\u001b[0m\u001b[0margs\u001b[0m\u001b[0;34m)\u001b[0m\u001b[0;34m\u001b[0m\u001b[0;34m\u001b[0m\u001b[0m\n\u001b[0m\u001b[1;32m    273\u001b[0m       \u001b[0mcache\u001b[0m\u001b[0;34m[\u001b[0m\u001b[0mkey\u001b[0m\u001b[0;34m]\u001b[0m \u001b[0;34m=\u001b[0m \u001b[0;34m(\u001b[0m\u001b[0mans\u001b[0m\u001b[0;34m,\u001b[0m \u001b[0mfun\u001b[0m\u001b[0;34m.\u001b[0m\u001b[0mstores\u001b[0m\u001b[0;34m)\u001b[0m\u001b[0;34m\u001b[0m\u001b[0;34m\u001b[0m\u001b[0m\n",
      "\u001b[0;32m/scratch/ak1774/vargpu_env/lib/python3.8/site-packages/jax/_src/dispatch.py\u001b[0m in \u001b[0;36m_xla_callable_uncached\u001b[0;34m(fun, device, backend, name, donated_invars, *arg_specs)\u001b[0m\n\u001b[1;32m    168\u001b[0m                            donated_invars, *arg_specs):\n\u001b[0;32m--> 169\u001b[0;31m   return lower_xla_callable(fun, device, backend, name, donated_invars,\n\u001b[0m\u001b[1;32m    170\u001b[0m                             *arg_specs).compile().unsafe_call\n",
      "\u001b[0;32m/scratch/ak1774/vargpu_env/lib/python3.8/site-packages/jax/_src/profiler.py\u001b[0m in \u001b[0;36mwrapper\u001b[0;34m(*args, **kwargs)\u001b[0m\n\u001b[1;32m    205\u001b[0m     \u001b[0;32mwith\u001b[0m \u001b[0mTraceAnnotation\u001b[0m\u001b[0;34m(\u001b[0m\u001b[0mname\u001b[0m\u001b[0;34m,\u001b[0m \u001b[0;34m**\u001b[0m\u001b[0mdecorator_kwargs\u001b[0m\u001b[0;34m)\u001b[0m\u001b[0;34m:\u001b[0m\u001b[0;34m\u001b[0m\u001b[0;34m\u001b[0m\u001b[0m\n\u001b[0;32m--> 206\u001b[0;31m       \u001b[0;32mreturn\u001b[0m \u001b[0mfunc\u001b[0m\u001b[0;34m(\u001b[0m\u001b[0;34m*\u001b[0m\u001b[0margs\u001b[0m\u001b[0;34m,\u001b[0m \u001b[0;34m**\u001b[0m\u001b[0mkwargs\u001b[0m\u001b[0;34m)\u001b[0m\u001b[0;34m\u001b[0m\u001b[0;34m\u001b[0m\u001b[0m\n\u001b[0m\u001b[1;32m    207\u001b[0m     \u001b[0;32mreturn\u001b[0m \u001b[0mwrapper\u001b[0m\u001b[0;34m\u001b[0m\u001b[0;34m\u001b[0m\u001b[0m\n",
      "\u001b[0;32m/scratch/ak1774/vargpu_env/lib/python3.8/site-packages/jax/_src/dispatch.py\u001b[0m in \u001b[0;36mlower_xla_callable\u001b[0;34m(fun, device, backend, name, donated_invars, *arg_specs)\u001b[0m\n\u001b[1;32m    196\u001b[0m                         \"for jit in {elapsed_time} sec\"):\n\u001b[0;32m--> 197\u001b[0;31m     jaxpr, out_avals, consts = pe.trace_to_jaxpr_final(\n\u001b[0m\u001b[1;32m    198\u001b[0m         fun, abstract_args, pe.debug_info_final(fun, \"jit\"))\n",
      "\u001b[0;32m/scratch/ak1774/vargpu_env/lib/python3.8/site-packages/jax/_src/profiler.py\u001b[0m in \u001b[0;36mwrapper\u001b[0;34m(*args, **kwargs)\u001b[0m\n\u001b[1;32m    205\u001b[0m     \u001b[0;32mwith\u001b[0m \u001b[0mTraceAnnotation\u001b[0m\u001b[0;34m(\u001b[0m\u001b[0mname\u001b[0m\u001b[0;34m,\u001b[0m \u001b[0;34m**\u001b[0m\u001b[0mdecorator_kwargs\u001b[0m\u001b[0;34m)\u001b[0m\u001b[0;34m:\u001b[0m\u001b[0;34m\u001b[0m\u001b[0;34m\u001b[0m\u001b[0m\n\u001b[0;32m--> 206\u001b[0;31m       \u001b[0;32mreturn\u001b[0m \u001b[0mfunc\u001b[0m\u001b[0;34m(\u001b[0m\u001b[0;34m*\u001b[0m\u001b[0margs\u001b[0m\u001b[0;34m,\u001b[0m \u001b[0;34m**\u001b[0m\u001b[0mkwargs\u001b[0m\u001b[0;34m)\u001b[0m\u001b[0;34m\u001b[0m\u001b[0;34m\u001b[0m\u001b[0m\n\u001b[0m\u001b[1;32m    207\u001b[0m     \u001b[0;32mreturn\u001b[0m \u001b[0mwrapper\u001b[0m\u001b[0;34m\u001b[0m\u001b[0;34m\u001b[0m\u001b[0m\n",
      "\u001b[0;32m/scratch/ak1774/vargpu_env/lib/python3.8/site-packages/jax/interpreters/partial_eval.py\u001b[0m in \u001b[0;36mtrace_to_jaxpr_final\u001b[0;34m(fun, in_avals, debug_info)\u001b[0m\n\u001b[1;32m   1679\u001b[0m     \u001b[0;32mwith\u001b[0m \u001b[0mcore\u001b[0m\u001b[0;34m.\u001b[0m\u001b[0mnew_sublevel\u001b[0m\u001b[0;34m(\u001b[0m\u001b[0;34m)\u001b[0m\u001b[0;34m:\u001b[0m\u001b[0;34m\u001b[0m\u001b[0;34m\u001b[0m\u001b[0m\n\u001b[0;32m-> 1680\u001b[0;31m       \u001b[0mjaxpr\u001b[0m\u001b[0;34m,\u001b[0m \u001b[0mout_avals\u001b[0m\u001b[0;34m,\u001b[0m \u001b[0mconsts\u001b[0m \u001b[0;34m=\u001b[0m \u001b[0mtrace_to_subjaxpr_dynamic\u001b[0m\u001b[0;34m(\u001b[0m\u001b[0mfun\u001b[0m\u001b[0;34m,\u001b[0m \u001b[0mmain\u001b[0m\u001b[0;34m,\u001b[0m \u001b[0min_avals\u001b[0m\u001b[0;34m)\u001b[0m\u001b[0;34m\u001b[0m\u001b[0;34m\u001b[0m\u001b[0m\n\u001b[0m\u001b[1;32m   1681\u001b[0m     \u001b[0;32mdel\u001b[0m \u001b[0mfun\u001b[0m\u001b[0;34m,\u001b[0m \u001b[0mmain\u001b[0m\u001b[0;34m\u001b[0m\u001b[0;34m\u001b[0m\u001b[0m\n",
      "\u001b[0;32m/scratch/ak1774/vargpu_env/lib/python3.8/site-packages/jax/interpreters/partial_eval.py\u001b[0m in \u001b[0;36mtrace_to_subjaxpr_dynamic\u001b[0;34m(fun, main, in_avals, keep_inputs)\u001b[0m\n\u001b[1;32m   1656\u001b[0m     \u001b[0min_tracers_\u001b[0m \u001b[0;34m=\u001b[0m \u001b[0;34m[\u001b[0m\u001b[0mt\u001b[0m \u001b[0;32mfor\u001b[0m \u001b[0mt\u001b[0m\u001b[0;34m,\u001b[0m \u001b[0mkeep\u001b[0m \u001b[0;32min\u001b[0m \u001b[0mzip\u001b[0m\u001b[0;34m(\u001b[0m\u001b[0min_tracers\u001b[0m\u001b[0;34m,\u001b[0m \u001b[0mkeep_inputs\u001b[0m\u001b[0;34m)\u001b[0m \u001b[0;32mif\u001b[0m \u001b[0mkeep\u001b[0m\u001b[0;34m]\u001b[0m\u001b[0;34m\u001b[0m\u001b[0;34m\u001b[0m\u001b[0m\n\u001b[0;32m-> 1657\u001b[0;31m     \u001b[0mans\u001b[0m \u001b[0;34m=\u001b[0m \u001b[0mfun\u001b[0m\u001b[0;34m.\u001b[0m\u001b[0mcall_wrapped\u001b[0m\u001b[0;34m(\u001b[0m\u001b[0;34m*\u001b[0m\u001b[0min_tracers_\u001b[0m\u001b[0;34m)\u001b[0m\u001b[0;34m\u001b[0m\u001b[0;34m\u001b[0m\u001b[0m\n\u001b[0m\u001b[1;32m   1658\u001b[0m     \u001b[0mout_tracers\u001b[0m \u001b[0;34m=\u001b[0m \u001b[0mmap\u001b[0m\u001b[0;34m(\u001b[0m\u001b[0mtrace\u001b[0m\u001b[0;34m.\u001b[0m\u001b[0mfull_raise\u001b[0m\u001b[0;34m,\u001b[0m \u001b[0mans\u001b[0m\u001b[0;34m)\u001b[0m\u001b[0;34m\u001b[0m\u001b[0;34m\u001b[0m\u001b[0m\n",
      "\u001b[0;32m/scratch/ak1774/vargpu_env/lib/python3.8/site-packages/jax/linear_util.py\u001b[0m in \u001b[0;36mcall_wrapped\u001b[0;34m(self, *args, **kwargs)\u001b[0m\n\u001b[1;32m    165\u001b[0m     \u001b[0;32mtry\u001b[0m\u001b[0;34m:\u001b[0m\u001b[0;34m\u001b[0m\u001b[0;34m\u001b[0m\u001b[0m\n\u001b[0;32m--> 166\u001b[0;31m       \u001b[0mans\u001b[0m \u001b[0;34m=\u001b[0m \u001b[0mself\u001b[0m\u001b[0;34m.\u001b[0m\u001b[0mf\u001b[0m\u001b[0;34m(\u001b[0m\u001b[0;34m*\u001b[0m\u001b[0margs\u001b[0m\u001b[0;34m,\u001b[0m \u001b[0;34m**\u001b[0m\u001b[0mdict\u001b[0m\u001b[0;34m(\u001b[0m\u001b[0mself\u001b[0m\u001b[0;34m.\u001b[0m\u001b[0mparams\u001b[0m\u001b[0;34m,\u001b[0m \u001b[0;34m**\u001b[0m\u001b[0mkwargs\u001b[0m\u001b[0;34m)\u001b[0m\u001b[0;34m)\u001b[0m\u001b[0;34m\u001b[0m\u001b[0;34m\u001b[0m\u001b[0m\n\u001b[0m\u001b[1;32m    167\u001b[0m     \u001b[0;32mexcept\u001b[0m\u001b[0;34m:\u001b[0m\u001b[0;34m\u001b[0m\u001b[0;34m\u001b[0m\u001b[0m\n",
      "\u001b[0;32m/scratch/ak1774/vargpu_env/lib/python3.8/site-packages/jax/_src/traceback_util.py\u001b[0m in \u001b[0;36mreraise_with_filtered_traceback\u001b[0;34m(*args, **kwargs)\u001b[0m\n\u001b[1;32m    164\u001b[0m     \u001b[0;32mtry\u001b[0m\u001b[0;34m:\u001b[0m\u001b[0;34m\u001b[0m\u001b[0;34m\u001b[0m\u001b[0m\n\u001b[0;32m--> 165\u001b[0;31m       \u001b[0;32mreturn\u001b[0m \u001b[0mfun\u001b[0m\u001b[0;34m(\u001b[0m\u001b[0;34m*\u001b[0m\u001b[0margs\u001b[0m\u001b[0;34m,\u001b[0m \u001b[0;34m**\u001b[0m\u001b[0mkwargs\u001b[0m\u001b[0;34m)\u001b[0m\u001b[0;34m\u001b[0m\u001b[0;34m\u001b[0m\u001b[0m\n\u001b[0m\u001b[1;32m    166\u001b[0m     \u001b[0;32mexcept\u001b[0m \u001b[0mException\u001b[0m \u001b[0;32mas\u001b[0m \u001b[0me\u001b[0m\u001b[0;34m:\u001b[0m\u001b[0;34m\u001b[0m\u001b[0;34m\u001b[0m\u001b[0m\n",
      "\u001b[0;32m/scratch/ak1774/vargpu_env/lib/python3.8/site-packages/flax/linen/module.py\u001b[0m in \u001b[0;36mapply\u001b[0;34m(self, variables, rngs, method, mutable, capture_intermediates, *args, **kwargs)\u001b[0m\n\u001b[1;32m   1106\u001b[0m     \u001b[0mmethod\u001b[0m \u001b[0;34m=\u001b[0m \u001b[0m_get_unbound_fn\u001b[0m\u001b[0;34m(\u001b[0m\u001b[0mmethod\u001b[0m\u001b[0;34m)\u001b[0m\u001b[0;34m\u001b[0m\u001b[0;34m\u001b[0m\u001b[0m\n\u001b[0;32m-> 1107\u001b[0;31m     return apply(\n\u001b[0m\u001b[1;32m   1108\u001b[0m         \u001b[0mmethod\u001b[0m\u001b[0;34m,\u001b[0m \u001b[0mself\u001b[0m\u001b[0;34m,\u001b[0m\u001b[0;34m\u001b[0m\u001b[0;34m\u001b[0m\u001b[0m\n",
      "\u001b[0;32m/scratch/ak1774/vargpu_env/lib/python3.8/site-packages/flax/core/scope.py\u001b[0m in \u001b[0;36mwrapper\u001b[0;34m(variables, rngs, *args, **kwargs)\u001b[0m\n\u001b[1;32m    797\u001b[0m     \u001b[0;32mwith\u001b[0m \u001b[0mbind\u001b[0m\u001b[0;34m(\u001b[0m\u001b[0mvariables\u001b[0m\u001b[0;34m,\u001b[0m \u001b[0mrngs\u001b[0m\u001b[0;34m=\u001b[0m\u001b[0mrngs\u001b[0m\u001b[0;34m,\u001b[0m \u001b[0mmutable\u001b[0m\u001b[0;34m=\u001b[0m\u001b[0mmutable\u001b[0m\u001b[0;34m)\u001b[0m\u001b[0;34m.\u001b[0m\u001b[0mtemporary\u001b[0m\u001b[0;34m(\u001b[0m\u001b[0;34m)\u001b[0m \u001b[0;32mas\u001b[0m \u001b[0mroot\u001b[0m\u001b[0;34m:\u001b[0m\u001b[0;34m\u001b[0m\u001b[0;34m\u001b[0m\u001b[0m\n\u001b[0;32m--> 798\u001b[0;31m       \u001b[0my\u001b[0m \u001b[0;34m=\u001b[0m \u001b[0mfn\u001b[0m\u001b[0;34m(\u001b[0m\u001b[0mroot\u001b[0m\u001b[0;34m,\u001b[0m \u001b[0;34m*\u001b[0m\u001b[0margs\u001b[0m\u001b[0;34m,\u001b[0m \u001b[0;34m**\u001b[0m\u001b[0mkwargs\u001b[0m\u001b[0;34m)\u001b[0m\u001b[0;34m\u001b[0m\u001b[0;34m\u001b[0m\u001b[0m\n\u001b[0m\u001b[1;32m    799\u001b[0m     \u001b[0;32mif\u001b[0m \u001b[0mmutable\u001b[0m \u001b[0;32mis\u001b[0m \u001b[0;32mnot\u001b[0m \u001b[0;32mFalse\u001b[0m\u001b[0;34m:\u001b[0m\u001b[0;34m\u001b[0m\u001b[0;34m\u001b[0m\u001b[0m\n",
      "\u001b[0;32m/scratch/ak1774/vargpu_env/lib/python3.8/site-packages/flax/linen/module.py\u001b[0m in \u001b[0;36mscope_fn\u001b[0;34m(scope, *args, **kwargs)\u001b[0m\n\u001b[1;32m   1373\u001b[0m     \u001b[0;32mtry\u001b[0m\u001b[0;34m:\u001b[0m\u001b[0;34m\u001b[0m\u001b[0;34m\u001b[0m\u001b[0m\n\u001b[0;32m-> 1374\u001b[0;31m       \u001b[0;32mreturn\u001b[0m \u001b[0mfn\u001b[0m\u001b[0;34m(\u001b[0m\u001b[0mmodule\u001b[0m\u001b[0;34m.\u001b[0m\u001b[0mclone\u001b[0m\u001b[0;34m(\u001b[0m\u001b[0mparent\u001b[0m\u001b[0;34m=\u001b[0m\u001b[0mscope\u001b[0m\u001b[0;34m)\u001b[0m\u001b[0;34m,\u001b[0m \u001b[0;34m*\u001b[0m\u001b[0margs\u001b[0m\u001b[0;34m,\u001b[0m \u001b[0;34m**\u001b[0m\u001b[0mkwargs\u001b[0m\u001b[0;34m)\u001b[0m\u001b[0;34m\u001b[0m\u001b[0;34m\u001b[0m\u001b[0m\n\u001b[0m\u001b[1;32m   1375\u001b[0m     \u001b[0;32mfinally\u001b[0m\u001b[0;34m:\u001b[0m\u001b[0;34m\u001b[0m\u001b[0;34m\u001b[0m\u001b[0m\n",
      "\u001b[0;32m/scratch/ak1774/vargpu_env/lib/python3.8/site-packages/flax/linen/transforms.py\u001b[0m in \u001b[0;36mwrapped_fn\u001b[0;34m(self, *args, **kwargs)\u001b[0m\n\u001b[1;32m    969\u001b[0m     \u001b[0;32mif\u001b[0m \u001b[0;32mnot\u001b[0m \u001b[0mforce\u001b[0m \u001b[0;32mand\u001b[0m \u001b[0;32mnot\u001b[0m \u001b[0mlinen_module\u001b[0m\u001b[0;34m.\u001b[0m\u001b[0m_use_named_call\u001b[0m\u001b[0;34m:\u001b[0m\u001b[0;34m\u001b[0m\u001b[0;34m\u001b[0m\u001b[0m\n\u001b[0;32m--> 970\u001b[0;31m       \u001b[0;32mreturn\u001b[0m \u001b[0mprewrapped_fn\u001b[0m\u001b[0;34m(\u001b[0m\u001b[0mself\u001b[0m\u001b[0;34m,\u001b[0m \u001b[0;34m*\u001b[0m\u001b[0margs\u001b[0m\u001b[0;34m,\u001b[0m \u001b[0;34m**\u001b[0m\u001b[0mkwargs\u001b[0m\u001b[0;34m)\u001b[0m\u001b[0;34m\u001b[0m\u001b[0;34m\u001b[0m\u001b[0m\n\u001b[0m\u001b[1;32m    971\u001b[0m     \u001b[0mfn_name\u001b[0m \u001b[0;34m=\u001b[0m \u001b[0mclass_fn\u001b[0m\u001b[0;34m.\u001b[0m\u001b[0m__name__\u001b[0m\u001b[0;34m\u001b[0m\u001b[0;34m\u001b[0m\u001b[0m\n",
      "\u001b[0;32m/scratch/ak1774/vargpu_env/lib/python3.8/site-packages/flax/linen/module.py\u001b[0m in \u001b[0;36mwrapped_module_method\u001b[0;34m(*args, **kwargs)\u001b[0m\n\u001b[1;32m    339\u001b[0m       \u001b[0mself\u001b[0m\u001b[0;34m,\u001b[0m \u001b[0margs\u001b[0m \u001b[0;34m=\u001b[0m \u001b[0margs\u001b[0m\u001b[0;34m[\u001b[0m\u001b[0;36m0\u001b[0m\u001b[0;34m]\u001b[0m\u001b[0;34m,\u001b[0m \u001b[0margs\u001b[0m\u001b[0;34m[\u001b[0m\u001b[0;36m1\u001b[0m\u001b[0;34m:\u001b[0m\u001b[0;34m]\u001b[0m\u001b[0;34m\u001b[0m\u001b[0;34m\u001b[0m\u001b[0m\n\u001b[0;32m--> 340\u001b[0;31m       \u001b[0;32mreturn\u001b[0m \u001b[0mself\u001b[0m\u001b[0;34m.\u001b[0m\u001b[0m_call_wrapped_method\u001b[0m\u001b[0;34m(\u001b[0m\u001b[0mfun\u001b[0m\u001b[0;34m,\u001b[0m \u001b[0margs\u001b[0m\u001b[0;34m,\u001b[0m \u001b[0mkwargs\u001b[0m\u001b[0;34m)\u001b[0m\u001b[0;34m\u001b[0m\u001b[0;34m\u001b[0m\u001b[0m\n\u001b[0m\u001b[1;32m    341\u001b[0m     \u001b[0;32melse\u001b[0m\u001b[0;34m:\u001b[0m\u001b[0;34m\u001b[0m\u001b[0;34m\u001b[0m\u001b[0m\n",
      "\u001b[0;32m/scratch/ak1774/vargpu_env/lib/python3.8/site-packages/flax/linen/module.py\u001b[0m in \u001b[0;36m_call_wrapped_method\u001b[0;34m(self, fun, args, kwargs)\u001b[0m\n\u001b[1;32m    632\u001b[0m     \u001b[0;32mtry\u001b[0m\u001b[0;34m:\u001b[0m\u001b[0;34m\u001b[0m\u001b[0;34m\u001b[0m\u001b[0m\n\u001b[0;32m--> 633\u001b[0;31m       \u001b[0my\u001b[0m \u001b[0;34m=\u001b[0m \u001b[0mfun\u001b[0m\u001b[0;34m(\u001b[0m\u001b[0mself\u001b[0m\u001b[0;34m,\u001b[0m \u001b[0;34m*\u001b[0m\u001b[0margs\u001b[0m\u001b[0;34m,\u001b[0m \u001b[0;34m**\u001b[0m\u001b[0mkwargs\u001b[0m\u001b[0;34m)\u001b[0m\u001b[0;34m\u001b[0m\u001b[0;34m\u001b[0m\u001b[0m\n\u001b[0m\u001b[1;32m    634\u001b[0m       \u001b[0;32mif\u001b[0m \u001b[0m_context\u001b[0m\u001b[0;34m.\u001b[0m\u001b[0mcapture_stack\u001b[0m\u001b[0;34m:\u001b[0m\u001b[0;34m\u001b[0m\u001b[0;34m\u001b[0m\u001b[0m\n",
      "\u001b[0;31mUnfilteredStackTrace\u001b[0m: TypeError: __call__() takes 2 positional arguments but 3 were given\n\nThe stack trace below excludes JAX-internal frames.\nThe preceding is the original exception that occurred, unmodified.\n\n--------------------",
      "\nThe above exception was the direct cause of the following exception:\n",
      "\u001b[0;31mTypeError\u001b[0m                                 Traceback (most recent call last)",
      "\u001b[0;32m<ipython-input-73-c25704051822>\u001b[0m in \u001b[0;36m<module>\u001b[0;34m\u001b[0m\n\u001b[1;32m     30\u001b[0m     \u001b[0mrollout\u001b[0m\u001b[0;34m.\u001b[0m\u001b[0mappend\u001b[0m\u001b[0;34m(\u001b[0m\u001b[0mstate\u001b[0m\u001b[0;34m)\u001b[0m\u001b[0;34m\u001b[0m\u001b[0;34m\u001b[0m\u001b[0m\n\u001b[1;32m     31\u001b[0m     \u001b[0mact_rng\u001b[0m\u001b[0;34m,\u001b[0m \u001b[0mrng\u001b[0m \u001b[0;34m=\u001b[0m \u001b[0mjax\u001b[0m\u001b[0;34m.\u001b[0m\u001b[0mrandom\u001b[0m\u001b[0;34m.\u001b[0m\u001b[0msplit\u001b[0m\u001b[0;34m(\u001b[0m\u001b[0mrng\u001b[0m\u001b[0;34m)\u001b[0m\u001b[0;34m\u001b[0m\u001b[0;34m\u001b[0m\u001b[0m\n\u001b[0;32m---> 32\u001b[0;31m     \u001b[0mact\u001b[0m \u001b[0;34m=\u001b[0m \u001b[0mjit_inference_fn\u001b[0m\u001b[0;34m(\u001b[0m\u001b[0mparams\u001b[0m\u001b[0;34m,\u001b[0m \u001b[0mstate\u001b[0m\u001b[0;34m.\u001b[0m\u001b[0mobs\u001b[0m\u001b[0;34m,\u001b[0m \u001b[0mact_rng\u001b[0m\u001b[0;34m)\u001b[0m\u001b[0;34m\u001b[0m\u001b[0;34m\u001b[0m\u001b[0m\n\u001b[0m\u001b[1;32m     33\u001b[0m     \u001b[0mstate\u001b[0m \u001b[0;34m=\u001b[0m \u001b[0mjit_env_step\u001b[0m\u001b[0;34m(\u001b[0m\u001b[0mstate\u001b[0m\u001b[0;34m,\u001b[0m \u001b[0mact\u001b[0m\u001b[0;34m)\u001b[0m\u001b[0;34m\u001b[0m\u001b[0;34m\u001b[0m\u001b[0m\n\u001b[1;32m     34\u001b[0m \u001b[0;34m\u001b[0m\u001b[0m\n",
      "\u001b[0;31mTypeError\u001b[0m: __call__() takes 2 positional arguments but 3 were given"
     ]
    }
   ],
   "source": [
    "run_path = \"/scratch/ak1774/runs/large_files_jax/run-20220303_085708-pk4loduh\"\n",
    "import json\n",
    "with open(run_path+'/config.json') as f:\n",
    "    config = json.load(f)\n",
    "theta = np.load(run_path+\"/theta.npy\")\n",
    "from es_map import jax_evaluate\n",
    "env = jax_evaluate.create_env(config[\"env_name\"],1,1,1000)\n",
    "model = jax_evaluate.create_MLP_model(env.observation_space.shape[1],env.action_space.shape[1])\n",
    "\n",
    "model_params = model.init(key)\n",
    "vec,shapes,indicies = jax_evaluate.params_tree_to_vec(model_params)   # now we can do anything with vec, like get mutated copies, calculate weighted sums for ES gradient...\n",
    "# reconstructed_model_params = vec_to_params_tree(vec,shapes,indicies)\n",
    "params = jax_evaluate.vec_to_params_tree(jnp.array(theta),shapes,indicies)\n",
    "\n",
    "from brax import envs\n",
    "env_fn = envs.create_fn(env_name=env_name)\n",
    "orig_env = env_fn()\n",
    "\n",
    "jit_env_reset = jax.jit(orig_env.reset)\n",
    "jit_env_step = jax.jit(orig_env.step)\n",
    "jit_inference_fn = jax.jit(model.apply)\n",
    "\n",
    "# do a rollout, with policy\n",
    "rollout = []\n",
    "rng = jax.random.PRNGKey(seed=0)\n",
    "state = orig_env.reset(rng=rng)\n",
    "for i in range(300):\n",
    "    print(i)\n",
    "    \n",
    "    rollout.append(state)\n",
    "    act_rng, rng = jax.random.split(rng)\n",
    "    act = jit_inference_fn(params, state.obs, act_rng)\n",
    "    state = jit_env_step(state, act)\n",
    "\n",
    "    \n",
    "    #rollout.append(state)\n",
    "    #act_rng, rng = jax.random.split(rng)\n",
    "    #act = model.apply(params, state.obs)\n",
    "    #state = orig_env.step(state, act)\n",
    "\n",
    "\n"
   ]
  },
  {
   "cell_type": "code",
   "execution_count": 72,
   "metadata": {},
   "outputs": [
    {
     "data": {
      "text/html": [
       "\n",
       "<html>\n",
       "  <head>\n",
       "    <title>brax visualizer</title>\n",
       "    <style>\n",
       "      body {\n",
       "        margin: 0;\n",
       "        padding: 0;\n",
       "      }\n",
       "      #brax-viewer {\n",
       "        margin: 0;\n",
       "        padding: 0;\n",
       "        height: 480px;\n",
       "      }\n",
       "    </style>\n",
       "  </head>\n",
       "  <body>\n",
       "    <script type=\"application/javascript\">\n",
       "    var system = {\"config\": {\"bodies\": [{\"name\": \"$ Torso\", \"colliders\": [{\"capsule\": {\"radius\": 0.25, \"length\": 0.5, \"end\": 1}, \"material\": {\"friction\": 1.0, \"elasticity\": 0.0}}], \"inertia\": {\"x\": 1.0, \"y\": 1.0, \"z\": 1.0}, \"mass\": 10.0, \"frozen\": {\"position\": {\"x\": 0.0, \"y\": 0.0, \"z\": 0.0}, \"rotation\": {\"x\": 0.0, \"y\": 0.0, \"z\": 0.0}, \"all\": false}}, {\"name\": \"Aux 1\", \"colliders\": [{\"rotation\": {\"x\": 90.0, \"y\": -45.0, \"z\": 0.0}, \"capsule\": {\"radius\": 0.08, \"length\": 0.44284272, \"end\": 0}, \"material\": {\"friction\": 1.0, \"elasticity\": 0.0}}], \"inertia\": {\"x\": 1.0, \"y\": 1.0, \"z\": 1.0}, \"mass\": 1.0, \"frozen\": {\"position\": {\"x\": 0.0, \"y\": 0.0, \"z\": 0.0}, \"rotation\": {\"x\": 0.0, \"y\": 0.0, \"z\": 0.0}, \"all\": false}}, {\"name\": \"$ Body 4\", \"colliders\": [{\"rotation\": {\"x\": 90.0, \"y\": -45.0, \"z\": 0.0}, \"capsule\": {\"radius\": 0.08, \"length\": 0.7256854, \"end\": -1}, \"material\": {\"friction\": 1.0, \"elasticity\": 0.0}}], \"inertia\": {\"x\": 1.0, \"y\": 1.0, \"z\": 1.0}, \"mass\": 1.0, \"frozen\": {\"position\": {\"x\": 0.0, \"y\": 0.0, \"z\": 0.0}, \"rotation\": {\"x\": 0.0, \"y\": 0.0, \"z\": 0.0}, \"all\": false}}, {\"name\": \"Aux 2\", \"colliders\": [{\"rotation\": {\"x\": 90.0, \"y\": 45.0, \"z\": 0.0}, \"capsule\": {\"radius\": 0.08, \"length\": 0.44284272, \"end\": 0}, \"material\": {\"friction\": 1.0, \"elasticity\": 0.0}}], \"inertia\": {\"x\": 1.0, \"y\": 1.0, \"z\": 1.0}, \"mass\": 1.0, \"frozen\": {\"position\": {\"x\": 0.0, \"y\": 0.0, \"z\": 0.0}, \"rotation\": {\"x\": 0.0, \"y\": 0.0, \"z\": 0.0}, \"all\": false}}, {\"name\": \"$ Body 7\", \"colliders\": [{\"rotation\": {\"x\": 90.0, \"y\": 45.0, \"z\": 0.0}, \"capsule\": {\"radius\": 0.08, \"length\": 0.7256854, \"end\": -1}, \"material\": {\"friction\": 1.0, \"elasticity\": 0.0}}], \"inertia\": {\"x\": 1.0, \"y\": 1.0, \"z\": 1.0}, \"mass\": 1.0, \"frozen\": {\"position\": {\"x\": 0.0, \"y\": 0.0, \"z\": 0.0}, \"rotation\": {\"x\": 0.0, \"y\": 0.0, \"z\": 0.0}, \"all\": false}}, {\"name\": \"Aux 3\", \"colliders\": [{\"rotation\": {\"x\": -90.0, \"y\": 45.0, \"z\": 0.0}, \"capsule\": {\"radius\": 0.08, \"length\": 0.44284272, \"end\": 0}, \"material\": {\"friction\": 1.0, \"elasticity\": 0.0}}], \"inertia\": {\"x\": 1.0, \"y\": 1.0, \"z\": 1.0}, \"mass\": 1.0, \"frozen\": {\"position\": {\"x\": 0.0, \"y\": 0.0, \"z\": 0.0}, \"rotation\": {\"x\": 0.0, \"y\": 0.0, \"z\": 0.0}, \"all\": false}}, {\"name\": \"$ Body 10\", \"colliders\": [{\"rotation\": {\"x\": -90.0, \"y\": 45.0, \"z\": 0.0}, \"capsule\": {\"radius\": 0.08, \"length\": 0.7256854, \"end\": -1}, \"material\": {\"friction\": 1.0, \"elasticity\": 0.0}}], \"inertia\": {\"x\": 1.0, \"y\": 1.0, \"z\": 1.0}, \"mass\": 1.0, \"frozen\": {\"position\": {\"x\": 0.0, \"y\": 0.0, \"z\": 0.0}, \"rotation\": {\"x\": 0.0, \"y\": 0.0, \"z\": 0.0}, \"all\": false}}, {\"name\": \"Aux 4\", \"colliders\": [{\"rotation\": {\"x\": -90.0, \"y\": -45.0, \"z\": 0.0}, \"capsule\": {\"radius\": 0.08, \"length\": 0.44284272, \"end\": 0}, \"material\": {\"friction\": 1.0, \"elasticity\": 0.0}}], \"inertia\": {\"x\": 1.0, \"y\": 1.0, \"z\": 1.0}, \"mass\": 1.0, \"frozen\": {\"position\": {\"x\": 0.0, \"y\": 0.0, \"z\": 0.0}, \"rotation\": {\"x\": 0.0, \"y\": 0.0, \"z\": 0.0}, \"all\": false}}, {\"name\": \"$ Body 13\", \"colliders\": [{\"rotation\": {\"x\": -90.0, \"y\": -45.0, \"z\": 0.0}, \"capsule\": {\"radius\": 0.08, \"length\": 0.7256854, \"end\": -1}, \"material\": {\"friction\": 1.0, \"elasticity\": 0.0}}], \"inertia\": {\"x\": 1.0, \"y\": 1.0, \"z\": 1.0}, \"mass\": 1.0, \"frozen\": {\"position\": {\"x\": 0.0, \"y\": 0.0, \"z\": 0.0}, \"rotation\": {\"x\": 0.0, \"y\": 0.0, \"z\": 0.0}, \"all\": false}}, {\"name\": \"Ground\", \"colliders\": [{\"plane\": {}, \"material\": {\"friction\": 1.0, \"elasticity\": 0.0}}], \"inertia\": {\"x\": 1.0, \"y\": 1.0, \"z\": 1.0}, \"mass\": 1.0, \"frozen\": {\"position\": {\"x\": 1.0, \"y\": 1.0, \"z\": 1.0}, \"rotation\": {\"x\": 1.0, \"y\": 1.0, \"z\": 1.0}, \"all\": true}}], \"joints\": [{\"name\": \"$ Torso_Aux 1\", \"stiffness\": 18000.0, \"parent\": \"$ Torso\", \"child\": \"Aux 1\", \"parentOffset\": {\"x\": 0.2, \"y\": 0.2, \"z\": 0.0}, \"childOffset\": {\"x\": -0.1, \"y\": -0.1, \"z\": 0.0}, \"rotation\": {\"y\": -90.0, \"x\": 0.0, \"z\": 0.0}, \"angularDamping\": 20.0, \"angleLimit\": [{\"min\": -30.0, \"max\": 30.0}], \"springDamping\": 80.0}, {\"name\": \"Aux 1_$ Body 4\", \"stiffness\": 18000.0, \"parent\": \"Aux 1\", \"child\": \"$ Body 4\", \"parentOffset\": {\"x\": 0.1, \"y\": 0.1, \"z\": 0.0}, \"childOffset\": {\"x\": -0.2, \"y\": -0.2, \"z\": 0.0}, \"rotation\": {\"z\": 135.0, \"x\": 0.0, \"y\": 0.0}, \"angularDamping\": 20.0, \"angleLimit\": [{\"min\": 30.0, \"max\": 70.0}], \"springDamping\": 80.0}, {\"name\": \"$ Torso_Aux 2\", \"stiffness\": 18000.0, \"parent\": \"$ Torso\", \"child\": \"Aux 2\", \"parentOffset\": {\"x\": -0.2, \"y\": 0.2, \"z\": 0.0}, \"childOffset\": {\"x\": 0.1, \"y\": -0.1, \"z\": 0.0}, \"rotation\": {\"y\": -90.0, \"x\": 0.0, \"z\": 0.0}, \"angularDamping\": 20.0, \"angleLimit\": [{\"min\": -30.0, \"max\": 30.0}], \"springDamping\": 80.0}, {\"name\": \"Aux 2_$ Body 7\", \"stiffness\": 18000.0, \"parent\": \"Aux 2\", \"child\": \"$ Body 7\", \"parentOffset\": {\"x\": -0.1, \"y\": 0.1, \"z\": 0.0}, \"childOffset\": {\"x\": 0.2, \"y\": -0.2, \"z\": 0.0}, \"rotation\": {\"z\": 45.0, \"x\": 0.0, \"y\": 0.0}, \"angularDamping\": 20.0, \"angleLimit\": [{\"min\": -70.0, \"max\": -30.0}], \"springDamping\": 80.0}, {\"name\": \"$ Torso_Aux 3\", \"stiffness\": 18000.0, \"parent\": \"$ Torso\", \"child\": \"Aux 3\", \"parentOffset\": {\"x\": -0.2, \"y\": -0.2, \"z\": 0.0}, \"childOffset\": {\"x\": 0.1, \"y\": 0.1, \"z\": 0.0}, \"rotation\": {\"y\": -90.0, \"x\": 0.0, \"z\": 0.0}, \"angularDamping\": 20.0, \"angleLimit\": [{\"min\": -30.0, \"max\": 30.0}], \"springDamping\": 80.0}, {\"name\": \"Aux 3_$ Body 10\", \"stiffness\": 18000.0, \"parent\": \"Aux 3\", \"child\": \"$ Body 10\", \"parentOffset\": {\"x\": -0.1, \"y\": -0.1, \"z\": 0.0}, \"childOffset\": {\"x\": 0.2, \"y\": 0.2, \"z\": 0.0}, \"rotation\": {\"z\": 135.0, \"x\": 0.0, \"y\": 0.0}, \"angularDamping\": 20.0, \"angleLimit\": [{\"min\": -70.0, \"max\": -30.0}], \"springDamping\": 80.0}, {\"name\": \"$ Torso_Aux 4\", \"stiffness\": 18000.0, \"parent\": \"$ Torso\", \"child\": \"Aux 4\", \"parentOffset\": {\"x\": 0.2, \"y\": -0.2, \"z\": 0.0}, \"childOffset\": {\"x\": -0.1, \"y\": 0.1, \"z\": 0.0}, \"rotation\": {\"y\": -90.0, \"x\": 0.0, \"z\": 0.0}, \"angularDamping\": 20.0, \"angleLimit\": [{\"min\": -30.0, \"max\": 30.0}], \"springDamping\": 80.0}, {\"name\": \"Aux 4_$ Body 13\", \"stiffness\": 18000.0, \"parent\": \"Aux 4\", \"child\": \"$ Body 13\", \"parentOffset\": {\"x\": 0.1, \"y\": -0.1, \"z\": 0.0}, \"childOffset\": {\"x\": -0.2, \"y\": 0.2, \"z\": 0.0}, \"rotation\": {\"z\": 45.0, \"x\": 0.0, \"y\": 0.0}, \"angularDamping\": 20.0, \"angleLimit\": [{\"min\": 30.0, \"max\": 70.0}], \"springDamping\": 80.0}], \"actuators\": [{\"name\": \"$ Torso_Aux 1\", \"joint\": \"$ Torso_Aux 1\", \"strength\": 350.0, \"torque\": {}}, {\"name\": \"Aux 1_$ Body 4\", \"joint\": \"Aux 1_$ Body 4\", \"strength\": 350.0, \"torque\": {}}, {\"name\": \"$ Torso_Aux 2\", \"joint\": \"$ Torso_Aux 2\", \"strength\": 350.0, \"torque\": {}}, {\"name\": \"Aux 2_$ Body 7\", \"joint\": \"Aux 2_$ Body 7\", \"strength\": 350.0, \"torque\": {}}, {\"name\": \"$ Torso_Aux 3\", \"joint\": \"$ Torso_Aux 3\", \"strength\": 350.0, \"torque\": {}}, {\"name\": \"Aux 3_$ Body 10\", \"joint\": \"Aux 3_$ Body 10\", \"strength\": 350.0, \"torque\": {}}, {\"name\": \"$ Torso_Aux 4\", \"joint\": \"$ Torso_Aux 4\", \"strength\": 350.0, \"torque\": {}}, {\"name\": \"Aux 4_$ Body 13\", \"joint\": \"Aux 4_$ Body 13\", \"strength\": 350.0, \"torque\": {}}], \"friction\": 1.0, \"gravity\": {\"z\": -9.8, \"x\": 0.0, \"y\": 0.0}, \"angularDamping\": -0.05, \"baumgarteErp\": 0.1, \"collideInclude\": [{\"first\": \"$ Torso\", \"second\": \"Ground\"}, {\"first\": \"$ Body 4\", \"second\": \"Ground\"}, {\"first\": \"$ Body 7\", \"second\": \"Ground\"}, {\"first\": \"$ Body 10\", \"second\": \"Ground\"}, {\"first\": \"$ Body 13\", \"second\": \"Ground\"}], \"dt\": 0.05, \"substeps\": 10, \"frozen\": {\"all\": false}, \"forces\": [], \"elasticity\": 0.0, \"velocityDamping\": 0.0, \"defaults\": [], \"colliderCutoff\": 0, \"meshGeometries\": []}, \"pos\": [[[0.0, 0.0, 0.5410389841393529], [0.30853448525286864, 0.2906657008685978, 0.5410389841393529], [0.5428490557307354, 0.4864034375420983, 0.310519488699975], [-0.2922858352058792, 0.3071602796835951, 0.5410389841393529], [-0.49783002829738876, 0.5458336711451465, 0.3177077299437714], [-0.30153582477526, -0.2984402350188091, 0.5410389841393529], [-0.5467232268671356, -0.5361524466730975, 0.34112013626363324], [0.2970705202165146, -0.30284608990396966, 0.5410389841393529], [0.5210273853686684, -0.5401280978759725, 0.3269669155885962], [0.0, 0.0, 0.0]], [[-0.005935130750933486, 0.002826963923497003, 0.5293552551765665], [0.3193428336955937, 0.2747575700664294, 0.5302166409225315], [0.5696444153222948, 0.46050503940695076, 0.30564093676677234], [-0.2852259634306917, 0.3211993103240523, 0.5357054237480133], [-0.4868546782876909, 0.5579055188277842, 0.31177253290175705], [-0.31089037719741736, -0.29077543720435456, 0.5291455211563317], [-0.5427303702245116, -0.54748909377711, 0.3336604035221785], [0.28525821524688794, -0.3061804987171459, 0.5224527774682763], [0.5340445758345476, -0.5403523757732468, 0.31978459971667866], [0.0, 0.0, 0.0]], [[-0.03349028173443964, 0.020548870157220633, 0.4929653817860948], [0.3331018189889506, 0.2296578250993194, 0.4766578282975228], [0.6903528336763569, 0.33536664259886134, 0.297386212655033], [-0.28829297689607464, 0.3542661699698184, 0.529030798703628], [-0.47628412056561953, 0.5865494027892021, 0.3114081274104675], [-0.30734404944832205, -0.2851768199699093, 0.4936519894876101], [-0.43360900950702025, -0.6412625464427635, 0.33567600088415817], [0.24544168812382627, -0.2966467243890521, 0.4634094605950385], [0.5291244988831284, -0.5362564225303845, 0.29007308347407584], [0.0, 0.0, 0.0]], [[-0.02802410049471911, 0.02213080706632987, 0.4586212278535134], [0.2988706984622782, 0.2601089930521904, 0.44843562991105496], [0.6457113048064066, 0.3867337205969463, 0.275914081675782], [-0.33380611187836134, 0.33416984000219446, 0.5243277100448411], [-0.5187068677205415, 0.5718125398709084, 0.3105542426009591], [-0.2637472239173898, -0.3184914868044834, 0.4474368438943983], [-0.3848951739418795, -0.6713389670693802, 0.2768579401579523], [0.2843722246544103, -0.25841267410492524, 0.42068938570563824], [0.5389341631524225, -0.5197035203443104, 0.24557571677519419], [0.0, 0.0, 0.0]], [[-0.004485182412992412, 0.03391169825226909, 0.4459374065736817], [0.25129554102994955, 0.36966876314573355, 0.46530890776039596], [0.49747590615304377, 0.6394198408549508, 0.30104761949719955], [-0.3188253508151461, 0.3035119510553624, 0.47325772222980156], [-0.5298382789468958, 0.5848458273554132, 0.28867129732812663], [-0.21360246799040147, -0.339415458047462, 0.4495358579983947], [-0.34835949124525867, -0.6712859954044398, 0.2680976839319001], [0.2843001741669584, -0.2552400646852069, 0.40440498211788695], [0.42821490674782287, -0.6051383801087469, 0.23818710001000173], [0.0, 0.0, 0.0]], [[-0.003717224140562799, 0.04171030759809236, 0.43976464260227915], [0.26040300089381824, 0.3862901148322193, 0.44844982040942616], [0.4680403090613818, 0.6791868164955992, 0.2664539812710167], [-0.32799142883754434, 0.3149445066480427, 0.4745298357052641], [-0.6135643885507387, 0.6007742237373054, 0.38369729762860644], [-0.22134393178777517, -0.31312340890377977, 0.4362397801118342], [-0.36286190632001025, -0.6437161682850642, 0.25646804270541074], [0.27735126888491946, -0.2594704295442219, 0.40701440009173606], [0.4372451029197758, -0.6085307124160453, 0.24644482424844755], [0.0, 0.0, 0.0]], [[-0.010489230241757635, 0.053709109559563366, 0.4445202658919328], [0.2255718098910044, 0.39975214411954907, 0.43875842065674653], [0.4530622991748733, 0.6807872901905184, 0.25995164989855546], [-0.3501273627503394, 0.2984591202530384, 0.47297191878326816], [-0.6279794381608695, 0.5711759567973118, 0.34440040212481116], [-0.21408990673666045, -0.3179980248261467, 0.4446275595746724], [-0.37860058338634023, -0.6365910274033816, 0.26314878657521845], [0.31356896442862603, -0.20378967436592876, 0.41115152370478225], [0.5366738851102758, -0.5008646284666284, 0.23919894511464362], [0.0, 0.0, 0.0]], [[-0.03214320432599188, 0.05792088755870928, 0.4375042029160416], [0.2195204048208324, 0.3954631696822148, 0.42315168105540774], [0.4817471609194626, 0.6566199834410987, 0.2501316145128298], [-0.37063572048565346, 0.30672931138426196, 0.4690021138874987], [-0.6503955355509267, 0.5814066038401913, 0.3480602335713348], [-0.23600170627823616, -0.3127620097943288, 0.44836143827695935], [-0.38287944890020587, -0.6351262408882145, 0.26589490147367006], [0.31526145586126036, -0.18825162055945394, 0.40544698003370466], [0.5912314571533749, -0.44624294017386973, 0.2374064068255092], [0.0, 0.0, 0.0]], [[-0.07667707096786228, 0.070714024333894, 0.4241050521190813], [0.1969101313287384, 0.3796947512765666, 0.3984325892122852], [0.5383085281633798, 0.5486938506959635, 0.23431513641311696], [-0.4115026358821126, 0.31961474304160087, 0.4540754133077618], [-0.6761974479945727, 0.610818388228676, 0.33784764181782806], [-0.23359994065399475, -0.3153898995526949, 0.44193939387471093], [-0.28270552549966704, -0.6709277567646327, 0.26308942234412624], [0.28653638756296546, -0.15133981762301243, 0.3979759428444679], [0.6002402144384503, -0.3642304594635271, 0.23581355919107125], [0.0, 0.0, 0.0]], [[-0.09723102654722279, 0.0748071509387991, 0.40940395897150406], [0.18254740516637374, 0.3683295532033048, 0.39339417067185006], [0.5115973615296951, 0.546412812328333, 0.2342087690748394], [-0.42473798443511973, 0.34299974893081, 0.42314892465310305], [-0.6814743030989916, 0.6369707806401852, 0.2893711485208814], [-0.26470215774338507, -0.30001950180353815, 0.4208345163525464], [-0.31161765389916524, -0.6797765272309938, 0.27454311810183585], [0.2573110943502072, -0.15036508413838715, 0.39036859936695306], [0.5861574316509678, -0.3387021793874904, 0.23226497719989936], [0.0, 0.0, 0.0]], [[-0.0920370886399511, 0.0692232033737842, 0.37855066309843355], [0.19291559463005442, 0.38936555986584775, 0.3848974904714477], [0.46979782261062375, 0.6506477648293475, 0.23770601095453442], [-0.4236497884409922, 0.3432855102648282, 0.36647184175202124], [-0.7132023612778092, 0.6009695470814889, 0.2165699645584001], [-0.3223635085545984, -0.2823271606499593, 0.3891756061286447], [-0.47625842490724435, -0.6401837919734453, 0.25966276929066373], [0.24702708750867633, -0.17952246909792902, 0.3883294736090157], [0.5700200807760216, -0.378153121999767, 0.2412655352246672], [0.0, 0.0, 0.0]], [[-0.0650409291500296, 0.04171814896291611, 0.390824228394762], [0.1931010877133429, 0.37798363004921315, 0.40998490414393496], [0.36712825208717786, 0.7027701088208198, 0.24716021404502278], [-0.3963738921251582, 0.3348296200238705, 0.37405853443781767], [-0.7003473039609773, 0.5924947755738927, 0.2288649907279436], [-0.34719529472039906, -0.27876785718250285, 0.38937487870742793], [-0.5878683627806012, -0.5682013961753264, 0.23921232432256412], [0.2609359947304946, -0.22539234245306178, 0.4161625332631097], [0.5847386448434571, -0.41898819494751277, 0.26938678448203873], [0.0, 0.0, 0.0]], [[-0.03177227289484556, 0.0011847690559530638, 0.4629271678261353], [0.17431160427923248, 0.359625389463713, 0.4849321612688025], [0.2611168997271449, 0.6978292614011802, 0.29726828643209524], [-0.3553919975586501, 0.2647623084433274, 0.42879830050693796], [-0.6384118218417189, 0.4998595948172334, 0.25168980196870494], [-0.3282694243857308, -0.29846061730600987, 0.4352336532515944], [-0.6242001649848252, -0.514650962627036, 0.2519427618579875], [0.30572370322560904, -0.2519230088046654, 0.49366477791484076], [0.6240361655248936, -0.4403242512741136, 0.33910954912497426], [0.0, 0.0, 0.0]], [[0.000913054257249048, -0.04280295648459382, 0.5113766172212177], [0.15092349670922392, 0.3382557339506283, 0.5245314084884883], [0.1705008514225585, 0.6643883746418539, 0.30827632755095363], [-0.35097935075278713, 0.1922543796104588, 0.4832749494966946], [-0.6540825446836125, 0.4156086770927051, 0.317288653276805], [-0.2790865407781828, -0.3366857366514323, 0.48700002946421367], [-0.59015218776638, -0.4751207861420572, 0.27896856133835635], [0.36307166922750134, -0.2637594367187306, 0.540020583681368], [0.6864119368936221, -0.4305074768224126, 0.37440694986821854], [0.0, 0.0, 0.0]], [[0.013896744590699932, -0.07244047794247628, 0.534574884864149], [0.18511621394852582, 0.30627831865629296, 0.5470063324100808], [0.23557719956113646, 0.6234889472095826, 0.33066636783182807], [-0.34104456974702946, 0.16202675168520664, 0.517182366521712], [-0.6452741174265787, 0.3871270950338129, 0.35622165901541053], [-0.25569036256401473, -0.3915003141888111, 0.5168454975052302], [-0.5252080446967442, -0.5749244354708218, 0.29462344067789314], [0.37768686933526247, -0.2863794214402631, 0.5509476673243366], [0.7089896605460044, -0.44599966708400196, 0.38760346449896216], [0.0, 0.0, 0.0]], [[0.006874208662374172, -0.09182473162309518, 0.528980702678633], [0.2775857123127661, 0.22322256130175475, 0.5330715426675534], [0.42751427263842157, 0.5678213629445843, 0.37118782431093433], [-0.2852603396917557, 0.20924867708560418, 0.5141395249814285], [-0.5895245554858214, 0.4333393780551093, 0.35501053439977903], [-0.26875466033169854, -0.4123106018823635, 0.5181750142724022], [-0.3843316834199991, -0.7530526866222201, 0.327763982215953], [0.3236124710665064, -0.3713063577841581, 0.5481781172041428], [0.6667461820939324, -0.5248575705528967, 0.39281800379479176], [0.0, 0.0, 0.0]], [[-0.002947945273836022, -0.11068515279483908, 0.493317547313316], [0.24777022568681703, 0.22737745238454338, 0.514329026893861], [0.5818152941823375, 0.43043065431834465, 0.3941295762380041], [-0.38607179987434853, 0.0911626834013409, 0.4946060182842167], [-0.7108226513495536, 0.313356197285113, 0.3614978637065018], [-0.1382307349918778, -0.5169080508250091, 0.5051543582810843], [-0.14297933088919582, -0.9216457271231483, 0.38536428405368034], [0.39478640444069246, -0.2797841026621232, 0.48399953280606867], [0.7767507222821148, -0.3851351811779803, 0.3402013417172151], [0.0, 0.0, 0.0]], [[0.020051012836870868, -0.15600987980278352, 0.45337286146028], [0.3026970788385083, 0.13995063454622098, 0.4474603528409389], [0.6500913736185057, 0.3178775026950836, 0.30929004896954965], [-0.3347658874228529, 0.08654414753435657, 0.45289931592310484], [-0.6517033363206478, 0.30099421227228024, 0.2993223710058483], [-0.14541517842327276, -0.5225571974698041, 0.451078290259234], [-0.19676376503105472, -0.8697955798136372, 0.2676674715972525], [0.379235404031292, -0.317453009016254, 0.4597913062101174], [0.7468620500319711, -0.32531456372949297, 0.31252558645952916], [0.0, 0.0, 0.0]], [[0.06035069857532817, -0.19753440645486633, 0.39686677709364326], [0.2876600161649943, 0.1455208083422338, 0.3707151559404276], [0.586064660090469, 0.38487088470409625, 0.2266138309312681], [-0.3214617519144357, 0.004963948389978921, 0.3948994500060911], [-0.6559122766980583, 0.18463727858847215, 0.23531118056176678], [-0.10400861917925436, -0.5859041078922662, 0.43673550446178905], [-0.21596125020870957, -0.9133326819479209, 0.27098186014745385], [0.4494739660702286, -0.3236597612987363, 0.4018425317959241], [0.818941359320997, -0.33139716947811126, 0.24142034260002307], [0.0, 0.0, 0.0]], [[0.15359048667343983, -0.26248881900479865, 0.40388065299395753], [0.36685557370728983, 0.10289759960673446, 0.3888400232143563], [0.5863978794342227, 0.40670850822757165, 0.23950697423710393], [-0.23356687311209623, -0.06641275136885431, 0.38314233838298056], [-0.584671557764296, 0.09836186454735138, 0.2303877623917199], [-0.05530924424662963, -0.6299134404462042, 0.44751020225465177], [-0.24069277498608732, -0.9239502114541007, 0.27287709253761844], [0.5510482258432136, -0.3866846348201208, 0.4201902210404735], [0.9369115743732424, -0.3932983150576886, 0.2743871589140372], [0.0, 0.0, 0.0]], [[0.2680539391398725, -0.3361806623289969, 0.47146243379623437], [0.4557730863542808, 0.045447987539972, 0.42818855796511174], [0.6106035623315211, 0.38443390443724695, 0.24712123810042347], [-0.10372642575356833, -0.1435812215298333, 0.4263871357880435], [-0.43528199795551753, 0.01445624182932722, 0.24462382814707526], [0.032685826765871645, -0.6807402552063179, 0.5055550452688153], [-0.18298439037379138, -0.9222896662762818, 0.29899051037069474], [0.657084455069098, -0.4624146227319065, 0.5095689961572216], [1.0482219710852383, -0.46974873921906657, 0.3857848387088032], [0.0, 0.0, 0.0]], [[0.3837312130436949, -0.40966376110456376, 0.5234376480850758], [0.5525674052618447, -0.025712941733447313, 0.4900272276413954], [0.6277155609131149, 0.31154754498522674, 0.2793271210771081], [0.017841229892846505, -0.19712762760152178, 0.4656213178515575], [-0.3023187898198238, -0.019693798192846293, 0.27433577473303977], [0.11386026609054437, -0.7289986192264472, 0.5458017413679455], [-0.12621323129728051, -0.9116869638346579, 0.31466680234251937], [0.7680617504417715, -0.5450508167552055, 0.5714754952207036], [1.1657871637970323, -0.5567180692981631, 0.4643643066922834], [0.0, 0.0, 0.0]], [[0.4880443641273447, -0.476946967861837, 0.5677672091097075], [0.6300350968831817, -0.10006063152692148, 0.5383689092272254], [0.6502104245565918, 0.21220069216159618, 0.30149401660062947], [0.14181394420643567, -0.2485334614145493, 0.497510258419253], [-0.14931065427806187, -0.04603709368498941, 0.29167856089332067], [0.21104555847975925, -0.775114994772021, 0.5739646333828959], [-0.025071723861699792, -0.938389507880226, 0.3265445577638195], [0.8654895867579823, -0.6472022686847959, 0.6299148817960238], [1.261696771461326, -0.7092950158839407, 0.5366934118708832], [0.0, 0.0, 0.0]], [[0.5639211156434443, -0.535898559927187, 0.5847713785215246], [0.7487739282803125, -0.15276730952622206, 0.5553450727060515], [0.9110339976841946, 0.14015867933848516, 0.33634416763646013], [0.20911326319917434, -0.32146052714676326, 0.5153868094854753], [-0.06183825418977509, -0.09154589496839716, 0.3105843113848523], [0.33401298694332454, -0.8896597626222991, 0.5985317528913213], [0.14857093034108354, -1.1426738839605033, 0.3741123174164146], [0.953266179823342, -0.6748246532710087, 0.6560622982589912], [1.3525082905592831, -0.7314188016345153, 0.5745030049314443], [0.0, 0.0, 0.0]], [[0.6286965809893761, -0.5823226393610121, 0.5713251643873839], [0.9005000774920048, -0.26333915206540875, 0.5670754737359003], [1.244281258275776, -0.07104761039945444, 0.4399948165898898], [0.28470664219113584, -0.3433682116498974, 0.49652479107655384], [0.022550074835530332, -0.11665381228307707, 0.27749147236167254], [0.44790894957394756, -0.9652233169651041, 0.5959876919819774], [0.40083528018784975, -1.3296621440077847, 0.43755318057992], [1.005412674558247, -0.7350105509916892, 0.6417156383683469], [1.4052861626061552, -0.7754058669775293, 0.5574869142826597], [0.0, 0.0, 0.0]], [[0.7066915731196747, -0.6391790323043136, 0.5511424780043528], [0.9957428612764019, -0.3671736831476109, 0.5688801810192106], [1.3654361025133335, -0.23346487637593594, 0.4598274925993025], [0.3602495923037044, -0.3866940325619238, 0.4893827752000877], [0.1036043570067867, -0.1478987421331537, 0.27485507174762663], [0.5635808447379848, -1.009104541872926, 0.5614969352442903], [0.5740241702967527, -1.3999823179042166, 0.4473625141837204], [1.073999075546805, -0.798948481806246, 0.608806302074068], [1.4704255252039482, -0.8372540185136111, 0.5191138844449918], [0.0, 0.0, 0.0]], [[0.8169038631166166, -0.7230345224678998, 0.5239003816554865], [1.0488540457067197, -0.35764608802604847, 0.5428510001419364], [1.284220048451398, -0.0914977651594455, 0.3622699772713905], [0.4774578468864428, -0.4826655698170336, 0.457081384610746], [0.23405781614838203, -0.2160243879077517, 0.25834780334304724], [0.5993054370224108, -1.0973986218999303, 0.5178312801602601], [0.4169313095986354, -1.4406819177074275, 0.3693413204113374], [1.1980476144764063, -0.8741218013518651, 0.5857523538644684], [1.6002438997830308, -0.911930224629938, 0.5057202233070056], [0.0, 0.0, 0.0]], [[0.9331825331029157, -0.8042588106219032, 0.488559285264838], [1.1159559562005847, -0.40697181606987276, 0.525795191239804], [1.2234543317434865, -0.11253746306125433, 0.31156154383746804], [0.5982874116670197, -0.5596134384973688, 0.43316613661363146], [0.366905266843087, -0.27541346904929015, 0.24949826118438614], [0.6657743558007944, -1.1412135208901266, 0.4745806694773889], [0.3778747628005382, -1.3452310789807702, 0.2758103086361454], [1.31438224385859, -0.9505636520176582, 0.5378143721505864], [1.7155036919886986, -0.9627952889171555, 0.4453135475976175], [0.0, 0.0, 0.0]], [[1.052048492038893, -0.8821447849954556, 0.49962842796072693], [1.2068705027045168, -0.5065316019578464, 0.5216019572329958], [1.2418756454173752, -0.19499788434139456, 0.30072192483799776], [0.7314343555546289, -0.6214827971354407, 0.4555238303209089], [0.5044850392754355, -0.3279021829608989, 0.2815778532009567], [0.7637437268724603, -1.1757348507842313, 0.46042971621186435], [0.44146515213024284, -1.3393732343736695, 0.2612991468165922], [1.4276817961413646, -1.0503208005274847, 0.5539351418854377], [1.829174280565788, -1.0887124136126138, 0.472223429474743], [0.0, 0.0, 0.0]], [[1.1525888389273964, -0.9493344905522948, 0.49986769301127726], [1.2959693116951376, -0.5583475197763442, 0.5235082736925892], [1.348365732621551, -0.2208419999044335, 0.328101562358095], [0.8104331651640136, -0.7086993670155131, 0.46797937957487], [0.5749429612191084, -0.4111568620080095, 0.3059160354940503], [0.901482850564507, -1.2744051872680942, 0.4644655671587626], [0.5902332731657546, -1.4780473367287323, 0.2850314491547706], [1.5382289266905191, -1.1128947929342101, 0.536509035045375], [1.926904290481846, -1.1950548593447898, 0.43092706552871046], [0.0, 0.0, 0.0]], [[1.2347502761051892, -1.0136263267071488, 0.47519218620170106], [1.4288938504997784, -0.6353815952887268, 0.4981143689796941], [1.5872760447932397, -0.2868007841369128, 0.3552020878793907], [0.9032864940952827, -0.7634002853479036, 0.4525106718718884], [0.6805091891858446, -0.46030045145664555, 0.29062965317155076], [1.0069129669811108, -1.3697013369565922, 0.4440163944576811], [0.7887163670621479, -1.674082163263878, 0.27050738596172674], [1.6202725758605354, -1.187874340180775, 0.5064952252447305], [1.9943121331722313, -1.265277821655094, 0.36823564534165704], [0.0, 0.0, 0.0]], [[1.3020498142353933, -1.0658098488396461, 0.42424725294722293], [1.5544794467560121, -0.7369796499479891, 0.4598082483329294], [1.9083192383562435, -0.5429014692628875, 0.356486271662157], [0.9589002226403455, -0.8326392545993362, 0.42086588938804603], [0.7309492666567365, -0.5388658027459464, 0.25916079297335054], [1.1627276184068036, -1.4662781702573466, 0.4091454820282135], [1.1195152645058872, -1.8498905428606147, 0.26032753966370475], [1.6927197031383365, -1.2135346814469803, 0.4269194108197447], [2.0548069617134215, -1.2661832006953928, 0.25796510566439473], [0.0, 0.0, 0.0]], [[1.3942725323296694, -1.1386645196642011, 0.3748389196360722], [1.6833070885580925, -0.8485841270779809, 0.37553220733197634], [2.0281545929270233, -0.665852158599718, 0.23413762958868625], [1.061559999735076, -0.870296576029407, 0.39731132973943484], [0.8102964781593864, -0.5890030714630056, 0.24357930774881606], [1.244917178857299, -1.5035005565018904, 0.37043583937827224], [1.2172069702968655, -1.867800356271185, 0.22624624579509325], [1.754156989671171, -1.306583728197762, 0.3728967563789031], [2.1168162598668516, -1.3410860642054594, 0.23151374111495507], [0.0, 0.0, 0.0]], [[1.4909061631962897, -1.1803286084741105, 0.36763268405251953], [1.7564927126684167, -0.8435599979636615, 0.38315062395982513], [2.02855079199622, -0.5780454396562438, 0.23744638591568928], [1.1618157685096242, -0.9141357175167599, 0.36919364772659946], [0.9079595274431772, -0.6136795209371624, 0.23584421201278422], [1.3019027450781082, -1.5510972460282988, 0.37427600147628287], [1.2103950918779611, -1.9158295055151375, 0.2290344344379765], [1.8669472843112125, -1.3523385994170127, 0.3650479630057314], [2.2466233307381667, -1.3924810971900365, 0.22302379182884616], [0.0, 0.0, 0.0]], [[1.6230512245285706, -1.2225086736871535, 0.4080684797788843], [1.854669388857343, -0.8742167876286681, 0.418062039234566], [2.0479094382014944, -0.5691692654341969, 0.25094673690049935], [1.301813130327496, -0.9545449116990837, 0.38688196725951596], [1.0590030660389966, -0.6571347266162592, 0.23124356344080535], [1.3953938227615796, -1.5823504888835809, 0.4015852164390225], [1.2243091628792, -1.916699522237186, 0.23957460334224978], [1.9971848766394198, -1.3839230024264806, 0.425438982123632], [2.383636847948363, -1.4048177373202508, 0.2917748482819448], [0.0, 0.0, 0.0]], [[1.7613709139163363, -1.2753124582873516, 0.45008323167952186], [1.950912394128666, -0.8977601249033074, 0.46284225705312887], [2.0533906554379624, -0.5629451620347565, 0.2716602893864768], [1.435769204167414, -1.0120829148883488, 0.4117074219263746], [1.2002685121905103, -0.7207819436473174, 0.2414532069784355], [1.5051411278341036, -1.6186527352211892, 0.4390946565832954], [1.2623765579224688, -1.8921284966871483, 0.2594499226050454], [2.134910011241685, -1.4429034523216937, 0.4869309127169455], [2.52983830530475, -1.4821914582326112, 0.3808921651005728], [0.0, 0.0, 0.0]], [[1.8984289019125424, -1.3401716138433448, 0.5009638092075892], [2.030161954048544, -0.9487041503564876, 0.5037342247837769], [2.044689470156864, -0.6173545584683213, 0.28953853856679856], [1.5666087278010898, -1.092774792488553, 0.44139556615930636], [1.339915903949874, -0.8036613873404465, 0.2526109321365321], [1.6313875667755626, -1.655162387636005, 0.4817602358220485], [1.3324140458194063, -1.8375138492818968, 0.274445949606069], [2.2813236020528587, -1.49527840328184, 0.5607200622237033], [2.6794195523434157, -1.5409161394539515, 0.47281892089537464], [0.0, 0.0, 0.0]], [[2.0132558441919803, -1.3926468281268591, 0.5386191196353335], [2.1669814808656023, -1.0078978712249045, 0.5344253454875261], [2.2209228814589053, -0.6932046278290344, 0.30858173051646515], [1.6826264971536578, -1.1424101138829261, 0.4697319109368499], [1.4633215001225273, -0.8522728404761581, 0.2725398227009999], [1.7541802961724418, -1.7192510241226189, 0.521846655802548], [1.4938406085078655, -1.9248224421393714, 0.2986723047913694], [2.3931583078475156, -1.5358421207322244, 0.6101905644058747], [2.7949154270492995, -1.553916295802808, 0.5334692585863432], [0.0, 0.0, 0.0]], [[2.1131538564542307, -1.4372874578783152, 0.546915283752634], [2.301545067090636, -1.0607469080092193, 0.5437932968110248], [2.4635690486796635, -0.7595475025388609, 0.34333211338379754], [1.7957658384105464, -1.1920460862312274, 0.46755797495749296], [1.6057376819253095, -0.8983149781993209, 0.2582979962137968], [1.8893740188722778, -1.7963382755955493, 0.5378694770262976], [1.7230716167497158, -2.0960898048128342, 0.3346122343411133], [2.497800137862578, -1.5689872004665046, 0.6291548070967203], [2.905713944917968, -1.5725236847546915, 0.5616672492147755], [0.0, 0.0, 0.0]], [[2.1863992240871566, -1.470710427290943, 0.5324851496262794], [2.426833974632511, -1.132200713971845, 0.5428649640184567], [2.7669522707998553, -0.9332804907609425, 0.42412796102557937], [1.8525640412491469, -1.2329409962482458, 0.45900290753478845], [1.6621671553849353, -0.9245468661672783, 0.2597235586713063], [2.074745607920199, -1.8721694804336262, 0.5480178001200164], [2.1197924146623786, -2.25894736699057, 0.4213339074055525], [2.5761351114711064, -1.5881617879622727, 0.6090091080509663], [2.9798704365432305, -1.598540416912239, 0.5330646750220785], [0.0, 0.0, 0.0]], [[2.292641087220457, -1.524321552195419, 0.5155389042148559], [2.531102301425454, -1.1879947793440688, 0.5354582812579557], [2.8548553655040307, -0.9573090616882729, 0.432686805754821], [1.9586340473842327, -1.2811747100144717, 0.45022952679175227], [1.764184415473486, -0.9721646500343994, 0.25627421152831764], [2.1765378150790275, -1.916510519796859, 0.5254218356220235], [2.201543329686699, -2.311385939492485, 0.4171416239798467], [2.6762556460843387, -1.6338630796926168, 0.5797667619729285], [3.073808944547332, -1.602914296035029, 0.49199057027106036], [0.0, 0.0, 0.0]], [[2.4214159589508024, -1.5808734971458795, 0.48634178014590534], [2.598723899672653, -1.197717266043313, 0.5030067013443745], [2.795239795187421, -0.8949356118930951, 0.3353411690796236], [2.0731722983717793, -1.3588930065860745, 0.4274503336904933], [1.854126931896515, -1.0565924988695898, 0.2462198632465454], [2.2579719266937217, -1.9720470912120969, 0.48085545368741556], [2.132468307925507, -2.320332860838127, 0.31444166094491705], [2.815886532446647, -1.6738617258417992, 0.5513940458663703], [3.216270668207582, -1.6362048640374116, 0.4717290121775256], [0.0, 0.0, 0.0]], [[2.559742715513574, -1.642506679905635, 0.4709148799510687], [2.691092811227304, -1.2226315843177586, 0.5008437047402523], [2.767782732023379, -0.9018067946109245, 0.29724488647059094], [2.2015450522145548, -1.4302888406237084, 0.4179199315635924], [1.9651642687688338, -1.1381122814440434, 0.2412058802672768], [2.357624012389833, -2.0246180982140003, 0.46346044433122535], [2.1402559948851234, -2.306669409431637, 0.27312311020039354], [2.955637600782639, -1.723353290306266, 0.5128237008593227], [3.3498376482127536, -1.66951380809233, 0.41109250207160525], [0.0, 0.0, 0.0]], [[2.7268866978749577, -1.7139012494677766, 0.5102418451576409], [2.7978374033737454, -1.3056487300737243, 0.5204649126684938], [2.7540471328118246, -0.9861040221474958, 0.30003699440845943], [2.3737715280015204, -1.5089200634198068, 0.4632656543114383], [2.1440129926523075, -1.2185880731951975, 0.2857325147109481], [2.505067075949922, -2.0557587942793587, 0.4884209458719588], [2.2308022446145643, -2.2644993431513587, 0.27840324803991046], [3.128760879782756, -1.7913688986068834, 0.5619486095584433], [3.5217356878218453, -1.7305664886942662, 0.4625218779914691], [0.0, 0.0, 0.0]], [[2.8699906469917233, -1.7718333847997059, 0.5366982493566973], [2.9555454612372114, -1.3632213356685539, 0.54278546553641], [2.9572129169272596, -1.0187626917569752, 0.3438484131473061], [2.5127669412003724, -1.566872933919934, 0.5054035291235611], [2.2805996501450743, -1.2655596810030918, 0.34533224628142367], [2.6833180410280923, -2.144818654082465, 0.5166968225905598], [2.461536482486856, -2.4116960961946634, 0.3123210061678448], [3.2734797443602437, -1.8403724489239102, 0.5814021306208351], [3.6669375019129156, -1.7752342600268753, 0.4837847277557859], [0.0, 0.0, 0.0]], [[2.99586094638123, -1.8213560193594867, 0.5362967118638278], [3.1471017688335974, -1.4228681452593777, 0.5565929978325364], [3.31675112106401, -1.0732673305418794, 0.4233447868156981], [2.632127492080503, -1.6271775130124972, 0.5086820857649246], [2.385047388814027, -1.351108771723957, 0.33680328415610333], [2.8630281689462764, -2.227409834519274, 0.5191355068385796], [2.7676960269422866, -2.5979125645032024, 0.3629473536359405], [3.4009372784488985, -1.8854760111607893, 0.5695567638278911], [3.786405785730551, -1.8104966265853557, 0.4528705412080231], [0.0, 0.0, 0.0]], [[3.1140758228689567, -1.8684497631848254, 0.5160014027479984], [3.33053640288914, -1.519812465584817, 0.5467887308753516], [3.6583686255256356, -1.2977374579306515, 0.4352957981032139], [2.74416308532437, -1.6773310406372397, 0.5009615539720157], [2.48562441159124, -1.428269156510037, 0.31953288979028727], [3.0602618151939787, -2.2750094839693276, 0.5009263717041842], [3.1838511517177506, -2.6436047002958647, 0.350845345545166], [3.5177211509270747, -1.9361963178127752, 0.5285922756751688], [3.9028209082708805, -1.851223777639904, 0.40328702777398284], [0.0, 0.0, 0.0]], [[3.2871030396642396, -1.936520261507551, 0.47427570805882785], [3.4627302871188648, -1.5475130392692185, 0.5011788688704618], [3.7069209264034817, -1.2464857006575112, 0.36539498964996664], [2.915106374257604, -1.7514674185275727, 0.46792381846802994], [2.6510268276539954, -1.504212615113645, 0.2917869790902544], [3.193067470343017, -2.3507710148141943, 0.45021470668881375], [3.215635176788648, -2.726174812632161, 0.2810247323244064], [3.6946951085087294, -2.0046850984159836, 0.4888121123185884], [4.080294497870085, -1.9215747590507468, 0.3694942933960431], [0.0, 0.0, 0.0]], [[3.470888895645271, -2.010490786948895, 0.41806122883354574], [3.588591308363659, -1.6054873469075526, 0.4457418207810753], [3.6950180761892333, -1.2721235737458683, 0.26615919242813735], [3.0831356421358915, -1.837950707445808, 0.40958955865781405], [2.8040120266980346, -1.5845541042925189, 0.24459785120414665], [3.37114871382656, -2.4269302589314856, 0.41953791863486417], [3.285087170223115, -2.780497199064684, 0.2594675105159557], [3.8732046266457205, -2.054082456593608, 0.4253109341098065], [4.250220882629249, -1.9623869078875478, 0.2996052275273426], [0.0, 0.0, 0.0]], [[3.7242648372231457, -2.083912368012901, 0.4335892065196776], [3.7677701279773985, -1.650825333835226, 0.4534396879462101], [3.747498894384329, -1.2934625908436566, 0.2710934241072394], [3.336401016309553, -1.9435572439208535, 0.4032791031527853], [3.036719321972885, -1.7109904273165255, 0.2439312751145088], [3.5734567051471595, -2.482603551234847, 0.4225022337669165], [3.3605519158421147, -2.7919620283577973, 0.24716256596752081], [4.13884207579765, -2.109864948749697, 0.4616541680103569], [4.522775750612086, -2.0203145329203975, 0.34297412617564155], [0.0, 0.0, 0.0]], [[3.9835206861162002, -2.133629745279562, 0.47073566831674085], [3.981557260307404, -1.732887307575847, 0.46970842185690215], [3.8538911042968143, -1.410851307482103, 0.27185110713282734], [3.5927558626033327, -1.9947312821309324, 0.4300211250697777], [3.2877812218395155, -1.7816461359906501, 0.25339896423265024], [3.816301565707573, -2.498997233138516, 0.46050448115924564], [3.564262551180596, -2.74534517660377, 0.26789380319774053], [4.393705164984282, -2.155063604487229, 0.5090568632312671], [4.7750776339407155, -2.044937969318425, 0.4031250719867716], [0.0, 0.0, 0.0]], [[4.2014847782373, -2.175238300172226, 0.48692120630103086], [4.2348309541230496, -1.752119617157511, 0.4845224641028933], [4.216147494299281, -1.396930696878023, 0.292912454177758], [3.799904772775924, -2.051835266118386, 0.4507814625937977], [3.4834378202509515, -1.8491586541152853, 0.2795824029300401], [4.084512812922756, -2.579706423653975, 0.47181262553373826], [3.921422019942652, -2.9008981781905487, 0.281051275378161], [4.607672355865499, -2.176349278688189, 0.5299862403309], [4.982072809631097, -2.046650635425419, 0.42777256125884994], [0.0, 0.0, 0.0]], [[4.4038373296755795, -2.2124325487989394, 0.47390417838087345], [4.494251062683883, -1.7967885229131804, 0.4818334258463254], [4.651450454466951, -1.440214361841167, 0.34679163105752553], [3.9959967981206646, -2.1060696439373254, 0.4355773519515153], [3.676233617950919, -1.9224653488751131, 0.25303818016965096], [4.356192845197802, -2.637978616635679, 0.470670905334829], [4.345066223036881, -3.0298712967054175, 0.3346998819424904], [4.813325080185797, -2.193875165071297, 0.5187601265398853], [5.184165134903584, -2.045863632052018, 0.4178658473977859], [0.0, 0.0, 0.0]], [[4.593346206182009, -2.2466712310173107, 0.4560681272809834], [4.742380036221827, -1.8725327797150644, 0.47183890976098347], [5.02848523736542, -1.6030011265798476, 0.35482545092270756], [4.185816299581255, -2.138498752930654, 0.42094540688032744], [3.8577180831720477, -1.9638342141928522, 0.24406869748927187], [4.618564204023257, -2.6527606622235855, 0.4582758624583934], [4.815565624018188, -2.9941435521406614, 0.3309426333734196], [4.999706872051349, -2.2331030400403358, 0.4876754370924548], [5.364610628293666, -2.0814514896646883, 0.37285441812712034], [0.0, 0.0, 0.0]], [[4.829560175395518, -2.288864796781235, 0.4225174951235324], [4.9051719097058575, -1.8670963841274508, 0.4358910144730258], [5.066663529921869, -1.526604814888815, 0.2794967371349665], [4.4252996454609, -2.1990939804135654, 0.3975314863694624], [4.097390090164082, -2.010398728122353, 0.2385560501728547], [4.84018341374933, -2.7163798988237224, 0.4177821450253847], [4.9531706190316305, -3.083386718702592, 0.26572131037635627], [5.247191159848496, -2.264230322959502, 0.451940374302677], [5.62282555114329, -2.129723303319457, 0.34190980228083045], [0.0, 0.0, 0.0]], [[5.089657058140021, -2.3251543790481506, 0.396627002951251], [5.105923491021082, -1.8917711884006903, 0.4266955312134776], [5.124406704509597, -1.5294517878248552, 0.2635324621099826], [4.675165266691602, -2.2438735441904933, 0.374038332924004], [4.340188368519497, -2.045395794585231, 0.2247022272202441], [5.072059734315765, -2.755322386019861, 0.4091935017253426], [5.045116233299828, -3.1208636782835795, 0.25494219077358204], [5.496417748307815, -2.287943185042461, 0.406206320255513], [5.858531373728509, -2.1459507065054266, 0.2781732165100671], [0.0, 0.0, 0.0]], [[5.397442354568777, -2.3476385592100413, 0.4502647046216152], [5.33673575102101, -1.9316244799025482, 0.4610034026010512], [5.181024640381075, -1.6115707069064815, 0.2715915842323536], [4.99386595275722, -2.269400429050542, 0.42688920376806655], [4.666176673902377, -2.082002645539172, 0.26576893519756656], [5.315961511140599, -2.7622215235373138, 0.43087257851272465], [5.146338229750742, -3.0944757798396245, 0.2515034170700337], [5.815510536223263, -2.3109989000889426, 0.4783956791596774], [6.189907140787997, -2.1807402265739113, 0.36496631855748574], [0.0, 0.0, 0.0]], [[5.678804177530658, -2.365615112394494, 0.49531609529945075], [5.603909515533951, -1.965646358159307, 0.4982336750471384], [5.44856105188306, -1.6712837337175757, 0.2897146441109911], [5.273689009960437, -2.305963358697815, 0.4768407681634979], [4.936937615215702, -2.1336473098881266, 0.3220772035416868], [5.604177378095522, -2.76441143864833, 0.48655600045244696], [5.440402240821245, -3.071438632299989, 0.29189248011398816], [6.101007307678952, -2.3218522206149577, 0.5143520704629555], [6.479270110029697, -2.206507892814272, 0.39054761116682635], [0.0, 0.0, 0.0]], [[5.932372047478127, -2.38595628292108, 0.5118298866285197], [5.9035384969465365, -1.962885695342209, 0.5101968786378478], [5.884934376748147, -1.6122366696033918, 0.31886433258795754], [5.524322263657758, -2.341116486368094, 0.49859446650980527], [5.180756877635352, -2.1780329080876264, 0.3457346856054983], [5.9295857116358865, -2.8067250700875044, 0.507209063596605], [5.897854000768251, -3.159314141093033, 0.31898874602882527], [6.3533206920238, -2.331396451249447, 0.5307610504432236], [6.731207611910972, -2.219816265046283, 0.4079450168398361], [0.0, 0.0, 0.0]], [[6.172166306325951, -2.405702076268397, 0.5014981879746327], [6.236043218911071, -1.9966113926990372, 0.503943621656885], [6.43688326960489, -1.663780278948726, 0.3617109219049538], [5.7565410209476475, -2.360115760975985, 0.4962276027345935], [5.41043965990504, -2.2089405528053607, 0.3361597236614705], [6.2517957649844575, -2.820111938656948, 0.5025316515926865], [6.432699101784419, -3.164931012416826, 0.35940088164615935], [6.585507387177935, -2.348724139872655, 0.5060796998100194], [6.950912521115805, -2.2250351243319497, 0.36777480253656364], [0.0, 0.0, 0.0]], [[6.455282608982451, -2.430034584775539, 0.4725964692991288], [6.518185722853699, -2.024795964569947, 0.4723098784500366], [6.689681442558763, -1.6821793394752926, 0.327667971838686], [6.039144702028371, -2.37333599947204, 0.46783197653588554], [5.704175976005664, -2.2153594526474927, 0.2958131618804491], [6.530687185272653, -2.8299053256136983, 0.47601422773277424], [6.711177480635482, -3.166447440257348, 0.3324424935935773], [6.865211440591797, -2.3794801314450384, 0.4722451638904172], [7.2246394695026455, -2.247605909458274, 0.3297388754055154], [0.0, 0.0, 0.0]], [[6.766033245141292, -2.453478496016352, 0.42036121280735794], [6.762727202370084, -2.029817276864941, 0.4189518447618341], [6.782854783681581, -1.6621855976893614, 0.2540227584714626], [6.35604930200822, -2.3968539827887825, 0.4087462321974481], [6.021835438419062, -2.222718845740918, 0.2430056647846223], [6.787656104255185, -2.8773647564926277, 0.42850348323759474], [6.812271148632812, -3.2390027375517088, 0.25578904849769385], [7.174199047379963, -2.385816109930844, 0.42754279414179847], [7.530404094178309, -2.233522140347303, 0.29428242397118165], [0.0, 0.0, 0.0]], [[7.096291848571968, -2.4584274551816216, 0.41333044409735165], [7.02860865613102, -2.02631650515803, 0.4246724940919837], [6.877046974051343, -1.6801584763140753, 0.25837098940018666], [6.689261658048891, -2.40201495017292, 0.3976270933238513], [6.3464932819066115, -2.232993854366929, 0.24702771408069502], [7.04119696965944, -2.8977357923449225, 0.4287951037664012], [6.904671791516384, -3.249823822455164, 0.25914573181776146], [7.5111170306759085, -2.3997450212812126, 0.41966234726722285], [7.874525383183074, -2.2570589637247394, 0.28497323806034525], [0.0, 0.0, 0.0]], [[7.405596018305497, -2.4659517879752, 0.4419964765858205], [7.307766896703499, -2.0811529065266194, 0.4447520211735023], [7.105408862220955, -1.7876502198062423, 0.26551885284327514], [6.999725972462191, -2.416874274237382, 0.43426502761016184], [6.654726283452121, -2.2552652821229824, 0.286130751197349], [7.332641729409759, -2.8506593864569885, 0.4360243264964994], [7.147317592035781, -3.1530024306364894, 0.2565489306198825], [7.828709604196678, -2.4145776015054015, 0.4514395677464838], [8.202584663667137, -2.2956471751575496, 0.3194692827857499], [0.0, 0.0, 0.0]], [[7.6679086330699695, -2.479651181379357, 0.4429989201923806], [7.638131502214993, -2.050599575907627, 0.4388928418139082], [7.625503859625719, -1.669921038271115, 0.2789727152657403], [7.260043842111525, -2.4363820302605594, 0.4513972940319688], [6.915186973060605, -2.260662877058022, 0.3155876872697158], [7.685612613808727, -2.907944492870035, 0.43884483655419787], [7.678843662687558, -3.2845953898947315, 0.27470216024974276], [8.08589297489109, -2.415546211765054, 0.4406092607621558], [8.454739295106732, -2.2981297111326398, 0.2989011588566092], [0.0, 0.0, 0.0]], [[7.920676464609448, -2.4890658907189764, 0.4192947175429538], [8.021842794497012, -2.0914045253541307, 0.42881158111026857], [8.259972438030571, -1.7838628257201972, 0.2937434840425448], [7.503542797234666, -2.4279839793206683, 0.4364623332139715], [7.1525291552779215, -2.2734817957163673, 0.29649399585966546], [8.006428353108117, -2.8928644346508214, 0.4205509581055653], [8.242043621748477, -3.2103733587356404, 0.2778824929440262], [8.331825548575539, -2.4446884516312037, 0.3979376359087766], [8.686290966643424, -2.31092084738626, 0.2358511087843293], [0.0, 0.0, 0.0]], [[8.242219349991755, -2.4966106816256817, 0.38927850676192993], [8.295675534867248, -2.0881262925949877, 0.4039281125737078], [8.424424883062905, -1.7575739470912288, 0.24516632198006677], [7.833868822504517, -2.433696315755154, 0.39314885108999204], [7.484760194849471, -2.274403598863176, 0.2533328796815289], [8.275665117054409, -2.905724987385583, 0.4015048891686328], [8.396831856315083, -3.242732566768301, 0.24667459844551215], [8.661114891899551, -2.4573125468220707, 0.37930183757755326], [9.025145080934646, -2.3263315423102293, 0.23178259337660514], [0.0, 0.0, 0.0]], [[8.552175797153737, -2.5007164947033407, 0.40905154456986864], [8.56635210068994, -2.0891356360728115, 0.4256001783125925], [8.542293583567819, -1.7439409343348067, 0.25788740978163993], [8.139326831392324, -2.4219403193354667, 0.4087369954541274], [7.789297799730299, -2.254837480610049, 0.2672398172054159], [8.528725569255037, -2.914440268609322, 0.41476880609055705], [8.502360745095492, -3.2697935007300916, 0.25093376097358905], [8.960910107132456, -2.466007386055203, 0.40340178844848557], [9.313518242839393, -2.3199283803625685, 0.2553725208719456], [0.0, 0.0, 0.0]], [[8.877553677729662, -2.506790499301218, 0.46302702994850414], [8.809719734405, -2.1005334706748786, 0.4672449514432465], [8.627712971359875, -1.801541875232335, 0.27278051436718154], [8.473931437151439, -2.4258972506640406, 0.4537180575269015], [8.134671692722813, -2.248262763858753, 0.3052415709161665], [8.781708068096984, -2.91997322212984, 0.4565383609162732], [8.596177403766267, -3.232374384865069, 0.2677241952707568], [9.295579060346729, -2.4661389339304685, 0.47722218896201657], [9.645172292716447, -2.313906185136217, 0.3315791396745975], [0.0, 0.0, 0.0]], [[9.165485129112414, -2.516992986673829, 0.49837203367530364], [9.107951062321973, -2.1065104429466825, 0.49957529646821897], [8.965536580647337, -1.8041021370987012, 0.2928558411516089], [8.755345837754524, -2.454444772958381, 0.49066160579394835], [8.409001523291595, -2.2867755061077397, 0.34409172898475116], [9.093454855755414, -2.9243177461155523, 0.49454712737955386], [8.937765549606707, -3.222075965069975, 0.2863791085896762], [9.574497193196025, -2.459977885521954, 0.507523933664858], [9.922748219079544, -2.293755643544812, 0.37209775300827286], [0.0, 0.0, 0.0]], [[9.436353609728494, -2.5261345397938753, 0.5082307042067942], [9.418772287393006, -2.107214637004913, 0.49870162899528886], [9.364610239399646, -1.7522580870848765, 0.3149495796156713], [9.030117429746618, -2.4573627939631613, 0.4923487769105925], [8.691825946471088, -2.292430185035807, 0.3319295077832067], [9.403226935087678, -2.944572611970194, 0.5103764011897661], [9.360808730312332, -3.2794153496193768, 0.30794499949793], [9.849644691545054, -2.4707670799347112, 0.5246640649194794], [10.202042287803124, -2.2993099473352294, 0.39456231682877824], [0.0, 0.0, 0.0]], [[9.68928009878724, -2.536459531232832, 0.4899040208286344], [9.746240759853269, -2.116421018560206, 0.4858455115111566], [9.889610973739064, -1.7502573400335495, 0.35147604482781936], [9.279462986108932, -2.464665993645033, 0.4786865572311971], [8.959634206820876, -2.2941866247958966, 0.2964188432168997], [9.744184159764448, -2.952761651133321, 0.4986226739022915], [9.897781289763634, -3.289167484945887, 0.3306258266757241], [10.096268164985782, -2.4758880029564487, 0.4989251937333557], [10.442033648401338, -2.2995187852732877, 0.36347502271270554], [0.0, 0.0, 0.0]], [[9.965687751251732, -2.543186510479082, 0.45299041420293834], [10.049483775597878, -2.1574639911844935, 0.45131721674101855], [10.25842707448895, -1.840688393125103, 0.30616944263995827], [9.546466756601081, -2.4788643496097023, 0.4536454555293977], [9.228940197806086, -2.3128072031878606, 0.2694608472481367], [10.063862081726048, -2.931002918832806, 0.4524271686658024], [10.28974692068564, -3.248087046079443, 0.31564387911552827], [10.364872845962779, -2.4669816710826615, 0.46018977398856153], [10.698463874939291, -2.269985732913426, 0.32444734721417695], [0.0, 0.0, 0.0]], [[10.28342045904673, -2.548640203478737, 0.4062581480902259], [10.279029869588337, -2.1141085698441073, 0.4151840109497133], [10.288204330947739, -1.7456214235177645, 0.2410155465678213], [9.87589312691756, -2.496059805671539, 0.39167881191231374], [9.537623485664003, -2.3224350330284413, 0.23768611251837027], [10.299989405262938, -2.981437540231309, 0.4013272912174768], [10.31779817008929, -3.3688788221979, 0.25165567095314156], [10.687476253958643, -2.466053637593046, 0.41725737035335975], [11.023798368155363, -2.2645520525032543, 0.2884636514281209], [0.0, 0.0, 0.0]], [[10.631266727715353, -2.5471694579131987, 0.3920302903712786], [10.544395515796499, -2.124968755114895, 0.42005317798196223], [10.36050481557991, -1.7988626413984963, 0.2567298924106938], [10.221663738580155, -2.490364755715313, 0.38509508507506485], [9.879779618333277, -2.3101749421978512, 0.24041679827503673], [10.571857686126876, -2.981644893977177, 0.39337382330801146], [10.392591707304573, -3.331579879285199, 0.24250817068899927], [11.038901627141955, -2.469192022136078, 0.38796353067811074], [11.37843712948632, -2.2768462273282144, 0.24916626642910378], [0.0, 0.0, 0.0]], [[10.945253093480433, -2.554937107959417, 0.41121157586247203], [10.865317016897983, -2.1577310583354232, 0.4339690071010199], [10.685514756708686, -1.845341112463107, 0.2679101141904761], [10.540870308258068, -2.499393534946538, 0.4254785241681803], [10.205177886279575, -2.3157698847368673, 0.28997397105787837], [10.8917242529077, -2.9552405125753505, 0.3925140929086428], [10.72651362948091, -3.2891738365972367, 0.23407302492866428], [11.358840581432476, -2.4835348397346113, 0.4100704746730331], [11.70704374593883, -2.303909051435549, 0.27749171547765017], [0.0, 0.0, 0.0]], [[11.2297427262586, -2.5655269698929213, 0.40899073852253365], [11.218272770144853, -2.143478540432896, 0.42413164858354135], [11.193609596217959, -1.7649185369663842, 0.27625850775358185], [10.830858864223542, -2.4965391021125813, 0.43681571791488744], [10.492122773313513, -2.29706532169281, 0.3257867907532166], [11.226752238654708, -2.989252439999965, 0.39349765538786063], [11.223107557523827, -3.37334030530832, 0.24429086357719632], [11.64365733676577, -2.5003369346186455, 0.3929166463001467], [11.982647817483386, -2.3230150647126107, 0.23946245188665677], [0.0, 0.0, 0.0]], [[11.484450563905517, -2.575071174871575, 0.3997976754980522], [11.591406593528772, -2.1775407767040695, 0.4051775965250113], [11.840026437030893, -1.8727845328685926, 0.2577453421248396], [11.081186505031614, -2.5014218026056527, 0.4356379249735119], [10.741449015532512, -2.3062745889641323, 0.31585929096527116], [11.570385416196334, -2.9742486823355576, 0.3908569357236684], [11.800291574399003, -3.2736612123555435, 0.23358643032389445], [11.86246892943773, -2.5134910678846767, 0.3846924854244529], [12.161234073707245, -2.3308746889644896, 0.23744039511900591], [0.0, 0.0, 0.0]], [[11.755395736017888, -2.588311301360938, 0.4248604082910089], [11.801541254094303, -2.1580966121739293, 0.43625114991355285], [11.921160474802736, -1.8060612944420904, 0.26577267443404723], [11.351847298216965, -2.5131055128715505, 0.4509920012558818], [11.001243525782563, -2.3226928767262462, 0.3436529335732176], [11.77172741859599, -3.0277608947954175, 0.4125667194305376], [11.856083374154228, -3.403156087972246, 0.2477525102940335], [12.173245848848083, -2.5223575280766264, 0.39745420102541856], [12.51434493980271, -2.335663543534581, 0.24101029216187697], [0.0, 0.0, 0.0]], [[12.020668533699839, -2.597471095239799, 0.4347770878249919], [12.032534319602798, -2.171230449486132, 0.45350079317586567], [12.033192417527252, -1.8199235198589445, 0.2709344970402207], [11.610892792837129, -2.527901751017473, 0.44662094799901186], [11.264605381670506, -2.3431143921258557, 0.31544405168257217], [12.004616867065991, -3.016120841970981, 0.4225654626381724], [11.961230530966041, -3.3782873867852166, 0.2497300887683061], [12.420779639137049, -2.5449874474246235, 0.4140669761673274], [12.755763349917823, -2.3803122634370264, 0.25518587046127894], [0.0, 0.0, 0.0]], [[12.298800936094917, -2.6018234542363468, 0.44435920859811856], [12.240010471266208, -2.1805815989928266, 0.465129001024771], [12.092495239737056, -1.8613705677919443, 0.27771859420262063], [11.891167614949135, -2.530457193257594, 0.4588782146957004], [11.546754221637567, -2.3406211156908214, 0.3360306341803516], [12.22389470404385, -3.0216276323355116, 0.4370479142027391], [12.044170720374835, -3.34436084102529, 0.2605315056847941], [12.717658522901164, -2.5559619220479726, 0.43717546336332547], [13.080537573380406, -2.4164644422431083, 0.2971581049709292], [0.0, 0.0, 0.0]], [[12.548437010300505, -2.6087497173131857, 0.4647959471699346], [12.469913217023567, -2.2139191134806917, 0.4865066345607787], [12.297280274656432, -1.932588043571962, 0.28843404159686803], [12.148109090449246, -2.53749102119605, 0.478183280595126], [11.81206671319315, -2.3439177127958426, 0.34952649598592944], [12.463214266962453, -3.002414655163994, 0.4559880725362305], [12.270225682247027, -3.293919454427052, 0.2688424765404611], [12.972731957481818, -2.57256083425957, 0.45265621900322506], [13.343514043393986, -2.463940325449234, 0.30344418514409033], [0.0, 0.0, 0.0]], [[12.743082547964889, -2.618635072089462, 0.4736733745527888], [12.747901147953804, -2.189816665986226, 0.4782700936662484], [12.757250323885488, -1.8325296014711345, 0.29145534097355036], [12.342216452792705, -2.5458788178729974, 0.5011778890612395], [12.00352772131907, -2.3471728651439814, 0.3848600008166993], [12.736889431675884, -3.046959141664916, 0.45912646860676365], [12.723350426708604, -3.4155530897217172, 0.28038484684673226], [13.16510262355208, -2.5833298054227782, 0.4557198586853842], [13.532543530949404, -2.481240539471416, 0.2999105680043654], [0.0, 0.0, 0.0]], [[12.92424479944717, -2.6257064724645245, 0.45628117162200976], [13.066504007292076, -2.2523261649161603, 0.4559672116711665], [13.34478075263136, -1.97545023584763, 0.31399292234695764], [12.513382405605356, -2.533136417934824, 0.500730564001508], [12.165202268522695, -2.34534690443862, 0.38610185894215415], [13.004103656189406, -3.0154711422448135, 0.45834054482929243], [13.24426690066552, -3.317533171624083, 0.3103910819849536], [13.332844283237453, -2.6083065730338815, 0.4115219880694862], [13.672209814513447, -2.49812387879822, 0.2378982201091094], [0.0, 0.0, 0.0]], [[13.18296378990615, -2.635189966689541, 0.43668279745003286], [13.236312138924813, -2.197272329314241, 0.44138032384378895], [13.317225251782949, -1.841620514878472, 0.2601480350353256], [12.786069807314183, -2.544618397502843, 0.46903202502107805], [12.448978319981991, -2.3441128822601875, 0.35717305356989115], [13.167708658377883, -3.077905307756432, 0.44439472308136546], [13.176087401131769, -3.44583497706036, 0.26459731679753334], [13.61121920967266, -2.6077918880290127, 0.40655129420833885], [13.97363021635593, -2.4823910678689645, 0.2390956133137857], [0.0, 0.0, 0.0]], [[13.465023409744528, -2.6517765485004015, 0.43572428914868405], [13.461283888828445, -2.2233012969710195, 0.4420594770798666], [13.38380417679562, -1.8705482600126189, 0.2634884765890951], [13.06702494204853, -2.5489140941823774, 0.4533018020031213], [12.742752684699528, -2.330957980560338, 0.3240254637548039], [13.380544641660476, -3.07172375180396, 0.44621497527435683], [13.222587360246619, -3.395850119198386, 0.2690613857491533], [13.871490516377879, -2.6185158434676024, 0.4116698087019331], [14.21012295436156, -2.462640389733575, 0.24437638314228058], [0.0, 0.0, 0.0]], [[13.740155382525433, -2.67177120644349, 0.4420282343143132], [13.692251031788478, -2.271066689449772, 0.44431267216443593], [13.500574832632644, -1.9692808419885959, 0.2670770829815882], [13.348334865388942, -2.553753734739065, 0.45144610573451105], [13.032432580799657, -2.325348991231689, 0.31603695179310537], [13.602251065658407, -3.051273944629896, 0.4567146453272908], [13.359409587212625, -3.3051809383489625, 0.2725845350761156], [14.152151772458426, -2.6474638607747476, 0.4281899186020674], [14.503517796759487, -2.496171857086563, 0.27672181743758634], [0.0, 0.0, 0.0]], [[13.950096062566644, -2.684273283638033, 0.4476765106465499], [13.958380209573802, -2.2553995093379853, 0.4292003711443599], [13.915208511454743, -1.8842237325548041, 0.25500778997598494], [13.551476508255996, -2.579585455249478, 0.46670303254560375], [13.227856568900766, -2.3614565007327455, 0.3347055921692628], [13.883633732980279, -3.1057903388196593, 0.4615492945133751], [13.771495914175555, -3.446454776022962, 0.28087209809190555], [14.362241963247564, -2.656333408221791, 0.4242361682760404], [14.713074837307095, -2.523359441512996, 0.2570647521390879], [0.0, 0.0, 0.0]], [[14.138016839143182, -2.69493458879353, 0.42685780364490333], [14.24147377546774, -2.2905418540810514, 0.41648354133317156], [14.457648548165908, -1.9718939908834754, 0.26020732908887906], [13.735639356144441, -2.600932733004307, 0.4527344031015059], [13.401495028422639, -2.399187012486182, 0.32316503196735663], [14.17049855519281, -3.1154695833641504, 0.4356408230349535], [14.288632719673762, -3.4821228940033166, 0.28628989682014416], [14.540520371090793, -2.660330320727178, 0.4026454233564578], [14.87689808519688, -2.5170190265980974, 0.23836001079309171], [0.0, 0.0, 0.0]], [[14.344609946291964, -2.718612868583025, 0.41563017193544005], [14.446601176908018, -2.3278137078198173, 0.4013195888665329], [14.634504560090061, -2.005244848607021, 0.23674385301209022], [13.945511757501666, -2.6094825321460404, 0.4401723293885207], [13.625726832164819, -2.386837302914715, 0.30523502159014637], [14.387133682127697, -3.11924809600275, 0.41949737219380856], [14.526484718070051, -3.469955885542651, 0.26967405877304723], [14.736025702616484, -2.681614471507849, 0.3937574052000894], [15.059416359137314, -2.5155459124535176, 0.23494541416836104], [0.0, 0.0, 0.0]], [[14.564250089002048, -2.7379075030453808, 0.4004253041844898], [14.589327748350371, -2.3137909132561236, 0.4019588399526875], [14.614898117191073, -1.9396078111643789, 0.2458252454403845], [14.156459080313386, -2.6471973252248087, 0.407777799351534], [13.81943814607113, -2.44362138561048, 0.27481398949626346], [14.551546669172438, -3.1737444983312133, 0.41824830138493674], [14.543629744198048, -3.5474400396448473, 0.2564336934252295], [14.973634375695363, -2.6942178510597854, 0.38568534639855645], [15.320360918926976, -2.534696026692888, 0.23318787285353818], [0.0, 0.0, 0.0]], [[14.809888982686733, -2.764670343175263, 0.41989355433249415], [14.762140946861727, -2.336688386655125, 0.4297048731621535], [14.628926483336711, -1.994711411306733, 0.2558294183016183], [14.399507409512237, -2.704439035774747, 0.4131100183096062], [14.050275073406349, -2.549960423947621, 0.26375369086048295], [14.748805396747612, -3.189453715483419, 0.4238601099956717], [14.609878746000023, -3.5345422243021347, 0.25240131932805787], [15.228639374662027, -2.7250412317640342, 0.42164260828227906], [15.59787103280964, -2.6037995816270665, 0.28188660784904535], [0.0, 0.0, 0.0]], [[15.050429227271055, -2.7857675736176986, 0.4531522795216287], [14.95147401462888, -2.3979979536130744, 0.44911692915753526], [14.747577075593814, -2.106508986827011, 0.26284688172961485], [14.63735662783631, -2.750387419041141, 0.43339800277974183], [14.276888230406257, -2.6367601494303425, 0.27536609625973074], [14.96727022809545, -3.1773193014536205, 0.45436941301692313], [14.775243437603008, -3.472738141235836, 0.26728479575541547], [15.476329302472601, -2.7513479871082542, 0.47299312107770125], [15.863954076808705, -2.674882367303213, 0.3498130998608352], [0.0, 0.0, 0.0]], [[15.238574174988928, -2.8120351420791336, 0.4684589217151236], [15.211697535702948, -2.38309701328758, 0.46188837975273106], [15.160472732700827, -2.0113741826578204, 0.2924508646598689], [14.817839164024527, -2.7776989595011976, 0.44324806336465217], [14.451754512317104, -2.6823183066536753, 0.27931361909634644], [15.221979029761616, -3.240831563993913, 0.46611173603720757], [15.192152389621917, -3.6065862366351036, 0.28770186629189864], [15.658241174886495, -2.7888176024943965, 0.49712740117742676], [16.046553563782346, -2.725026875053454, 0.3818262331645145], [0.0, 0.0, 0.0]], [[15.412806310009243, -2.8432361336803913, 0.4538700319758384], [15.472434426495978, -2.4273346959616497, 0.46294921200889977], [15.652079561151309, -2.0727561621638717, 0.3419164888773823], [14.991037808995207, -2.8104143676637157, 0.4251790665654676], [14.631838037196937, -2.7098778942161843, 0.2487939762016993], [15.485598375222008, -3.2553830573706946, 0.4601108644733202], [15.676723341842623, -3.6039915940977663, 0.3395173773641601], [15.829774329104522, -2.8078683450945006, 0.4815392056927382], [16.213402933544, -2.7245172891999103, 0.36389220187853144], [0.0, 0.0, 0.0]], [[15.614955613771215, -2.872963518971511, 0.4385175860631278], [15.686369809166845, -2.479459500672056, 0.43912870584122055], [15.876361595027152, -2.149141903972939, 0.29762615838618783], [15.187445578993298, -2.8370791976746763, 0.41618314651520266], [14.826112439215832, -2.7295523410056894, 0.24539590505472403], [15.700511317603722, -3.263670320081714, 0.44093629585990013], [15.90442627311476, -3.5872540287052974, 0.3029525414533989], [16.027190759882515, -2.831130129688329, 0.46619411336373046], [16.40466195254311, -2.7294335891094494, 0.34996644387086884], [0.0, 0.0, 0.0]], [[15.850726714579206, -2.9005673490815065, 0.40948897314724336], [15.85709206690038, -2.45995851745424, 0.4331796035329485], [15.863163687575485, -2.093449561765099, 0.2644414961311342], [15.428120051433359, -2.8595804487672667, 0.3904879615243355], [15.061662230077172, -2.7441951750534175, 0.23501332528736232], [15.855090828273557, -3.33046611469307, 0.40741934343962605], [15.885321459631475, -3.7008840613659735, 0.2473276481988045], [16.265270040937313, -2.8562103471664906, 0.42815426988198124], [16.638724850568835, -2.7352308734747983, 0.3076485621902833], [0.0, 0.0, 0.0]], [[16.147798752333618, -2.9120332635485937, 0.4444985131389526], [16.064453970606625, -2.498939749348718, 0.462000308077085], [15.883480356955136, -2.1915615145820473, 0.2747806586827026], [15.735514279844415, -2.870997747255745, 0.4193095867048663], [15.377959853786729, -2.754904355892414, 0.2577291330601127], [16.090415627479082, -3.3397788525288226, 0.4353332787752712], [15.953554814283624, -3.68589797536673, 0.2572561102959567], [16.569219053600154, -2.8700530285304633, 0.46488575222132894], [16.94895234096225, -2.7561130216340586, 0.34445502529159044], [0.0, 0.0, 0.0]], [[16.42862210945251, -2.9296194810458966, 0.4905392833645102], [16.31986071364363, -2.535806029530713, 0.5022211124499154], [16.133709161552826, -2.2492710159687, 0.3038474372335308], [16.011092419753986, -2.9200378091675128, 0.46936751080813394], [15.65008108326309, -2.817244741201875, 0.30678642374119525], [16.391266855237372, -3.3299413831727325, 0.4723754283256608], [16.250682392738437, -3.648114963337144, 0.2774586292463317], [16.84670006949601, -2.8644821878085214, 0.5158968460184143], [17.22363738144302, -2.7456117169104473, 0.39833542191666105], [0.0, 0.0, 0.0]], [[16.685295126738474, -2.9528007481265126, 0.5082756313317297], [16.62452190422132, -2.5358056088870415, 0.5170600458518142], [16.545516282222486, -2.187001421069476, 0.3359576516341605], [16.26928542422851, -2.937275546634838, 0.48546448654134744], [15.90568252616323, -2.8322767960034576, 0.3274623018946477], [16.691863827307692, -3.3734787447959684, 0.4896824635666204], [16.67041219881714, -3.7263248057154694, 0.2956390327051505], [17.099866870436497, -2.8779159649133175, 0.5423032866104913], [17.46386773409655, -2.7274515203777305, 0.42704918760865335], [0.0, 0.0, 0.0]], [[16.923984062998095, -2.9759951255045256, 0.49762443826815134], [16.963864354802343, -2.5536014365814834, 0.515032134528913], [17.087463836232416, -2.1804490361318307, 0.38677193732414755], [16.501175482014407, -2.9476668210173633, 0.4810480837436275], [16.138661200658053, -2.8576214900663395, 0.31286970400911185], [16.999395286954382, -3.389687673912024, 0.4872040896247331], [17.194601320216943, -3.7235687249701024, 0.3372800830838741], [17.33052785362279, -2.9066528577869577, 0.5184272670101708], [17.679154933620644, -2.7251718262568807, 0.3991901923434347], [0.0, 0.0, 0.0]], [[17.19252680292613, -2.993630483559626, 0.4689980808765543], [17.244801534242363, -2.602192667644074, 0.489839142902589], [17.423622893380106, -2.262508407782846, 0.36715315606135207], [16.766167937590723, -2.996797496754638, 0.45305845095471653], [16.412484134319488, -2.928950860269606, 0.26767663009071696], [17.31036521477493, -3.3798820295702097, 0.46022308615186464], [17.550967651863534, -3.6815742432123084, 0.3142627142661909], [17.58920641494177, -2.8922266879303344, 0.4830186106928905], [17.922517950953463, -2.6827671251137777, 0.35854835735711216], [0.0, 0.0, 0.0]], [[17.500706157061373, -3.010523645111196, 0.42439819308322413], [17.474385900926237, -2.580612603758151, 0.4475239116199836], [17.47109057816838, -2.216396587035704, 0.2763883525859952], [17.07391914839543, -3.008858974591255, 0.40587230594896406], [16.70405783753825, -2.9336998277924042, 0.24062741648734273], [17.555705958854983, -3.436996488497539, 0.42099648618856356], [17.633822424703595, -3.7918034013343767, 0.25125932533132894], [17.900592146889743, -2.9124890205247445, 0.4487302439903405], [18.23382678025632, -2.6980539944548605, 0.3375037100725851], [0.0, 0.0, 0.0]], [[17.82891478686115, -3.005951273283179, 0.4355143243570521], [17.713777736897775, -2.588875135967239, 0.4507911124801707], [17.536992245213682, -2.275761800984684, 0.2661567748869248], [17.409439423000965, -3.0216410948211885, 0.41146707051711817], [17.037577546853136, -2.9568051135302587, 0.24905544883768238], [17.82707392205213, -3.4389360772116953, 0.4379876736925782], [17.73562069974693, -3.798062656798114, 0.26173545256697045], [18.228025223077935, -2.8931218355328796, 0.453333607251887], [18.557726491118416, -2.6800705672837584, 0.3271378784119888], [0.0, 0.0, 0.0]], [[18.14194997972647, -2.9983988542012296, 0.4710498915974155], [17.993706839285164, -2.629689652629258, 0.46260834999065675], [17.7608265841219, -2.371299012592368, 0.2695575141835092], [17.730156172031467, -3.018828185878956, 0.4507943614053463], [17.367937275399427, -2.953687962709559, 0.2790622110144101], [18.122037020287326, -3.39309621105623, 0.4754555520950317], [17.994654703321824, -3.7161296438347975, 0.28816075037298305], [18.540317213036058, -2.8709680438870357, 0.4911030029298249], [18.860569962856086, -2.644124827230262, 0.36366641161635677], [0.0, 0.0, 0.0]], [[18.4028685792697, -2.9977687915148885, 0.481788290390624], [18.331586692403523, -2.573073702587834, 0.4593908540346565], [18.286182926771662, -2.208115630033599, 0.275181179993516], [17.985763238722623, -3.0272447461369407, 0.4703430665871109], [17.60665776098546, -2.981107681665586, 0.3182701344232424], [18.476564096442715, -3.4219576988883365, 0.4968691049219344], [18.558064984465116, -3.7837991784021674, 0.3293288095677804], [18.79437191984199, -2.861846632746661, 0.4934975875683787], [19.10450667490547, -2.6287530168237034, 0.35686274399667484], [0.0, 0.0, 0.0]], [[18.65403157419178, -2.997133952950532, 0.46614932531456854], [18.69217515137359, -2.6012926470456716, 0.4544416752739418], [18.909567980525207, -2.2790291622858345, 0.3095848989682954], [18.226531426202893, -3.0425220131450392, 0.46904795381738995], [17.840874205421894, -3.031530614816579, 0.31905339356955453], [18.830549964368053, -3.3525425796076527, 0.4864629753725173], [19.148461397916442, -3.5945625415121727, 0.37090222414781526], [19.032969386888084, -2.8570601310747064, 0.4527880028067749], [19.323488027569628, -2.620010581117139, 0.29066851386379217], [0.0, 0.0, 0.0]], [[18.99722413037146, -2.983683391864717, 0.43719646637181386], [18.94360926534543, -2.557253816870315, 0.43163459467432597], [18.942506240555304, -2.1948814094753506, 0.2579902070682887], [18.583273397489364, -3.036242079070574, 0.4340637973398197], [18.199575177410825, -3.04410400818991, 0.29205274532392134], [19.094793698859192, -3.4156018717268255, 0.46216320765128893], [19.21947157705552, -3.79179030671318, 0.3262801002945585], [19.38472849918192, -2.8317272387631243, 0.4345525308778858], [19.676934020674445, -2.586518221097298, 0.2772994642856933], [0.0, 0.0, 0.0]], [[19.361847676784414, -2.9636044722205304, 0.4287921169661239], [19.24147637586474, -2.5531793757485683, 0.42246692300693073], [19.05762239896009, -2.2275442272713506, 0.2510216935364759], [18.943263957268492, -3.0137672449639785, 0.423698758662702], [18.564118821381918, -3.0225153665834084, 0.269822741992579], [19.378390667148796, -3.3846587590122232, 0.438910938270643], [19.312260654718916, -3.7477280075550494, 0.26854551243184055], [19.751891507853973, -2.8322861884296873, 0.4295684941141555], [20.051761795441795, -2.5931953372847913, 0.2835778285986319], [0.0, 0.0, 0.0]], [[19.70248687984313, -2.9661323596355014, 0.4353041999909761], [19.558310718021595, -2.5934758822272865, 0.4411808078385806], [19.310425533661068, -2.333342876452638, 0.26502328688077165], [19.284343733774296, -3.002796551650387, 0.43323491304901535], [18.90451081902623, -2.9907236321453263, 0.28222608289235324], [19.657754881051616, -3.360432270727378, 0.43802608672126264], [19.478660556374095, -3.6707867554491016, 0.26087317293919676], [20.101484433196084, -2.8433077463794763, 0.4379314574313987], [20.415778441291994, -2.6130527508733206, 0.3012522194460128], [0.0, 0.0, 0.0]], [[19.981872000521538, -2.9850909549484355, 0.4341909032748642], [19.907339816390216, -2.55878817799424, 0.43153289050674015], [19.820633810704617, -2.1908364949984787, 0.2661330142646916], [19.55835771082144, -3.002778479602914, 0.4470696023112947], [19.16879196775887, -2.9462630592174524, 0.3189188978103023], [20.014852246359776, -3.4176551844506, 0.4333081897702464], [19.990720334446163, -3.801795186220672, 0.2772763515212925], [20.375463963425602, -2.864476938786411, 0.4247045311451925], [20.68844581405552, -2.6454570922993224, 0.275513521844354], [0.0, 0.0, 0.0]], [[20.24749801386805, -3.003678125089451, 0.4083638260969384], [20.285670622049015, -2.5870875759526375, 0.40886684149690317], [20.445945642589315, -2.2311414275886916, 0.265881298141509], [19.82718562365738, -2.992880964281966, 0.4317454130896872], [19.448901679153668, -2.8965102571914, 0.30219103166756645], [20.344826645122925, -3.4137040928689486, 0.41704391611987807], [20.527392231099096, -3.759759862759843, 0.281576313790177], [20.63388207635721, -2.8945690148837753, 0.38940249759878315], [20.927672918665586, -2.671326267901318, 0.2341863553689578], [0.0, 0.0, 0.0]], [[20.52262301258855, -3.0099209372070588, 0.3976797133017483], [20.558664290458854, -2.6090416294933614, 0.3997092086235789], [20.692291104121928, -2.2654444044049686, 0.23686200397229173], [20.106923748169105, -2.9848115782687494, 0.41917485975869495], [19.738273547724305, -2.848209195703201, 0.2949567265880429], [20.62809210943523, -3.396060944757255, 0.3903728820827101], [20.823877653595126, -3.7132116592862494, 0.23295094643034422], [20.91936601100205, -2.915704711416329, 0.38126249039184584], [21.236367896863666, -2.714686006159492, 0.22867983878045656], [0.0, 0.0, 0.0]], [[20.80188306927461, -3.006680171649058, 0.3885668686493421], [20.77570839197123, -2.5821483844687516, 0.41689234946309406], [20.770037753351545, -2.2157834357917126, 0.2546278495123255], [20.391494987077948, -2.978583165102194, 0.4060739168665499], [20.036155047164765, -2.809999922859465, 0.2855557151592476], [20.86131497407545, -3.416018363647015, 0.38267644741630424], [20.940067593675955, -3.774655253430519, 0.23612622743452666], [21.199792595618984, -2.904653983643639, 0.37264654159080574], [21.520350760797, -2.695418846545048, 0.22538056548604835], [0.0, 0.0, 0.0]], [[21.095984486562852, -2.968703000560763, 0.41343047150627915], [21.008704857232573, -2.5511188496301664, 0.43673318637974295], [20.85675555605996, -2.2219462293394727, 0.26260737723292904], [20.68654243674063, -2.931285274267229, 0.42256753495227767], [20.334821256207494, -2.758961212616857, 0.29691274359895053], [21.096597934109205, -3.400159144744401, 0.3998556443062093], [21.030333481674823, -3.777249522401466, 0.23971342479216784], [21.49513398717857, -2.863714534221027, 0.412114302514498], [21.810023088867688, -2.634382223806858, 0.2771875571075244], [0.0, 0.0, 0.0]], [[21.383023759313375, -2.922021992510417, 0.4419707609684848], [21.22972335165375, -2.5445973210971116, 0.4610232085196258], [20.986959666830188, -2.2925305454972014, 0.27283472470670295], [20.975079320416462, -2.911235302516691, 0.4375822289252992], [20.619381111202365, -2.7660718306901653, 0.2942262543543208], [21.360728098953093, -3.3238253961265456, 0.4319576776557023], [21.191094639173183, -3.6437572085579237, 0.25589659083862887], [21.778819511214383, -2.798542399202185, 0.4462173022731122], [22.09219819385932, -2.5675482655189086, 0.3120991385813644], [0.0, 0.0, 0.0]], [[21.61897450895814, -2.87847756845571, 0.4595957397265929], [21.524209146136048, -2.46849501849433, 0.4641061106218759], [21.36820316830249, -2.148607626067041, 0.27828113600761933], [21.197113267255318, -2.8769950539128564, 0.4618060135137416], [20.8185573749421, -2.7810398750147383, 0.3252017266885414], [21.624921670687776, -3.3011807246813607, 0.44681178369638774], [21.557312763725612, -3.6605388051573637, 0.2660697603572113], [22.00961421909758, -2.7606555109844995, 0.46527148156525033], [22.31369192370093, -2.5226643481586306, 0.33110809927898255], [0.0, 0.0, 0.0]], [[21.829361087396947, -2.8397428301409127, 0.4503828945589646], [21.794918449311783, -2.4144385158356267, 0.4566625872825552], [21.816485244931233, -2.033497757694565, 0.3042603913523254], [21.410506111142524, -2.8572332222965007, 0.4521101219598212], [21.03547965284402, -2.78587884911919, 0.30344760390156433], [21.927600034206847, -3.2543629981127147, 0.4449654177637888], [22.078438080586725, -3.615143164089155, 0.3041822281454603], [22.223489047215075, -2.711290100562182, 0.449003444149763], [22.531736180266044, -2.47536956800295, 0.30938827871613905], [0.0, 0.0, 0.0]], [[22.049202939464884, -2.803553109215912, 0.4226345135982737], [22.075813810823472, -2.4097850987085803, 0.4252260284719845], [22.264039051480687, -2.0731737559302337, 0.2832592283257735], [21.627612128293844, -2.838750918847867, 0.4310762875408585], [21.25941789269456, -2.784666427916718, 0.2674246913318794], [22.22420953637188, -3.1567319205723114, 0.41808582755121715], [22.52078493814154, -3.39897723162691, 0.2667628298784483], [22.431264009383057, -2.6623502595293247, 0.40871054473855545], [22.72598796368036, -2.424365601925044, 0.25319393317924077], [0.0, 0.0, 0.0]], [[22.343379477703138, -2.7576752587504436, 0.3758551053356903], [22.28896488827105, -2.3345538111683166, 0.40307718285542293], [22.2778468595655, -1.967653345870457, 0.25533491619332765], [21.922443031275023, -2.7952470301081975, 0.37249353964478465], [21.541395998099894, -2.741064783268563, 0.22426004391978385], [22.45824425661431, -3.1697738674073856, 0.3981375097548292], [22.59204606358301, -3.5157309418618428, 0.24838529325362813], [22.730494095422078, -2.604724257417857, 0.3728655217553298], [23.03068456868196, -2.353189880045526, 0.234700908439782], [0.0, 0.0, 0.0]], [[22.685611204907854, -2.7006914535335036, 0.41899772018217357], [22.561687138260268, -2.2888636937322304, 0.41857958331060235], [22.37691396170127, -1.9611654493488373, 0.2457503030436047], [22.27210886888764, -2.7196416154791208, 0.39708260829570446], [21.898820991361767, -2.658474830357711, 0.23775679387574974], [22.709950078428438, -3.1334745889323363, 0.4222242752993427], [22.679366359748073, -3.5066834711938757, 0.25424543887631074], [23.079105451185665, -2.5697477977677474, 0.4419008635323331], [23.38265150736407, -2.3289575103985727, 0.3061263210352747], [0.0, 0.0, 0.0]], [[23.006422785493037, -2.651839008064336, 0.4755790295574257], [22.84925920583701, -2.2795471280933794, 0.47044265847803135], [22.605001533375948, -2.01988707001171, 0.28202130478993914], [22.59335682170785, -2.679855682083891, 0.4415707980643554], [22.22719381172395, -2.6126260794595177, 0.27021080046074475], [22.99405149369056, -3.050582826877171, 0.4751261528916442], [22.849651518098774, -3.367114510783028, 0.28254978792775837], [23.39570955016838, -2.5157626200954555, 0.5032364147494821], [23.70989651896387, -2.285342115346926, 0.37543725013599943], [0.0, 0.0, 0.0]], [[23.291095701109835, -2.610094661622551, 0.502794178941197], [23.201583376920393, -2.200297308992773, 0.48721587246224757], [23.0510125818214, -1.8746037023715199, 0.29727476758889754], [22.869144476616437, -2.6039745782892267, 0.466637706654914], [22.503199619857046, -2.518243887974561, 0.29267812002634996], [23.29359744134897, -3.036142937862225, 0.5059093584914657], [23.24600627510956, -3.385534879337067, 0.3117154436300088], [23.681246888614325, -2.4981971284519955, 0.5413894696352521], [24.00096110902586, -2.268799038321141, 0.4310120136184373], [0.0, 0.0, 0.0]], [[23.55869239065332, -2.5685644169821167, 0.5010875857267055], [23.532064783293713, -2.140997608000195, 0.4874195182190997], [23.550919998080257, -1.7518413922914877, 0.3424471488737573], [23.14418847710299, -2.557707919539417, 0.4562540403176065], [22.796371145949564, -2.4546486211678973, 0.26627115169812055], [23.623422660907426, -2.9889621980036316, 0.5182570535270178], [23.741258108964555, -3.349831762797605, 0.3707092845809184], [23.957373565744703, -2.4627187324731885, 0.5415710428887327], [24.294546605751545, -2.252019638163013, 0.43235850086867295], [0.0, 0.0, 0.0]], [[23.820299644029955, -2.528437104336517, 0.4801816891785344], [23.8739760044363, -2.125308707783223, 0.4793938726606134], [24.102195955640855, -1.8000284200119239, 0.3558200435904681], [23.401104883372163, -2.5086108170462427, 0.44300716715625743], [23.058722158833604, -2.3794174352538877, 0.2560733795764956], [23.950084651606986, -2.910793806511591, 0.4995132417941588], [24.233376836953155, -3.1936024234167055, 0.39829748943037185], [24.217591877984308, -2.4235197084784152, 0.5189461272547619], [24.551691147567894, -2.2121578788853045, 0.40741530328244885], [0.0, 0.0, 0.0]], [[24.133699525519436, -2.4853898925113636, 0.4562763978914587], [24.134376771464265, -2.05475178634468, 0.45209680699469], [24.24287701496739, -1.694482105982699, 0.2888971509109628], [23.7236994715675, -2.4599188378181602, 0.41539224482079745], [23.377852609037628, -2.316571962734946, 0.24191875985252553], [24.206949757182496, -2.911489042204233, 0.47109029484841625], [24.353486447086304, -3.2731005166671525, 0.3337085409416616], [24.529848287981185, -2.374108449336539, 0.49806660449099494], [24.85835771980707, -2.1505047617582367, 0.39050613247322447], [0.0, 0.0, 0.0]], [[24.451211659498, -2.4407146047141675, 0.43667465495407465], [24.400231957277583, -2.0126371342473033, 0.4496329196970182], [24.340741753407272, -1.6642339016429364, 0.2699182611692483], [24.037828326071498, -2.4141404114388765, 0.40337481395601055], [23.69194892346717, -2.260419366660765, 0.2365176094046329], [24.456681735164466, -2.87687087867973, 0.45203842773503267], [24.415978697854765, -3.2341391175342142, 0.26891915360564767], [24.84305817688334, -2.3291613554582997, 0.45755277988242554], [25.162123138946047, -2.101980573377127, 0.3310177927383192], [0.0, 0.0, 0.0]], [[24.78419251975745, -2.4094767132911197, 0.4621219816066302], [24.680068113609163, -2.015978528454875, 0.4568021681420555], [24.46066923875686, -1.7337865287275451, 0.2670361523229705], [24.378121393456112, -2.358116997872292, 0.4474654516020173], [24.041378668101952, -2.1820314135512913, 0.29333934264333433], [24.712898344248206, -2.8105965974732428, 0.4595088453164757], [24.520431806800886, -3.1085193407967453, 0.26914666485902566], [25.189138393707314, -2.3213374042133137, 0.48062548921747617], [25.52187867308656, -2.1112453414039214, 0.35654069800837657], [0.0, 0.0, 0.0]], [[25.072308595608806, -2.3857440466506787, 0.4742580451249969], [25.02183903915412, -1.963730808407494, 0.46856361346135067], [24.872698566650655, -1.6154421679730147, 0.30599441801716054], [24.664243564897365, -2.312705107568083, 0.47919446442468355], [24.327605834956273, -2.1201168415629947, 0.33923175849381537], [25.028284429574377, -2.810232561891978, 0.48112683681689605], [24.916215164452915, -3.1559271007973377, 0.3042680209681838], [25.477983867898434, -2.321691497585346, 0.46650561060704343], [25.815819612059048, -2.141304446261373, 0.31690333290371464], [0.0, 0.0, 0.0]], [[25.341586101528016, -2.3629593420080535, 0.4616936781289931], [25.37406234910004, -1.938357831759778, 0.46340239923469845], [25.41282187359769, -1.5523195991000345, 0.32469220215382716], [24.94348794506939, -2.267299389736827, 0.4843454024669284], [24.620797841308747, -2.0593644679202017, 0.3462985453629431], [25.347221755929187, -2.786405270667711, 0.46406952908498866], [25.39770613059923, -3.161517881589997, 0.30755770190087256], [25.750966736587163, -2.3174327118321463, 0.43764463889177996], [26.086116594649233, -2.1485121390171744, 0.2711051635957372], [0.0, 0.0, 0.0]], [[25.60809131182858, -2.3358730170966524, 0.4338969752656794], [25.716679424469262, -1.945066025267303, 0.41883247162203147], [25.950691940092234, -1.649742549123894, 0.24895742561449544], [25.21403755875615, -2.238894101383615, 0.48108368362157594], [24.892735567087616, -2.032162580985127, 0.3497742060684377], [25.689355037062874, -2.7296215865289764, 0.4303361482848104], [25.903976329482646, -3.046190857216519, 0.2709101809999254], [25.997310096507544, -2.2940224456915383, 0.4018654039518493], [26.31140255721814, -2.1324529578822324, 0.23992536553077914], [0.0, 0.0, 0.0]], [[25.894351198798308, -2.316072744451885, 0.42531067385808374], [25.98356479933474, -1.9015655469337924, 0.4223933149940679], [26.13835035975751, -1.5665651094933846, 0.24969666417531314], [25.496216509168654, -2.219763625276121, 0.4619235471494729], [25.148297298989704, -2.029928889549423, 0.35444479297365694], [25.88979716490981, -2.7455505953029435, 0.42621805525066], [25.94689624469863, -3.110196277190657, 0.2526345120750398], [26.289677260377353, -2.2773317701433826, 0.39769183081455434], [26.609909104771862, -2.106450259602233, 0.23586802025689424], [0.0, 0.0, 0.0]], [[26.154000786207376, -2.312459572505101, 0.4372396212168862], [26.19189622969319, -1.885932971237098, 0.44230145978792457], [26.193176724509264, -1.5247853302977499, 0.26353576171042903], [25.74623558893956, -2.210035357638882, 0.4681587484765215], [25.399944790822587, -2.0139514921406363, 0.3533352547868742], [26.102461520215574, -2.7373968423675987, 0.43536153645031817], [26.02731306978448, -3.0922805375960194, 0.25743451717109356], [26.561911712817277, -2.2894148537886774, 0.4081799157119195], [26.90524366365697, -2.1379942167464447, 0.243256483853168], [0.0, 0.0, 0.0]], [[26.42132849187585, -2.3139801179235913, 0.4360178334142826], [26.393021555330485, -1.8977538005455183, 0.45319053040996093], [26.22474004015093, -1.5844228677111156, 0.27438345390718816], [26.022582465982822, -2.2015402100346004, 0.45573275018014325], [25.690827611941412, -1.9913695353657785, 0.3333214394042403], [26.29551624472542, -2.718275544643559, 0.44464707674578535], [26.074512787408366, -3.0051576143564493, 0.26772457698198565], [26.83856940529133, -2.303879769528068, 0.41391101255493573], [27.1996684634955, -2.1744888148540533, 0.2577038777749418], [0.0, 0.0, 0.0]], [[26.63821292451912, -2.312052209157846, 0.44893064224779716], [26.613786880749032, -1.903369107152003, 0.458420902464623], [26.478164320412606, -1.587204636197949, 0.2729752919448657], [26.247291611822707, -2.205037536471335, 0.47028713621178836], [25.927927049002964, -1.9829254309097504, 0.3446667218227971], [26.53356510154432, -2.7079033378356363, 0.45475596030698817], [26.335479050903032, -2.994152259077594, 0.2704798182591455], [27.05646150868776, -2.294601478409719, 0.4235955281218981], [27.41625686688181, -2.169217077282503, 0.2634186792107424], [0.0, 0.0, 0.0]], [[26.81083267057449, -2.3083089907390133, 0.44981131887053033], [26.871039836427606, -1.8852966366257775, 0.44508053394952946], [26.92191367206886, -1.5173631853304175, 0.27389961697472304], [26.429798716834814, -2.181271957911574, 0.492522260547737], [26.118981957164863, -1.94282345539551, 0.3847912766200474], [26.76210184379091, -2.7327337721722644, 0.44593918865711935], [26.744787449223704, -3.1064439263324948, 0.2778942830552186], [27.229249002393285, -2.2992163932373986, 0.41121025020268354], [27.58115429450701, -2.1581029178010676, 0.24012525803190068], [0.0, 0.0, 0.0]], [[26.966972517581464, -2.300219656748435, 0.4414915367492921], [27.13585941130083, -1.953371984096219, 0.4358573146910798], [27.424922190047496, -1.710879254079889, 0.274594964414764], [26.565637375177847, -2.1783838794760295, 0.49481628031157593], [26.234383375874078, -1.956876829063662, 0.38958470770791337], [27.037649800812602, -2.677983805402241, 0.42989712406163055], [27.244134055235108, -2.992951011460976, 0.26118735806247745], [27.337536073997462, -2.2953061605655445, 0.41292985046528846], [27.640254923487277, -2.1533150301212745, 0.24817387349723172], [0.0, 0.0, 0.0]], [[27.178448904377603, -2.312392787675147, 0.46287098638373697], [27.247892929843733, -1.8701436271142549, 0.4822898999415537], [27.301352633716498, -1.52418177659785, 0.2868131954812689], [26.782362933887697, -2.199670311197757, 0.4788894625664408], [26.452974435879295, -1.9936258519257184, 0.3513768494507036], [27.111986831629277, -2.7577633771019587, 0.4643099721141652], [27.05516217732618, -3.1170483573997414, 0.27673281400964117], [27.608457031940247, -2.304389574979415, 0.4400672579070915], [27.96143234329032, -2.171841162109127, 0.26223507629474], [0.0, 0.0, 0.0]], [[27.396158188580618, -2.3214271984345687, 0.4972917258970087], [27.39221176701331, -1.8990202011428716, 0.5210118552965227], [27.29232931096862, -1.5990311547028342, 0.3072168754973111], [26.994540183902178, -2.216101802898163, 0.5051811152052011], [26.653429792595134, -2.0311001665423105, 0.37504637276274555], [27.272799613880835, -2.7212936993889745, 0.48620854485414444], [27.079145175328303, -3.001850609899951, 0.2819148606691725], [27.811156949372904, -2.326174611793557, 0.4904709409987002], [28.174162159644705, -2.22304374157014, 0.33377276198635686], [0.0, 0.0, 0.0]], [[27.58974934533537, -2.3200051533073633, 0.5358719439041589], [27.56046119335459, -1.918044235864154, 0.5516953052948178], [27.44733143925295, -1.6457608617565354, 0.31956187454370355], [27.18517467277035, -2.2290033433262177, 0.5322754326911363], [26.839734961991386, -2.0643717835940643, 0.38916786489768324], [27.46626702057342, -2.7024821684771614, 0.5220041673556105], [27.273046777164748, -2.9513860387112696, 0.3007288983484055], [28.01422859039961, -2.3277582135136554, 0.54311844048556], [28.40138564110203, -2.2515781873920653, 0.41588858457284733], [0.0, 0.0, 0.0]], [[27.747012710412747, -2.3165740152230403, 0.5589338374107692], [27.776354238845155, -1.8919076058336057, 0.5758477008299826], [27.800112011135777, -1.5812702729218946, 0.35392042543567215], [27.33605828909778, -2.23572194329457, 0.55094206486926], [26.986380204916003, -2.076752493409558, 0.4053319431728224], [27.68230474860254, -2.7333477800408206, 0.5335615414186247], [27.596496856466405, -3.0483914228115716, 0.309022056014296], [28.170397577397935, -2.321041071320728, 0.5726875737823595], [28.558016800203184, -2.2567624598076206, 0.44646365269851584], [0.0, 0.0, 0.0]], [[27.8911648017723, -2.3115162048675884, 0.5535024924082339], [28.01145675964903, -1.9146618143627385, 0.5746793092093561], [28.23151782016713, -1.6337042087778215, 0.39442152025135124], [27.477222830782818, -2.2262886516667786, 0.544596244583167], [27.142777482625622, -2.0737053377888155, 0.37136796031727903], [27.893730622316106, -2.7352318565504117, 0.5339069152089122], [27.980841190145522, -3.091813011332044, 0.3536690111045576], [28.309121794817152, -2.3108211950235935, 0.568670686074601], [28.69001232106803, -2.222618347594014, 0.4441769237236388], [0.0, 0.0, 0.0]], [[28.064012873698218, -2.3151462006380514, 0.5239016401648975], [28.221014008423552, -1.9411294351601045, 0.5396199323346559], [28.484942355552594, -1.6495082551398683, 0.4167997063667897], [27.656065292849036, -2.1906332577636265, 0.5240665770422294], [27.344657583550315, -2.0269041641901393, 0.3329418865048879], [28.06509863087258, -2.715736194585165, 0.5158148219384364], [28.194628988055488, -3.073436522540435, 0.3722451247221458], [28.471299080193088, -2.3432846055822494, 0.5278958784602656], [28.842575171317808, -2.2449833005313264, 0.3945113060369011], [0.0, 0.0, 0.0]], [[28.27481427097483, -2.3259061626830007, 0.4763311141561596], [28.38879462847793, -1.9154240027520628, 0.49077207252779637], [28.530094308662036, -1.55381693396098, 0.35471619167760393], [27.87333462778471, -2.196480377383123, 0.4563047762208186], [27.564260977123705, -2.0200502840301224, 0.2643543777128087], [28.195629218046015, -2.7461659299459877, 0.4671037664137946], [28.153918677275726, -3.1098845631838903, 0.2901714337594245], [28.683366147434384, -2.3391937576282804, 0.49792646809444546], [29.054949561745982, -2.2100715362603043, 0.3796495258611886], [0.0, 0.0, 0.0]], [[28.485572480075053, -2.3505681881158558, 0.43367214813257715], [28.52558958415041, -1.9056889057094215, 0.4488824024868828], [28.507833614908378, -1.5422861037683957, 0.26700775875972427], [28.08145382468805, -2.2288189211403275, 0.4048025411859332], [27.75659691568608, -2.033454585417566, 0.23864430883195992], [28.35864246336793, -2.770028283578857, 0.451601343026607], [28.18179611502279, -3.085148275964116, 0.27125091232069715], [28.900557925914246, -2.348504805774229, 0.4568191902817411], [29.276460940385633, -2.217383276198694, 0.33787138223354746], [0.0, 0.0, 0.0]], [[28.694235503606755, -2.3678382437283823, 0.45437246349887367], [28.689955179633863, -1.959173916959479, 0.4424264167940646], [28.550081972246335, -1.6249510125368825, 0.25982054424812884], [28.305005700238844, -2.236445163321291, 0.4256643645542011], [28.003909793659684, -2.0198411644865577, 0.2525843344016967], [28.538013780337796, -2.7395485892381197, 0.4599689458573321], [28.298977939916735, -2.9979345139891915, 0.2701764005883125], [29.10381002520513, -2.369186194439546, 0.4790006091604718], [29.471382113872075, -2.245449086398151, 0.34725520700644513], [0.0, 0.0, 0.0]], [[28.874315167855944, -2.3657140614298284, 0.4585367726613646], [28.881773875493174, -1.9462382422199234, 0.4419776411596605], [28.797659608955286, -1.5745964580075673, 0.28150558098339973], [28.48545540028333, -2.2301698287958596, 0.4482003740293473], [28.191709395182937, -1.9843868609239113, 0.2970295460575314], [28.766507454274546, -2.772655306757997, 0.4707538000798367], [28.607622897623237, -3.0924153039858053, 0.2898255029303446], [29.289212531641148, -2.3676692460607396, 0.47486338459789706], [29.667596613749406, -2.2685866586417336, 0.3476505047422397], [0.0, 0.0, 0.0]], [[29.03742066879784, -2.358173493678216, 0.44234655782050414], [29.129478868838454, -1.9391268660990282, 0.4426900065610858], [29.235295133666096, -1.5661856849234963, 0.2971700032367811], [28.643974205098544, -2.22334785273341, 0.4397825541694383], [28.34276471062829, -2.0040091874732893, 0.27476740324246246], [28.98066036196383, -2.7805257318865766, 0.4448699324797902], [28.970906251643353, -3.161492948979756, 0.2930231583898139], [29.45343831908044, -2.3767316660842472, 0.441454712426128], [29.826666974330266, -2.2836227899476715, 0.2959999023706814], [0.0, 0.0, 0.0]], [[29.196166782946076, -2.352137250999364, 0.40174051910042435], [29.363530846513722, -1.9803388327366533, 0.4100697374895521], [29.659649935034718, -1.72747171275172, 0.27016111410543553], [28.800958687279156, -2.2180775439468015, 0.41777788244367964], [28.497692454577937, -2.011108185373412, 0.25333892388117746], [29.216502996259862, -2.7545804810687713, 0.3971529525981668], [29.400889822976136, -3.0931353079448334, 0.2465274250283125], [29.607988517744946, -2.36943747165795, 0.3845786342822855], [29.975212480845645, -2.2641747646536756, 0.23126055840979542], [0.0, 0.0, 0.0]], [[29.420520126423785, -2.3619566537508114, 0.3705059427999195], [29.55238322278447, -1.9681580829890715, 0.3902747365409439], [29.741599895145193, -1.6565869853607285, 0.24151140631948387], [29.028368547190755, -2.220971146832991, 0.37137718430509914], [28.70926435695561, -2.006901507165709, 0.22598777169370707], [29.37550388571049, -2.7757338231180135, 0.3824206533632404], [29.421932972841823, -3.1390282333720863, 0.2361570217286235], [29.825122506278404, -2.3760950107289815, 0.3649620622500168], [30.18435686034818, -2.2469972338523534, 0.22019520569041318], [0.0, 0.0, 0.0]], [[29.657557191289026, -2.3839511355776715, 0.40641301710751965], [29.733209131100722, -1.9839629894374144, 0.4212030034791105], [29.80434841862407, -1.6482864771930381, 0.25573118770695963], [29.26254640191068, -2.2477886421886097, 0.385714838682214], [28.94386871666595, -2.031684963073962, 0.23170013931263705], [29.56863982270973, -2.7958680023209586, 0.40714251337804525], [29.485607226564007, -3.154790998786903, 0.24402394859549031], [30.067258482449272, -2.390109121925579, 0.42912687804840277], [30.435604496809894, -2.2617360060663896, 0.3033441158675051], [0.0, 0.0, 0.0]], [[29.87216660098139, -2.433360481484529, 0.47143501237769636], [29.90278608124455, -2.008266615999003, 0.4693627310974824], [29.873779757188164, -1.6579458047168427, 0.2716982003696037], [29.48428282668906, -2.3008924912941553, 0.43255388854027155], [29.190169864204087, -2.073497979298935, 0.2608440216612212], [29.74495857708079, -2.8321663419456247, 0.46487626135620974], [29.572562963173194, -3.138224895679563, 0.26996055791178913], [30.283140165280148, -2.4396882693477315, 0.5119684131724844], [30.653160393504734, -2.318134321851981, 0.38917131781861186], [0.0, 0.0, 0.0]], [[30.078516444106423, -2.4823295056038526, 0.5180253320650139], [30.07562301503886, -2.0723196009379996, 0.514874340694868], [29.958520215113747, -1.7646901940362674, 0.29499896352353727], [29.696559583342665, -2.336911524847938, 0.4647245704877879], [29.4165149220842, -2.0985042623221597, 0.280471405614664], [29.91204572758271, -2.8584692643022973, 0.5102873472292129], [29.685480758343555, -3.1011061887400406, 0.2912427919121844], [30.487506485604758, -2.492118633782677, 0.5661019404050757], [30.86332086748623, -2.3709397290389354, 0.454295729909531], [0.0, 0.0, 0.0]], [[30.242844125224803, -2.523359612035173, 0.5416595423040211], [30.287681801525387, -2.101861259903091, 0.5287307770121862], [30.290217992554023, -1.7591597794500462, 0.3197083066375223], [29.858939723723502, -2.376542561380265, 0.4895857238826963], [29.583740945925797, -2.1307588489140445, 0.30581223648020867], [30.12153890123555, -2.929125628480476, 0.53926756128731], [29.98676773717374, -3.2449287535586233, 0.3351390243140995], [30.650507969534136, -2.5331014727084784, 0.6007616998172006], [31.035055172202615, -2.418563353707926, 0.5123220069728679], [0.0, 0.0, 0.0]], [[30.39016205295861, -2.5590822477606068, 0.5370654935352007], [30.524672122137087, -2.1583561072621786, 0.5410342530375998], [30.73449307616482, -1.834704587555267, 0.40092930823783246], [30.00906275724064, -2.4063296063804738, 0.4779621148017066], [29.747577317968457, -2.170179223278072, 0.27147347875815675], [30.336390345779122, -2.978906364440869, 0.5461847483316228], [30.37958596925572, -3.358240813860747, 0.401622756992011], [30.7945607377725, -2.5755498095126583, 0.5930079651344343], [31.17659015669663, -2.4637143746089496, 0.4952340109713664], [0.0, 0.0, 0.0]], [[30.542830863293098, -2.5930203824604074, 0.5168453648908776], [30.727028085730723, -2.2398430350306127, 0.5362985139154678], [31.046415634407083, -2.000941663632369, 0.4353384680786244], [30.153436029356772, -2.437577648109834, 0.4684684552637932], [29.884276868153826, -2.2050070635965615, 0.26825618907153553], [30.550137829133675, -2.991224636549598, 0.5337649353471026], [30.731269259835237, -3.348615924141042, 0.4346832390336643], [30.947660012372285, -2.618826503494741, 0.5665952247272433], [31.33341418216477, -2.5162640432439782, 0.46973495064183185], [0.0, 0.0, 0.0]], [[30.749984670258847, -2.6432482758271187, 0.49657750530843614], [30.865935777786202, -2.221076778704568, 0.508140543245822], [31.01537938073736, -1.8894048514095008, 0.3302773173316121], [30.373489646879424, -2.4887430830759065, 0.4399975281487245], [30.102054446138794, -2.238994472024899, 0.2589113419781321], [30.66571451901385, -3.0732903452170537, 0.4984584180081645], [30.639250728484615, -3.448822324557928, 0.3320874204523992], [31.159428426514953, -2.665163439467474, 0.5580678494682998], [31.546092594965636, -2.5557183062970474, 0.468476902104539], [0.0, 0.0, 0.0]], [[30.97498148715379, -2.6950370351179314, 0.4846836917452917], [31.014182880197698, -2.26174355166598, 0.5057436671396316], [30.995800665929213, -1.93287592781032, 0.298756243281661], [30.589964175017435, -2.539420309590502, 0.43039468754210475], [30.321104170929225, -2.2805561671772243, 0.2479247855640344], [30.82499889636633, -3.1041429545360897, 0.49077976486847524], [30.635162931530758, -3.3930748352048963, 0.28992354612796456], [31.380159007814356, -2.7093353831718923, 0.5271887928596829], [31.759406775176707, -2.5895870112093773, 0.42420214759673225], [0.0, 0.0, 0.0]], [[31.193136552637117, -2.7468542462976995, 0.5268740348588081], [31.19780947713933, -2.3475434268194335, 0.5231803409770995], [31.1118756819735, -2.0411703518462994, 0.2986438664606962], [30.822570978711326, -2.589676357865149, 0.4784152811337093], [30.565200507770292, -2.3290425740714804, 0.29628724183930993], [31.028470299098988, -3.111745428129422, 0.5036022710437883], [30.80610541593524, -3.361505753958303, 0.28568674745998973], [31.606919407251493, -2.7761318980430594, 0.5862430390710763], [31.992785837252832, -2.6802473396242954, 0.48853637471114575], [0.0, 0.0, 0.0]], [[31.371067585324514, -2.7923593303673275, 0.5394573253798445], [31.454320628070324, -2.36999705499543, 0.53771329192642], [31.549335753748814, -2.0176226805647515, 0.35783975813541186], [30.989207834877572, -2.646040093293003, 0.5091535034000109], [30.70937521220506, -2.39387235740306, 0.34586912070847964], [31.270373703354327, -3.2099494116041947, 0.5361072144041459], [31.184297683680278, -3.5679194823079774, 0.3603183334940721], [31.78653512268339, -2.8125522380862873, 0.5801149847396333], [32.17521890990985, -2.71968554100004, 0.4784421005935014], [0.0, 0.0, 0.0]], [[31.53449709256408, -2.831819630797291, 0.5261502471807583], [31.737838138043433, -2.4820407686213684, 0.551493842629741], [32.063226305636185, -2.252319302059807, 0.45055174809094173], [31.145913597671154, -2.6672913955007607, 0.5064007422906539], [30.850184569906958, -2.441691336611694, 0.33829501470072904], [31.519016886867124, -3.240337493632916, 0.5423034145146499], [31.69074432165397, -3.608329103473748, 0.435322134812851], [31.936002515497403, -2.863332991625171, 0.5394380164611068], [32.30768101112831, -2.743320033023225, 0.4046202040811918], [0.0, 0.0, 0.0]], [[31.76762838015582, -2.8923311705902752, 0.5074874835314713], [31.904112726485845, -2.479326029535971, 0.5073589129445061], [32.094620378360815, -2.166913707593568, 0.32879331502540526], [31.390874181644094, -2.734073426243979, 0.483558368181984], [31.111076150584445, -2.4880093853394647, 0.3210378016675075], [31.69913100164491, -3.3182845504509295, 0.5073321693386689], [31.735629597040266, -3.688317670556022, 0.33501798322421833], [32.183276602485236, -2.931783356360966, 0.541133680204263], [32.56681140251218, -2.8424654701315313, 0.4196165299516179], [0.0, 0.0, 0.0]], [[32.01227249042287, -2.95399803575352, 0.4652302091657227], [32.10680488385402, -2.525839703604165, 0.49249946323607996], [32.15517204058169, -2.1992759182080936, 0.2930324272028131], [31.633078092518726, -2.7850221243610127, 0.44535203291287984], [31.36572579085154, -2.5113446979947853, 0.2896395534267578], [31.897202026544047, -3.3709967580510964, 0.47298942852491954], [31.789879997106492, -3.694207266553728, 0.2806521139258919], [32.415041018787164, -2.9815226498747704, 0.48188261646357644], [32.78584287638003, -2.87159383619976, 0.3505183400808119], [0.0, 0.0, 0.0]], [[32.313693242988855, -3.013005140693483, 0.4894747916461673], [32.323419531142555, -2.5951276750706924, 0.49992665876742504], [32.219866539248855, -2.274694992601401, 0.2908692514169958], [31.937686165405253, -2.8513526548375094, 0.45665625802906074], [31.66412910629217, -2.5918242065108426, 0.2902763266322024], [32.13192414671265, -3.3917372265013457, 0.47799239348357375], [31.871686163163822, -3.6348791679639123, 0.27785187611606754], [32.72847601418536, -3.0463089876216563, 0.5250901101694255], [33.10529248664494, -2.954571351862519, 0.3985253817327508], [0.0, 0.0, 0.0]], [[32.572671884835565, -3.067087347341874, 0.5152103066085207], [32.61720472545944, -2.6471277579484593, 0.5237024159022362], [32.57377418948944, -2.3047411442434353, 0.32629306179590534], [32.18724671030651, -2.9113665041368946, 0.4905360753725505], [31.90377605075835, -2.658974750664754, 0.32937647768279776], [32.429338910870314, -3.4635718623449545, 0.503752345535026], [32.23469799985883, -3.7550711277662283, 0.305543625171038], [32.983907060388724, -3.101084895323249, 0.5436544136847453], [33.37235090731414, -3.017661388109617, 0.43686047112289333], [0.0, 0.0, 0.0]], [[32.816447544265365, -3.1220412454648847, 0.5159633213517664], [32.90561786280123, -2.7093801690811588, 0.524521944757748], [32.99743690811746, -2.3505737671516003, 0.36243660574513775], [32.441843684616195, -2.965091435827808, 0.4911829476258287], [32.17731188273249, -2.7032170666239503, 0.325713060623478], [32.72937102508, -3.534973787669365, 0.5037789397928886], [32.67430703266298, -3.893221951852423, 0.3242881578035603], [33.23136760147492, -3.150953541200374, 0.5473298506330709], [33.61688678277974, -3.0625739639524294, 0.4318229896703563], [0.0, 0.0, 0.0]], [[33.049236815977565, -3.1729980189416565, 0.4891445806555636], [33.21422397071545, -2.7915353112958674, 0.5078073555400773], [33.50136484214278, -2.509531350873953, 0.39699590697000886], [32.6693899421657, -3.0142567842292727, 0.4743732962035292], [32.412134778423315, -2.760694034261065, 0.291684769584709], [33.0448677882464, -3.583903178315563, 0.4803282643240363], [33.20618897167251, -3.9436118793678023, 0.3487037969801202], [33.46259239718131, -3.202956086443086, 0.5089170317244422], [33.8450901927128, -3.113854557856413, 0.3883372183786092], [0.0, 0.0, 0.0]], [[33.339003500928605, -3.236101780311717, 0.4485268328564274], [33.48806730444176, -2.8422202943131123, 0.46280429858873023], [33.714566668418044, -2.5287941403193717, 0.3243576328149578], [32.95020646757701, -3.0734622175876685, 0.4343236886298269], [32.67939397073001, -2.8285840739522836, 0.2547317238685024], [33.28784251720927, -3.6519652163026857, 0.43022562941675485], [33.357681435578954, -4.0235069321362795, 0.2689478911917295], [33.74719164530677, -3.2610192997519687, 0.47166434820045716], [34.12132568429953, -3.135986628527967, 0.3550032562171798], [0.0, 0.0, 0.0]], [[33.63293580395428, -3.3025214146590463, 0.3999665183857162], [33.71483341177618, -2.8768735495066893, 0.43152184742851263], [33.78152845252414, -2.520671973082545, 0.26628161030998837], [33.24401394383988, -3.1490111801467386, 0.37757174556901213], [32.9567330650308, -2.888036366207432, 0.22657848598873903], [33.55207329375864, -3.727885483977627, 0.4096887328647217], [33.473451086325916, -4.09097631230082, 0.2543817358559438], [34.03887600098044, -3.314379821236929, 0.4179663486824747], [34.410262690362984, -3.1903492840359826, 0.29778993269419746], [0.0, 0.0, 0.0]], [[33.981085306716814, -3.366797155519175, 0.4297494400649599], [33.97114078665002, -2.941195190326422, 0.44575926533570964], [33.85751724034452, -2.5956991320475065, 0.2647206008203493], [33.59292811824902, -3.242317724936706, 0.4050528693865343], [33.29797075779733, -3.0139406510493223, 0.24016494273113778], [33.83498076993159, -3.760588397639413, 0.4107846980627297], [33.585910472677035, -4.048931963369383, 0.23941963126742033], [34.398490773771684, -3.364283086393832, 0.4593893522761908], [34.76714563320064, -3.242074660127474, 0.3286317020793966], [0.0, 0.0, 0.0]], [[34.29568884609618, -3.413997908716606, 0.4563228181615747], [34.276856273590965, -3.0028321828591116, 0.46585705356179075], [34.16366152910625, -2.664518021944185, 0.28667046039872773], [33.900519193386536, -3.302295669216321, 0.44206331826618306], [33.59091756421003, -3.0788434609155977, 0.2912470343567748], [34.19022781012024, -3.8143799008079085, 0.4455397826564871], [33.998101874700396, -4.129076092557176, 0.27284979379186686], [34.71348377739469, -3.400956423827387, 0.47367036447245686], [35.09297797583993, -3.2808753694270294, 0.3591799190903135], [0.0, 0.0, 0.0]], [[34.59278198860054, -3.462586519168353, 0.459372084290898], [34.60035717527665, -3.042597436846921, 0.4690281079129263], [34.59734796875345, -2.6656812735186777, 0.31816300075816734], [34.19648402065234, -3.3701196134011577, 0.4461847782443185], [33.88506280983858, -3.1567116429101447, 0.290370887146722], [34.552672287932715, -3.8796151945671475, 0.44440696193226403], [34.49268202590063, -4.253542603298867, 0.2878382420892068], [35.01250635862336, -3.436822976458922, 0.47517771733598557], [35.384789496044505, -3.3180567048223186, 0.345205166282357], [0.0, 0.0, 0.0]], [[34.875002016465345, -3.513125955888741, 0.4361648015773725], [34.958311073194075, -3.098390694400577, 0.45584130016926117], [35.14922023739806, -2.7479260073903786, 0.33683567959989774], [34.468593393786115, -3.4295918483403347, 0.43241226952680595], [34.15289059060439, -3.2460752062419265, 0.25935731200592005], [34.91921238013264, -3.9334657271793154, 0.42461743881029923], [35.075282696025745, -4.288899218527504, 0.27506129059192796], [35.289431501600426, -3.4755155427219084, 0.44249699916307195], [35.65284756134959, -3.3331452626052402, 0.3106151736447053], [0.0, 0.0, 0.0]], [[35.18995330313929, -3.5665104818150573, 0.39676236615276994], [35.27582815066847, -3.1782056529118874, 0.4095116196631368], [35.467935132087945, -2.849364425748141, 0.27019687055764924], [34.771086596577184, -3.494830643725458, 0.40393247087843803], [34.43801558102693, -3.3149988387662117, 0.2455058171687493], [35.264967516123654, -3.959170686058281, 0.38177936203824037], [35.45165597028252, -4.287820842082844, 0.22891726055640504], [35.59342613811395, -3.510375553054758, 0.3981877156882425], [35.93952146153133, -3.34108906160245, 0.26311766126305236], [0.0, 0.0, 0.0]], [[35.54545413493051, -3.5984106292042157, 0.35872678308787465], [35.54171969367654, -3.163802032882655, 0.393439725726974], [35.51184139093151, -2.7867940172240866, 0.24688057594718205], [35.13144814103767, -3.54017009164336, 0.3607303852510801], [34.78050380823991, -3.3674202348974385, 0.22761705187219847], [35.55668120983818, -4.007399696320208, 0.3610443045781029], [35.56059666039255, -4.37569446147655, 0.22718582426214953], [35.94628778405979, -3.534252739383199, 0.35486567395424196], [36.27905911738276, -3.3415731658557304, 0.21766278737926], [0.0, 0.0, 0.0]], [[35.951843828101666, -3.5749308428641613, 0.39125092372869125], [35.82316294599417, -3.177292998348186, 0.4171145960554234], [35.58524292449694, -2.8917779496364027, 0.2546295339347594], [35.544091080446634, -3.5494202030447832, 0.3950223540603036], [35.18566592554514, -3.4040126958848975, 0.2579848033695037], [35.89403234046526, -3.997935968087317, 0.3746380876992036], [35.685472772286936, -4.34253398918885, 0.22676783191321664], [36.363655586634366, -3.4713889417563304, 0.390096816764532], [36.69513523734865, -3.263233634618105, 0.252562167030584], [0.0, 0.0, 0.0]], [[36.30381858253571, -3.556274811719441, 0.42357045882048777], [36.197031797148526, -3.150407283922023, 0.44128261313070716], [36.00853032224261, -2.8281414096304935, 0.286900845879469], [35.88502248618421, -3.5574767927674547, 0.43449324979153353], [35.505491922341605, -3.4469682399927466, 0.30973855061051714], [36.31492037205566, -3.979216420938517, 0.4102448788045473], [36.22121239474164, -4.342995520887827, 0.24353686380466052], [36.69521698362778, -3.436081376911938, 0.41819043528615907], [37.002634738281934, -3.208336950369876, 0.27684661124048027], [0.0, 0.0, 0.0]], [[36.637683453586654, -3.5451856049671115, 0.4324973869210863], [36.56048460479144, -3.129507830547233, 0.4420490585638435], [36.49622205045375, -2.7420619510861717, 0.31776746246427806], [36.22724358212622, -3.564863409850082, 0.44673472986807927], [35.855437743134, -3.464224652710739, 0.3110013226543639], [36.72766506423776, -3.9563582691377555, 0.42227747943480104], [36.82376935764719, -4.3212043110713605, 0.264538267082901], [37.02544993549008, -3.398409811577434, 0.4222092143255091], [37.3148826567857, -3.1456363193388626, 0.2743928705760276], [0.0, 0.0, 0.0]], [[36.96344959545784, -3.53867559421033, 0.42176260336606186], [36.94099591628826, -3.130975196993604, 0.42569895870047436], [37.08464780541377, -2.7663740079142887, 0.2748766596735522], [36.55352046086681, -3.5805922921970934, 0.45144406991660757], [36.1816716534859, -3.480361260599727, 0.31226450162799624], [37.15944655674309, -3.8998318705554733, 0.40280038395503687], [37.45736870560229, -4.130272584742643, 0.23662006562092305], [37.33419348170026, -3.3621226187398205, 0.39660502675536163], [37.60139168440554, -3.0985873235202703, 0.23601418997191714], [0.0, 0.0, 0.0]], [[37.34036094623734, -3.51477769401629, 0.39575894067858125], [37.24898854884103, -3.094269667759815, 0.3976036643868995], [37.25165684418454, -2.706199574093578, 0.2466235266275404], [36.9351781411891, -3.57537804300496, 0.4154929499450798], [36.55144566603918, -3.506593774534914, 0.28621287110759924], [37.504206704469325, -3.9011781484301338, 0.39744461530048963], [37.71256636345197, -4.205272110222401, 0.24035932556475947], [37.69892228974576, -3.3236242555749436, 0.3785324578866806], [37.939789738783624, -3.035419272004921, 0.22827014914897495], [0.0, 0.0, 0.0]], [[37.693804740431524, -3.4694550023930346, 0.39260175704341954], [37.53038588365684, -3.070323099636724, 0.39873329181763234], [37.349889340556494, -2.7374254760377568, 0.2446032191280949], [37.28880840021512, -3.5526046249379357, 0.40577744913812713], [36.902002401939924, -3.499255702617175, 0.2733310117904081], [37.82072653905881, -3.8706632777773446, 0.40986495782958715], [37.882242402093404, -4.229433010916025, 0.2520245404734438], [38.03363442417821, -3.260794579836438, 0.37975588202754357], [38.25871966019938, -2.962542605338305, 0.22803279920152475], [0.0, 0.0, 0.0]], [[38.02212796102588, -3.408436005007016, 0.424332563344093], [37.78879617723672, -3.070344189115701, 0.42099239613717193], [37.469076002200936, -2.8827842906232677, 0.25156870025343925], [37.621926249724304, -3.496294367523131, 0.4362888991300296], [37.238404271079474, -3.449053177389551, 0.2992905751002259], [38.09280508418786, -3.8111963603385237, 0.43473549643705695], [38.002784713998274, -4.162942192314652, 0.26014366362979036], [38.37586490359719, -3.1900941498618027, 0.4108951061148144], [38.619166562589584, -2.894219890368022, 0.25636718908342043], [0.0, 0.0, 0.0]], [[38.299584209137564, -3.3671875099123834, 0.44364997612815404], [38.09385656481113, -2.9963770541290553, 0.42692259531055066], [37.83174135895635, -2.7303009435413186, 0.25609415699264054], [37.89679580093992, -3.4624096834145135, 0.45500843230170634], [37.51001402532858, -3.433616788645427, 0.3167851884572711], [38.42179474655283, -3.7753189705305514, 0.4616497767237724], [38.43687027837609, -4.125340816612478, 0.2743355097193922], [38.65003072750133, -3.1476391329062636, 0.42800673044620563], [38.89146780793674, -2.8542161083724533, 0.2684447076132622], [0.0, 0.0, 0.0]], [[38.559963685669786, -3.3338041083180867, 0.437286102506546], [38.419508883040855, -2.9327522860665245, 0.42086140600137534], [38.318575290299904, -2.5627244645780527, 0.2680814402112626], [38.15836679516554, -3.4283626331680463, 0.45251194761616576], [37.77875183412423, -3.417286980227453, 0.30565409736543936], [38.73885850694535, -3.7160854236045537, 0.4558556269225782], [38.922972815682144, -4.019327644270972, 0.2761184025176137], [38.91311773445555, -3.1190806284079904, 0.4179201914885008], [39.15013326722313, -2.826576596962638, 0.2516376033761314], [0.0, 0.0, 0.0]], [[38.816928066127616, -3.301288877664123, 0.41236063700091496], [38.73515247757107, -2.9102560551439596, 0.39890228205061923], [38.82632392830457, -2.5455097004205673, 0.23544979435426502], [38.41789958407942, -3.4125751810516873, 0.4409406116863979], [38.04601445765141, -3.4012389228451925, 0.2848194132234865], [39.070946294267515, -3.608839129752512, 0.4127977847585262], [39.403891683903986, -3.7839810584174542, 0.24880089255638357], [39.14718634935919, -3.0777316213411106, 0.3930658660037078], [39.36183628978707, -2.784739523229373, 0.2362027181220077], [0.0, 0.0, 0.0]], [[39.10709330286495, -3.261127549872321, 0.3890040225859957], [38.945951759360575, -2.854720614150924, 0.3865006869265821], [38.85336756198507, -2.476339846860934, 0.23247001520987592], [38.716130818343345, -3.3694352489993804, 0.4014851534150523], [38.33907032293891, -3.337233140163294, 0.25370365948725065], [39.325472460093415, -3.636527571966527, 0.39216530309751046], [39.57685913491925, -3.931325471491556, 0.24173549840266126], [39.435339272529134, -3.0143014831906294, 0.3760839098192913], [39.635168633676685, -2.6864020565317857, 0.22532582967199413], [0.0, 0.0, 0.0]], [[39.383661275407974, -3.2056810052502156, 0.37495892969100103], [39.15871785627098, -2.8311266227264693, 0.3958150396603355], [38.89883340746074, -2.549696894852414, 0.246466255481055], [38.98567139774728, -3.326121911858028, 0.37250494137417606], [38.595632871193764, -3.3088384837766167, 0.23572009359862078], [39.554037828863656, -3.590637792903306, 0.4016466148109439], [39.678167400451365, -3.926636184672697, 0.25478014654402037], [39.7246874612854, -2.9749175320744032, 0.3707523235106039], [39.962123669858336, -2.6714819245169963, 0.22929424949778648], [0.0, 0.0, 0.0]], [[39.65121539257679, -3.118569065963572, 0.4371715453849699], [39.36953069155207, -2.8313638476885967, 0.42475380556728687], [39.03515354055015, -2.6804488924090193, 0.250174876125175], [39.2708007172727, -3.2606030441043368, 0.42581268042334586], [38.89636430753855, -3.253436866156301, 0.2607941170504805], [39.79127447306214, -3.5082700256172297, 0.43900058489575755], [39.777908149064636, -3.875221488756632, 0.25892221602329335], [39.99209749114143, -2.862716853972515, 0.451569523361369], [40.26636353022902, -2.586657953874425, 0.31611150744036864], [0.0, 0.0, 0.0]], [[39.8915182551928, -3.0561069190528873, 0.47869425684111844], [39.646485582855355, -2.715592855971732, 0.4490271218977782], [39.35586316843488, -2.4929490776465064, 0.26449432573422377], [39.49932190937071, -3.2083808152075513, 0.45683007060374764], [39.12544508033028, -3.2614151851318876, 0.28827054517207895], [40.041250558705954, -3.449312540886831, 0.5062670464725426], [40.08590884239199, -3.801537517573868, 0.3260112314495666], [40.23987482029912, -2.8240035712576423, 0.4934738589859564], [40.520384577551845, -2.555457510971, 0.3610578934338941], [0.0, 0.0, 0.0]], [[40.125132189083246, -3.0026334226167974, 0.49372590319857124], [39.93673676062295, -2.6272064503116943, 0.4512103110631772], [39.7228996004319, -2.3241844112567853, 0.2712861234331962], [39.72585146941881, -3.1277240776183524, 0.4635152874088857], [39.36109645774652, -3.1851277652205088, 0.2863739536415542], [40.282841968938534, -3.391772049984229, 0.5348034969410027], [40.43771641324325, -3.7213158630153798, 0.37739193643452185], [40.480950747449576, -2.7884746743769133, 0.5168211929570824], [40.748372048873705, -2.502887380185171, 0.3862332039941437], [0.0, 0.0, 0.0]], [[40.34377745513513, -2.9572614295184163, 0.4848964961012622], [40.222021869407676, -2.5520239170345516, 0.43821535862865324], [40.183455139614296, -2.1798075060937743, 0.260818784769217], [39.93895687572514, -3.0684347902390265, 0.4540648415041696], [39.58153998524398, -3.101479060497141, 0.2613146969078987], [40.56046759548822, -3.3093092663387647, 0.5351193801623598], [40.877839159598295, -3.5453391497467424, 0.4233186866664154], [40.69428661145452, -2.7423140478291894, 0.5048786037730174], [40.953522480701515, -2.45306183738287, 0.36622716813592054], [0.0, 0.0, 0.0]], [[40.574622289537785, -2.8920605745132386, 0.4582562026494219], [40.47836512904808, -2.512366448207443, 0.41372761305134786], [40.535091542942645, -2.1560443734246437, 0.23698360682170003], [40.18019429927751, -3.042617727830012, 0.4267467383575286], [39.814106829753264, -3.10311739032339, 0.2459240452416371], [40.82350782279305, -3.2056656210116645, 0.5177677707278738], [41.16829875610594, -3.414670000544327, 0.43360451627086954], [40.90685778462251, -2.6493426924471546, 0.47249276294484543], [41.162151425091594, -2.3593505051188246, 0.33060846845497777], [0.0, 0.0, 0.0]], [[40.84548847301132, -2.8413425470471676, 0.458163929261636], [40.70209811104394, -2.462184393453482, 0.4320101470480714], [40.62693662283701, -2.1303145473543497, 0.2581791308841417], [40.439290073264964, -2.975653099646212, 0.4242957209720609], [40.06513173335101, -3.020807348417121, 0.2457637598256613], [41.04306578710257, -3.210112498811439, 0.5120813218178912], [41.26620724970772, -3.5248294075114566, 0.39046089824249025], [41.186414967547975, -2.607282783801021, 0.4728219437440423], [41.44288989084225, -2.315144068736763, 0.3310087504116685], [0.0, 0.0, 0.0]], [[41.14758111633022, -2.816050885225449, 0.5010943367078763], [40.952529668389964, -2.4365408861028137, 0.46437413501504116], [40.72233357183843, -2.1544187579780583, 0.2657746473356054], [40.747260475417605, -2.9032843985425694, 0.4603997507423419], [40.38172257648985, -2.8873654337215915, 0.2780371754275454], [41.26048324031883, -3.2291115556502517, 0.5281448263655206], [41.32508007962727, -3.5632593653780567, 0.33112473665494147], [41.50436228094757, -2.613218599235942, 0.533731010532345], [41.76696957919395, -2.320364166090305, 0.41244429174979197], [0.0, 0.0, 0.0]], [[41.43970703970901, -2.797749563970519, 0.5253971157466305], [41.22096843157861, -2.454928003890868, 0.517172621063896], [40.94568758472092, -2.2405050488461584, 0.3166947065076039], [41.03746865465304, -2.8746345564218068, 0.4875243359891988], [40.66823469196095, -2.8192131317040783, 0.3155003004858642], [41.49369902672605, -3.2121659092221475, 0.5342306144088799], [41.419886054715676, -3.5164098238401573, 0.3086475413800603], [41.80671441803489, -2.5963850486953794, 0.5573196709779922], [42.09506018474311, -2.3207920196765617, 0.44406183616390893], [0.0, 0.0, 0.0]], [[41.6830422888693, -2.8060496324745405, 0.5454573655009531], [41.53882739666994, -2.4130800557225713, 0.5565990597791117], [41.34813316297588, -2.1021855437641785, 0.384009203972903], [41.26719154280499, -2.836960280546621, 0.5221980867401004], [40.89549097325366, -2.742034656072607, 0.3670501088104042], [41.739773058367696, -3.2238073783071615, 0.5228951441943879], [41.730081745057134, -3.5557424605814822, 0.3022795030248117], [42.065758365866884, -2.6549922273878073, 0.5781614419924365], [42.37001934836954, -2.4035013363163107, 0.47008142986613977], [0.0, 0.0, 0.0]], [[41.89808497975972, -2.81738236415563, 0.5394836466377816], [41.86299653312253, -2.3909153110596235, 0.5648212540584563], [41.89063902310619, -1.9886356922776238, 0.45668467278223734], [41.48799145042, -2.8112746595832414, 0.5304283924490351], [41.13756620463592, -2.659293567657223, 0.3829266819613236], [42.00467630635077, -3.225329172370209, 0.5188452170692156], [42.17197987050676, -3.5565819820753863, 0.3466716559994432], [42.29330250852074, -2.6938430720594315, 0.5541903491624207], [42.61460505550398, -2.46705302695599, 0.4332910879409195], [0.0, 0.0, 0.0]], [[42.12667624890434, -2.815224207399996, 0.5170731832364738], [42.195604134694264, -2.4276763008941917, 0.5478054974836711], [42.41511835331584, -2.104337031563775, 0.4244243790169073], [41.71236100486326, -2.776631436613466, 0.5269746740906331], [41.36546532705481, -2.6091382404012773, 0.38948427760839505], [42.258011737892474, -3.1861949417206494, 0.48601063356924035], [42.51946289303831, -3.457229871722169, 0.31996963937367445], [42.52347243778487, -2.720944763377789, 0.5163904379926596], [42.84725663978221, -2.5063053274526377, 0.38475252898609713], [0.0, 0.0, 0.0]], [[42.42233795649148, -2.8079222405107642, 0.47441202052098147], [42.46684362498545, -2.375856748947807, 0.5252465149431818], [42.53221682716028, -2.0113729619617096, 0.3681193535830633], [42.01546598335822, -2.727962202703971, 0.4793412512178821], [41.67131382237421, -2.5355647079400585, 0.3595978274921557], [42.43845646000972, -3.2332859792280693, 0.4540198572332787], [42.49699730128376, -3.5806290579570055, 0.2659714369064314], [42.83317394675416, -2.7590124105486953, 0.47704335876712783], [43.18074169262184, -2.5688089376688543, 0.3582822466320755], [0.0, 0.0, 0.0]], [[42.73966424944318, -2.8014937764453185, 0.46664751768767604], [42.704883150329415, -2.3712831017480713, 0.5037370615860218], [42.60974845482405, -2.0570566085571946, 0.3000098661349424], [42.34401850723299, -2.701938192615481, 0.4695492815114782], [42.031751770858655, -2.4701176773010123, 0.3381519956086828], [42.689719201294366, -3.225861322763269, 0.4459421948399422], [42.59381387553178, -3.5740620308373416, 0.2603215765900354], [43.15501799635235, -2.766447102623523, 0.4661840047630082], [43.51525881782712, -2.617679155983278, 0.3295089386294005], [0.0, 0.0, 0.0]], [[43.04295876265658, -2.7808579492197216, 0.47447493397725937], [42.95969455211655, -2.385432791714822, 0.4789695233014455], [42.76423935634967, -2.1050345277697593, 0.2815605026725964], [42.644412939719565, -2.69121123172543, 0.47661822482090027], [42.3223285519529, -2.4905636797453305, 0.3258089689572912], [42.94821125195417, -3.1734773638353184, 0.48209321424137513], [42.733066470036604, -3.4531221951244815, 0.3014902119082028], [43.45978035301081, -2.737785396021374, 0.4705854595668189], [43.81711718211287, -2.5878306093888397, 0.3263361890438977], [0.0, 0.0, 0.0]], [[43.294211110753345, -2.7548942359060504, 0.4708036991053197], [43.298611246945505, -2.3326178886275657, 0.4564447892482686], [43.216504661157586, -1.9730078483695148, 0.28213623423254836], [42.886738823836524, -2.659187429282165, 0.4837209235733408], [42.538686823191355, -2.4905157798548294, 0.34478444393468316], [43.19875287234195, -3.1683206699123345, 0.4824724191175832], [43.05422086934126, -3.522198561420867, 0.33064157943340106], [43.69834834839441, -2.7246253735289465, 0.4587704272783337], [44.034509829739115, -2.5633119440089973, 0.2960788303583062], [0.0, 0.0, 0.0]], [[43.508607711867285, -2.726421670978205, 0.4400701955283075], [43.559475942460764, -2.3018606687922354, 0.42337055531635], [43.69319940113859, -1.9388061156636265, 0.26730877839858735], [43.09965373478137, -2.6525089657162777, 0.46511777796207], [42.75587546518432, -2.45833843735985, 0.3382759240231447], [43.56704286943829, -3.1473163140554448, 0.4718820694943198], [43.696847234449436, -3.5253211660575183, 0.3594406854894251], [43.922399554531005, -2.6820433534297226, 0.4040005309490753], [44.268669483518345, -2.564397061295569, 0.23646460098908237], [0.0, 0.0, 0.0]], [[43.7342948322624, -2.699424187938686, 0.4225620731838431], [43.81715951174571, -2.3205774308461007, 0.40158166465084116], [44.012064994637974, -2.011216709981006, 0.23296758969658357], [43.32643783058676, -2.6308559709601065, 0.45302254074835446], [42.97779942686067, -2.4433736290729464, 0.3309787222504026], [43.834233892839684, -3.0798047641952158, 0.42656915405252566], [44.03705375102154, -3.395483469092658, 0.2692542224143736], [44.12726939008418, -2.6526482516137615, 0.4021228003336508], [44.45488191111915, -2.5333077684396965, 0.24185609502003944], [0.0, 0.0, 0.0]], [[43.961883144567985, -2.6812769289766654, 0.4249460047256197], [43.95136124089814, -2.2449785496852495, 0.4224127489146341], [43.936584343602654, -1.867503140704565, 0.2559344911607588], [43.5551992067934, -2.630362875859266, 0.44972510520586184], [43.20144424884493, -2.4667757276161035, 0.32483780534646134], [43.994349431166015, -3.1136664399073024, 0.4327321080473874], [44.043623147720254, -3.4853454945302564, 0.2672227159389889], [44.38239374746576, -2.623233074595622, 0.39599844081148955], [44.742904756635376, -2.4970416829291455, 0.23175977155744554], [0.0, 0.0, 0.0]], [[44.1947041332624, -2.6595621504308418, 0.43599198405129785], [44.09151690104277, -2.242905771382026, 0.45444279624719836], [43.893568666205994, -1.9462701746137387, 0.2750476485671563], [43.78306413408975, -2.6335499407732446, 0.4474552816382577], [43.41820438550409, -2.490679043829956, 0.3210147466243914], [44.183819217173955, -3.096237577164974, 0.44935422814314946], [44.09389978040631, -3.447399867059517, 0.2706126005213488], [44.61028634735619, -2.6039733720712106, 0.41648074805593244], [44.98115564107025, -2.5259564317544783, 0.25920415876575276], [0.0, 0.0, 0.0]], [[44.409115769905505, -2.6490751957623915, 0.4732827297472109], [44.25010622455065, -2.278751130138844, 0.47808155169300637], [44.00765148209631, -2.035944418539431, 0.2814683699974066], [44.0008442239687, -2.6684480805394934, 0.48034999037026715], [43.63139355628776, -2.5618943593486136, 0.3458525876095941], [44.40785534932092, -3.043034614739984, 0.4679056719713639], [44.28130901147759, -3.3578429022389846, 0.2740429441404322], [44.8312974984146, -2.5784358082174132, 0.47011810266513926], [45.21649931089853, -2.5433787442152953, 0.3265606658791656], [0.0, 0.0, 0.0]], [[44.58836247173658, -2.6518572901804367, 0.4853413076154617], [44.478656622052306, -2.238180393862283, 0.4815332441885333], [44.35990845383954, -1.8946804887612367, 0.30031117620113607], [44.17397433518027, -2.6779570713604786, 0.49311233394020965], [43.79640525265995, -2.589243183328535, 0.35723068049359036], [44.655422185184065, -3.072563467618686, 0.4845807548926617], [44.67334978658143, -3.4261712429685134, 0.29474956821263515], [45.0072447905952, -2.580398694716908, 0.47882374340458905], [45.39150344067533, -2.5488838096517, 0.3317308696664265], [0.0, 0.0, 0.0]], [[44.7548375679802, -2.6590399321012983, 0.4696412788543611], [44.74085612109118, -2.238098460827231, 0.4661966903147313], [44.83198270366799, -1.8558573325992025, 0.32959606023344773], [44.33413971354489, -2.6815078370423637, 0.4793993421106189], [43.96634314386941, -2.6175262675326714, 0.3177381825238266], [44.885541277840595, -3.059760472074465, 0.4716059601416937], [45.096142929306566, -3.3805515730486047, 0.3191312710686071], [45.17107728148504, -2.5868160084671175, 0.4613466631708917], [45.547605961590115, -2.524303219938797, 0.31133673267699213], [0.0, 0.0, 0.0]], [[44.9495391504416, -2.6595841565798, 0.4353157755905464], [44.97630012098275, -2.2651510357746067, 0.4251143312368404], [45.12795446832463, -1.9211151344048119, 0.26815494270947515], [44.5242632959245, -2.6858509833395625, 0.44311261586438905], [44.16368261885991, -2.6442930833064433, 0.26602306435382417], [45.095777900555255, -3.0302142439782394, 0.4397430603246512], [45.34930746375693, -3.31693291954695, 0.297196179622539], [45.35846654915657, -2.580466706088164, 0.42591097911807435], [45.72629714517052, -2.4817246590024302, 0.27737470701696837], [0.0, 0.0, 0.0]], [[45.18117828584622, -2.6533779746834356, 0.3884417117072955], [45.156540125808185, -2.2130826298973276, 0.40936811430921216], [45.157072302631825, -1.8350251857809394, 0.25509309772792244], [44.75384362472004, -2.679089653799113, 0.38806094031446753], [44.37447666665304, -2.647482839155795, 0.23367426403725994], [45.26437868717693, -3.0781424046734056, 0.4095894264136171], [45.3624093136964, -3.437290259257673, 0.25119703439171653], [45.595032254592276, -2.572024527332529, 0.38048045070594533], [45.962103425505795, -2.4487407474381215, 0.23604302679543607], [0.0, 0.0, 0.0]], [[45.470754924577925, -2.626518194419795, 0.41387870577990105], [45.3722772558778, -2.2085983770981605, 0.4175292517611975], [45.21000508373749, -1.8715681077017043, 0.24814136575979004], [45.05083383776721, -2.6419563380157802, 0.40236044467130383], [44.672853420930075, -2.6080071308618065, 0.24960414264205377], [45.47890746119983, -3.060655277835723, 0.42023406720463863], [45.434587222013455, -3.433761369310601, 0.2547081508778373], [45.89158054137475, -2.5537769923652403, 0.4293248434753978], [46.260250326858085, -2.4336240416405404, 0.2900726182033475], [0.0, 0.0, 0.0]], [[45.75910035008701, -2.605209246700061, 0.45399646766110047], [45.60768595137451, -2.2299813667227113, 0.4568753403405992], [45.36827845125452, -1.9713925740139233, 0.2668165532840344], [45.34029092019526, -2.637667041096399, 0.4332195098551349], [44.97054537477623, -2.6018279252664547, 0.2629937635510355], [45.74245446318414, -3.0074806983515354, 0.45063969945409615], [45.59020907704934, -3.3262839293282123, 0.2641792958063474], [46.17223253175916, -2.517518514255284, 0.4749023616645827], [46.54498780990541, -2.400371859702993, 0.34937863314317424], [0.0, 0.0, 0.0]], [[46.00281381208327, -2.592061335232597, 0.47506803002952047], [45.89651604592314, -2.187621428517825, 0.46488424716800664], [45.732961731835054, -1.868368781378259, 0.277587909877144], [45.579241800572404, -2.6161607076190507, 0.45114219423496726], [45.200525277094705, -2.574672933538457, 0.2897810650841794], [46.016079242596575, -3.0143508295251125, 0.4718474920248109], [45.95565365248317, -3.36688679204134, 0.28256132424371844], [46.41325375693194, -2.5068399487799593, 0.5067519022333097], [46.786150513616136, -2.3823663098232144, 0.3949302557517257], [0.0, 0.0, 0.0]], [[46.22421993854888, -2.5825069021793987, 0.4688456060456426], [46.18583534678697, -2.156057460785079, 0.4652137346526371], [46.19846957306915, -1.7638362962107765, 0.32824454209007176], [45.80612784703707, -2.6052082858573633, 0.44118393833239905], [45.444418680643736, -2.562029274581672, 0.2588266825127558], [46.30638054956043, -3.0015537879521568, 0.47636075889350843], [46.43625504640966, -3.364386597128003, 0.33241676408991117], [46.63831948364899, -2.4943375631302227, 0.49452591151712455], [47.0103438916955, -2.360179667523118, 0.3766957344396909], [0.0, 0.0, 0.0]], [[46.4388214839853, -2.5731743492889696, 0.4497578325297422], [46.48232477497827, -2.1771174695082447, 0.4510536749723093], [46.703422082288995, -1.855812371088388, 0.31544349674673444], [46.01351004291562, -2.5973726444359553, 0.4321640670154318], [45.64863379910699, -2.551272274129823, 0.2533819769571083], [46.59686827960391, -2.9377782113325352, 0.4594490872029425], [46.89701964831964, -3.191875097586521, 0.3340617692589252], [46.8446888117272, -2.477207128608505, 0.46446284307574603], [47.20420081108468, -2.3263204366975274, 0.3359148709116862], [0.0, 0.0, 0.0]], [[46.724373080053276, -2.5546115867734835, 0.4150854757150033], [46.694434012860484, -2.112019496505396, 0.41862243678070093], [46.73045373481288, -1.7415566843508106, 0.25848787990822875], [46.30517172419796, -2.5689098833322217, 0.3905986578785623], [45.92915131081266, -2.5250135146221564, 0.23052269481185608], [46.79337495217888, -2.9903194448255226, 0.4208843130172052], [46.90203458702101, -3.345260633172625, 0.24496147882380667], [47.135811239850504, -2.4580480368278983, 0.44131434225656696], [47.491118714045776, -2.276587678788467, 0.32922056092700513], [0.0, 0.0, 0.0]], [[47.04518199763253, -2.5296818440932642, 0.4338898407936175], [46.9584096095336, -2.112123762470504, 0.43946922396684157], [46.81351074000039, -1.7757777952842053, 0.2615551955256272], [46.62484171530993, -2.533098366083935, 0.40473976872636597], [46.25183109064418, -2.484014358237355, 0.23842101036990243], [47.041793521824616, -2.9681141987573105, 0.4385803545224725], [46.993201641412554, -3.3351238774860774, 0.2621621898790451], [47.450215928112065, -2.4397222287616374, 0.44974530687999686], [47.79473378272904, -2.251181378273626, 0.32188352805884307], [0.0, 0.0, 0.0]], [[47.360451199457266, -2.510524188160941, 0.4718945280185647], [47.212606318611236, -2.134586213289642, 0.47082847605802997], [46.97896589021205, -1.8764198880716931, 0.27359688142192495], [46.93954988179518, -2.5381048088596763, 0.4456681282530888], [46.56498719058665, -2.4914849671497796, 0.28018530860189134], [47.333413192740295, -2.9085283071857786, 0.463485987982393], [47.169189610187026, -3.2164489260486233, 0.26892720692581074], [47.76821079531854, -2.4034054860776513, 0.5025737172014817], [48.123363863414085, -2.227416436422677, 0.3889165100485968], [0.0, 0.0, 0.0]], [[47.630506528246954, -2.4979183404586807, 0.4869386959536148], [47.537264202755566, -2.083864670155223, 0.4841362548319062], [47.407605418826705, -1.7536588539373865, 0.29289670575245536], [47.20812505141978, -2.512322139402426, 0.46713360356192923], [46.83211947305898, -2.456201490478149, 0.30699207011741575], [47.649271606734644, -2.924900932934629, 0.4816650381033092], [47.613119981394966, -3.2796865367519805, 0.2897568016248317], [48.03269199478133, -2.398840439543326, 0.5119545659901066], [48.38168085876156, -2.2225501544750252, 0.39359753939150804], [0.0, 0.0, 0.0]], [[47.88275288360172, -2.488391142517904, 0.4740724210928627], [47.87279531704956, -2.063683406404883, 0.47571048632423574], [47.937614046890154, -1.6863682304226701, 0.3247099992675237], [47.461197152155385, -2.5004149042615182, 0.461315018113033], [47.09351260243695, -2.442111434644992, 0.2935702173961443], [47.97819480132355, -2.901832100867671, 0.47563057804914805], [48.148146344900205, -3.246752838308044, 0.32739947795127206], [48.28760651327803, -2.3885518154252208, 0.4867076614247568], [48.63249338891738, -2.2071541743009275, 0.35514390995972056], [0.0, 0.0, 0.0]], [[48.15134159488243, -2.4763687769718135, 0.4396432472773457], [48.190404078348855, -2.0834486693827277, 0.4463055216730585], [48.38299113415432, -1.7474104649652273, 0.3139300739490637], [47.7272782405085, -2.4959007697580486, 0.43518744880748755], [47.3657722251235, -2.434211960731603, 0.2587443253668455], [48.30462392502943, -2.8418374826410706, 0.44483030654007555], [48.58028540031832, -3.113560264036365, 0.3100745223566879], [48.55048109014388, -2.367010994208427, 0.44219957544543437], [48.88895388553496, -2.182740017723045, 0.3026485147157551], [0.0, 0.0, 0.0]], [[48.47479231661206, -2.456724412203849, 0.3987576980770651], [48.45876439802815, -2.017364645274083, 0.42259441063345987], [48.45761141149972, -1.6470994161469839, 0.25892912723100586], [48.05409148556017, -2.4551788964052834, 0.38874853806204906], [47.68294984243935, -2.3821635137713795, 0.23283971050697266], [48.54981650859302, -2.8758194619939035, 0.41763593199655363], [48.66148012822999, -3.2232847641568534, 0.25685965831656343], [48.87997069834305, -2.3643176318668497, 0.4056766819741544], [49.22075981753845, -2.1728609815217284, 0.2749682046331862], [0.0, 0.0, 0.0]], [[48.84368917169178, -2.4062918331743006, 0.428727001994892], [48.74749998140805, -1.9954175158705791, 0.4296905509303851], [48.560700877171136, -1.6750817726929579, 0.25414803784939455], [48.42797685733889, -2.3930888597951787, 0.41652406861233104], [48.05973122753589, -2.3147647429830074, 0.26104389370990655], [48.8263850395942, -2.8439459918197216, 0.4300308833037822], [48.76024067267717, -3.2130889920953187, 0.25787326002183936], [49.25637076733101, -2.3215587112137714, 0.44263087549869984], [49.60022072307036, -2.133753478559847, 0.30806886312774856], [0.0, 0.0, 0.0]], [[49.19113589390459, -2.3651256378809515, 0.4625266317326735], [49.05218156071188, -1.9801580394622065, 0.46574358814771943], [48.82048841796099, -1.7092744369069406, 0.2780003207931237], [48.77460850268881, -2.3832196156468597, 0.4483298843971979], [48.41139783932932, -2.3152052135689427, 0.28048195619876715], [49.163300975767534, -2.760262523197998, 0.46167642496907846], [49.006027894587206, -3.0690073885769413, 0.27442859408002906], [49.59742150452565, -2.2551074588900644, 0.47367188349792444], [49.94347124645292, -2.0645951092239683, 0.3452458645416616], [0.0, 0.0, 0.0]], [[49.4993171135179, -2.3272713832976666, 0.47606168922507064], [49.430283343142314, -1.9127354116597854, 0.4681949474707962], [49.30666000749196, -1.5798293264269063, 0.27756564558215535], [49.078409575070225, -2.3118402863423806, 0.4602489031938511], [48.7038305034793, -2.2286924866684794, 0.3071864746563733], [49.491795666748025, -2.7507620784018383, 0.4765719912622771], [49.43844249609023, -3.098796605743935, 0.28529439914496024], [49.90136768802999, -2.2384671176210755, 0.49025425710225373], [50.237155301449896, -2.0425605350207054, 0.3587330577394119], [0.0, 0.0, 0.0]], [[49.7851658504182, -2.292124752053161, 0.46277340282392954], [49.80433783143822, -1.8656692020314063, 0.4541170868657658], [49.88455653291855, -1.4889974634856913, 0.3016377220075926], [49.36663291880812, -2.2647153608211794, 0.4521292195131259], [49.00162547651128, -2.166266807360172, 0.29236914277367], [49.84627524402499, -2.713113343234293, 0.4720874511122353], [49.98538180797768, -3.065860577529199, 0.3162992145783045], [50.186255374370965, -2.203722577489698, 0.46968366474331863], [50.51447400327374, -1.9981580699382175, 0.33101520196873707], [0.0, 0.0, 0.0]], [[50.084305980765485, -2.251737667406382, 0.4282140599796716], [50.14842199520968, -1.8653397497501736, 0.4256152144642802], [50.35792035290501, -1.5494036610601865, 0.2790500678086008], [49.662098457943095, -2.2345363087730097, 0.43247229271948595], [49.3107872244817, -2.1219384265941383, 0.26352728916957907], [50.216251110191315, -2.6254411538902067, 0.43457816164092533], [50.475551311686964, -2.9168510673625083, 0.30164703585128017], [50.48060209786237, -2.1540172577717946, 0.41957388938450346], [50.8065873123953, -1.9541998647153156, 0.2698743226400405], [0.0, 0.0, 0.0]], [[50.44559146946282, -2.218094627379361, 0.3837635952770292], [50.442274257008144, -1.7982743007708828, 0.4105580906588583], [50.466929598754895, -1.445145761543224, 0.25835315758170674], [50.03016208340095, -2.183859080614695, 0.37683485927584903], [49.67292177538475, -2.0445895757906696, 0.22648368653094314], [50.490948111213854, -2.6478654863046884, 0.3873785384106238], [50.556401877187774, -3.023150763745963, 0.22976501211510947], [50.852031968602496, -2.1236897623308497, 0.3830325858758426], [51.18844633766089, -1.9250005559552923, 0.24315765751253784], [0.0, 0.0, 0.0]], [[50.82989194618379, -2.2194876765976086, 0.40841314906078374], [50.751367630410684, -1.793817758324168, 0.41857516586862553], [50.58557267947385, -1.4535447818918819, 0.25067129523936105], [50.42369198851274, -2.162686602668413, 0.40237507218183166], [50.085127897035484, -1.9846984009552187, 0.2553090921515798], [50.78862624082501, -2.656717190825059, 0.40847196169634753], [50.66732805649113, -3.022786779250117, 0.24778547384674224], [51.23786941762693, -2.1389093696412016, 0.4130381276698702], [51.57179667133586, -1.9367690779749003, 0.27655585311530956], [0.0, 0.0, 0.0]], [[51.18943289364582, -2.2373500876524903, 0.4444498134252569], [51.09301785068659, -1.8521009144001312, 0.46621758685813947], [50.88959219408794, -1.5554266295470471, 0.29733826307516004], [50.788221906465566, -2.173868304744811, 0.4438845777001569], [50.454889131624235, -1.990313501632719, 0.2997222044899063], [51.11025813182369, -2.624970997153616, 0.4277357431772908], [50.90994619990553, -2.9251281596497374, 0.2509370058914016], [51.59832046064314, -2.159215031071877, 0.4507546544010393], [51.93524250209901, -1.9543028122393389, 0.3226684919384309], [0.0, 0.0, 0.0]], [[51.505782103468796, -2.2543513528907724, 0.45694469646859703], [51.49269668953017, -1.8269949027031582, 0.4720169707511151], [51.47178292873168, -1.4452343324266748, 0.3229341219706737], [51.09810550979195, -2.190041651230243, 0.46307337416325073], [50.75776200062421, -1.9981206375179257, 0.33459649081054565], [51.475905169171725, -2.676413617874762, 0.4347877305122102], [51.39779620792429, -3.045876511628731, 0.26885314395814], [51.9077137017631, -2.1768958815952395, 0.46453852289191194], [52.23608519949653, -1.9738731396029152, 0.32960031803662815], [0.0, 0.0, 0.0]], [[51.80414221446144, -2.265892820015373, 0.44502576982607567], [51.894848483968666, -1.8556437150041722, 0.4692129371505512], [52.10245574932028, -1.515720556980435, 0.3464464960951994], [51.397976554988645, -2.1786439705514677, 0.45356651043487445], [51.071797466315374, -1.9718975080315524, 0.3128430193160024], [51.85118305205511, -2.6865949722945888, 0.4323145548253766], [52.002183226876184, -3.041567387170325, 0.27939653084061583], [52.208880428124736, -2.2108597498884, 0.4372640680158828], [52.54583545957717, -2.024964019382218, 0.2946150377303291], [0.0, 0.0, 0.0]], [[52.143597523399336, -2.2808328911920457, 0.4161923539172203], [52.247704476634155, -1.891114769114138, 0.4330080251603757], [52.44564294445033, -1.5650420247693821, 0.2946069169528224], [51.7436425405766, -2.1721504628504147, 0.43201269906188317], [51.43799652823175, -1.9459053549331562, 0.2844912997640767], [52.18234483458455, -2.6794583466699073, 0.40003433701465857], [52.328982929248205, -3.0158998645997745, 0.237141758872892], [52.55104220371244, -2.251695083558048, 0.4078811929839283], [52.90162969525604, -2.094706117608084, 0.2677369560221356], [0.0, 0.0, 0.0]], [[52.51841743577256, -2.28423849267853, 0.3802353015921049], [52.573708200433956, -1.8637722681418463, 0.3952042877816641], [52.61961809634413, -1.4932529175441358, 0.24761179396486285], [52.11919748337694, -2.1663939354193076, 0.3856556401025485], [51.80799018283088, -1.9305180494190588, 0.25090677777189585], [52.48132525599481, -2.7055107686682374, 0.38661952709135855], [52.451611763992986, -3.07727899368271, 0.24013409661171736], [52.925768593231616, -2.269813813183043, 0.37032124943363687], [53.283318127819, -2.132443794824935, 0.22538203759192524], [0.0, 0.0, 0.0]], [[52.92761092081335, -2.2805184191553156, 0.40011575299988905], [52.89541662352637, -1.8522550017552004, 0.4111090862306417], [52.743365021697215, -1.5009542275902785, 0.24978054532925986], [52.53849789471227, -2.1654248966061123, 0.39605776148284255], [52.235541568599814, -1.9361549551333852, 0.2474669014137718], [52.80156976349805, -2.682468190204997, 0.3910169819147795], [52.569427421980734, -2.991690496135831, 0.23386751995231783], [53.348305815709345, -2.265082770054009, 0.40347877519671416], [53.71041039661957, -2.1296882148913383, 0.2571667500424487], [0.0, 0.0, 0.0]], [[53.290061415183644, -2.262741926551703, 0.41648854337366964], [53.26890776510665, -1.8537596378717007, 0.4256543931905786], [53.14308303680262, -1.5126355298276024, 0.258057707581344], [52.89846772703062, -2.1483340984235646, 0.4178750396620532], [52.59683019466057, -1.925479095220733, 0.2616148144234262], [53.17544200327768, -2.658348310740394, 0.41846948163164016], [52.97115982687253, -2.9609433830832974, 0.25056413733885663], [53.70669112821163, -2.2419590035604364, 0.4139548699998884], [54.06719203203372, -2.101869744147176, 0.2688613887567502], [0.0, 0.0, 0.0]], [[53.61474351097626, -2.2390078836602223, 0.42076802678660846], [53.64826663225853, -1.8193891933318846, 0.41537027218101125], [53.68100749334454, -1.4444855966765564, 0.2571555951344535], [53.22219555122397, -2.1324142203725156, 0.4267844139495779], [52.907102551306735, -1.9092814398474893, 0.29003998056765384], [53.56689642830265, -2.656812052779784, 0.41671145344470034], [53.50478320205261, -3.0280301922639414, 0.2588557761055967], [54.033084838105665, -2.216507693231026, 0.41953565692752337], [54.39761976086221, -2.0883298893444566, 0.2761903166633137], [0.0, 0.0, 0.0]], [[53.92360189795093, -2.2114969290724766, 0.4008244808205127], [54.059594755085925, -1.8202240254697464, 0.4021834745115331], [54.324873356014805, -1.5347134692403432, 0.26028592717120447], [53.522069411741825, -2.1011106356587943, 0.41241743502178935], [53.194274144629354, -1.8912848999023226, 0.2791245672880585], [53.957689187078024, -2.627740558818509, 0.40891869811856574], [54.134175553499226, -2.9813854039523364, 0.2718612973508573], [54.33199240656912, -2.1983492742263464, 0.38593239129546963], [54.68525263685131, -2.0711033448531446, 0.22988308889116593], [0.0, 0.0, 0.0]], [[54.28030702604787, -2.1968443235510215, 0.38171847760917244], [54.374559691218884, -1.8043929364432765, 0.3981088329803123], [54.54007741100444, -1.496133896833107, 0.24449031247520941], [53.8807315404017, -2.0855280127748417, 0.3891978809231975], [53.55251211541259, -1.874956423918086, 0.25810053712349657], [54.27751904185701, -2.609054550385151, 0.3901841214879151], [54.36608937824818, -2.96517628274458, 0.2364957064262445], [54.69700871538999, -2.1873763717136905, 0.37135063591635853], [55.06425287906294, -2.0682933526298894, 0.22359515013793763], [0.0, 0.0, 0.0]], [[54.622774139802104, -2.206484174376042, 0.40825232390859967], [54.66858648258385, -1.7947950104358958, 0.42393868944495283], [54.67850134954892, -1.4451626369999835, 0.25554795818868137], [54.226254745445516, -2.0834974731040568, 0.4036834254556741], [53.90934899596256, -1.8646720395656209, 0.25647976749241896], [54.54877834505731, -2.6309994147570324, 0.41194512581929904], [54.47174348018496, -2.99758773533534, 0.24946371503680775], [55.03484850097878, -2.203076594779561, 0.40770681051084], [55.401451974722754, -2.0837106779180496, 0.2679623150869385], [0.0, 0.0, 0.0]], [[54.945082865446686, -2.2419272888116817, 0.4536640573974951], [54.92871711055226, -1.8306944846684712, 0.45679914772507246], [54.77845011129854, -1.509288220816737, 0.2680595351194123], [54.55732563599877, -2.1071787520777594, 0.4522527810183432], [54.25826292992102, -1.8624107927646887, 0.31193601560260936], [54.808381380654005, -2.632099725853999, 0.44867284783762934], [54.58756861205455, -2.915907587356444, 0.2648601674957418], [55.360674761797924, -2.251588530514318, 0.45683854430979465], [55.73160693978398, -2.1401913562126693, 0.31916801099820075], [0.0, 0.0, 0.0]], [[55.23196176858562, -2.269447065578661, 0.47716719186026707], [55.24716506661132, -1.852359303092662, 0.4806931168871916], [55.15764438464638, -1.5232194217156831, 0.28098758398693363], [54.840750623574436, -2.1374539813733056, 0.47884908995914854], [54.533253664626336, -1.9041941937337588, 0.3393725673446364], [55.090207875339104, -2.657273315616344, 0.4762753579889613], [54.87837937872705, -2.9275772895505257, 0.27829165177341036], [55.64765489504127, -2.279166610927311, 0.4759245049564699], [56.017061822804365, -2.161803055729741, 0.33512012784389883], [0.0, 0.0, 0.0]], [[55.49618215710294, -2.2908163247745676, 0.4765819229339431], [55.57578871715911, -1.8775893569817503, 0.474757058620043], [55.63137665092692, -1.5229305455234055, 0.2947046676313604], [55.11381330724749, -2.143436297523928, 0.4811975339423148], [54.8128436687051, -1.9050236874261113, 0.3414629204807647], [55.38767627750982, -2.69831366582339, 0.474068297817539], [55.274590141156814, -3.0377329063496674, 0.2913131676264334], [55.91144324968063, -2.3080097770825208, 0.4756240773543863], [56.2807917975243, -2.189888799722254, 0.3331571009791233], [0.0, 0.0, 0.0]], [[55.741403777189255, -2.3049756508271573, 0.4502314397087456], [55.91880344312645, -1.9282037775379388, 0.4497945375885128], [56.19913079646197, -1.6506377253988291, 0.3134003132895812], [55.35930135952516, -2.1386890278210027, 0.4674110703709869], [55.07544472050322, -1.8909166043074508, 0.3136753177507591], [55.713566920508136, -2.7203092524253942, 0.44543546228944575], [55.82617740665639, -3.0962821203041, 0.30290381670857935], [56.14879004093092, -2.3379190372082577, 0.43347259688488704], [56.51330290504793, -2.2319446875569087, 0.27761465454337], [0.0, 0.0, 0.0]], [[56.03936388080167, -2.3325610588406867, 0.40621143405809074], [56.201703609250266, -1.9531621142517932, 0.39868409726662585], [56.43614734773452, -1.658870355921317, 0.2374844386653961], [55.66359901681735, -2.156907566005835, 0.4192513621951167], [55.40016198057217, -1.8956116652012915, 0.25421440081204316], [55.98930493099153, -2.7424493726748445, 0.3982082195705986], [56.04415487735693, -3.11591834330424, 0.2379888734622151], [56.44543057232971, -2.3718696300282227, 0.3920685538656365], [56.812824205296586, -2.277829561689797, 0.238925971091326], [0.0, 0.0, 0.0]], [[56.34447405344389, -2.37147694216315, 0.3694604581677532], [56.46717123495483, -1.971942192419432, 0.40159752381930064], [56.56423491431842, -1.6308638768184864, 0.25463853294293987], [55.9660251721849, -2.187266142218145, 0.3718741381658792], [55.692450197791786, -1.9086616980696376, 0.22729767301440293], [56.23925497348548, -2.7896017886624875, 0.38161212672200195], [56.13750581697799, -3.157257179789491, 0.2390486226353526], [56.73390588962885, -2.4115134763123445, 0.3635563152971876], [57.090462297406596, -2.315418312137925, 0.22248252908549562], [0.0, 0.0, 0.0]], [[56.66443518869941, -2.445814506991203, 0.4226643439952852], [56.70713450405047, -2.025195539699203, 0.4335359015822797], [56.649684767312124, -1.6605187436310225, 0.2594455654132438], [56.29356160200681, -2.2760701467467537, 0.42377171131736197], [56.026841331388546, -1.998762897157319, 0.28799890351086405], [56.48641323139377, -2.8264056148457404, 0.4030310352196125], [56.22446909605528, -3.104590471893072, 0.23807599433535523], [57.08278390963655, -2.482251392038761, 0.43744962824064837], [57.45335073687376, -2.3808055213584867, 0.292272753890872], [0.0, 0.0, 0.0]], [[56.95977768301955, -2.5122845388933235, 0.46350336806484393], [56.989334086138655, -2.1117288502969833, 0.4909979720320529], [56.9062316382099, -1.7708720332610648, 0.3129294162588961], [56.58993424885168, -2.3376253899911146, 0.4513500004006458], [56.32141197196368, -2.0648223736754985, 0.30407609947164665], [56.768986427993354, -2.869975676622868, 0.4420084420774811], [56.49861154605792, -3.1111845971328305, 0.2597761441593385], [57.37392151591733, -2.560034426057266, 0.47858971967639236], [57.74609407133624, -2.469472308749992, 0.3365008277873545], [0.0, 0.0, 0.0]], [[57.21074231495461, -2.568909022553187, 0.48555700418157044], [57.30286091056717, -2.15270007348266, 0.5086033654904841], [57.38464099602736, -1.7902098862112208, 0.34809760199873113], [56.83600787408412, -2.40302244109983, 0.4795680949902504], [56.56704974351217, -2.124967229412677, 0.34263952588487007], [57.086415452813796, -2.972563240718215, 0.4537885237101395], [56.93729774844372, -3.3137938933914413, 0.27784267023765613], [57.622969711575465, -2.6061026137603784, 0.5077689329917733], [58.00383821698143, -2.5172080524497358, 0.38662517221372145], [0.0, 0.0, 0.0]], [[57.44600403626362, -2.6174738830155078, 0.48287550864606915], [57.645862720203496, -2.253178048720069, 0.5051970921901168], [57.968301143406855, -2.0065366585288937, 0.39689298718286975], [57.069206613806905, -2.439616961875744, 0.47709672090351635], [56.80180464196425, -2.1696486134041746, 0.32276743931032986], [57.392350080001215, -3.03506530600478, 0.4691112667837494], [57.46883977842849, -3.4131655623120727, 0.31720318117450463], [57.853743614755146, -2.6610036876817666, 0.49601073144111324], [58.23172207425546, -2.561334716291682, 0.3700855183471395], [0.0, 0.0, 0.0]], [[57.73142270970857, -2.684076533857906, 0.46193180462532657], [57.90241711387045, -2.304825632614848, 0.48836150118120286], [58.14743405756691, -2.014896196377399, 0.3464424897440224], [57.36565909038067, -2.4927347921243244, 0.45236565813734797], [57.1295218378778, -2.202770186087413, 0.290596235854632], [57.67452078667931, -3.0896542243054803, 0.44361040740241164], [57.734475562642196, -3.456984777451231, 0.2806538087873865], [58.138795184501106, -2.7545659740501955, 0.4804034708818809], [58.528187524760796, -2.7017219923005324, 0.3629844782866875], [0.0, 0.0, 0.0]], [[58.04309237063682, -2.757338999655108, 0.42686763889000795], [58.174432637334704, -2.357044576499408, 0.44971126932029415], [58.28595167699395, -2.025270606221412, 0.27349807350384], [57.67377852540144, -2.5593374880816313, 0.4031537029284157], [57.42776349118422, -2.2634906986999788, 0.24651045915151412], [57.9096698083902, -3.171798091303856, 0.422684112448588], [57.8008943719695, -3.5311168586065333, 0.25747228891037316], [58.44630762215562, -2.8304054393692564, 0.4513356275946722], [58.83594478978383, -2.7882338276527645, 0.3361267150298329], [0.0, 0.0, 0.0]], [[58.359630523865896, -2.84309571230073, 0.4369488211443139], [58.427855979407084, -2.421977841969029, 0.4519325097350613], [58.37701558849518, -2.0602107707514605, 0.26997635358623995], [58.00095366249881, -2.6426800745682497, 0.40319319129600406], [57.76110941771556, -2.3533778888208112, 0.2366423967168205], [58.160795767242796, -3.216989509586208, 0.41689461815158285], [57.90860064930534, -3.4965206141748064, 0.24261585758332152], [58.76575125616459, -2.927820461180823, 0.4751615281290788], [59.1573160089972, -2.8894830471121398, 0.3603084298008126], [0.0, 0.0, 0.0]], [[58.64766587641155, -2.9022889604875446, 0.4556079032026857], [58.70654588325345, -2.5010820659243196, 0.46763348734473376], [58.65779176966498, -2.157678769247317, 0.2765715287084403], [58.285818846555884, -2.714118464602576, 0.4249125779918046], [58.031641588339994, -2.4410422137355723, 0.2600711705656507], [58.44230573493536, -3.250770678709444, 0.4410893348307134], [58.17288761294304, -3.48784966602185, 0.2594361185340301], [59.057955572187616, -2.9704917460729816, 0.4903049220586867], [59.450760079314456, -2.906646949051384, 0.3786375509112553], [0.0, 0.0, 0.0]], [[58.89115110116716, -2.939122662089068, 0.4555325187095005], [59.03950653105109, -2.5407856450583, 0.47152809978629684], [59.19097306796852, -2.206152534744292, 0.30437716817704014], [58.52425546740695, -2.7478333726413493, 0.44326092977798964], [58.246063630184764, -2.4883392956678207, 0.29405879620385345], [58.7399549635325, -3.3384318263390766, 0.4283841057355449], [58.60688256073509, -3.702502925177593, 0.27373698466661983], [59.29804979886038, -3.0128155715245404, 0.4844953637903443], [59.689730502328885, -2.946637425471178, 0.37443412795808045], [0.0, 0.0, 0.0]], [[59.117200434311144, -2.9697985463597414, 0.4334434841242397], [59.367233795214304, -2.6654606666112675, 0.44931652048612686], [59.73524503509672, -2.502103579715909, 0.33538442899723264], [58.73955991585905, -2.767501630335574, 0.4265813237913718], [58.44885515450589, -2.506358490428955, 0.28323933466922707], [59.08511485987767, -3.3607193768637904, 0.4261448503717213], [59.250881890035735, -3.7104542419247806, 0.2811294097176856], [59.512711795237784, -3.058503746965701, 0.4384396248505934], [59.893138747801736, -3.0236831856990274, 0.2966966048272648], [0.0, 0.0, 0.0]], [[59.43697745070779, -3.0367222072770947, 0.39622311742699157], [59.58597061164283, -2.6099010712566493, 0.4018297320702024], [59.73448664553929, -2.250718358871184, 0.23621203501280794], [59.07967691851052, -2.8478637145459835, 0.38633480262941283], [58.82503070684922, -2.565841463391694, 0.2399929627766365], [59.31362648221564, -3.460393709675362, 0.41061817226331143], [59.242180086662685, -3.8258209743072777, 0.25529950486774755], [59.85341823430062, -3.125565565606704, 0.40467363292836395], [60.25272106860637, -3.1125058648668538, 0.28312477596772034], [0.0, 0.0, 0.0]], [[59.794647174630896, -3.1004539927873145, 0.40782449329981496], [59.85692250926758, -2.670832727258833, 0.4230676162301631], [59.809488178395306, -2.2966605025740776, 0.25838214544185034], [59.43155489893438, -2.9165033453604403, 0.39321951726855936], [59.173596302256556, -2.638410436373464, 0.23906854546370399], [59.6119126777361, -3.4821914186378122, 0.4035602041138188], [59.37245980147158, -3.775602369139983, 0.23926757522364303], [60.208054664841626, -3.1795641278931903, 0.41025283792903827], [60.59475987629574, -3.171327588297909, 0.2642377020564804], [0.0, 0.0, 0.0]], [[60.132331028374296, -3.1366569043414603, 0.4316617800468076], [60.146889401668425, -2.7378214262202865, 0.42814654496914256], [60.034411765851566, -2.3919888057820473, 0.25274549028680815], [59.75884618897287, -2.9692432839462097, 0.4188489088908471], [59.48266925249276, -2.7106827224563466, 0.262026438515603], [59.951441189119194, -3.495959917376911, 0.4351670349148105], [59.690832090567504, -3.741139266865894, 0.25940086579812377], [60.5542330132228, -3.2022972689760363, 0.44497601264870756], [60.950388621020615, -3.1954668103293664, 0.3197967275055478], [0.0, 0.0, 0.0]], [[60.42255159343867, -3.162021057735523, 0.4410538847816594], [60.514815264514645, -2.7444808828795546, 0.43866476544131033], [60.5732120915222, -2.3713219040236257, 0.27726735761641136], [60.04263204177101, -2.9951909534220964, 0.442915652251891], [59.750982903327255, -2.7405111796994297, 0.3034391609938406], [60.29617863075173, -3.568688396900335, 0.4354621754483796], [60.158390603846975, -3.9165263793106586, 0.2686727297994112], [60.83592728294458, -3.2341438283917943, 0.443506488906636], [61.220118718266384, -3.229659356560782, 0.301207081205036], [0.0, 0.0, 0.0]], [[60.69549938775901, -3.1842349394231926, 0.42366179131412024], [60.87311332112217, -2.8034829716681764, 0.43092730320656697], [61.15149067289361, -2.5218169162020234, 0.2997979522652102], [60.313123078088985, -3.019592336474099, 0.4390775565772512], [60.02729257056838, -2.7684229700919083, 0.29255408512742137], [60.658705555215604, -3.604134002225828, 0.4267940942404757], [60.74768483874434, -3.987313082145144, 0.2905226703444746], [61.109678336514676, -3.2477711583400035, 0.41049683373490176], [61.489886521057294, -3.2274109075694133, 0.2562273212324765], [0.0, 0.0, 0.0]], [[61.014876697634975, -3.2212615268513494, 0.3948906063088811], [61.176794413787924, -2.853366292250368, 0.39158266290236654], [61.40900944887895, -2.5674537460741664, 0.23221313472718189], [60.63816436880936, -3.0495078562149693, 0.4155544685604369], [60.373463217587044, -2.7895968774905158, 0.25532366370420706], [60.98049225358614, -3.617687919451434, 0.39551836664168655], [61.05446043948288, -3.9767417029822925, 0.23738683272480182], [61.42080553315775, -3.2822416249241706, 0.3805623550042283], [61.79293219323365, -3.2532534429442874, 0.22833716127995973], [0.0, 0.0, 0.0]], [[61.337713325721865, -3.2617338814627255, 0.38184352633188895], [61.45488817870465, -2.861032026676335, 0.39598740559006146], [61.545177508666576, -2.5087478288385237, 0.24363304053132137], [60.96415218209537, -3.081895261997466, 0.39004871025438925], [60.69355650788879, -2.81096352574586, 0.24062407566886518], [61.23363203158437, -3.675772857492573, 0.3854024121351204], [61.143238211456456, -4.045283541821004, 0.23537042179234627], [61.734002272160176, -3.3199066817812843, 0.3748517234285867], [62.098523158843946, -3.2736083960793207, 0.22782870877037878], [0.0, 0.0, 0.0]], [[61.656297497635755, -3.3233186398880306, 0.40913819414622915], [61.704056997756624, -2.9035351087112002, 0.4149879876636315], [61.63271599716517, -2.534496709284953, 0.24754249953438864], [61.28906433888763, -3.1404764529747244, 0.40719257751495236], [61.026739478183934, -2.8565457705472044, 0.26836321610292535], [61.47313563762302, -3.706473758609577, 0.4059980161888447], [61.220994661798294, -3.9909130969403086, 0.24384390386650048], [62.07488425475957, -3.3794794836927884, 0.4167735465850748], [62.44965268357569, -3.306657884923898, 0.2640454447380355], [0.0, 0.0, 0.0]], [[61.94390485684028, -3.38291733283786, 0.4302875112814202], [61.985170437576095, -2.980161651295935, 0.44095935621381427], [61.91007902302072, -2.6339128220118733, 0.26006371209239804], [61.5800809267053, -3.202488218736825, 0.41936478344726835], [61.31965476468864, -2.9249461893722013, 0.27027887691315955], [61.74849849503866, -3.7329481843104144, 0.42153028225721706], [61.4706602710093, -3.9708887879659347, 0.25009474120366654], [62.35532633363855, -3.4285971858929876, 0.44040351607292116], [62.72290090926845, -3.330667577828916, 0.2895758233826909], [0.0, 0.0, 0.0]], [[62.18659548959522, -3.4251026791258314, 0.43297208450210306], [62.29189685017865, -3.010773469690277, 0.43226949729765807], [62.38272042932749, -2.6471896520085116, 0.2668170862745785], [61.81381813312507, -3.250226654356573, 0.43256999241627186], [61.54108173248381, -2.977078154841411, 0.291480720357142], [62.0529294135475, -3.829109909811571, 0.425584102284024], [61.89904665236449, -4.178521178932173, 0.2701254126666197], [62.59947822769782, -3.471874063524724, 0.44087994518951207], [62.982819430142676, -3.393295588007965, 0.31082552179067086], [0.0, 0.0, 0.0]], [[62.41400275910263, -3.4632025418420076, 0.4123481330456295], [62.61128361372542, -3.099480665449735, 0.42302547686700526], [62.92725831652503, -2.8595591174612074, 0.2971537499255147], [62.03730747934894, -3.285774448682049, 0.4101670696594771], [61.76298066618818, -3.0222566846999785, 0.25683745306782707], [62.36741803783114, -3.8816831729106185, 0.41561860321106325], [62.45170462094267, -4.265981920725905, 0.27946465192559194], [62.821569333790485, -3.5097049810254495, 0.4101919361556884], [63.195665367482015, -3.427463630038253, 0.26158846134191205], [0.0, 0.0, 0.0]], [[62.69189545186233, -3.5214753535493637, 0.3757920459980732], [62.87209121591714, -3.1596664042713485, 0.40116933477639866], [63.121277813128565, -2.9048468937466443, 0.24635774982406547], [62.31229841493746, -3.3358808460497564, 0.3789285709914043], [62.04184602608535, -3.0606025112512354, 0.23307888489292689], [62.628745037868285, -3.9294065815642814, 0.3692592621290699], [62.675361591312615, -4.305989306205856, 0.22579365113280717], [63.10028104281312, -3.582049421806449, 0.38528734237749424], [63.48476309856486, -3.5175219867257748, 0.25844319698174634], [0.0, 0.0, 0.0]], [[62.96950043493958, -3.612494207137637, 0.3817756545297383], [63.09805941377186, -3.2262268495904087, 0.4098062484434419], [63.2276116694197, -2.8987805726049354, 0.24875027463360916], [62.605990414885916, -3.416255176994416, 0.3765035058799931], [62.35355383039655, -3.120016047080937, 0.23852042897287987], [62.85728972785216, -4.009367677674005, 0.3739803614380086], [62.76161788213377, -4.36749447646019, 0.2306971176524115], [63.37187441815465, -3.6656046062697225, 0.38846580926593416], [63.748080759312145, -3.5673521796875876, 0.2578582005612975], [0.0, 0.0, 0.0]], [[63.2676942518219, -3.704407512845074, 0.41485503717926014], [63.32157232976586, -3.287221169786636, 0.4361134190929167], [63.28265226248316, -2.926127161259038, 0.2632996463739556], [62.89647052425629, -3.5311551572738993, 0.40089153129798843], [62.626064705985165, -3.2595164708026436, 0.25492599720186115], [63.08999755630477, -4.098147365999699, 0.3992347205797679], [62.844444662749396, -4.399087886369036, 0.23841253658909375], [63.68378642713021, -3.749659014890846, 0.43333923292919124], [64.07083970110078, -3.6588675301997196, 0.31468319269418127], [0.0, 0.0, 0.0]], [[63.5465893908936, -3.7835560700506723, 0.45018009630278866], [63.545547509561786, -3.383797059373171, 0.46231245068471066], [63.4323337926735, -3.0550834717030075, 0.27216191814853713], [63.166809156435825, -3.6351789650349433, 0.4374275302532903], [62.87546239164058, -3.3912387336283882, 0.289052804351814], [63.37754010195173, -4.143533206311839, 0.43347445077888785], [63.11656949662311, -4.395506994919832, 0.2563273387711497], [63.96292406119186, -3.8187393690803333, 0.46633302608130306], [64.34699126503654, -3.7349851469256348, 0.34207764521338985], [0.0, 0.0, 0.0]], [[63.775028223806785, -3.8494626305385635, 0.45984199246323054], [63.85317264758032, -3.424473444502961, 0.47483282945212557], [63.91959015235661, -3.0502982074671174, 0.3192328601722262], [63.381605921953266, -3.7112480488950292, 0.453355577647953], [63.067972094769225, -3.486757147596705, 0.3096660960738889], [63.68870756808841, -4.272741386344241, 0.44025777219923656], [63.624461773761304, -4.646777897514007, 0.2717508858195407], [64.19080881141957, -3.879124066153125, 0.47346026914907746], [64.57290874475194, -3.7951955380814684, 0.34742224472465216], [0.0, 0.0, 0.0]], [[63.992078120612746, -3.919401490606395, 0.4434264782606905], [64.14148421868336, -3.5411589446095246, 0.46787796846742213], [64.43784431341359, -3.272141884879423, 0.35320626485869683], [63.58699223218166, -3.8040152611376667, 0.4419382756566607], [63.26469589717094, -3.5935832324067563, 0.29456634830536654], [64.03343115100333, -4.325132835858081, 0.43589459034766415], [64.24062589041056, -4.655068661705088, 0.29461275484572613], [64.40489765168442, -3.9213096182657767, 0.4458696113652715], [64.77737208220667, -3.821925545159985, 0.30756663655048616], [0.0, 0.0, 0.0]], [[64.28567048466513, -4.000782985546608, 0.412931600466733], [64.36359801110265, -3.5738527580604833, 0.4322537840903735], [64.51048428506775, -3.219465662979901, 0.2820843099971592], [63.886866253715795, -3.898888879083817, 0.4015835671732254], [63.56452336624038, -3.6959033330459294, 0.25272159649083703], [64.27706483076408, -4.41898533528189, 0.41036424933510707], [64.35934050602766, -4.767196058534123, 0.24712549648158605], [64.70321094733713, -3.989235160208205, 0.431257673759115], [65.07186950173765, -3.8614048562117134, 0.30457000364329734], [0.0, 0.0, 0.0]], [[64.58757401685122, -4.040728098654019, 0.4034263010460836], [64.61443866200244, -3.6072252327305425, 0.4303225168728315], [64.59463728229032, -3.2453122031033357, 0.2625000736321953], [64.17428260988214, -3.9458885622551514, 0.38473222535558615], [63.831802220215515, -3.768586047217924, 0.23205558214113323], [64.53471713517446, -4.450031616151646, 0.41613592929229404], [64.46660864924131, -4.790093754237765, 0.2561793985371419], [64.99161054431634, -4.017033988277213, 0.41745369222615575], [65.34798820911489, -3.859709286260745, 0.29233598641945635], [0.0, 0.0, 0.0]], [[64.92916635397314, -4.034118049711115, 0.4614910137405], [64.86206717230522, -3.6280711248063566, 0.45345548279607106], [64.6840139011309, -3.3161208749650175, 0.263448051072591], [64.52213879130373, -3.968973887685295, 0.42401099422841215], [64.17982728687453, -3.8324943390567516, 0.24618381980870374], [64.81815355054952, -4.429505412477866, 0.4516505918953837], [64.59908315240261, -4.72315209071907, 0.26339548971576376], [65.34527258468651, -3.9885626022613394, 0.5009535799693952], [65.70193616982755, -3.836703205661219, 0.37150079275691195], [0.0, 0.0, 0.0]], [[65.22919671677114, -4.023378396778522, 0.49727210818618395], [65.19958975883938, -3.60160511651953, 0.4842183655473474], [65.08509331690409, -3.259617680321161, 0.2956063616515506], [64.80982221525308, -3.9710219921012984, 0.45453486035669516], [64.4528761180904, -3.873924865418811, 0.2716486015388858], [65.15419846419888, -4.44201588838118, 0.5031093528839247], [65.01648731324165, -4.768785767985097, 0.31021725983770276], [65.63264883175539, -3.9736384813178027, 0.5315570807382178], [65.98541926651045, -3.8030051649834307, 0.4131751855586119], [0.0, 0.0, 0.0]], [[65.5187479892861, -4.013791162668702, 0.5055503038401185], [65.51580065508546, -3.594428603451999, 0.4794325950723138], [65.49858843895052, -3.21803308309912, 0.3149078079128279], [65.10387868300722, -3.9756638900594274, 0.4549042085655362], [64.7499951690288, -3.9014784488469956, 0.2637724198729971], [65.49439011769965, -4.434206560954053, 0.5224644951499972], [65.48831781664965, -4.7909760935816506, 0.3460975184568074], [65.92723683552302, -3.955951416223843, 0.5557252357893998], [66.28636114739201, -3.7813840919788864, 0.4502600193543608], [0.0, 0.0, 0.0]], [[65.78774621751755, -4.007226205855854, 0.4939979053474662], [65.8370158138913, -3.589262979994081, 0.4810709048058335], [65.99205682018693, -3.233437417016981, 0.3381544273158882], [65.36533600460498, -3.9809919519735213, 0.45013343654779087], [65.01084734082052, -3.905721584717904, 0.25797390803089115], [65.86054456821734, -4.417139791098021, 0.515734393394452], [66.05873540296449, -4.751593499821438, 0.38491090133879186], [66.19482497471165, -3.9375220568143363, 0.5373788550509382], [66.55242891384118, -3.762054076907361, 0.4298093454989273], [0.0, 0.0, 0.0]], [[66.0778332105066, -4.002608485933657, 0.4737104150654282], [66.12618054866593, -3.605650480270132, 0.4702220743999169], [66.30268439284, -3.274643500565851, 0.32171057602869085], [65.65073797781506, -3.9986909434299642, 0.43822362828246947], [65.28970625876238, -3.922375917156769, 0.25337794411861375], [66.19446826485066, -4.387694174858415, 0.4949362993480544], [66.43693481078488, -4.702473056487606, 0.38733013121771487], [66.4707451535761, -3.8996983392493565, 0.5008161819826218], [66.80235032391839, -3.6917621666210865, 0.3773714572042767], [0.0, 0.0, 0.0]], [[66.40633967090494, -3.9924376455403383, 0.43954120303573635], [66.37840384099859, -3.553400464262041, 0.4473272606116103], [66.36929231315109, -3.1931839145027276, 0.26792014734972486], [65.98595959133061, -3.992067712656332, 0.4063380391665531], [65.61751258191839, -3.911436070389025, 0.23837117828810883], [66.46192405288691, -4.417960377274127, 0.4556309625398944], [66.54070871657754, -4.791887227255415, 0.3089828910052396], [66.7974384069984, -3.8795943845600873, 0.46997462475361734], [67.12149102228784, -3.655703595396608, 0.3556133548113949], [0.0, 0.0, 0.0]], [[66.76250951559177, -3.959380456229714, 0.43826588703798347], [66.6566873227417, -3.5488599102250786, 0.44829556061595605], [66.45030168679634, -3.2475519299914217, 0.26575328468015647], [66.34655112501099, -3.9404574457134736, 0.4074564361902892], [65.98219455788616, -3.849606648588507, 0.241251688141807], [66.7315176178887, -4.402953588474861, 0.44726164235837884], [66.62954668549666, -4.761715726412057, 0.2710896891185171], [67.16530810837376, -3.8636959085541442, 0.4577663080980167], [67.49789290396411, -3.645277934910963, 0.33839922244431403], [0.0, 0.0, 0.0]], [[67.08326649882741, -3.9572773230487783, 0.45870628665522334], [66.97167449672945, -3.5655556275339255, 0.47522990583421865], [66.7755397493839, -3.272701624022425, 0.2926824151423725], [66.6681582686191, -3.9549434541189354, 0.44941207118425336], [66.29999323527895, -3.857296460089491, 0.30215416027646463], [67.04011228628617, -4.352157863262818, 0.4378149168761687], [66.88557290518355, -4.674244104802508, 0.25404339601373704], [67.48839957928587, -3.851014677587539, 0.4747438126756282], [67.8186148420837, -3.6308433955828727, 0.35353472920128437], [0.0, 0.0, 0.0]], [[67.36341735543259, -3.9602764454008907, 0.45679869619640906], [67.32054391756253, -3.536645066935405, 0.4702763348772406], [67.28972003576854, -3.1637594471447907, 0.31058531644896087], [66.95306872040523, -3.9397772175107932, 0.4677884426200448], [66.5897075970908, -3.8037990446310768, 0.33881854294884284], [67.38743591838308, -4.385284546157847, 0.43873035891147605], [67.38586258723747, -4.768803335944248, 0.2835288913620754], [67.7636809420355, -3.848382905236491, 0.45690669397824635], [68.08059777771383, -3.6187245989007355, 0.32355809884042613], [0.0, 0.0, 0.0]], [[67.6259886933712, -3.9602711524465555, 0.4366861022194396], [67.71580580049783, -3.563184917363688, 0.4456324732635869], [67.95020967783617, -3.250181646124213, 0.3073164214820113], [67.20867614157204, -3.911688085147742, 0.4648692908603327], [66.84694514723604, -3.7594947158957948, 0.3410588617939727], [67.73222854232144, -4.355402584944509, 0.42289546043372245], [67.98145464436048, -4.647216307608708, 0.2581365392147429], [68.0162986214243, -3.8689137759879526, 0.40549659228470114], [68.31734624096032, -3.6455572379141343, 0.2364143268930874], [0.0, 0.0, 0.0]], [[67.9480392481556, -3.948788849909989, 0.4078509761451535], [67.95757726209305, -3.513591149730622, 0.41380157750835556], [68.03158914857792, -3.153930256906461, 0.2466177850248241], [67.54674379299216, -3.896350080061219, 0.43659358633703405], [67.1999186140312, -3.709188953953429, 0.3287830127541394], [68.00601402810396, -4.367762214384048, 0.40757997207822483], [68.13050768929796, -4.710854316411551, 0.24631350547209033], [68.35840009548878, -3.8699954245494297, 0.38336667054555623], [68.69003648104042, -3.6777220047662724, 0.22945529768773235], [0.0, 0.0, 0.0]], [[68.25169634191697, -3.9201860939983777, 0.4223520179112731], [68.23032372277564, -3.5009578439251925, 0.42657282650104], [68.14650991292113, -3.150604028904866, 0.2534671064129688], [67.84679615638194, -3.8444293066115787, 0.4498109464033242], [67.50678583322366, -3.6414755426095966, 0.32940249903742197], [68.25366454424707, -4.344987163173863, 0.4193985765002431], [68.2219703874482, -4.711230339813702, 0.2487922197536033], [68.63373656395484, -3.8518438470516076, 0.3988574724485744], [68.93215910450884, -3.653649394408811, 0.23802627480812633], [0.0, 0.0, 0.0]], [[68.53739938486962, -3.8875177557990725, 0.4404566154240352], [68.42317839441534, -3.4996231225362635, 0.4485621927565314], [68.19065364416493, -3.236581091867332, 0.26861415722078724], [68.13119529791099, -3.837733671517525, 0.46753193150245076], [67.77938413273438, -3.6539272485199064, 0.3496180016925174], [68.48321028947609, -4.294905949413095, 0.4516792078267603], [68.29844943949772, -4.599254310304701, 0.27087698583525743], [68.95283899509339, -3.806925442597985, 0.41174989932165584], [69.29202321710434, -3.634474657676688, 0.2490206103721921], [0.0, 0.0, 0.0]], [[68.76903987889027, -3.8614900146534734, 0.45783721257418425], [68.6872182855782, -3.452913647361767, 0.45288876547335716], [68.50272381007835, -3.155156070713475, 0.2665386857704005], [68.35526759834022, -3.8369995591474826, 0.4901828746887788], [67.97992511856349, -3.716658227484066, 0.37357454040957916], [68.73612007349108, -4.276237302848346, 0.4741095712745237], [68.60003697472303, -4.587939904277671, 0.2807179220933837], [69.17727091568257, -3.784066572464832, 0.42075472956512294], [69.50940165045681, -3.626322994092704, 0.24427561660053596], [0.0, 0.0, 0.0]], [[68.96597885796288, -3.842763127183408, 0.46332462595497587], [68.92949053244355, -3.4189615690699715, 0.4451736096861794], [68.87390860178121, -3.0588525967854356, 0.2638697165582394], [68.55697782641286, -3.8175712336941126, 0.5021860815639763], [68.17935597182186, -3.712946287979108, 0.38932081844653627], [68.99503769398873, -4.266164440720952, 0.47971999643135765], [69.01222591164611, -4.615442020833641, 0.29266814075442227], [69.37449655501497, -3.7643711618916145, 0.4238898612521934], [69.70071289741766, -3.5967240252809534, 0.24644325984895984], [0.0, 0.0, 0.0]], [[69.13418655479225, -3.8338236729256256, 0.4645725932829371], [69.19407836989947, -3.4290755239754915, 0.4340027679850923], [69.38042086322496, -3.102704128396667, 0.25135409677878656], [68.71582149434326, -3.8106625611564513, 0.5161061697063326], [68.33200936138938, -3.715384777252868, 0.4029113232045518], [69.25094680701243, -4.2208921965972666, 0.4672902637800522], [69.47435124120504, -4.508574725310242, 0.2877670260838018], [69.5138184165154, -3.752883503975834, 0.42686314782441453], [69.80273419049819, -3.5702645513342417, 0.2508833722817605], [0.0, 0.0, 0.0]], [[69.32957258414895, -3.837843957568393, 0.46990857651783535], [69.34402668651508, -3.413476287385493, 0.4529839663480042], [69.44829765864662, -3.0542630848782197, 0.2758478696189138], [68.91237295315739, -3.826200504136003, 0.5101855037218046], [68.53765438104092, -3.734074850642895, 0.37714261079264905], [69.41013294859418, -4.257508695188391, 0.480874172044193], [69.56192804204989, -4.608760995766887, 0.32936636629623467], [69.72614291165065, -3.721363243837925, 0.4232754638538319], [70.02771283095773, -3.4989691943331493, 0.24397939312175798], [0.0, 0.0, 0.0]], [[69.52848620538249, -3.840456686882371, 0.4564896897015465], [69.48814462148196, -3.4153479266688573, 0.4564101100006851], [69.45927521606406, -3.0651373336347083, 0.270717342065485], [69.11090697523363, -3.834335310745516, 0.4759452540412737], [68.73940540448281, -3.722816304641567, 0.3376158758853234], [69.59657507343239, -4.255589120311767, 0.46809370410496215], [69.65813729490553, -4.6128498704311225, 0.2981663441561833], [69.91748277559907, -3.726823968260685, 0.4306932160668563], [70.22549867462081, -3.519244533793562, 0.2648682028462018], [0.0, 0.0, 0.0]], [[69.75236211512903, -3.8272740122965745, 0.45521398702917604], [69.6546606304479, -3.4088073608646132, 0.4635668281081479], [69.49478699186054, -3.092859810317126, 0.27526605614700544], [69.33586814043893, -3.813209408378715, 0.456490865851756], [68.96696766022448, -3.6911633212072177, 0.31826044169561213], [69.75673118282532, -4.26633186206865, 0.46862415038724065], [69.69119987317511, -4.616661093365348, 0.2820126889051094], [70.15801516614707, -3.7250930387710444, 0.45172088978674235], [70.494974655911, -3.533254135658486, 0.3097332227256504], [0.0, 0.0, 0.0]], [[69.97361107616634, -3.8336450742806654, 0.47763769626428476], [69.82954280332274, -3.4512571314946494, 0.4892688504561535], [69.60477786119576, -3.1982302053245966, 0.2878948627023069], [69.56228102605922, -3.823913525145565, 0.4647991457374751], [69.20615648966424, -3.6921638795410465, 0.3105345650196541], [69.93917571737272, -4.2397064396542135, 0.4721882289533391], [69.769843417169, -4.5438596428905855, 0.2759134134268773], [70.38305725590018, -3.731671642935749, 0.49141628081870803], [70.73584632410038, -3.558467668377583, 0.364747206070462], [0.0, 0.0, 0.0]], [[70.14483201362557, -3.8536392131952435, 0.4937756501413231], [70.0623304643027, -3.4402892319853944, 0.4901055566211488], [69.9349837128199, -3.120285886396754, 0.28831776748290183], [69.72893657139409, -3.8250713147485778, 0.4782606842000516], [69.37410956801433, -3.6770382737110583, 0.3250906646123803], [70.14806050990646, -4.27891306527073, 0.487425684594726], [70.0927076548229, -4.629613482358622, 0.29493728369372385], [70.54929895589731, -3.7649342905770364, 0.5157236549727878], [70.89941121066107, -3.5932301344832913, 0.393944871773756], [0.0, 0.0, 0.0]], [[70.29477798828289, -3.875821851162433, 0.48146723909675526], [70.3058762322933, -3.4489620913460755, 0.48231737972053984], [70.38542142217511, -3.0731915776541148, 0.3324621873255659], [69.88407892068415, -3.8361244407079673, 0.46151975989446126], [69.5434432641012, -3.6848501162655145, 0.2933003232081925], [70.35744880534865, -4.29537419239111, 0.4844166962069038], [70.49231069989192, -4.653758810314625, 0.3350583670806969], [70.70399442612205, -3.7948123010716444, 0.5018564841508675], [71.0548441728054, -3.6171228801443864, 0.37880444377034284], [0.0, 0.0, 0.0]], [[70.45785104804527, -3.8920734337561296, 0.44801826243291615], [70.54462413305446, -3.5119729678928047, 0.4582176693639958], [70.78077243444777, -3.204782849186576, 0.3314528043466847], [70.03323040991137, -3.8495511768426347, 0.43718599149330895], [69.69555462463768, -3.704015119055594, 0.2577996464929564], [70.5764150135241, -4.265590803342124, 0.45932614528865084], [70.83298979814896, -4.559190001953737, 0.3342328440647734], [70.85613686353192, -3.8119700885167855, 0.4570279882235885], [71.19453916581213, -3.628138291084777, 0.32055712607744996], [0.0, 0.0, 0.0]], [[70.67746111081892, -3.9044827464267566, 0.4118920284323658], [70.69731378247339, -3.4567024123837085, 0.4306879010574668], [70.73774538840001, -3.0857697788530607, 0.2614551003705482], [70.2655293668025, -3.852646774615792, 0.388246052258138], [69.911928605757, -3.7122229964877453, 0.2302291156716723], [70.6979580407927, -4.346365024508674, 0.4295622173799365], [70.74924819130612, -4.715830552282018, 0.26380562634464283], [71.0892678133565, -3.8405214879983465, 0.4371196544370321], [71.44300413319287, -3.6636785092462185, 0.31844629849970263], [0.0, 0.0, 0.0]]], \"rot\": [[[1.0, 0.0, 0.0, 0.0], [0.9989997148513794, -9.929099705907833e-18, 0.0, -0.044716689735651016], [0.8877751493234101, -0.30942631139212184, 0.33842508848111064, -0.039738115353938896], [0.99930739402771, -8.262698039805455e-18, 0.0, -0.037211883813142776], [0.8976061694202997, -0.3221440917059448, -0.29901362270661647, -0.03342476667945293], [0.9999700784683228, -1.7184489042199794e-18, 0.0, -0.0077392058447003365], [0.9239294632393751, 0.2683642419053911, -0.27255061861824426, -0.007150694261717882], [0.9998957514762878, -3.206419440388543e-18, 0.0, -0.014440429396927357], [0.9091846746334156, 0.29850700576636047, 0.2900077144612895, -0.013130385926160783], [1.0, 0.0, 0.0, 0.0]], [[0.9995690649879356, 0.005141638970700064, 0.005244459619371305, -0.028420828825699976], [0.9963616813034206, 0.00539041106248072, 0.0057487643951965655, -0.08486044547801191], [0.8923700652471543, -0.28230872865370427, 0.3451007228261733, -0.06987803289712392], [0.9991451056330412, 0.004878415840865844, 0.005345919009890465, -0.04070233529371746], [0.893895546511951, -0.32886171622236376, -0.3025416605446835, -0.03562677594517032], [0.9994618572585773, 0.005344673982250321, 0.0046693700148633, 0.03202541692036175], [0.9280064180916526, 0.2751325338034502, -0.2499211087687428, 0.025408979030973323], [0.9998009102635824, 0.005229585769427925, 0.005462801465477641, 0.01846480622537938], [0.9237558834116333, 0.2657033255846951, 0.27538759172465954, 0.015442958256716812], [1.0, 0.0, 0.0, 0.0]], [[0.9979606056818952, 0.02276817160562442, 0.03290289489863786, -0.04973569519018422], [0.9642457097502705, 0.016696803770077352, 0.03864360106548987, -0.2616449886176911], [0.9188043304334526, -0.12810769572002836, 0.29124661172531846, -0.23358602662094582], [0.9977849286007542, 0.021813056970147137, 0.03325590075003147, -0.05332421465065361], [0.8847763603596318, -0.3519061255270094, -0.3026385622819573, -0.04174651584553885], [0.9730813490178855, 0.03189023376849421, 0.02662585954902035, 0.22668649008487213], [0.930887533428637, 0.26384906230127025, -0.10978490710867575, 0.22755075609856446], [0.9980848611833525, 0.025395687672392177, 0.02856583703347903, 0.048638070262205076], [0.9511980685947014, 0.20484161293430891, 0.22585283120742036, 0.04746205376691], [1.0, 0.0, 0.0, 0.0]], [[0.9983693506126078, 0.03674350010278525, 0.04286667412737217, 0.008426340060428398], [0.9743392268900811, 0.01468065237794929, 0.0585231460718711, -0.21684692933691113], [0.932850388908216, -0.1277595783142338, 0.2731795645235511, -0.1970801044993691], [0.9945154432787223, 0.03312884724821596, 0.051916111322446584, -0.08453537688616518], [0.872888259572009, -0.3791739966797131, -0.3002743907631239, -0.06425306837122213], [0.9616251664157784, 0.05889189603229082, 0.01863962796998862, 0.2673225545416786], [0.930784408520035, 0.2643369985102195, -0.11160830682644364, 0.2265169351769337], [0.9978839503298994, 0.04000865954656788, 0.04139976818011086, -0.030215691782824922], [0.9495926623893726, 0.23018438187552112, 0.21154423788741236, -0.02319399261622409], [1.0, 0.0, 0.0, 0.0]], [[0.9943146091003103, 0.03659159604766589, 0.033491427215418486, 0.0942222772567909], [0.9985361517845199, 0.034860077360679156, 0.0396337997800544, -0.011810609669467658], [0.9449349031321275, -0.18984042475240334, 0.2664180134384183, 0.008948971339258033], [0.997281761366423, 0.035201000300889095, 0.030273064387361662, -0.05721467990210807], [0.9337393996312426, -0.2595802516924445, -0.2389828856820603, -0.06029931059845856], [0.9712195109709023, 0.04531752467444472, 0.031294916609898075, 0.23173176662081094], [0.9091177389967197, 0.3348236769604564, -0.146718947356025, 0.1996787231402284], [0.9817756858402706, 0.016926322984107282, 0.043011696218429374, -0.1843366384404293], [0.9391644620306338, 0.2236495548109481, 0.18612468417795894, -0.18250641586319707], [1.0, 0.0, 0.0, 0.0]], [[0.9965685171336938, 0.026771795182590746, 0.02964590248021508, 0.07249539369357112], [0.9973939395459951, 0.023286613503894892, 0.02609202815001271, 0.06310522209341521], [0.9273933497563411, -0.2526425077165735, 0.26492035397224784, 0.07701002644858948], [0.998478117728085, 0.0301919348615664, 0.04601260533988552, -0.0035687024716309], [0.9801110670858352, -0.1505323222969217, -0.12929999614893845, 0.0019563015221513427], [0.9793009022155461, 0.020133790072425665, 0.02097985153780843, 0.20031030738978034], [0.9259933703813478, 0.2898478394644086, -0.16140128542508853, 0.18020580742788347], [0.9870900185200214, 0.01474907445720644, 0.02824817460625332, -0.15696432961731832], [0.9466527774282465, 0.21831881596890002, 0.17390377088820258, -0.1610679733907026], [1.0, 0.0, 0.0, 0.0]], [[0.99131410309483, 0.029191708462975998, 0.03566152047300015, 0.12317649580930282], [0.998382387949131, 0.025422834743183402, 0.038371752526342354, 0.03337507325338192], [0.9432268276238971, -0.2086924794001234, 0.2546086875760683, 0.04410234577865697], [0.99909042159571, 0.02132671058945302, 0.036901918997699686, 0.0013225979840646364], [0.969718227331295, -0.17982873714900077, -0.1651615216600931, 0.005464122964315129], [0.9827224138441535, 0.03131210421304952, 0.03599883151555748, 0.17883034862009814], [0.9259735533570944, 0.30787539136276204, -0.15754082077502288, 0.15154739082542554], [0.9970922453121275, 0.026337546959920154, 0.042103532875116444, -0.05779862003532841], [0.9506204096102155, 0.2184777754386517, 0.21269256266841155, -0.057880672572351924], [1.0, 0.0, 0.0, 0.0]], [[0.9924882927536441, 0.014770008964108183, 0.04003000668972891, 0.1146579004978611], [0.9988757662375878, 0.009442972772123246, 0.041591079013986385, -0.02069338142858098], [0.949925101214609, -0.1908482330284899, 0.2473350541804211, -0.006680195048515214], [0.999197183114342, 0.01164107332107412, 0.03833220675160032, 0.00034145841636279396], [0.9713589539205735, -0.1789013822001302, -0.15632459369082768, 0.004324290995059943], [0.9762953022173751, 0.019232887735743075, 0.04104141619433689, 0.21164399602727157], [0.9173840443538801, 0.3199273854553576, -0.15540034999938082, 0.1786161090738654], [0.9986840216677314, 0.01029201844936422, 0.04185298978913068, 0.02779615922236994], [0.9551841575487813, 0.18698045258355975, 0.2285555719096637, 0.02058849359517624], [1.0, 0.0, 0.0, 0.0]], [[0.9928100190834149, 0.000589648778296724, 0.043809780979264634, 0.11139399181489314], [0.9854124860953654, -0.003318189986933845, 0.03749328396693901, -0.1659682967314432], [0.9434584488551875, -0.1473978782016298, 0.24774494827787194, -0.16365347960925145], [0.997868048943447, -0.007288472951426489, 0.048974586992319886, -0.042517348091881346], [0.9719113402145089, -0.19733756744942682, -0.12510992001499266, -0.028173376606686916], [0.938012604266481, 0.009287732616865791, 0.04350007840484515, 0.3437351239527673], [0.8872599669451471, 0.3285942365658357, -0.10878589032368723, 0.3048954063587956], [0.9927855329527419, -0.00308299279639142, 0.0445462954385815, 0.11127896601719685], [0.9518980815668698, 0.15658191136288985, 0.24476923592848018, 0.0972633974640259], [1.0, 0.0, 0.0, 0.0]], [[0.9951219266691963, -0.0023915054797855875, 0.028364684733517977, 0.09445674366446832], [0.9885487588260653, -0.012325243755267102, 0.02380823212364254, -0.14850120495459174], [0.9494758434174144, -0.16845320692982907, 0.22929194733175917, -0.13245505928674714], [0.998990574522366, -0.005179734448287442, 0.02628868965527156, -0.03605422531031996], [0.9672363248527909, -0.19846744230485697, -0.1545966022017525, -0.034124138346740954], [0.9414660397183848, 0.004182131057332734, 0.027044087043345686, 0.33599527257506473], [0.9107141489566026, 0.25442505311298264, -0.0948237586257822, 0.3112492345995189], [0.990531067229789, -0.00015991884825949584, 0.02946655710003325, 0.13408915426404733], [0.9514856966068374, 0.1556256209003586, 0.23260972616544157, 0.12786066856237585], [1.0, 0.0, 0.0, 0.0]], [[0.9983216283299098, -0.01145838623720499, -0.005666226775629289, 0.056484738360760005], [0.9997833389488604, -0.009692102372362362, -0.009526791351353151, 0.01576637429530131], [0.9560335686094154, -0.2196837376346972, 0.19425957807099725, 0.001444797035571854], [0.9996732489318431, -0.010757921576467695, -0.004906420668859123, 0.022662513753516838], [0.9631281138371569, -0.18825594870705867, -0.19042582502991945, 0.02611396703988422], [0.9841450232090727, -0.013150338795572895, -0.003029442881359452, 0.1768515319645374], [0.9520303980580281, 0.19922571003925948, -0.1488830733535846, 0.17827245469117411], [0.9923006229698375, -0.01298517988809806, -0.003851999756607232, 0.1231097918722204], [0.9540240203944612, 0.16302335943129842, 0.22381867689414894, 0.11474647124628645], [1.0, 0.0, 0.0, 0.0]], [[0.998988822648897, -0.007464027199962337, -0.039600000868722715, 0.019936410201586395], [0.9836926383424518, -0.011630279360384415, -0.04081343284560635, 0.17477927100266433], [0.9332379298494422, -0.2875773798214404, 0.15280713273952293, 0.15171089970495996], [0.9983458730495134, -0.001114402884285392, -0.033328705418101914, 0.046834530705130425], [0.9600773181189939, -0.17036362096579272, -0.21828513059461715, 0.03974143487790637], [0.9988691980536167, -0.017179871748975097, -0.04422974014936565, 0.0029845054419360808], [0.9518690082967709, 0.17928981697474272, -0.24788048243502325, 0.018863165192129362], [0.9924650885826269, -0.0087319039133468, -0.041854544108761306, 0.11482595062168843], [0.9508218199236993, 0.19323940071170725, 0.2122493088475522, 0.11638999812398451], [1.0, 0.0, 0.0, 0.0]], [[0.997834516896853, -0.000637212285844912, -0.04356831393124657, 0.04927142042721313], [0.9570691285130859, -0.01119669000067287, -0.04397566974534813, 0.28628562285011655], [0.8951181340320075, -0.34219925857970973, 0.13761213692331928, 0.2504517784443781], [0.9972776534639349, -0.0029286983044160843, -0.04479848106577064, 0.05849615989027993], [0.9509961099130656, -0.18280544291161369, -0.24469223661479325, 0.048106946614343456], [0.9958056101782754, 0.008116046294493638, -0.03896443051223595, -0.08238379503807433], [0.9436312860868423, 0.19768898652689626, -0.25543240827632335, -0.07234186427110136], [0.992294612241976, -0.005501181623623509, -0.04277807375734205, 0.11615152139297072], [0.9439091285013289, 0.20664151847109619, 0.2293437981789644, 0.11720180123474126], [1.0, 0.0, 0.0, 0.0]], [[0.9942508547800593, -0.0012826263752298266, -0.04207988055729441, 0.09845240622243291], [0.9309387314661869, -0.012539226674832699, -0.038447884525703774, 0.36292920277379476], [0.8482142498747343, -0.40098641237655475, 0.13486674144005864, 0.3186745133394913], [0.9955395600424254, 0.001007860655067305, -0.04419584563016946, 0.08334684059080026], [0.9539846345188311, -0.16405514490333992, -0.24042408778414692, 0.07207970966837537], [0.9830126191739507, 0.009503217903333683, -0.04061411359396945, -0.17873548380561471], [0.9089420762094391, 0.19855499242328029, -0.32129223933541734, -0.1765545638682222], [0.989922306072701, -0.002802584496586132, -0.04224498547337889, 0.13513450581623881], [0.9342550807914461, 0.21626888036445965, 0.24843690729037118, 0.13665401017631013], [1.0, 0.0, 0.0, 0.0]], [[0.9934881402390812, 0.0010353958719020524, -0.028299850392060785, 0.11036014510441397], [0.9426858095158767, -0.0069667552926544, -0.028551335217424634, 0.3323849426724846], [0.8568082442851502, -0.3964054961520703, 0.1600436458333906, 0.28831986850334396], [0.9965936544350725, 0.0022190095021987896, -0.027214559091573255, 0.07781729698484678], [0.9549646282867544, -0.1723530135452012, -0.23053973313716158, 0.07203074960095095], [0.9943905918845941, 0.006616764292111441, -0.027413065870479512, -0.10194161574788824], [0.9035596232295783, 0.2548472851910454, -0.33259413061409754, -0.08952101865500257], [0.9869579682094338, 0.0005278878995412015, -0.028432128314217403, 0.15844653483681959], [0.9364704048477045, 0.19700548383477237, 0.24439203615743693, 0.1564754065220013], [1.0, 0.0, 0.0, 0.0]], [[0.9988324368393526, -0.0030901248975414106, -0.01787167504790453, -0.044775188181182764], [0.9835268969358089, -0.007208676742938174, -0.01423104218084263, 0.18005653396053714], [0.9387276630939859, -0.2525300526520752, 0.15556127376824472, 0.1755552253658244], [0.996359960337861, -0.006476161096461781, -0.018180932025128844, 0.08303217739940362], [0.9564462333049242, -0.17742754172512726, -0.2189455690222781, 0.07611115581642103], [0.969643546898724, -0.0049453914463386175, -0.014667839999863288, 0.24403235345101856], [0.9086910231131243, 0.2950283711852754, -0.19335921873026393, 0.22327359279907855], [0.9836101199364221, -0.007769068868859898, -0.019335245564559105, 0.17910031213408428], [0.9363464231631835, 0.17726187403365926, 0.2484379807756728, 0.17352859577514623], [1.0, 0.0, 0.0, 0.0]], [[0.9905547372282174, -0.00031259352450033017, -0.00438817284622501, 0.13704728665353746], [0.9891174825853082, 0.008332613762627535, -0.003489207824579532, -0.14685025917832814], [0.9586594862263949, -0.13840225655426813, 0.20648992452212037, -0.1384872409995958], [0.9972061608473345, 0.005594990944351735, -0.0049198178056618636, 0.07432606701024705], [0.9655054197430414, -0.15134050811826436, -0.2002894302031377, 0.0691337775491952], [0.9295520085444313, -0.013919833819579053, -0.0023300639825487, 0.36842078176900667], [0.9022020367564562, 0.21286079458615004, -0.10457820255338512, 0.36025708397109707], [0.9701756895500878, 0.002916232701713393, -0.004386875712325734, 0.24234558447458016], [0.9396521756353104, 0.14117522106960861, 0.20605563971102042, 0.2338042324746428], [1.0, 0.0, 0.0, 0.0]], [[0.9947832941576439, -0.00779880573607697, 0.004067515899863187, 0.1016308595278122], [0.9888274407118466, -0.008726202819454831, -0.00429934302667213, -0.14874697149573252], [0.9568739391815629, -0.1611567103142787, 0.1971636803023914, -0.13981152458025264], [0.9939323240085058, -0.003915089111502996, 0.0005255931990057303, 0.10992238680127309], [0.9534379924347066, -0.17773947968360226, -0.2205667720818842, 0.10351314407966201], [0.9438661802209302, -0.005359151058546897, 0.007738228250525629, 0.3301939326496245], [0.8932971897343195, 0.30552734088144284, -0.14476716313266605, 0.2961682684981665], [0.9266896399395069, -0.006578171547410707, 0.00942526843121827, 0.3756517046452464], [0.8884729780665686, 0.09542344205199225, 0.2580896137655988, 0.3672871971887898], [1.0, 0.0, 0.0, 0.0]], [[0.9864883042325038, -0.02146166434906622, 0.009833717942983345, 0.1621219311730053], [0.9994784024227229, -0.02311510243738975, 0.010269873562405165, -0.020078466745317426], [0.9596024340325284, -0.1994710741111344, 0.19625180324005745, -0.029320452193357934], [0.9895380180357973, -0.0199958486994338, 0.007906099554676171, 0.14266103352495], [0.9445502862704981, -0.19195362601525168, -0.2252755070063035, 0.14223047531724758], [0.9824436678243612, -0.030426153067476803, 0.00672172316515808, 0.1839388681030243], [0.9112651848992604, 0.2950418259057703, -0.22020761946156348, 0.18453912346106166], [0.9261257261005059, -0.010901403432625228, 0.010223708964265043, 0.3769187905013813], [0.8853958596238986, 0.10933169313344301, 0.2795772113360335, 0.35490468514658835], [1.0, 0.0, 0.0, 0.0]], [[0.9860220644426898, -0.056220586499216046, 0.0006419420526442139, 0.15684171000171335], [0.9911685625508054, -0.0546304867926466, -0.009216241272160305, 0.12048008723677982], [0.9475542814310708, -0.2632656016892835, 0.15051133534377084, 0.1008882780201036], [0.9866550085137294, -0.052648078185740445, 0.008377564903422554, 0.1538502208136521], [0.9456464390281032, -0.20242366019875754, -0.19772324068319455, 0.16025914713033235], [0.9946008822957794, -0.05907244419637661, -0.0034531635295139565, 0.08525026061404052], [0.9227961512356622, 0.259534256030034, -0.26751179512548556, 0.09760467550443461], [0.914845807184148, -0.059398089391792856, 0.01507361027047545, 0.39912629871708954], [0.8876031585170292, 0.041248705623827556, 0.2735687748015724, 0.3682652613653902], [1.0, 0.0, 0.0, 0.0]], [[0.9869696819644237, -0.06859087207862305, -0.014799026144361342, 0.14480030378323286], [0.9786167948052451, -0.06765358006315678, -0.012623705879246858, 0.19383705548635707], [0.9341428198614444, -0.2823852224130157, 0.13350292857563403, 0.17266367981075184], [0.9871877021970281, -0.06867983955432386, -0.014893068983811916, 0.143254028794961], [0.9377288570569643, -0.22188652590337551, -0.2218719321739936, 0.14900941573789578], [0.9976275436872014, -0.06353035757585544, -0.023570209424867962, -0.012150019365941131], [0.9053844697557415, 0.2549089617600064, -0.33925778604728746, 0.014301669337648776], [0.91622002362723, -0.07175744097037212, 0.0030369752551019846, 0.39418588857441517], [0.8965511765421244, 0.027956352612290698, 0.24937966421732022, 0.364998922278418], [1.0, 0.0, 0.0, 0.0]], [[0.9884339737192298, -0.0688519014552423, -0.033324048599547795, 0.13094732929138184], [0.9475581064698954, -0.07231502514342937, -0.02092711327142269, 0.31059012851637247], [0.8850572076727885, -0.3567024201274931, 0.12737308282593543, 0.2705794160557179], [0.9894641109249258, -0.0683456168178335, -0.03178362840033434, 0.12361007571814409], [0.9374871018788671, -0.22493668178888696, -0.23370023704115486, 0.12611749364571037], [0.9865961620105551, -0.060394179535891115, -0.050543274272193135, -0.14291932553043668], [0.8682152682017495, 0.2345938624585707, -0.42911216869500785, -0.08384935560873667], [0.9204846591155207, -0.07440041991438266, -0.01728541184645859, 0.3832411569584423], [0.9056646162677073, 0.027273737671423656, 0.22115227058174763, 0.36072069429218284], [1.0, 0.0, 0.0, 0.0]], [[0.9897693821786545, -0.06897364389201234, -0.04639608433766991, 0.11595951840221734], [0.9236620066254316, -0.07736795060377108, -0.02585578545523578, 0.37442512748818846], [0.8389623631310648, -0.4231447421398645, 0.12575316318116783, 0.3182401960765763], [0.992861676353909, -0.06891791760423305, -0.051349005972835246, 0.08270001116326109], [0.9365428360565637, -0.23344760729846142, -0.2477700907124936, 0.08366428763860058], [0.9862003699519721, -0.052524969680837474, -0.06081367565264573, -0.14474686428463757], [0.8627695375851595, 0.2415807259957522, -0.43549323665126155, -0.08725318718226571], [0.9377808567153605, -0.0797123285802556, -0.02796087192517215, 0.33679548555718775], [0.9261133998516515, 0.03166793169980059, 0.20662273570610085, 0.3140352811491068], [1.0, 0.0, 0.0, 0.0]], [[0.9834357896153105, -0.0719551628128808, -0.05413042444675667, 0.15730988334334325], [0.9791535300982388, -0.075039419197517, -0.05207758159812822, 0.18142595061773042], [0.9010189391858173, -0.37753829789952587, 0.15975512150456206, 0.1418027009638953], [0.9953407872167565, -0.06434624704999721, -0.060730997979148854, 0.03831479711241064], [0.9386089506590573, -0.23757989693070933, -0.24741586934030768, 0.0368024172531746], [0.9957055995850714, -0.0635052476859297, -0.06413358537659565, 0.020599167410967435], [0.8888818645341225, 0.26541128129239283, -0.369470276521852, 0.05419960730428079], [0.9396474728474029, -0.08004115254561092, -0.04212854299942864, 0.329971554130662], [0.9302619947553847, 0.03487229548988081, 0.19120464733785852, 0.31118696463284595], [1.0, 0.0, 0.0, 0.0]], [[0.9890905170466178, -0.06867660850929659, -0.057919184553284264, 0.11674262543217706], [0.9905792953602378, -0.05320795891264302, -0.0702146745980005, -0.10484022216240325], [0.9578046281624135, -0.2167480952131467, 0.1404930761793857, -0.12606447968316367], [0.9954800424220623, -0.06348125148334827, -0.06263765556884505, 0.032651798638295704], [0.9252966540797232, -0.2611532388840788, -0.27318647190836887, 0.03153156094268679], [0.9536432185786806, -0.07893382186174198, -0.046081127667510435, 0.28672389697770956], [0.8936946918195812, 0.25284925989418927, -0.21827058556378018, 0.29955800951086103], [0.933132642261456, -0.0804170740618189, -0.04074681595120815, 0.34804635199255884], [0.9232455449818939, 0.029458735589307516, 0.19508301536205594, 0.3296854010808071], [1.0, 0.0, 0.0, 0.0]], [[0.9924615271362198, -0.04903733703311052, -0.0585936351504749, 0.09582401917576072], [0.9825648062430055, -0.037224148310139024, -0.06726833463503443, -0.16928005042136213], [0.9534443946373988, -0.1869441138516052, 0.14624608026095184, -0.18603163343654594], [0.9970368484443252, -0.04188957688466458, -0.06093519428486646, 0.021205855089976085], [0.9274949776074533, -0.2488785892151082, -0.27843984794567506, 0.016845338204878685], [0.9314478841889822, -0.06341094098133727, -0.04671344497075061, 0.3552488503326848], [0.9004749147673734, 0.17888506257002149, -0.15692616667890807, 0.36403192233027437], [0.9347679681005816, -0.06289740015529535, -0.04447884071143791, 0.3468059912916463], [0.9230145319768388, 0.047134747609084794, 0.19068977670327397, 0.33084724328345394], [1.0, 0.0, 0.0, 0.0]], [[0.9887092771435114, -0.03714311215128403, -0.06527167178297126, 0.12966866766003446], [0.9946944071167647, -0.0315624861533286, -0.06670060066148054, 0.07167897732143372], [0.9275253401534297, -0.31830761436017707, 0.19250836651566303, 0.03629786267906793], [0.9971036234978193, -0.027982886773132216, -0.07005370186582141, -0.009685087002995836], [0.9433461660765308, -0.2147611953566413, -0.2523362770680358, -0.01737938989552782], [0.9907243945160713, -0.03410114976687317, -0.06354185880077468, 0.11517255695469979], [0.9507415345261196, 0.1722691782427215, -0.22040077211081577, 0.13355659627084418], [0.9349648315063682, -0.05479889883560196, -0.05797307658078925, 0.345654403884041], [0.9244459090156842, 0.05260518740703193, 0.1763282389419149, 0.3339772562820395], [1.0, 0.0, 0.0, 0.0]], [[0.9889007299890548, -0.018188638207244475, -0.07040924916700039, 0.12956487679544812], [0.9544239513688009, -0.024233240185946064, -0.07468311248811603, 0.28794114647396657], [0.8493720525232581, -0.45275145111286036, 0.15992942490480083, 0.21910230249188722], [0.9967801218764575, -0.007748804143330589, -0.07201190557422747, -0.034403925965959765], [0.9477403682816448, -0.19934794708686207, -0.24509138664174543, -0.04448373315777808], [0.9889820939476566, -0.004382516293472241, -0.0715611704246311, -0.1295152897896723], [0.9161218630137965, 0.1953647974445163, -0.3340489443562282, -0.10471213302231674], [0.9258621198864038, -0.03324688427041134, -0.0627628551433883, 0.3711263984951956], [0.9110750419533861, 0.07116464101082112, 0.1816631492699625, 0.3631478514279771], [1.0, 0.0, 0.0, 0.0]], [[0.9918229344203654, -0.0034682577661750403, -0.06760427272723502, 0.10818918732879254], [0.9266690304859219, -0.02035769923817239, -0.06402149506266776, 0.3698260674830138], [0.8401409069746414, -0.42886929776378174, 0.11556256218050934, 0.31125500170391424], [0.9971082903208848, 0.005390955613832869, -0.06912022523961983, -0.031118956180373324], [0.951309294009368, -0.18280651593084588, -0.24397297457089778, -0.045492774631267247], [0.9858360293483819, 0.013299942003514986, -0.06213824186632307, -0.1552071959642395], [0.9272690173994496, 0.18534159565863154, -0.2942258112726577, -0.13875097935048164], [0.9377133430146473, -0.02260646499041201, -0.06698283124627585, 0.3401410507292007], [0.9235273163912325, 0.08560765272711675, 0.16605861666410585, 0.33495247648788207], [1.0, 0.0, 0.0, 0.0]], [[0.9867403843160955, 0.003031391439947833, -0.05673406904864166, 0.15203772569611226], [0.9379510928221094, -0.008714930826351091, -0.05723922822164139, 0.3418997926397346], [0.8739184653999871, -0.3688629597136456, 0.11433594221647904, 0.29518456108287766], [0.9975380744734434, 0.013767226370104624, -0.0578110316167408, -0.03723087532273717], [0.9560076419029093, -0.1736123792247491, -0.23153310953013903, -0.04796404480926663], [0.9921622104519153, 0.014014699548476704, -0.055887837981834824, -0.11087960097985383], [0.9466806963788803, 0.1699698126406621, -0.2545186969652741, -0.10062879701951763], [0.9587193095186161, -0.0008648066564781968, -0.05418699349548484, 0.27914209177677796], [0.9363716441923731, 0.12544552757042218, 0.17434023279980734, 0.2776275324825684], [1.0, 0.0, 0.0, 0.0]], [[0.9904691463592148, 0.006548096575527103, -0.041345397011068326, 0.13121947526066063], [0.9826338612203459, 0.005851458217417306, -0.03941938656677126, 0.18122518363247184], [0.9457429006456488, -0.24266949215071035, 0.13308851067672542, 0.17020379485640635], [0.9972115977397159, 0.011691181461122123, -0.03789437297045116, -0.06321678658886618], [0.9542597653025733, -0.19406443289826847, -0.21649006237310575, -0.06970903171211129], [0.9954964280615868, 0.011535104340935798, -0.04441139361339669, 0.0829543922995125], [0.951436529081795, 0.2083221447179645, -0.21242911194999323, 0.0790208045076194], [0.9586948805151905, -0.0012880443666601381, -0.042206715985231257, 0.28128466033791505], [0.9196107140008041, 0.15006231618253665, 0.23653462087575441, 0.27540662498209206], [1.0, 0.0, 0.0, 0.0]], [[0.9877579544372976, 0.020428076978838527, -0.023593665474447023, 0.15284062308912466], [0.9890648717190579, 0.03199604500758366, -0.021336803384609568, -0.14237862710590632], [0.9652223836777737, -0.11670919721524024, 0.18399285693692727, -0.1444691729365068], [0.9985366142294673, 0.025669518793604695, -0.01864029547923754, -0.04379777657031974], [0.9507129217488908, -0.20576227587386337, -0.22521428573477745, -0.05554594267693774], [0.947046406500086, 0.012577968909588738, -0.020858576022379505, 0.3201715453310958], [0.9086768064801154, 0.24201141102038404, -0.12911282607899977, 0.31474881483957257], [0.950988447895915, 0.01490753690375332, -0.024770540248518384, 0.3078719825638221], [0.900625404774177, 0.16263193504885545, 0.2712850030709448, 0.29804224715032], [1.0, 0.0, 0.0, 0.0]], [[0.9950689891615241, 0.0287084200269648, 0.0027234609166956057, 0.09490055947808362], [0.9881435089283029, 0.025487526845882142, 0.00907236533773092, -0.15113068492308215], [0.9582075985438957, -0.13113490732266414, 0.21561001097704358, -0.13473736430810812], [0.9993048321468107, 0.03177660121273325, 0.0070082303702384925, -0.01819298684876371], [0.9519638205768067, -0.2068844534753376, -0.224939398620127, -0.01913045141747092], [0.9376928561553244, 0.023663049954490596, -0.0031758613983391233, 0.3466440270457579], [0.9062493163364165, 0.25533896533703815, -0.11402599695101732, 0.31703668784497974], [0.9495659047247499, 0.03358986476611721, -0.0051209625318957815, 0.31172117238328273], [0.9067467781269519, 0.15684468186083342, 0.23707504445915364, 0.31145697844655307], [1.0, 0.0, 0.0, 0.0]], [[0.9946288335589376, 0.003076198440931525, 0.00580334133919907, 0.10329734597577823], [0.9999386085756424, 0.008447030771860927, 0.0012611674781316579, 0.00705947643522149], [0.9522284930728082, -0.21348881524574087, 0.21830580948642536, 0.005098655679237779], [0.9990311085684358, 0.00046695515835617146, 0.009021752528486675, -0.04307242791760527], [0.9690096982346397, -0.18446864267399046, -0.15921108665708877, -0.040538308828772074], [0.9658146026440905, 0.002153970245318617, 0.006561029194019584, 0.25914178865542953], [0.9257592478432624, 0.24660761681924842, -0.13418928383629541, 0.2532740303760138], [0.9407083203589799, 0.004620541077671721, 0.005564912569630653, 0.3391394084379295], [0.9075951279258969, 0.11482327954054218, 0.2392240141034452, 0.3253591389787046], [1.0, 0.0, 0.0, 0.0]], [[0.9950221749862942, -0.00860785859965442, -0.023776482522398945, 0.09639219332879152], [0.991362269013492, -0.005386362901402516, -0.023127264111284237, 0.12898437240938201], [0.939146838635407, -0.2680109928982056, 0.18261126818137202, 0.11325390898344073], [0.9984141508913453, -0.009668967047794014, -0.028381978463690644, -0.047646171668133196], [0.9561154922733804, -0.20462646661465267, -0.20381554000480412, -0.049299089729771164], [0.9887262243826117, -0.009615497136899232, -0.020862305169622654, 0.14796202099162184], [0.942700269392416, 0.22769103868556162, -0.19347690062843395, 0.1484576771776094], [0.9348004237590488, -0.013551292827069801, -0.02044159786557098, 0.3543256570999623], [0.9048447878059841, 0.10014675136509867, 0.23178594362003274, 0.34278537674692566], [1.0, 0.0, 0.0, 0.0]], [[0.9935032702327775, -0.016125906055336193, -0.04848015717285479, 0.10169012514087435], [0.9603048507298108, -0.02505113390578149, -0.0485813638246876, 0.27354503366678745], [0.897978639074208, -0.34803968956488596, 0.13397257351156375, 0.2335681652124272], [0.9980224086183076, -0.006493174533658338, -0.04883452479603061, -0.039042281799777104], [0.95374646156903, -0.19624497675650018, -0.22318339715639823, -0.04521910410573264], [0.9987296039128888, -0.01391404612800347, -0.04840465638299715, -0.0016021325775847231], [0.9372955259861477, 0.214498813938861, -0.2743785524187475, 0.013556022933183346], [0.9395676765046446, -0.02760341437725369, -0.04344777051636254, 0.3384714522962586], [0.9200275814748051, 0.08546884867349618, 0.19561247550092573, 0.32860323288191723], [1.0, 0.0, 0.0, 0.0]], [[0.9878110000557265, -0.03381267774359859, -0.06275053790328301, 0.1383781087656634], [0.91417362967199, -0.04714835688815847, -0.0528064354898453, 0.3990928308375669], [0.8424444976033857, -0.4066347743227548, 0.09367660451545583, 0.3408227142308978], [0.9968125390352525, -0.02105540884848172, -0.06745282449158282, -0.03703441977977368], [0.9465847903558033, -0.2094590814323975, -0.24087072564251827, -0.04566641436551424], [0.9874129808726569, -0.017691256202912082, -0.06905563465819828, -0.14118761978335967], [0.9190601036390076, 0.18084599093413356, -0.33032079304395146, -0.11623866458680107], [0.9372815238964892, -0.04651094269654683, -0.05440096297746058, 0.3411460279687841], [0.9238602552861398, 0.06552810931839292, 0.1837094890680177, 0.3293009553860312], [1.0, 0.0, 0.0, 0.0]], [[0.9869522963528328, -0.04468713561349929, -0.07169738845997432, 0.13706826446172946], [0.9284518975932029, -0.059521660223512636, -0.059007642968319306, 0.36187338102040717], [0.8493874822802423, -0.42308387948798265, 0.10739499374546886, 0.296660161095891], [0.995117456616996, -0.032018708000146244, -0.07861366372279484, -0.05035813489597867], [0.9423535132183133, -0.21962270487466432, -0.24625841517051217, -0.05561039998369197], [0.9907241232005051, -0.02651085490870652, -0.07955299538239329, -0.10693085245282913], [0.9065759211826286, 0.20728640098882573, -0.3612777540513192, -0.06805021325905396], [0.9240458765705376, -0.059360776758831495, -0.058771098354788706, 0.3730435285241479], [0.9151868245874357, 0.04227000554187524, 0.17647800235451241, 0.3598636372544698], [1.0, 0.0, 0.0, 0.0]], [[0.9856827797022303, -0.057039699286098804, -0.08160406392153939, 0.13607610831929753], [0.9774954229068615, -0.060641021079703275, -0.0748935734195908, 0.18766011142219707], [0.9092348081521179, -0.3645837865925183, 0.13880828810396723, 0.14526866610555864], [0.9915790851966378, -0.03987045088939655, -0.09443384488784703, -0.07914236467387814], [0.9321393512432619, -0.23612325912532572, -0.26035841793965353, -0.08703752392954459], [0.9900920269178294, -0.05202355995929482, -0.08246479087838211, 0.10104892729905886], [0.9124236810325707, 0.23659073737153327, -0.31163370377807337, 0.11996784548589715], [0.9159709472987418, -0.07767936234091954, -0.06567839750539715, 0.3881359149474275], [0.9113715428063713, 0.0203503904864369, 0.17403668549720816, 0.3724231527052661], [1.0, 0.0, 0.0, 0.0]], [[0.9807963565138098, -0.05886757339098433, -0.07682717210849435, 0.16932424952765754], [0.9905424540411298, -0.03704021588366323, -0.09093827019399828, -0.09583266751787307], [0.9589642512106944, -0.21828246079967759, 0.13584932308196085, -0.11952110117181064], [0.9908101889505808, -0.03583491249548734, -0.08938345927029115, -0.094982239008306], [0.9330777118479948, -0.23551125553515398, -0.2512519785644504, -0.10379246329196866], [0.911805554865757, -0.07590100836608413, -0.06158254019534318, 0.39881983123717574], [0.8693648180544824, 0.21305213161344946, -0.16900508465659989, 0.41261469157590297], [0.9190128612694465, -0.07364683701941784, -0.060085260428142565, 0.3825980471691705], [0.9127251817526248, 0.027925495785002124, 0.18031913362323282, 0.36556520530428804], [1.0, 0.0, 0.0, 0.0]], [[0.9823619188756134, -0.04497990675152834, -0.06923013113241319, 0.16777680791764826], [0.9943843481790225, -0.026624209360329516, -0.07935608818222699, -0.06475747710444268], [0.9710481287203975, -0.19664892050497443, 0.11423739165874465, -0.07310644376420689], [0.9922650133464701, -0.02354369591668918, -0.07540968299947155, -0.09575603052043992], [0.9376122288833387, -0.2295551928614245, -0.24038544729258868, -0.10199293313124083], [0.9176875006451733, -0.06600389272353158, -0.05773185474130745, 0.38750505835806076], [0.8905774128334748, 0.1747213903557457, -0.15514241181877297, 0.3902244732945946], [0.9032369049150892, -0.05809163029773197, -0.05431057587564405, 0.42170939927492385], [0.8910035076071328, 0.032916991427977375, 0.1913496070653108, 0.4103834170419996], [1.0, 0.0, 0.0, 0.0]], [[0.978355004684456, -0.033355792627760686, -0.06865062268630631, 0.1923433594170443], [0.9867111952840762, -0.027383621659601193, -0.06973309043049501, 0.144182004649977], [0.9335059252026283, -0.3083909933785287, 0.14791246332615549, 0.10762706912007744], [0.9953941011117564, -0.012460734764146466, -0.07480136535501003, -0.05865210398683582], [0.9466653794538264, -0.20137774617587906, -0.24207992526441832, -0.06832987979383341], [0.980758774362805, -0.034798889290610854, -0.06569885427582935, 0.18051294790499545], [0.926892812990008, 0.21846453845427716, -0.23405767920699302, 0.19585699239410861], [0.897748267455352, -0.05227933616888028, -0.06035660323847468, 0.43321126455364506], [0.8885217810229872, 0.03278969163483125, 0.18370379236194045, 0.41917394652109824], [1.0, 0.0, 0.0, 0.0]], [[0.9769289221353996, -0.020280166609012655, -0.06223065774899202, 0.2032878283956144], [0.936001539957053, -0.026045042069166854, -0.06716151191256399, 0.3445462295531022], [0.8491049502973537, -0.43380354573077884, 0.12405908367080319, 0.2746718239111781], [0.9971794806571627, -0.0033056196832419813, -0.06523103122037152, -0.036973893502686955], [0.9513798424644287, -0.19095033643974982, -0.23731312430899856, -0.045791324468799445], [0.9978566427706203, -0.016967552637434213, -0.06258920403278055, 0.008764369605712578], [0.9189508628465926, 0.2379389133689082, -0.3130541936039926, 0.030190346889034193], [0.8939044598911826, -0.03202582871425828, -0.053506545572854, 0.44389887639267395], [0.8781935040668618, 0.05419312934829966, 0.1961163192622526, 0.4328714167801233], [1.0, 0.0, 0.0, 0.0]], [[0.976725614439941, -0.016008515143702235, -0.05795780091588514, 0.20589243515197092], [0.8810395601428047, -0.02875654207940278, -0.052459299490363175, 0.4692444742860475], [0.7976189630397318, -0.43346300542948374, 0.07062174686550339, 0.4134324389705375], [0.997306544896121, -0.0017022729499403253, -0.06139279189630507, -0.040095920956402], [0.9500263138047825, -0.19565807086012307, -0.23824107421464757, -0.049082715316521947], [0.9956645805965383, -0.0017197305504376423, -0.05773253005055074, -0.07291118190178932], [0.9207593625854695, 0.22238427752149034, -0.3151493078478663, -0.058552054493890136], [0.8895372757989147, -0.030539055008347256, -0.05181608665146027, 0.45288618244275325], [0.8710006891484021, 0.05345023564052715, 0.20619201165988738, 0.44270275144912913], [1.0, 0.0, 0.0, 0.0]], [[0.9739070638743357, -0.011407166723881822, -0.0479921156301048, 0.22152125026811997], [0.9155871196759884, -0.019806995906214084, -0.045121403838477264, 0.3990889225626836], [0.8531412337321772, -0.3679979005351864, 0.09178645480914634, 0.358193840289308], [0.997949962260836, 0.0032072832478648576, -0.04698104626614406, -0.043340136703781056], [0.9559997560454988, -0.18677986438779606, -0.21906861181058, -0.056450792905051325], [0.9983666218664304, -0.0014509648520070575, -0.04991874970752648, 0.027750702182966023], [0.927800201337476, 0.2436310684846252, -0.2802096059789147, 0.036239006392564534], [0.885265774000036, -0.02684930620991504, -0.04544508575472298, 0.4620804781863321], [0.8695811934257384, 0.050160646718237036, 0.2020094054688023, 0.44777746444324107], [1.0, 0.0, 0.0, 0.0]], [[0.9739332405015718, 0.00018746489143454755, -0.042190664275659984, 0.2228765482301813], [0.9834797300741661, 0.0027283396118066455, -0.042289786470202075, 0.17598792758741352], [0.9518807910485718, -0.2299628232135139, 0.12125389705699598, 0.1622884839441995], [0.9990210157783073, 0.01098198489212626, -0.0405742848849314, -0.013788888540586153], [0.9505877381829849, -0.19556762243405362, -0.24011821572111522, -0.021897478178005483], [0.9660970256718159, -0.0016090323611506277, -0.04120771427940008, 0.2548644194209909], [0.9262071795001552, 0.22349369236992192, -0.17070505754939372, 0.25109881210448654], [0.882504745693043, -0.011368331136781894, -0.04137167073095816, 0.4683423104283356], [0.8588237256822944, 0.07022623732016849, 0.22455788479491148, 0.4550426795076146], [1.0, 0.0, 0.0, 0.0]], [[0.9746948242825001, 0.012222623941662056, -0.028580718782372803, 0.22136790529516726], [0.9964005749182029, 0.0207847919421069, -0.02424442556938778, -0.07852448379587346], [0.9689529102501493, -0.14296846279328493, 0.17647460542111745, -0.09770869974445542], [0.9995078632084339, 0.016559644351587164, -0.022851668469564053, 0.013697109608114825], [0.9425374569783128, -0.21390508433766472, -0.25660868755463384, 0.0044428097911270595], [0.8668141709374261, 0.00620865401539031, -0.03276133891292036, 0.49751516594975537], [0.8220458845542002, 0.2557621557030698, -0.09621075914095807, 0.499569587968625], [0.8829732326975159, 0.0024118987342588456, -0.031645940515679885, 0.4683492153650651], [0.8544732051884126, 0.07860161127877449, 0.2241234644496372, 0.4620238099952353], [1.0, 0.0, 0.0, 0.0]], [[0.9734790001731833, 0.021490381933294507, -0.026578544038233086, 0.2262087104931814], [0.9987994640180468, 0.027107862145147408, -0.020975861636808396, 0.03499725297470673], [0.9636819884324046, -0.19083333156626645, 0.18363220781062503, 0.03433477812483726], [0.9988856094826501, 0.02601138314791914, -0.02326245755437997, 0.03177743198776883], [0.9430669530225758, -0.20176949910600558, -0.26373761154282954, 0.018874946487606313], [0.9101786254682378, 0.016299636485937324, -0.030021426477613123, 0.4128049243207073], [0.8664541141494666, 0.2752819510308992, -0.1263418568958221, 0.3968814063498068], [0.8808903176076845, 0.013282827841979431, -0.03153707496122595, 0.47208180195008875], [0.8536518625520684, 0.0860628014585314, 0.2166925212918442, 0.4657424642253244], [1.0, 0.0, 0.0, 0.0]], [[0.9661948374874614, 0.021812879241135473, -0.02588554949639266, 0.2555810490608798], [0.9681500978412292, 0.02417158639953638, -0.0273560364341049, 0.24769491260735257], [0.9050881893066736, -0.31541413368446514, 0.17663902319080083, 0.22389271836271318], [0.9985514112212893, 0.029216373297196403, -0.020661730031440593, 0.040181781835036], [0.9511788013267234, -0.18181851705124294, -0.24800065220530923, 0.026393015547409228], [0.9737779758546096, 0.014391364110412778, -0.02550148434883939, 0.22560810418853977], [0.9139988760073565, 0.27806792606193725, -0.19346391640690688, 0.22328456328506782], [0.8776212095521371, 0.020564064138720244, -0.031094576616344172, 0.47790298086054334], [0.8493697714322652, 0.09628351572830658, 0.21781469033154213, 0.47101723604542606], [1.0, 0.0, 0.0, 0.0]], [[0.9579896721907918, -0.007445495050987798, -0.0351551768461665, 0.28454255590357624], [0.8975966262301434, -0.011197590643634407, -0.04027948306962594, 0.4388308031436325], [0.8385305175448059, -0.3712200089210434, 0.08244175680835543, 0.39021229203736324], [0.9970961342611775, 5.6517382904498865e-06, -0.03128463113153858, 0.06943033101200878], [0.9580638575782164, -0.16895897857484332, -0.2231460335993391, 0.061419508709980655], [0.9954879225151255, -0.0022466709126171907, -0.030968125528948117, 0.08966450689962735], [0.9434945834418427, 0.2308369515838546, -0.21979394874168443, 0.09068016815111592], [0.8697846925904029, -0.022232502573449435, -0.03012914155288856, 0.4920086779661774], [0.8488664586619743, 0.046958560130387586, 0.22714712094357442, 0.4749998046696488], [1.0, 0.0, 0.0, 0.0]], [[0.9582335169982734, -0.015083084849409928, -0.04343294363724789, 0.282266907127897], [0.8389927163406316, -0.024223699768077256, -0.03522432371004051, 0.5424607647711351], [0.7792642520336962, -0.3682981381466696, 0.038158569313076256, 0.5056160900604724], [0.9940058299347784, -0.008448416006482098, -0.04734413697664894, 0.0981812966740108], [0.9491057597169762, -0.17353886909720867, -0.2478011141125297, 0.08761920810594045], [0.9989013296697093, -0.004196278372374208, -0.046478957100052044, 0.0042698218697758295], [0.9317596715313481, 0.2300867521013973, -0.28083810666175657, 0.003736156027839756], [0.8577348471235872, -0.022550304369631905, -0.03985664984949966, 0.5120486922798337], [0.8403756260192121, 0.04354376962426617, 0.21069834981232072, 0.4974725647772861], [1.0, 0.0, 0.0, 0.0]], [[0.9517051686628847, -0.018477073825673086, -0.047818431916259244, 0.30270326600857994], [0.9012135769938271, -0.025546502113980733, -0.04394832849263796, 0.43038356066935773], [0.8501303219756016, -0.3495118315458901, 0.07439232372986937, 0.38676310247639656], [0.9917553570455753, -0.0082572385156498, -0.04939380812586705, 0.11795499778442761], [0.9477452525407699, -0.16766378155012546, -0.24998284629823317, 0.10571834845180864], [0.9900839237539443, -0.010722932904303085, -0.05363106768418308, 0.12939301068055403], [0.9286162479942861, 0.2407656588680883, -0.24604572502091285, 0.1384386603148234], [0.8429276647178904, -0.029780057707131786, -0.04235336322758105, 0.5355299177819258], [0.8276903593341617, 0.027035275723120412, 0.21011087915427745, 0.5196644892552094], [1.0, 0.0, 0.0, 0.0]], [[0.9456209410065296, -0.018299158941334052, -0.04935440379943753, 0.3209833633345617], [0.9775978253869427, -0.013656952683597833, -0.054606380511945565, 0.2028154891755147], [0.9474971322261401, -0.2443083112522457, 0.09731425861731914, 0.18191362935766467], [0.9885569704327064, -0.00614798017983938, -0.050938667955743366, 0.14185404701844834], [0.9364610190679228, -0.1750519756461582, -0.27594532928837134, 0.12748231576409602], [0.9316003487496046, -0.020954290050613736, -0.0441982601719457, 0.3601780417180686], [0.8985448606066627, 0.21136383754252946, -0.14267024251324073, 0.35719415386853864], [0.8294977470066588, -0.03416205484124282, -0.043923975203323265, 0.555731163533447], [0.815778798909592, 0.014978015760842242, 0.21069003793189303, 0.5384146340969463], [1.0, 0.0, 0.0, 0.0]], [[0.9488467136283993, -0.01337159928308865, -0.03982454578200209, 0.31292989617877026], [0.9989446130925914, -0.0027189190623797144, -0.04160379587834393, 0.01927152357594926], [0.9721016260899749, -0.18666554917137135, 0.1419643582679725, -0.004530153125425269], [0.9882250143166538, -0.007220860470017517, -0.038395272533069756, 0.14793574044169824], [0.941162507786507, -0.1700381432008373, -0.2574590469634124, 0.13789489813084524], [0.816412520173383, -0.022400573901166607, -0.03814920257966521, 0.5757720465041521], [0.7734877812482445, 0.23318276373887228, -0.07825040024576765, 0.5841398170097176], [0.8361179523811781, -0.023606589371033136, -0.0354411890843284, 0.5468943414961088], [0.8120226370623862, 0.02933903960510096, 0.22449220060400463, 0.5379235164233571], [1.0, 0.0, 0.0, 0.0]], [[0.9391647904971997, -0.002432138677559264, -0.03446944258701926, 0.341724214125286], [0.984267800192004, 0.005433297627632214, -0.03263788055331375, 0.17355732636529875], [0.9404170666378784, -0.25893149087684236, 0.15770003541015146, 0.15395103975011296], [0.990011174584077, 0.00534690746879219, -0.032357622365067715, 0.1371213661471337], [0.9512167316602265, -0.15117226578197154, -0.23772765811083352, 0.1257745444719249], [0.8647244465538624, -0.009489139503448865, -0.03504851106727005, 0.5009323204142131], [0.8209799336689003, 0.2654425945812094, -0.10682529470169835, 0.4940855532262594], [0.841652253618505, -0.012764625727576482, -0.03511993938318033, 0.5387254756985681], [0.8234005972250776, 0.041566492817381444, 0.21659555147825335, 0.5228480183036742], [1.0, 0.0, 0.0, 0.0]], [[0.9309326369292332, 0.007305194629124311, -0.030873650472105663, 0.36381022159628945], [0.9113918179283184, 0.008565891631423742, -0.041836014761591926, 0.40931812515785543], [0.855671668760009, -0.35665833703357547, 0.0954077906206351, 0.36265435251047945], [0.9907532658657454, 0.01752131670223856, -0.026006251751925752, 0.1320024412925564], [0.9562896145768036, -0.1385819138859311, -0.22802959891901997, 0.11961491634863917], [0.9476987541717942, 0.0005232549857199132, -0.027428337792600753, 0.3179850371187048], [0.8892563646599941, 0.28996738882513823, -0.17011978715150022, 0.31016332689270515], [0.8394442697147696, 0.0034470047738650853, -0.026929799654132208, 0.5427671895865799], [0.8146866052139552, 0.057968498403670056, 0.22616683139108085, 0.5308238435265539], [1.0, 0.0, 0.0, 0.0]], [[0.9302238793495341, 0.0019002002966670877, -0.029882739309828547, 0.36576897820629434], [0.8065255759564192, -0.0023747874759520917, -0.027631284482213737, 0.5905483619742529], [0.7553521913826924, -0.3674694836037547, 0.032035991563074497, 0.5416483553357521], [0.9889410972631841, 0.008298801694876744, -0.031223445907125173, 0.14474713282135598], [0.9496262687132974, -0.1491170659153606, -0.24210930022443905, 0.13174648825409704], [0.9882996019709623, 0.005796299517812053, -0.02685613105004227, 0.15003015657180416], [0.9363295089465415, 0.24608416624441887, -0.20271111223080937, 0.14709805837558076], [0.8478098499543915, -0.003650757046078645, -0.03036493120721784, 0.529417700163192], [0.8255483784522694, 0.05392188707112895, 0.2195933757804346, 0.5170503401438489], [1.0, 0.0, 0.0, 0.0]], [[0.9227001050562036, -0.00048732157323205577, -0.02414412255992433, 0.384761406579151], [0.7986853806765474, -0.006769576475365348, -0.023657625800898172, 0.6012455008308731], [0.7405496753026525, -0.3983449547345963, 0.035278678462829685, 0.5400582286129385], [0.986449825598282, 0.0064554255421509, -0.024214663147947204, 0.16213796331155816], [0.9494862792146815, -0.14431174588845977, -0.23438486188943172, 0.1507105241804844], [0.9899924981521535, 0.0037514719242604222, -0.02396556882541044, 0.13901953665486852], [0.9212170921277759, 0.28009984567428653, -0.22898831933514335, 0.14306465403079893], [0.8583913623026324, -0.0030958212780351694, -0.023027579326787936, 0.5124689411127216], [0.8341640404328658, 0.06070996686139383, 0.22872518261721228, 0.4981660811507821], [1.0, 0.0, 0.0, 0.0]], [[0.9136755339955289, -0.00536474535322799, -0.017577987984211382, 0.4060286349799813], [0.9154015973933338, -0.005680136453604148, -0.016683893975536407, 0.40215581460599836], [0.8537664070492279, -0.3412751018821174, 0.11323043066172798, 0.37655424124787384], [0.9845302297915922, -0.001005655280650586, -0.018390798528476582, 0.17424406392602348], [0.9473093092889102, -0.14935412449134636, -0.2302203329164537, 0.16521808721755846], [0.9388572591893357, -0.002761570087077868, -0.016899558216712362, 0.3438805396212795], [0.8802986755968043, 0.30947160676022867, -0.16215538718092534, 0.32094734265913316], [0.8573660558430368, -0.009044897797724587, -0.018561419699813925, 0.5142928249652244], [0.8341600255582776, 0.053096620755270864, 0.2316271736090451, 0.4977013693680879], [1.0, 0.0, 0.0, 0.0]], [[0.9157042815093386, -0.0026726246391824233, -0.006631254217809646, 0.4017891889666803], [0.9917454235455972, -0.0005240776065954101, -0.009333517914523677, 0.12788129520131217], [0.9569441992928278, -0.21425858876064513, 0.15604643676767233, 0.11832398807603736], [0.982561462610642, -0.0015245975099990904, -0.006460320711609378, 0.18581956853671633], [0.9393134643920453, -0.16397203854752776, -0.24371405939252855, 0.17721976030002118], [0.807405098026391, -0.004022832936149684, -0.006141046389483399, 0.5899517878991503], [0.7769716347016958, 0.26018493683971977, -0.04631831536247887, 0.5713785883043461], [0.8499490226609504, -0.0028295590616643084, -0.004691260371815483, 0.526836449526165], [0.821867532526078, 0.05659661355290471, 0.2477039190315876, 0.5098758190091309], [1.0, 0.0, 0.0, 0.0]], [[0.920254384313092, -0.0022929957602734574, -0.0012982118917089962, 0.39131180019117684], [0.9879250686031764, -0.004436158773752164, -0.0009033108780187143, 0.15486627570326933], [0.9512172321303746, -0.2179713575653939, 0.14997742541478282, 0.15868533783964262], [0.9861397776574571, -0.002169390516088114, -0.0016345333202089395, 0.16589442717377556], [0.9351499306925458, -0.18384264328680822, -0.25769330349421465, 0.15903034606415367], [0.8058670822710096, 0.0013346212406399396, -0.0036280926421142193, 0.5920838635209831], [0.7795291165261887, 0.2611767266830273, -0.04694638370944264, 0.5673773973147368], [0.8416095109528546, -0.003761451883564193, 0.00047264273444462426, 0.5400731979669702], [0.8142182296821701, 0.0501702822461682, 0.25272244401240657, 0.5202528073206035], [1.0, 0.0, 0.0, 0.0]], [[0.9164162640051486, -0.0070293319100215405, -0.0063383236215501975, 0.4001145401174678], [0.9272768189580377, -0.006475162308730175, -0.005665970012378932, 0.37427753082432924], [0.8738075030357839, -0.31897240852179126, 0.12978388211796354, 0.343326658129785], [0.988834296644769, -0.005199612160523907, -0.008964498135631205, 0.1486584527889403], [0.9410983762671185, -0.18094957565720426, -0.24738344614019436, 0.1428024083573955], [0.913759244327502, -0.007194185833606802, -0.004639141286027251, 0.4061659334118907], [0.8599080010681703, 0.3082905627950487, -0.12334654407503938, 0.3876864566311288], [0.8286977173368387, -0.008160283139852604, -0.007130578522425201, 0.5595915098620833], [0.8032297816800098, 0.040669291470119245, 0.24516923051345973, 0.54135014081742], [1.0, 0.0, 0.0, 0.0]], [[0.9205480414645046, -0.004046921608269173, -0.013625579972901234, 0.3903706819828598], [0.8141648667544014, -0.0035400102397612006, -0.017892237427824077, 0.5803472287433762], [0.7709559011593564, -0.3348388805301803, 0.035477090663527916, 0.5406027178907926], [0.9858477002154683, 0.0018925579907898198, -0.011294924493512241, 0.16725177094670596], [0.9504619136738569, -0.1479860833406246, -0.2226942709345625, 0.15852296832274873], [0.9811814751816965, -0.009508773541847797, -0.012931777292845212, 0.19241950296694926], [0.9187689555730937, 0.2794482817540562, -0.2081562363327079, 0.1855889150128157], [0.8372307044392939, -0.0072043898500968465, -0.01115089035642462, 0.5466886700446885], [0.8115537507744901, 0.04541961962284528, 0.24145320472725254, 0.530111231426115], [1.0, 0.0, 0.0, 0.0]], [[0.9187365119273826, 0.0013670137544523973, -0.0072620761404396635, 0.3948019948974823], [0.7818163333806806, 0.0008300801549928425, -0.005830257866217204, 0.6234809860126759], [0.7348706986221855, -0.33630468435864663, 0.032799320045039985, 0.5880377710568898], [0.9847622163737202, 0.0021115869641098774, -0.008884775678430962, 0.17366628678115734], [0.9496797891779118, -0.14656945407780045, -0.2213707498617264, 0.1661947179184384], [0.9903473605817489, 0.003122987536778398, -0.003993731329099171, 0.13851498997465767], [0.9345760143643159, 0.2646498253620204, -0.20016028376289893, 0.12831213549278092], [0.8541718592992942, -0.00015417726191235037, -0.008891821648964113, 0.5199147492794581], [0.8274651343383522, 0.06092330840771607, 0.24180728236008497, 0.5031093719507732], [1.0, 0.0, 0.0, 0.0]], [[0.9099896236708522, 0.002853974872504492, 0.004613407562354085, 0.4145955331518557], [0.9253495605994221, 0.001952102089701889, 0.006839124757390427, 0.3790482902856053], [0.8819214193602699, -0.264123892239153, 0.11771593354532886, 0.37228502335114005], [0.9869013426115204, 0.002045650564231059, 0.003338870793458977, 0.16127742311672807], [0.955431193305281, -0.14890530388120551, -0.20574706537398174, 0.1504878414533437], [0.9240304963726049, 0.002502896812124134, 0.0033502268929199086, 0.3822958975201157], [0.8844534467696044, 0.27695126328891395, -0.1126346535908298, 0.35826461319884095], [0.8550069818350571, 0.0030352670051042017, 0.0028326488311066463, 0.5185998691362289], [0.8258175749560783, 0.06429315506855054, 0.2521111733824493, 0.5003315694224362], [1.0, 0.0, 0.0, 0.0]], [[0.9274182011422181, 0.008751620635820181, 0.015871804638807916, 0.37358663673087444], [0.9962836444132487, 0.005832097349216895, 0.011986301381563213, 0.08509532945088766], [0.9637244071621399, -0.187429251169035, 0.17946177189090937, 0.062442095384220846], [0.9854851787308736, 0.005654561406574545, 0.017926422462169047, 0.16871760967600652], [0.9485073943043787, -0.1582532829412067, -0.2179922011224035, 0.16664039617709184], [0.770681096638819, 0.008947383509307051, 0.013312173028197611, 0.6370191344545246], [0.7334943713753855, 0.2633892008950996, -0.006976931168043354, 0.6265488476120159], [0.8506802516951356, 0.015659023422363274, 0.017802599723833492, 0.5251485235668395], [0.81263026295694, 0.07903757245491333, 0.2709859417311095, 0.5098546236439095], [1.0, 0.0, 0.0, 0.0]], [[0.9307289171413652, 0.0052123579698941085, 0.007305411270921331, 0.3655997060822369], [0.9817359819649606, 0.009624162740410901, 0.009520910218690512, 0.18976614417605744], [0.9281427886007827, -0.2585951771317124, 0.19629548695209018, 0.18206476906536007], [0.9850405586979257, 0.0032342723988833255, 0.006758858570698116, 0.17215967888256906], [0.9518881966242195, -0.14911095216256542, -0.20954994058009227, 0.16662415033705025], [0.8433972057570733, 0.0034718401632875024, 0.00856545569852761, 0.537211068962394], [0.8006766969540448, 0.30844055816269367, -0.056980541007726676, 0.5104257702952641], [0.8444130806407155, 0.004595606710752348, 0.007489109575106627, 0.5356205213391182], [0.814913465806318, 0.059404295566544675, 0.2565320871028482, 0.5163123678573219], [1.0, 0.0, 0.0, 0.0]], [[0.9357388658664513, 0.004544002300636264, 5.022204463119529e-05, 0.35266432258991814], [0.9027365277570266, 0.006716656515781916, -0.002680717985032635, 0.4301330744426905], [0.848784034537027, -0.32538158745839646, 0.11416041092470179, 0.40082400855687783], [0.9856842646612146, 0.003422575950302349, -0.0004651888289495719, 0.1685663073466891], [0.9525345095594571, -0.1468166964793172, -0.21154089740308618, 0.1623986282550482], [0.9426442900590217, 0.002124271806536928, -0.0009481153810889656, 0.33379084913406354], [0.8906507633430812, 0.29221818847076775, -0.14039150066794667, 0.31881024861734203], [0.8330403509418923, 0.0059259506638161055, 0.002978830989289788, 0.5531724716372607], [0.8021389347025516, 0.05756017204965979, 0.25993121698307103, 0.5345051154718437], [1.0, 0.0, 0.0, 0.0]], [[0.9302537377142329, 0.003748011724391295, -0.013938399308494474, 0.3666328639136571], [0.7942286382468333, 0.001369592663266889, -0.013621556109060611, 0.6074647706770205], [0.7305812270041443, -0.36893178657696124, 0.03137856408933244, 0.5737210065161827], [0.986132366003393, 0.007304802608899962, -0.01401760945424495, 0.1652062444479129], [0.9508524092732786, -0.14415003242211485, -0.22643457444904538, 0.15436271384626624], [0.990775883730208, 0.006687406750960476, -0.010365788840969064, 0.13494805382545177], [0.9262931534399783, 0.28113533027725135, -0.21815092877552023, 0.12391163074747845], [0.8219770950165055, -0.0008435739855830491, -0.015062047938917952, 0.5693207166115101], [0.7893040800815467, 0.05113872003099736, 0.2754602780055322, 0.546356601242567], [1.0, 0.0, 0.0, 0.0]], [[0.9244138892006639, -0.0015568601318532865, -0.011769254327846299, 0.3812060103041383], [0.8056351803264529, -0.0042759264400463294, -0.0122801659600542, 0.5922692548135828], [0.7458321885101987, -0.3935768741390765, 0.049092423180802966, 0.535183636438221], [0.9855047806079663, -0.0004596534207919842, -0.00981748165560353, 0.1693627266299139], [0.9506871895798491, -0.1495233477104207, -0.21792555088420681, 0.16231170731050712], [0.9894876159859867, -8.054626451320977e-05, -0.014153967297559583, 0.14392330086684235], [0.9061858526478186, 0.3130646444064762, -0.24704096441230203, 0.1406715706382509], [0.8149216997982445, -0.002762008043022047, -0.01178449336796886, 0.5794446653698441], [0.7880990512067457, 0.04181231676143569, 0.2500808275686873, 0.5609021263434727], [1.0, 0.0, 0.0, 0.0]], [[0.9295348181119398, -0.01221870013292069, -0.012819435055081298, 0.36830882065127574], [0.8955326047283154, -0.013534308529196432, -0.008119606547563309, 0.44471591870616434], [0.8426206346076524, -0.3211468280099193, 0.09564414640835797, 0.42155352951953895], [0.985703107215915, -0.00875574152748796, -0.017946918011142777, 0.16730400338633714], [0.9454366232000491, -0.16045419370670416, -0.2344103610339905, 0.1595488197196523], [0.9452339627152063, -0.010288082426553258, -0.013183268179756853, 0.32596489462792283], [0.8714040921905355, 0.3398315554905773, -0.18513124502957926, 0.30148937646331947], [0.8100467670741974, -0.015711887706836045, -0.009685978061660138, 0.5860746996469969], [0.7874340576642637, 0.025069652814037745, 0.24677537654200182, 0.5642880743651507], [1.0, 0.0, 0.0, 0.0]], [[0.9271669064385657, -0.012870492896171837, -0.00956503490398478, 0.3743052071839703], [0.9770859668642389, -0.005708707478923244, -0.015598087735220792, 0.21219595584011547], [0.9472224731037593, -0.21918522735219098, 0.12191424272559784, 0.1996605619004678], [0.9894149518093659, -0.011787602199717384, -0.011710591975243587, 0.144159521385306], [0.9325259902315662, -0.20143723235312347, -0.2665375876670894, 0.13702566666562482], [0.8231801547377354, -0.015104404232017707, -0.0035069262225593542, 0.5675684903932064], [0.778426158375666, 0.3139122925077264, -0.06211559250937801, 0.5400494808221324], [0.8061326124966204, -0.015993174808089414, -0.005811795055213906, 0.5914901964252388], [0.7825206713323327, 0.023741209184249434, 0.25008771826506404, 0.5696963112896544], [1.0, 0.0, 0.0, 0.0]], [[0.9226205600392554, -0.0016435883110441998, -0.009407719115424486, 0.3855905803197998], [0.9922042332790959, -0.0016853931486601058, -0.009724846900438677, 0.1242310197403973], [0.9578175734886556, -0.2133453647002618, 0.15453261428846457, 0.11484303373905014], [0.989492685244596, 0.0014749568183019686, -0.006367329886794313, 0.1444351323602939], [0.9233760677984332, -0.21150805533086983, -0.290758221605962, 0.1345386060422632], [0.7855422634083447, -0.0049904169964113485, -0.013548957509211475, 0.6186395346952134], [0.754624078267177, 0.24807451856530383, -0.04538760008790346, 0.6057569640509851], [0.7932132223911884, -0.0028374456624154928, -0.007450020810372172, 0.6088918047698006], [0.7686505548920192, 0.03182801870617176, 0.24837286135925235, 0.5886206107754368], [1.0, 0.0, 0.0, 0.0]], [[0.9184773681223627, 0.001428764965894178, -0.012432675734971622, 0.39527548804822094], [0.9236996262105355, 0.003989338016563212, -0.012289884063964978, 0.3828995226823887], [0.8742891892558783, -0.3105969958329885, 0.12223854932989169, 0.35242822927164175], [0.9873195373309097, 0.0074145980907281885, -0.012338168855687693, 0.15809150682158704], [0.950281974148788, -0.1481289794263006, -0.22957058788748191, 0.14939652017031935], [0.9184159014756156, -0.0007368786171883141, -0.007367789850092333, 0.39554696889163576], [0.8808332924696473, 0.2543442828830308, -0.10473076054822789, 0.3853221566907195], [0.787695621711909, -0.004866565721417426, -0.014812175379105527, 0.615867293769126], [0.7650342696764362, 0.02497253621793887, 0.2416344057715062, 0.5964157548245493], [1.0, 0.0, 0.0, 0.0]], [[0.9171828097517184, 0.01700805583353741, -0.013510692859805893, 0.39787420211815006], [0.7848422306010379, 0.019245517940107384, -0.02357491229921552, 0.6189479029890067], [0.7421937742940157, -0.33956023386054857, 0.016691410406222427, 0.5775540198097701], [0.9868450167309463, 0.018857416425344904, -0.012309230712110956, 0.16009307804628958], [0.9534752782323394, -0.1353457819658966, -0.22517072574389455, 0.14786668783661444], [0.9898799628658935, 0.010179322379991218, -0.007509915722540085, 0.1413422855282241], [0.9432286308901613, 0.24091552659431842, -0.18488458224146206, 0.13452564872266592], [0.8013556514841007, 0.01794938683615431, -0.014311903467416344, 0.5977475292845951], [0.7727100673513762, 0.05687313120731638, 0.2412959007521582, 0.5843465470426874], [1.0, 0.0, 0.0, 0.0]], [[0.917433427408201, 0.027626616411369178, 0.002298521144541431, 0.39692240191282785], [0.7923073064194988, 0.02967590653307916, -0.004665893267079796, 0.6093822299720746], [0.753732338756521, -0.32424711962448766, 0.04450177795318413, 0.5698867946240319], [0.9892315340808628, 0.024349753513330775, 0.010318765821575633, 0.14394993767203318], [0.9558236904361972, -0.1460424865798755, -0.21597928183703569, 0.1357409839792459], [0.985195625524271, 0.025940594072110332, 0.011709729045391882, 0.1690548646821798], [0.9439059154339838, 0.24899826683175624, -0.14342476377904848, 0.162698565016532], [0.8114403523342902, 0.024879215001828218, -0.008308309714986995, 0.5838463421604828], [0.7822188315944218, 0.06430808404483765, 0.24436045163395023, 0.5694612712931331], [1.0, 0.0, 0.0, 0.0]], [[0.9220429156234147, 0.028176312672077358, 0.018224570744796716, 0.3856304217434694], [0.9223392779914289, 0.029443743038681656, 0.021264508826669654, 0.3846701742200481], [0.8781648571396616, -0.24823272867296148, 0.13297653751773472, 0.38668363887065077], [0.9903642278989415, 0.02819993463968397, 0.023295226933251943, 0.13356942833814683], [0.966739894095942, -0.12572021838635433, -0.18299948412898398, 0.1269629578293604], [0.9147198033181935, 0.02368043662437655, 0.01980082525943983, 0.4029079865898034], [0.88741677668501, 0.2594379379984127, -0.07494186044058315, 0.3735868551472643], [0.8093092346332695, 0.028244097372981967, 0.009568240643089598, 0.5866253339840456], [0.7738212054774568, 0.06610816668794392, 0.27168149980610234, 0.568348145869837], [1.0, 0.0, 0.0, 0.0]], [[0.9231376572121037, 0.03117662822595499, 0.03742554173911863, 0.38137148885954036], [0.9957582008933722, 0.01883823755792687, 0.041024471697779806, 0.08017305583064635], [0.9613212858493349, -0.17147546484639564, 0.20937764884804988, 0.05117177436396584], [0.9901393727725082, 0.017469466174062948, 0.0485451359400791, 0.13023904949674808], [0.9625360906508805, -0.16158651514144579, -0.17780759979718075, 0.12569220251602153], [0.7602311080356631, 0.0373605335933642, 0.02952987568233397, 0.647904961662336], [0.7105798959720152, 0.2938310134852021, 0.017207560182282543, 0.6390958041070463], [0.8046400904977824, 0.046819115544290635, 0.024942817350893227, 0.5913883250842639], [0.7608518859661774, 0.08998747667354674, 0.28623486142666443, 0.5753922712095613], [1.0, 0.0, 0.0, 0.0]], [[0.9266865256408799, 0.021247813533069853, 0.022065051496699687, 0.3745847662654563], [0.9805719446364555, 0.021515297437706606, 0.0293623597095471, 0.19275270478085185], [0.9246343373239998, -0.24833989732443593, 0.21325797769659668, 0.19467838243383365], [0.9889451200419819, 0.016413168786482045, 0.03259863344525648, 0.1437201674541127], [0.9658176001740004, -0.13590530227125266, -0.1682673495705904, 0.1428713094962831], [0.8621437072590206, 0.023957760590701385, 0.018403477007249536, 0.5057623609712318], [0.8263604347161593, 0.2908823786940601, -0.051050683121623516, 0.47948900034705855], [0.7993001892753778, 0.020390352828343058, 0.013480277088617317, 0.6004346118150542], [0.769002091719241, 0.05273114052572279, 0.267422376202317, 0.5782218280699849], [1.0, 0.0, 0.0, 0.0]], [[0.9264113590000898, 0.0230871881615288, 0.01393963173715377, 0.37554581920909924], [0.9235035506423976, 0.026307135273394202, 0.012645498618899919, 0.3824777352334008], [0.8577701972395787, -0.3304793049096822, 0.1592900192922598, 0.36005611716489333], [0.9889442130050368, 0.016230924664511863, 0.012899120218192863, 0.146831581568748], [0.9602143350463536, -0.13815595999842387, -0.19685663762191155, 0.1419465593545619], [0.9430132811732519, 0.021328008477964826, 0.014986001553323825, 0.33173255393865875], [0.8957647920990829, 0.29515275602213964, -0.11761113730844144, 0.3108985497380726], [0.8204268220853398, 0.02951124471044445, 0.013572064387226229, 0.5708280959333197], [0.7838210863857126, 0.0757825648104185, 0.26968179364534944, 0.5542140719831128], [1.0, 0.0, 0.0, 0.0]], [[0.9260852620085519, 0.023922537351016487, 0.003905612020528759, 0.37653491988391463], [0.8185191851916402, 0.02667349204435924, -0.003224468474321659, 0.573850565128615], [0.7551317528658713, -0.37900566672209823, 0.06687642103544611, 0.5307148808124228], [0.989207509862956, 0.022167900128314634, 0.010507634774085521, 0.1444530243576963], [0.9618465713578592, -0.13313829758361329, -0.1956644958130481, 0.13726169153078935], [0.9886142214007854, 0.018394494941818287, 0.013595582349223694, 0.14872364956704057], [0.9302361151882422, 0.28754966906121, -0.18665289036520902, 0.1309070522950892], [0.8435434035895338, 0.023675519529686544, -0.0044299014694348035, 0.5365206165736369], [0.8111682805511047, 0.07806780948545101, 0.24664378759230307, 0.5244790556276109], [1.0, 0.0, 0.0, 0.0]], [[0.9250577094353872, 0.023896944785701837, 0.006576885580437252, 0.3790170376383171], [0.7985281019815456, 0.026093196695719568, 0.0020211959707199523, 0.6013883356025429], [0.7289553955400813, -0.399783001430946, 0.06334162729772334, 0.5520737462795567], [0.9901619181773982, 0.022397422723633258, 0.009478592123454834, 0.1377965439985765], [0.9609132232515972, -0.1362192240532751, -0.20254969235767287, 0.13062818418841218], [0.9909636443210276, 0.020479046981573875, 0.014611466379775128, 0.13175040538437682], [0.9250510066313631, 0.3016638639403192, -0.20042075688520583, 0.11450357432176254], [0.8627769783649214, 0.023290177255338797, 0.0028377590519309917, 0.5050399987827437], [0.8289866030938396, 0.08782163603443063, 0.25439101941211745, 0.4902588921963951], [1.0, 0.0, 0.0, 0.0]], [[0.9242782281051793, 0.021179121013285823, 0.02086740001679076, 0.3805597896525512], [0.9414261741849602, 0.019971134489744188, 0.024053112212492934, 0.3357668240603209], [0.8730550745557656, -0.3078232687220264, 0.1743758826096269, 0.33557819295929725], [0.99145207393273, 0.014778712630115013, 0.025631388783333008, 0.12707244648830257], [0.9650657045779212, -0.1435459767738425, -0.1801056124343243, 0.1249188007035813], [0.9197772715596624, 0.021893957871607497, 0.019371029392888605, 0.3913504676772974], [0.8781122594549454, 0.3063775287704553, -0.10013096894853243, 0.35358939282290097], [0.8667208669922414, 0.023611053124611793, 0.016853426602331537, 0.49794921317572544], [0.8300510035452663, 0.09038010801378728, 0.265496917432746, 0.48203542859692616], [1.0, 0.0, 0.0, 0.0]], [[0.9364209265807643, 0.02179022007749657, 0.04255314916625681, 0.34760647874663037], [0.9983926384899167, 0.025790906993777365, 0.034959456970051345, 0.03639786935989657], [0.9644371707602387, -0.15650274622358662, 0.2123268982287742, 0.016885566884466616], [0.9897161229184168, 0.006804126102629947, 0.05133965123374543, 0.1333414418495403], [0.9610185468693748, -0.16664644131091758, -0.1725497577085637, 0.1374732602588529], [0.7783682879298295, 0.024411493285255933, 0.04081797062587544, 0.626003818370747], [0.7244796471520573, 0.2765274463917256, 0.024992456119514117, 0.6309018857093518], [0.8634516211235648, 0.030762478565699976, 0.04475062052813676, 0.5015000995552537], [0.8179331591501032, 0.09972042264705494, 0.2972994732073108, 0.48234241748003037], [1.0, 0.0, 0.0, 0.0]], [[0.9360492928711905, 0.016269185093264766, 0.033206723303497596, 0.3499204887673633], [0.965826677250442, 0.019593704169976012, 0.035501561037020284, 0.2559971785629769], [0.8994194554418311, -0.2875538078221585, 0.21331726560972214, 0.2507053947813815], [0.9917932177717113, 0.013375331060773241, 0.036014310902982224, 0.12194377028464011], [0.96707315760564, -0.143540739440619, -0.1712428219072143, 0.12182553059499134], [0.9074335429485266, 0.014114717559666808, 0.03463810628708722, 0.4185275874693803], [0.8571736592112575, 0.3389196259640431, -0.08735759100635188, 0.3778299305035838], [0.845830003835143, 0.015643977076689974, 0.02884046333509325, 0.5324425774373075], [0.8092081397241547, 0.06982926532475284, 0.2834403944639738, 0.5098701825901227], [1.0, 0.0, 0.0, 0.0]], [[0.9384107242610129, 0.012102688813719106, 0.024379489664527434, 0.3444480773630426], [0.8778861813708381, 0.016951678462754492, 0.014929252658900072, 0.4783362944315118], [0.8202319220969146, -0.33097158011258154, 0.11186705450734573, 0.4529494113549907], [0.9955041285077416, 0.004239147410234156, 0.026248129981608564, 0.0909098202932149], [0.9655225088273922, -0.16610274729739455, -0.1779724559690777, 0.09220611261869334], [0.9855811475283677, 0.0012127478839578736, 0.025055512669972715, 0.16733365520444646], [0.9212614936949743, 0.3023182461408708, -0.19315087876354642, 0.15024538701099055], [0.827076364238572, 0.02488919630226815, 0.026063658682697412, 0.5609330631380219], [0.7874986415298625, 0.07710659555558926, 0.2831343839281203, 0.5419736000471718], [1.0, 0.0, 0.0, 0.0]], [[0.9436916405442488, -0.0017372356200452382, 0.023061358579410263, 0.33001703489331674], [0.8087947329748075, 0.00638161984343289, 0.022723599000649686, 0.5876172162971754], [0.7410970309869113, -0.3470013712749902, 0.07234627368507014, 0.5702028197751623], [0.9965662985040072, -0.0073968630273632185, 0.0214922173986002, 0.07961773479990314], [0.9654918749865379, -0.1749288735486574, -0.17580144804722986, 0.079493266371906], [0.9984163121222945, -0.009436837916240141, 0.02313395414839033, 0.050404701603321], [0.9294927752472416, 0.27671867017911944, -0.24201863211222258, 0.029948957377664863], [0.825339166626756, 0.003184281477983444, 0.01993955504198683, 0.5642761155037916], [0.7958336431116309, 0.05049217573190843, 0.26873866883090886, 0.5402581610272247], [1.0, 0.0, 0.0, 0.0]], [[0.9384604343391644, -0.00641630961772222, 0.030420793768988236, 0.3439846209604455], [0.9084622735572472, -0.0037832738319659807, 0.03205231972224316, 0.41671888985589933], [0.8576189995325705, -0.28317494786836767, 0.13369976754200327, 0.40795339525454893], [0.9956469199428465, -0.011003992994598128, 0.025257410741110486, 0.0890403624720438], [0.964200824150238, -0.1753846473619596, -0.17672757184151083, 0.09123793908636141], [0.9686557950485766, -0.009633929529941767, 0.029681007112074928, 0.2464389902946273], [0.9106086918698985, 0.3089674963149999, -0.16292391093103037, 0.22087710555594198], [0.8365118225010095, -0.001684816006925489, 0.03408956722875823, 0.5468848449328417], [0.8028927588258356, 0.049759761984479435, 0.2863464620237645, 0.5204737146088737], [1.0, 0.0, 0.0, 0.0]], [[0.9347406805568557, 0.0016430874444445832, 0.0396566187592406, 0.3531069426736612], [0.9955454387845727, -0.0072962638095627474, 0.03576658169039546, 0.08692983080530106], [0.9550472762018131, -0.20171690219076577, 0.19874715644565244, 0.08771863767082771], [0.993620278846658, -0.011303183285126929, 0.04204022566513044, 0.10403652694288398], [0.9613977754764466, -0.1854652894950516, -0.1699106572771279, 0.11156752325435423], [0.8427613077598032, 0.011026047027861313, 0.041228350985072, 0.5365929812297], [0.8160250740174163, 0.27955995106611914, -0.01647061991231496, 0.5056461519822766], [0.830495525669895, 0.010999129693089619, 0.03755532404798422, 0.5556489886825404], [0.7926573159212448, 0.06137994916977215, 0.29106778762321306, 0.5321714238519131], [1.0, 0.0, 0.0, 0.0]], [[0.9377067162118071, 0.008906660364169275, 0.03412829980468864, 0.3456328180669015], [0.992822763652981, 0.0009345560852209083, 0.03521645804932744, 0.11428861561783187], [0.948498935200775, -0.21093369518208224, 0.1973883087358442, 0.129979235781073], [0.9959196962602086, -0.0026609628208760137, 0.036612724461556806, 0.08244019823691345], [0.9622154820851528, -0.18867379000382506, -0.17793612562880592, 0.0829596419799366], [0.8316800545520019, 0.019012645982610533, 0.02750028218055904, 0.5542477249688164], [0.8082817603065723, 0.27387828971501343, -0.028255344266722368, 0.5204545262545586], [0.8136387400901937, 0.017023539506237445, 0.030936658260726575, 0.5802974434742765], [0.7761393755735043, 0.05666224478848159, 0.2855543709664032, 0.5593351061053496], [1.0, 0.0, 0.0, 0.0]], [[0.9332025349711642, 0.005609268816822853, 0.01373705835064974, 0.35904436780794163], [0.932061761167655, 0.00790495260428514, 0.013901874687637166, 0.3619462984664194], [0.8849393068941724, -0.28083493025249145, 0.14096458132903092, 0.34371958319896595], [0.9925914400097798, 0.0048730582328828246, 0.012983381055210649, 0.12070591675284971], [0.9625136424655418, -0.15270383559587442, -0.19112056273704264, 0.11714075789877633], [0.9278063128592948, 0.0026193191735209083, 0.015798957423991837, 0.3727183627483662], [0.8756426984695456, 0.31411455534347443, -0.11735762763765278, 0.347576031932016], [0.8223314578300889, 0.008532630848298204, 0.01202446503461213, 0.5688177035874314], [0.7902382662554371, 0.053585476978559934, 0.26572032203964824, 0.5495860166140751], [1.0, 0.0, 0.0, 0.0]], [[0.9271245600594685, -0.0026566044181380176, -0.006316707354777672, 0.37469066147383007], [0.8317925892028512, 0.0007453035571511867, -0.008269519543338592, 0.5550244572235955], [0.7842662688973414, -0.33459120449693736, 0.0577199345159141, 0.5192721391550006], [0.9831503349845856, -0.004523926611672183, -0.008946705173098509, 0.18252372277119136], [0.9470924189415558, -0.1514581923019908, -0.22171922340923197, 0.1758321698064743], [0.9808855707390558, -0.005326958637834132, -0.0032636733218974964, 0.19448513841431567], [0.925657924748565, 0.27143658031790285, -0.1874598574809029, 0.18530620887801397], [0.8518153698262646, -0.003175457091270372, -0.004815043813321061, 0.5238103736592865], [0.8237079122300248, 0.056893386499143106, 0.24741846540242388, 0.5070034722565738], [1.0, 0.0, 0.0, 0.0]], [[0.920548227423153, -0.009955470465545995, -0.021197377707502532, 0.38992630172152537], [0.7774180905520692, -0.01316746121966618, -0.017388663927111702, 0.6286058898978226], [0.7285877092183736, -0.3466827196911969, 0.017842387185268392, 0.5904681964873034], [0.9706318231842918, -0.00656009483420939, -0.022926652844452198, 0.2393850403994663], [0.932266809584188, -0.1395933148990919, -0.24276001368543335, 0.22904121449785103], [0.9925621360692873, -0.005691864456633697, -0.02203690215743207, 0.11959257361510532], [0.9274300093532653, 0.2668942924784916, -0.23649899268365832, 0.11273526889586333], [0.8812981803015587, -0.010780162716265826, -0.021076988763447182, 0.47196722983024764], [0.8573094012442657, 0.0653260815801569, 0.22688163481931106, 0.45746892504879305], [1.0, 0.0, 0.0, 0.0]], [[0.922893817525531, -0.01572152409391213, -0.027585522201323955, 0.38374323996416765], [0.8930236538870153, -0.017917822915366262, -0.0259710263142594, 0.4489022287897912], [0.85161316694574, -0.30107175090406385, 0.06840660472428946, 0.4235933794599528], [0.9645266914381283, -0.011581779908756923, -0.030017525080409425, 0.262017312530317], [0.9238554488233194, -0.13888060203936992, -0.2534027411265924, 0.250978761743249], [0.9410818729127793, -0.013040372948986316, -0.02912215572959986, 0.33667010142569476], [0.8869341220559268, 0.28332641539242487, -0.16870847591888108, 0.323436942272972], [0.8856179825708419, -0.019715219848540584, -0.026132723091347003, 0.463259300864329], [0.8651317690678696, 0.0575035302098328, 0.2205490086925587, 0.4467644803782358], [1.0, 0.0, 0.0, 0.0]], [[0.9202321471015322, -0.012101785571042085, -0.03178676444766261, 0.38989222079036845], [0.9842478673616921, -0.0013642349644563373, -0.03829592124979902, 0.172591126285658], [0.9587934879641694, -0.21053318178524114, 0.10956131333481885, 0.15616384160628982], [0.9671201798292317, -0.009193728598988904, -0.03217875335196268, 0.25210823261892157], [0.9150418697604769, -0.16062105461133416, -0.2842643317570422, 0.23683969914588934], [0.8063012624954274, -0.021266012193286585, -0.02502201969786371, 0.5905928625998748], [0.7788444350209953, 0.22626645964522682, -0.058910633340889085, 0.5820089110622079], [0.8763168876613573, -0.01578588053597823, -0.02849092274030562, 0.48063269312087126], [0.8543399695702607, 0.05558737652465784, 0.2222327868477603, 0.46650385680685397], [1.0, 0.0, 0.0, 0.0]], [[0.9199326624950868, -0.010666703185087964, -0.029358274381459794, 0.3908301544702058], [0.9877592358072435, -0.0040959053791482436, -0.03220647401389928, 0.15257017620822086], [0.9537646096287176, -0.22880599558641995, 0.13181584357284645, 0.14354605249419536], [0.9686364796492374, -0.006265831546712327, -0.02638980067312617, 0.24699734425332107], [0.921970922877294, -0.15202873952379775, -0.26943278260082804, 0.23294388892514625], [0.7950835154974646, -0.01431660678455357, -0.029264793459006493, 0.6056243142560999], [0.7653825043449908, 0.25069783752075664, -0.06699817909026828, 0.5889409650411448], [0.863653016793895, -0.016726230325847264, -0.028013515512820355, 0.5030297632849409], [0.8426203490395672, 0.049358307075135416, 0.22334307727787528, 0.4875167430347022], [1.0, 0.0, 0.0, 0.0]], [[0.9233276509830491, -0.0008490072420704401, -0.023829179731770136, 0.3832720943535264], [0.9072861672531419, 0.0002827298777845822, -0.024933608310851493, 0.419773803317359], [0.8543521270445726, -0.34666863680442633, 0.10331012795946616, 0.3731357885965563], [0.9697237964988418, 0.003829045881989655, -0.023395991861362594, 0.2430508680838836], [0.9336491602561553, -0.1278125383607227, -0.2431683409649711, 0.2298529063186032], [0.9261694065102879, -0.0014369979941615246, -0.024115977962293353, 0.37633307732388915], [0.8647271658105464, 0.30392036241262277, -0.15234279397631081, 0.3696904315014536], [0.853185019919952, -0.005927260613248846, -0.024768667170326265, 0.5209862786028238], [0.830010971293688, 0.05346077948997794, 0.22589917653428934, 0.5071422824312354], [1.0, 0.0, 0.0, 0.0]], [[0.9214598020087618, 0.006267884749097705, -0.03368964050497138, 0.38695937128514074], [0.779054688717445, 0.0018113255627696366, -0.035312008291567026, 0.6259581241245191], [0.72828352692043, -0.37361395854517215, 0.0054459901841783275, 0.5744441274723412], [0.9682182279931832, 0.010906036765745463, -0.035410372278524935, 0.24734717883756188], [0.9306412691517273, -0.12115554262232314, -0.257689784884582, 0.22983502215652543], [0.9801750404306888, 0.007432560754359033, -0.02791569238025001, 0.1960162270738359], [0.9222947004379756, 0.2706970060490187, -0.2030137341318883, 0.1867646653249739], [0.8614885569444903, 0.0030157913829199335, -0.03359693657246262, 0.5066553237744377], [0.8368244752888467, 0.06840254392387748, 0.21833846843700763, 0.4973672714834283], [1.0, 0.0, 0.0, 0.0]], [[0.9071185731253241, 0.007761406081105991, -0.033077896401443166, 0.41950149896797256], [0.7681823658683644, 0.0005824941202730358, -0.03404694000464155, 0.639324893419459], [0.7186820620450562, -0.38365597463367374, 0.004135230634502272, 0.5799026527704035], [0.9658812606246094, 0.012011583690849982, -0.03160752540990212, 0.2567685272164706], [0.9261255255003359, -0.12446480334253635, -0.2636418449275423, 0.239359564982961], [0.9841535260305528, 0.012783891881925798, -0.03202902142215534, 0.1739326050420691], [0.9187535971272399, 0.27972754921318366, -0.21924939608323382, 0.17197101003971663], [0.8568887794671082, 0.0074675547089638646, -0.03337187771978513, 0.5143657969067285], [0.8333151282124478, 0.07255834411165628, 0.218952143560854, 0.5023754996236911], [1.0, 0.0, 0.0, 0.0]], [[0.908590821610011, 0.0044401730518983575, -0.03431780501707082, 0.41625147688401587], [0.8739543399727233, 0.0007042230576999453, -0.03323557539467869, 0.4848697889546338], [0.8232818168112419, -0.33732207009147036, 0.06405956360573617, 0.45201464959426735], [0.9647366691581746, 0.012322613862585187, -0.03318584924309323, 0.26082563481989157], [0.9282363788146374, -0.11575600152446545, -0.25666807500234934, 0.2431034192082561], [0.9348477361199012, 0.009050736371761346, -0.03215013281284119, 0.35347441689992376], [0.8751673500642306, 0.30938600755013956, -0.1663752796144062, 0.33268855412677684], [0.8306094291328784, -0.005290510773769105, -0.035948095498352706, 0.5556687152983761], [0.807914690161172, 0.04500763016388906, 0.2307620886108696, 0.5403674907956226], [1.0, 0.0, 0.0, 0.0]], [[0.9207198946655518, 0.008303074738289415, -0.02692455913590667, 0.38920560457460335], [0.9707918175731386, 0.01320128520438088, -0.02676161807410549, 0.23806047298963826], [0.9423041232076874, -0.21981043469484846, 0.11507360353879041, 0.22473179115036307], [0.96060383608305, 0.010308792708229354, -0.02518740840194218, 0.27658559860090515], [0.9169064813281543, -0.1301456284767843, -0.2759696037550154, 0.2572652282958301], [0.7964416601097531, 0.001646805742670858, -0.02718405440608942, 0.6041018103420261], [0.7613595882750988, 0.2686829251666748, -0.06215033467805654, 0.5867524170933228], [0.8092033639188321, 0.0026854707442344776, -0.0283175443017629, 0.5868396891435053], [0.7856627988536061, 0.04352943012273483, 0.22808642827038242, 0.5734245691017849], [1.0, 0.0, 0.0, 0.0]], [[0.9100185077404285, 0.011070396117978524, -0.024225098853894168, 0.4137111389426125], [0.9866980450926522, 0.014486190613273974, -0.01907938096342596, 0.16078897758835026], [0.958195531407267, -0.1989615147005641, 0.13183954493941372, 0.1577782420024089], [0.9571862686799054, 0.011917747594104647, -0.022123311791347966, 0.288379911606731], [0.9022081913712464, -0.14384352284229227, -0.3076863641904606, 0.2658167068680952], [0.7681529733440469, 0.005519577946509553, -0.030507454843739543, 0.639515315689116], [0.7337081318708262, 0.264923779844382, -0.05656575643230648, 0.6231276621197529], [0.7906678996988968, 0.006894244312570671, -0.025292268328936638, 0.6116837769173471], [0.7675535593521792, 0.04009657081595694, 0.23198436309043657, 0.5961854189898692], [1.0, 0.0, 0.0, 0.0]], [[0.9075188239629807, 0.012824979131005701, -0.03244187480201853, 0.4185601854243521], [0.9144140363659559, 0.013641679760060088, -0.03075908824568006, 0.4033791679803742], [0.8658834342021443, -0.3230813144845353, 0.10506615264673051, 0.36718584691305783], [0.9526330411130872, 0.020824611365935802, -0.030923344673948795, 0.30182838053315114], [0.9119886166174767, -0.10877803529825389, -0.2815071848962937, 0.27784493345849803], [0.8894831840615474, 0.01050354268814224, -0.030035130163285836, 0.4558587849529768], [0.8292528053841307, 0.3206916544132946, -0.12615213264245537, 0.43997987111000125], [0.7784020796295101, -0.000805746608896686, -0.03710021457014873, 0.6266682753097568], [0.7590746086494957, 0.023212945813797476, 0.2195980203550338, 0.6124080397140542], [1.0, 0.0, 0.0, 0.0]], [[0.8967406401297238, -0.0015395650671251445, -0.03123055622275739, 0.44145045751154716], [0.7765966245458774, -0.0023320796612038125, -0.03953584970013518, 0.6287520661889642], [0.7329892494244424, -0.36609608886312456, -0.0035010060379614674, 0.5733133147800059], [0.9528527540811113, -0.0008663408441737658, -0.03179799058904982, 0.30176110797795336], [0.9138323603437534, -0.12179468887146275, -0.259820582580705, 0.28734950116311536], [0.9684072333489824, 0.00016143655663003866, -0.0272032468245507, 0.24788583601692601], [0.9064582014777922, 0.2876300735693561, -0.1961909852995057, 0.23898026495788746], [0.7750479160732778, -0.007995062653902303, -0.027205269545773736, 0.6312659345098318], [0.7549101100673504, 0.019413283346377416, 0.23575859054103193, 0.611679439848946], [1.0, 0.0, 0.0, 0.0]], [[0.8906302625339527, -0.014840594749954963, -0.018085076306920213, 0.45412599817797583], [0.7401094109564731, -0.016089155520844767, -0.009427148518000536, 0.6722278838006559], [0.6902210433673386, -0.3615125507111444, 0.009818864425933601, 0.6267433101937427], [0.9534983900896562, -0.011768289814307945, -0.02267187625817602, 0.30031369179278905], [0.9088950578653932, -0.13995715767438655, -0.27026477399381604, 0.28509422958320657], [0.9783235440206615, -0.01246864463359847, -0.023380999190379975, 0.2053799040624793], [0.9130035892838907, 0.2816065135661842, -0.21670829674576206, 0.20039893111836218], [0.7597531602995107, -0.01660007498271763, -0.01569908495911678, 0.6498100581376997], [0.7390979513241682, 0.005394207524977009, 0.24513106672302135, 0.6273881422220448], [1.0, 0.0, 0.0, 0.0]], [[0.8877762581907522, -0.024825766376442706, -0.004514794736284745, 0.4595830864437228], [0.9023693358768491, -0.02562052449362735, -0.00523108777834723, 0.43016950858295466], [0.8504488636648376, -0.3139212665122095, 0.09587348269777445, 0.41109420336214486], [0.946311992262682, -0.019326817690827166, -0.005090897359772979, 0.3226362815646306], [0.9099654088292733, -0.13137384788708154, -0.2382042181993626, 0.312989803759716], [0.8697230692256792, -0.024491509386895115, -0.0038256541056299605, 0.4929171463798761], [0.8270448891034132, 0.30418784322961673, -0.0963200271111076, 0.4628055313158566], [0.7468873140848359, -0.029755456496150294, 0.00014569864360907675, 0.6642845261179511], [0.7270879063453554, -0.016066863215669275, 0.2575768673391643, 0.6361911581942014], [1.0, 0.0, 0.0, 0.0]], [[0.88481646058158, -0.02189900382047634, 0.013693700768219798, 0.46522333053580445], [0.9861975282528298, -0.015791838043062834, -0.0012823765591469512, 0.16481325380439224], [0.9570705372096215, -0.21916180561319232, 0.1527794781800683, 0.11243896483282807], [0.934284443280391, -0.025233906835748113, 0.014093065195476599, 0.355355054140856], [0.8947946662079266, -0.14111735843472914, -0.23800075354948252, 0.35040553332407265], [0.6940500903146295, -0.02777669203794568, 0.02350559113537312, 0.7190065470488155], [0.6526939235961848, 0.2249298577867463, 0.038825808995491054, 0.7224193780156354], [0.7393653495301503, -0.013773284577902608, 0.024430974578881413, 0.6727200785075622], [0.7119219006735731, -0.00040101887553673816, 0.2835423624978411, 0.6424723925542105], [1.0, 0.0, 0.0, 0.0]], [[0.8817791002355843, -0.0297656931651405, 0.010001730432734467, 0.47061617830932323], [0.9172629665504357, -0.023513705950692628, 0.0032580500009924806, 0.397574069750216], [0.8613677436138447, -0.3235485257436945, 0.12221761074509921, 0.3720548580175179], [0.923870162695563, -0.0301807918836078, 0.011769492810076075, 0.38133256000654586], [0.8890829949314577, -0.12871844143252312, -0.2256337250661183, 0.37689841213738107], [0.842737822399067, -0.03197163483161161, 0.017329074405970382, 0.5370944799981706], [0.8148740380957329, 0.26316466109549513, -0.04537235711083866, 0.5144570073371086], [0.7277407940397389, -0.030733989282576982, 0.01626734398596021, 0.6849701687758608], [0.7031670582216671, -0.024497891435768936, 0.28566085335850744, 0.6506564519049796], [1.0, 0.0, 0.0, 0.0]], [[0.8901176267418703, -0.008698574180592965, -0.0007644036312756784, 0.45564718923497577], [0.7972194173354532, -0.003569604804265546, 0.0011009252228724423, 0.6036780984171245], [0.7553497988732993, -0.3162054457938919, 0.044990574516260734, 0.5722208014368656], [0.9221633646327617, -0.009566482009838652, -0.0020194990905766192, 0.386677039626822], [0.8844080015159098, -0.11274342814824435, -0.25507039747821036, 0.3742332141784372], [0.9558138454813904, -0.010746212111779462, -0.004801960492062003, 0.29373687696092654], [0.8894534736302958, 0.31622482871486557, -0.1798612294192058, 0.2766302841394381], [0.7419211504550859, -0.008469664449400567, 0.0033008992379883737, 0.6704255181269108], [0.7167155537128216, 0.005097402201372746, 0.2654476768057793, 0.6448491005152569], [1.0, 0.0, 0.0, 0.0]], [[0.89521697672914, 0.005051949653862443, -0.0014675419917234325, 0.44559947116343823], [0.7329435427012744, 0.006167221105184208, -0.0034372077951994777, 0.6802528310848236], [0.6847623329920737, -0.33688976924940073, 0.006800541811972697, 0.6461885044794602], [0.9306326709767964, 0.001797624757405527, -0.0016813298156582162, 0.3659464078056735], [0.8947177194061512, -0.10942836011721209, -0.25235144260788156, 0.3518868937548465], [0.9847604034390228, 0.004627559589303282, 0.003230904016161567, 0.17382489686491587], [0.925790648318754, 0.286670112766618, -0.19501263382609932, 0.15067181083442005], [0.7593850616727288, 0.00471840522120692, -0.003769627828499619, 0.6506134448860619], [0.7334772315544442, 0.024652707550346296, 0.2530803174492417, 0.6303600143738942], [1.0, 0.0, 0.0, 0.0]], [[0.8939573795768169, 0.004141504911415365, 0.011552497100312037, 0.4479839185149026], [0.8808981245900794, 0.0044410009690939636, 0.013901211423202636, 0.4730808894100889], [0.8348710012472705, -0.2857775044834253, 0.1020317671986888, 0.45925063711433045], [0.9484602089283346, 0.005852028598997915, 0.011992978934608583, 0.31661515171761817], [0.9196919274783639, -0.10752727838922149, -0.21902967416337024, 0.30762094332022766], [0.9335262732966525, 0.0014599062277109351, 0.008147213801577707, 0.3584134325690673], [0.8960461908521817, 0.26430185476692963, -0.11196263305992085, 0.3386888280182058], [0.7672099287468311, 0.006356741607689243, 0.01058008090339934, 0.6412773026986787], [0.7388339463434137, 0.029239554249152328, 0.267422184958712, 0.6178631103973088], [1.0, 0.0, 0.0, 0.0]], [[0.904925153354402, 0.005308927140934293, 0.0294298198249617, 0.42451874849551063], [0.983942271750856, 0.0029327573839880794, 0.02479687461436591, 0.1767317736154162], [0.948243511189448, -0.20572248840006366, 0.16913527698511677, 0.17293281739670047], [0.9656731383792253, -0.0012753525000040863, 0.03095704514215493, 0.2579058445341729], [0.933954783419085, -0.14093890340597617, -0.2077204675127038, 0.25439515603021], [0.797345727234938, 0.008116116823981463, 0.03159871926515776, 0.6026403909867717], [0.774842796546944, 0.25936124938769306, -0.0013401223736446018, 0.5764968230852534], [0.7645214045062806, 0.013314917700829747, 0.028138124302090173, 0.643846240168508], [0.7288121483806385, 0.035471054037974285, 0.2860590988548219, 0.6210836084301377], [1.0, 0.0, 0.0, 0.0]], [[0.9070713482117363, 0.01613251285022952, 0.023482906661856887, 0.4200117431420113], [0.9813394533726356, 0.013614967856157484, 0.02607176325049657, 0.19002045433474335], [0.931842097584308, -0.23401987117134238, 0.18971200378790085, 0.2022729855551769], [0.9770236098763118, 0.008797637381610374, 0.027780398633626868, 0.2111296207842924], [0.9489782442913369, -0.13635689889937713, -0.19545900914861733, 0.20650148601624424], [0.7768270675812156, 0.022374793688165938, 0.02075105723039442, 0.6289741404099237], [0.7565579726827681, 0.28353703884541154, -0.010118849086998456, 0.5891726321427959], [0.7854373736218155, 0.019859627419560575, 0.019205270177171132, 0.6183242554794713], [0.7505776203199882, 0.04868830973317378, 0.27267554272736577, 0.5999256060283198], [1.0, 0.0, 0.0, 0.0]], [[0.9031106389462237, 0.03261866837484791, 0.008178211465702113, 0.4280891415964875], [0.922064901258488, 0.035676643459682966, 0.009353857497962833, 0.3852739289499531], [0.8695408658154923, -0.2956785119286069, 0.1467033096532172, 0.3673568281621034], [0.9836911698262035, 0.027965572008467717, 0.01472081562308442, 0.17706752038582785], [0.9587548610672245, -0.12200904251250545, -0.19720056694922858, 0.1643619369563749], [0.8812703417832857, 0.030249814980516397, 0.007053106151175055, 0.4715906986788818], [0.8418328265867958, 0.28281119058020565, -0.06893874290642261, 0.4545137756877944], [0.7836301252602959, 0.03448912939111377, 0.0011374746410112361, 0.6202685167649709], [0.7513102171396611, 0.06432123425906462, 0.2586996311765241, 0.6037137047260697], [1.0, 0.0, 0.0, 0.0]], [[0.9064929441037818, 0.024748863622661165, -0.0032030137791079897, 0.4214828308984552], [0.8193143032260376, 0.025928359858626803, -0.008728551194281058, 0.5726915444445839], [0.7692257748270417, -0.34286115852469884, 0.05665351536962598, 0.5362166656428183], [0.9848825981894354, 0.02628356468755719, 0.004804458152194316, 0.17115010719484153], [0.9570254995548634, -0.12327983991050759, -0.20703537370521133, 0.1613710888237024], [0.9522016841255442, 0.021766648697119993, 0.0008643572552120424, 0.3046923343957132], [0.9106487340479436, 0.26890337090345745, -0.12679940106857499, 0.2869351358448216], [0.7647282943679624, 0.021110552750594248, -0.009675209603066367, 0.643934290649883], [0.7362376686316551, 0.04132799892365385, 0.24758085659778764, 0.6284503251961108], [1.0, 0.0, 0.0, 0.0]], [[0.8920438231520944, 0.01470113008163256, -0.008199894711237181, 0.45163531314240984], [0.7290419209663361, 0.014648504582766, -0.010367669483025331, 0.6842337394609344], [0.6719670757232012, -0.3728262863482555, 0.0004581157759829955, 0.6398910840773715], [0.9786655658403702, 0.015934724017731546, -0.005954360905515774, 0.20475434157798378], [0.9455210822184286, -0.12845425850945402, -0.2272060548351284, 0.194593923845362], [0.9842045730469456, 0.01433009383671983, -0.004332689247080272, 0.1764007783656262], [0.932920964996025, 0.2695433579680164, -0.1905129465371168, 0.143908541956192], [0.7615565267806161, 0.01326442693956342, -0.01074998689342971, 0.6478735596376816], [0.7347734414428811, 0.03421981744350714, 0.24759485694901692, 0.6305820966826714], [1.0, 0.0, 0.0, 0.0]], [[0.8985744590084216, 0.008702091810132937, -0.0044274727883171485, 0.43871244876406124], [0.8111760009740138, 0.006613817466266909, -0.00897396343936231, 0.5846958361768266], [0.7604452429161302, -0.3471500930308838, 0.04631487699851188, 0.5468681537660508], [0.9632264534559817, 0.009572637400896701, 0.0006136875526732824, 0.2685196219336497], [0.9323907537828221, -0.11883421653841847, -0.22418378719617266, 0.2574248255285073], [0.9535172403827225, 0.010227536761298298, -0.002875729935282193, 0.3011511247896197], [0.9012958686932083, 0.29187893502225953, -0.149147185222589, 0.2832447025224042], [0.7517403915887423, 0.006007307192172642, -0.006998651565195796, 0.659394657842003], [0.724080113862037, 0.02093420656710337, 0.25136289139869766, 0.6419395957040132], [1.0, 0.0, 0.0, 0.0]], [[0.8927335092206279, 0.008903727888885821, 0.0019197197351907408, 0.4504929742187353], [0.9370679278889509, 0.009629759957422471, 0.0048749578220370765, 0.3489802301439204], [0.8969723824689331, -0.25452723663921567, 0.12718117657101663, 0.33835097047714013], [0.9554913467705946, 0.00933865934144772, 0.0033349498402746674, 0.2948524271526058], [0.9191697173501451, -0.1219924145113342, -0.2457986875309174, 0.28253829247772316], [0.827556684877346, 0.0064116659260256715, 0.002497392251350304, 0.5613399922389398], [0.8016391389779289, 0.25297771298970356, -0.04399034171477891, 0.5398535147843726], [0.7530203820664235, 0.007799546037839772, -0.0017821150819560465, 0.6579485506785283], [0.7272139489418297, 0.024600894793495396, 0.2557642836938946, 0.6365055377813601], [1.0, 0.0, 0.0, 0.0]], [[0.8824273182768312, 0.003997614188660897, 0.010865337485587486, 0.4703062741245147], [0.983651374156051, 0.0004449535819308321, 0.0090036480753624, 0.17985747262362325], [0.9531346399755886, -0.20860051268146193, 0.15776942068009495, 0.1520821951640088], [0.9517719394871549, 0.00031133875618399984, 0.01302762985016805, 0.3065295403929703], [0.9046595648017818, -0.1469365584858292, -0.2706093347358438, 0.2945696989624279], [0.7030914463681369, 0.011362035386034567, 0.006534303370176821, 0.7109786389725885], [0.6627085561428869, 0.27007524185999027, 0.011355818387288061, 0.6983894176876057], [0.745650599937888, 0.004117439322205605, 0.011851470111831219, 0.6662190121588277], [0.7162430546241004, 0.017065806151412198, 0.27447261549880186, 0.6413808761604817], [1.0, 0.0, 0.0, 0.0]], [[0.8796981171146974, -0.0008116799965841583, -0.001786796694499758, 0.47552851783884836], [0.9045145558320883, 0.004528131148576319, -0.006896802256969215, 0.4263629304182174], [0.8559377760903522, -0.31278146157668574, 0.10418068757067155, 0.3983524382914668], [0.9495865564633148, -0.001960556392863517, 0.00033805561367828926, 0.31349866621913436], [0.9136355977342995, -0.12451188463957674, -0.2401783042829785, 0.30344878857550767], [0.8424622305547761, -0.0034001983401533084, 0.0030623933569080782, 0.5387359747472285], [0.7971671167565079, 0.31640954174719854, -0.06621318335249528, 0.5099268616221083], [0.7381428411936681, -0.0027803244373076044, -0.00419253551701558, 0.6746257024724903], [0.7142315278650323, 0.006579025943618936, 0.25249748435079794, 0.6527442542203902], [1.0, 0.0, 0.0, 0.0]], [[0.8918761159244694, -0.005414387365301228, -0.02957338519044268, 0.451279395875015], [0.7927849294272167, -0.005747814272433331, -0.02625408001527518, 0.6089086479815544], [0.7546968379512367, -0.31924042990155915, 0.018505765762540108, 0.5728662735195839], [0.9495742768086998, -0.0010543592405454095, -0.03526644753027877, 0.3115507323509625], [0.9092610937060318, -0.11907743665436946, -0.269116820974162, 0.29434837220731525], [0.9398979754895868, -0.005622885630587673, -0.027709050681306267, 0.34028280494039426], [0.8859892468756625, 0.28608847924330616, -0.1622131317150622, 0.326899581468286], [0.7433591556029054, -0.010599128166742015, -0.02768169797149859, 0.6682353985392087], [0.7191085982177324, 0.006437221763769225, 0.26102480091379804, 0.6439778252806568], [1.0, 0.0, 0.0, 0.0]], [[0.8860411516071579, -0.01589844684907719, -0.03607952744713763, 0.4619270340060644], [0.7210281274775691, -0.02313431855300213, -0.03217425529187395, 0.6917716819787376], [0.67679516501909, -0.3485751785631259, -0.027574816693589573, 0.6478296681850736], [0.9542930184922798, -0.011287136417695104, -0.03947530910704149, 0.29603907745310515], [0.9127226655277333, -0.13101814306124226, -0.26486776656383537, 0.28216422214061615], [0.98132267652694, -0.006610299082110715, -0.03808992036788601, 0.18844433248685316], [0.9182025717708178, 0.27345893349198236, -0.2344811443134092, 0.16475084779253138], [0.7545544331738152, -0.023340826394415766, -0.031249283223616652, 0.655077320244701], [0.7357267514489055, -0.002384680014879596, 0.24651165599510955, 0.6308188836442802], [1.0, 0.0, 0.0, 0.0]], [[0.9009428424011964, -0.025625243172023207, -0.03927502003765154, 0.43139635422598244], [0.8070856822144441, -0.032761410469101235, -0.0324879287022938, 0.5886288525354115], [0.7654968530877222, -0.3423199314973111, 0.018825857848180902, 0.5444972171542759], [0.9593126508839716, -0.019032488236924047, -0.04207857337853243, 0.2785433465511363], [0.9159207130763615, -0.14302932861811862, -0.26575889460441826, 0.26458281964514924], [0.9538951891608122, -0.01895703099573637, -0.04094281686244151, 0.29672931236912503], [0.8830926723780367, 0.30418581984842846, -0.20610100322793692, 0.2917887857060222], [0.7562036659242529, -0.036144362542196364, -0.033979963980315775, 0.652453034897559], [0.7412733858391315, -0.017998504420405907, 0.22410657694682087, 0.6324287022695899], [1.0, 0.0, 0.0, 0.0]], [[0.9026809386752174, -0.03357086778235434, -0.04396700698165454, 0.42673999353920783], [0.9264400951915283, -0.029177165268019837, -0.04465591055311175, 0.37264365377811964], [0.8981648891130103, -0.2600122463237637, 0.05654183691407325, 0.34999497768491866], [0.967344484171074, -0.023273533867089004, -0.049355031008677025, 0.24752186262887732], [0.9157384179586742, -0.16199877976766097, -0.2842230654312443, 0.233231203541036], [0.8601377252513155, -0.03781004662353827, -0.04200682277286093, 0.5069210202924592], [0.8169646344392231, 0.26545712578448494, -0.1187675314352688, 0.4979915400110721], [0.7718057439797642, -0.04391241459069271, -0.03562048186178017, 0.6333393834877097], [0.7610673752433817, -0.017321253341351164, 0.22150198347775144, 0.6094368678035949], [1.0, 0.0, 0.0, 0.0]], [[0.9019437660076152, -0.030198885682240065, -0.043804388045755704, 0.42856346770517934], [0.988532826368425, -0.017372179877617033, -0.05142613944751871, 0.14091277706396088], [0.9653910068031814, -0.21722051953250027, 0.11003805621508607, 0.09341882070533873], [0.9750080517412283, -0.015029104803636803, -0.046745908614905816, 0.21667543717815074], [0.9208075269827665, -0.16922570334539203, -0.28904051366682476, 0.19982927973236866], [0.7336435698508551, -0.050408606632132945, -0.033766551129056306, 0.6768204376485313], [0.6963505307055082, 0.20732365101638817, -0.0367884297794422, 0.6861191248972406], [0.7703035054380765, -0.035137239045462086, -0.035813520782117955, 0.6357006179572757], [0.7581720162433735, -0.006613632135619338, 0.22270611570687035, 0.6128078325888066], [1.0, 0.0, 0.0, 0.0]], [[0.9009314421465788, -0.03187665753760017, -0.04221853883686326, 0.43072498213407184], [0.96202058085486, -0.023679416688537843, -0.04909570976493989, 0.26747952915998124], [0.9197995727900756, -0.2970826165979635, 0.10899346830176121, 0.23201527682041742], [0.978530145009428, -0.017640454789215464, -0.04509923586702574, 0.20033379292288178], [0.9346338912654895, -0.15737097099327027, -0.25672576109797135, 0.18917121973289666], [0.8403166363818477, -0.03907568518409435, -0.03683871238861503, 0.5394292824058036], [0.800311981884572, 0.2517594331633534, -0.09636165923270587, 0.5355673161192488], [0.7588674984292375, -0.04430533724245513, -0.03443959506889363, 0.6488228349950962], [0.7473873683223153, -0.02575692208383818, 0.221573345913496, 0.6258226226477508], [1.0, 0.0, 0.0, 0.0]], [[0.9032724031439516, -0.01653371614654583, -0.03109153054690391, 0.42762006346427095], [0.8661334754583533, -0.015370019175059669, -0.03578197394117733, 0.4982933027262815], [0.8126781491998402, -0.36955864867064214, 0.058925843355379495, 0.4466636049542301], [0.9833967676742027, -0.010443251143266125, -0.03071662484351187, 0.17854474170837842], [0.9426087791173973, -0.15837233825740504, -0.23933344136370335, 0.17066457116431155], [0.9537950812128314, -0.015061323766383, -0.03461050626124305, 0.2980775275611251], [0.8778792676469036, 0.3173197918276976, -0.2085346781450377, 0.29180375110870077], [0.7603512066293349, -0.02491750158536807, -0.020682946588637532, 0.6487043829144901], [0.74227307785315, -0.004957349594322089, 0.2374464037736413, 0.6265982029294181], [1.0, 0.0, 0.0, 0.0]], [[0.915887009646544, -0.00442196462483122, -0.016983791447690074, 0.4010523439872031], [0.7630292680066026, -0.006216736719748914, -0.011293324403630768, 0.6462353666999198], [0.7047920957533478, -0.34965349235001986, 0.014404903880934444, 0.6170924045839646], [0.9877409497876373, 0.00047274465924830453, -0.01968898816888638, 0.1548545652216582], [0.9500813057322883, -0.15189056181716062, -0.22951751349620564, 0.14695741127080564], [0.9923906353444111, -0.0012782224187959206, -0.015926650134954565, 0.12208822565523271], [0.9269635582094781, 0.2728918804638049, -0.23602455964004176, 0.10276668027759128], [0.7823273319146888, -0.009101027685292265, -0.018539161655325237, 0.6225250328456147], [0.7575379209184846, 0.018831031447182154, 0.23833955001941157, 0.6074339054758794], [1.0, 0.0, 0.0, 0.0]], [[0.9252285992642982, -0.0031519048494076866, 0.006881572303349997, 0.379334612923575], [0.832100342874341, -0.0016054662313194968, 0.005644097218232597, 0.5545940732041549], [0.788556502156318, -0.2905913964084846, 0.05922669226964656, 0.5387276511959977], [0.9918420122554387, -0.0037259601623459144, 0.003928232486834424, 0.1273581914738115], [0.957964819014523, -0.16078175986100407, -0.20184120880270767, 0.12535053911145494], [0.9724725078512868, -0.006161863300136714, 0.004289642179589768, 0.23289665494392672], [0.9159972613665406, 0.2865673575942684, -0.17941844699330173, 0.21595644840788625], [0.8016233061419097, -0.0003524666438490855, 0.009331260187280902, 0.5977565377314548], [0.7740021807255362, 0.03747143085476833, 0.2650009953705846, 0.5738388175737245], [1.0, 0.0, 0.0, 0.0]], [[0.9344389962117438, 0.008017625487984844, 0.030184912841607604, 0.3547511114528997], [0.9451839754456735, 0.007290635851835683, 0.026884452354983615, 0.32534800661931407], [0.9102591924708828, -0.2228395328527012, 0.1365622057591431, 0.32112537906313676], [0.9944503109491285, 0.00033179930874646305, 0.03341408486145092, 0.09975955039630174], [0.9585999648131978, -0.18421047797755583, -0.19203249497672853, 0.10137123919746292], [0.8870440062646536, 0.01361537235465416, 0.03187471365731944, 0.4603819666481964], [0.8548204429094628, 0.2859651507453989, -0.05347053543284192, 0.42970553264271133], [0.8102794216174335, 0.012365337787203166, 0.02707595296754158, 0.5852873226848718], [0.7738877438875585, 0.052802376099926364, 0.2900198752498319, 0.5605337999611607], [1.0, 0.0, 0.0, 0.0]], [[0.9314249284629563, 0.023325877661861807, 0.055112061068212086, 0.35897934034411255], [0.9958882166425486, 0.010919951123048029, 0.06363799039066025, 0.06354227568345835], [0.9533990348240778, -0.17697842482777956, 0.23989855628598436, 0.04644997560704466], [0.9928078606102502, 0.005809352787701022, 0.06073748326712372, 0.1030036963271811], [0.9577804528874015, -0.19480998245567224, -0.18424514299762101, 0.103727537733288], [0.781428711444113, 0.03513007507164181, 0.045074913987589, 0.6213721098385938], [0.746257336017593, 0.2879891409691732, 0.017018079523851936, 0.5998938473539156], [0.817630287791539, 0.036196454262880554, 0.04583076459566726, 0.5727740132035469], [0.7754079805647278, 0.08012426729366304, 0.2984358378559606, 0.5506892192066184], [1.0, 0.0, 0.0, 0.0]], [[0.9383535808763088, 0.019039884570183418, 0.04386502914649546, 0.34235347124009124], [0.986195034322899, 0.009806240765865783, 0.044887952701504946, 0.15908571155564283], [0.9326526032595187, -0.23642190422489068, 0.2203188195364326, 0.16038523184505493], [0.9890003010921669, 0.009367113025243465, 0.045676515480098503, 0.14037206832832502], [0.9661343946399156, -0.14356578736516762, -0.16034732129272158, 0.1423444159292239], [0.8725139203377429, 0.023945984446318326, 0.04638838631872577, 0.48579230774118287], [0.8328995431619433, 0.326675048326899, -0.03898291217410585, 0.44501920897829833], [0.8167020463891898, 0.034678026263275694, 0.03530495057532221, 0.574933702598019], [0.7742088398557754, 0.08103603494978898, 0.2886683777685108, 0.5574086481256704], [1.0, 0.0, 0.0, 0.0]], [[0.9425534769399351, 0.020287663595334373, 0.02943714928215347, 0.3321367309654594], [0.928954429796661, 0.022538426092532603, 0.029747532749235014, 0.3683079839017409], [0.8695503670338526, -0.2993523829583837, 0.16813588095318951, 0.3549656822067791], [0.9909693568800214, 0.013498887470352017, 0.03060308783275698, 0.12984977773165415], [0.9650540911525477, -0.14396018274970837, -0.17619064917017146, 0.13001123827344443], [0.956751082061658, 0.015364872972925407, 0.028453637676931456, 0.2891049604474512], [0.9029018511558526, 0.31121336068169764, -0.13419266145123215, 0.26439898056757516], [0.8304384778470447, 0.03115523685566554, 0.025884115645467002, 0.5556359404185467], [0.7921680804649344, 0.08169484331858494, 0.2769256245832639, 0.5376875331610567], [1.0, 0.0, 0.0, 0.0]], [[0.9432339486069938, 0.014280080735699672, 0.021422281237652652, 0.33112970775213707], [0.8121030029900631, 0.024066862835284537, 0.016455462480716415, 0.5827853090138209], [0.7430768736638586, -0.36347534171010487, 0.07353503869758278, 0.5570592732182216], [0.9937719938252612, 0.010199282875358609, 0.023867232557711136, 0.10836768027151783], [0.9663217093511799, -0.15172358174888134, -0.17861090947601393, 0.10630358316658677], [0.9966974449985077, 0.005964632616304664, 0.027236956637888485, 0.0762677814303337], [0.9324023949131648, 0.2848357113540926, -0.21395717780850373, 0.06096488794234961], [0.8458668767637305, 0.014585535703196612, 0.0156849025653246, 0.5329638569112725], [0.811790252870237, 0.06899335130302828, 0.2672773816907852, 0.5145865369958409], [1.0, 0.0, 0.0, 0.0]], [[0.9403622312154544, 0.015667047490043638, 0.028817102584942356, 0.3385897108966043], [0.8351759227384289, 0.025054582536471033, 0.02626823138330399, 0.5487835875752207], [0.7728784790399167, -0.3562236393210475, 0.10702940162195496, 0.5141092127303882], [0.9959181142463734, 0.00486110984247544, 0.028638155171051026, 0.08545955414958192], [0.9676564600367401, -0.16280093049938485, -0.17179578111103594, 0.08731003361669518], [0.9934789605841133, 0.00874760928261306, 0.03480122660620791, 0.10822157287367341], [0.9260659855125417, 0.3050823957146351, -0.20089362692055404, 0.09470096601623904], [0.8473591316238547, 0.02071016136718789, 0.022090458564981263, 0.5301562061413605], [0.8119735301754923, 0.07788172737106767, 0.27166231620348513, 0.5107181304702283], [1.0, 0.0, 0.0, 0.0]], [[0.9485523855455535, 0.020886030878054518, 0.04409318407143886, 0.31283851538524293], [0.96138962066214, 0.0194929625370836, 0.04768180950517409, 0.2703265927298808], [0.904259252599618, -0.2509580091909281, 0.19528241272848032, 0.2849562439916864], [0.9969080946759648, 0.009225757906371989, 0.04526966830478745, 0.06355936824863247], [0.9730067467009162, -0.1615825965281813, -0.15090558699888698, 0.0661546611073707], [0.9141942364597844, 0.025216364608209436, 0.04169044440052051, 0.40233684870434766], [0.8808871153109078, 0.30191195022183287, -0.0710347809927609, 0.35754877189243317], [0.8376264027793907, 0.030323870036959393, 0.035292082961653044, 0.5442581567170741], [0.7972261752829226, 0.08192022642451006, 0.2853179239137786, 0.5256550049603363], [1.0, 0.0, 0.0, 0.0]], [[0.9483276952379974, 0.029795690027894128, 0.053279790295268435, 0.31136483945115184], [0.9983454354650624, 0.01359887909387576, 0.05585775433745951, -0.0011718591389821575], [0.9570161593564683, -0.16711576472316506, 0.23671632796439993, -0.012560731930785704], [0.9949792529172804, 0.01210639892728443, 0.0626315852250273, 0.07711683280182209], [0.9700149317815483, -0.17156020876664022, -0.14858875427104046, 0.08694543687258749], [0.8064956084851982, 0.04400104685208788, 0.04160551296934466, 0.5881307020217261], [0.7636061864700182, 0.2987116407759393, 0.0027288682353496904, 0.5724242316043375], [0.8332476297718945, 0.04574561046082005, 0.043739017654596375, 0.5492655322680442], [0.7828740920151115, 0.09989772401761107, 0.30811178920370463, 0.5312209767519613], [1.0, 0.0, 0.0, 0.0]], [[0.9494702216078216, 0.02470363986738796, 0.017074661379344273, 0.3124171640548537], [0.9589536879364007, 0.029935992113103684, 0.023330590627181066, 0.28101128858173563], [0.8736781154279528, -0.33378639949381306, 0.22344646042696956, 0.27449019920185835], [0.9929157252193763, 0.022353473996694673, 0.014279070919755768, 0.11582224719814314], [0.9647182967255368, -0.13930369799463652, -0.19443957305690845, 0.11002881494156602], [0.9440677365025655, 0.024643467077597153, 0.0229629525908192, 0.328026692867562], [0.8796640691771732, 0.35218511268349106, -0.13648853779621758, 0.28901150643706974], [0.8433439301776446, 0.022063487505010995, 0.00924822641689211, 0.5368413995397358], [0.7949653775832128, 0.0833852906048481, 0.30971903672332257, 0.5149282086329142], [1.0, 0.0, 0.0, 0.0]], [[0.9493706299809794, 0.01823178076750457, -0.0021816660621003375, 0.3136211877931037], [0.8415519417711103, 0.01901598946340963, -0.011045577480054455, 0.5397283730397477], [0.7521590201722158, -0.4440756314415916, 0.08726772861761423, 0.47899685330411784], [0.9892891834848065, 0.015119723431099467, 0.0036916537388379804, 0.14513675308481996], [0.9593536317117118, -0.14129450453004228, -0.20125287341999473, 0.1384693224196419], [0.995098928401858, 0.015459630945207541, 0.002655595496432677, 0.09763232209197388], [0.9159417726778832, 0.3092150480504957, -0.24152132895100895, 0.08428624315132834], [0.867606952072256, 0.020236696079865345, -0.005968765307863655, 0.4968028046301278], [0.8281656568715476, 0.0961535714736606, 0.26992233757236944, 0.4817032978409484], [1.0, 0.0, 0.0, 0.0]], [[0.9449848983564094, 0.018779298329829646, -0.013880895194563607, 0.3262793290742816], [0.8330238526311039, 0.014981075863359892, -0.01566603210870115, 0.552812268090695], [0.7384966605936536, -0.4656364226450496, 0.08673615031790503, 0.479877322267236], [0.9836631033595435, 0.0199313669866259, -0.012972557256956436, 0.17844145386465415], [0.9506817424528563, -0.12949735666900672, -0.22771086704446752, 0.16607955988741654], [0.9965167727659248, 0.020902585932417294, -0.00749099462030384, 0.08038214041143124], [0.8981684003666702, 0.33647577146147006, -0.27328892135891353, 0.07342169478203821], [0.8865582189949538, 0.0186828796179012, -0.0198982118835977, 0.46181114701305565], [0.8576608039633848, 0.09636985501857086, 0.22263722803909639, 0.45339106859271877], [1.0, 0.0, 0.0, 0.0]], [[0.9397224424060999, 0.013041831568481122, -0.023227394703293026, 0.3408990026429396], [0.9376413956402029, 0.012189083629987737, -0.023140502331543036, 0.34661874815710314], [0.8386939865221594, -0.4142122629944358, 0.1720095146808677, 0.30892284638052986], [0.981308933833954, 0.020238857094962107, -0.023702133483817937, 0.18989832518870062], [0.9472588312669679, -0.1226247820399755, -0.23839164607645172, 0.1755941129347634], [0.9659061498963554, 0.016073281712961185, -0.022551963224857936, 0.25740700876642847], [0.8793763054378586, 0.3528362997120671, -0.21858740813536418, 0.23328824240544596], [0.8888298905055824, 0.005983563353531172, -0.02206591064426826, 0.4576666016882465], [0.8627037069507212, 0.082150774961511, 0.22553431483357278, 0.4451155322152418], [1.0, 0.0, 0.0, 0.0]], [[0.9421731980315189, 0.016486494275677048, -0.022217241474753794, 0.3339824166012503], [0.9975380975331519, 0.02100654563197724, -0.01911649280294973, 0.06411730432158001], [0.9330393858337277, -0.26690068165545566, 0.23431645160047004, 0.05742239218491198], [0.982190125457925, 0.01749720675825264, -0.018137463276858213, 0.18619193761945005], [0.9315027813556481, -0.16301049945755927, -0.27761924640984087, 0.1692858511988551], [0.8748811508807007, 0.013389694369557385, -0.023246791082671442, 0.48359412178262573], [0.8240784941591331, 0.3096271186560362, -0.1056700101025103, 0.46244949110374367], [0.8790627243261546, 0.015870456801815855, -0.025328528311780858, 0.47576813780952215], [0.8502624190869289, 0.0907126709569256, 0.2229042850667313, 0.4681225370724997], [1.0, 0.0, 0.0, 0.0]], [[0.9572059603537998, 0.014002218656183408, -0.012260067307847707, 0.2888085491904133], [0.9993123525270431, 0.018681566115862656, -0.007351628466050707, 0.031173301609276803], [0.971765862795874, -0.1642161222166958, 0.16575337721124198, 0.03507122826148954], [0.9856132020579197, 0.018147703935514566, -0.009822533929881104, 0.1677521820966865], [0.9179754997178172, -0.19569227302957937, -0.3113171513695551, 0.14868472503080335], [0.8510208190177112, 0.004033171468453182, -0.017144005747658012, 0.5248365290195172], [0.8209455777483756, 0.2537665176641093, -0.07812426214261206, 0.5055170744422878], [0.8666743062211041, 0.013142472765174862, -0.014860254417230033, 0.4984797841281428], [0.8372965308135472, 0.08228186391249326, 0.23492779570487524, 0.486798875475214], [1.0, 0.0, 0.0, 0.0]], [[0.9582669192371862, 0.0007068213215948738, -0.026620493719943655, 0.2846319750368849], [0.9748215590442824, 0.006036131231580697, -0.02496432178676116, 0.22150231551827393], [0.9429666806559638, -0.2297232004869613, 0.1279069315896278, 0.20415902424832255], [0.9884207601389449, 0.0064726038614862525, -0.02789038237957393, 0.14901219042858196], [0.9269381147514673, -0.19068641502063352, -0.2951223112941489, 0.13163298949721516], [0.9487113110874835, -0.004720550809342906, -0.022593519610029828, 0.31530001187179757], [0.8922557617069508, 0.285783014599862, -0.16331742625991294, 0.30908759688282883], [0.8492451341482573, -0.007474025036175377, -0.02846081044597691, 0.5271781703978509], [0.8242493919519277, 0.04977021118521554, 0.22504542145868742, 0.5171947643063859], [1.0, 0.0, 0.0, 0.0]], [[0.9527036577072927, -0.018760879981437197, -0.0307828141893221, 0.3017551794485947], [0.8987924626356006, -0.020558203463979557, -0.032589648537568745, 0.43667766623444754], [0.8386182363470274, -0.36862087516507863, 0.08598637092618037, 0.3917198591770374], [0.9916511609975371, -0.012465702980914232, -0.03292075476084733, 0.12405162251016522], [0.9476294568283001, -0.17327315334245572, -0.24142347862362923, 0.11700226857342885], [0.9941425824959891, -0.024529624182993953, -0.030717969151303107, 0.10067387733104519], [0.9198251329857252, 0.2642780095945346, -0.2692207272767729, 0.10769892467944765], [0.8446276067615343, -0.02210130092054575, -0.026222368427188735, 0.5342547386668379], [0.8250317523351075, 0.03884834473351658, 0.2248004663950968, 0.516989520260203], [1.0, 0.0, 0.0, 0.0]], [[0.9537791446460819, -0.029488217274850553, -0.020823521799743967, 0.29833231340234545], [0.8335540691796304, -0.03020351886934959, -0.012775281864976106, 0.5514636464675248], [0.7788043599086384, -0.33804993854662013, 0.04612313830851391, 0.5263636235042237], [0.9959108821023596, -0.02649578555635279, -0.03077996835528674, 0.08069747087672169], [0.9507990341501226, -0.19375786418243687, -0.2291289174688099, 0.07706507578810047], [0.9991543931318446, -0.022983068918587257, -0.023980824561203866, 0.024232153882462266], [0.9337118778224509, 0.23538321182291846, -0.26863772859696516, 0.02471120352113852], [0.8442077980424957, -0.034426673157936544, -0.012238779342913285, 0.5347693055699], [0.8224847243424892, 0.02680457205983247, 0.25232609625976854, 0.5090500312211511], [1.0, 0.0, 0.0, 0.0]], [[0.9499632137033529, -0.02359490525182259, -0.00790668854185922, 0.31136900509340565], [0.8759036151433038, -0.024655939683455357, -0.005352597161540631, 0.48182599693337747], [0.8411183038998354, -0.27561624242387117, 0.06610743246906288, 0.4606359659526797], [0.9986953851107071, -0.018627907120094257, -0.007626204526053975, 0.046929413371875166], [0.9604285256213104, -0.1926875061658803, -0.19654760552494663, 0.04263344816994885], [0.988793755385217, -0.022261192597366062, -0.01264639426699699, 0.14707622964771094], [0.9261897871070199, 0.26555430184002166, -0.2241905153359219, 0.14626005560755623], [0.8639005747225906, -0.02931977732879513, -0.005809862328073513, 0.5027746942230648], [0.841062786013025, 0.03545457616618623, 0.24273349527900037, 0.4821170120235584], [1.0, 0.0, 0.0, 0.0]], [[0.9553509267812433, -0.0006007589004173447, 0.00036596068193916754, 0.29547269224031897], [0.9683959647419906, -0.003637561422499462, 0.001275182343725097, 0.2493880460814366], [0.933059486290214, -0.2297531953329591, 0.13374849013422344, 0.24233201535280569], [0.9970860914624763, 0.001159298076962789, -0.0005835274075457798, 0.07627346678771009], [0.9499455090388308, -0.19606396473989415, -0.23185958432394965, 0.07350907933415764], [0.9267757569026367, -0.0008280407197876073, 0.0014171806172600266, 0.3756115045698274], [0.8899467937843225, 0.26109304326744015, -0.10907714564285517, 0.3576692652280299], [0.8702513337429382, 0.00176527747522475, -0.0005306585002126093, 0.49260452526913384], [0.8390477186022964, 0.07394813371354456, 0.2551188814899244, 0.4748104418985486], [1.0, 0.0, 0.0, 0.0]], [[0.9553044253545208, 0.016878984972103557, 0.014364085477083158, 0.2947918381040891], [0.999660842734321, 0.016624998377094444, 0.018968552178659424, -0.006480969133881722], [0.964338300212504, -0.15746913389561243, 0.20887390745917125, -0.04033367570853717], [0.9957659363975441, 0.011079607312408554, 0.017044720161177678, 0.08964886907681495], [0.9450208734033543, -0.20478987190150505, -0.24036635423932343, 0.08497454294212235], [0.8200244168934969, 0.019188135996189466, 0.009725276131350867, 0.5719241122208795], [0.7758819754792378, 0.27376118787167075, -0.030657858525410947, 0.5675579863345798], [0.863886736645319, 0.018144127531936213, 0.009968119932172103, 0.5032605025922695], [0.8302682142169442, 0.08184504677668068, 0.2609246100787909, 0.4856690525804175], [1.0, 0.0, 0.0, 0.0]], [[0.9582479853329082, 0.006445506850195527, -0.00010259630155414619, 0.28586577885585673], [0.9916599913241546, 0.00997919289495964, -0.001973311974298167, 0.1284795055874481], [0.9428283530062211, -0.24262046977924145, 0.19335949290604873, 0.121746091989815], [0.9947385899761059, 0.0049479937031445265, 0.0008887783292183695, 0.10232235847430325], [0.9582898427200512, -0.16734077317561588, -0.20987830380623196, 0.09812614617921919], [0.90145713922314, 0.0014875891002588562, 0.0014302139910372298, 0.43286345157594536], [0.8577299794893712, 0.28482783494853936, -0.09698132630852058, 0.41685370223992324], [0.8488526226900319, 0.009410119819257852, -0.0010366183930884008, 0.5285447947142687], [0.8159862051663991, 0.06873512799664097, 0.2519285607365499, 0.5157266673758837], [1.0, 0.0, 0.0, 0.0]], [[0.9555886541628448, -0.010401234051473418, -0.025677326479868888, 0.2933987274517321], [0.9539525883092147, -0.00858921882314909, -0.027130375573095437, 0.29860446630856124], [0.9004997670938679, -0.3123038165055534, 0.13452301028760413, 0.27105360237989196], [0.9950769450242256, -0.007359610001827232, -0.02741744379186959, 0.09495258499796035], [0.9544334917650023, -0.17310583047509182, -0.22589377298606758, 0.08979468012590362], [0.9625072885825, -0.012167767842773165, -0.024201395243827455, 0.2698999024074305], [0.9129669800301161, 0.2590034929296936, -0.1740551462683494, 0.2628940662746337], [0.8461018269323898, -0.01513735029325108, -0.022530767818792173, 0.532329713231628], [0.8214671756543941, 0.04575799956096503, 0.23887571095495844, 0.5157870486105043], [1.0, 0.0, 0.0, 0.0]], [[0.9540447264416692, -0.019174049575314964, -0.044969029954507564, 0.29564979640898575], [0.8959879685016817, -0.02579046628574758, -0.041893490875124395, 0.44134493037905065], [0.8393356998279423, -0.36489506174818265, 0.07650210367896637, 0.39561926778004713], [0.9959830789235732, -0.005811759642118029, -0.04824799539502969, 0.07520678751378045], [0.952138593768891, -0.17311528226833273, -0.24357812564936052, 0.06428758827408976], [0.9921848699469894, -0.011130122165607888, -0.04622850611665546, 0.11536129962460118], [0.9236214817927964, 0.2586910266701144, -0.25571588998121464, 0.12087884307171723], [0.8445095257576462, -0.03263795445041369, -0.038480867204534384, 0.5331581826185129], [0.8232070862404457, 0.03193185249894387, 0.246801126392987, 0.5102936938378271], [1.0, 0.0, 0.0, 0.0]], [[0.955431321264821, -0.02718153295782328, -0.05461364228465406, 0.2888416602372746], [0.8341867490415608, -0.04023554323960343, -0.04501449465880205, 0.548167186225424], [0.7574723410663983, -0.4224368274267547, 0.03126051716123257, 0.49679528924882194], [0.9966829262873499, -0.014224755831453235, -0.06034150040278612, 0.052722899180157726], [0.9492705919387501, -0.18606377150375655, -0.24999023414044008, 0.04207729849290351], [0.9981092086104149, -0.013315965762631353, -0.05963531970053224, 0.006657430969616153], [0.9098412415459232, 0.25537018537627076, -0.3268971349744929, 0.010641745558434454], [0.8484394885564468, -0.03914804563701792, -0.04596613792017722, 0.52583740732814], [0.8316202674385943, 0.027875695210691238, 0.22833999384578302, 0.5054616935163231], [1.0, 0.0, 0.0, 0.0]], [[0.954412804525443, -0.035896659122400816, -0.05790250616215343, 0.29061130088465364], [0.9109860182504841, -0.04369088342507203, -0.05160207034314431, 0.406857232446428], [0.8490792401817242, -0.38067162420156675, 0.08237024656295004, 0.35688751855637385], [0.9969512875150683, -0.020530949053146452, -0.0635298037254932, 0.0403803726038436], [0.948508337008979, -0.19415257791409438, -0.24837831798395255, 0.030739587980897775], [0.9856233288368876, -0.02740382461248676, -0.061956758200536775, 0.15478063238784312], [0.9063805399440966, 0.27401355493832835, -0.2755628972883865, 0.1656984555110214], [0.8515488492288747, -0.04994176531031089, -0.0511526709899211, 0.5193782645676135], [0.841740927448922, 0.011937462783515053, 0.198467891903418, 0.5019364540687736], [1.0, 0.0, 0.0, 0.0]], [[0.9575595771424429, -0.0384582064141798, -0.06171966358723166, 0.27891092791224464], [0.9881408867796162, -0.028755021772529157, -0.06654733242005915, 0.1353594811789314], [0.9544658624160639, -0.25506085163709963, 0.11066299523270823, 0.10813223816532351], [0.9964003520709641, -0.021044687046535553, -0.07003077072583634, 0.04288532023335659], [0.9330779356859731, -0.21825673046666635, -0.28422875453190943, 0.03071775771836119], [0.9094718848658457, -0.04620909913605576, -0.05432295075235362, 0.40960301124034393], [0.8646403515553968, 0.24036227510998479, -0.1579637137345611, 0.41191079654373897], [0.8516938968996417, -0.055153587293946565, -0.04913002439588548, 0.518808084454523], [0.8408951752421054, 0.007974251785260187, 0.20958995877231199, 0.49890256037109565], [1.0, 0.0, 0.0, 0.0]], [[0.9600140162075579, -0.0323742510587235, -0.05576455380284315, 0.27242487238244467], [0.9976662667767666, -0.011887800273029313, -0.0641747714564798, -0.020057393870755766], [0.9737942737856513, -0.18386617008350337, 0.12460142770614072, -0.04891245296129897], [0.9972459838501545, -0.016368732220306843, -0.058306351933874685, 0.04281216678002406], [0.932720185063815, -0.2236825225149849, -0.2809731376405517, 0.03245429740850464], [0.8374610307228865, -0.05599280109008997, -0.04308620174265587, 0.541910885170281], [0.8025534293175959, 0.19612051055349566, -0.09145430580117576, 0.5559504010082447], [0.8601337215042802, -0.04283152130445358, -0.04704470381443217, 0.5060852080005458], [0.8478129356059568, 0.02495919079666113, 0.20269726789523365, 0.4893915432471156], [1.0, 0.0, 0.0, 0.0]], [[0.9583714656407848, -0.030523735670320757, -0.06258679343618134, 0.2769031034380789], [0.9744403915099021, -0.02460763598881237, -0.06453670324032271, 0.21376482774287522], [0.9169390013184203, -0.3303823178409969, 0.13968996747483056, 0.17480590638210508], [0.9971477314571695, -0.009579703875064922, -0.06422834356641013, 0.03846232970324853], [0.9501119520301458, -0.18361813770188154, -0.25064059305635833, 0.02740348935292362], [0.9445602072560848, -0.037036103452266385, -0.05849110089582423, 0.3209565905623523], [0.8875631463711512, 0.25896735988445124, -0.19745889508082218, 0.3258489718745177], [0.8536249613564065, -0.05020629812275277, -0.054539282756240884, 0.5155862872638466], [0.8429613787834745, 0.011957935280899888, 0.20226307381102823, 0.4983600813024615], [1.0, 0.0, 0.0, 0.0]], [[0.9569574748676033, -0.020857316418452967, -0.06166812779046116, 0.28283282281528094], [0.8781416901623944, -0.027851545530968694, -0.06717502206993205, 0.472841389707134], [0.8030697681498125, -0.4446431444131096, 0.05679641526509446, 0.392613790923426], [0.997726460606953, -0.003937545705956019, -0.06265962607828145, 0.024498506041504355], [0.94993568402358, -0.18598579373448568, -0.25077757745083756, 0.01192004175730231], [0.996857943980982, -0.016111737281368343, -0.06520182959000345, 0.04199253340656742], [0.9048293498766227, 0.2652551597698833, -0.32745123932546466, 0.060821325877681943], [0.8515619821171984, -0.03253501136218686, -0.051173870050976365, 0.5207349601018701], [0.8367277892495596, 0.03154848368689101, 0.20438441138996072, 0.5070683506741293], [1.0, 0.0, 0.0, 0.0]], [[0.958150067008169, -0.018508019485622123, -0.057159372210963365, 0.2798905294493001], [0.8532767072047087, -0.029716707756597308, -0.04628737528524573, 0.5185491848525091], [0.7831466397148652, -0.4234270336050764, 0.057707376086589574, 0.4517308343039262], [0.9977387562085709, -0.0033064265005999494, -0.06405964783823709, 0.02006996317911275], [0.9491315809473267, -0.1858127757371324, -0.2540923902369659, 0.007740261297643629], [0.9981561761199697, -0.0006803802979325534, -0.05568220656655072, 0.024151128919578862], [0.9184603969214784, 0.2600062697338643, -0.2959070440026259, 0.03558455136080079], [0.8636004010976384, -0.03520677473653201, -0.05254860429173683, 0.5001934370057645], [0.8462136791902675, 0.03463227511293884, 0.21612145811821828, 0.4858132666083011], [1.0, 0.0, 0.0, 0.0]], [[0.9550088115645832, -0.01872065349292997, -0.04012241167322901, 0.29325398385754947], [0.9646179190593901, -0.017077934890411293, -0.038346392676464454, 0.2602886254489675], [0.9100209496583281, -0.3105617523415818, 0.12976244506203144, 0.24202267872454358], [0.9984854116668592, -0.0059212060274555865, -0.04181182135292038, 0.03526462253866938], [0.9565217225131437, -0.17944342726047313, -0.22819368849499955, 0.0281760768126205], [0.9627182049437291, -0.01782894435752949, -0.04326222397352813, 0.2664285393682221], [0.9086876574527318, 0.2586320890446128, -0.20257308161959758, 0.25760498891253264], [0.8669970455549276, -0.029300738108681446, -0.037066105356753795, 0.49606823480141843], [0.8514881880639552, 0.03716528944366989, 0.20998747211806087, 0.4790530955975517], [1.0, 0.0, 0.0, 0.0]], [[0.9655459951077472, -0.010534319632878885, -0.024906075499013216, 0.25882358247366144], [0.9977735414324371, 0.0063223872987004884, -0.03712345784507204, -0.05504394893031321], [0.972935190040874, -0.15632836837796632, 0.15349575542944502, -0.07346843053689994], [0.9983082096649363, -0.007177273078781846, -0.02119358886594193, 0.05366597672383929], [0.9510598232776519, -0.20060283417382757, -0.22898403162603934, 0.053009704100234006], [0.8434840666999386, -0.028122280032255392, -0.015421724125447319, 0.536195801003812], [0.8027546989322697, 0.2175555005462703, -0.05726426106594085, 0.5522456898236456], [0.8648367469439778, -0.009743812894089869, -0.018385563643569112, 0.5016218000597177], [0.8323466656886274, 0.06021734687765741, 0.24008416404318786, 0.49591581284299036], [1.0, 0.0, 0.0, 0.0]], [[0.9660650055732716, -0.015956533188456468, -0.028198162997993523, 0.25625896600677034], [0.9931908764333369, -0.005359533504100736, -0.02587947033770156, 0.11346105669011884], [0.9364823058455538, -0.2728813739554061, 0.19896926632935963, 0.09459322197050242], [0.9988450855050792, -0.0077899464882128944, -0.03426986129365435, 0.03276260830543768], [0.9570005766895932, -0.18320996065142145, -0.2231183513352447, 0.028323273669073], [0.9054198711149612, -0.019860877028833646, -0.019429653383333727, 0.4236070007958036], [0.8528914710844746, 0.2989109298595183, -0.12804299326370855, 0.408452428610663], [0.8662749683693471, -0.029819254056492866, -0.024353021314090957, 0.4980817419029496], [0.845725671960941, 0.04053954975942508, 0.24226619570774505, 0.4737211448825295], [1.0, 0.0, 0.0, 0.0]], [[0.9641374353697408, -0.0075054392867894, -0.024634672010849134, 0.26415110644229556], [0.9293667486318704, -0.00851882095038959, -0.033290150814698605, 0.36755495111041003], [0.8425222461620666, -0.4152661197801086, 0.1421615314403011, 0.3122505619904421], [0.9997309946291804, -0.0026650042654308244, -0.02303987879302662, 1.073394519601849e-05], [0.9606923714001949, -0.1882794407480935, -0.20386646770594055, -0.0077125268335138724], [0.9836086234532201, -0.009550623107036218, -0.025138610747944257, 0.17830006089845432], [0.8969763430240968, 0.314922822349633, -0.25034520735545, 0.18326028804030664], [0.8614011201920421, -0.011432439778371271, -0.017233870534297046, 0.507504091765787], [0.834568555400919, 0.05539899875734885, 0.24043622166971093, 0.49256136732583894], [1.0, 0.0, 0.0, 0.0]], [[0.9618114189029819, -0.0055378117589330745, -0.04151251644573795, 0.2704899962791552], [0.8469262393587011, -0.011173476047074471, -0.040071260186102305, 0.530080552959502], [0.7726143122752918, -0.4112130208983676, 0.04997459692777083, 0.48111694583845543], [0.9984210177040714, 0.0032210116133434205, -0.04529499386975608, 0.033067507031698896], [0.9563274431121644, -0.17373288408410437, -0.23396387932022158, 0.022707041018189066], [0.9991658272422491, 0.0014768919223620604, -0.03823893639871847, -0.014256654749845967], [0.9249057926902129, 0.24275401760474108, -0.29203937917073136, -0.018241781667921373], [0.8686082619420076, -0.01392984693312089, -0.03886796650471662, 0.49377619204482975], [0.8410559949888097, 0.065794167381328, 0.24580894765888953, 0.4773613956771227], [1.0, 0.0, 0.0, 0.0]], [[0.9603346303040531, -0.005659250892464813, -0.03630378457505479, 0.276418895778928], [0.8863882248505988, -0.010393213921586153, -0.0337800259061503, 0.4615916006605454], [0.8245908737191894, -0.3727217286088872, 0.08126400586666262, 0.4177613736959533], [0.9986355176572407, 0.0036810866887765016, -0.03629457832638484, 0.037366509849789925], [0.9575403880417632, -0.17374061252417217, -0.22808824347281226, 0.03010578047554852], [0.99618672476927, -0.001920526102786071, -0.03565704466090259, 0.07960462385448126], [0.9261356426708742, 0.26007895009368304, -0.26085754437694963, 0.08114833722512217], [0.8760153842390577, -0.015051667371360154, -0.03919680386562616, 0.4804519793408679], [0.8573104553735413, 0.056952009343149285, 0.2070073252188619, 0.46789231565042966], [1.0, 0.0, 0.0, 0.0]], [[0.9599637690124077, -0.0065399300369409705, -0.03610859536780313, 0.2777102101817088], [0.9616888208678103, -0.006394729930034036, -0.03648146413738465, 0.2716299357975763], [0.9177639152845682, -0.28313811551970636, 0.11979983290640353, 0.2513766166076055], [0.999147207055048, 0.004616044817731353, -0.03724232584204466, 0.01722091548706726], [0.9545753138438317, -0.18518055147993795, -0.23331420454044968, 0.007656076880096375], [0.9529400854852385, -0.00582890942435313, -0.033264615027649096, 0.30127177544099826], [0.8983932313720511, 0.27739488832804393, -0.17666823642743756, 0.29108420086286985], [0.8736906643346506, -0.016536261805168893, -0.03376932395943786, 0.48502660531079167], [0.8515909208475293, 0.056219306750747516, 0.22305104310756602, 0.4710419569923142], [1.0, 0.0, 0.0, 0.0]], [[0.9564688751148921, 0.005303578003924457, -0.02686258909564648, 0.29054700876775125], [0.999332090560668, 0.02075591172668077, -0.029975236298586234, -0.0024596977218984102], [0.9753845104800885, -0.1596395570814008, 0.15206056077212007, -0.004225445306821334], [0.9995590159316762, 0.008744312055675321, -0.02244996133078127, 0.017358280808267384], [0.941263778173444, -0.2207831843971436, -0.25539387656695317, 0.007159133901158309], [0.8352078932456094, -0.00835724907769646, -0.023147485805094507, 0.5493834046901919], [0.7976005454440015, 0.23667622012072445, -0.06807700025605927, 0.5506207939888706], [0.8739693780213487, -0.0008151241871138463, -0.025550633883688778, 0.48530817730765513], [0.8492800205100733, 0.07027840659285123, 0.22312774386375614, 0.4732846947107518], [1.0, 0.0, 0.0, 0.0]], [[0.9614204659296786, 0.004582523938304038, -0.0323692352992151, 0.2731335218753981], [0.9961908798855277, 0.009111617058829067, -0.031871347434020876, 0.08065312442932122], [0.9621190760912318, -0.211096193284982, 0.15611377268403523, 0.07344229422002989], [0.9991744703571724, 0.012321271893278888, -0.028102211921086966, 0.026623856417476385], [0.941401632692481, -0.2110821349444433, -0.26223117217067093, 0.02102642654429876], [0.8840234973799457, -0.0007193822132593542, -0.036012845481719735, 0.46605258665698907], [0.845047365619997, 0.26377471817525533, -0.11892508917274192, 0.4496383781168185], [0.8532523151410378, -0.005164495128641956, -0.032511118440659674, 0.5204582998418439], [0.8283286463467159, 0.0548007204102687, 0.2208868646905072, 0.5119350815202358], [1.0, 0.0, 0.0, 0.0]], [[0.9565887725429547, 0.004934890524880057, -0.031468913296329955, 0.2896951407880681], [0.9439925266189204, 0.0072724152226945815, -0.03363299074386598, 0.328167706513116], [0.8869709308729155, -0.33325320149981497, 0.1331227666942818, 0.2906943419886558], [0.9987684500751594, 0.017118939289600753, -0.030161173833844927, 0.03547997526813679], [0.9626515043409377, -0.15670755268317724, -0.2191672000391535, 0.02665637914602514], [0.9722195800683108, -0.0005240693815277864, -0.03182679624324419, 0.23189624517005814], [0.9136246219413684, 0.26598366009732716, -0.19798307168747944, 0.23525612865324386], [0.8508628850288318, -0.0004378407266231841, -0.031305483216776134, 0.5244541218223717], [0.82884751446842, 0.06137657960147509, 0.22133632779392398, 0.5101518825160273], [1.0, 0.0, 0.0, 0.0]], [[0.9500124415585041, -0.00037083879975276067, -0.03432745629624662, 0.3103189473861754], [0.8383088240063675, -0.005321743797391984, -0.03625260236715989, 0.5439629982431017], [0.7893802126905028, -0.3592245413807682, 0.039520333245965066, 0.496260770102374], [0.996599840730534, 0.004319536005569399, -0.036546064715885965, 0.07371895426790308], [0.9541215971144524, -0.17052925176913616, -0.2376814112078828, 0.06386938998498959], [0.9989183946727151, 0.01000366741520768, -0.025793444830869143, 0.03737198986525057], [0.9522327849144308, 0.21665090917648788, -0.21198367425574544, 0.037121809440580335], [0.8498804720742593, -0.010951210009342464, -0.03337514442837042, 0.5258035316737147], [0.8215690646668022, 0.05519747237748415, 0.2538646686759234, 0.5074743747458743], [1.0, 0.0, 0.0, 0.0]], [[0.9422990766284947, 0.0018642290053682655, -0.026271432997477723, 0.33373460510345787], [0.8416030425105236, -0.0024348425996269982, -0.023538193033466027, 0.5395779312085179], [0.7979757649540415, -0.33772992153195863, 0.053191044285633336, 0.4963304256801442], [0.995741892565628, 0.006852901319559718, -0.023807995346992652, 0.08879358361325182], [0.9590637715433812, -0.15828169932832148, -0.22048169934874404, 0.08081711466647352], [0.9945229563546413, 0.004278933230381454, -0.024587803286905872, 0.10149492570349733], [0.9432799582413653, 0.2328355209267996, -0.21018970482258528, 0.10876961230742974], [0.8556835344883241, -0.0025187968649763065, -0.03383309264233472, 0.5163861600683903], [0.83368497335698, 0.06029703236803738, 0.21430206398475893, 0.5053793213599581], [1.0, 0.0, 0.0, 0.0]], [[0.9326967949054399, 0.004866176567223222, -0.023970857511308605, 0.3598310813269318], [0.9226671759691539, 0.0035910066528537297, -0.02156471896425835, 0.384977077182938], [0.88542217388585, -0.2674422933044752, 0.0911308022073223, 0.3690492794090631], [0.9938537979356852, 0.012458356249011522, -0.025749696671646373, 0.10694096880852025], [0.9539034060661217, -0.15630058677302333, -0.237734041251589, 0.09550363396252506], [0.9502604007614828, 0.006284229816051325, -0.022594974985658565, 0.3105722883736449], [0.913327867925103, 0.23870054890009296, -0.13961115772559665, 0.2989364117411904], [0.8521818620624562, 0.0007363417038152081, -0.023822393992934666, 0.5227026165202401], [0.8260217453612415, 0.06355704346316565, 0.23728349448057884, 0.507291949141394], [1.0, 0.0, 0.0, 0.0]], [[0.9325266809068975, 0.012387369284875853, -0.013818007899971911, 0.3606239109330411], [0.9896999356944637, 0.01951281078919268, -0.015103148479084156, 0.141014830452327], [0.9626957666713463, -0.18681174266030443, 0.1393016088970399, 0.13752561723542725], [0.9911634867681302, 0.01106470431731531, -0.007757536422781528, 0.131955808681021], [0.9379724515527477, -0.19055879638045, -0.2627699227665675, 0.12184823732584213], [0.8255161609776784, 0.009576262632965621, -0.014328563034341572, 0.5641152855933184], [0.7941368234766866, 0.2638995924368372, -0.059658616554726505, 0.5441916575810452], [0.8383744183563727, 0.007699013705443297, -0.015003729334668578, 0.5448338718725456], [0.8116266775132407, 0.05893679021143625, 0.2377076125024267, 0.530361840696319], [1.0, 0.0, 0.0, 0.0]], [[0.9267480400430584, 0.02068170788906243, -0.008536198114173154, 0.3750166270405844], [0.9904845746555822, 0.020331675641684723, -0.00362054619154107, 0.13606550621015945], [0.9559204785103268, -0.2022789655001778, 0.1612785272925472, 0.1388830281751975], [0.9889310686750099, 0.022352137855734054, -0.0017677186721061493, 0.14667173726821847], [0.9404175134080551, -0.17166778370037886, -0.2608676800069625, 0.13451069118324854], [0.8068663334626153, 0.016566728552986635, -0.01702916398950366, 0.5902561062822359], [0.7763343082579038, 0.26952940832071093, -0.05968076594302628, 0.5666543444185909], [0.8200142783368152, 0.019126795953525937, -0.012451914257495698, 0.5718878376321954], [0.7908677016264595, 0.06452879612722598, 0.2430887547582357, 0.5579177092587605], [1.0, 0.0, 0.0, 0.0]], [[0.923702887755917, 0.023309309821592992, -0.003614724496399161, 0.38238277287795774], [0.8948201092878705, 0.02714471583329615, -0.004795328447217942, 0.4455750680204815], [0.8528178130538648, -0.30044626097574656, 0.10708178072864498, 0.41348193943593137], [0.9847064214547384, 0.02773821956075794, -0.0005242182646243282, 0.17199877882302908], [0.9560113891846433, -0.12055189300068865, -0.21520788286006626, 0.15872943015738084], [0.9341690512899291, 0.01856278444068104, -0.0030194482775405336, 0.35633479984135946], [0.8947360554240205, 0.252435069919118, -0.10854842403280533, 0.35205278899504355], [0.7974488113192508, 0.022070986798806688, -0.009672055061352228, 0.6029052298812236], [0.7679137843070382, 0.05762411152980982, 0.24681379095408348, 0.5882778546201766], [1.0, 0.0, 0.0, 0.0]], [[0.9019044688607268, 0.02508659972765295, -0.006098119794128837, 0.4311633153436541], [0.7431187781411296, 0.025469446652467673, -0.015213010836407687, 0.6685015730441798], [0.6951434564750967, -0.3270161650272305, -0.0031157946785862383, 0.6401767682087967], [0.9756999685757196, 0.024533184114668382, -0.003969255002202012, 0.21769689757381264], [0.9449884215120268, -0.11817771646492263, -0.22769782616235779, 0.20293991844947779], [0.9883426885899416, 0.023636339078609243, 0.005989030614757374, 0.15028035433170348], [0.9544223155244859, 0.22758339271993908, -0.14609971599642715, 0.12624862760728905], [0.7811324573726707, 0.02332502829170416, -0.010832899666115685, 0.6238354553718053], [0.7526420128987457, 0.051729760968420364, 0.24885800639449623, 0.607390916052612], [1.0, 0.0, 0.0, 0.0]], [[0.891663892543354, 0.020685307026678677, 0.0039294956732138, 0.4522081156629107], [0.7887786348307159, 0.022070439169352227, -0.002604798951401286, 0.6142754886627717], [0.7496334351347087, -0.29691485233249637, 0.03284196997482603, 0.5906036643982839], [0.9674809043952957, 0.017704959676012728, 0.011264275367555577, 0.25207211296328574], [0.9403553464417107, -0.11294091147808241, -0.2085453019095522, 0.24389553088247398], [0.9625489181249592, 0.016760934925013068, 0.005939307313140205, 0.2705242612143139], [0.9193280742561463, 0.2695787772811633, -0.1408215525093715, 0.24966470530078747], [0.7613041460873614, 0.024126055552579788, -0.0009310092830157852, 0.6479452629778091], [0.7310460026353307, 0.04569409218758171, 0.25717276306685205, 0.6303538386546224], [1.0, 0.0, 0.0, 0.0]], [[0.8818746268989096, 0.01786867319840173, 0.015145286273687705, 0.47090176603377254], [0.8954770388612859, 0.026127217544051003, 0.018952040578385548, 0.4439358754747631], [0.8660498582432261, -0.21503215460244082, 0.10227442285603684, 0.4396120539218463], [0.9655544565601101, 0.013054554108612403, 0.01415499958903527, 0.2594875835576149], [0.9339783949478966, -0.12198603231206602, -0.22445090212389093, 0.24985107209512245], [0.8588288506238778, 0.017306779898069457, 0.01728785710883368, 0.5116782296543533], [0.828273662076669, 0.2800388997217376, -0.04912681252843664, 0.48283279884815045], [0.7330379122859129, 0.01754792915144628, 0.009874174540742702, 0.6798896895902639], [0.7030596205519561, 0.025560133959071297, 0.2689302055450067, 0.6578224639268975], [1.0, 0.0, 0.0, 0.0]], [[0.8626441575994565, 0.024283795555324852, 0.02567895668043232, 0.5045750150540111], [0.9746729553371435, 0.01295900202208002, 0.031147093274332027, 0.22107589868981772], [0.9421523378300748, -0.20589034877383972, 0.17260418950124695, 0.20041439661294008], [0.9622093986785631, 0.017368083620230155, 0.028681598385381233, 0.27023839231326535], [0.9257542964555674, -0.13550841987876727, -0.24167840715329336, 0.25730914918024983], [0.6732610820692633, 0.031602503128777604, 0.015326417958630982, 0.7385701713984107], [0.6264795560093561, 0.28974176666002577, 0.0319775690599249, 0.72287655213879], [0.7122028794601899, 0.031850312569388334, 0.022170254723723297, 0.7009002039401413], [0.6789235878759072, 0.03386877760349034, 0.2811625902044986, 0.677394468237561], [1.0, 0.0, 0.0, 0.0]], [[0.8498306755490033, 0.010452699398309404, 0.02605181068246657, 0.5263077684505312], [0.9298230884567106, 0.005604509004658976, 0.027158084086408546, 0.3669605593526321], [0.892160292431172, -0.2428688440417875, 0.13464191554309324, 0.3562811976260015], [0.9545531005165716, 0.0005887335906929325, 0.027573450089616387, 0.2967620874321958], [0.9242455980274147, -0.12560181829931616, -0.21174039821646845, 0.29182231156987176], [0.7561748090880572, 0.013650842278882956, 0.026246322738077008, 0.6537005760655608], [0.7248583216430042, 0.3012614058279868, 0.0060203882120345095, 0.6195044259964638], [0.6831931190949637, 0.02152832913786595, 0.019530108292529092, 0.7296590079865448], [0.651659281790574, 0.015081143564303377, 0.27693254725592764, 0.7059894502294844], [1.0, 0.0, 0.0, 0.0]], [[0.8372568419217657, -0.0017017201436462296, 0.019480309509946326, 0.5464600647303891], [0.7972314779261109, 0.004388756862877003, 0.01925740067003403, 0.603350529904782], [0.7568134734407637, -0.3003771085177763, 0.06170747459120412, 0.5772340484384149], [0.9502139757942275, -0.008223512823248846, 0.017756974540019396, 0.3109830604668978], [0.919238436494241, -0.12594176148560213, -0.21425073766505087, 0.30534569097255726], [0.8810200716103701, -0.005809043613103137, 0.021960352360607217, 0.4725332066174371], [0.8367234588065833, 0.3159570213290374, -0.0741729119483126, 0.4410934065350986], [0.6639399659636875, 0.0026443208439177438, 0.018925470281124422, 0.7475416749172252], [0.6354999246515872, -0.012991673451908601, 0.27491409760248786, 0.721382908813451], [1.0, 0.0, 0.0, 0.0]], [[0.8323605395335038, -0.007298069224869144, 0.015825601571334003, 0.5539604866305801], [0.6351748991031231, 0.0012504775255960682, 0.01798329958322048, 0.7721579403149305], [0.5809876462655988, -0.3224439461406052, -0.021364056921897724, 0.7470119366890141], [0.9468465740037099, -0.01023975244974164, 0.012438322048903938, 0.321281809182862], [0.9142657153809594, -0.12488190772838002, -0.2234759640488059, 0.3139764390738893], [0.957421005547211, -0.013532508812725965, 0.01352808870045527, 0.2880605494654089], [0.9059484871012385, 0.298903964873595, -0.16338634671824467, 0.25143321222123216], [0.6689808560911943, -0.006212426469747991, 0.016234846064005663, 0.7430763417806604], [0.6446044646890209, -0.021465729652440778, 0.2743160863965995, 0.7132846495597128], [1.0, 0.0, 0.0, 0.0]], [[0.8310357025984918, -0.015500479821482279, 0.02061471045252957, 0.5556207608116288], [0.7175548058989205, -0.010037101032203975, 0.023427127163966367, 0.6960355787221476], [0.6738194020596333, -0.3081796872993435, 0.025244765931132673, 0.6710852371622843], [0.9399867236005017, -0.02105055192885497, 0.015003695261429173, 0.34023039671197347], [0.9068265633733906, -0.13100421743965882, -0.2206486244339268, 0.3343914824107283], [0.914679358030038, -0.020035435785551833, 0.017153860930453676, 0.40331873048721545], [0.8525332973628209, 0.34718783923054486, -0.12913886421785586, 0.3687420981209269], [0.6702179547779462, -0.007983812436393135, 0.02425509053623946, 0.7417249102027829], [0.6448002334737714, -0.019653111376549168, 0.28212294187139414, 0.7101077804074681], [1.0, 0.0, 0.0, 0.0]], [[0.8357432559800032, -0.017152919032002188, 0.026161790345606974, 0.5482285546909581], [0.8699737231096774, -0.013435720314000156, 0.02429539010872113, 0.4923158910067757], [0.8334298842330962, -0.2586775574764948, 0.09201397087153057, 0.47959772569274745], [0.9333918326256154, -0.023439111389687278, 0.02147413268219446, 0.3574481171731141], [0.8935633405647092, -0.1395912053487634, -0.240008383113282, 0.35278155822472484], [0.7702143250229345, -0.014501099801830366, 0.03081632348533781, 0.6368751571861236], [0.7312125106649838, 0.352106691851816, -0.00539376826305848, 0.5842260256648154], [0.6639108415351547, -0.013158189664543733, 0.029771410041323394, 0.7471030181179743], [0.6371372349786323, -0.031064284018623926, 0.29213180377244075, 0.7125659010132701], [1.0, 0.0, 0.0, 0.0]], [[0.8197573937225395, -0.003762488524167295, 0.037486424498578634, 0.5714704078914735], [0.9533468386135435, -0.011941499245831759, 0.036216743355640055, 0.2994587674489354], [0.9220478329628455, -0.23808473034966124, 0.16257891290991772, 0.2582857951569903], [0.9341340734239193, -0.014721235613485284, 0.03604278476665523, 0.35479252494480834], [0.8864486968396558, -0.14983356252477317, -0.26690217163788904, 0.34716255873493884], [0.6126452198583144, 0.006270869650437891, 0.037242300886368436, 0.7894552056977483], [0.5776870522858639, 0.2885405777176558, 0.0752862938572498, 0.759838126569647], [0.6574083267444578, 0.005961651230268989, 0.03614905498201136, 0.7526433394813034], [0.6278238844946873, -0.011394065822290274, 0.29416047680106694, 0.7205393529920541], [1.0, 0.0, 0.0, 0.0]], [[0.814356387577667, 0.0030182544690179666, 0.018822064510635658, 0.5800519752909822], [0.8762609130936856, 0.001141414320767679, 0.018095577066267562, 0.48149564842084236], [0.8385913237136262, -0.26465918705673, 0.0939881997700038, 0.4667829525622085], [0.9380038872934183, -0.0013310797264209924, 0.01701604523290436, 0.3462042603057189], [0.9022339154619587, -0.12309601274354065, -0.24754738691532033, 0.33097073083313844], [0.7211130713483724, 0.0030904664966076665, 0.022700118479724196, 0.6924385113267147], [0.6976444087635071, 0.2811250645609751, 0.018537598785920782, 0.6587240199262939], [0.6297800973742214, 0.010989034563279152, 0.017122978048482708, 0.7765069695073151], [0.6002082229781444, -0.015005783865855965, 0.2709577859134639, 0.7524006869832477], [1.0, 0.0, 0.0, 0.0]], [[0.8139207360722718, 0.0022500654649692453, -0.0015779163562272716, 0.5809694335995205], [0.7040747998795431, 0.008765998842694148, -0.004873720088561973, 0.7100549839916411], [0.6712943369791949, -0.3146473658210986, -0.009240772230900836, 0.6710257494687395], [0.9320078729134781, 0.0041493028557135795, 0.0017993577187701165, 0.3624098100561099], [0.902533336775651, -0.09844912505882311, -0.23159823797309498, 0.34943325822182314], [0.8454468147904732, -0.006081679678430757, -0.002784495648822849, 0.5340177367062953], [0.7952855425741472, 0.3230577287704147, -0.0799546241797117, 0.5067167529562513], [0.6612711984304863, 0.0033527841293900925, -0.002945602973539969, 0.7501336443514665], [0.6395599154998328, -0.013295550825529065, 0.2555502389636015, 0.7249002815420469], [1.0, 0.0, 0.0, 0.0]], [[0.7856298159599129, -0.010945620609531677, -0.010800074672955816, 0.618505734857264], [0.5803571313876903, -0.011845917302024184, -0.00512312992476419, 0.8142598036440818], [0.5488723508845161, -0.3104351585042112, -0.05502156962305254, 0.7741716745497638], [0.9203717385477781, -0.005357478240851621, -0.015290395345843774, 0.390708797084999], [0.8829128937684675, -0.110497066833612, -0.27479983082161846, 0.36433538562562007], [0.9282590079278206, -0.009155641037996716, -0.012163718237759422, 0.3716227016702211], [0.8760370857454167, 0.30124551362829394, -0.14760432968982598, 0.34644354052907356], [0.700464653632069, -0.01447769536932542, -0.010143621688925112, 0.7134681298333728], [0.6805523943777347, -0.017879428114805217, 0.25802183435526255, 0.6855315438059469], [1.0, 0.0, 0.0, 0.0]], [[0.8008233632935867, -0.035175043447186624, -0.014989601241628802, 0.5976788175736644], [0.6521460204136955, -0.03686873095006877, -0.009304071091632858, 0.7571391543156601], [0.6171893093768506, -0.32266486968505464, -0.03289313485397478, 0.7168561780033224], [0.9000883577192955, -0.034285592331763835, -0.021350918008374943, 0.43383128605120375], [0.8568339200283245, -0.12065718242341625, -0.26865987093205346, 0.4232013132887344], [0.9044131240579555, -0.031572572727822684, -0.02087033925162719, 0.4249758847541794], [0.840866025831199, 0.3257486698496738, -0.14802275586182004, 0.40610515195092717], [0.7029257732467011, -0.03541209722665703, -0.009674058932708023, 0.7103152492093235], [0.6879794312568192, -0.03447921898452535, 0.2485758019389185, 0.6809592912327318], [1.0, 0.0, 0.0, 0.0]], [[0.8321117420133515, -0.05398889669909726, -0.02383017283301421, 0.5514593101031738], [0.7599675890357083, -0.05239965186500711, -0.014685803995472875, 0.6476788303323532], [0.7266856902123794, -0.30741911385655146, 0.008055956111169497, 0.6142934947135166], [0.8988031453536571, -0.05224630511894263, -0.03075211311815616, 0.43413999705458944], [0.8503212077282929, -0.1377682979906133, -0.27859502190577395, 0.42468641787275024], [0.8232058071538936, -0.05538435219219044, -0.02347448285710945, 0.5645473596209173], [0.775260971778857, 0.30895779732344586, -0.089844555192939, 0.5435471102045615], [0.6769469604380425, -0.05931089968968034, -0.012837186384971685, 0.7335258935970927], [0.667778345914817, -0.06786581048805802, 0.24400066895194644, 0.6999499882456409], [1.0, 0.0, 0.0, 0.0]], [[0.8368684492736994, -0.06205533517367929, -0.02408128837508469, 0.5433419048232078], [0.8946865773158612, -0.05951330312112488, -0.03173760018066811, 0.4415731194912284], [0.8572784715530256, -0.30257392458820087, 0.05172690744974375, 0.41333638772395503], [0.9104111885019393, -0.054429597581392576, -0.03470737501770279, 0.40863710658357366], [0.852172543825001, -0.15483539104670627, -0.3084127888829311, 0.3933312965982909], [0.6474258654268124, -0.06705264848460177, -0.005608293940500549, 0.7591523155115979], [0.6326937318714666, 0.23708983778007223, 0.018118263335736608, 0.7369930657785545], [0.6690473521380258, -0.0671994993370366, -0.00695222628732716, 0.7401429148722548], [0.6606344965334102, -0.0778518068595876, 0.2515139367430489, 0.7030233977491492], [1.0, 0.0, 0.0, 0.0]], [[0.8111066635874273, -0.07154654560061828, -0.02054020894427221, 0.580142372106379], [0.9354957783787377, -0.06367586799571394, -0.04130086813588073, 0.34509023568014024], [0.8922109166497507, -0.31499349411688177, 0.07357960752551627, 0.3151584049830188], [0.9015216534117564, -0.0690364534351546, -0.03147374188278988, 0.42603060934482645], [0.8520756430520494, -0.15539264593443933, -0.274889030248071, 0.417440109663896], [0.6265802948905952, -0.07520881681541383, -0.0013323216806196134, 0.7757183721215964], [0.6176916253801783, 0.1884428670824111, 0.02482978037924614, 0.7631053818361344], [0.6724327881410289, -0.07165078738607286, -0.004558735788618508, 0.736667854618245], [0.6629486369914318, -0.0792941216589572, 0.25529835260140515, 0.6993098727606709], [1.0, 0.0, 0.0, 0.0]], [[0.8188249050306616, -0.0701342297352763, -0.024165704383539825, 0.5692301673774985], [0.8459957973940333, -0.06578293157853068, -0.03218059982831016, 0.5281364650346142], [0.8051647605471408, -0.3518911965061099, 0.03443793151076121, 0.47612637300177346], [0.9100748518733097, -0.06535477499587028, -0.03653343014004249, 0.40762461389765864], [0.8588797607253891, -0.15529757366687524, -0.27486783292644323, 0.40330620457885447], [0.7713736650527925, -0.07279043317871234, -0.01670911126033463, 0.6319849897755228], [0.74078004331026, 0.2553521928011005, -0.044609793637629014, 0.6197177997899748], [0.6619271192529527, -0.0776693817830145, -0.006067260029672384, 0.745508648029427], [0.6556019185456765, -0.09211260244888222, 0.25150650471943586, 0.7060069907253997], [1.0, 0.0, 0.0, 0.0]], [[0.8443079937137559, -0.04136293528993006, -0.03569037126776693, 0.5330659590838853], [0.7369592063159932, -0.04523577206673197, -0.023499286377116544, 0.6740123416462005], [0.697436298481607, -0.34496810284732965, -0.006900538373489057, 0.6281178234601731], [0.9311865323088034, -0.032398658869559296, -0.0446519718642645, 0.3603445162046906], [0.886250728956533, -0.13449978041925975, -0.2800357827260184, 0.3435831993625576], [0.8948672262408608, -0.037839324480450465, -0.03837903849389791, 0.44306645362421077], [0.8137262564814804, 0.3603979968201832, -0.1681938791223396, 0.42387932531136147], [0.6746561875610961, -0.0497071490902158, -0.02621138062934151, 0.7359899397684414], [0.6650186076308988, -0.059793101987840276, 0.2327079085890382, 0.7071223838484029], [1.0, 0.0, 0.0, 0.0]], [[0.8423059802741695, -0.010014698861813835, -0.041305440006665535, 0.5373213210239599], [0.6570493397356527, -0.019933822190351957, -0.041717052841070995, 0.7524283988447549], [0.6169333182925486, -0.3659906987160118, -0.06805903806415017, 0.6934061267191782], [0.9467295387557306, 0.00021029749567561616, -0.04257614125853135, 0.31920277006607917], [0.9066128963122017, -0.11396120135881134, -0.2729904132297865, 0.30090220190269135], [0.9608783367951876, -0.002563531536848805, -0.0396268673364865, 0.2741093970823872], [0.8523402821237102, 0.3860551375870283, -0.26284984293778235, 0.23534535108966512], [0.7143248706308819, -0.015539342150259218, -0.03745110211476543, 0.6986386211727065], [0.7002370293605409, -0.009863655058356336, 0.2212503345812121, 0.678689251770585], [1.0, 0.0, 0.0, 0.0]], [[0.8730505627943892, 0.007494599406866523, -0.03508026541552821, 0.486308462565178], [0.7790885326949392, 0.0024327156329527855, -0.0343295300291897, 0.625968548320018], [0.7420135355337164, -0.32699938815088825, 0.004032019910157267, 0.585210266527462], [0.9609420243436563, 0.016177796941555682, -0.03110186062066979, 0.27452027065840956], [0.9255727218536255, -0.10931862777003562, -0.2551382987026879, 0.2574277038666303], [0.9333751507361027, 0.012097515512865066, -0.033382107880572366, 0.3571415867414821], [0.8500622966606467, 0.3611121949753361, -0.1872335122803597, 0.33456790987074947], [0.7376387058100476, -0.002920159544110148, -0.03754388148164504, 0.6741446946482685], [0.7200588349449198, 0.00710436331663026, 0.22021873976344106, 0.6580034262043261], [1.0, 0.0, 0.0, 0.0]], [[0.8917841408298727, 0.023177659199924854, -0.021614660342956914, 0.4513498075069895], [0.9360777367308001, 0.029511690720625306, -0.020255177312840527, 0.3499675109203402], [0.9147935060367165, -0.19850788883191905, 0.08445572976499317, 0.34148892968061], [0.9789352401139336, 0.029815244496879074, -0.01670381140919629, 0.20129041095658942], [0.9448935663073487, -0.12137004319518668, -0.24432101518253016, 0.1809770772942162], [0.8122860066999218, 0.01906617113673717, -0.02140342804991564, 0.5825545619986091], [0.7703419053846307, 0.30434856799417986, -0.06508672995502754, 0.5565150631852026], [0.7691502696420636, 0.017380451609508477, -0.027290687468758595, 0.6382483850264509], [0.7449097753359392, 0.04048500952163971, 0.2303770254902218, 0.6248174267250164], [1.0, 0.0, 0.0, 0.0]], [[0.909293522849705, 0.04353287806782486, -0.012500731033561491, 0.4136833445454766], [0.9913375067001616, 0.03986814296423206, 0.0027666886273181833, 0.1251112481758934], [0.9664094380477859, -0.16537550634132608, 0.16612893674008927, 0.1053798668253115], [0.9844608089501061, 0.04518786139222536, -0.00315973656867367, 0.16966139481012188], [0.9497090200166654, -0.12052335775424272, -0.23901777144312666, 0.1624727745469658], [0.7522667960036652, 0.0387220620450548, -0.02833103139544869, 0.6571092924327193], [0.703265111956869, 0.29415611675829567, -0.04415868395120553, 0.645709200731777], [0.7863349925098057, 0.04299695330236029, -0.019755063086170435, 0.6159856159390249], [0.7551935784709175, 0.07320647388683761, 0.23783219415897996, 0.6064316273405199], [1.0, 0.0, 0.0, 0.0]], [[0.9320402188210265, 0.05082720782668115, -0.016356196559634554, 0.3583993586471644], [0.955542625206829, 0.055108562251536104, -0.009663172332419668, 0.289496046397674], [0.9003476834700498, -0.28388857490902136, 0.17439990771187638, 0.2799392757301641], [0.9862940254385609, 0.05626627897880261, -0.002733086927820258, 0.15508298252846395], [0.9624614447539434, -0.0961382586544855, -0.2124349123385398, 0.13891296053555402], [0.8927632263596887, 0.04410143884324589, -0.021611189486159046, 0.4478413125659445], [0.8308044943848953, 0.35023860656348405, -0.1241725241938086, 0.4143404334815337], [0.8075294465053307, 0.04277499513189547, -0.03300873112660574, 0.5873473559042145], [0.779183470595146, 0.08123317547423897, 0.2199753862097536, 0.5812788657912349], [1.0, 0.0, 0.0, 0.0]], [[0.9356917612081189, 0.025018775162860933, -0.011643915303954783, 0.3517376979127956], [0.8576690465785917, 0.02497817051604103, -0.02006302857449362, 0.5132030518450373], [0.773296263548084, -0.42910210980006924, 0.09285693543872749, 0.45745148123995544], [0.9955719702267408, 0.026127504701506588, -0.004787944135960368, 0.09017139894594797], [0.9661176274035898, -0.1430125673104582, -0.20192221655559936, 0.07342720253832123], [0.9682365746717353, 0.023216798167970617, -0.0054968501872567285, 0.24889495854434635], [0.9094872976441127, 0.30028106923803904, -0.16827389001413776, 0.23312664545430906], [0.8359861618614932, 0.021615567998975137, -0.01672872262824341, 0.5480693881575565], [0.8065363730642805, 0.07463732603164926, 0.24119907517233877, 0.5345571574894211], [1.0, 0.0, 0.0, 0.0]], [[0.9315304340301942, -0.000566904425652219, 0.006475123948614611, 0.36360528305394596], [0.7948187134830108, 0.0046855631196527255, 0.010845932258843975, 0.6067319209905639], [0.7220934106443211, -0.39025313319559174, 0.06415742336959948, 0.5675979416467695], [0.9934259309255453, -0.0013418022097851682, 0.0028378605295853645, 0.11443367458557899], [0.9541515127240976, -0.17213813991516147, -0.21722021416880968, 0.11304304538237255], [0.9965512225860678, -0.006233186283140507, 0.00546877394907758, 0.08256452423690874], [0.9352745080923235, 0.2609500713930456, -0.2318736948652165, 0.05832018846145325], [0.8309464134225354, 0.0015313556189301698, 0.005484194684197424, 0.5563233201824809], [0.8016678496047666, 0.0528710350858044, 0.2577521468219979, 0.5367468149581104], [1.0, 0.0, 0.0, 0.0]], [[0.942666734433553, -0.00980537791149239, 0.02125611364959792, 0.3329135923763245], [0.8775197200547243, -0.0071836999764050705, 0.018457172617983537, 0.4791313683622449], [0.8293626195287253, -0.3011743592410071, 0.10155053839288908, 0.45949879087581297], [0.9874382993489044, -0.015662870086675103, 0.020420913229097077, 0.1558950473314687], [0.9520295418451401, -0.1735588826101234, -0.19620366060295613, 0.15818087522598298], [0.9734975994330937, -0.00854794500961848, 0.023276836901954093, 0.2273489507298338], [0.9356306268079967, 0.25078704008136965, -0.1357931902804649, 0.2079937503377309], [0.8175253132775133, -0.005758637707073067, 0.02338452548745803, 0.5753888808536266], [0.7808590696763422, 0.038532220494815944, 0.2898344266084449, 0.5520601293704248], [1.0, 0.0, 0.0, 0.0]], [[0.9229220815414364, -0.009407417935217157, 0.04102371532470619, 0.3826792216360482], [0.9789846578203649, -0.008830991403212356, 0.037819001918966186, 0.20020183924487905], [0.938352378906563, -0.21844838528667682, 0.17923164445431053, 0.1991259239582869], [0.9916818359678566, -0.022010647223803335, 0.03751673287966191, 0.12114108458424205], [0.960978539557441, -0.1821649197679673, -0.16525429641482778, 0.12659860201604922], [0.8465691685805878, -0.009927803556237751, 0.04078763571978999, 0.5306208159295213], [0.826113081299428, 0.23513373420399825, -0.016376100894066277, 0.5118409198811245], [0.8432911915354913, -0.0008854824769391103, 0.04321816699217703, 0.5357157569469753], [0.809185469772476, 0.05617050837928903, 0.29268877396457593, 0.5063566244186236], [1.0, 0.0, 0.0, 0.0]], [[0.9189444593439344, -0.00503762786621538, 0.04932747851375097, 0.39125759137688493], [0.9902417369562938, -0.016546815822055645, 0.045390894984964826, 0.13071790974612882], [0.9456270401667832, -0.21991968509043383, 0.20288064113409957, 0.1275314803025126], [0.9894993852361448, -0.018152275999561145, 0.04580012386378705, 0.13588160341778727], [0.9613697519157152, -0.1734105257700239, -0.16109629475167772, 0.14051680849976952], [0.7787486953657465, 0.010894446318937356, 0.05256312518713359, 0.6250351177142873], [0.7556390103167686, 0.28220193358361506, 0.023411676904172406, 0.5906129427583671], [0.8397401075306843, 0.0010964491827360437, 0.049807933974761555, 0.5406981776524777], [0.8009725738472141, 0.055539637880795835, 0.302722719263825, 0.5135340687920859], [1.0, 0.0, 0.0, 0.0]], [[0.9167981220821059, 0.006081666404423232, 0.03122246379807829, 0.3980821202149715], [0.9200909968556709, 0.010345194994982012, 0.03157226939606421, 0.39029312862364846], [0.8711944095550377, -0.27658914670876156, 0.14805568723825682, 0.37762184544776545], [0.9854747101094528, -0.004462326513238624, 0.03132388579222732, 0.16684872656287955], [0.9560592336041605, -0.1566872784182995, -0.18183735474687696, 0.16833007764731192], [0.8893416985331444, 0.006028291549775849, 0.032396228503162476, 0.45605425919504755], [0.8482208228034196, 0.31004543816095237, -0.06640379791435315, 0.4242449736423789], [0.8478678820861932, 0.009263533954879796, 0.02816505857286808, 0.5293779093813104], [0.8118187536154964, 0.06528157347131376, 0.2778417884528528, 0.5094041303646956], [1.0, 0.0, 0.0, 0.0]], [[0.9053024874744657, 0.010967477875485953, 0.015322852757859714, 0.42434930279777366], [0.7639199474191835, 0.018428864050145308, 0.00633150011919593, 0.6450167463028647], [0.7075105272021048, -0.3707709114591748, 0.034544796073071454, 0.600636697328928], [0.9788131768388211, 0.007782677016330124, 0.018624874327307344, 0.20375796632634072], [0.9507596625589353, -0.1337623889918676, -0.19638421595646716, 0.19898976623226522], [0.9631543054090549, 1.4808943378181252e-06, 0.01679577961607192, 0.2684244507434004], [0.895867275578863, 0.32873142002151745, -0.17262526858403762, 0.24404506691148417], [0.8828537130282346, 0.013424794491255422, 0.014968528459536692, 0.4692174756345756], [0.8469741853011699, 0.08892601415150655, 0.2613024626699489, 0.45436539969848655], [1.0, 0.0, 0.0, 0.0]], [[0.8844859151230292, 0.009163132956537094, 0.008015070344106699, 0.46640804194479474], [0.7283920887226084, 0.011517494174995487, 0.010702674678983917, 0.6849801202728152], [0.6683878963245484, -0.3798767153725463, 0.024591490501710465, 0.6390199994988531], [0.9690630091323272, 0.009211279070834395, 0.006731917954063848, 0.24654962573473496], [0.9388767073825152, -0.1219835652436705, -0.21762216262900871, 0.23721537150379537], [0.9761020580927335, 0.00677831790568027, 0.012874969685206154, 0.21682495647204542], [0.9087493296869529, 0.31814547512729946, -0.18366449019388298, 0.19805420341754915], [0.9088225322718901, 0.007956429963594178, 0.005703330653362194, 0.4170680664790845], [0.8766758003100853, 0.09749494567517004, 0.24615545831486813, 0.40167370720556816], [1.0, 0.0, 0.0, 0.0]], [[0.8786584406302197, -0.0003307730534979975, 0.006001339234437011, 0.4774130488642419], [0.8543447882519344, -0.0016150815450370712, 0.0041422935009995734, 0.5196876135746471], [0.8010596711791529, -0.3262646878248252, 0.0802366080951098, 0.49539564330977764], [0.9623218496806707, -0.0011621720442570932, 0.0054097643558107, 0.271856656039404], [0.9301949332306348, -0.1269350733363585, -0.2209007048691376, 0.2642494123691978], [0.9102160379797553, 1.801375742040137e-05, 0.005257214505795344, 0.41410038103771574], [0.8532184565366222, 0.335028051811643, -0.12247850366811051, 0.3804911116751347], [0.9060939954884671, -0.0012081166810453707, 0.007101385767769207, 0.423015108611983], [0.8750461179634457, 0.08715314885952023, 0.24982406612510877, 0.4053227800971606], [1.0, 0.0, 0.0, 0.0]], [[0.8871438785435688, 0.00014874532647735463, 0.011586939284757897, 0.4613474390039605], [0.9617427040112451, 0.004585439853225614, 0.006076317846888164, 0.27384854095633704], [0.9311531247615155, -0.21647438963892326, 0.12862941896582997, 0.2637179733234622], [0.9548122191550895, -0.005401050400448582, 0.013473825305479099, 0.29685503337208613], [0.90797104813545, -0.15335098942730035, -0.2652882146254737, 0.28582199525282964], [0.7731266319664909, 0.0019922857272673144, 0.01306496615113199, 0.6341139869149716], [0.7433995585611698, 0.2797789642498422, -0.0133632231659388, 0.6073732392532294], [0.8890123594079661, -0.0002435067119091058, 0.012877935920697374, 0.45770200380901166], [0.8559283556048163, 0.07904188633865263, 0.25915691051922946, 0.4404278896775164], [1.0, 0.0, 0.0, 0.0]], [[0.8936818881323324, 0.0019990203191979587, 0.011755387226444427, 0.4485426374528394], [0.9800269855360761, -0.005137371807982592, 0.016754888178907603, 0.1980908598448965], [0.9425547028135239, -0.221859321889886, 0.16058653300906914, 0.1912617026767161], [0.9454423971331997, 0.0021655640926404743, 0.009538319637611347, 0.32564244885100724], [0.8850418871884729, -0.15535542923331266, -0.3144272301057667, 0.30610629770982273], [0.7441156417012689, 0.005245409315358593, 0.006760706402918664, 0.6679960256659893], [0.7161311212503492, 0.26524279678317586, -0.008730692631504595, 0.6455433764957479], [0.8670468089512541, 0.002563276604871123, 0.009427621393344675, 0.4981308870722217], [0.8362132994959505, 0.06850784452268871, 0.25784214491418267, 0.47913611979374376], [1.0, 0.0, 0.0, 0.0]], [[0.8982082878250867, -0.003963416330235588, 0.0034441708338433107, 0.4395387362913385], [0.9096205203215215, -0.002196601565314961, -0.0008816899094522483, 0.4154333960750764], [0.8613896827083861, -0.3132601978806349, 0.11248599158880015, 0.38369618794511867], [0.9403364583198123, -0.002880710057192249, 0.004363048867364507, 0.34020583544186755], [0.9009150817915408, -0.12384141883927285, -0.25656418700978173, 0.32739904753133714], [0.8751025459009966, -0.007418146381848285, 0.0047930130639619855, 0.48385693369798916], [0.8245752530835567, 0.317107842685219, -0.08901273896104066, 0.4599945656335176], [0.850404623488957, -0.004494476566226973, 0.0033754327650569902, 0.5260992135354792], [0.821175042217645, 0.05401007872195144, 0.25394749723853016, 0.5081979241216793], [1.0, 0.0, 0.0, 0.0]], [[0.9033858251477747, -0.0018114600308430805, -0.01928895772468655, 0.4283908328203653], [0.8100832429730783, -0.0008331951526930464, -0.019944188447396528, 0.5859749777825268], [0.7705796849552382, -0.3213744181063837, 0.031958653932190245, 0.549457984708487], [0.9379776324466739, -0.0005616487902661481, -0.022123967427902548, 0.345988692944752], [0.9020712283509734, -0.10754857871198029, -0.25629595613372763, 0.3301714479901271], [0.9475737335644588, -0.005995702262700966, -0.017179123341927102, 0.3190187278739166], [0.8938826271291523, 0.2853363216086738, -0.16090165391187777, 0.3060517770834516], [0.8532492139049997, -0.00209191199535479, -0.018212644702417794, 0.5211810649358315], [0.822141872586765, 0.06581368816567822, 0.2563562019106713, 0.5040166639422687], [1.0, 0.0, 0.0, 0.0]], [[0.889413675316581, -0.005848529069904392, -0.024502406015404935, 0.45640852420504374], [0.7242459044733642, -0.00967229088067073, -0.022798607973166185, 0.6890969018339612], [0.6788426852262339, -0.3602561321533825, -0.01468362096488094, 0.6396659434705594], [0.9408351857958588, -0.003209597581851124, -0.026270333450285455, 0.3378294262379247], [0.8977263211508555, -0.12174243031800559, -0.27724080894193814, 0.3200058856184315], [0.9827438790839839, -0.0015033733836923844, -0.02496352815577966, 0.18327310291870186], [0.9240805938895074, 0.27082096962653424, -0.22088862764840647, 0.1547232128123082], [0.8552817912067893, -0.00770113005796102, -0.024016550231975367, 0.5175489885420428], [0.8311213179862337, 0.05598237479856775, 0.23508905188733445, 0.5008357676758448], [1.0, 0.0, 0.0, 0.0]], [[0.8925519390709616, -0.012770599635491608, -0.027198086883964, 0.4499424540043632], [0.7996732197064362, -0.01902438505875076, -0.025306757180942423, 0.5996001855390499], [0.7565469622652816, -0.3395233219735613, 0.020256791127880838, 0.5585250846080357], [0.9416299077537004, -0.006987836334464716, -0.02476773951196999, 0.3356647822554333], [0.903564016633051, -0.11753613024160353, -0.258596471039482, 0.32075721519507944], [0.9568102543445447, -0.007162809394717184, -0.029160038736359712, 0.28915830177187785], [0.8935123193504915, 0.29503070917121166, -0.1894708203068468, 0.2805234822026274], [0.8475361675314312, -0.017629385018203002, -0.02872980680438987, 0.5296661662887255], [0.8271984890760079, 0.03974702773400685, 0.22354901658026163, 0.5139928702255312], [1.0, 0.0, 0.0, 0.0]], [[0.894890013009818, -0.015230860170709494, -0.02653724382946139, 0.4452366339416424], [0.9279555199886083, -0.01075604044415253, -0.026990308234183934, 0.37155670331466106], [0.8997250693749452, -0.24161314469645215, 0.0737712956908467, 0.35591527612654544], [0.9446162850348621, -0.01164051986974253, -0.027326891728329604, 0.32682994558725226], [0.8944020903872337, -0.13991956147049822, -0.2909132612401436, 0.30957534052872226], [0.8464045081699321, -0.01839454808157181, -0.02529158763364209, 0.5316214675363102], [0.812206651070635, 0.25844171403873234, -0.08785818829153162, 0.5155668483828995], [0.8414552941343241, -0.017742960231958673, -0.02567369473143685, 0.539424727588903], [0.8209799108895736, 0.038277352503468455, 0.22658787664749158, 0.5226707992201729], [1.0, 0.0, 0.0, 0.0]], [[0.8940645695689335, -0.008379573386196291, -0.020758911475417436, 0.4473783586470613], [0.9878931847103437, -0.0076616383461234104, -0.021421862221683814, 0.15345832893545786], [0.9619996142211286, -0.21117810995506145, 0.13796275263465715, 0.10453146416116162], [0.9444572869947755, -0.00396864603964888, -0.022467471782713088, 0.3278412658631816], [0.8942736910505681, -0.13614664308482272, -0.294379068239534, 0.3083498358260479], [0.7161668832853373, -0.014658969115958525, -0.020164983629077947, 0.6974836796263139], [0.6709668200410752, 0.24276782417697795, -0.017545635688892638, 0.7003995007255617], [0.828869602676943, -0.009202693360192204, -0.01799311753315332, 0.5590766851823846], [0.8054893717464756, 0.04038789526457619, 0.2374554450630762, 0.5414523077145962], [1.0, 0.0, 0.0, 0.0]], [[0.9015568883837487, -0.011586337000192928, -0.023671213382796583, 0.43185716094527943], [0.9304041185747928, -0.009688766834141091, -0.025233651790964155, 0.36553736710983314], [0.8777559020561634, -0.3260211874867477, 0.1138720180178575, 0.3320962589789937], [0.9440542137641779, -0.005391932472483918, -0.01911763301839158, 0.3291915622340375], [0.9065114336110072, -0.11755963558915657, -0.2538904870740552, 0.31615877875833254], [0.8589687962390326, -0.01507441726590811, -0.019319324545931053, 0.5114412309648585], [0.8050124123104345, 0.32277065929703685, -0.10112595372138292, 0.487388611897151], [0.8041424321681261, -0.01992446219322446, -0.02837514949305275, 0.5934246502162581], [0.7863568699288468, 0.017479436882091116, 0.22435618892331413, 0.5753274223377484], [1.0, 0.0, 0.0, 0.0]], [[0.9079977774935287, -0.005339244215203025, -0.032382757443890756, 0.41768754537136105], [0.8147900605902431, -0.007482588578223757, -0.03450024632837037, 0.5786803098730756], [0.7691737998318884, -0.35171960818729825, 0.02435237146296492, 0.5329840005787014], [0.9437495855077308, -0.0009629434510351226, -0.03346617996598488, 0.32896171113426087], [0.9054552650570977, -0.1128490842865404, -0.2658823519562728, 0.31100228628463655], [0.9534349651247565, -0.009470822247078564, -0.03609006226412007, 0.29928177059301564], [0.8896152713472433, 0.2923749221375231, -0.19552244073726255, 0.29132893618552835], [0.8019297430207599, -0.0073625514709618435, -0.02535601184377534, 0.5968346108913875], [0.7787695642316237, 0.03259187961118536, 0.2318102883874248, 0.5819963276582042], [1.0, 0.0, 0.0, 0.0]], [[0.8942419643302543, -0.006469719516932329, -0.030583680882314765, 0.44649086264315574], [0.7326296818500945, -0.01281133156692317, -0.028707911717356555, 0.6799010772609058], [0.6782791051260185, -0.3713308780104309, -0.018085520072145596, 0.6338168099294701], [0.9457951678163746, -0.0032566684263028293, -0.03142154728218698, 0.3232237321304706], [0.90583516552739, -0.11879938340121217, -0.2645914072218103, 0.3087729693833962], [0.9852376507712436, 0.0013373473458730743, -0.02936332533994046, 0.16864986845479024], [0.9225007792910975, 0.27560564462549064, -0.23089701147051048, 0.14042938065758437], [0.8108357621052588, -0.012313615772175716, -0.02979060680673138, 0.5843853707134412], [0.7912117573195935, 0.029033718833311222, 0.2258544777565068, 0.5675656377259679], [1.0, 0.0, 0.0, 0.0]], [[0.8967394266323858, -0.007284283945241817, -0.02480482949568981, 0.4418031918899127], [0.8308106400067203, -0.010591766017449966, -0.023164968922346606, 0.555972012927883], [0.7804446855154167, -0.35408010828480824, 0.0466867234076806, 0.5131800070396506], [0.9474215589650108, -0.003388965031217046, -0.02725923644892923, 0.31880689853349625], [0.90972585876959, -0.11761771343592882, -0.25809373059880336, 0.30323680778828266], [0.9452729763113001, -0.00202489912242063, -0.023778236090000175, 0.3254066617750294], [0.8810727996288313, 0.3111376143597273, -0.173130358609892, 0.31133580843256825], [0.8069052909505826, -0.014504980892156176, -0.023007482301699064, 0.5900543303149388], [0.787205547848894, 0.02338867482311653, 0.23045111683143593, 0.5715353690517195], [1.0, 0.0, 0.0, 0.0]], [[0.8994336692825821, -0.004350825989663403, -0.016314302440120877, 0.4367310252431932], [0.9508474413910212, -0.002192632645376095, -0.0168649195267289, 0.3091923512177948], [0.9141826626085178, -0.25628330622608747, 0.11462524196707913, 0.2923182858457798], [0.950684395425193, -0.002596736424531831, -0.016074292449486136, 0.3097322301234164], [0.9057100400426836, -0.13485108414531843, -0.2738888168093413, 0.2940908439538564], [0.8164153189071466, -0.008008029545757817, -0.017769222023512356, 0.5771361652722998], [0.7816010437785418, 0.26925062867119454, -0.06489096722216038, 0.5589213448218211], [0.8054704278407703, -0.0052734707622877006, -0.013515503279429733, 0.5924583627152457], [0.7809782398834237, 0.035059082805893586, 0.24306274679180023, 0.5742511216039756], [1.0, 0.0, 0.0, 0.0]], [[0.8947947589909019, -0.0002979008000051977, -0.0052672645181704985, 0.44644653259043543], [0.9859341983854166, 0.0029886313899764065, -0.006224932658339816, 0.1669912415365542], [0.9567741486670871, -0.2049171377713175, 0.14468161836456275, 0.14717141161717773], [0.9544703769364082, -0.0009822510437748025, -0.005457010595180488, 0.29825417980159447], [0.8968298363322961, -0.15871011662776008, -0.3023460606719746, 0.28123691638959586], [0.7310444051602111, -0.002076518539845119, -0.004021654419769794, 0.6823148774945736], [0.6964676162002639, 0.255126440195864, -0.00909259284295587, 0.6706419938034752], [0.8018494663961375, -0.0017228144610221788, -0.003981371354046383, 0.5975103462139411], [0.7754452245665144, 0.03461457542253504, 0.25274466447549965, 0.5775869366982539], [1.0, 0.0, 0.0, 0.0]], [[0.906411715620108, -0.0009522096432537782, -0.00896151833927192, 0.4222991667911065], [0.9107599309400283, 0.0029602587324048775, -0.009863290861767942, 0.41280782521135456], [0.856729779059872, -0.32978243995751744, 0.11607484893600804, 0.3791889468486286], [0.9556201392914827, 0.0014138510336711768, -0.0095431665933431, 0.29444367606921623], [0.9173842904187232, -0.12558779325792455, -0.2523370699182832, 0.28099781675770374], [0.863441689180388, -0.004972725735975367, -0.005505496084764627, 0.5043941027578872], [0.8103875713876618, 0.32611595148515743, -0.09167258128647125, 0.4780340031499986], [0.794790647353378, -0.0056818506346695795, -0.010693408762333592, 0.6067628815789617], [0.7707889718616004, 0.02714426646067879, 0.2447782328673716, 0.5875637551527285], [1.0, 0.0, 0.0, 0.0]], [[0.9128176095900589, -0.00036979310799344767, -0.02122678187549266, 0.4078152751020471], [0.7883967798306437, -0.0008027331008419328, -0.022394818109296333, 0.6147587700017723], [0.748014297775267, -0.3267184690250183, 0.01819003940916004, 0.5774069403704946], [0.9568139175429367, 0.0006708823940868144, -0.024164353674009723, 0.2896942545589558], [0.919341984947578, -0.12251547132633299, -0.253449231152283, 0.2748886342260265], [0.9548441213412213, -0.0025319808038795403, -0.019410794899838206, 0.29646165697215643], [0.8990700616015237, 0.2869747257294791, -0.17115616944076145, 0.28288530677058527], [0.8004488062936231, -0.00226951635490385, -0.020266226930553296, 0.5990541192952669], [0.774061760063359, 0.038482331582312825, 0.2496521709269769, 0.580535352338728], [1.0, 0.0, 0.0, 0.0]], [[0.9000758082533364, -0.003730403044723635, -0.01575700022570283, 0.43543236034327315], [0.7476422658745104, -0.00516972622370869, -0.016145667368879645, 0.6638852563764415], [0.6928129716587704, -0.3578159750159796, 0.00046010561468854425, 0.6260812268608054], [0.9582889773170307, -0.002603777011872115, -0.01641692614926596, 0.2853172634695657], [0.9136793761626745, -0.1397086438231157, -0.2676855040813364, 0.2720587497597026], [0.9860955600688287, -0.0012878700828094065, -0.014955110169157553, 0.1654999470786057], [0.9235931561605258, 0.27816026179083836, -0.21795065400040411, 0.1486608996161638], [0.8033602977096872, -0.0072424079229186965, -0.016066731120900082, 0.5952324249756303], [0.7800439654475613, 0.030583800385681283, 0.23873463574934295, 0.5775827359058103], [1.0, 0.0, 0.0, 0.0]], [[0.9126934217823093, -0.010599240918418535, -0.013011445831273331, 0.4083002280242234], [0.8416967240779613, -0.011952241460590528, -0.010273385288060244, 0.5397205074436388], [0.7887606866357624, -0.34584857273427955, 0.0633528337361219, 0.5042140045785575], [0.9592854767689213, -0.004915295460815431, -0.014833978385403998, 0.2820056152207212], [0.9238095303013801, -0.12529500063789348, -0.24004062411099023, 0.2706614366988771], [0.9519489802494071, -0.008619160937705404, -0.013634903015794115, 0.30583155247062654], [0.8875470863911492, 0.3126145599279102, -0.17823097160192974, 0.2876908533851801], [0.7876924178845274, -0.01669701951899344, -0.008394303315843517, 0.6157851898334769], [0.7667014632926483, 0.013176968268408336, 0.2476000333188015, 0.5921903893113207], [1.0, 0.0, 0.0, 0.0]], [[0.9167113385626307, -0.012818890617612346, -0.003924986420874246, 0.39932517110199744], [0.9580765509534968, -0.012151938765107374, -0.00484666743629402, 0.28621349149203806], [0.9217381533677422, -0.24642856262086837, 0.12314639481755789, 0.27295916470101467], [0.9670402030710187, -0.013259602499307112, -0.006267172924299829, 0.2542010053667385], [0.9261285129621663, -0.15135427799909126, -0.2425079723608276, 0.24610514694191257], [0.8335624403987558, -0.013355466900467737, -0.0006557486668994255, 0.5522633968081058], [0.7969923941698083, 0.2882614424663328, -0.06090697211746806, 0.5272559199953926], [0.781352670926096, -0.01146318817447733, -0.0009974377853891453, 0.6239836568944707], [0.7572153008249314, 0.019224486882974075, 0.2559782943099773, 0.6006084582678216], [1.0, 0.0, 0.0, 0.0]], [[0.9091283771513661, -0.007253079086124925, 0.007178635368792232, 0.4163909868094358], [0.9907227409391511, -0.009033861560652117, 0.004628952413631374, 0.1355190493283904], [0.9556286646857894, -0.21517891064193898, 0.163432227273739, 0.1173106931790458], [0.9742452896350153, -0.006012958098168382, 0.00669276771334306, 0.22531126651641337], [0.9229300874780133, -0.17439791616203415, -0.2660486955532272, 0.21680293369923023], [0.7542712509321401, -0.01250494088250987, 0.006080294016924687, 0.6564156735601743], [0.7212908912641728, 0.24659996848039767, -0.011890273170021766, 0.6471371779837288], [0.7879943725033538, -0.001631295663499588, 0.009600812126087292, 0.6156054192289274], [0.7591515213483312, 0.03180399541039737, 0.2644960395468796, 0.5939017751905318], [1.0, 0.0, 0.0, 0.0]], [[0.9111856424746748, -0.006996687476387043, -0.0011252251769787193, 0.4119350739869971], [0.9294624440457527, -0.0031559261672918374, -0.0046187221529636335, 0.3688743317773637], [0.8748227842678211, -0.3183400295674597, 0.1306141871643235, 0.34100536038644486], [0.979086312111578, -0.006110860344606968, -0.002645956083906935, 0.20333629714834545], [0.9422858208199558, -0.1504142687240687, -0.2247330900239485, 0.19740318612969204], [0.8871628214299, -0.009429042140227838, 0.005842123832685132, 0.46132319584644854], [0.8477060584369747, 0.2843275866122221, -0.08407104877191515, 0.43986852665189385], [0.7871377959981603, -0.012482087120822688, -0.0011531829555054601, 0.6166497853574086], [0.7632790027017115, 0.01587257038635688, 0.25468759696864335, 0.5935380809133892], [1.0, 0.0, 0.0, 0.0]], [[0.9181541301434059, 0.009638084745340938, -0.013380399024139136, 0.39588011511694055], [0.8117735617210242, 0.01018534537076322, -0.014815013738027297, 0.5836955187410492], [0.7701260406050041, -0.3179548316877505, 0.03967752835899433, 0.5515761963063626], [0.9871145577096255, 0.012700825657569196, -0.01404583218569963, 0.15889069696982794], [0.9517331657269116, -0.1414937116190227, -0.22841395914533782, 0.14835961072763723], [0.9744071313490292, 0.005068918643045247, -0.011344502918546629, 0.22444676583429907], [0.9248734412363555, 0.26190823375375144, -0.17467617085560286, 0.21331064231030858], [0.7907966331385385, 0.012067204267021663, -0.01568977534373243, 0.6117588565338411], [0.7624504261000928, 0.04874000963325895, 0.24746974975689823, 0.5958628048099621], [1.0, 0.0, 0.0, 0.0]], [[0.9213613478539572, 0.017880587466271795, -0.010899209654594467, 0.38814270378496823], [0.7831495454349409, 0.016791555562104366, -0.014162063001750824, 0.6214453066186796], [0.7379251231868769, -0.3315244039508843, 0.026593669794354107, 0.5872400351487562], [0.9892146790085691, 0.01843388220489674, -0.006136093190351045, 0.14517871462851842], [0.9534192967122157, -0.1455062161862291, -0.22506156767830976, 0.13844448873874268], [0.9922528846623819, 0.0194928682848297, -0.004937687465142931, 0.12259633031909538], [0.9407550340063139, 0.2576291599191858, -0.1921213889258719, 0.10815060734137183], [0.789696397892927, 0.013155623750050324, -0.01703344403741875, 0.6131202088521526], [0.7641378674464362, 0.0442752937935026, 0.23840906466421724, 0.597740860055463], [1.0, 0.0, 0.0, 0.0]], [[0.921649032399166, 0.02044924185506433, -0.009489877118740183, 0.38736911572491856], [0.9150660301668071, 0.01823115790030988, -0.0104091353873343, 0.4027572907060309], [0.8777210851362989, -0.26268628875574535, 0.09801146450613471, 0.3885812183215419], [0.9899405075936831, 0.024607052401094447, -0.0007846510675972135, 0.13932576473859037], [0.960415767001399, -0.13154511005685168, -0.20746750160440713, 0.13135704889068836], [0.9546421552587979, 0.023215782389755458, -0.006779697785484456, 0.2967716606227863], [0.915850590230342, 0.2593155388399174, -0.1306762994443099, 0.27730281724937184], [0.7880936655434407, 0.013054924361186947, -0.015522985110856048, 0.6152210823870352], [0.7601884327669184, 0.04345639577102049, 0.2538872888200989, 0.5964615100151461], [1.0, 0.0, 0.0, 0.0]], [[0.9305548987204558, 0.0257589121414632, -0.001966500478906359, 0.36523990990651223], [0.9931543360875512, 0.026675391276369035, 0.0024911784531432136, 0.113695568254274], [0.9643067149275437, -0.17545400828622218, 0.1627516770470752, 0.1133152334874344], [0.993492558099351, 0.023639213187291994, 0.007976020527791781, 0.11113103840796905], [0.9577064053286712, -0.16025041907051288, -0.21447004458556018, 0.10545541406503282], [0.83071300663205, 0.02223188703183777, -0.007597600454670414, 0.5562049265142067], [0.7956067257697224, 0.2744430424684393, -0.05575070513140385, 0.537199044329008], [0.8051581417827928, 0.026175200000995467, -0.008666513888704486, 0.5924188696883353], [0.7739502214764509, 0.06455401464118342, 0.25175076021781606, 0.5774559624768026], [1.0, 0.0, 0.0, 0.0]], [[0.9402964767841938, 0.02889257129817115, 0.0031572883732872556, 0.3391132356619836], [0.9937295986105794, 0.028259437530781504, 0.011471270481377235, 0.10756997252599743], [0.9573374022639445, -0.18882283663477123, 0.18161865291501195, 0.1219249749028384], [0.9960783087150753, 0.02713206161722938, 0.010042688532889456, 0.0836121913762889], [0.9553321533446869, -0.17468333911852513, -0.2269228588440009, 0.07302207853979319], [0.8276186671246974, 0.028073057747457473, -0.002984245500519396, 0.5605803595687597], [0.795952247076121, 0.2910138886354687, -0.056056700249442405, 0.5278528046272754], [0.8298639425837551, 0.02805432786704869, -0.005961152173403589, 0.5572281903780889], [0.7969947703867223, 0.0761571334969858, 0.2473000874343157, 0.545749112458021], [1.0, 0.0, 0.0, 0.0]], [[0.944742927913715, 0.016851014056647868, 0.001024672093252344, 0.3273771426495522], [0.9413624323573669, 0.018495657742518743, -0.0010806278008103397, 0.3368879841051766], [0.8929387975194772, -0.2874261047670871, 0.14530751585635068, 0.3145349964925142], [0.9973280377938544, 0.018472535884064382, 0.0031467089874725185, 0.07060912597405732], [0.9656967931423829, -0.1547391629050322, -0.19819858148856878, 0.06482914062276858], [0.947635252147534, 0.013230294377445315, 0.0019102025537600588, 0.31907481775309343], [0.9015859619590941, 0.2720934055882436, -0.12648043153269503, 0.3116257888445529], [0.8426717033619182, 0.018136456524924755, -0.002769693066408432, 0.5381150416947672], [0.8113476994883397, 0.07412297339265095, 0.24965199148825706, 0.5233493847291295], [1.0, 0.0, 0.0, 0.0]], [[0.94447014467687, 0.0033092235280382885, -0.006136193305441502, 0.32852327464794945], [0.8282271734391004, 0.006821299540786234, -0.007229304505591887, 0.5603043424836351], [0.7851153237978954, -0.31141266240697735, 0.0543966212777602, 0.5325946766762578], [0.9973438994619456, 0.0019366532382875988, -0.007881772024193018, 0.0723828242750583], [0.96050428694282, -0.17191408137359143, -0.20803577615837315, 0.06780987559435929], [0.9971112049812633, 0.002893802028512205, -0.0032538326328240734, 0.07583062299513647], [0.9564604988225991, 0.21470722631928862, -0.18470629499208968, 0.07048195335401879], [0.8393595283646169, 0.0016387213409309194, -0.006606475058693025, 0.5435340386978476], [0.8080225699426588, 0.05983469553084353, 0.2640323200236722, 0.5232650090125551], [1.0, 0.0, 0.0, 0.0]], [[0.9430155557483395, 0.006353404156633328, -0.00079278495326631, 0.3326870411727679], [0.8399386084365377, 0.008358979888577306, -0.002325502628374856, 0.5426120654302119], [0.7993913180889233, -0.31417820625674514, 0.0700561811356478, 0.5073043531865632], [0.9968761778338413, 0.005302414608359554, 0.0002706111680487611, 0.07880163219317553], [0.9543689091997095, -0.18511999855360023, -0.22229684565233698, 0.07412613372821016], [0.9946131005560171, 0.004714708766931361, 0.0009549858113502243, 0.10354535105782915], [0.9397113477884831, 0.25747298119494727, -0.20043742092781058, 0.10234787288432914], [0.8389726951319935, 0.005653701509244237, -0.002091925619735, 0.544140125638061], [0.8076164244280813, 0.06032252830965988, 0.25774676653830286, 0.5269568368579927], [1.0, 0.0, 0.0, 0.0]], [[0.9396399519624362, 0.0016567977343935883, 0.007815905598576848, 0.34207152368616145], [0.9462364584288079, 0.002184494790618511, 0.011516880610331594, 0.3232632892606644], [0.9030665104430152, -0.25173630885123355, 0.1355611391409559, 0.3205041124182936], [0.9962365433448093, -0.0006983339145546377, 0.006962354633164683, 0.08639321531284423], [0.9640463021313258, -0.16529597219521147, -0.1903683226901175, 0.08397541687367761], [0.9486214209254163, 0.002941636243043774, 0.0071525455688624005, 0.3163188069488487], [0.9118584938194885, 0.257499257577721, -0.12244123162513429, 0.2953241683206717], [0.8452374057664636, 0.001318662132694793, 0.006090659932236994, 0.5343546508499277], [0.8154572627716019, 0.05709092346399636, 0.25865641784882304, 0.5146522481799628], [1.0, 0.0, 0.0, 0.0]], [[0.9494359477301965, 0.0020449817738057577, 0.01690401782143536, 0.313498729484987], [0.9993704714846986, -0.00015742901580107738, 0.013543099308764454, 0.03279055354319532], [0.9640181599977778, -0.18413754916079864, 0.19121519827335715, 0.014110213777052925], [0.9951227082527588, -0.0034917793895870024, 0.0160949063140434, 0.09726025389197407], [0.9634660945529981, -0.166767686562627, -0.18500112913353575, 0.09846931290843569], [0.8082807598471771, 0.0044491203639927855, 0.01800813383868433, 0.58850499208121], [0.7836203998908038, 0.2572676696192243, -0.021452181680113522, 0.5650594826607496], [0.8504887566252223, 0.010294926408449083, 0.01623074095270706, 0.5256419431442417], [0.8144955008657653, 0.07395018422969368, 0.2709215927666015, 0.507671094208276], [1.0, 0.0, 0.0, 0.0]], [[0.9467759206943009, 0.002449400761055937, 0.007400054981198146, 0.321798998779744], [0.9903849513065295, 0.004815016753070169, 0.004683482047419611, 0.138175717241281], [0.9379367673401566, -0.2509239880466259, 0.19860889359020154, 0.13366480494561583], [0.994633821826646, 0.002252217844123839, 0.012328627076717679, 0.10269611943839817], [0.9638977571063455, -0.1603106043605957, -0.187230117395412, 0.10072987200923673], [0.8683319241357031, 0.0017968103487990435, 0.008496226772889677, 0.4959075066279816], [0.8294912347546369, 0.29239399238058655, -0.07045278698364672, 0.4706234689124693], [0.8531769076562759, 0.0005254269964669877, 0.006397635182786155, 0.5215821684381223], [0.8231407271097811, 0.06022578173296114, 0.25765232418175926, 0.5024216142161604], [1.0, 0.0, 0.0, 0.0]], [[0.9497261265302117, 0.007879520411464646, -0.0019852996719016743, 0.31297644692407506], [0.92918941243767, 0.009878634532111946, -0.0025173249774486355, 0.36946327485756514], [0.8742691617066478, -0.3106586464520817, 0.13565356826243966, 0.3474805716741345], [0.9956554288293137, 0.008115737734501647, -0.0016807578480507962, 0.09274468662298893], [0.9603222528172667, -0.1625034857592764, -0.20863696679805716, 0.08856863973981181], [0.9561350590583731, 0.005657458925457016, 0.001299187321663773, 0.2928686635853202], [0.9066878505695233, 0.2841890545386095, -0.14644912945548527, 0.275147915477838], [0.8553607426226548, 0.007279964622274095, -0.003987420017729276, 0.5179663141331884], [0.8256488192682411, 0.06836541163214978, 0.24718662776374664, 0.5025226052508612], [1.0, 0.0, 0.0, 0.0]], [[0.9496432931662186, 0.003606993758727469, -0.004420369007825269, 0.3132811288256576], [0.8252450226176106, 0.0025950821979146424, -0.005496734886943604, 0.5647421571822206], [0.7639225205645804, -0.35452775961953026, 0.056990846262057714, 0.5361758048212815], [0.998598615642531, 0.00520207579678451, -0.0030959691078574257, 0.05257526242928456], [0.9650813805590951, -0.16783113337683656, -0.19504843183263143, 0.049058626226471606], [0.9976605020565221, 0.003944013510571887, -0.002636716058090805, 0.06819835131574423], [0.9373312152747931, 0.2589034467814276, -0.224592977524583, 0.06274705222413283], [0.8568753100001182, 0.002607471879998627, -0.005128336262183781, 0.515491614257476], [0.8283857638639267, 0.06505949910113358, 0.24578530334837922, 0.49913312098300305], [1.0, 0.0, 0.0, 0.0]], [[0.9539390481702174, 0.004921790425375065, 0.00048592342226292675, 0.29995971768478535], [0.8591216014845016, 0.0048908968542393984, -0.0008442030452999986, 0.5117474380120379], [0.7958991870861988, -0.37253948804438963, 0.09678270730506694, 0.46732421444844263], [0.9976835675427767, 0.0030572043516451128, 0.00037252849202039335, 0.06795596941544328], [0.9647681342907587, -0.16633123469354796, -0.19328854348356617, 0.06477581632407409], [0.9980268100606655, 0.004181672837696371, 0.00169877179653287, 0.06262678489906635], [0.9225901461413732, 0.2896551140692238, -0.24687456121370865, 0.06308952497778993], [0.853950690398355, 0.005608607051208855, -0.0017535579993335805, 0.5203207538907714], [0.8240950950414232, 0.06711055805408504, 0.24894226819320392, 0.5043720793552711], [1.0, 0.0, 0.0, 0.0]], [[0.9596069248665088, 0.0022824277868262596, 0.0037141617750808867, 0.281310407333161], [0.9560164128244389, 0.003182119134953223, 0.007862058005208835, 0.29319051923966755], [0.8980141948787075, -0.29179411892326335, 0.1648560315715993, 0.2850424298461674], [0.9981830475577209, 0.001809383455297208, 0.001328042525254335, 0.060212673109100674], [0.9642134588733706, -0.1701176438597752, -0.1948267287259767, 0.05826610291571219], [0.9689490429519078, 0.003387781002092107, 0.004022643513291642, 0.2472045578900776], [0.9133744365165021, 0.2941940182893057, -0.17091419769954908, 0.22357404890924495], [0.8535075647627529, 0.0012577113751512806, 0.0024318249276415477, 0.521073259035976], [0.8234842301077944, 0.060650668415562166, 0.25457558501832567, 0.5033750994011282], [1.0, 0.0, 0.0, 0.0]], [[0.9648147703103056, 0.010603001935964447, 0.016672642550331997, 0.2621870674373682], [0.999858869944076, 0.009128080844917279, 0.012858113495763056, -0.005795450937938364], [0.9677798500399651, -0.16651719871843731, 0.18884867666446742, -0.0032189609607137745], [0.999397352767292, 0.005633317838301585, 0.01869529608417259, 0.028699876588353157], [0.9549046482468871, -0.2091292666198675, -0.20855564121006195, 0.030440222058735464], [0.8552274511135656, 0.011520711610215784, 0.01462222979501751, 0.5179184013545085], [0.8283389806685396, 0.25377610414160534, -0.04456411518665615, 0.49745980913973753], [0.8637231206650806, 0.016559893448573528, 0.014383908322501634, 0.5034890703271684], [0.8283183935801974, 0.0827986517960752, 0.263966187898746, 0.4871907981106351], [1.0, 0.0, 0.0, 0.0]], [[0.9664029445522151, 0.01042686647113173, 0.015323974991348558, 0.25636264354789656], [0.9990678131029123, 0.0013731148094857423, 0.018887904367955573, 0.03879260813700939], [0.9571497383267928, -0.20228348704540378, 0.20062719135154555, 0.05190856750184844], [0.9997981608924016, 0.005709512369605654, 0.01877183581469866, -0.0043193894034529775], [0.949708498475385, -0.22899523261213786, -0.21357246865358864, -0.0013236305203854096], [0.8865362869748804, 0.01860503851667387, 0.008134110425198498, 0.4622132631872179], [0.8570250112830033, 0.2717715998880997, -0.07692649546564394, 0.4309647802605273], [0.8708016562770973, 0.012788181256437508, 0.011973117551753346, 0.4913222794676713], [0.8367477048484804, 0.08158201958222709, 0.2616727501891493, 0.4740517105972013], [1.0, 0.0, 0.0, 0.0]], [[0.9676576366130922, 0.01139333609704506, 0.007876593193058124, 0.25188658058065677], [0.9625161302257347, 0.016845840558276443, 0.006174686106328443, 0.2706303566909121], [0.9082587370943852, -0.28360071811129833, 0.17495113046834232, 0.25303912963476033], [0.9998523332223974, 0.008859508462606724, 0.012814329848872309, -0.00725353776119132], [0.9642548668532674, -0.1912322615998659, -0.18330320970437153, -0.006535073470355074], [0.973722889518579, 0.005323785580191365, 0.008077329508434844, 0.22753054406540107], [0.9290635404465601, 0.2545893513202169, -0.14979047604189588, 0.22268366193862585], [0.8709102120868433, 0.012141758203516012, 0.004989552278792195, 0.49126681605684946], [0.8382300632319531, 0.08096615850592995, 0.25442551454032175, 0.47548133488270683], [1.0, 0.0, 0.0, 0.0]], [[0.9653787463004289, 0.014909741132030323, -0.02108032189722773, 0.2595711768272764], [0.889424793574645, 0.012558680214809102, -0.025148689281954247, 0.4562163516944145], [0.8425349739662887, -0.3182315595515893, 0.08191163043857357, 0.42679500576726875], [0.9996220413304104, 0.020356036043391517, -0.018464826403593763, 0.0006756248281333865], [0.9658958736210772, -0.16251246437796174, -0.20146192069207242, -0.006924937157759006], [0.9994033814866409, 0.01956605756446258, -0.013813263784166838, 0.02488461790104828], [0.9552767977653472, 0.21671822095062115, -0.2002169374267696, 0.019814901630508877], [0.8653408380418747, 0.006052875179997008, -0.023760241023021704, 0.5005837069517638], [0.8290637262080484, 0.08194254018533739, 0.26925314689857005, 0.4831578426137961], [1.0, 0.0, 0.0, 0.0]], [[0.9664286644364447, 0.020192414035006507, -0.031339066385442045, 0.2542159827570198], [0.8674581772792319, 0.012824722780622888, -0.0375054420258554, 0.4959286026994589], [0.8181183214089907, -0.34810299668287537, 0.06247346135363753, 0.4534355329060938], [0.9992433574741961, 0.025473429177736664, -0.02622864458814635, 0.013261792966687147], [0.9629405438548706, -0.16173221987880693, -0.21581929001629332, 0.0031987670160091974], [0.9993708952466164, 0.025793037449197094, -0.02380893841775989, -0.005066300873465157], [0.9412911012000272, 0.23836005986451078, -0.23897037280818303, -0.006978938525660284], [0.8745430314018648, 0.013491626137783512, -0.03563412116604008, 0.48344872702213093], [0.8374374149995657, 0.09704459434907048, 0.25714891964713993, 0.47239322157581626], [1.0, 0.0, 0.0, 0.0]], [[0.9628619746518912, 0.01836478725183964, -0.029505636605910268, 0.26774795940797713], [0.9627349716459372, 0.01861738758606813, -0.026700902319270938, 0.26848059346012887], [0.9148967805392534, -0.276698797031919, 0.13948813154158732, 0.2587367732639393], [0.9993714949580322, 0.0263996926817349, -0.02258899846337547, 0.007029113747791751], [0.9662700083281431, -0.15610065198011155, -0.20477098472312072, -0.004868395263101822], [0.9822609709793173, 0.01993437572493068, -0.030674757049926553, 0.18391591784061112], [0.9368947119148536, 0.24021799089704218, -0.1850366343664643, 0.17402603132205108], [0.876206755097355, 0.010192542292809876, -0.03344159874488006, 0.4806656778643133], [0.8490175442673479, 0.08436318385763422, 0.22619416925171257, 0.46998751103850905], [1.0, 0.0, 0.0, 0.0]], [[0.9715500268576615, 0.01668160645694428, -0.022658442293850393, 0.23515710559476913], [0.9978474671528967, 0.030202618225098083, -0.02552788813311099, -0.052312150370263696], [0.974145313597277, -0.1389039452623417, 0.1658755574147941, -0.06505306633319373], [0.9996356699414338, 0.020448610294283798, -0.016847028779797855, 0.005153575367254157], [0.9579508688444515, -0.18269728095714338, -0.22124366021027994, -0.0017547728585349046], [0.8829190944150098, 0.010271449012292787, -0.021485899998957034, 0.46892081010955516], [0.846549393959904, 0.259118837421292, -0.09690141558511112, 0.4547765026220668], [0.870123033926428, 0.009481986646397106, -0.02275094281397171, 0.4922178301940934], [0.8423711219891085, 0.07786045706659601, 0.22901553917001302, 0.4815605100948992], [1.0, 0.0, 0.0, 0.0]], [[0.970576462872261, 0.017926640583986613, -0.03258577093698012, 0.2379036208387465], [0.9988921201809842, 0.028515104285800428, -0.029350671333772973, 0.023237021327296496], [0.9596285502342721, -0.20408445201311015, 0.19057533654277542, 0.033817497296299376], [0.9988556794804665, 0.024933205741889317, -0.026410286680170283, -0.031115327067529095], [0.9514489792390083, -0.19971903768387392, -0.22939856825448401, -0.04725931415572454], [0.8966264218786602, 0.009450267692888824, -0.0342087045827391, 0.4413632478586938], [0.8535627104362904, 0.2735258992512158, -0.12149894642335629, 0.42644142365567833], [0.8968282778872464, 0.010921558393665645, -0.034687787143437426, 0.4408815225966513], [0.8725148530648225, 0.09323800064801561, 0.2074427500942742, 0.4324257298655531], [1.0, 0.0, 0.0, 0.0]], [[0.9721908353795101, 0.00771869686429216, -0.041670760578364274, 0.2303235746414769], [0.9648201278286177, 0.007426812397276725, -0.046011023870901675, 0.2587468822551039], [0.8975717115034417, -0.34498581931144084, 0.16132538618708164, 0.2220899073672312], [0.9985647421531376, 0.020094048604289153, -0.03948105983281807, -0.030098685250413624], [0.9580225978748558, -0.17660602947898058, -0.22197175283426457, -0.041611936466184135], [0.9741058430881763, 0.00198074057958139, -0.039841480119877454, 0.22254558991381315], [0.9162662923250574, 0.2647709027473119, -0.2037663509461457, 0.2209790144546717], [0.9045785458563501, 0.0041089502071190295, -0.040248943590651315, 0.42438283830103596], [0.8798149325118769, 0.09383834085428003, 0.20394838837857127, 0.41895716391132487], [1.0, 0.0, 0.0, 0.0]], [[0.9749397862534649, -0.01078950244193328, -0.04530699680688927, 0.2175391363811218], [0.8816931346245063, -0.015039885045834377, -0.041867766519951714, 0.4697213092254289], [0.8246805413918828, -0.3700608927966701, 0.07001099204846185, 0.42196611388180527], [0.9981915719266532, -0.0008774572488682721, -0.049558669147074665, -0.03401108812937382], [0.9547590240199102, -0.18989196690915053, -0.22503340491127466, -0.04166789687470138], [0.9988940699386134, -0.004525197268112404, -0.045675523035005355, 0.010193440372898606], [0.9511065382868168, 0.19450389522936817, -0.23909661694603956, 0.01993477698971513], [0.8998323857314803, -0.023579243326778018, -0.03945778919757842, 0.4338073071590299], [0.8774388948667406, 0.06703102431750428, 0.22311137537018508, 0.4193198561175029], [1.0, 0.0, 0.0, 0.0]], [[0.9736153095380772, -0.0032642951028985924, -0.04309833045421398, 0.22406496228240247], [0.8857455250460857, -0.011404297537110407, -0.04132149765321513, 0.46218756007730677], [0.8328787691035953, -0.36085638938861014, 0.07319128256002742, 0.41320534649386403], [0.999043243722506, 0.004905486259635354, -0.043297407715841583, -0.0037239578486281183], [0.9566713659911692, -0.18255724980857102, -0.22638551867598458, -0.01422480118408008], [0.9987237739935003, 0.006943881983622307, -0.0412172438213747, -0.02835038932618597], [0.940710918813837, 0.21800110057612895, -0.259379587474339, -0.016146732600275226], [0.8893547642641403, -0.014112933445710076, -0.041527179862897994, 0.4551092415265451], [0.8675374978891408, 0.06889039219866139, 0.21518473281351178, 0.443089533145324], [1.0, 0.0, 0.0, 0.0]], [[0.9762833607002406, 0.006897106284984522, -0.03330996779157954, 0.21380756672873275], [0.9853572055463589, 0.009254740088648135, -0.030771850545688574, 0.16744736629089124], [0.9332552226133126, -0.2721127231805408, 0.16789931376998846, 0.16370453806725582], [0.9989545311509833, 0.012523125424591112, -0.030807553488320177, 0.031367350391503436], [0.9612265142712952, -0.1658731727442925, -0.21920081597390123, 0.02192444074482549], [0.9741454394012776, 0.0027959491376523455, -0.031187236920108885, 0.22374137260551602], [0.9400151290030654, 0.21272581876460947, -0.1642004337725578, 0.21013686212842564], [0.8884128645569745, -0.004198503728425399, -0.03486924642136979, 0.45769978185500493], [0.8665777879608624, 0.07432260797895601, 0.21132874791074016, 0.4459363717645643], [1.0, 0.0, 0.0, 0.0]], [[0.9785565919768955, 0.006358389261895153, -0.017537701565671526, 0.20513165579293569], [0.992437767834573, 0.01945484398360972, -0.027767463451191195, -0.11797353090668307], [0.9632771734921878, -0.13476457454153348, 0.17778992538916602, -0.14942000839129932], [0.9996536878315958, 0.004701624070362589, -0.00933306667544165, 0.024151459629254125], [0.9649287674134515, -0.17564551363386377, -0.1936736009841437, 0.023487520943861223], [0.8598177700268876, 0.002877147844220239, -0.017883227951671004, 0.5102796434547445], [0.8009061045039989, 0.2581821086722765, -0.07007744583751997, 0.5357056674281646], [0.9072872704745621, 0.0014903277061338184, -0.012107554119166235, 0.4203343846170554], [0.875794268706738, 0.09353882978496479, 0.2421519927780682, 0.4069364798300834], [1.0, 0.0, 0.0, 0.0]], [[0.9733286011709402, 0.0058546646889990955, -0.015864806931002406, 0.2287913130891166], [0.9833945758748706, 0.01722674754128228, -0.009389924597743248, 0.1804166750194696], [0.9343315922302378, -0.24891581515277644, 0.183310553315652, 0.17737709483032787], [0.9996940382050805, 0.008816740456415516, -0.018324613405407076, -0.014082031404796228], [0.9639904168190396, -0.1769320912724852, -0.19754723106182975, -0.01981420850812199], [0.9619423503709554, 0.002656681439285395, -0.013768370597488557, 0.272892448736902], [0.9059548674146393, 0.2864804576031993, -0.17069205819605165, 0.26084276276711327], [0.9162927872770089, 0.00046592055272493037, -0.02359234490452829, 0.3998133466557545], [0.8916347636831179, 0.09228626071710495, 0.212060435726201, 0.38923137832684934], [1.0, 0.0, 0.0, 0.0]], [[0.9702854040103908, -0.008151199875432917, -0.01515106281635875, 0.24135086078263346], [0.8847508640155556, -0.01048741716756526, -0.024921158012364098, 0.4652793339362966], [0.837545756137695, -0.33241234442400835, 0.06858042406481364, 0.42815402028401117], [0.9997482451982506, -0.005379878223024661, -0.014963151018742715, -0.015830579424461543], [0.9615143469929044, -0.1929274783697518, -0.19498664611117625, -0.015791024508018236], [0.9986006411609089, -0.010071728587214515, -0.01527535237976559, 0.04961837730076535], [0.9522848872878916, 0.20975471681666918, -0.215784203125756, 0.050927692836304904], [0.918672487867842, -0.011371805732514714, -0.005408040758107122, 0.39481931964412553], [0.8877298392313575, 0.08595640836878696, 0.24546313318170623, 0.37986192050168227], [1.0, 0.0, 0.0, 0.0]], [[0.9658051324747171, -0.003824994828673906, -0.008276860458874949, 0.25910868198692083], [0.86368519061671, -0.003644908573247274, -0.0045309299165653336, 0.5039980920846439], [0.8168216608900164, -0.31426571974169304, 0.07846395974209092, 0.47737075603528795], [0.9997526320683358, -0.00245883255262645, -0.011526286395742116, 0.018861960047577387], [0.9605762398504976, -0.1874941635188415, -0.2046905944427222, 0.015523743998612881], [0.9999509589960184, -0.004426799370502479, -0.0075925324993632946, -0.004564701580897759], [0.9411826073915889, 0.23169775790533648, -0.2459419898484562, -0.001996535647598012], [0.9238221286906538, -0.002398362609809221, -0.012602966504729984, 0.38260696234326613], [0.8963153599132114, 0.0973940268761452, 0.22120501239740675, 0.3717546524292095], [1.0, 0.0, 0.0, 0.0]], [[0.9659621369733311, -0.0007582363889324811, -0.0007724430362046255, 0.2586812292054641], [0.9539132076533896, -0.0011797704227331444, 0.00017099273124292737, 0.3000802745394253], [0.9098367520028996, -0.26246734165638586, 0.1348985416038014, 0.2917368038863306], [0.9993617449016207, 0.002663580828569203, -0.0031855308066181635, 0.035480424995171386], [0.9657930795128331, -0.1701508710172618, -0.19269980517503776, 0.034046934409550186], [0.9779693101215559, -0.0012686711491053588, -0.001176873765543485, 0.20874154809721954], [0.9333704388686384, 0.2513244686102272, -0.1676607711822737, 0.19376661510827284], [0.919899348338169, -0.0033342805902454977, 0.001651379194498707, 0.39213689503375365], [0.8886522628196781, 0.09242928840865727, 0.24528891204107608, 0.3762809217319422], [1.0, 0.0, 0.0, 0.0]], [[0.9647001388056017, 0.009137332037234871, 0.01237505070378927, 0.26290114011120774], [0.9999205330941541, 0.010677949354841208, 0.006697373506668185, 0.0002325562089897329], [0.9683406016863985, -0.1680155840156153, 0.18461838356932408, 0.0018152415170883532], [0.9994985308864128, 0.006361136506795487, 0.017705325032473837, 0.02547045668493544], [0.9588793933635109, -0.20079570203797878, -0.19870283678939069, 0.027360147619289545], [0.869916046709199, 0.005866518417165946, 0.01592745207317196, 0.49290767077613695], [0.8431099932415581, 0.25187684345260325, -0.049310185258350125, 0.4725379356817393], [0.9156596624158102, 0.014335463971340735, 0.011438436822041933, 0.40153585052938817], [0.878961568287907, 0.11006298543491529, 0.2526467221499254, 0.3892073155747654], [1.0, 0.0, 0.0, 0.0]], [[0.965174201974949, 0.012548029835240159, 0.01955404750533899, 0.26057426199729145], [0.9989835617972559, 0.008468695942587093, 0.022927278773245813, 0.03787432291083029], [0.9549074448554525, -0.20084294874548364, 0.21179808450611654, 0.05436407911838147], [0.9997061196107759, 0.006693093400406376, 0.023296647482623636, -0.00037832468710358104], [0.9501738939278086, -0.2295788318175795, -0.21086215911614659, 0.0005302190283815864], [0.8771340133349561, 0.015859889397169945, 0.013784315748118963, 0.4797857638556805], [0.8459661863040204, 0.28414802583047466, -0.0699236776657674, 0.4457710066262379], [0.9101615486010219, 0.015868275757240632, 0.017571777731507095, 0.41357633624282275], [0.873744100108406, 0.10552138896450529, 0.256683058206832, 0.3994374689814937], [1.0, 0.0, 0.0, 0.0]], [[0.9672918039562582, 0.010235462066669134, 0.014181624063301845, 0.25306260659026], [0.9606987854231053, 0.013300664412233406, 0.01316421209865627, 0.27696144051579674], [0.9138713783105052, -0.2622672350177991, 0.1656976601513533, 0.2619146554917127], [0.9998425015427769, 0.0069316866310130875, 0.0160475133578289, -0.0030661285298984836], [0.9609153329478854, -0.20059449924553088, -0.1907961643425986, -0.0006272561207394448], [0.9654959579309595, 0.007947994910620999, 0.01464421797270486, 0.25988445793438175], [0.9241142365767526, 0.25746439277721267, -0.12917092551010387, 0.2510773510512048], [0.8998844009413544, 0.011908200621692552, 0.014806241695040698, 0.4357143960293729], [0.8644008414651305, 0.09559505309583578, 0.25949573463819176, 0.41992229614842314], [1.0, 0.0, 0.0, 0.0]], [[0.9694879331173664, 0.006300528572458272, -0.009721382162524996, 0.24486515801227166], [0.8829927797408057, 0.003854525328455472, -0.01287676912851921, 0.4691940775168716], [0.839400822408398, -0.3033016413622953, 0.07976662991765918, 0.4439050106031944], [0.999788374564961, 0.011133549258281417, -0.0062151917136470235, -0.016143777675286457], [0.9664457236527946, -0.1752854482150167, -0.18686845165486615, -0.01838087738383776], [0.9993417184961338, 0.005862140669149747, -0.006949167908229212, 0.035120849154768985], [0.9510470984788019, 0.22344647613619856, -0.2112273849420698, 0.031049647790304214], [0.8821350088718155, 0.0018641470514184683, -0.011118595171469873, 0.47086168661285827], [0.8438852203987514, 0.08780706437695569, 0.2761167520657154, 0.4515608413788027], [1.0, 0.0, 0.0, 0.0]], [[0.970475654486358, 0.004293944639034689, -0.015972147139520377, 0.24063137078208616], [0.8780706766896099, 0.0016492947401289461, -0.016876518481621822, 0.47823043576151664], [0.8271709666371263, -0.3368399036430597, 0.08528030817536338, 0.44164956730857463], [0.9998300511891315, 0.006115707141681146, -0.015728195971631442, -0.00742231209085129], [0.9634468756621166, -0.18041632463414758, -0.1976217585023554, -0.012872767722924054], [0.9996917799431772, 0.007885168444645218, -0.013083647646869433, -0.019570063793824703], [0.9482062836001106, 0.21793877667424544, -0.2302736442286601, -0.019534127486332445], [0.8710416872820815, 0.0009191214083838095, -0.016889292692097563, 0.4909177996620021], [0.8312008834719484, 0.08072347321021296, 0.27338350671570516, 0.47733664267910186], [1.0, 0.0, 0.0, 0.0]], [[0.9663526271633864, 0.0017168880431955595, -0.008177334654182198, 0.25708516773206036], [0.9671552375022984, 0.0016644409300428603, -0.005430823629518017, 0.2541229670119732], [0.9200071081415157, -0.2632397714448024, 0.1487951569188363, 0.24930251698743922], [0.999943261067485, 0.005258142768535418, -0.008320948733253414, 0.004072885037371073], [0.9651788336341635, -0.17667679385480844, -0.1929019205906166, 0.0019946554170586993], [0.9817646988237523, 0.00209287062832369, -0.00965530045594101, 0.18984328065313624], [0.9434902180768412, 0.22670985784362627, -0.1635860868833141, 0.17795628937478544], [0.8786995341138238, -0.001392413459101959, -0.009618179760443725, 0.4772763146763134], [0.8533078006788534, 0.07082907467885699, 0.23391290485997823, 0.4605798436978346], [1.0, 0.0, 0.0, 0.0]], [[0.9714321321860887, 0.0009801493249813624, -0.005162120072928962, 0.23725936099560513], [0.9987090017525531, 0.00641155425261043, -0.01204967729625016, -0.048928795893023125], [0.9677662128822437, -0.1632552134851242, 0.1800212659440962, -0.06609566007969948], [0.9999754454080187, 0.0009426292709601758, -0.002668986576489019, 0.006410658448733027], [0.9590574892539525, -0.19957656908561208, -0.200826907036786, 0.006817535328740602], [0.8790194867320524, -0.0022115063243393004, -0.003913258275254608, 0.4767646564026823], [0.8484984769859066, 0.2452133458452254, -0.07523020596577955, 0.46288353360465645], [0.8786797791610051, 0.0006585815472375823, 0.00029804907921193724, 0.4774110630585126], [0.8465041755235572, 0.07461669472509817, 0.25635699799125927, 0.46059105426657376], [1.0, 0.0, 0.0, 0.0]], [[0.9699627021752967, 0.0064972362074897805, -0.0118559726660765, 0.2428777021931044], [0.9997794682309994, 0.01067207224631512, -0.013265038368153875, 0.012294736060657526], [0.9454131197748569, -0.2370790961935065, 0.2228502119672812, 0.01803657760718593], [0.9999068053554504, 0.006759936771722039, -0.005696274589521221, -0.010403668319410498], [0.9590328889287155, -0.19773722917852157, -0.2025574682231972, -0.011241806654241805], [0.9001805807984615, 0.004496781404465462, -0.009309183679171646, 0.43539412032039715], [0.8672700998894655, 0.2512207225704969, -0.09457415497372954, 0.41926894900514516], [0.8879341406900731, -0.000513849167707797, -0.015771644070896425, 0.4596998509890068], [0.861931225861712, 0.07662611239610043, 0.22989653312234418, 0.44536567541955185], [1.0, 0.0, 0.0, 0.0]], [[0.9703295556988729, 0.01661446694477864, -0.022163056922211603, 0.24019432077639033], [0.9778966017233424, 0.019959023113492208, -0.021015217516845267, 0.2070706023727503], [0.9262213210177054, -0.27474957550612344, 0.17454066951236377, 0.19016385023867566], [0.999238807558362, 0.023266689099971278, -0.01976268688481765, -0.024287915817559454], [0.9656979311987088, -0.16461174389125546, -0.19810686148759973, -0.03292644656118152], [0.9733007159600031, 0.011850965116708311, -0.025370295309008018, 0.22781926839817895], [0.9326252252958755, 0.22857203209862176, -0.16293697575495783, 0.22675219340935215], [0.8722637158262345, 0.011929687092118186, -0.02123331672485194, 0.488428949674112], [0.8423267369443457, 0.08052962559386162, 0.227880380405347, 0.4817376670520145], [1.0, 0.0, 0.0, 0.0]], [[0.9673445413308465, 0.010335987331927421, -0.02618446621055996, 0.2518969619756384], [0.8962147173409515, 0.007944833615508693, -0.028297190108154707, 0.44264582802990843], [0.8432016440297317, -0.3393888202235104, 0.09221918504890789, 0.40659788258396823], [0.9995827963352203, 0.016310114781288285, -0.022589555078322256, 0.007610875629389578], [0.9645025344037439, -0.16611100295232853, -0.2052838119867945, 0.0007432113405384208], [0.998506593383477, 0.013365286257627862, -0.021053648501990634, 0.0486075711976029], [0.9549451735455509, 0.21303246502648598, -0.20092738895164639, 0.04821896655747123], [0.8735779432645515, 0.0017953662899020332, -0.029214273799032433, 0.48580333459946173], [0.8494844168312355, 0.07162761799419945, 0.2199074934103444, 0.47422189346692145], [1.0, 0.0, 0.0, 0.0]], [[0.9609761579211327, 0.009468440203316305, -0.024320471962613166, 0.2753973260414306], [0.8528119298793133, 0.004040134684076997, -0.027207977722745524, 0.5214932554841862], [0.7978989991492179, -0.36023070851680766, 0.06138330025664132, 0.4793987007155506], [0.9982994311196128, 0.01295108225538233, -0.022077054785453135, 0.052374793046576926], [0.9624525683539797, -0.1615899455712202, -0.2135531634939438, 0.044371043720507604], [0.9996426282848337, 0.015875165442645594, -0.019689623461227, 0.008655262324930992], [0.9475821308175577, 0.22578419474075412, -0.22599423523231776, 0.006017341795670816], [0.8790458104253791, 0.003953250632867482, -0.0257783191634968, 0.4760234377046227], [0.8525244298495808, 0.07787869563759671, 0.225168988396883, 0.46522675325023843], [1.0, 0.0, 0.0, 0.0]], [[0.957798663783392, 0.011458547634545837, -0.01929161923166636, 0.2865628286576541], [0.956518729538911, 0.011709136949052554, -0.017899601313905274, 0.29088557961160505], [0.9127490013948039, -0.265620934887052, 0.12979106825671416, 0.28193803929817235], [0.995718487629552, 0.015087542192563664, -0.016875251222851845, 0.08962301802255473], [0.9611653823277538, -0.15153048986769613, -0.2158882658512731, 0.08119036348563052], [0.950907979888393, 0.011570804096069792, -0.02012939326701746, 0.30860158425362555], [0.9090988971936788, 0.2587017591653203, -0.14710855317050908, 0.2914990025884905], [0.8775807258724728, 0.006053504134348316, -0.02132423048844964, 0.4789161741462848], [0.850965832974015, 0.07854976932523527, 0.22803205853339018, 0.46657096473185944], [1.0, 0.0, 0.0, 0.0]], [[0.9479057691101279, 0.016399367266008647, -0.01463467327653707, 0.31779166127999703], [0.9995069784607132, 0.02560466677621834, -0.013504382936515054, 0.012158646681188916], [0.9732294051811566, -0.15184999608882713, 0.17139648555867587, -0.01973191112613886], [0.9939690437188683, 0.016540630378890635, -0.009420371222673802, 0.10799631605427275], [0.956258252117853, -0.1613191785590648, -0.22277833760559906, 0.0995795670769001], [0.8065704975144938, 0.007633373413437505, -0.016574451212617483, 0.5908562022324498], [0.756939323573849, 0.26115385711718425, -0.0456959916266381, 0.5972883723040654], [0.8693186269130172, 0.01419795310347896, -0.01451639032674844, 0.4938348078473403], [0.83910931919796, 0.0817962507383927, 0.24023816991086205, 0.4811346438557068], [1.0, 0.0, 0.0, 0.0]], [[0.9424794381581566, 0.01422623447679059, -0.02572561758555561, 0.3329689407460378], [0.9821446297663552, 0.021864849888434568, -0.020500163736020954, 0.18572452139462203], [0.9405658753998535, -0.24063590775984753, 0.16427295648675552, 0.17448378061298914], [0.9918081972271258, 0.01974021054674126, -0.023196571102806207, 0.1240513727845106], [0.9554865931633613, -0.14320973073903664, -0.23248867500140089, 0.11173790450343674], [0.8761066115308022, 0.007496792177763593, -0.025427689207295545, 0.4813880305539771], [0.8241093740814268, 0.3055976941395599, -0.1079791054067362, 0.4645366526801346], [0.8477864657027092, 0.007613045255530969, -0.030131558643696724, 0.5294263303680199], [0.8201778792424392, 0.06905968076658107, 0.23699947842709046, 0.516110699481303], [1.0, 0.0, 0.0, 0.0]], [[0.9433411699551391, -0.0009391219657382249, -0.024782498246586057, 0.33089633255486683], [0.8927476622945627, -0.00031062134179176093, -0.0324474713389964, 0.4493870009086604], [0.8404984840393418, -0.3508927265212556, 0.08259255872255762, 0.40449358715028905], [0.9872928848385039, 0.00273382157344451, -0.02154664956271771, 0.15741990871389344], [0.9508006782280611, -0.149678056219916, -0.22803971191066372, 0.14687559211451026], [0.9655722096767455, -0.0037692660851596353, -0.023468184707531117, 0.2590469934967005], [0.9049518943093762, 0.28388645714965927, -0.18882760946670007, 0.25458727842525464], [0.8260989683584976, -0.005025478952346085, -0.02275872663869291, 0.5630428752769282], [0.8025563652744667, 0.0442259898895974, 0.2315470025169505, 0.5480267584718262], [1.0, 0.0, 0.0, 0.0]], [[0.9324564858084223, -0.019803982775407746, -0.038819334155610154, 0.35864434142441726], [0.7955598672765805, -0.02681189916081926, -0.02947879080002491, 0.6045631650499622], [0.744817788848173, -0.3490649073709783, 0.014776040808834674, 0.5684908270811625], [0.9755596471828998, -0.013265919077469913, -0.04417823380307138, 0.21483871587180686], [0.9304382366424259, -0.15382244805837558, -0.2654632501172621, 0.20038114957311112], [0.996054861449588, -0.008353842342073179, -0.04051574201991777, 0.07850733054525076], [0.938103207462618, 0.23218726504065001, -0.24642685846562268, 0.07297430731466492], [0.8193378827098337, -0.03103043584676895, -0.033388791310607326, 0.5714960495248789], [0.796067339566032, 0.021076018749760325, 0.26162635993622757, 0.5453294784774053], [1.0, 0.0, 0.0, 0.0]], [[0.9312573976696622, -0.03130594783943119, -0.040041435057150916, 0.36079950165426655], [0.8332757478924742, -0.03829462961106953, -0.03421310009982494, 0.550467540458789], [0.7890872219930605, -0.34365169717594496, 0.028184367524421907, 0.5083802794588078], [0.9653694192897536, -0.02790154002768984, -0.043072560244027995, 0.25578925489213145], [0.9177673672111706, -0.1593490096455681, -0.26869761837820216, 0.24517859344799062], [0.9859310590437382, -0.02432559892619598, -0.04733528460479632, 0.15845372473109484], [0.9149411355390539, 0.26518882727748894, -0.25549335759493474, 0.1651688487898472], [0.8067362291012886, -0.038770915935638736, -0.02933657256103926, 0.5889081747125912], [0.7912910443935991, 0.00401820196873949, 0.23158163957833638, 0.5658730257978684], [1.0, 0.0, 0.0, 0.0]], [[0.9295158412647727, -0.04541182849170232, -0.04593330059760404, 0.36308153156982853], [0.9065211605919318, -0.04842613666877387, -0.04177338187741458, 0.4172880051630026], [0.8746533700314907, -0.2841064278136283, 0.04726638602936413, 0.38991141137347973], [0.9584340305493996, -0.04136788012429237, -0.05094068841703259, 0.2776651829856481], [0.9073386025608624, -0.16651726237197337, -0.2794840793768326, 0.2662654897089163], [0.9337825574541172, -0.04357778920292066, -0.04499617574642294, 0.3523158467211363], [0.8716296196961626, 0.2883675571380633, -0.1917418201128448, 0.34690205026543497], [0.8033432895249221, -0.05569094988825743, -0.033379061522678825, 0.5919661439032522], [0.7925630734785255, -0.015106015462350192, 0.22326587360428016, 0.5672459189265644], [1.0, 0.0, 0.0, 0.0]], [[0.920265360799734, -0.04087228965897618, -0.0446143726863375, 0.38658851431460395], [0.9762436224794789, -0.03518360884596785, -0.05097768165608833, 0.2076337622105061], [0.9454896489933018, -0.25210195309151207, 0.09104844100436138, 0.1849435326921253], [0.9587186395801518, -0.03285098076874828, -0.048770916295067156, 0.27820995831898954], [0.902815045812473, -0.1671625304257857, -0.2949528950715331, 0.2645457827393815], [0.7976468004335487, -0.050390333261103384, -0.0319523366126113, 0.6001661805341517], [0.7638216467914484, 0.2531042913759228, -0.07205618757258794, 0.5893408312788073], [0.802217703414899, -0.050628336859940594, -0.035854359285875846, 0.5937996234039902], [0.7916384336124116, -0.011210592502869246, 0.22078899912852099, 0.5695920741260784], [1.0, 0.0, 0.0, 0.0]], [[0.906621259215578, -0.03145139172330026, -0.03395316037126812, 0.41939943395029766], [0.9832387919839057, -0.022394743897051584, -0.04199381323213717, 0.1760013438415734], [0.9445356136794557, -0.2596440523026207, 0.12218759658881173, 0.15971108864101397], [0.9602893510566495, -0.026312781951916418, -0.035590404422200135, 0.27547290768098087], [0.9087177797154133, -0.16324117559563778, -0.28085163444594474, 0.2621195811996596], [0.7682784275154462, -0.04245303179986175, -0.029495372492397476, 0.6380250942611334], [0.7453793634092788, 0.2133565339503526, -0.05645332482523046, 0.6290481826859113], [0.7770166706049817, -0.037163521640129364, -0.02230430663527751, 0.6279860541180612], [0.7618554998685526, -0.00811861553020285, 0.23519352945526878, 0.6034851192069979], [1.0, 0.0, 0.0, 0.0]], [[0.9037246427854756, -0.0243463890248721, -0.028369508629302737, 0.42647883223419897], [0.896017570380604, -0.02426704891518219, -0.030502184001912753, 0.44230446603815904], [0.842057879986403, -0.36251154768462857, 0.08540509039378685, 0.39016647098761387], [0.9596755050825188, -0.01855475012722074, -0.027749705426804248, 0.27912112073623985], [0.9191114370807453, -0.14096810965640827, -0.25222431831579045, 0.2678526675943347], [0.8876097920979121, -0.02871716428250198, -0.02291835526796811, 0.45912844655856816], [0.8447344115345697, 0.2631518599746598, -0.11136833250778291, 0.45251736660116954], [0.7608417033447127, -0.03568745548638672, -0.02440605516555832, 0.6474956775482591], [0.7477556374993294, -0.01565505999473417, 0.23089114352072074, 0.6223388992568492], [1.0, 0.0, 0.0, 0.0]], [[0.9108082954469353, 0.0009555833314428534, -0.03245051997160988, 0.41155108985290834], [0.7598829221590792, -0.0030720631909444836, -0.0323910275710217, 0.6492451989592399], [0.7148351594791466, -0.35351990178054454, -0.004619267865335459, 0.6033349286937443], [0.9588840260008884, 0.009305336220588758, -0.03697890246784289, 0.28122481428640494], [0.9206512261223877, -0.11284534127422481, -0.2656813680679554, 0.2628319985344013], [0.9718549809420143, -0.002423718381110868, -0.02922893756217765, 0.23374706589900165], [0.9036971489146315, 0.295899444751882, -0.21227998143743199, 0.225193674689183], [0.7762628906156156, -0.004058137572308671, -0.03200824456743415, 0.6295831386340046], [0.7567964529188067, 0.024926242561360668, 0.2227191091021953, 0.6140309517622129], [1.0, 0.0, 0.0, 0.0]], [[0.9047580534010421, 0.014358814411302863, -0.019942422073673978, 0.4252164026192947], [0.7654495001203613, 0.010018397110310606, -0.02707718756756399, 0.6428479761174178], [0.7234849568870031, -0.3554748078053781, 0.004796842635994864, 0.591763608609609], [0.9650888411324033, 0.013660358790801278, -0.01673028654891056, 0.2610306894436226], [0.9313721260193523, -0.1178723371943526, -0.2397709072182335, 0.24730949648219702], [0.9832276466523472, 0.017957340564793575, -0.012080260829881598, 0.1810938874634072], [0.9279616438424793, 0.2731405053764674, -0.18518237366638562, 0.17317315139228406], [0.7739020482032066, 0.008882847504561147, -0.024422181881299763, 0.6327718955826411], [0.7519524744729563, 0.034852375703315376, 0.2322820195597353, 0.615952799677933], [1.0, 0.0, 0.0, 0.0]], [[0.9042354709292761, 0.0218091686821564, -0.0004975113074964112, 0.42647664151416603], [0.9179671519931167, 0.022513482514931744, 0.005133830593857121, 0.39598370515733317], [0.86913698899913, -0.27611049981538044, 0.12258971504652458, 0.39158095971336376], [0.974967747400807, 0.02314350422577841, 0.001560405455168149, 0.22113307051448186], [0.9466979823458682, -0.11279067354929945, -0.21751062631717621, 0.20911796102120672], [0.9169694537647783, 0.021259549497855832, 0.0013851815006684614, 0.398388169615618], [0.8868895242942146, 0.2571023919830257, -0.09362246451529413, 0.3722367067765762], [0.7636189246639565, 0.018038259320466814, -0.009419375278342156, 0.6453464453029211], [0.7378854882480717, 0.038137951113038, 0.24808523450072428, 0.6265175331469386], [1.0, 0.0, 0.0, 0.0]], [[0.9154798289217294, 0.024497960927048614, 0.02463079098944212, 0.4008613936051863], [0.9946645910068822, 0.02245921905217987, 0.022688508088858934, 0.09809773941013997], [0.9633000956483649, -0.17497200339144323, 0.189233096696264, 0.07502372203362033], [0.9826473236375467, 0.013515521167552506, 0.032263742452220155, 0.18215548017699776], [0.9527030107165272, -0.14631701514226866, -0.1953192767334789, 0.18110407115201033], [0.7519429172303662, 0.031849594076235235, 0.014126735774743139, 0.6583068341743207], [0.7049504401444202, 0.289704520377373, 0.0014454514067544502, 0.6473902057363358], [0.7795774909868869, 0.02957040875538193, 0.025881541673688606, 0.6250717337019993], [0.7323446332880892, 0.05351197087205261, 0.2871853975908848, 0.6150872738710242], [1.0, 0.0, 0.0, 0.0]], [[0.9170072054898251, 0.026894777322904823, 0.02975449381658468, 0.3968489966350073], [0.9673807809083866, 0.02408787112253013, 0.03777767374390067, 0.24933320388661465], [0.9120147061321421, -0.25439161461412263, 0.2053185267888336, 0.24770624693371252], [0.9887593589836193, 0.02008807882915917, 0.03915824077234663, 0.14289167677254863], [0.9669008548555373, -0.13595973061556446, -0.16654131212983897, 0.13741062507915996], [0.8355809447297685, 0.029169938028673983, 0.026603324279659255, 0.5479469524116202], [0.7965855988883164, 0.3148473201510009, -0.031670981192723296, 0.5150917370602693], [0.796453651302673, 0.030766300072655163, 0.016155756247291264, 0.6037002630830612], [0.7633687184026374, 0.06484134711424486, 0.27005095183020184, 0.583212039385614], [1.0, 0.0, 0.0, 0.0]], [[0.9231662192508658, 0.0177648458248141, 0.03443244595309314, 0.38244339261199184], [0.8739782088345034, 0.019505370515037014, 0.029352595393132577, 0.48468552293955663], [0.8209214921599614, -0.3090700627192975, 0.11936796116174489, 0.4650966457507949], [0.9914885706403307, 0.007476677507963357, 0.03587644998194349, 0.1249295558293903], [0.9654931988541098, -0.15326251684065736, -0.17213071182147732, 0.12126212082079565], [0.9359085571664605, 0.015509948812470519, 0.03654291792704805, 0.3499988989408479], [0.8910557548668944, 0.30549654628656703, -0.09735694052764642, 0.32126800036210384], [0.7881529774045128, 0.030928125767913473, 0.03104137654708347, 0.6139175581354125], [0.7463228422765712, 0.06486435188961272, 0.2905169492720967, 0.5953106190349663], [1.0, 0.0, 0.0, 0.0]], [[0.9064294784329029, 0.009782828119288886, 0.03222010765059327, 0.42101278076185356], [0.7525856256883141, 0.02052441738113715, 0.03246944103194194, 0.657373074971562], [0.6871311863085314, -0.35389076670672787, 0.05374537545908268, 0.6322368959960474], [0.9864341847364833, 0.002411167220710495, 0.034107037592544326, 0.1605568293239634], [0.9609411151426124, -0.14901336235908566, -0.17583844609001698, 0.15319279337997832], [0.9881885333157127, -0.001761137085406494, 0.035356684584380044, 0.14909804114980107], [0.9227423453113385, 0.3075821006143504, -0.1964922445609963, 0.12381685417735362], [0.8040079371341694, 0.0139999268248024, 0.0243416834124124, 0.5939551511038585], [0.7704213028983317, 0.05128606814008892, 0.27941093989157123, 0.5707453739839473], [1.0, 0.0, 0.0, 0.0]], [[0.9081674373744488, 0.0032123319441564107, 0.04579278973547122, 0.4160824521948145], [0.7898413940073412, 0.014760888273569937, 0.0421828535433397, 0.6116807135727401], [0.727919963189499, -0.3504548706878078, 0.08338377205970186, 0.5834047114640798], [0.9743574016797262, -0.008315494738471057, 0.04381442338185355, 0.22054206547255967], [0.9468921998655039, -0.14471336092096762, -0.17612188340894777, 0.22679128552329691], [0.9765662863323359, -0.00654073203941535, 0.045812388378350104, 0.21018261653745296], [0.9030932730514357, 0.343806360204759, -0.18514656478832636, 0.1787189872371777], [0.8156128851079971, 0.011342640805179091, 0.04515028712891448, 0.5767221321551221], [0.7764249972191701, 0.05491959577721705, 0.30232585224257064, 0.5502246275464977], [1.0, 0.0, 0.0, 0.0]], [[0.9108563378655069, -0.0015924366453792481, 0.05611872509716605, 0.4088873739909769], [0.9096008881691309, 0.00033584314360322334, 0.06030326153267633, 0.4110834806944116], [0.8473594707589305, -0.2905010789295089, 0.16765927258470095, 0.4116812101278191], [0.9682004990524262, -0.01283058695492806, 0.051446155647821755, 0.24449225497361896], [0.9421691324826847, -0.1449261081310199, -0.1732001004166148, 0.2476196159323727], [0.8941570131776171, 0.001340611776777872, 0.05682580082936407, 0.44413091190036297], [0.8443024909369826, 0.36235259395731884, -0.07113954388650652, 0.38832082965716475], [0.8052107986110462, 0.010358966472539238, 0.05456480570077873, 0.5903820319019017], [0.7664691155149562, 0.0493585599777142, 0.3078546748173452, 0.5615285626855981], [1.0, 0.0, 0.0, 0.0]], [[0.9043385459794652, 0.0018802178961516973, 0.06528953131358198, 0.4217884969238288], [0.988634193174891, -0.01793968944448527, 0.06290180835418831, 0.13536603020640214], [0.941572029499123, -0.22128190191281039, 0.2176955519437406, 0.13070990710218636], [0.9626057848940757, -0.009734249371970224, 0.06517804212284549, 0.26276828214732756], [0.9339797040563879, -0.15160869103350658, -0.1848651320225154, 0.26555903331678754], [0.7474128478828941, 0.02024141937291735, 0.06146306118938159, 0.6612008861689325], [0.7036747721332989, 0.3252184720456043, 0.046666658031664324, 0.6299976059729341], [0.779982687673207, 0.01877784022678089, 0.06337980290231805, 0.6223000885670523], [0.7380283677741311, 0.04861935307449647, 0.3205854549653861, 0.5917560755344262], [1.0, 0.0, 0.0, 0.0]], [[0.901403253406157, 0.002911573800734908, 0.05177212090154083, 0.42986433323102635], [0.9725044469645475, -0.007543252253105252, 0.051090396773522125, 0.22708582372563382], [0.9209735100122975, -0.24676199974865423, 0.19807664839825878, 0.22733664617695523], [0.9650324893541342, -0.007398949670322628, 0.0515187933686156, 0.2569111985970655], [0.9280327510859581, -0.1591577291977492, -0.21481475061088837, 0.2593812889713249], [0.8040622883985487, 0.011278379436195233, 0.05232619644623239, 0.5921305630501208], [0.7794100362755457, 0.2876235722740098, 0.010046916031129132, 0.5564995377388495], [0.7600474338751415, 0.017248389733429556, 0.04697876941738759, 0.647937795266987], [0.7256047984099625, 0.03872735790826181, 0.3011136752552256, 0.6175179534622242], [1.0, 0.0, 0.0, 0.0]], [[0.8956447074452922, -0.002917400661151915, 0.03036300931175629, 0.44372303801375157], [0.9052174658470028, -0.0006042506051449776, 0.030924587757873608, 0.4238214768965138], [0.8386353477286519, -0.33867650063030996, 0.15117182953468683, 0.39891861252138483], [0.9710732687556906, -0.010673660804494042, 0.029053618808049134, 0.23676711534190223], [0.9365011211389792, -0.15505420713663082, -0.2101365552463867, 0.23402237308395935], [0.8851277338891849, -0.0042332062865257595, 0.02909414351948318, 0.46441845944966464], [0.8395445074874478, 0.3182127569278367, -0.07413721414676351, 0.4340614412207113], [0.7743494026073826, 0.003836801046533218, 0.029940778607782412, 0.6320378401770569], [0.7402730790734681, 0.02954345762140632, 0.28791789355691194, 0.6068164789131962], [1.0, 0.0, 0.0, 0.0]], [[0.9011673347310447, 0.004709431326851434, -0.0004141767083081686, 0.4334455958110282], [0.8066251688638454, 0.010624202095865364, -0.003026731999300502, 0.5909600681760178], [0.7487605074267064, -0.3679304753107025, 0.05493821256598822, 0.5486042842120322], [0.9721847207604138, 0.006225400996774872, -0.0007862228469761011, 0.23413136260667966], [0.9403256774370021, -0.1273770480870528, -0.22123747798827387, 0.22498152436735733], [0.9555750855954325, -0.0015429397786365813, 0.002829210931334563, 0.2947301659003152], [0.8812708506953199, 0.34335049255507405, -0.1804133514610103, 0.27004286621116513], [0.7965902392264685, 0.004673828895371181, -0.0011853811280692853, 0.6045004060909765], [0.7689584058262782, 0.039856317484425544, 0.25340727412104874, 0.5855759536458353], [1.0, 0.0, 0.0, 0.0]], [[0.8969502489573015, 0.003653927023088304, -0.017700852161421074, 0.4417619036828603], [0.7362041652869142, 0.001768905320689265, -0.021993466218066658, 0.676399723116353], [0.6719093749176432, -0.40189983228664683, -0.009798298638401917, 0.6220275798142231], [0.9758595001450421, 0.006504168099922405, -0.01636976746799773, 0.2176877637512959], [0.9381038310806342, -0.13775329522400095, -0.24124010988283856, 0.20685367086537843], [0.9860295971685401, 0.005656867142140761, -0.01262827877368895, 0.16599445754903025], [0.9164264539642913, 0.29928663587171694, -0.22908610969066134, 0.1345719822616245], [0.8136440156135388, -0.0011184149602350678, -0.01841169387609394, 0.581070713883315], [0.789863378039024, 0.04056711949941746, 0.23686283229887237, 0.5642394452035927], [1.0, 0.0, 0.0, 0.0]], [[0.9038995674456111, -0.004425453790644877, -0.021474400263988124, 0.427182440490812], [0.8308303079425791, -0.00723543793325847, -0.017854165487336454, 0.5561923018315733], [0.7722985667799556, -0.3739347095791321, 0.05729606834378769, 0.5103380421582745], [0.9793498628073016, 0.002637689630672173, -0.0216186995062215, 0.20099631997723538], [0.9427872762129418, -0.13870568661570584, -0.23666182473850336, 0.18948368009643837], [0.9560905201997293, -0.003864229627305178, -0.025117726271631828, 0.29196760906056296], [0.8900192675335495, 0.30333106011868977, -0.1900776725156645, 0.28235872537845086], [0.8126349294105473, -0.007154569462240856, -0.021077717865235365, 0.5823478457479847], [0.7904168222312946, 0.03563672490013429, 0.2343567603571996, 0.5648435003140714], [1.0, 0.0, 0.0, 0.0]], [[0.9125237746355088, -0.010066484966483442, -0.01968634894367595, 0.40842560432794917], [0.95784508115661, -0.006838193845367209, -0.019222134070471027, 0.2865598526849093], [0.9205940796807666, -0.25422765593424645, 0.11642974264815792, 0.2726150297430144], [0.9821654559550071, -0.003554107405171911, -0.020964429778853808, 0.18681241429116224], [0.9375795440718583, -0.161296661496514, -0.2532759954546952, 0.17544017685387397], [0.8402793419264001, -0.013204521269262002, -0.015669003307986557, 0.5417663246134076], [0.805973568694937, 0.26857094761503275, -0.07477559144239991, 0.522192362627749], [0.8062903162333673, -0.016127982927248066, -0.01937975481173596, 0.5909824356259938], [0.785476442661825, 0.02266456177564865, 0.23637444038821262, 0.5715244523150361], [1.0, 0.0, 0.0, 0.0]], [[0.9171086975055751, -0.008990602087813363, -0.017283745066338348, 0.39816086973760745], [0.9934145547513673, -0.004462367131588488, -0.02261672132363154, 0.11223231978487741], [0.9640740590658364, -0.2069832886005074, 0.13917719574225773, 0.09137195993171103], [0.9826873245447368, -0.005222355888885008, -0.01849265238799156, 0.18427254539332197], [0.9254478120698554, -0.18522244544880223, -0.2824379038267335, 0.17166194487726213], [0.7622365382042343, -0.014635793676849133, -0.014707753999103417, 0.6469659460452116], [0.7275331900038325, 0.2418844696487834, -0.03474587516209927, 0.6410772846894467], [0.8026976776735585, -0.009896620347555342, -0.013254138706801174, 0.5961567100774035], [0.7777808426034525, 0.0312639375052015, 0.24838071724464256, 0.5765297445854559], [1.0, 0.0, 0.0, 0.0]], [[0.9243947272742637, -0.01158963960672292, -0.02247462468448208, 0.38059816038259725], [0.9324772709723876, -0.0063959573352616, -0.020928558982398968, 0.3605651484386337], [0.8732682339777241, -0.3403422847104027, 0.12949386898268897, 0.3237299162255847], [0.9785386212612367, -0.007472116568382644, -0.025486636285690797, 0.20434472233211057], [0.9399701554671893, -0.1465001433794356, -0.23935310919019664, 0.1941749312907789], [0.9079750402442105, -0.013252595073032064, -0.019222824433950098, 0.4183732520586568], [0.8461166900640792, 0.31922128199031097, -0.14165930572755353, 0.4026375057297283], [0.8067512972607831, -0.021222631023917287, -0.022472558003946357, 0.5900821370260463], [0.7870126589255176, 0.017059805098595827, 0.2338689449806858, 0.5706359209816758], [1.0, 0.0, 0.0, 0.0]]]};\n",
       "    </script>\n",
       "    <div id=\"brax-viewer\"></div>\n",
       "    <script type=\"module\">\n",
       "      import {Viewer} from 'https://cdn.jsdelivr.net/gh/google/brax@v0.0.10/js/viewer.js';\n",
       "      const domElement = document.getElementById('brax-viewer');\n",
       "      var viewer = new Viewer(domElement, system);\n",
       "    </script>\n",
       "  </body>\n",
       "</html>\n"
      ],
      "text/plain": [
       "<IPython.core.display.HTML object>"
      ]
     },
     "execution_count": 72,
     "metadata": {},
     "output_type": "execute_result"
    }
   ],
   "source": [
    "HTML(html.render(orig_env.sys, [s.qp for s in rollout]))"
   ]
  },
  {
   "cell_type": "code",
   "execution_count": 43,
   "metadata": {},
   "outputs": [],
   "source": [
    "def get_state_of_single(state,i):\n",
    "    single_qp = env._state.qp.replace(ang=state.qp.ang[i],pos=state.qp.pos[i], rot=state.qp.rot[i], vel=state.qp.vel[i])\n",
    "    single_state = state.replace(qp=single_qp, obs=env._state.obs[i], reward=env._state.reward[i], done=env._state.done[i])\n",
    "    return single_state"
   ]
  },
  {
   "cell_type": "code",
   "execution_count": 44,
   "metadata": {},
   "outputs": [],
   "source": [
    "single_state = get_state_of_single(env._state,0)"
   ]
  },
  {
   "cell_type": "code",
   "execution_count": 42,
   "metadata": {},
   "outputs": [
    {
     "data": {
      "text/plain": [
       "DeviceArray([[ -2.9722981 ,   0.5370713 ,  -1.3422078 ],\n",
       "             [ -0.25793624,  -1.4036578 ,   5.8827424 ],\n",
       "             [  3.6104767 ,  -4.4154706 ,   6.740587  ],\n",
       "             [ -3.2364454 ,   0.52683085, -12.770712  ],\n",
       "             [  4.5631127 ,   4.132759  , -14.566703  ],\n",
       "             [ -2.6985877 ,   0.7522205 ,  11.89936   ],\n",
       "             [  4.073015  ,  -3.4758124 ,  13.271248  ],\n",
       "             [ -3.1361234 ,   0.8718652 ,  -3.4634967 ],\n",
       "             [ -0.38211715,   3.3213189 ,  -3.985687  ],\n",
       "             [  0.        ,   0.        ,   0.        ]], dtype=float32)"
      ]
     },
     "execution_count": 42,
     "metadata": {},
     "output_type": "execute_result"
    }
   ],
   "source": [
    "env._state.qp."
   ]
  },
  {
   "cell_type": "code",
   "execution_count": 48,
   "metadata": {},
   "outputs": [
    {
     "data": {
      "text/html": [
       "\n",
       "<html>\n",
       "  <head>\n",
       "    <title>brax visualizer</title>\n",
       "    <style>\n",
       "      body {\n",
       "        margin: 0;\n",
       "        padding: 0;\n",
       "      }\n",
       "      #brax-viewer {\n",
       "        margin: 0;\n",
       "        padding: 0;\n",
       "        height: 480px;\n",
       "      }\n",
       "    </style>\n",
       "  </head>\n",
       "  <body>\n",
       "    <script type=\"application/javascript\">\n",
       "    var system = {\"config\": {\"bodies\": [{\"name\": \"$ Torso\", \"colliders\": [{\"capsule\": {\"radius\": 0.25, \"length\": 0.5, \"end\": 1}, \"material\": {\"friction\": 1.0, \"elasticity\": 0.0}}], \"inertia\": {\"x\": 1.0, \"y\": 1.0, \"z\": 1.0}, \"mass\": 10.0, \"frozen\": {\"position\": {\"x\": 0.0, \"y\": 0.0, \"z\": 0.0}, \"rotation\": {\"x\": 0.0, \"y\": 0.0, \"z\": 0.0}, \"all\": false}}, {\"name\": \"Aux 1\", \"colliders\": [{\"rotation\": {\"x\": 90.0, \"y\": -45.0, \"z\": 0.0}, \"capsule\": {\"radius\": 0.08, \"length\": 0.44284272, \"end\": 0}, \"material\": {\"friction\": 1.0, \"elasticity\": 0.0}}], \"inertia\": {\"x\": 1.0, \"y\": 1.0, \"z\": 1.0}, \"mass\": 1.0, \"frozen\": {\"position\": {\"x\": 0.0, \"y\": 0.0, \"z\": 0.0}, \"rotation\": {\"x\": 0.0, \"y\": 0.0, \"z\": 0.0}, \"all\": false}}, {\"name\": \"$ Body 4\", \"colliders\": [{\"rotation\": {\"x\": 90.0, \"y\": -45.0, \"z\": 0.0}, \"capsule\": {\"radius\": 0.08, \"length\": 0.7256854, \"end\": -1}, \"material\": {\"friction\": 1.0, \"elasticity\": 0.0}}], \"inertia\": {\"x\": 1.0, \"y\": 1.0, \"z\": 1.0}, \"mass\": 1.0, \"frozen\": {\"position\": {\"x\": 0.0, \"y\": 0.0, \"z\": 0.0}, \"rotation\": {\"x\": 0.0, \"y\": 0.0, \"z\": 0.0}, \"all\": false}}, {\"name\": \"Aux 2\", \"colliders\": [{\"rotation\": {\"x\": 90.0, \"y\": 45.0, \"z\": 0.0}, \"capsule\": {\"radius\": 0.08, \"length\": 0.44284272, \"end\": 0}, \"material\": {\"friction\": 1.0, \"elasticity\": 0.0}}], \"inertia\": {\"x\": 1.0, \"y\": 1.0, \"z\": 1.0}, \"mass\": 1.0, \"frozen\": {\"position\": {\"x\": 0.0, \"y\": 0.0, \"z\": 0.0}, \"rotation\": {\"x\": 0.0, \"y\": 0.0, \"z\": 0.0}, \"all\": false}}, {\"name\": \"$ Body 7\", \"colliders\": [{\"rotation\": {\"x\": 90.0, \"y\": 45.0, \"z\": 0.0}, \"capsule\": {\"radius\": 0.08, \"length\": 0.7256854, \"end\": -1}, \"material\": {\"friction\": 1.0, \"elasticity\": 0.0}}], \"inertia\": {\"x\": 1.0, \"y\": 1.0, \"z\": 1.0}, \"mass\": 1.0, \"frozen\": {\"position\": {\"x\": 0.0, \"y\": 0.0, \"z\": 0.0}, \"rotation\": {\"x\": 0.0, \"y\": 0.0, \"z\": 0.0}, \"all\": false}}, {\"name\": \"Aux 3\", \"colliders\": [{\"rotation\": {\"x\": -90.0, \"y\": 45.0, \"z\": 0.0}, \"capsule\": {\"radius\": 0.08, \"length\": 0.44284272, \"end\": 0}, \"material\": {\"friction\": 1.0, \"elasticity\": 0.0}}], \"inertia\": {\"x\": 1.0, \"y\": 1.0, \"z\": 1.0}, \"mass\": 1.0, \"frozen\": {\"position\": {\"x\": 0.0, \"y\": 0.0, \"z\": 0.0}, \"rotation\": {\"x\": 0.0, \"y\": 0.0, \"z\": 0.0}, \"all\": false}}, {\"name\": \"$ Body 10\", \"colliders\": [{\"rotation\": {\"x\": -90.0, \"y\": 45.0, \"z\": 0.0}, \"capsule\": {\"radius\": 0.08, \"length\": 0.7256854, \"end\": -1}, \"material\": {\"friction\": 1.0, \"elasticity\": 0.0}}], \"inertia\": {\"x\": 1.0, \"y\": 1.0, \"z\": 1.0}, \"mass\": 1.0, \"frozen\": {\"position\": {\"x\": 0.0, \"y\": 0.0, \"z\": 0.0}, \"rotation\": {\"x\": 0.0, \"y\": 0.0, \"z\": 0.0}, \"all\": false}}, {\"name\": \"Aux 4\", \"colliders\": [{\"rotation\": {\"x\": -90.0, \"y\": -45.0, \"z\": 0.0}, \"capsule\": {\"radius\": 0.08, \"length\": 0.44284272, \"end\": 0}, \"material\": {\"friction\": 1.0, \"elasticity\": 0.0}}], \"inertia\": {\"x\": 1.0, \"y\": 1.0, \"z\": 1.0}, \"mass\": 1.0, \"frozen\": {\"position\": {\"x\": 0.0, \"y\": 0.0, \"z\": 0.0}, \"rotation\": {\"x\": 0.0, \"y\": 0.0, \"z\": 0.0}, \"all\": false}}, {\"name\": \"$ Body 13\", \"colliders\": [{\"rotation\": {\"x\": -90.0, \"y\": -45.0, \"z\": 0.0}, \"capsule\": {\"radius\": 0.08, \"length\": 0.7256854, \"end\": -1}, \"material\": {\"friction\": 1.0, \"elasticity\": 0.0}}], \"inertia\": {\"x\": 1.0, \"y\": 1.0, \"z\": 1.0}, \"mass\": 1.0, \"frozen\": {\"position\": {\"x\": 0.0, \"y\": 0.0, \"z\": 0.0}, \"rotation\": {\"x\": 0.0, \"y\": 0.0, \"z\": 0.0}, \"all\": false}}, {\"name\": \"Ground\", \"colliders\": [{\"plane\": {}, \"material\": {\"friction\": 1.0, \"elasticity\": 0.0}}], \"inertia\": {\"x\": 1.0, \"y\": 1.0, \"z\": 1.0}, \"mass\": 1.0, \"frozen\": {\"position\": {\"x\": 1.0, \"y\": 1.0, \"z\": 1.0}, \"rotation\": {\"x\": 1.0, \"y\": 1.0, \"z\": 1.0}, \"all\": true}}], \"joints\": [{\"name\": \"$ Torso_Aux 1\", \"stiffness\": 18000.0, \"parent\": \"$ Torso\", \"child\": \"Aux 1\", \"parentOffset\": {\"x\": 0.2, \"y\": 0.2, \"z\": 0.0}, \"childOffset\": {\"x\": -0.1, \"y\": -0.1, \"z\": 0.0}, \"rotation\": {\"y\": -90.0, \"x\": 0.0, \"z\": 0.0}, \"angularDamping\": 20.0, \"angleLimit\": [{\"min\": -30.0, \"max\": 30.0}], \"springDamping\": 80.0}, {\"name\": \"Aux 1_$ Body 4\", \"stiffness\": 18000.0, \"parent\": \"Aux 1\", \"child\": \"$ Body 4\", \"parentOffset\": {\"x\": 0.1, \"y\": 0.1, \"z\": 0.0}, \"childOffset\": {\"x\": -0.2, \"y\": -0.2, \"z\": 0.0}, \"rotation\": {\"z\": 135.0, \"x\": 0.0, \"y\": 0.0}, \"angularDamping\": 20.0, \"angleLimit\": [{\"min\": 30.0, \"max\": 70.0}], \"springDamping\": 80.0}, {\"name\": \"$ Torso_Aux 2\", \"stiffness\": 18000.0, \"parent\": \"$ Torso\", \"child\": \"Aux 2\", \"parentOffset\": {\"x\": -0.2, \"y\": 0.2, \"z\": 0.0}, \"childOffset\": {\"x\": 0.1, \"y\": -0.1, \"z\": 0.0}, \"rotation\": {\"y\": -90.0, \"x\": 0.0, \"z\": 0.0}, \"angularDamping\": 20.0, \"angleLimit\": [{\"min\": -30.0, \"max\": 30.0}], \"springDamping\": 80.0}, {\"name\": \"Aux 2_$ Body 7\", \"stiffness\": 18000.0, \"parent\": \"Aux 2\", \"child\": \"$ Body 7\", \"parentOffset\": {\"x\": -0.1, \"y\": 0.1, \"z\": 0.0}, \"childOffset\": {\"x\": 0.2, \"y\": -0.2, \"z\": 0.0}, \"rotation\": {\"z\": 45.0, \"x\": 0.0, \"y\": 0.0}, \"angularDamping\": 20.0, \"angleLimit\": [{\"min\": -70.0, \"max\": -30.0}], \"springDamping\": 80.0}, {\"name\": \"$ Torso_Aux 3\", \"stiffness\": 18000.0, \"parent\": \"$ Torso\", \"child\": \"Aux 3\", \"parentOffset\": {\"x\": -0.2, \"y\": -0.2, \"z\": 0.0}, \"childOffset\": {\"x\": 0.1, \"y\": 0.1, \"z\": 0.0}, \"rotation\": {\"y\": -90.0, \"x\": 0.0, \"z\": 0.0}, \"angularDamping\": 20.0, \"angleLimit\": [{\"min\": -30.0, \"max\": 30.0}], \"springDamping\": 80.0}, {\"name\": \"Aux 3_$ Body 10\", \"stiffness\": 18000.0, \"parent\": \"Aux 3\", \"child\": \"$ Body 10\", \"parentOffset\": {\"x\": -0.1, \"y\": -0.1, \"z\": 0.0}, \"childOffset\": {\"x\": 0.2, \"y\": 0.2, \"z\": 0.0}, \"rotation\": {\"z\": 135.0, \"x\": 0.0, \"y\": 0.0}, \"angularDamping\": 20.0, \"angleLimit\": [{\"min\": -70.0, \"max\": -30.0}], \"springDamping\": 80.0}, {\"name\": \"$ Torso_Aux 4\", \"stiffness\": 18000.0, \"parent\": \"$ Torso\", \"child\": \"Aux 4\", \"parentOffset\": {\"x\": 0.2, \"y\": -0.2, \"z\": 0.0}, \"childOffset\": {\"x\": -0.1, \"y\": 0.1, \"z\": 0.0}, \"rotation\": {\"y\": -90.0, \"x\": 0.0, \"z\": 0.0}, \"angularDamping\": 20.0, \"angleLimit\": [{\"min\": -30.0, \"max\": 30.0}], \"springDamping\": 80.0}, {\"name\": \"Aux 4_$ Body 13\", \"stiffness\": 18000.0, \"parent\": \"Aux 4\", \"child\": \"$ Body 13\", \"parentOffset\": {\"x\": 0.1, \"y\": -0.1, \"z\": 0.0}, \"childOffset\": {\"x\": -0.2, \"y\": 0.2, \"z\": 0.0}, \"rotation\": {\"z\": 45.0, \"x\": 0.0, \"y\": 0.0}, \"angularDamping\": 20.0, \"angleLimit\": [{\"min\": 30.0, \"max\": 70.0}], \"springDamping\": 80.0}], \"actuators\": [{\"name\": \"$ Torso_Aux 1\", \"joint\": \"$ Torso_Aux 1\", \"strength\": 350.0, \"torque\": {}}, {\"name\": \"Aux 1_$ Body 4\", \"joint\": \"Aux 1_$ Body 4\", \"strength\": 350.0, \"torque\": {}}, {\"name\": \"$ Torso_Aux 2\", \"joint\": \"$ Torso_Aux 2\", \"strength\": 350.0, \"torque\": {}}, {\"name\": \"Aux 2_$ Body 7\", \"joint\": \"Aux 2_$ Body 7\", \"strength\": 350.0, \"torque\": {}}, {\"name\": \"$ Torso_Aux 3\", \"joint\": \"$ Torso_Aux 3\", \"strength\": 350.0, \"torque\": {}}, {\"name\": \"Aux 3_$ Body 10\", \"joint\": \"Aux 3_$ Body 10\", \"strength\": 350.0, \"torque\": {}}, {\"name\": \"$ Torso_Aux 4\", \"joint\": \"$ Torso_Aux 4\", \"strength\": 350.0, \"torque\": {}}, {\"name\": \"Aux 4_$ Body 13\", \"joint\": \"Aux 4_$ Body 13\", \"strength\": 350.0, \"torque\": {}}], \"friction\": 1.0, \"gravity\": {\"z\": -9.8, \"x\": 0.0, \"y\": 0.0}, \"angularDamping\": -0.05, \"baumgarteErp\": 0.1, \"collideInclude\": [{\"first\": \"$ Torso\", \"second\": \"Ground\"}, {\"first\": \"$ Body 4\", \"second\": \"Ground\"}, {\"first\": \"$ Body 7\", \"second\": \"Ground\"}, {\"first\": \"$ Body 10\", \"second\": \"Ground\"}, {\"first\": \"$ Body 13\", \"second\": \"Ground\"}], \"dt\": 0.05, \"substeps\": 10, \"frozen\": {\"all\": false}, \"forces\": [], \"elasticity\": 0.0, \"velocityDamping\": 0.0, \"defaults\": [], \"colliderCutoff\": 0, \"meshGeometries\": []}, \"pos\": [[[0.0, 0.0, 0.5365346599481844], [0.3093275546420072, 0.28970778995376306, 0.5365346599481844], [0.5745510137545843, 0.5073346297467265, 0.3382087051413162], [-0.3028956547541173, 0.29701796751296117, 0.5365346599481844], [-0.5326010771726353, 0.5136019741350114, 0.3137719026651591], [-0.30898205595522615, -0.29012720600685493, 0.5365346599481844], [-0.5466691591343867, -0.48669235797690774, 0.3082673266285775], [0.3023340395543233, -0.2976101743482769, 0.5365346599481844], [0.5437419572998742, -0.527874405190823, 0.32902235075899927], [0.0, 0.0, 0.0]]], \"rot\": [[[1.0, 0.0, 0.0, 0.0], [0.9987934416953389, -1.0904313775359507e-17, 0.0, -0.049108663455440044], [0.9243498218475319, -0.25439487485423695, 0.2807046411688228, -0.04544842048537676], [0.9998920108287557, 3.2631241867960202e-18, 0.0, 0.01469580487171821], [0.8988483286605671, -0.30517011768110913, -0.31427433565313095, 0.013210726262646369], [0.9988859457348691, -1.0478217416106803e-17, 0.0, -0.04718969605068564], [0.8907708905108772, 0.3045103203265953, -0.33470850481093584, -0.042082089305082816], [0.9999302537711504, 2.6224548257487016e-18, 0.0, 0.011810486576037811], [0.9163173950741371, 0.2796966305522269, 0.28638277004699086, 0.010822909151011497], [1.0, 0.0, 0.0, 0.0]]]};\n",
       "    </script>\n",
       "    <div id=\"brax-viewer\"></div>\n",
       "    <script type=\"module\">\n",
       "      import {Viewer} from 'https://cdn.jsdelivr.net/gh/google/brax@v0.0.10/js/viewer.js';\n",
       "      const domElement = document.getElementById('brax-viewer');\n",
       "      var viewer = new Viewer(domElement, system);\n",
       "    </script>\n",
       "  </body>\n",
       "</html>\n"
      ],
      "text/plain": [
       "<IPython.core.display.HTML object>"
      ]
     },
     "execution_count": 48,
     "metadata": {},
     "output_type": "execute_result"
    }
   ],
   "source": [
    "from brax import envs\n",
    "env_name = \"ant\"  # @param ['ant', 'humanoid', 'fetch', 'grasp', 'halfcheetah', 'ur5e', 'reacher']\n",
    "env_fn = envs.create_fn(env_name=env_name)\n",
    "env = env_fn()\n",
    "state = env.reset(rng=jp.random_prngkey(seed=0))\n",
    "\n",
    "HTML(html.render(env.sys, [state.qp]))"
   ]
  },
  {
   "cell_type": "code",
   "execution_count": null,
   "metadata": {},
   "outputs": [],
   "source": []
  },
  {
   "cell_type": "code",
   "execution_count": null,
   "metadata": {},
   "outputs": [],
   "source": []
  },
  {
   "cell_type": "code",
   "execution_count": null,
   "metadata": {},
   "outputs": [],
   "source": [
    "def params_tree_to_vec(params):\n",
    "    \n",
    "    numelements = jax.tree_map(lambda x:x.size ,params)\n",
    "    numel_leafs,treedef = jax.tree_flatten(numelements)\n",
    "    ending_indicies = np.cumsum(numel_leafs)\n",
    "    ending_indicies_tree = jax.tree_unflatten(treedef,ending_indicies)\n",
    "    \n",
    "    shapes_tree = jax.tree_map(lambda x:x.shape ,params)\n",
    "    \n",
    "    flat_shaped_tree = jax.tree_map(lambda x:x.reshape(-1) ,params)\n",
    "    flat_shaped_leafs,treedef = jax.tree_flatten(flat_shaped_tree)\n",
    "    \n",
    "    vec = jnp.concatenate(flat_shaped_leafs)\n",
    "    \n",
    "    return vec,shapes_tree,ending_indicies_tree\n",
    "    \n",
    "def vec_to_params_tree(vec,shapes,indicies):\n",
    "    return jax.tree_multimap(lambda i,shape:vec[i-np.prod(shape):i].reshape(shape),indicies,shapes)\n",
    "\n",
    "batch_vec_to_params = jax.vmap(vec_to_params_tree,in_axes=[0, None,None])\n"
   ]
  },
  {
   "cell_type": "code",
   "execution_count": 177,
   "metadata": {},
   "outputs": [],
   "source": [
    "def create_ant(population_size,evaluation_batch_size):\n",
    "    env = ant.QDUniAnt()\n",
    "    env = wrappers.EpisodeWrapper(env, episode_length=1000, action_repeat=1)\n",
    "    env = wrappers.VectorWrapper(env, batch_size=population_size+evaluation_batch_size)\n",
    "    env = wrappers.AutoResetWrapper(env)\n",
    "    env = wrappers.VectorGymWrapper(env)\n",
    "    return env\n",
    "\n",
    "def create_model(observation_size, action_size):\n",
    "    parametric_action_distribution = distribution.NormalTanhDistribution(event_size=action_size)\n",
    "    return = networks.make_model(\n",
    "      [64, 64, parametric_action_distribution.param_size],\n",
    "      observation_size,\n",
    "    )\n",
    "    \n",
    "batch_model_apply = jp.vmap(model.apply)\n",
    "initial_params_tree = model.init(key)\n",
    "    \n",
    "initial_params_flat = \n",
    "    \n",
    "    \n"
   ]
  },
  {
   "cell_type": "code",
   "execution_count": 136,
   "metadata": {},
   "outputs": [],
   "source": [
    "def calculate_obs_stats(obs_stats):\n",
    "    sum = obs_stats[\"sum\"]\n",
    "    sumsq = obs_stats[\"sumsq\"]\n",
    "    count = obs_stats[\"count\"]\n",
    "    \n",
    "    if count == 0:\n",
    "        return np.zeros_like(sum),np.ones_like(sum)\n",
    "    mean = sum / count\n",
    "    std = np.sqrt(np.maximum(sumsq / count - np.square(mean), 1e-2))\n",
    "    return mean,std\n"
   ]
  },
  {
   "cell_type": "code",
   "execution_count": 181,
   "metadata": {},
   "outputs": [],
   "source": [
    "def rollout_episodes(env,params,obs_stats,config):\n",
    "    \n",
    "    obs = env.reset()\n",
    "    \n",
    "    # TODO model from params\n",
    "    \n",
    "    cumulative_reward = jnp.zeros(obs.shape[0])\n",
    "    active_episode = jnp.ones_like(cumulative_reward)\n",
    "    bd_dim = env._state.info[\"bd\"].shape[1]\n",
    "    bds = jnp.zeros([obs.shape[0],bd_dim])\n",
    "\n",
    "    # prepare obs stats\n",
    "    mean,var = calculate_obs_stats(obs_stats)\n",
    "    mean = jnp.array(mean)\n",
    "    var = jnp.array(var)\n",
    "    \n",
    "    # also prepare variable to accumulate values to calcuate obs stats, we will add new obs and return these\n",
    "    obs_sums = jnp.array(obs_stats[\"sum\"])\n",
    "    obs_squared_sums = jnp.array(obs_stats[\"sumsq\"])\n",
    "    obs_count = jnp.array([obs_stats[\"count\"]])\n",
    "    \n",
    "    \n",
    "    # max_steps = config[\"\"] # TODO\n",
    "    max_steps = 1000\n",
    "    \n",
    "    \n",
    "    \n",
    "    for step_i in range(max_steps):\n",
    "    \n",
    "        normalized_obs = (obs-mean) / var\n",
    "        \n",
    "        # TODO apply model with normalized_obs\n",
    "        action = jnp.array(np.random.randn(*env.action_space.shape))\n",
    "    \n",
    "        obs,reward,done,info = env.step(action)\n",
    "        \n",
    "        \n",
    "        last_step_of_first_episode = active_episode * done # will only ever be 1 when we are at last step of first episode\n",
    "        active_episode = active_episode * (1 - done) # once the first episode is done, active_episode will become and stay 0\n",
    "        \n",
    "        cumulative_reward += reward * active_episode\n",
    "    \n",
    "        # bs is sometimes nan and inf (we multiply by 0 in those cases, but still infects with nan...)\n",
    "        info_bd = jnp.nan_to_num(info[\"bd\"],nan=0.0, posinf=0.0, neginf=0.0)\n",
    "        bds = bds + last_step_of_first_episode.reshape(-1,1) * info_bd\n",
    "\n",
    "        # record observation stats, only count active episodes (zero out others)\n",
    "        active_obs = active_episode.reshape(-1,1) * obs\n",
    "        obs_sums = obs_sums + jnp.sum(active_obs,axis=0)\n",
    "        obs_squared_sums = obs_squared_sums + jnp.sum(active_obs*active_obs,axis=0)\n",
    "        obs_count = obs_count + jnp.sum(active_episode)\n",
    "    \n",
    "    # turn back obs stats into normal cpu format\n",
    "    new_obs_stats = {\n",
    "        \"sum\" : np.array(obs_sums),\n",
    "        \"sumsq\" : np.array(obs_squared_sums),\n",
    "        \"count\" : obs_count[0],\n",
    "    }\n",
    "    return cumulative_reward,bds,new_obs_stats\n",
    "    \n",
    "    "
   ]
  },
  {
   "cell_type": "code",
   "execution_count": 138,
   "metadata": {},
   "outputs": [],
   "source": [
    "observation_stats = {                  # this is a single obs stats to keep track of during the whole experiment. \n",
    "        \"sum\" : np.zeros(obs_shape),       # This is always expanded, and always used to calculate the current mean and std\n",
    "        \"sumsq\" : np.zeros(obs_shape),\n",
    "        \"count\" : 0,\n",
    "    }"
   ]
  },
  {
   "cell_type": "code",
   "execution_count": 143,
   "metadata": {},
   "outputs": [],
   "source": [
    "env = create_ant(1)"
   ]
  },
  {
   "cell_type": "code",
   "execution_count": 145,
   "metadata": {},
   "outputs": [
    {
     "name": "stdout",
     "output_type": "stream",
     "text": [
      "CPU times: user 4.4 s, sys: 989 ms, total: 5.39 s\n",
      "Wall time: 3.59 s\n"
     ]
    }
   ],
   "source": [
    "%%time\n",
    "fitness,bds,new_obs_stats = rollout_episodes(env,params=None,obs_stats=observation_stats,config=None)"
   ]
  },
  {
   "cell_type": "code",
   "execution_count": 146,
   "metadata": {},
   "outputs": [],
   "source": [
    "env = create_ant(100)"
   ]
  },
  {
   "cell_type": "code",
   "execution_count": 148,
   "metadata": {},
   "outputs": [
    {
     "name": "stdout",
     "output_type": "stream",
     "text": [
      "CPU times: user 4.61 s, sys: 942 ms, total: 5.56 s\n",
      "Wall time: 3.8 s\n"
     ]
    }
   ],
   "source": [
    "%%time\n",
    "fitness,bds,new_obs_stats = rollout_episodes(env,params=None,obs_stats=observation_stats,config=None)"
   ]
  },
  {
   "cell_type": "code",
   "execution_count": 178,
   "metadata": {},
   "outputs": [],
   "source": [
    "env = create_ant(1000)"
   ]
  },
  {
   "cell_type": "code",
   "execution_count": 151,
   "metadata": {},
   "outputs": [
    {
     "name": "stdout",
     "output_type": "stream",
     "text": [
      "CPU times: user 5.04 s, sys: 819 ms, total: 5.86 s\n",
      "Wall time: 4.1 s\n"
     ]
    }
   ],
   "source": [
    "%%time\n",
    "fitness,bds,new_obs_stats = rollout_episodes(env,params=None,obs_stats=observation_stats,config=None)"
   ]
  },
  {
   "cell_type": "code",
   "execution_count": 165,
   "metadata": {},
   "outputs": [],
   "source": [
    "env = create_ant(5000)"
   ]
  },
  {
   "cell_type": "code",
   "execution_count": 167,
   "metadata": {},
   "outputs": [
    {
     "name": "stdout",
     "output_type": "stream",
     "text": [
      "CPU times: user 5.57 s, sys: 680 ms, total: 6.25 s\n",
      "Wall time: 4.8 s\n"
     ]
    }
   ],
   "source": [
    "%%time\n",
    "fitness,bds,new_obs_stats = rollout_episodes(env,params=None,obs_stats=observation_stats,config=None)"
   ]
  },
  {
   "cell_type": "code",
   "execution_count": 182,
   "metadata": {},
   "outputs": [],
   "source": [
    "env = create_ant(10000)"
   ]
  },
  {
   "cell_type": "code",
   "execution_count": 184,
   "metadata": {},
   "outputs": [
    {
     "name": "stdout",
     "output_type": "stream",
     "text": [
      "CPU times: user 674 ms, sys: 68.3 ms, total: 743 ms\n",
      "Wall time: 620 ms\n"
     ]
    }
   ],
   "source": [
    "%%time\n",
    "fitness,bds,new_obs_stats = rollout_episodes(env,params=None,obs_stats=observation_stats,config=None)"
   ]
  },
  {
   "cell_type": "code",
   "execution_count": 169,
   "metadata": {},
   "outputs": [],
   "source": [
    "env = create_ant(20000)"
   ]
  },
  {
   "cell_type": "code",
   "execution_count": 171,
   "metadata": {},
   "outputs": [
    {
     "name": "stdout",
     "output_type": "stream",
     "text": [
      "CPU times: user 8.81 s, sys: 463 ms, total: 9.27 s\n",
      "Wall time: 10.1 s\n"
     ]
    }
   ],
   "source": [
    "%%time\n",
    "fitness,bds,new_obs_stats = rollout_episodes(env,params=None,obs_stats=observation_stats,config=None)"
   ]
  },
  {
   "cell_type": "code",
   "execution_count": 155,
   "metadata": {},
   "outputs": [],
   "source": [
    "env = create_ant(50000)"
   ]
  },
  {
   "cell_type": "code",
   "execution_count": 157,
   "metadata": {},
   "outputs": [
    {
     "name": "stdout",
     "output_type": "stream",
     "text": [
      "CPU times: user 21 s, sys: 444 ms, total: 21.5 s\n",
      "Wall time: 34.5 s\n"
     ]
    }
   ],
   "source": [
    "%%time\n",
    "fitness,bds,new_obs_stats = rollout_episodes(env,params=None,obs_stats=observation_stats,config=None)"
   ]
  },
  {
   "cell_type": "code",
   "execution_count": 172,
   "metadata": {},
   "outputs": [
    {
     "data": {
      "text/plain": [
       "[<matplotlib.lines.Line2D at 0x7fb8703d55b0>]"
      ]
     },
     "execution_count": 172,
     "metadata": {},
     "output_type": "execute_result"
    },
    {
     "data": {
      "image/png": "[encoded data removed]",
      "text/plain": [
       "<Figure size 432x288 with 1 Axes>"
      ]
     },
     "metadata": {
      "needs_background": "light"
     },
     "output_type": "display_data"
    }
   ],
   "source": [
    "import matplotlib.pyplot as plt\n",
    "episodes = np.array([1,100,1000,5000,10000,20000,50000])\n",
    "runtimes = np.array([3.59,3.8,4.1,4.8,5.95,10.1,34.5])\n",
    "\n",
    "episode_per_sec = episodes / runtimes\n",
    "step_per_sec = 1000*episode_per_sec\n",
    "\n",
    "plt.plot(episode_per_sec)"
   ]
  },
  {
   "cell_type": "code",
   "execution_count": null,
   "metadata": {},
   "outputs": [],
   "source": []
  },
  {
   "cell_type": "code",
   "execution_count": null,
   "metadata": {},
   "outputs": [],
   "source": [
    "def create_model_forward_fn(vec_to_params_fn,model_params_flat,obs):\n",
    "    \n",
    "    w1 = \n",
    "    "
   ]
  },
  {
   "cell_type": "code",
   "execution_count": 12,
   "metadata": {},
   "outputs": [],
   "source": [
    "from brax.training import distribution, networks\n",
    "\n",
    "def _generate_individual_model(observation_size, action_size):\n",
    "    parametric_action_distribution = distribution.NormalTanhDistribution(event_size=action_size)\n",
    "    return networks.make_model(\n",
    "      [64, 64, parametric_action_distribution.param_size],\n",
    "      observation_size,\n",
    "    )\n",
    "\n",
    "model = _generate_individual_model(30,4)"
   ]
  },
  {
   "cell_type": "code",
   "execution_count": 12,
   "metadata": {},
   "outputs": [],
   "source": [
    "model_params_dict = model.init(key)"
   ]
  },
  {
   "cell_type": "code",
   "execution_count": 38,
   "metadata": {},
   "outputs": [
    {
     "ename": "TypeError",
     "evalue": "apply() missing 1 required positional argument: 'variables'",
     "output_type": "error",
     "traceback": [
      "\u001b[0;31m---------------------------------------------------------------------------\u001b[0m",
      "\u001b[0;31mUnfilteredStackTrace\u001b[0m                      Traceback (most recent call last)",
      "\u001b[0;32m<ipython-input-38-7d5768fe65d6>\u001b[0m in \u001b[0;36m<module>\u001b[0;34m\u001b[0m\n\u001b[0;32m----> 1\u001b[0;31m \u001b[0mmodel\u001b[0m\u001b[0;34m.\u001b[0m\u001b[0mapply\u001b[0m\u001b[0;34m(\u001b[0m\u001b[0;34m)\u001b[0m\u001b[0;34m\u001b[0m\u001b[0;34m\u001b[0m\u001b[0m\n\u001b[0m",
      "\u001b[0;32m/scratch/ak1774/vargpu_env/lib/python3.8/site-packages/jax/_src/traceback_util.py\u001b[0m in \u001b[0;36mreraise_with_filtered_traceback\u001b[0;34m(*args, **kwargs)\u001b[0m\n\u001b[1;32m    164\u001b[0m     \u001b[0;32mtry\u001b[0m\u001b[0;34m:\u001b[0m\u001b[0;34m\u001b[0m\u001b[0;34m\u001b[0m\u001b[0m\n\u001b[0;32m--> 165\u001b[0;31m       \u001b[0;32mreturn\u001b[0m \u001b[0mfun\u001b[0m\u001b[0;34m(\u001b[0m\u001b[0;34m*\u001b[0m\u001b[0margs\u001b[0m\u001b[0;34m,\u001b[0m \u001b[0;34m**\u001b[0m\u001b[0mkwargs\u001b[0m\u001b[0;34m)\u001b[0m\u001b[0;34m\u001b[0m\u001b[0;34m\u001b[0m\u001b[0m\n\u001b[0m\u001b[1;32m    166\u001b[0m     \u001b[0;32mexcept\u001b[0m \u001b[0mException\u001b[0m \u001b[0;32mas\u001b[0m \u001b[0me\u001b[0m\u001b[0;34m:\u001b[0m\u001b[0;34m\u001b[0m\u001b[0;34m\u001b[0m\u001b[0m\n",
      "\u001b[0;31mUnfilteredStackTrace\u001b[0m: TypeError: apply() missing 1 required positional argument: 'variables'\n\nThe stack trace below excludes JAX-internal frames.\nThe preceding is the original exception that occurred, unmodified.\n\n--------------------",
      "\nThe above exception was the direct cause of the following exception:\n",
      "\u001b[0;31mTypeError\u001b[0m                                 Traceback (most recent call last)",
      "\u001b[0;32m<ipython-input-38-7d5768fe65d6>\u001b[0m in \u001b[0;36m<module>\u001b[0;34m\u001b[0m\n\u001b[0;32m----> 1\u001b[0;31m \u001b[0mmodel\u001b[0m\u001b[0;34m.\u001b[0m\u001b[0mapply\u001b[0m\u001b[0;34m(\u001b[0m\u001b[0;34m)\u001b[0m\u001b[0;34m\u001b[0m\u001b[0;34m\u001b[0m\u001b[0m\n\u001b[0m",
      "\u001b[0;31mTypeError\u001b[0m: apply() missing 1 required positional argument: 'variables'"
     ]
    }
   ],
   "source": [
    "model.apply(model_params_dict,)\n",
    "policy_model.apply(params, obs)"
   ]
  },
  {
   "cell_type": "code",
   "execution_count": 6,
   "metadata": {},
   "outputs": [],
   "source": [
    "obs = env.reset()"
   ]
  },
  {
   "cell_type": "code",
   "execution_count": 14,
   "metadata": {},
   "outputs": [],
   "source": [
    "model = _generate_individual_model(env.observation_space.shape[1],env.action_space.shape[1])\n",
    "params = model.init(key)"
   ]
  },
  {
   "cell_type": "code",
   "execution_count": 15,
   "metadata": {},
   "outputs": [],
   "source": [
    "model_out = model.apply(params,obs)"
   ]
  },
  {
   "cell_type": "code",
   "execution_count": 17,
   "metadata": {},
   "outputs": [],
   "source": [
    "def get_deterministic_actions(model_out):\n",
    "    loc, scale = jnp.split(model_out, 2, axis=-1) # splits it into 2 even subarrays along last axis\n",
    "    act = jnp.tanh(loc)\n",
    "    return act"
   ]
  },
  {
   "cell_type": "code",
   "execution_count": 18,
   "metadata": {},
   "outputs": [],
   "source": [
    "action = get_deterministic_actions(model_out)"
   ]
  },
  {
   "cell_type": "code",
   "execution_count": null,
   "metadata": {},
   "outputs": [],
   "source": [
    "\n"
   ]
  },
  {
   "cell_type": "code",
   "execution_count": 17,
   "metadata": {},
   "outputs": [],
   "source": [
    "def params_tree_to_vec(params):\n",
    "    \n",
    "    numelements = jax.tree_map(lambda x:x.size ,params)\n",
    "    numel_leafs,treedef = jax.tree_flatten(numelements)\n",
    "    ending_indicies = np.cumsum(numel_leafs)\n",
    "    ending_indicies_tree = jax.tree_unflatten(treedef,ending_indicies)\n",
    "    \n",
    "    shapes_tree = jax.tree_map(lambda x:x.shape ,params)\n",
    "    \n",
    "    flat_shaped_tree = jax.tree_map(lambda x:x.reshape(-1) ,params)\n",
    "    flat_shaped_leafs,treedef = jax.tree_flatten(flat_shaped_tree)\n",
    "    \n",
    "    vec = jnp.concatenate(flat_shaped_leafs)\n",
    "    \n",
    "    return vec,shapes_tree,ending_indicies_tree\n",
    "    \n",
    "def vec_to_params_tree(vec,shapes,indicies):\n",
    "    return jax.tree_multimap(lambda i,shape:vec[i-np.prod(shape):i].reshape(shape),indicies,shapes)"
   ]
  },
  {
   "cell_type": "code",
   "execution_count": 18,
   "metadata": {},
   "outputs": [],
   "source": [
    "vec,shapes_tree,ending_indicies_tree = params_tree_to_vec(model_params_dict)"
   ]
  },
  {
   "cell_type": "code",
   "execution_count": 23,
   "metadata": {},
   "outputs": [],
   "source": [
    "reconstructed = vec_to_params_tree(vec,shapes_tree,ending_indicies_tree)"
   ]
  },
  {
   "cell_type": "code",
   "execution_count": 28,
   "metadata": {},
   "outputs": [],
   "source": [
    "noise = jax.random.normal(key,shape=[100,vec.size])\n",
    "mutated_params = vec + noise * 0.02"
   ]
  },
  {
   "cell_type": "code",
   "execution_count": 31,
   "metadata": {},
   "outputs": [],
   "source": [
    "batch_vec_to_params = jax.vmap(vec_to_params_tree,in_axes=[0, None,None])\n",
    "policy_trees = batch_vec_to_params(mutated_params,shapes_tree,ending_indicies_tree)"
   ]
  },
  {
   "cell_type": "code",
   "execution_count": 29,
   "metadata": {},
   "outputs": [
    {
     "data": {
      "text/plain": [
       "(100, 6664)"
      ]
     },
     "execution_count": 29,
     "metadata": {},
     "output_type": "execute_result"
    }
   ],
   "source": [
    "mutated_params.shape"
   ]
  },
  {
   "cell_type": "code",
   "execution_count": null,
   "metadata": {},
   "outputs": [],
   "source": []
  },
  {
   "cell_type": "code",
   "execution_count": 57,
   "metadata": {},
   "outputs": [],
   "source": [
    "obs_batch = jax.random.normal(key,shape=[100,30])\n",
    "#logits = model.apply(policy_trees,obs_batch)\n",
    "\n",
    "batch_apply = jp.vmap(model.apply)\n",
    "\n",
    "#def apply_model(policy_model, params, obs):\n",
    "#    return policy_model.apply(params, obs)\n",
    "\n",
    "#batch_apply = jax.vmap(\n",
    "#    lambda *args: apply_model(*args),\n",
    "#    in_axes=(None, 0, 0),\n",
    "#    out_axes=0,\n",
    "#  )\n",
    "\n"
   ]
  },
  {
   "cell_type": "code",
   "execution_count": 48,
   "metadata": {},
   "outputs": [
    {
     "name": "stdout",
     "output_type": "stream",
     "text": [
      "(100, 64)\n",
      "(100, 30, 64)\n",
      "(100, 64)\n",
      "(100, 64, 64)\n",
      "(100, 8)\n",
      "(100, 64, 8)\n"
     ]
    }
   ],
   "source": [
    "flat_dict,treedef = jax.tree_flatten(policy_trees)\n",
    "for val in flat_dict:\n",
    "    print(val.shape)"
   ]
  },
  {
   "cell_type": "code",
   "execution_count": 59,
   "metadata": {},
   "outputs": [],
   "source": [
    "logits = batch_apply(policy_trees,obs_batch)"
   ]
  },
  {
   "cell_type": "code",
   "execution_count": 62,
   "metadata": {},
   "outputs": [
    {
     "data": {
      "text/plain": [
       "(100, 8)"
      ]
     },
     "execution_count": 62,
     "metadata": {},
     "output_type": "execute_result"
    }
   ],
   "source": [
    "logits.shape"
   ]
  },
  {
   "cell_type": "code",
   "execution_count": null,
   "metadata": {},
   "outputs": [],
   "source": []
  },
  {
   "cell_type": "code",
   "execution_count": 125,
   "metadata": {},
   "outputs": [
    {
     "name": "stdout",
     "output_type": "stream",
     "text": [
      "CPU times: user 6.91 s, sys: 446 ms, total: 7.36 s\n",
      "Wall time: 6.02 s\n"
     ]
    }
   ],
   "source": [
    "%%time\n",
    "\n",
    "obs = env.reset()\n",
    "\n",
    "dones = []\n",
    "rewards = []\n",
    "bds = []\n",
    "\n",
    "#jitted_step = jax.jit(env.step)\n",
    "\n",
    "\n",
    "obs_shape = env.observation_space.shape[1:]  # first dim is the batch dimension\n",
    "\n",
    "obs_sums = jnp.zeros(obs_shape)\n",
    "obs_squared_sums = jnp.zeros(obs_shape)\n",
    "obs_count = jnp.zeros([1])\n",
    "\n",
    "\n",
    "cumulative_reward = jnp.zeros(obs.shape[0])\n",
    "active_episode = jnp.ones_like(cumulative_reward)\n",
    "bd_dim = 4\n",
    "bds = jnp.zeros([obs.shape[0],bd_dim])\n",
    "\n",
    "all_bds = []\n",
    "\n",
    "mean,var = calculate_obs_mean_var(obs_sums,obs_squared_sums,obs_count)\n",
    "\n",
    "for i in range(1000):\n",
    "    # calulate action \n",
    "    action = jnp.array(np.random.randn(*env.action_space.shape))\n",
    "    \n",
    "    #action = jp.zeros(env.action_space.shape)\n",
    "    obs,reward,done,info = env.step(action)\n",
    "    #obs,reward,done,info = jitted_step(action)  # The jitted version sets bd to inf for some reason\n",
    "    \n",
    "    # done will only turn to 1 for one step, afterwards, it then starts a new episode which we complately ignore \n",
    "    last_step_of_first_episode = active_episode * done # will only ever be 1 when we are at last step of first episode\n",
    "    active_episode = active_episode * (1 - done) # once the first episode is done, active_episode will become ans stay 0\n",
    "\n",
    "    normalized_obs = (obs-mean) / var\n",
    "    \n",
    "    # record observation stats, only count active episodes (zero out others)\n",
    "    active_obs = active_episode.reshape(-1,1) * obs\n",
    "    obs_sums = obs_sums + jnp.sum(active_obs,axis=0)\n",
    "    obs_squared_sums = obs_squared_sums + jnp.sum(active_obs*active_obs,axis=0)\n",
    "    obs_count = obs_count + jnp.sum(active_episode)\n",
    "    \n",
    "    #print(i,jnp.sum(last_step_of_first_episode))\n",
    "    \n",
    "    cumulative_reward += reward * active_episode\n",
    "    \n",
    "    # bs is sometimes nan and inf\n",
    "    # normaly we dont care about this, because we multiply with 0 in these cases, but the nan infects the calulation\n",
    "    info_bd = jnp.nan_to_num(info[\"bd\"],nan=0.0, posinf=0.0, neginf=0.0)\n",
    "    bds = bds + last_step_of_first_episode.reshape(-1,1) * info_bd\n",
    "    #all_bds.append(bds[0])\n",
    "    #all_bds.append(info[\"bd\"][0])\n",
    "\n",
    "# return fitness,bd and obs stats\n"
   ]
  },
  {
   "cell_type": "code",
   "execution_count": 133,
   "metadata": {},
   "outputs": [
    {
     "data": {
      "text/plain": [
       "4"
      ]
     },
     "execution_count": 133,
     "metadata": {},
     "output_type": "execute_result"
    }
   ],
   "source": [
    "obs = env.reset()\n",
    "env._state.info[\"bd\"].shape[1]\n"
   ]
  },
  {
   "cell_type": "code",
   "execution_count": 104,
   "metadata": {},
   "outputs": [
    {
     "data": {
      "text/plain": [
       "(10000, 87)"
      ]
     },
     "execution_count": 104,
     "metadata": {},
     "output_type": "execute_result"
    }
   ],
   "source": [
    "obs.shape"
   ]
  },
  {
   "cell_type": "code",
   "execution_count": 126,
   "metadata": {},
   "outputs": [
    {
     "data": {
      "text/plain": [
       "array([ 5.94160497e-01,  4.32981789e-01, -1.16435648e-03,  4.14690759e-04,\n",
       "        1.55369285e-03,  7.64215220e-05,  8.55309248e-01,  1.43447047e-04,\n",
       "       -8.55417311e-01, -6.60346181e-04, -8.55582118e-01,  1.10520145e-04,\n",
       "        8.54979992e-01,  2.13483837e-03, -1.25741775e-04,  5.36825173e-02,\n",
       "        5.20938425e-04, -2.79176980e-04,  5.75903617e-03,  9.60683974e-04,\n",
       "       -1.82338953e-02,  7.42486562e-04,  1.63782630e-02,  1.58866504e-04,\n",
       "        1.88048501e-02,  4.87847487e-04, -1.94809884e-02,  1.80268427e-04,\n",
       "        1.63626115e-04,  8.27212036e-02,  0.00000000e+00,  0.00000000e+00,\n",
       "        0.00000000e+00,  2.53560320e-02,  2.55756211e-02,  1.96347997e-01,\n",
       "        0.00000000e+00,  0.00000000e+00,  0.00000000e+00, -2.48626862e-02,\n",
       "        2.52265353e-02,  1.95395634e-01,  0.00000000e+00,  0.00000000e+00,\n",
       "        0.00000000e+00, -2.50827465e-02, -2.56742444e-02,  1.95342168e-01,\n",
       "        0.00000000e+00,  0.00000000e+00,  0.00000000e+00,  2.52132099e-02,\n",
       "       -2.58367639e-02,  1.96200535e-01,  0.00000000e+00,  0.00000000e+00,\n",
       "        0.00000000e+00,  3.38441576e-04, -3.28093418e-04,  0.00000000e+00,\n",
       "        0.00000000e+00,  0.00000000e+00,  0.00000000e+00,  3.48183699e-02,\n",
       "       -3.48751508e-02, -2.01065748e-04,  0.00000000e+00,  0.00000000e+00,\n",
       "        0.00000000e+00,  3.45900878e-02,  3.40852030e-02, -2.33917308e-06,\n",
       "        0.00000000e+00,  0.00000000e+00,  0.00000000e+00, -3.49723771e-02,\n",
       "        3.45102660e-02,  1.62901371e-04,  0.00000000e+00,  0.00000000e+00,\n",
       "        0.00000000e+00, -3.50507610e-02, -3.46420296e-02, -2.87736708e-04,\n",
       "        0.00000000e+00,  0.00000000e+00,  0.00000000e+00], dtype=float32)"
      ]
     },
     "execution_count": 126,
     "metadata": {},
     "output_type": "execute_result"
    }
   ],
   "source": [
    "mean,var = calculate_obs_mean_var(obs_sums,obs_squared_sums,obs_count)\n",
    "mean"
   ]
  },
  {
   "cell_type": "code",
   "execution_count": 94,
   "metadata": {},
   "outputs": [
    {
     "data": {
      "text/plain": [
       "0.0"
      ]
     },
     "execution_count": 94,
     "metadata": {},
     "output_type": "execute_result"
    }
   ],
   "source": [
    "np.array(jnp.sum(active_episode)).reshape(-1)[0]"
   ]
  },
  {
   "cell_type": "code",
   "execution_count": 19,
   "metadata": {},
   "outputs": [],
   "source": [
    "obs = env.reset()\n",
    "action = jp.zeros(env.action_space.shape)\n",
    "obs,reward,done,info = env.step(action)\n",
    "obs,reward,done,info = env.step(action)\n",
    "obs,reward,done,info = env.step(action)\n",
    "obs,reward,done,info = env.step(action)\n",
    "obs,reward,done,info = env.step(action)\n",
    "#obs,reward,done,info = jitted_step(action)\n",
    "#obs,reward,done,info = jitted_step(action)\n",
    "#obs,reward,done,info = jitted_step(action)\n",
    "#obs,reward,done,info = jitted_step(action)\n",
    "#obs,reward,done,info = jitted_step(action)"
   ]
  },
  {
   "cell_type": "code",
   "execution_count": 25,
   "metadata": {},
   "outputs": [
    {
     "data": {
      "text/plain": [
       "(10000,)"
      ]
     },
     "execution_count": 25,
     "metadata": {},
     "output_type": "execute_result"
    }
   ],
   "source": [
    "last_step_of_first_episode.shape"
   ]
  },
  {
   "cell_type": "code",
   "execution_count": 26,
   "metadata": {},
   "outputs": [
    {
     "data": {
      "text/plain": [
       "(10000, 4)"
      ]
     },
     "execution_count": 26,
     "metadata": {},
     "output_type": "execute_result"
    }
   ],
   "source": [
    "info[\"bd\"].shape"
   ]
  },
  {
   "cell_type": "code",
   "execution_count": 37,
   "metadata": {},
   "outputs": [
    {
     "data": {
      "text/plain": [
       "(10000, 4)"
      ]
     },
     "execution_count": 37,
     "metadata": {},
     "output_type": "execute_result"
    }
   ],
   "source": [
    "(last_step_of_first_episode.reshape(-1,1) * info[\"bd\"]).shape"
   ]
  },
  {
   "cell_type": "code",
   "execution_count": 54,
   "metadata": {},
   "outputs": [
    {
     "data": {
      "text/plain": [
       "(87,)"
      ]
     },
     "execution_count": 54,
     "metadata": {},
     "output_type": "execute_result"
    }
   ],
   "source": [
    "env.observation_space.shape[1:]"
   ]
  },
  {
   "cell_type": "code",
   "execution_count": null,
   "metadata": {},
   "outputs": [],
   "source": []
  },
  {
   "cell_type": "code",
   "execution_count": 200,
   "metadata": {},
   "outputs": [
    {
     "data": {
      "text/plain": [
       "(52, 4)"
      ]
     },
     "execution_count": 200,
     "metadata": {},
     "output_type": "execute_result"
    }
   ],
   "source": [
    "env._state.info[\"bd\"]"
   ]
  },
  {
   "cell_type": "code",
   "execution_count": 100,
   "metadata": {},
   "outputs": [],
   "source": [
    "key = jax.random.PRNGKey(777)\n",
    "key_envs = jax.random.split(key, 1)\n",
    "first_state = task.reset_fn_batch(key_envs)"
   ]
  },
  {
   "cell_type": "code",
   "execution_count": 76,
   "metadata": {},
   "outputs": [],
   "source": [
    "policy_model = task.policy_model"
   ]
  },
  {
   "cell_type": "code",
   "execution_count": 17,
   "metadata": {},
   "outputs": [
    {
     "data": {
      "text/plain": [
       "brax.training.networks.FeedForwardModel"
      ]
     },
     "execution_count": 17,
     "metadata": {},
     "output_type": "execute_result"
    }
   ],
   "source": [
    "type(policy_model)"
   ]
  },
  {
   "cell_type": "code",
   "execution_count": 18,
   "metadata": {},
   "outputs": [],
   "source": [
    "policy_params = policy_model.init(key)"
   ]
  },
  {
   "cell_type": "code",
   "execution_count": null,
   "metadata": {},
   "outputs": [],
   "source": [
    "def params_tree_to_vec(params):\n",
    "    \n",
    "    numelements = jax.tree_map(lambda x:x.size ,params)\n",
    "    numel_leafs,treedef = jax.tree_flatten(numelements)\n",
    "    ending_indicies = np.cumsum(numel_leafs)\n",
    "    ending_indicies_tree = jax.tree_unflatten(treedef,ending_indicies)\n",
    "    \n",
    "    shapes_tree = jax.tree_map(lambda x:x.shape ,params)\n",
    "    \n",
    "    flat_shaped_tree = jax.tree_map(lambda x:x.reshape(-1) ,policy_params)\n",
    "    flat_shaped_leafs,treedef = jax.tree_flatten(flat_shaped_tree)\n",
    "    \n",
    "    vec = jnp.concatenate(flat_shaped_leafs)\n",
    "    \n",
    "    return vec,shapes_tree,ending_indicies_tree\n",
    "    \n",
    "def vec_to_params_tree(vec,shapes,indicies):\n",
    "    return jax.tree_multimap(lambda i,shape:vec[i-np.prod(shape):i].reshape(shape),indicies,shapes)"
   ]
  },
  {
   "cell_type": "code",
   "execution_count": null,
   "metadata": {},
   "outputs": [],
   "source": []
  },
  {
   "cell_type": "code",
   "execution_count": null,
   "metadata": {},
   "outputs": [],
   "source": [
    "evaluation_task_fn = task.eval\n",
    "\n",
    "prun_es_eval = jax.pmap(evaluation_task_fn, in_axes=(0, 0, None))\n",
    "eval_scores, obs, state, done, bd,reward_trajectory = prun_es_eval(training_state.state,\n",
    "                                                                   pparams_device,\n",
    "                                                                   key)"
   ]
  },
  {
   "cell_type": "code",
   "execution_count": 220,
   "metadata": {},
   "outputs": [],
   "source": [
    "pparams = task.get_random_parameters(100,key)"
   ]
  },
  {
   "cell_type": "code",
   "execution_count": 224,
   "metadata": {},
   "outputs": [],
   "source": [
    "vmap_eval = jax.vmap(task.eval)"
   ]
  },
  {
   "cell_type": "code",
   "execution_count": 227,
   "metadata": {},
   "outputs": [],
   "source": [
    "#results = vmap_eval(first_state,pparams,key,in_axes=(0, 0, None))"
   ]
  },
  {
   "cell_type": "code",
   "execution_count": null,
   "metadata": {},
   "outputs": [],
   "source": []
  },
  {
   "cell_type": "code",
   "execution_count": 93,
   "metadata": {},
   "outputs": [
    {
     "data": {
      "text/plain": [
       "<CompiledFunction of <bound method AutoResetWrapper.reset of <brax.envs.wrappers.AutoResetWrapper object at 0x7f9c7c169fd0>>>"
      ]
     },
     "execution_count": 93,
     "metadata": {},
     "output_type": "execute_result"
    }
   ],
   "source": [
    "task.reset_fn"
   ]
  },
  {
   "cell_type": "code",
   "execution_count": 127,
   "metadata": {},
   "outputs": [],
   "source": [
    "# flatten, unflatten\n",
    "#leafs,treedef = jax.tree_flatten(policy_params)\n",
    "def create_a(tt):\n",
    "    def a():\n",
    "        num_vars = len(jax.tree_leaves(policy_params))\n",
    "        treedef = jax.tree_structure(policy_params)\n",
    "        all_keys = jax.random.split(key, num=num_vars)\n",
    "        key_tree = jax.tree_unflatten(treedef, all_keys)\n",
    "        results = []\n",
    "        for i in range(tt):\n",
    "             results.append(jax.tree_multimap(lambda k,x: jax.random.normal(k, shape=x.shape, dtype=x.dtype),key_tree,policy_params))\n",
    "        # construct population\n",
    "        #noise = jax.tree_map(lambda x: jax.random.normal(k, shape=x.shape, dtype=x.dtype))\n",
    "\n",
    "        return results\n",
    "    return jax.jit(a)\n",
    "    \n",
    "#leafs\n"
   ]
  },
  {
   "cell_type": "code",
   "execution_count": null,
   "metadata": {},
   "outputs": [],
   "source": []
  },
  {
   "cell_type": "code",
   "execution_count": 146,
   "metadata": {},
   "outputs": [
    {
     "data": {
      "text/plain": [
       "[64, 5568, 64, 4096, 16, 1024]"
      ]
     },
     "execution_count": 146,
     "metadata": {},
     "output_type": "execute_result"
    }
   ],
   "source": [
    "numel_leafs,_ = jax.tree_flatten(numels)\n",
    "indicies = np.cumsum(numel_leafs)\n",
    "indicies\n",
    "#jnp.cumsum(numel_leafs)"
   ]
  },
  {
   "cell_type": "code",
   "execution_count": 186,
   "metadata": {},
   "outputs": [],
   "source": [
    "\n",
    "# we start with a single theta\n",
    "policy_vec,shapes,indicies = params_tree_to_vec(policy_params)\n",
    "\n",
    "noise = jax.random.normal(key,shape=[100,policy_vec.size])\n",
    "mutated_params = policy_vec + noise * 0.02\n",
    "\n",
    "# then we evaluate mutated params\n",
    "\n",
    "\n",
    "# than we calculate the weights\n",
    "weights = jax.random.normal(key,shape=[100,])\n",
    "\n",
    "updated_params = \n",
    "\n"
   ]
  },
  {
   "cell_type": "code",
   "execution_count": null,
   "metadata": {},
   "outputs": [],
   "source": []
  },
  {
   "cell_type": "code",
   "execution_count": 179,
   "metadata": {},
   "outputs": [],
   "source": [
    "def params_tree_to_vec(params):\n",
    "    \n",
    "    numelements = jax.tree_map(lambda x:x.size ,params)\n",
    "    numel_leafs,treedef = jax.tree_flatten(numelements)\n",
    "    ending_indicies = np.cumsum(numel_leafs)\n",
    "    ending_indicies_tree = jax.tree_unflatten(treedef,ending_indicies)\n",
    "    \n",
    "    shapes_tree = jax.tree_map(lambda x:x.shape ,params)\n",
    "    \n",
    "    flat_shaped_tree = jax.tree_map(lambda x:x.reshape(-1) ,policy_params)\n",
    "    flat_shaped_leafs,treedef = jax.tree_flatten(flat_shaped_tree)\n",
    "    \n",
    "    vec = jnp.concatenate(flat_shaped_leafs)\n",
    "    \n",
    "    return vec,shapes_tree,ending_indicies_tree\n",
    "    \n",
    "def vec_to_params_tree(vec,shapes,indicies):\n",
    "    return jax.tree_multimap(lambda i,shape:vec[i-np.prod(shape):i].reshape(shape),indicies,shapes)\n",
    "    \n",
    "    "
   ]
  },
  {
   "cell_type": "code",
   "execution_count": 207,
   "metadata": {},
   "outputs": [],
   "source": [
    "batch_vec_to_params = jax.vmap(vec_to_params_tree,in_axes=[0, None,None])\n",
    "policy_trees = batch_vec_to_params(mutated_params,shapes,indicies)"
   ]
  },
  {
   "cell_type": "code",
   "execution_count": null,
   "metadata": {},
   "outputs": [],
   "source": []
  },
  {
   "cell_type": "code",
   "execution_count": null,
   "metadata": {},
   "outputs": [],
   "source": []
  },
  {
   "cell_type": "code",
   "execution_count": null,
   "metadata": {},
   "outputs": [],
   "source": []
  },
  {
   "cell_type": "code",
   "execution_count": 180,
   "metadata": {},
   "outputs": [
    {
     "data": {
      "text/plain": [
       "DeviceArray([ 0.        ,  0.        ,  0.        , ...,  0.20398107,\n",
       "             -0.20045444, -0.00977703], dtype=float32)"
      ]
     },
     "execution_count": 180,
     "metadata": {},
     "output_type": "execute_result"
    }
   ],
   "source": [
    "vec,shapes,indicies = params_tree_to_vec(policy_params)\n",
    "vec"
   ]
  },
  {
   "cell_type": "code",
   "execution_count": 181,
   "metadata": {},
   "outputs": [
    {
     "data": {
      "text/plain": [
       "FrozenDict({\n",
       "    params: {\n",
       "        hidden_0: {\n",
       "            bias: DeviceArray([0., 0., 0., 0., 0., 0., 0., 0., 0., 0., 0., 0., 0., 0., 0.,\n",
       "                         0., 0., 0., 0., 0., 0., 0., 0., 0., 0., 0., 0., 0., 0., 0.,\n",
       "                         0., 0., 0., 0., 0., 0., 0., 0., 0., 0., 0., 0., 0., 0., 0.,\n",
       "                         0., 0., 0., 0., 0., 0., 0., 0., 0., 0., 0., 0., 0., 0., 0.,\n",
       "                         0., 0., 0., 0.], dtype=float32),\n",
       "            kernel: DeviceArray([[ 0.06186872, -0.09058239,  0.14539498, ..., -0.13792196,\n",
       "                          -0.10169195,  0.02787265],\n",
       "                         [-0.04083425, -0.06141775,  0.04246718, ..., -0.16937312,\n",
       "                           0.02928372, -0.08244027],\n",
       "                         [ 0.08485675, -0.05951697,  0.16626488, ..., -0.13909711,\n",
       "                           0.15142804, -0.01380209],\n",
       "                         ...,\n",
       "                         [-0.01254437, -0.08890191,  0.02675493, ...,  0.07982638,\n",
       "                          -0.06672598,  0.08014732],\n",
       "                         [ 0.07237192, -0.03387853,  0.11414871, ...,  0.07441101,\n",
       "                          -0.06219068,  0.04540798],\n",
       "                         [-0.17531773,  0.14242597, -0.03727367, ...,  0.14359346,\n",
       "                          -0.00969845,  0.01108407]], dtype=float32),\n",
       "        },\n",
       "        hidden_1: {\n",
       "            bias: DeviceArray([0., 0., 0., 0., 0., 0., 0., 0., 0., 0., 0., 0., 0., 0., 0.,\n",
       "                         0., 0., 0., 0., 0., 0., 0., 0., 0., 0., 0., 0., 0., 0., 0.,\n",
       "                         0., 0., 0., 0., 0., 0., 0., 0., 0., 0., 0., 0., 0., 0., 0.,\n",
       "                         0., 0., 0., 0., 0., 0., 0., 0., 0., 0., 0., 0., 0., 0., 0.,\n",
       "                         0., 0., 0., 0.], dtype=float32),\n",
       "            kernel: DeviceArray([[-0.20716473,  0.15443914,  0.13788229, ..., -0.02778286,\n",
       "                          -0.04669937,  0.08733632],\n",
       "                         [-0.04878912,  0.09296782,  0.07660992, ...,  0.16695379,\n",
       "                          -0.01529021, -0.06921935],\n",
       "                         [ 0.18284933,  0.18624453, -0.21368375, ...,  0.20891286,\n",
       "                          -0.21568018, -0.01916102],\n",
       "                         ...,\n",
       "                         [ 0.15746562, -0.15285386, -0.08267176, ...,  0.05641992,\n",
       "                           0.10859334, -0.14030613],\n",
       "                         [ 0.07263927,  0.05444926,  0.08551835, ..., -0.1450155 ,\n",
       "                          -0.02603019,  0.09759945],\n",
       "                         [-0.02979663,  0.06062631,  0.12097579, ..., -0.04185946,\n",
       "                          -0.00843606, -0.05409623]], dtype=float32),\n",
       "        },\n",
       "        hidden_2: {\n",
       "            bias: DeviceArray([0., 0., 0., 0., 0., 0., 0., 0., 0., 0., 0., 0., 0., 0., 0.,\n",
       "                         0.], dtype=float32),\n",
       "            kernel: DeviceArray([[ 0.09120853, -0.02061498, -0.01520514, ...,  0.11394749,\n",
       "                           0.13680857,  0.02528372],\n",
       "                         [-0.14916867, -0.20049389,  0.10464639, ..., -0.00999037,\n",
       "                          -0.1826635 , -0.01650589],\n",
       "                         [-0.21265437, -0.06256089,  0.05842786, ..., -0.08350866,\n",
       "                          -0.11864096, -0.12597083],\n",
       "                         ...,\n",
       "                         [ 0.0213663 , -0.20012006, -0.1747698 , ..., -0.15331647,\n",
       "                           0.20589562,  0.1715739 ],\n",
       "                         [ 0.00339473, -0.1783754 , -0.00333233, ...,  0.15809414,\n",
       "                          -0.10019744, -0.10658402],\n",
       "                         [-0.16185386, -0.05699119, -0.0942647 , ...,  0.20398107,\n",
       "                          -0.20045444, -0.00977703]], dtype=float32),\n",
       "        },\n",
       "    },\n",
       "})"
      ]
     },
     "execution_count": 181,
     "metadata": {},
     "output_type": "execute_result"
    }
   ],
   "source": [
    "reconstructed_params = vec_to_params_tree(vec,shapes,indicies)\n",
    "reconstructed_params"
   ]
  },
  {
   "cell_type": "code",
   "execution_count": null,
   "metadata": {},
   "outputs": [],
   "source": []
  },
  {
   "cell_type": "code",
   "execution_count": 157,
   "metadata": {},
   "outputs": [],
   "source": [
    "#def params_tree_to_1d_array(params):\n",
    "\n",
    "numelements = jax.tree_map(lambda x:x.size ,policy_params)\n",
    "numel_leafs,treedef = jax.tree_flatten(numelements)\n",
    "ending_indicies = np.cumsum(numel_leafs)\n",
    "\n",
    "flat_shaped_tree = jax.tree_map(lambda x:x.reshape(-1) ,policy_params)\n",
    "flat_shaped_leafs,treedef = jax.tree_flatten(flat_shaped_tree)\n",
    "\n",
    "#reconstructed_tree = jax.tree_unflatten(treedef,)\n",
    "\n",
    "\n",
    "#    leafs,treedef = jax.tree_flatten(params)\n",
    "    \n",
    "#    1d_array = jnp.stack(leafs)\n",
    "    \n",
    "    \n",
    "#    return flat_vec,treedef\n",
    "\n",
    "\n",
    "    "
   ]
  },
  {
   "cell_type": "code",
   "execution_count": 163,
   "metadata": {},
   "outputs": [
    {
     "data": {
      "text/plain": [
       "FrozenDict({\n",
       "    params: {\n",
       "        hidden_0: {\n",
       "            bias: 64,\n",
       "            kernel: 5632,\n",
       "        },\n",
       "        hidden_1: {\n",
       "            bias: 5696,\n",
       "            kernel: 9792,\n",
       "        },\n",
       "        hidden_2: {\n",
       "            bias: 9808,\n",
       "            kernel: 10832,\n",
       "        },\n",
       "    },\n",
       "})"
      ]
     },
     "execution_count": 163,
     "metadata": {},
     "output_type": "execute_result"
    }
   ],
   "source": [
    "ending_indicies_tree = jax.tree_unflatten(treedef,ending_indicies)\n",
    "ending_indicies_tree"
   ]
  },
  {
   "cell_type": "code",
   "execution_count": 129,
   "metadata": {},
   "outputs": [
    {
     "data": {
      "text/plain": [
       "[DeviceArray([0., 0., 0., 0., 0., 0., 0., 0., 0., 0., 0., 0., 0., 0., 0.,\n",
       "              0., 0., 0., 0., 0., 0., 0., 0., 0., 0., 0., 0., 0., 0., 0.,\n",
       "              0., 0., 0., 0., 0., 0., 0., 0., 0., 0., 0., 0., 0., 0., 0.,\n",
       "              0., 0., 0., 0., 0., 0., 0., 0., 0., 0., 0., 0., 0., 0., 0.,\n",
       "              0., 0., 0., 0.], dtype=float32),\n",
       " DeviceArray([[ 0.06186872, -0.09058239,  0.14539498, ..., -0.13792196,\n",
       "               -0.10169195,  0.02787265],\n",
       "              [-0.04083425, -0.06141775,  0.04246718, ..., -0.16937312,\n",
       "                0.02928372, -0.08244027],\n",
       "              [ 0.08485675, -0.05951697,  0.16626488, ..., -0.13909711,\n",
       "                0.15142804, -0.01380209],\n",
       "              ...,\n",
       "              [-0.01254437, -0.08890191,  0.02675493, ...,  0.07982638,\n",
       "               -0.06672598,  0.08014732],\n",
       "              [ 0.07237192, -0.03387853,  0.11414871, ...,  0.07441101,\n",
       "               -0.06219068,  0.04540798],\n",
       "              [-0.17531773,  0.14242597, -0.03727367, ...,  0.14359346,\n",
       "               -0.00969845,  0.01108407]], dtype=float32),\n",
       " DeviceArray([0., 0., 0., 0., 0., 0., 0., 0., 0., 0., 0., 0., 0., 0., 0.,\n",
       "              0., 0., 0., 0., 0., 0., 0., 0., 0., 0., 0., 0., 0., 0., 0.,\n",
       "              0., 0., 0., 0., 0., 0., 0., 0., 0., 0., 0., 0., 0., 0., 0.,\n",
       "              0., 0., 0., 0., 0., 0., 0., 0., 0., 0., 0., 0., 0., 0., 0.,\n",
       "              0., 0., 0., 0.], dtype=float32),\n",
       " DeviceArray([[-0.20716473,  0.15443914,  0.13788229, ..., -0.02778286,\n",
       "               -0.04669937,  0.08733632],\n",
       "              [-0.04878912,  0.09296782,  0.07660992, ...,  0.16695379,\n",
       "               -0.01529021, -0.06921935],\n",
       "              [ 0.18284933,  0.18624453, -0.21368375, ...,  0.20891286,\n",
       "               -0.21568018, -0.01916102],\n",
       "              ...,\n",
       "              [ 0.15746562, -0.15285386, -0.08267176, ...,  0.05641992,\n",
       "                0.10859334, -0.14030613],\n",
       "              [ 0.07263927,  0.05444926,  0.08551835, ..., -0.1450155 ,\n",
       "               -0.02603019,  0.09759945],\n",
       "              [-0.02979663,  0.06062631,  0.12097579, ..., -0.04185946,\n",
       "               -0.00843606, -0.05409623]], dtype=float32),\n",
       " DeviceArray([0., 0., 0., 0., 0., 0., 0., 0., 0., 0., 0., 0., 0., 0., 0.,\n",
       "              0.], dtype=float32),\n",
       " DeviceArray([[ 0.09120853, -0.02061498, -0.01520514, ...,  0.11394749,\n",
       "                0.13680857,  0.02528372],\n",
       "              [-0.14916867, -0.20049389,  0.10464639, ..., -0.00999037,\n",
       "               -0.1826635 , -0.01650589],\n",
       "              [-0.21265437, -0.06256089,  0.05842786, ..., -0.08350866,\n",
       "               -0.11864096, -0.12597083],\n",
       "              ...,\n",
       "              [ 0.0213663 , -0.20012006, -0.1747698 , ..., -0.15331647,\n",
       "                0.20589562,  0.1715739 ],\n",
       "              [ 0.00339473, -0.1783754 , -0.00333233, ...,  0.15809414,\n",
       "               -0.10019744, -0.10658402],\n",
       "              [-0.16185386, -0.05699119, -0.0942647 , ...,  0.20398107,\n",
       "               -0.20045444, -0.00977703]], dtype=float32)]"
      ]
     },
     "execution_count": 129,
     "metadata": {},
     "output_type": "execute_result"
    }
   ],
   "source": [
    "leafs,treedef = jax.tree_flatten(policy_params)\n",
    "leafs"
   ]
  },
  {
   "cell_type": "code",
   "execution_count": null,
   "metadata": {},
   "outputs": [],
   "source": [
    "jax.tree_multimap(lambda g, n: g + n * mutation_power, pparams, noise)"
   ]
  },
  {
   "cell_type": "code",
   "execution_count": 103,
   "metadata": {},
   "outputs": [],
   "source": [
    "policy_params = policy_model.init(key)\n",
    "theta = policy_params\n"
   ]
  },
  {
   "cell_type": "code",
   "execution_count": null,
   "metadata": {},
   "outputs": [],
   "source": [
    "noise = jax.tree_multimap(\n",
    "        lambda g, k: jax.random.normal(k, shape=g.shape, dtype=g.dtype), theta,\n",
    "        jax.tree_unflatten(treedef, all_keys))"
   ]
  },
  {
   "cell_type": "code",
   "execution_count": null,
   "metadata": {},
   "outputs": [],
   "source": [
    "\n",
    "\n",
    " _eval_and_add,\n",
    "    local_devices_to_use,\n",
    "    task.eval,\n",
    "    population_size,\n",
    "    task.get_bd,\n",
    "    jax.jit(repertoire.add_to_archive),\n",
    "    \n",
    "def _eval_and_add(local_devices_to_use,\n",
    "                  evaluation_task_fn = task.eval,\n",
    "                  population_size,\n",
    "                  get_bd_fn=task.get_bd,\n",
    "                  add_to_archive_fn,\n",
    "                  training_state: TrainingState,\n",
    "                  pparams,\n",
    "                  key):\n",
    "    "
   ]
  },
  {
   "cell_type": "code",
   "execution_count": 58,
   "metadata": {},
   "outputs": [
    {
     "data": {
      "text/plain": [
       "functools.partial(<function BraxTask._eval at 0x7fa0009d9430>, FeedForwardModel(init=<function make_model.<locals>.<lambda> at 0x7f9fe3a47b80>, apply=<bound method Module.apply of MLP(\n",
       "    # attributes\n",
       "    layer_sizes = [64, 64, 16]\n",
       "    activation = silu\n",
       "    kernel_init = init\n",
       "    activate_final = False\n",
       "    bias = True\n",
       ")>), <CompiledFunction of <bound method AutoResetWrapper.reset of <brax.envs.wrappers.AutoResetWrapper object at 0x7f9fe4a863d0>>>, <CompiledFunction of <bound method AutoResetWrapper.step of <brax.envs.wrappers.AutoResetWrapper object at 0x7f9fe4a863d0>>>, 1000, 1)"
      ]
     },
     "execution_count": 58,
     "metadata": {},
     "output_type": "execute_result"
    }
   ],
   "source": [
    "# task.eval needs 3 parameters: state, params,key\n",
    "task.eval"
   ]
  },
  {
   "cell_type": "code",
   "execution_count": 9,
   "metadata": {},
   "outputs": [],
   "source": [
    "#results = task.eval(first_state,policy_params,key)"
   ]
  },
  {
   "cell_type": "code",
   "execution_count": null,
   "metadata": {},
   "outputs": [],
   "source": []
  },
  {
   "cell_type": "code",
   "execution_count": null,
   "metadata": {},
   "outputs": [],
   "source": []
  },
  {
   "cell_type": "code",
   "execution_count": null,
   "metadata": {},
   "outputs": [],
   "source": []
  },
  {
   "cell_type": "code",
   "execution_count": null,
   "metadata": {},
   "outputs": [],
   "source": []
  },
  {
   "cell_type": "code",
   "execution_count": 54,
   "metadata": {},
   "outputs": [],
   "source": [
    "key = jax.random.PRNGKey(seed=6)\n",
    "noise = jax.random.normal(key, shape=(10000,100000))\n",
    "weights = jax.random.normal(key, shape=(10000,))"
   ]
  },
  {
   "cell_type": "code",
   "execution_count": 55,
   "metadata": {},
   "outputs": [
    {
     "name": "stdout",
     "output_type": "stream",
     "text": [
      "CPU times: user 4.73 ms, sys: 4.74 ms, total: 9.47 ms\n",
      "Wall time: 7.82 ms\n"
     ]
    }
   ],
   "source": [
    "%%time\n",
    "results = jnp.matmul(weights,noise).block_until_ready()"
   ]
  },
  {
   "cell_type": "code",
   "execution_count": 56,
   "metadata": {},
   "outputs": [
    {
     "name": "stdout",
     "output_type": "stream",
     "text": [
      "CPU times: user 1.57 s, sys: 2.53 s, total: 4.11 s\n",
      "Wall time: 4.1 s\n"
     ]
    }
   ],
   "source": [
    "%%time\n",
    "np_noise = np.array(noise)\n",
    "np_weights = np.array(weights)"
   ]
  },
  {
   "cell_type": "code",
   "execution_count": 57,
   "metadata": {},
   "outputs": [
    {
     "name": "stdout",
     "output_type": "stream",
     "text": [
      "CPU times: user 5.28 s, sys: 597 ms, total: 5.88 s\n",
      "Wall time: 96.3 ms\n"
     ]
    }
   ],
   "source": [
    "%%time\n",
    "results = np.matmul(np_weights,np_noise)"
   ]
  },
  {
   "cell_type": "code",
   "execution_count": 52,
   "metadata": {},
   "outputs": [],
   "source": [
    "noise = jax.random.normal(key, shape=(100,100000))"
   ]
  },
  {
   "cell_type": "code",
   "execution_count": 53,
   "metadata": {},
   "outputs": [
    {
     "name": "stdout",
     "output_type": "stream",
     "text": [
      "CPU times: user 26 ms, sys: 25.7 ms, total: 51.7 ms\n",
      "Wall time: 50 ms\n"
     ]
    }
   ],
   "source": [
    "%%time\n",
    "np_noise = np.array(noise)"
   ]
  },
  {
   "cell_type": "code",
   "execution_count": null,
   "metadata": {},
   "outputs": [],
   "source": []
  },
  {
   "cell_type": "code",
   "execution_count": null,
   "metadata": {},
   "outputs": [],
   "source": [
    "# I dont want to do everything on JAX\n",
    "# I want to have a jax function which takes a parent parameter, and applies mutations, returns noise and mutated parameters\n",
    "# I want a function which takes 1 step in the env, which will return the state, weather each env is done, the reward, the obs, and the bd\n",
    "# Then i want to have a function which takek all the trajectory and caluclates"
   ]
  },
  {
   "cell_type": "code",
   "execution_count": null,
   "metadata": {},
   "outputs": [],
   "source": [
    "# The for loop for the episode is a normal python loop.\n"
   ]
  },
  {
   "cell_type": "code",
   "execution_count": 1,
   "metadata": {},
   "outputs": [
    {
     "name": "stdout",
     "output_type": "stream",
     "text": [
      "env: CUDA_VISIBLE_DEVICES=0\n"
     ]
    }
   ],
   "source": [
    "%env CUDA_VISIBLE_DEVICES=0\n",
    "\n",
    "import functools\n",
    "import time\n",
    "\n",
    "from IPython.display import HTML, Image \n",
    "import gym\n",
    "\n",
    "import brax\n",
    "\n",
    "from brax import envs\n",
    "from brax import jumpy as jp\n",
    "from brax.envs import to_torch\n",
    "from brax.io import html\n",
    "from brax.io import image\n",
    "import jax\n",
    "from jax import numpy as jnp\n",
    "import torch\n",
    "v = torch.ones(1, device='cuda')  # init torch cuda before jax"
   ]
  },
  {
   "cell_type": "code",
   "execution_count": 65,
   "metadata": {},
   "outputs": [],
   "source": [
    "from es_map import qdax_task"
   ]
  },
  {
   "cell_type": "code",
   "execution_count": 140,
   "metadata": {},
   "outputs": [],
   "source": [
    "entry_point = functools.partial(envs.create_gym_env, env_name='ant')\n",
    "#entry_point = functools.partial(qdax_task.BraxTask.generate_env,env_name='ant')\n",
    "if 'brax-ant-v0' not in gym.envs.registry.env_specs:\n",
    "    gym.register('brax-ant-v0', entry_point=entry_point)\n",
    "\n",
    "gym_env = gym.make(\"brax-ant-v0\", batch_size=4096)\n",
    "\n",
    "# wrap it to interoperate with torch data structures\n",
    "#gym_env = to_torch.JaxToTorchWrapper(gym_env, device='cuda')\n",
    "\n",
    "# jit compile env.reset\n",
    "obs = gym_env.reset()\n",
    "\n",
    "# jit compile env.step\n",
    "#action = torch.rand(gym_env.action_space.shape, device='cuda') * 2 - 1\n",
    "#obs, reward, done, info = gym_env.step(action)"
   ]
  },
  {
   "cell_type": "code",
   "execution_count": 143,
   "metadata": {},
   "outputs": [
    {
     "data": {
      "text/plain": [
       "(4096,)"
      ]
     },
     "execution_count": 143,
     "metadata": {},
     "output_type": "execute_result"
    }
   ],
   "source": [
    "gym_env._state.done.shape"
   ]
  },
  {
   "cell_type": "code",
   "execution_count": 152,
   "metadata": {},
   "outputs": [
    {
     "data": {
      "text/plain": [
       "4096"
      ]
     },
     "execution_count": 152,
     "metadata": {},
     "output_type": "execute_result"
    }
   ],
   "source": [
    "gym_env._env.batch_size"
   ]
  },
  {
   "cell_type": "code",
   "execution_count": null,
   "metadata": {},
   "outputs": [],
   "source": []
  },
  {
   "cell_type": "code",
   "execution_count": null,
   "metadata": {},
   "outputs": [],
   "source": []
  },
  {
   "cell_type": "code",
   "execution_count": 163,
   "metadata": {},
   "outputs": [],
   "source": [
    "def get_foot_contact(env,state):\n",
    "    sys_info = env.sys.info(state.qp)\n",
    "    contact = jp.sum(jp.square(jp.clip(sys_info.contact.vel, -1, 1)), axis=1) != 0\n",
    "    foot_contacts = contacts[2:-1:2] # BD is only for the contact of the foot and the floor\n",
    "    return foot_contacts\n",
    "\n",
    "b_get_foot_contact = jax.vmap(get_foot_contact,in_axes=[None, 0])\n",
    "#res = b_get_foot_contact(gym_env._env,gym_env._state)"
   ]
  },
  {
   "cell_type": "code",
   "execution_count": null,
   "metadata": {},
   "outputs": [],
   "source": []
  },
  {
   "cell_type": "code",
   "execution_count": 8,
   "metadata": {},
   "outputs": [],
   "source": [
    "#batch_info = jp.vmap(gym_env._env.sys.info)\n",
    "#infos = batch_info(gym_env._state.qp)"
   ]
  },
  {
   "cell_type": "code",
   "execution_count": null,
   "metadata": {},
   "outputs": [],
   "source": [
    "infos"
   ]
  },
  {
   "cell_type": "code",
   "execution_count": null,
   "metadata": {},
   "outputs": [],
   "source": []
  },
  {
   "cell_type": "code",
   "execution_count": null,
   "metadata": {},
   "outputs": [],
   "source": []
  },
  {
   "cell_type": "code",
   "execution_count": 97,
   "metadata": {},
   "outputs": [],
   "source": [
    "environment = \"ant\"  # @param ['ant', 'halfcheetah', 'hopper', 'humanoid', 'reacher', 'walker2d', 'fetch', 'grasp', 'ur5e']\n",
    "env = envs.create(env_name=environment)\n",
    "state = env.reset(rng=jp.random_prngkey(seed=0))"
   ]
  },
  {
   "cell_type": "code",
   "execution_count": 117,
   "metadata": {},
   "outputs": [],
   "source": [
    "action = jp.ones((env.action_size,))\n",
    "state = env.step(state,action)"
   ]
  },
  {
   "cell_type": "code",
   "execution_count": 114,
   "metadata": {},
   "outputs": [],
   "source": [
    "# get obs\n",
    "sys_info = env.sys.info(state.qp)\n",
    "env.unwrapped._get_obs(state.qp,sys_info)\n",
    "\n",
    "# get bd\n",
    "contact = jp.sum(jp.square(jp.clip(sys_info.contact.vel, -1, 1)), axis=1) != 0\n",
    "foot_contacts = contacts[2:-1:2] # BD is only for the contact of the foot and the floor\n"
   ]
  },
  {
   "cell_type": "code",
   "execution_count": 123,
   "metadata": {},
   "outputs": [],
   "source": [
    "def my_reset(env,key):\n",
    "    state = env.reset(rng=jp.random_prngkey(seed=0))\n",
    "    \n",
    "    # get bd\n",
    "    sys_info = env.sys.info(state.qp)\n",
    "    contact = jp.sum(jp.square(jp.clip(sys_info.contact.vel, -1, 1)), axis=1) != 0\n",
    "    foot_contacts = contacts[2:-1:2] # BD is only for the contact of the foot and the floor\n",
    "    \n",
    "    return state,foot_contacts\n",
    "\n",
    "def my_step(env,state,action):\n",
    "    state = env.step(state,action)\n",
    "    \n",
    "    # get bd\n",
    "    sys_info = env.sys.info(state.qp)\n",
    "    contact = jp.sum(jp.square(jp.clip(sys_info.contact.vel, -1, 1)), axis=1) != 0\n",
    "    foot_contacts = contacts[2:-1:2] # BD is only for the contact of the foot and the floor\n",
    "    \n",
    "    return state,foot_contacts\n",
    "    "
   ]
  },
  {
   "cell_type": "code",
   "execution_count": 125,
   "metadata": {},
   "outputs": [],
   "source": [
    "key = jp.random_prngkey(seed=0)\n",
    "keys = \n",
    "state,foot_contacts = my_reset(env,key)\n",
    "action = jp.ones((env.action_size,))\n",
    "state,foot_contacts = my_step(env,state,action)"
   ]
  },
  {
   "cell_type": "code",
   "execution_count": 132,
   "metadata": {},
   "outputs": [],
   "source": [
    "batched_jitted_reset = jax.vmap(jax.jit(my_reset),in_axes=[None, 0])\n",
    "batched_jitted_step = jax.vmap(jax.jit(my_step),in_axes=[None, 0,0])\n",
    "\n",
    "batched_reset = jax.vmap(my_reset,in_axes=[None, 0])\n",
    "batched_step = jax.vmap(my_step,in_axes=[None, 0,0])"
   ]
  },
  {
   "cell_type": "code",
   "execution_count": 7,
   "metadata": {},
   "outputs": [],
   "source": [
    "#keys = jax.random.split(key, num=10)\n",
    "#states,foot_contacts = batched_reset(env,keys)\n",
    "#actions = jp.ones((10,env.action_size))\n",
    "#states,foot_contacts = batched_step(env,states,actions)"
   ]
  },
  {
   "cell_type": "code",
   "execution_count": null,
   "metadata": {},
   "outputs": [],
   "source": []
  },
  {
   "cell_type": "code",
   "execution_count": null,
   "metadata": {},
   "outputs": [],
   "source": []
  },
  {
   "cell_type": "code",
   "execution_count": 121,
   "metadata": {},
   "outputs": [
    {
     "data": {
      "text/plain": [
       "(87,)"
      ]
     },
     "execution_count": 121,
     "metadata": {},
     "output_type": "execute_result"
    }
   ],
   "source": [
    "state.obs.shape"
   ]
  },
  {
   "cell_type": "code",
   "execution_count": 46,
   "metadata": {},
   "outputs": [],
   "source": [
    "def ant_get_foot_contacts(sys_info):\n",
    "    contact = jp.sum(jp.square(jp.clip(sys_info.contact.vel, -1, 1)), axis=1) != 0\n",
    "    foot_contacts = contacts[2:-1:2] # BD is only for the contact of the foot and the floor\n",
    "    return foot_contacts\n",
    "\n",
    "def qd_reset(env_reset_fn,key):\n",
    "    state = env_reset_fn(key)\n",
    "    foot_contacts = ant_get_foot_contacts()\n",
    "\n",
    "def qd_step(env_step_fn):\n",
    "    pass\n",
    "    "
   ]
  },
  {
   "cell_type": "code",
   "execution_count": 48,
   "metadata": {},
   "outputs": [],
   "source": [
    "contacts = get_contacts(sys_info)\n",
    "foot_contacts = contacts[2:-1:2] # BD is only for the contact of the foot and the floor"
   ]
  },
  {
   "cell_type": "code",
   "execution_count": 49,
   "metadata": {},
   "outputs": [
    {
     "data": {
      "text/plain": [
       "array([False, False,  True, False])"
      ]
     },
     "execution_count": 49,
     "metadata": {},
     "output_type": "execute_result"
    }
   ],
   "source": [
    "foot_contacts"
   ]
  },
  {
   "cell_type": "code",
   "execution_count": 54,
   "metadata": {},
   "outputs": [
    {
     "data": {
      "text/plain": [
       "<brax.envs.wrappers.AutoResetWrapper at 0x7f0a838cc3a0>"
      ]
     },
     "execution_count": 54,
     "metadata": {},
     "output_type": "execute_result"
    }
   ],
   "source": [
    "env"
   ]
  },
  {
   "cell_type": "code",
   "execution_count": 83,
   "metadata": {},
   "outputs": [],
   "source": [
    "fitnesses = np.random.randn(10000)\n",
    "jnp_fitnesses = jnp.array(fitnesses)"
   ]
  },
  {
   "cell_type": "code",
   "execution_count": 98,
   "metadata": {},
   "outputs": [
    {
     "name": "stdout",
     "output_type": "stream",
     "text": [
      "CPU times: user 0 ns, sys: 948 µs, total: 948 µs\n",
      "Wall time: 506 µs\n"
     ]
    }
   ],
   "source": [
    "%%time\n",
    "sorted_indicies = jnp.argsort(jnp_fitnesses)"
   ]
  },
  {
   "cell_type": "code",
   "execution_count": 99,
   "metadata": {},
   "outputs": [
    {
     "name": "stdout",
     "output_type": "stream",
     "text": [
      "CPU times: user 5.2 ms, sys: 691 µs, total: 5.89 ms\n",
      "Wall time: 3.92 ms\n"
     ]
    }
   ],
   "source": [
    "%%time\n",
    "\n",
    "all_ranks = jnp.linspace(-0.5,0.5,sorted_indicies.size) \n",
    "perturbation_ranks = jnp.zeros(sorted_indicies.size)\n",
    "perturbation_ranks = perturbation_ranks.at[sorted_indicies].set(all_ranks)\n",
    "\n"
   ]
  },
  {
   "cell_type": "code",
   "execution_count": 94,
   "metadata": {},
   "outputs": [
    {
     "name": "stdout",
     "output_type": "stream",
     "text": [
      "CPU times: user 1.31 ms, sys: 1.44 ms, total: 2.76 ms\n",
      "Wall time: 2.28 ms\n"
     ]
    }
   ],
   "source": [
    "%%time\n",
    "sorted_indicies = np.argsort(fitnesses)"
   ]
  },
  {
   "cell_type": "code",
   "execution_count": 95,
   "metadata": {},
   "outputs": [
    {
     "name": "stdout",
     "output_type": "stream",
     "text": [
      "CPU times: user 1.11 ms, sys: 0 ns, total: 1.11 ms\n",
      "Wall time: 788 µs\n"
     ]
    }
   ],
   "source": [
    "%%time\n",
    "all_ranks = np.linspace(-0.5,0.5,len(sorted_indicies)) \n",
    "perturbation_ranks = np.zeros(len(sorted_indicies))\n",
    "perturbation_ranks[sorted_indicies] = all_ranks\n",
    "\n",
    "#perturbation_ranks = np.array(perturbation_ranks)\n"
   ]
  },
  {
   "cell_type": "code",
   "execution_count": null,
   "metadata": {},
   "outputs": [],
   "source": []
  },
  {
   "cell_type": "code",
   "execution_count": null,
   "metadata": {},
   "outputs": [],
   "source": []
  },
  {
   "cell_type": "code",
   "execution_count": null,
   "metadata": {},
   "outputs": [],
   "source": []
  },
  {
   "cell_type": "code",
   "execution_count": null,
   "metadata": {},
   "outputs": [],
   "source": []
  },
  {
   "cell_type": "code",
   "execution_count": null,
   "metadata": {},
   "outputs": [],
   "source": []
  },
  {
   "cell_type": "code",
   "execution_count": null,
   "metadata": {},
   "outputs": [],
   "source": []
  },
  {
   "cell_type": "code",
   "execution_count": null,
   "metadata": {},
   "outputs": [],
   "source": []
  },
  {
   "cell_type": "code",
   "execution_count": null,
   "metadata": {},
   "outputs": [],
   "source": []
  },
  {
   "cell_type": "code",
   "execution_count": null,
   "metadata": {},
   "outputs": [],
   "source": []
  },
  {
   "cell_type": "code",
   "execution_count": null,
   "metadata": {},
   "outputs": [],
   "source": []
  }
 ],
 "metadata": {
  "kernelspec": {
   "display_name": "Python 3",
   "language": "python",
   "name": "python3"
  },
  "language_info": {
   "codemirror_mode": {
    "name": "ipython",
    "version": 3
   },
   "file_extension": ".py",
   "mimetype": "text/x-python",
   "name": "python",
   "nbconvert_exporter": "python",
   "pygments_lexer": "ipython3",
   "version": "3.8.10"
  }
 },
 "nbformat": 4,
 "nbformat_minor": 4
}
