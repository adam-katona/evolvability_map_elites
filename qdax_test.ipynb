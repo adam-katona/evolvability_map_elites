{
 "cells": [
  {
   "cell_type": "code",
   "execution_count": 1,
   "metadata": {},
   "outputs": [
    {
     "name": "stdout",
     "output_type": "stream",
     "text": [
      "env: CUDA_VISIBLE_DEVICES=0\n"
     ]
    }
   ],
   "source": [
    "%env CUDA_VISIBLE_DEVICES=0\n",
    "from es_map import qdax_task\n",
    "\n",
    "import numpy as np\n",
    "import brax\n",
    "#from brax import jumpy as jp\n",
    "from brax.envs import env\n",
    "import jax.numpy as jnp\n",
    "import jax\n",
    "\n",
    "from brax.envs import wrappers\n"
   ]
  },
  {
   "cell_type": "code",
   "execution_count": 2,
   "metadata": {},
   "outputs": [],
   "source": [
    "from brax import jumpy as jp"
   ]
  },
  {
   "cell_type": "code",
   "execution_count": 3,
   "metadata": {},
   "outputs": [],
   "source": [
    "key = jax.random.PRNGKey(777)\n",
    "key_envs = jax.random.split(key, 1)"
   ]
  },
  {
   "cell_type": "code",
   "execution_count": 4,
   "metadata": {},
   "outputs": [
    {
     "data": {
      "text/plain": [
       "es_map.qdax_envs.unidirectional_envs.ant.QDUniAnt"
      ]
     },
     "execution_count": 4,
     "metadata": {},
     "output_type": "execute_result"
    }
   ],
   "source": [
    "from es_map.qdax_envs.unidirectional_envs import ant, walker, hopper, halfcheetah, humanoid\n",
    "ant.QDUniAnt"
   ]
  },
  {
   "cell_type": "code",
   "execution_count": 11,
   "metadata": {},
   "outputs": [
    {
     "ename": "NameError",
     "evalue": "name 'envs' is not defined",
     "output_type": "error",
     "traceback": [
      "\u001b[0;31m---------------------------------------------------------------------------\u001b[0m",
      "\u001b[0;31mNameError\u001b[0m                                 Traceback (most recent call last)",
      "\u001b[0;32m<ipython-input-11-4fc87cf6bde4>\u001b[0m in \u001b[0;36m<module>\u001b[0;34m\u001b[0m\n\u001b[1;32m      1\u001b[0m \u001b[0menvironment\u001b[0m \u001b[0;34m=\u001b[0m \u001b[0;34m\"ant\"\u001b[0m  \u001b[0;31m# @param ['ant', 'halfcheetah', 'hopper', 'humanoid', 'reacher', 'walker2d', 'fetch', 'grasp', 'ur5e']\u001b[0m\u001b[0;34m\u001b[0m\u001b[0;34m\u001b[0m\u001b[0m\n\u001b[0;32m----> 2\u001b[0;31m \u001b[0menv\u001b[0m \u001b[0;34m=\u001b[0m \u001b[0menvs\u001b[0m\u001b[0;34m.\u001b[0m\u001b[0mcreate\u001b[0m\u001b[0;34m(\u001b[0m\u001b[0menv_name\u001b[0m\u001b[0;34m=\u001b[0m\u001b[0menvironment\u001b[0m\u001b[0;34m)\u001b[0m\u001b[0;34m\u001b[0m\u001b[0;34m\u001b[0m\u001b[0m\n\u001b[0m\u001b[1;32m      3\u001b[0m \u001b[0mstate\u001b[0m \u001b[0;34m=\u001b[0m \u001b[0menv\u001b[0m\u001b[0;34m.\u001b[0m\u001b[0mreset\u001b[0m\u001b[0;34m(\u001b[0m\u001b[0mrng\u001b[0m\u001b[0;34m=\u001b[0m\u001b[0mjp\u001b[0m\u001b[0;34m.\u001b[0m\u001b[0mrandom_prngkey\u001b[0m\u001b[0;34m(\u001b[0m\u001b[0mseed\u001b[0m\u001b[0;34m=\u001b[0m\u001b[0;36m0\u001b[0m\u001b[0;34m)\u001b[0m\u001b[0;34m)\u001b[0m\u001b[0;34m\u001b[0m\u001b[0;34m\u001b[0m\u001b[0m\n",
      "\u001b[0;31mNameError\u001b[0m: name 'envs' is not defined"
     ]
    }
   ],
   "source": [
    "environment = \"ant\"  # @param ['ant', 'halfcheetah', 'hopper', 'humanoid', 'reacher', 'walker2d', 'fetch', 'grasp', 'ur5e']\n",
    "env = envs.create(env_name=environment)\n",
    "state = env.reset(rng=jp.random_prngkey(seed=0))"
   ]
  },
  {
   "cell_type": "code",
   "execution_count": 12,
   "metadata": {},
   "outputs": [],
   "source": [
    "env = ant.QDUniAnt()"
   ]
  },
  {
   "cell_type": "code",
   "execution_count": 13,
   "metadata": {},
   "outputs": [],
   "source": [
    "state = env.reset(key)"
   ]
  },
  {
   "cell_type": "code",
   "execution_count": null,
   "metadata": {},
   "outputs": [],
   "source": []
  },
  {
   "cell_type": "code",
   "execution_count": 5,
   "metadata": {},
   "outputs": [
    {
     "data": {
      "text/plain": [
       "VectorGymWrapper(10000)"
      ]
     },
     "execution_count": 5,
     "metadata": {},
     "output_type": "execute_result"
    }
   ],
   "source": [
    "batch_size = 10000\n",
    "\n",
    "env = ant.QDUniAnt()\n",
    "env = wrappers.EpisodeWrapper(env, episode_length=1000, action_repeat=1)\n",
    "env = wrappers.VectorWrapper(env, batch_size=batch_size)\n",
    "env = wrappers.AutoResetWrapper(env)\n",
    "env = wrappers.VectorGymWrapper(env)\n",
    "env\n"
   ]
  },
  {
   "cell_type": "code",
   "execution_count": null,
   "metadata": {},
   "outputs": [],
   "source": [
    "def params_tree_to_vec(params):\n",
    "    \n",
    "    numelements = jax.tree_map(lambda x:x.size ,params)\n",
    "    numel_leafs,treedef = jax.tree_flatten(numelements)\n",
    "    ending_indicies = np.cumsum(numel_leafs)\n",
    "    ending_indicies_tree = jax.tree_unflatten(treedef,ending_indicies)\n",
    "    \n",
    "    shapes_tree = jax.tree_map(lambda x:x.shape ,params)\n",
    "    \n",
    "    flat_shaped_tree = jax.tree_map(lambda x:x.reshape(-1) ,params)\n",
    "    flat_shaped_leafs,treedef = jax.tree_flatten(flat_shaped_tree)\n",
    "    \n",
    "    vec = jnp.concatenate(flat_shaped_leafs)\n",
    "    \n",
    "    return vec,shapes_tree,ending_indicies_tree\n",
    "    \n",
    "def vec_to_params_tree(vec,shapes,indicies):\n",
    "    return jax.tree_multimap(lambda i,shape:vec[i-np.prod(shape):i].reshape(shape),indicies,shapes)\n",
    "\n",
    "batch_vec_to_params = jax.vmap(vec_to_params_tree,in_axes=[0, None,None])\n"
   ]
  },
  {
   "cell_type": "code",
   "execution_count": 177,
   "metadata": {},
   "outputs": [],
   "source": [
    "def create_ant(population_size,evaluation_batch_size):\n",
    "    env = ant.QDUniAnt()\n",
    "    env = wrappers.EpisodeWrapper(env, episode_length=1000, action_repeat=1)\n",
    "    env = wrappers.VectorWrapper(env, batch_size=population_size+evaluation_batch_size)\n",
    "    env = wrappers.AutoResetWrapper(env)\n",
    "    env = wrappers.VectorGymWrapper(env)\n",
    "    return env\n",
    "\n",
    "def create_model(observation_size, action_size):\n",
    "    parametric_action_distribution = distribution.NormalTanhDistribution(event_size=action_size)\n",
    "    return = networks.make_model(\n",
    "      [64, 64, parametric_action_distribution.param_size],\n",
    "      observation_size,\n",
    "    )\n",
    "    \n",
    "batch_model_apply = jp.vmap(model.apply)\n",
    "initial_params_tree = model.init(key)\n",
    "    \n",
    "initial_params_flat = \n",
    "    \n",
    "    \n"
   ]
  },
  {
   "cell_type": "code",
   "execution_count": 136,
   "metadata": {},
   "outputs": [],
   "source": [
    "def calculate_obs_stats(obs_stats):\n",
    "    sum = obs_stats[\"sum\"]\n",
    "    sumsq = obs_stats[\"sumsq\"]\n",
    "    count = obs_stats[\"count\"]\n",
    "    \n",
    "    if count == 0:\n",
    "        return np.zeros_like(sum),np.ones_like(sum)\n",
    "    mean = sum / count\n",
    "    std = np.sqrt(np.maximum(sumsq / count - np.square(mean), 1e-2))\n",
    "    return mean,std\n"
   ]
  },
  {
   "cell_type": "code",
   "execution_count": 181,
   "metadata": {},
   "outputs": [],
   "source": [
    "def rollout_episodes(env,params,obs_stats,config):\n",
    "    \n",
    "    obs = env.reset()\n",
    "    \n",
    "    # TODO model from params\n",
    "    \n",
    "    cumulative_reward = jnp.zeros(obs.shape[0])\n",
    "    active_episode = jnp.ones_like(cumulative_reward)\n",
    "    bd_dim = env._state.info[\"bd\"].shape[1]\n",
    "    bds = jnp.zeros([obs.shape[0],bd_dim])\n",
    "\n",
    "    # prepare obs stats\n",
    "    mean,var = calculate_obs_stats(obs_stats)\n",
    "    mean = jnp.array(mean)\n",
    "    var = jnp.array(var)\n",
    "    \n",
    "    # also prepare variable to accumulate values to calcuate obs stats, we will add new obs and return these\n",
    "    obs_sums = jnp.array(obs_stats[\"sum\"])\n",
    "    obs_squared_sums = jnp.array(obs_stats[\"sumsq\"])\n",
    "    obs_count = jnp.array([obs_stats[\"count\"]])\n",
    "    \n",
    "    \n",
    "    # max_steps = config[\"\"] # TODO\n",
    "    max_steps = 1000\n",
    "    \n",
    "    \n",
    "    \n",
    "    for step_i in range(max_steps):\n",
    "    \n",
    "        normalized_obs = (obs-mean) / var\n",
    "        \n",
    "        # TODO apply model with normalized_obs\n",
    "        action = jnp.array(np.random.randn(*env.action_space.shape))\n",
    "    \n",
    "        obs,reward,done,info = env.step(action)\n",
    "        \n",
    "        \n",
    "        last_step_of_first_episode = active_episode * done # will only ever be 1 when we are at last step of first episode\n",
    "        active_episode = active_episode * (1 - done) # once the first episode is done, active_episode will become and stay 0\n",
    "        \n",
    "        cumulative_reward += reward * active_episode\n",
    "    \n",
    "        # bs is sometimes nan and inf (we multiply by 0 in those cases, but still infects with nan...)\n",
    "        info_bd = jnp.nan_to_num(info[\"bd\"],nan=0.0, posinf=0.0, neginf=0.0)\n",
    "        bds = bds + last_step_of_first_episode.reshape(-1,1) * info_bd\n",
    "\n",
    "        # record observation stats, only count active episodes (zero out others)\n",
    "        active_obs = active_episode.reshape(-1,1) * obs\n",
    "        obs_sums = obs_sums + jnp.sum(active_obs,axis=0)\n",
    "        obs_squared_sums = obs_squared_sums + jnp.sum(active_obs*active_obs,axis=0)\n",
    "        obs_count = obs_count + jnp.sum(active_episode)\n",
    "    \n",
    "    # turn back obs stats into normal cpu format\n",
    "    new_obs_stats = {\n",
    "        \"sum\" : np.array(obs_sums),\n",
    "        \"sumsq\" : np.array(obs_squared_sums),\n",
    "        \"count\" : obs_count[0],\n",
    "    }\n",
    "    return cumulative_reward,bds,new_obs_stats\n",
    "    \n",
    "    "
   ]
  },
  {
   "cell_type": "code",
   "execution_count": 138,
   "metadata": {},
   "outputs": [],
   "source": [
    "observation_stats = {                  # this is a single obs stats to keep track of during the whole experiment. \n",
    "        \"sum\" : np.zeros(obs_shape),       # This is always expanded, and always used to calculate the current mean and std\n",
    "        \"sumsq\" : np.zeros(obs_shape),\n",
    "        \"count\" : 0,\n",
    "    }"
   ]
  },
  {
   "cell_type": "code",
   "execution_count": 143,
   "metadata": {},
   "outputs": [],
   "source": [
    "env = create_ant(1)"
   ]
  },
  {
   "cell_type": "code",
   "execution_count": 145,
   "metadata": {},
   "outputs": [
    {
     "name": "stdout",
     "output_type": "stream",
     "text": [
      "CPU times: user 4.4 s, sys: 989 ms, total: 5.39 s\n",
      "Wall time: 3.59 s\n"
     ]
    }
   ],
   "source": [
    "%%time\n",
    "fitness,bds,new_obs_stats = rollout_episodes(env,params=None,obs_stats=observation_stats,config=None)"
   ]
  },
  {
   "cell_type": "code",
   "execution_count": 146,
   "metadata": {},
   "outputs": [],
   "source": [
    "env = create_ant(100)"
   ]
  },
  {
   "cell_type": "code",
   "execution_count": 148,
   "metadata": {},
   "outputs": [
    {
     "name": "stdout",
     "output_type": "stream",
     "text": [
      "CPU times: user 4.61 s, sys: 942 ms, total: 5.56 s\n",
      "Wall time: 3.8 s\n"
     ]
    }
   ],
   "source": [
    "%%time\n",
    "fitness,bds,new_obs_stats = rollout_episodes(env,params=None,obs_stats=observation_stats,config=None)"
   ]
  },
  {
   "cell_type": "code",
   "execution_count": 178,
   "metadata": {},
   "outputs": [],
   "source": [
    "env = create_ant(1000)"
   ]
  },
  {
   "cell_type": "code",
   "execution_count": 151,
   "metadata": {},
   "outputs": [
    {
     "name": "stdout",
     "output_type": "stream",
     "text": [
      "CPU times: user 5.04 s, sys: 819 ms, total: 5.86 s\n",
      "Wall time: 4.1 s\n"
     ]
    }
   ],
   "source": [
    "%%time\n",
    "fitness,bds,new_obs_stats = rollout_episodes(env,params=None,obs_stats=observation_stats,config=None)"
   ]
  },
  {
   "cell_type": "code",
   "execution_count": 165,
   "metadata": {},
   "outputs": [],
   "source": [
    "env = create_ant(5000)"
   ]
  },
  {
   "cell_type": "code",
   "execution_count": 167,
   "metadata": {},
   "outputs": [
    {
     "name": "stdout",
     "output_type": "stream",
     "text": [
      "CPU times: user 5.57 s, sys: 680 ms, total: 6.25 s\n",
      "Wall time: 4.8 s\n"
     ]
    }
   ],
   "source": [
    "%%time\n",
    "fitness,bds,new_obs_stats = rollout_episodes(env,params=None,obs_stats=observation_stats,config=None)"
   ]
  },
  {
   "cell_type": "code",
   "execution_count": 182,
   "metadata": {},
   "outputs": [],
   "source": [
    "env = create_ant(10000)"
   ]
  },
  {
   "cell_type": "code",
   "execution_count": 184,
   "metadata": {},
   "outputs": [
    {
     "name": "stdout",
     "output_type": "stream",
     "text": [
      "CPU times: user 674 ms, sys: 68.3 ms, total: 743 ms\n",
      "Wall time: 620 ms\n"
     ]
    }
   ],
   "source": [
    "%%time\n",
    "fitness,bds,new_obs_stats = rollout_episodes(env,params=None,obs_stats=observation_stats,config=None)"
   ]
  },
  {
   "cell_type": "code",
   "execution_count": 169,
   "metadata": {},
   "outputs": [],
   "source": [
    "env = create_ant(20000)"
   ]
  },
  {
   "cell_type": "code",
   "execution_count": 171,
   "metadata": {},
   "outputs": [
    {
     "name": "stdout",
     "output_type": "stream",
     "text": [
      "CPU times: user 8.81 s, sys: 463 ms, total: 9.27 s\n",
      "Wall time: 10.1 s\n"
     ]
    }
   ],
   "source": [
    "%%time\n",
    "fitness,bds,new_obs_stats = rollout_episodes(env,params=None,obs_stats=observation_stats,config=None)"
   ]
  },
  {
   "cell_type": "code",
   "execution_count": 155,
   "metadata": {},
   "outputs": [],
   "source": [
    "env = create_ant(50000)"
   ]
  },
  {
   "cell_type": "code",
   "execution_count": 157,
   "metadata": {},
   "outputs": [
    {
     "name": "stdout",
     "output_type": "stream",
     "text": [
      "CPU times: user 21 s, sys: 444 ms, total: 21.5 s\n",
      "Wall time: 34.5 s\n"
     ]
    }
   ],
   "source": [
    "%%time\n",
    "fitness,bds,new_obs_stats = rollout_episodes(env,params=None,obs_stats=observation_stats,config=None)"
   ]
  },
  {
   "cell_type": "code",
   "execution_count": 172,
   "metadata": {},
   "outputs": [
    {
     "data": {
      "text/plain": [
       "[<matplotlib.lines.Line2D at 0x7fb8703d55b0>]"
      ]
     },
     "execution_count": 172,
     "metadata": {},
     "output_type": "execute_result"
    },
    {
     "data": {
      "image/png": "[encoded data removed]",
      "text/plain": [
       "<Figure size 432x288 with 1 Axes>"
      ]
     },
     "metadata": {
      "needs_background": "light"
     },
     "output_type": "display_data"
    }
   ],
   "source": [
    "import matplotlib.pyplot as plt\n",
    "episodes = np.array([1,100,1000,5000,10000,20000,50000])\n",
    "runtimes = np.array([3.59,3.8,4.1,4.8,5.95,10.1,34.5])\n",
    "\n",
    "episode_per_sec = episodes / runtimes\n",
    "step_per_sec = 1000*episode_per_sec\n",
    "\n",
    "plt.plot(episode_per_sec)"
   ]
  },
  {
   "cell_type": "code",
   "execution_count": null,
   "metadata": {},
   "outputs": [],
   "source": []
  },
  {
   "cell_type": "code",
   "execution_count": null,
   "metadata": {},
   "outputs": [],
   "source": [
    "def create_model_forward_fn(vec_to_params_fn,model_params_flat,obs):\n",
    "    \n",
    "    w1 = \n",
    "    "
   ]
  },
  {
   "cell_type": "code",
   "execution_count": 12,
   "metadata": {},
   "outputs": [],
   "source": [
    "from brax.training import distribution, networks\n",
    "\n",
    "def _generate_individual_model(observation_size, action_size):\n",
    "    parametric_action_distribution = distribution.NormalTanhDistribution(event_size=action_size)\n",
    "    return networks.make_model(\n",
    "      [64, 64, parametric_action_distribution.param_size],\n",
    "      observation_size,\n",
    "    )\n",
    "\n",
    "model = _generate_individual_model(30,4)"
   ]
  },
  {
   "cell_type": "code",
   "execution_count": 12,
   "metadata": {},
   "outputs": [],
   "source": [
    "model_params_dict = model.init(key)"
   ]
  },
  {
   "cell_type": "code",
   "execution_count": 38,
   "metadata": {},
   "outputs": [
    {
     "ename": "TypeError",
     "evalue": "apply() missing 1 required positional argument: 'variables'",
     "output_type": "error",
     "traceback": [
      "\u001b[0;31m---------------------------------------------------------------------------\u001b[0m",
      "\u001b[0;31mUnfilteredStackTrace\u001b[0m                      Traceback (most recent call last)",
      "\u001b[0;32m<ipython-input-38-7d5768fe65d6>\u001b[0m in \u001b[0;36m<module>\u001b[0;34m\u001b[0m\n\u001b[0;32m----> 1\u001b[0;31m \u001b[0mmodel\u001b[0m\u001b[0;34m.\u001b[0m\u001b[0mapply\u001b[0m\u001b[0;34m(\u001b[0m\u001b[0;34m)\u001b[0m\u001b[0;34m\u001b[0m\u001b[0;34m\u001b[0m\u001b[0m\n\u001b[0m",
      "\u001b[0;32m/scratch/ak1774/vargpu_env/lib/python3.8/site-packages/jax/_src/traceback_util.py\u001b[0m in \u001b[0;36mreraise_with_filtered_traceback\u001b[0;34m(*args, **kwargs)\u001b[0m\n\u001b[1;32m    164\u001b[0m     \u001b[0;32mtry\u001b[0m\u001b[0;34m:\u001b[0m\u001b[0;34m\u001b[0m\u001b[0;34m\u001b[0m\u001b[0m\n\u001b[0;32m--> 165\u001b[0;31m       \u001b[0;32mreturn\u001b[0m \u001b[0mfun\u001b[0m\u001b[0;34m(\u001b[0m\u001b[0;34m*\u001b[0m\u001b[0margs\u001b[0m\u001b[0;34m,\u001b[0m \u001b[0;34m**\u001b[0m\u001b[0mkwargs\u001b[0m\u001b[0;34m)\u001b[0m\u001b[0;34m\u001b[0m\u001b[0;34m\u001b[0m\u001b[0m\n\u001b[0m\u001b[1;32m    166\u001b[0m     \u001b[0;32mexcept\u001b[0m \u001b[0mException\u001b[0m \u001b[0;32mas\u001b[0m \u001b[0me\u001b[0m\u001b[0;34m:\u001b[0m\u001b[0;34m\u001b[0m\u001b[0;34m\u001b[0m\u001b[0m\n",
      "\u001b[0;31mUnfilteredStackTrace\u001b[0m: TypeError: apply() missing 1 required positional argument: 'variables'\n\nThe stack trace below excludes JAX-internal frames.\nThe preceding is the original exception that occurred, unmodified.\n\n--------------------",
      "\nThe above exception was the direct cause of the following exception:\n",
      "\u001b[0;31mTypeError\u001b[0m                                 Traceback (most recent call last)",
      "\u001b[0;32m<ipython-input-38-7d5768fe65d6>\u001b[0m in \u001b[0;36m<module>\u001b[0;34m\u001b[0m\n\u001b[0;32m----> 1\u001b[0;31m \u001b[0mmodel\u001b[0m\u001b[0;34m.\u001b[0m\u001b[0mapply\u001b[0m\u001b[0;34m(\u001b[0m\u001b[0;34m)\u001b[0m\u001b[0;34m\u001b[0m\u001b[0;34m\u001b[0m\u001b[0m\n\u001b[0m",
      "\u001b[0;31mTypeError\u001b[0m: apply() missing 1 required positional argument: 'variables'"
     ]
    }
   ],
   "source": [
    "model.apply(model_params_dict,)\n",
    "policy_model.apply(params, obs)"
   ]
  },
  {
   "cell_type": "code",
   "execution_count": 6,
   "metadata": {},
   "outputs": [],
   "source": [
    "obs = env.reset()"
   ]
  },
  {
   "cell_type": "code",
   "execution_count": 14,
   "metadata": {},
   "outputs": [],
   "source": [
    "model = _generate_individual_model(env.observation_space.shape[1],env.action_space.shape[1])\n",
    "params = model.init(key)"
   ]
  },
  {
   "cell_type": "code",
   "execution_count": 15,
   "metadata": {},
   "outputs": [],
   "source": [
    "model_out = model.apply(params,obs)"
   ]
  },
  {
   "cell_type": "code",
   "execution_count": 17,
   "metadata": {},
   "outputs": [],
   "source": [
    "def get_deterministic_actions(model_out):\n",
    "    loc, scale = jnp.split(model_out, 2, axis=-1) # splits it into 2 even subarrays along last axis\n",
    "    act = jnp.tanh(loc)\n",
    "    return act"
   ]
  },
  {
   "cell_type": "code",
   "execution_count": 18,
   "metadata": {},
   "outputs": [],
   "source": [
    "action = get_deterministic_actions(model_out)"
   ]
  },
  {
   "cell_type": "code",
   "execution_count": null,
   "metadata": {},
   "outputs": [],
   "source": [
    "\n"
   ]
  },
  {
   "cell_type": "code",
   "execution_count": 17,
   "metadata": {},
   "outputs": [],
   "source": [
    "def params_tree_to_vec(params):\n",
    "    \n",
    "    numelements = jax.tree_map(lambda x:x.size ,params)\n",
    "    numel_leafs,treedef = jax.tree_flatten(numelements)\n",
    "    ending_indicies = np.cumsum(numel_leafs)\n",
    "    ending_indicies_tree = jax.tree_unflatten(treedef,ending_indicies)\n",
    "    \n",
    "    shapes_tree = jax.tree_map(lambda x:x.shape ,params)\n",
    "    \n",
    "    flat_shaped_tree = jax.tree_map(lambda x:x.reshape(-1) ,params)\n",
    "    flat_shaped_leafs,treedef = jax.tree_flatten(flat_shaped_tree)\n",
    "    \n",
    "    vec = jnp.concatenate(flat_shaped_leafs)\n",
    "    \n",
    "    return vec,shapes_tree,ending_indicies_tree\n",
    "    \n",
    "def vec_to_params_tree(vec,shapes,indicies):\n",
    "    return jax.tree_multimap(lambda i,shape:vec[i-np.prod(shape):i].reshape(shape),indicies,shapes)"
   ]
  },
  {
   "cell_type": "code",
   "execution_count": 18,
   "metadata": {},
   "outputs": [],
   "source": [
    "vec,shapes_tree,ending_indicies_tree = params_tree_to_vec(model_params_dict)"
   ]
  },
  {
   "cell_type": "code",
   "execution_count": 23,
   "metadata": {},
   "outputs": [],
   "source": [
    "reconstructed = vec_to_params_tree(vec,shapes_tree,ending_indicies_tree)"
   ]
  },
  {
   "cell_type": "code",
   "execution_count": 28,
   "metadata": {},
   "outputs": [],
   "source": [
    "noise = jax.random.normal(key,shape=[100,vec.size])\n",
    "mutated_params = vec + noise * 0.02"
   ]
  },
  {
   "cell_type": "code",
   "execution_count": 31,
   "metadata": {},
   "outputs": [],
   "source": [
    "batch_vec_to_params = jax.vmap(vec_to_params_tree,in_axes=[0, None,None])\n",
    "policy_trees = batch_vec_to_params(mutated_params,shapes_tree,ending_indicies_tree)"
   ]
  },
  {
   "cell_type": "code",
   "execution_count": 29,
   "metadata": {},
   "outputs": [
    {
     "data": {
      "text/plain": [
       "(100, 6664)"
      ]
     },
     "execution_count": 29,
     "metadata": {},
     "output_type": "execute_result"
    }
   ],
   "source": [
    "mutated_params.shape"
   ]
  },
  {
   "cell_type": "code",
   "execution_count": null,
   "metadata": {},
   "outputs": [],
   "source": []
  },
  {
   "cell_type": "code",
   "execution_count": 57,
   "metadata": {},
   "outputs": [],
   "source": [
    "obs_batch = jax.random.normal(key,shape=[100,30])\n",
    "#logits = model.apply(policy_trees,obs_batch)\n",
    "\n",
    "batch_apply = jp.vmap(model.apply)\n",
    "\n",
    "#def apply_model(policy_model, params, obs):\n",
    "#    return policy_model.apply(params, obs)\n",
    "\n",
    "#batch_apply = jax.vmap(\n",
    "#    lambda *args: apply_model(*args),\n",
    "#    in_axes=(None, 0, 0),\n",
    "#    out_axes=0,\n",
    "#  )\n",
    "\n"
   ]
  },
  {
   "cell_type": "code",
   "execution_count": 48,
   "metadata": {},
   "outputs": [
    {
     "name": "stdout",
     "output_type": "stream",
     "text": [
      "(100, 64)\n",
      "(100, 30, 64)\n",
      "(100, 64)\n",
      "(100, 64, 64)\n",
      "(100, 8)\n",
      "(100, 64, 8)\n"
     ]
    }
   ],
   "source": [
    "flat_dict,treedef = jax.tree_flatten(policy_trees)\n",
    "for val in flat_dict:\n",
    "    print(val.shape)"
   ]
  },
  {
   "cell_type": "code",
   "execution_count": 59,
   "metadata": {},
   "outputs": [],
   "source": [
    "logits = batch_apply(policy_trees,obs_batch)"
   ]
  },
  {
   "cell_type": "code",
   "execution_count": 62,
   "metadata": {},
   "outputs": [
    {
     "data": {
      "text/plain": [
       "(100, 8)"
      ]
     },
     "execution_count": 62,
     "metadata": {},
     "output_type": "execute_result"
    }
   ],
   "source": [
    "logits.shape"
   ]
  },
  {
   "cell_type": "code",
   "execution_count": null,
   "metadata": {},
   "outputs": [],
   "source": []
  },
  {
   "cell_type": "code",
   "execution_count": 125,
   "metadata": {},
   "outputs": [
    {
     "name": "stdout",
     "output_type": "stream",
     "text": [
      "CPU times: user 6.91 s, sys: 446 ms, total: 7.36 s\n",
      "Wall time: 6.02 s\n"
     ]
    }
   ],
   "source": [
    "%%time\n",
    "\n",
    "obs = env.reset()\n",
    "\n",
    "dones = []\n",
    "rewards = []\n",
    "bds = []\n",
    "\n",
    "#jitted_step = jax.jit(env.step)\n",
    "\n",
    "\n",
    "obs_shape = env.observation_space.shape[1:]  # first dim is the batch dimension\n",
    "\n",
    "obs_sums = jnp.zeros(obs_shape)\n",
    "obs_squared_sums = jnp.zeros(obs_shape)\n",
    "obs_count = jnp.zeros([1])\n",
    "\n",
    "\n",
    "cumulative_reward = jnp.zeros(obs.shape[0])\n",
    "active_episode = jnp.ones_like(cumulative_reward)\n",
    "bd_dim = 4\n",
    "bds = jnp.zeros([obs.shape[0],bd_dim])\n",
    "\n",
    "all_bds = []\n",
    "\n",
    "mean,var = calculate_obs_mean_var(obs_sums,obs_squared_sums,obs_count)\n",
    "\n",
    "for i in range(1000):\n",
    "    # calulate action \n",
    "    action = jnp.array(np.random.randn(*env.action_space.shape))\n",
    "    \n",
    "    #action = jp.zeros(env.action_space.shape)\n",
    "    obs,reward,done,info = env.step(action)\n",
    "    #obs,reward,done,info = jitted_step(action)  # The jitted version sets bd to inf for some reason\n",
    "    \n",
    "    # done will only turn to 1 for one step, afterwards, it then starts a new episode which we complately ignore \n",
    "    last_step_of_first_episode = active_episode * done # will only ever be 1 when we are at last step of first episode\n",
    "    active_episode = active_episode * (1 - done) # once the first episode is done, active_episode will become ans stay 0\n",
    "\n",
    "    normalized_obs = (obs-mean) / var\n",
    "    \n",
    "    # record observation stats, only count active episodes (zero out others)\n",
    "    active_obs = active_episode.reshape(-1,1) * obs\n",
    "    obs_sums = obs_sums + jnp.sum(active_obs,axis=0)\n",
    "    obs_squared_sums = obs_squared_sums + jnp.sum(active_obs*active_obs,axis=0)\n",
    "    obs_count = obs_count + jnp.sum(active_episode)\n",
    "    \n",
    "    #print(i,jnp.sum(last_step_of_first_episode))\n",
    "    \n",
    "    cumulative_reward += reward * active_episode\n",
    "    \n",
    "    # bs is sometimes nan and inf\n",
    "    # normaly we dont care about this, because we multiply with 0 in these cases, but the nan infects the calulation\n",
    "    info_bd = jnp.nan_to_num(info[\"bd\"],nan=0.0, posinf=0.0, neginf=0.0)\n",
    "    bds = bds + last_step_of_first_episode.reshape(-1,1) * info_bd\n",
    "    #all_bds.append(bds[0])\n",
    "    #all_bds.append(info[\"bd\"][0])\n",
    "\n",
    "# return fitness,bd and obs stats\n"
   ]
  },
  {
   "cell_type": "code",
   "execution_count": 133,
   "metadata": {},
   "outputs": [
    {
     "data": {
      "text/plain": [
       "4"
      ]
     },
     "execution_count": 133,
     "metadata": {},
     "output_type": "execute_result"
    }
   ],
   "source": [
    "obs = env.reset()\n",
    "env._state.info[\"bd\"].shape[1]\n"
   ]
  },
  {
   "cell_type": "code",
   "execution_count": 104,
   "metadata": {},
   "outputs": [
    {
     "data": {
      "text/plain": [
       "(10000, 87)"
      ]
     },
     "execution_count": 104,
     "metadata": {},
     "output_type": "execute_result"
    }
   ],
   "source": [
    "obs.shape"
   ]
  },
  {
   "cell_type": "code",
   "execution_count": 126,
   "metadata": {},
   "outputs": [
    {
     "data": {
      "text/plain": [
       "array([ 5.94160497e-01,  4.32981789e-01, -1.16435648e-03,  4.14690759e-04,\n",
       "        1.55369285e-03,  7.64215220e-05,  8.55309248e-01,  1.43447047e-04,\n",
       "       -8.55417311e-01, -6.60346181e-04, -8.55582118e-01,  1.10520145e-04,\n",
       "        8.54979992e-01,  2.13483837e-03, -1.25741775e-04,  5.36825173e-02,\n",
       "        5.20938425e-04, -2.79176980e-04,  5.75903617e-03,  9.60683974e-04,\n",
       "       -1.82338953e-02,  7.42486562e-04,  1.63782630e-02,  1.58866504e-04,\n",
       "        1.88048501e-02,  4.87847487e-04, -1.94809884e-02,  1.80268427e-04,\n",
       "        1.63626115e-04,  8.27212036e-02,  0.00000000e+00,  0.00000000e+00,\n",
       "        0.00000000e+00,  2.53560320e-02,  2.55756211e-02,  1.96347997e-01,\n",
       "        0.00000000e+00,  0.00000000e+00,  0.00000000e+00, -2.48626862e-02,\n",
       "        2.52265353e-02,  1.95395634e-01,  0.00000000e+00,  0.00000000e+00,\n",
       "        0.00000000e+00, -2.50827465e-02, -2.56742444e-02,  1.95342168e-01,\n",
       "        0.00000000e+00,  0.00000000e+00,  0.00000000e+00,  2.52132099e-02,\n",
       "       -2.58367639e-02,  1.96200535e-01,  0.00000000e+00,  0.00000000e+00,\n",
       "        0.00000000e+00,  3.38441576e-04, -3.28093418e-04,  0.00000000e+00,\n",
       "        0.00000000e+00,  0.00000000e+00,  0.00000000e+00,  3.48183699e-02,\n",
       "       -3.48751508e-02, -2.01065748e-04,  0.00000000e+00,  0.00000000e+00,\n",
       "        0.00000000e+00,  3.45900878e-02,  3.40852030e-02, -2.33917308e-06,\n",
       "        0.00000000e+00,  0.00000000e+00,  0.00000000e+00, -3.49723771e-02,\n",
       "        3.45102660e-02,  1.62901371e-04,  0.00000000e+00,  0.00000000e+00,\n",
       "        0.00000000e+00, -3.50507610e-02, -3.46420296e-02, -2.87736708e-04,\n",
       "        0.00000000e+00,  0.00000000e+00,  0.00000000e+00], dtype=float32)"
      ]
     },
     "execution_count": 126,
     "metadata": {},
     "output_type": "execute_result"
    }
   ],
   "source": [
    "mean,var = calculate_obs_mean_var(obs_sums,obs_squared_sums,obs_count)\n",
    "mean"
   ]
  },
  {
   "cell_type": "code",
   "execution_count": 94,
   "metadata": {},
   "outputs": [
    {
     "data": {
      "text/plain": [
       "0.0"
      ]
     },
     "execution_count": 94,
     "metadata": {},
     "output_type": "execute_result"
    }
   ],
   "source": [
    "np.array(jnp.sum(active_episode)).reshape(-1)[0]"
   ]
  },
  {
   "cell_type": "code",
   "execution_count": 19,
   "metadata": {},
   "outputs": [],
   "source": [
    "obs = env.reset()\n",
    "action = jp.zeros(env.action_space.shape)\n",
    "obs,reward,done,info = env.step(action)\n",
    "obs,reward,done,info = env.step(action)\n",
    "obs,reward,done,info = env.step(action)\n",
    "obs,reward,done,info = env.step(action)\n",
    "obs,reward,done,info = env.step(action)\n",
    "#obs,reward,done,info = jitted_step(action)\n",
    "#obs,reward,done,info = jitted_step(action)\n",
    "#obs,reward,done,info = jitted_step(action)\n",
    "#obs,reward,done,info = jitted_step(action)\n",
    "#obs,reward,done,info = jitted_step(action)"
   ]
  },
  {
   "cell_type": "code",
   "execution_count": 25,
   "metadata": {},
   "outputs": [
    {
     "data": {
      "text/plain": [
       "(10000,)"
      ]
     },
     "execution_count": 25,
     "metadata": {},
     "output_type": "execute_result"
    }
   ],
   "source": [
    "last_step_of_first_episode.shape"
   ]
  },
  {
   "cell_type": "code",
   "execution_count": 26,
   "metadata": {},
   "outputs": [
    {
     "data": {
      "text/plain": [
       "(10000, 4)"
      ]
     },
     "execution_count": 26,
     "metadata": {},
     "output_type": "execute_result"
    }
   ],
   "source": [
    "info[\"bd\"].shape"
   ]
  },
  {
   "cell_type": "code",
   "execution_count": 37,
   "metadata": {},
   "outputs": [
    {
     "data": {
      "text/plain": [
       "(10000, 4)"
      ]
     },
     "execution_count": 37,
     "metadata": {},
     "output_type": "execute_result"
    }
   ],
   "source": [
    "(last_step_of_first_episode.reshape(-1,1) * info[\"bd\"]).shape"
   ]
  },
  {
   "cell_type": "code",
   "execution_count": 54,
   "metadata": {},
   "outputs": [
    {
     "data": {
      "text/plain": [
       "(87,)"
      ]
     },
     "execution_count": 54,
     "metadata": {},
     "output_type": "execute_result"
    }
   ],
   "source": [
    "env.observation_space.shape[1:]"
   ]
  },
  {
   "cell_type": "code",
   "execution_count": null,
   "metadata": {},
   "outputs": [],
   "source": []
  },
  {
   "cell_type": "code",
   "execution_count": 200,
   "metadata": {},
   "outputs": [
    {
     "data": {
      "text/plain": [
       "(52, 4)"
      ]
     },
     "execution_count": 200,
     "metadata": {},
     "output_type": "execute_result"
    }
   ],
   "source": [
    "env._state.info[\"bd\"]"
   ]
  },
  {
   "cell_type": "code",
   "execution_count": 100,
   "metadata": {},
   "outputs": [],
   "source": [
    "key = jax.random.PRNGKey(777)\n",
    "key_envs = jax.random.split(key, 1)\n",
    "first_state = task.reset_fn_batch(key_envs)"
   ]
  },
  {
   "cell_type": "code",
   "execution_count": 76,
   "metadata": {},
   "outputs": [],
   "source": [
    "policy_model = task.policy_model"
   ]
  },
  {
   "cell_type": "code",
   "execution_count": 17,
   "metadata": {},
   "outputs": [
    {
     "data": {
      "text/plain": [
       "brax.training.networks.FeedForwardModel"
      ]
     },
     "execution_count": 17,
     "metadata": {},
     "output_type": "execute_result"
    }
   ],
   "source": [
    "type(policy_model)"
   ]
  },
  {
   "cell_type": "code",
   "execution_count": 18,
   "metadata": {},
   "outputs": [],
   "source": [
    "policy_params = policy_model.init(key)"
   ]
  },
  {
   "cell_type": "code",
   "execution_count": null,
   "metadata": {},
   "outputs": [],
   "source": [
    "def params_tree_to_vec(params):\n",
    "    \n",
    "    numelements = jax.tree_map(lambda x:x.size ,params)\n",
    "    numel_leafs,treedef = jax.tree_flatten(numelements)\n",
    "    ending_indicies = np.cumsum(numel_leafs)\n",
    "    ending_indicies_tree = jax.tree_unflatten(treedef,ending_indicies)\n",
    "    \n",
    "    shapes_tree = jax.tree_map(lambda x:x.shape ,params)\n",
    "    \n",
    "    flat_shaped_tree = jax.tree_map(lambda x:x.reshape(-1) ,policy_params)\n",
    "    flat_shaped_leafs,treedef = jax.tree_flatten(flat_shaped_tree)\n",
    "    \n",
    "    vec = jnp.concatenate(flat_shaped_leafs)\n",
    "    \n",
    "    return vec,shapes_tree,ending_indicies_tree\n",
    "    \n",
    "def vec_to_params_tree(vec,shapes,indicies):\n",
    "    return jax.tree_multimap(lambda i,shape:vec[i-np.prod(shape):i].reshape(shape),indicies,shapes)"
   ]
  },
  {
   "cell_type": "code",
   "execution_count": null,
   "metadata": {},
   "outputs": [],
   "source": []
  },
  {
   "cell_type": "code",
   "execution_count": null,
   "metadata": {},
   "outputs": [],
   "source": [
    "evaluation_task_fn = task.eval\n",
    "\n",
    "prun_es_eval = jax.pmap(evaluation_task_fn, in_axes=(0, 0, None))\n",
    "eval_scores, obs, state, done, bd,reward_trajectory = prun_es_eval(training_state.state,\n",
    "                                                                   pparams_device,\n",
    "                                                                   key)"
   ]
  },
  {
   "cell_type": "code",
   "execution_count": 220,
   "metadata": {},
   "outputs": [],
   "source": [
    "pparams = task.get_random_parameters(100,key)"
   ]
  },
  {
   "cell_type": "code",
   "execution_count": 224,
   "metadata": {},
   "outputs": [],
   "source": [
    "vmap_eval = jax.vmap(task.eval)"
   ]
  },
  {
   "cell_type": "code",
   "execution_count": 227,
   "metadata": {},
   "outputs": [],
   "source": [
    "#results = vmap_eval(first_state,pparams,key,in_axes=(0, 0, None))"
   ]
  },
  {
   "cell_type": "code",
   "execution_count": null,
   "metadata": {},
   "outputs": [],
   "source": []
  },
  {
   "cell_type": "code",
   "execution_count": 93,
   "metadata": {},
   "outputs": [
    {
     "data": {
      "text/plain": [
       "<CompiledFunction of <bound method AutoResetWrapper.reset of <brax.envs.wrappers.AutoResetWrapper object at 0x7f9c7c169fd0>>>"
      ]
     },
     "execution_count": 93,
     "metadata": {},
     "output_type": "execute_result"
    }
   ],
   "source": [
    "task.reset_fn"
   ]
  },
  {
   "cell_type": "code",
   "execution_count": 127,
   "metadata": {},
   "outputs": [],
   "source": [
    "# flatten, unflatten\n",
    "#leafs,treedef = jax.tree_flatten(policy_params)\n",
    "def create_a(tt):\n",
    "    def a():\n",
    "        num_vars = len(jax.tree_leaves(policy_params))\n",
    "        treedef = jax.tree_structure(policy_params)\n",
    "        all_keys = jax.random.split(key, num=num_vars)\n",
    "        key_tree = jax.tree_unflatten(treedef, all_keys)\n",
    "        results = []\n",
    "        for i in range(tt):\n",
    "             results.append(jax.tree_multimap(lambda k,x: jax.random.normal(k, shape=x.shape, dtype=x.dtype),key_tree,policy_params))\n",
    "        # construct population\n",
    "        #noise = jax.tree_map(lambda x: jax.random.normal(k, shape=x.shape, dtype=x.dtype))\n",
    "\n",
    "        return results\n",
    "    return jax.jit(a)\n",
    "    \n",
    "#leafs\n"
   ]
  },
  {
   "cell_type": "code",
   "execution_count": null,
   "metadata": {},
   "outputs": [],
   "source": []
  },
  {
   "cell_type": "code",
   "execution_count": 146,
   "metadata": {},
   "outputs": [
    {
     "data": {
      "text/plain": [
       "[64, 5568, 64, 4096, 16, 1024]"
      ]
     },
     "execution_count": 146,
     "metadata": {},
     "output_type": "execute_result"
    }
   ],
   "source": [
    "numel_leafs,_ = jax.tree_flatten(numels)\n",
    "indicies = np.cumsum(numel_leafs)\n",
    "indicies\n",
    "#jnp.cumsum(numel_leafs)"
   ]
  },
  {
   "cell_type": "code",
   "execution_count": 186,
   "metadata": {},
   "outputs": [],
   "source": [
    "\n",
    "# we start with a single theta\n",
    "policy_vec,shapes,indicies = params_tree_to_vec(policy_params)\n",
    "\n",
    "noise = jax.random.normal(key,shape=[100,policy_vec.size])\n",
    "mutated_params = policy_vec + noise * 0.02\n",
    "\n",
    "# then we evaluate mutated params\n",
    "\n",
    "\n",
    "# than we calculate the weights\n",
    "weights = jax.random.normal(key,shape=[100,])\n",
    "\n",
    "updated_params = \n",
    "\n"
   ]
  },
  {
   "cell_type": "code",
   "execution_count": null,
   "metadata": {},
   "outputs": [],
   "source": []
  },
  {
   "cell_type": "code",
   "execution_count": 179,
   "metadata": {},
   "outputs": [],
   "source": [
    "def params_tree_to_vec(params):\n",
    "    \n",
    "    numelements = jax.tree_map(lambda x:x.size ,params)\n",
    "    numel_leafs,treedef = jax.tree_flatten(numelements)\n",
    "    ending_indicies = np.cumsum(numel_leafs)\n",
    "    ending_indicies_tree = jax.tree_unflatten(treedef,ending_indicies)\n",
    "    \n",
    "    shapes_tree = jax.tree_map(lambda x:x.shape ,params)\n",
    "    \n",
    "    flat_shaped_tree = jax.tree_map(lambda x:x.reshape(-1) ,policy_params)\n",
    "    flat_shaped_leafs,treedef = jax.tree_flatten(flat_shaped_tree)\n",
    "    \n",
    "    vec = jnp.concatenate(flat_shaped_leafs)\n",
    "    \n",
    "    return vec,shapes_tree,ending_indicies_tree\n",
    "    \n",
    "def vec_to_params_tree(vec,shapes,indicies):\n",
    "    return jax.tree_multimap(lambda i,shape:vec[i-np.prod(shape):i].reshape(shape),indicies,shapes)\n",
    "    \n",
    "    "
   ]
  },
  {
   "cell_type": "code",
   "execution_count": 207,
   "metadata": {},
   "outputs": [],
   "source": [
    "batch_vec_to_params = jax.vmap(vec_to_params_tree,in_axes=[0, None,None])\n",
    "policy_trees = batch_vec_to_params(mutated_params,shapes,indicies)"
   ]
  },
  {
   "cell_type": "code",
   "execution_count": null,
   "metadata": {},
   "outputs": [],
   "source": []
  },
  {
   "cell_type": "code",
   "execution_count": null,
   "metadata": {},
   "outputs": [],
   "source": []
  },
  {
   "cell_type": "code",
   "execution_count": null,
   "metadata": {},
   "outputs": [],
   "source": []
  },
  {
   "cell_type": "code",
   "execution_count": 180,
   "metadata": {},
   "outputs": [
    {
     "data": {
      "text/plain": [
       "DeviceArray([ 0.        ,  0.        ,  0.        , ...,  0.20398107,\n",
       "             -0.20045444, -0.00977703], dtype=float32)"
      ]
     },
     "execution_count": 180,
     "metadata": {},
     "output_type": "execute_result"
    }
   ],
   "source": [
    "vec,shapes,indicies = params_tree_to_vec(policy_params)\n",
    "vec"
   ]
  },
  {
   "cell_type": "code",
   "execution_count": 181,
   "metadata": {},
   "outputs": [
    {
     "data": {
      "text/plain": [
       "FrozenDict({\n",
       "    params: {\n",
       "        hidden_0: {\n",
       "            bias: DeviceArray([0., 0., 0., 0., 0., 0., 0., 0., 0., 0., 0., 0., 0., 0., 0.,\n",
       "                         0., 0., 0., 0., 0., 0., 0., 0., 0., 0., 0., 0., 0., 0., 0.,\n",
       "                         0., 0., 0., 0., 0., 0., 0., 0., 0., 0., 0., 0., 0., 0., 0.,\n",
       "                         0., 0., 0., 0., 0., 0., 0., 0., 0., 0., 0., 0., 0., 0., 0.,\n",
       "                         0., 0., 0., 0.], dtype=float32),\n",
       "            kernel: DeviceArray([[ 0.06186872, -0.09058239,  0.14539498, ..., -0.13792196,\n",
       "                          -0.10169195,  0.02787265],\n",
       "                         [-0.04083425, -0.06141775,  0.04246718, ..., -0.16937312,\n",
       "                           0.02928372, -0.08244027],\n",
       "                         [ 0.08485675, -0.05951697,  0.16626488, ..., -0.13909711,\n",
       "                           0.15142804, -0.01380209],\n",
       "                         ...,\n",
       "                         [-0.01254437, -0.08890191,  0.02675493, ...,  0.07982638,\n",
       "                          -0.06672598,  0.08014732],\n",
       "                         [ 0.07237192, -0.03387853,  0.11414871, ...,  0.07441101,\n",
       "                          -0.06219068,  0.04540798],\n",
       "                         [-0.17531773,  0.14242597, -0.03727367, ...,  0.14359346,\n",
       "                          -0.00969845,  0.01108407]], dtype=float32),\n",
       "        },\n",
       "        hidden_1: {\n",
       "            bias: DeviceArray([0., 0., 0., 0., 0., 0., 0., 0., 0., 0., 0., 0., 0., 0., 0.,\n",
       "                         0., 0., 0., 0., 0., 0., 0., 0., 0., 0., 0., 0., 0., 0., 0.,\n",
       "                         0., 0., 0., 0., 0., 0., 0., 0., 0., 0., 0., 0., 0., 0., 0.,\n",
       "                         0., 0., 0., 0., 0., 0., 0., 0., 0., 0., 0., 0., 0., 0., 0.,\n",
       "                         0., 0., 0., 0.], dtype=float32),\n",
       "            kernel: DeviceArray([[-0.20716473,  0.15443914,  0.13788229, ..., -0.02778286,\n",
       "                          -0.04669937,  0.08733632],\n",
       "                         [-0.04878912,  0.09296782,  0.07660992, ...,  0.16695379,\n",
       "                          -0.01529021, -0.06921935],\n",
       "                         [ 0.18284933,  0.18624453, -0.21368375, ...,  0.20891286,\n",
       "                          -0.21568018, -0.01916102],\n",
       "                         ...,\n",
       "                         [ 0.15746562, -0.15285386, -0.08267176, ...,  0.05641992,\n",
       "                           0.10859334, -0.14030613],\n",
       "                         [ 0.07263927,  0.05444926,  0.08551835, ..., -0.1450155 ,\n",
       "                          -0.02603019,  0.09759945],\n",
       "                         [-0.02979663,  0.06062631,  0.12097579, ..., -0.04185946,\n",
       "                          -0.00843606, -0.05409623]], dtype=float32),\n",
       "        },\n",
       "        hidden_2: {\n",
       "            bias: DeviceArray([0., 0., 0., 0., 0., 0., 0., 0., 0., 0., 0., 0., 0., 0., 0.,\n",
       "                         0.], dtype=float32),\n",
       "            kernel: DeviceArray([[ 0.09120853, -0.02061498, -0.01520514, ...,  0.11394749,\n",
       "                           0.13680857,  0.02528372],\n",
       "                         [-0.14916867, -0.20049389,  0.10464639, ..., -0.00999037,\n",
       "                          -0.1826635 , -0.01650589],\n",
       "                         [-0.21265437, -0.06256089,  0.05842786, ..., -0.08350866,\n",
       "                          -0.11864096, -0.12597083],\n",
       "                         ...,\n",
       "                         [ 0.0213663 , -0.20012006, -0.1747698 , ..., -0.15331647,\n",
       "                           0.20589562,  0.1715739 ],\n",
       "                         [ 0.00339473, -0.1783754 , -0.00333233, ...,  0.15809414,\n",
       "                          -0.10019744, -0.10658402],\n",
       "                         [-0.16185386, -0.05699119, -0.0942647 , ...,  0.20398107,\n",
       "                          -0.20045444, -0.00977703]], dtype=float32),\n",
       "        },\n",
       "    },\n",
       "})"
      ]
     },
     "execution_count": 181,
     "metadata": {},
     "output_type": "execute_result"
    }
   ],
   "source": [
    "reconstructed_params = vec_to_params_tree(vec,shapes,indicies)\n",
    "reconstructed_params"
   ]
  },
  {
   "cell_type": "code",
   "execution_count": null,
   "metadata": {},
   "outputs": [],
   "source": []
  },
  {
   "cell_type": "code",
   "execution_count": 157,
   "metadata": {},
   "outputs": [],
   "source": [
    "#def params_tree_to_1d_array(params):\n",
    "\n",
    "numelements = jax.tree_map(lambda x:x.size ,policy_params)\n",
    "numel_leafs,treedef = jax.tree_flatten(numelements)\n",
    "ending_indicies = np.cumsum(numel_leafs)\n",
    "\n",
    "flat_shaped_tree = jax.tree_map(lambda x:x.reshape(-1) ,policy_params)\n",
    "flat_shaped_leafs,treedef = jax.tree_flatten(flat_shaped_tree)\n",
    "\n",
    "#reconstructed_tree = jax.tree_unflatten(treedef,)\n",
    "\n",
    "\n",
    "#    leafs,treedef = jax.tree_flatten(params)\n",
    "    \n",
    "#    1d_array = jnp.stack(leafs)\n",
    "    \n",
    "    \n",
    "#    return flat_vec,treedef\n",
    "\n",
    "\n",
    "    "
   ]
  },
  {
   "cell_type": "code",
   "execution_count": 163,
   "metadata": {},
   "outputs": [
    {
     "data": {
      "text/plain": [
       "FrozenDict({\n",
       "    params: {\n",
       "        hidden_0: {\n",
       "            bias: 64,\n",
       "            kernel: 5632,\n",
       "        },\n",
       "        hidden_1: {\n",
       "            bias: 5696,\n",
       "            kernel: 9792,\n",
       "        },\n",
       "        hidden_2: {\n",
       "            bias: 9808,\n",
       "            kernel: 10832,\n",
       "        },\n",
       "    },\n",
       "})"
      ]
     },
     "execution_count": 163,
     "metadata": {},
     "output_type": "execute_result"
    }
   ],
   "source": [
    "ending_indicies_tree = jax.tree_unflatten(treedef,ending_indicies)\n",
    "ending_indicies_tree"
   ]
  },
  {
   "cell_type": "code",
   "execution_count": 129,
   "metadata": {},
   "outputs": [
    {
     "data": {
      "text/plain": [
       "[DeviceArray([0., 0., 0., 0., 0., 0., 0., 0., 0., 0., 0., 0., 0., 0., 0.,\n",
       "              0., 0., 0., 0., 0., 0., 0., 0., 0., 0., 0., 0., 0., 0., 0.,\n",
       "              0., 0., 0., 0., 0., 0., 0., 0., 0., 0., 0., 0., 0., 0., 0.,\n",
       "              0., 0., 0., 0., 0., 0., 0., 0., 0., 0., 0., 0., 0., 0., 0.,\n",
       "              0., 0., 0., 0.], dtype=float32),\n",
       " DeviceArray([[ 0.06186872, -0.09058239,  0.14539498, ..., -0.13792196,\n",
       "               -0.10169195,  0.02787265],\n",
       "              [-0.04083425, -0.06141775,  0.04246718, ..., -0.16937312,\n",
       "                0.02928372, -0.08244027],\n",
       "              [ 0.08485675, -0.05951697,  0.16626488, ..., -0.13909711,\n",
       "                0.15142804, -0.01380209],\n",
       "              ...,\n",
       "              [-0.01254437, -0.08890191,  0.02675493, ...,  0.07982638,\n",
       "               -0.06672598,  0.08014732],\n",
       "              [ 0.07237192, -0.03387853,  0.11414871, ...,  0.07441101,\n",
       "               -0.06219068,  0.04540798],\n",
       "              [-0.17531773,  0.14242597, -0.03727367, ...,  0.14359346,\n",
       "               -0.00969845,  0.01108407]], dtype=float32),\n",
       " DeviceArray([0., 0., 0., 0., 0., 0., 0., 0., 0., 0., 0., 0., 0., 0., 0.,\n",
       "              0., 0., 0., 0., 0., 0., 0., 0., 0., 0., 0., 0., 0., 0., 0.,\n",
       "              0., 0., 0., 0., 0., 0., 0., 0., 0., 0., 0., 0., 0., 0., 0.,\n",
       "              0., 0., 0., 0., 0., 0., 0., 0., 0., 0., 0., 0., 0., 0., 0.,\n",
       "              0., 0., 0., 0.], dtype=float32),\n",
       " DeviceArray([[-0.20716473,  0.15443914,  0.13788229, ..., -0.02778286,\n",
       "               -0.04669937,  0.08733632],\n",
       "              [-0.04878912,  0.09296782,  0.07660992, ...,  0.16695379,\n",
       "               -0.01529021, -0.06921935],\n",
       "              [ 0.18284933,  0.18624453, -0.21368375, ...,  0.20891286,\n",
       "               -0.21568018, -0.01916102],\n",
       "              ...,\n",
       "              [ 0.15746562, -0.15285386, -0.08267176, ...,  0.05641992,\n",
       "                0.10859334, -0.14030613],\n",
       "              [ 0.07263927,  0.05444926,  0.08551835, ..., -0.1450155 ,\n",
       "               -0.02603019,  0.09759945],\n",
       "              [-0.02979663,  0.06062631,  0.12097579, ..., -0.04185946,\n",
       "               -0.00843606, -0.05409623]], dtype=float32),\n",
       " DeviceArray([0., 0., 0., 0., 0., 0., 0., 0., 0., 0., 0., 0., 0., 0., 0.,\n",
       "              0.], dtype=float32),\n",
       " DeviceArray([[ 0.09120853, -0.02061498, -0.01520514, ...,  0.11394749,\n",
       "                0.13680857,  0.02528372],\n",
       "              [-0.14916867, -0.20049389,  0.10464639, ..., -0.00999037,\n",
       "               -0.1826635 , -0.01650589],\n",
       "              [-0.21265437, -0.06256089,  0.05842786, ..., -0.08350866,\n",
       "               -0.11864096, -0.12597083],\n",
       "              ...,\n",
       "              [ 0.0213663 , -0.20012006, -0.1747698 , ..., -0.15331647,\n",
       "                0.20589562,  0.1715739 ],\n",
       "              [ 0.00339473, -0.1783754 , -0.00333233, ...,  0.15809414,\n",
       "               -0.10019744, -0.10658402],\n",
       "              [-0.16185386, -0.05699119, -0.0942647 , ...,  0.20398107,\n",
       "               -0.20045444, -0.00977703]], dtype=float32)]"
      ]
     },
     "execution_count": 129,
     "metadata": {},
     "output_type": "execute_result"
    }
   ],
   "source": [
    "leafs,treedef = jax.tree_flatten(policy_params)\n",
    "leafs"
   ]
  },
  {
   "cell_type": "code",
   "execution_count": null,
   "metadata": {},
   "outputs": [],
   "source": [
    "jax.tree_multimap(lambda g, n: g + n * mutation_power, pparams, noise)"
   ]
  },
  {
   "cell_type": "code",
   "execution_count": 103,
   "metadata": {},
   "outputs": [],
   "source": [
    "policy_params = policy_model.init(key)\n",
    "theta = policy_params\n"
   ]
  },
  {
   "cell_type": "code",
   "execution_count": null,
   "metadata": {},
   "outputs": [],
   "source": [
    "noise = jax.tree_multimap(\n",
    "        lambda g, k: jax.random.normal(k, shape=g.shape, dtype=g.dtype), theta,\n",
    "        jax.tree_unflatten(treedef, all_keys))"
   ]
  },
  {
   "cell_type": "code",
   "execution_count": null,
   "metadata": {},
   "outputs": [],
   "source": [
    "\n",
    "\n",
    " _eval_and_add,\n",
    "    local_devices_to_use,\n",
    "    task.eval,\n",
    "    population_size,\n",
    "    task.get_bd,\n",
    "    jax.jit(repertoire.add_to_archive),\n",
    "    \n",
    "def _eval_and_add(local_devices_to_use,\n",
    "                  evaluation_task_fn = task.eval,\n",
    "                  population_size,\n",
    "                  get_bd_fn=task.get_bd,\n",
    "                  add_to_archive_fn,\n",
    "                  training_state: TrainingState,\n",
    "                  pparams,\n",
    "                  key):\n",
    "    "
   ]
  },
  {
   "cell_type": "code",
   "execution_count": 58,
   "metadata": {},
   "outputs": [
    {
     "data": {
      "text/plain": [
       "functools.partial(<function BraxTask._eval at 0x7fa0009d9430>, FeedForwardModel(init=<function make_model.<locals>.<lambda> at 0x7f9fe3a47b80>, apply=<bound method Module.apply of MLP(\n",
       "    # attributes\n",
       "    layer_sizes = [64, 64, 16]\n",
       "    activation = silu\n",
       "    kernel_init = init\n",
       "    activate_final = False\n",
       "    bias = True\n",
       ")>), <CompiledFunction of <bound method AutoResetWrapper.reset of <brax.envs.wrappers.AutoResetWrapper object at 0x7f9fe4a863d0>>>, <CompiledFunction of <bound method AutoResetWrapper.step of <brax.envs.wrappers.AutoResetWrapper object at 0x7f9fe4a863d0>>>, 1000, 1)"
      ]
     },
     "execution_count": 58,
     "metadata": {},
     "output_type": "execute_result"
    }
   ],
   "source": [
    "# task.eval needs 3 parameters: state, params,key\n",
    "task.eval"
   ]
  },
  {
   "cell_type": "code",
   "execution_count": 9,
   "metadata": {},
   "outputs": [],
   "source": [
    "#results = task.eval(first_state,policy_params,key)"
   ]
  },
  {
   "cell_type": "code",
   "execution_count": null,
   "metadata": {},
   "outputs": [],
   "source": []
  },
  {
   "cell_type": "code",
   "execution_count": null,
   "metadata": {},
   "outputs": [],
   "source": []
  },
  {
   "cell_type": "code",
   "execution_count": null,
   "metadata": {},
   "outputs": [],
   "source": []
  },
  {
   "cell_type": "code",
   "execution_count": null,
   "metadata": {},
   "outputs": [],
   "source": []
  },
  {
   "cell_type": "code",
   "execution_count": 54,
   "metadata": {},
   "outputs": [],
   "source": [
    "key = jax.random.PRNGKey(seed=6)\n",
    "noise = jax.random.normal(key, shape=(10000,100000))\n",
    "weights = jax.random.normal(key, shape=(10000,))"
   ]
  },
  {
   "cell_type": "code",
   "execution_count": 55,
   "metadata": {},
   "outputs": [
    {
     "name": "stdout",
     "output_type": "stream",
     "text": [
      "CPU times: user 4.73 ms, sys: 4.74 ms, total: 9.47 ms\n",
      "Wall time: 7.82 ms\n"
     ]
    }
   ],
   "source": [
    "%%time\n",
    "results = jnp.matmul(weights,noise).block_until_ready()"
   ]
  },
  {
   "cell_type": "code",
   "execution_count": 56,
   "metadata": {},
   "outputs": [
    {
     "name": "stdout",
     "output_type": "stream",
     "text": [
      "CPU times: user 1.57 s, sys: 2.53 s, total: 4.11 s\n",
      "Wall time: 4.1 s\n"
     ]
    }
   ],
   "source": [
    "%%time\n",
    "np_noise = np.array(noise)\n",
    "np_weights = np.array(weights)"
   ]
  },
  {
   "cell_type": "code",
   "execution_count": 57,
   "metadata": {},
   "outputs": [
    {
     "name": "stdout",
     "output_type": "stream",
     "text": [
      "CPU times: user 5.28 s, sys: 597 ms, total: 5.88 s\n",
      "Wall time: 96.3 ms\n"
     ]
    }
   ],
   "source": [
    "%%time\n",
    "results = np.matmul(np_weights,np_noise)"
   ]
  },
  {
   "cell_type": "code",
   "execution_count": 52,
   "metadata": {},
   "outputs": [],
   "source": [
    "noise = jax.random.normal(key, shape=(100,100000))"
   ]
  },
  {
   "cell_type": "code",
   "execution_count": 53,
   "metadata": {},
   "outputs": [
    {
     "name": "stdout",
     "output_type": "stream",
     "text": [
      "CPU times: user 26 ms, sys: 25.7 ms, total: 51.7 ms\n",
      "Wall time: 50 ms\n"
     ]
    }
   ],
   "source": [
    "%%time\n",
    "np_noise = np.array(noise)"
   ]
  },
  {
   "cell_type": "code",
   "execution_count": null,
   "metadata": {},
   "outputs": [],
   "source": []
  },
  {
   "cell_type": "code",
   "execution_count": null,
   "metadata": {},
   "outputs": [],
   "source": [
    "# I dont want to do everything on JAX\n",
    "# I want to have a jax function which takes a parent parameter, and applies mutations, returns noise and mutated parameters\n",
    "# I want a function which takes 1 step in the env, which will return the state, weather each env is done, the reward, the obs, and the bd\n",
    "# Then i want to have a function which takek all the trajectory and caluclates"
   ]
  },
  {
   "cell_type": "code",
   "execution_count": null,
   "metadata": {},
   "outputs": [],
   "source": [
    "# The for loop for the episode is a normal python loop.\n"
   ]
  },
  {
   "cell_type": "code",
   "execution_count": 1,
   "metadata": {},
   "outputs": [
    {
     "name": "stdout",
     "output_type": "stream",
     "text": [
      "env: CUDA_VISIBLE_DEVICES=0\n"
     ]
    }
   ],
   "source": [
    "%env CUDA_VISIBLE_DEVICES=0\n",
    "\n",
    "import functools\n",
    "import time\n",
    "\n",
    "from IPython.display import HTML, Image \n",
    "import gym\n",
    "\n",
    "import brax\n",
    "\n",
    "from brax import envs\n",
    "from brax import jumpy as jp\n",
    "from brax.envs import to_torch\n",
    "from brax.io import html\n",
    "from brax.io import image\n",
    "import jax\n",
    "from jax import numpy as jnp\n",
    "import torch\n",
    "v = torch.ones(1, device='cuda')  # init torch cuda before jax"
   ]
  },
  {
   "cell_type": "code",
   "execution_count": 65,
   "metadata": {},
   "outputs": [],
   "source": [
    "from es_map import qdax_task"
   ]
  },
  {
   "cell_type": "code",
   "execution_count": 140,
   "metadata": {},
   "outputs": [],
   "source": [
    "entry_point = functools.partial(envs.create_gym_env, env_name='ant')\n",
    "#entry_point = functools.partial(qdax_task.BraxTask.generate_env,env_name='ant')\n",
    "if 'brax-ant-v0' not in gym.envs.registry.env_specs:\n",
    "    gym.register('brax-ant-v0', entry_point=entry_point)\n",
    "\n",
    "gym_env = gym.make(\"brax-ant-v0\", batch_size=4096)\n",
    "\n",
    "# wrap it to interoperate with torch data structures\n",
    "#gym_env = to_torch.JaxToTorchWrapper(gym_env, device='cuda')\n",
    "\n",
    "# jit compile env.reset\n",
    "obs = gym_env.reset()\n",
    "\n",
    "# jit compile env.step\n",
    "#action = torch.rand(gym_env.action_space.shape, device='cuda') * 2 - 1\n",
    "#obs, reward, done, info = gym_env.step(action)"
   ]
  },
  {
   "cell_type": "code",
   "execution_count": 143,
   "metadata": {},
   "outputs": [
    {
     "data": {
      "text/plain": [
       "(4096,)"
      ]
     },
     "execution_count": 143,
     "metadata": {},
     "output_type": "execute_result"
    }
   ],
   "source": [
    "gym_env._state.done.shape"
   ]
  },
  {
   "cell_type": "code",
   "execution_count": 152,
   "metadata": {},
   "outputs": [
    {
     "data": {
      "text/plain": [
       "4096"
      ]
     },
     "execution_count": 152,
     "metadata": {},
     "output_type": "execute_result"
    }
   ],
   "source": [
    "gym_env._env.batch_size"
   ]
  },
  {
   "cell_type": "code",
   "execution_count": null,
   "metadata": {},
   "outputs": [],
   "source": []
  },
  {
   "cell_type": "code",
   "execution_count": null,
   "metadata": {},
   "outputs": [],
   "source": []
  },
  {
   "cell_type": "code",
   "execution_count": 163,
   "metadata": {},
   "outputs": [],
   "source": [
    "def get_foot_contact(env,state):\n",
    "    sys_info = env.sys.info(state.qp)\n",
    "    contact = jp.sum(jp.square(jp.clip(sys_info.contact.vel, -1, 1)), axis=1) != 0\n",
    "    foot_contacts = contacts[2:-1:2] # BD is only for the contact of the foot and the floor\n",
    "    return foot_contacts\n",
    "\n",
    "b_get_foot_contact = jax.vmap(get_foot_contact,in_axes=[None, 0])\n",
    "#res = b_get_foot_contact(gym_env._env,gym_env._state)"
   ]
  },
  {
   "cell_type": "code",
   "execution_count": null,
   "metadata": {},
   "outputs": [],
   "source": []
  },
  {
   "cell_type": "code",
   "execution_count": 8,
   "metadata": {},
   "outputs": [],
   "source": [
    "#batch_info = jp.vmap(gym_env._env.sys.info)\n",
    "#infos = batch_info(gym_env._state.qp)"
   ]
  },
  {
   "cell_type": "code",
   "execution_count": null,
   "metadata": {},
   "outputs": [],
   "source": [
    "infos"
   ]
  },
  {
   "cell_type": "code",
   "execution_count": null,
   "metadata": {},
   "outputs": [],
   "source": []
  },
  {
   "cell_type": "code",
   "execution_count": null,
   "metadata": {},
   "outputs": [],
   "source": []
  },
  {
   "cell_type": "code",
   "execution_count": 97,
   "metadata": {},
   "outputs": [],
   "source": [
    "environment = \"ant\"  # @param ['ant', 'halfcheetah', 'hopper', 'humanoid', 'reacher', 'walker2d', 'fetch', 'grasp', 'ur5e']\n",
    "env = envs.create(env_name=environment)\n",
    "state = env.reset(rng=jp.random_prngkey(seed=0))"
   ]
  },
  {
   "cell_type": "code",
   "execution_count": 117,
   "metadata": {},
   "outputs": [],
   "source": [
    "action = jp.ones((env.action_size,))\n",
    "state = env.step(state,action)"
   ]
  },
  {
   "cell_type": "code",
   "execution_count": 114,
   "metadata": {},
   "outputs": [],
   "source": [
    "# get obs\n",
    "sys_info = env.sys.info(state.qp)\n",
    "env.unwrapped._get_obs(state.qp,sys_info)\n",
    "\n",
    "# get bd\n",
    "contact = jp.sum(jp.square(jp.clip(sys_info.contact.vel, -1, 1)), axis=1) != 0\n",
    "foot_contacts = contacts[2:-1:2] # BD is only for the contact of the foot and the floor\n"
   ]
  },
  {
   "cell_type": "code",
   "execution_count": 123,
   "metadata": {},
   "outputs": [],
   "source": [
    "def my_reset(env,key):\n",
    "    state = env.reset(rng=jp.random_prngkey(seed=0))\n",
    "    \n",
    "    # get bd\n",
    "    sys_info = env.sys.info(state.qp)\n",
    "    contact = jp.sum(jp.square(jp.clip(sys_info.contact.vel, -1, 1)), axis=1) != 0\n",
    "    foot_contacts = contacts[2:-1:2] # BD is only for the contact of the foot and the floor\n",
    "    \n",
    "    return state,foot_contacts\n",
    "\n",
    "def my_step(env,state,action):\n",
    "    state = env.step(state,action)\n",
    "    \n",
    "    # get bd\n",
    "    sys_info = env.sys.info(state.qp)\n",
    "    contact = jp.sum(jp.square(jp.clip(sys_info.contact.vel, -1, 1)), axis=1) != 0\n",
    "    foot_contacts = contacts[2:-1:2] # BD is only for the contact of the foot and the floor\n",
    "    \n",
    "    return state,foot_contacts\n",
    "    "
   ]
  },
  {
   "cell_type": "code",
   "execution_count": 125,
   "metadata": {},
   "outputs": [],
   "source": [
    "key = jp.random_prngkey(seed=0)\n",
    "keys = \n",
    "state,foot_contacts = my_reset(env,key)\n",
    "action = jp.ones((env.action_size,))\n",
    "state,foot_contacts = my_step(env,state,action)"
   ]
  },
  {
   "cell_type": "code",
   "execution_count": 132,
   "metadata": {},
   "outputs": [],
   "source": [
    "batched_jitted_reset = jax.vmap(jax.jit(my_reset),in_axes=[None, 0])\n",
    "batched_jitted_step = jax.vmap(jax.jit(my_step),in_axes=[None, 0,0])\n",
    "\n",
    "batched_reset = jax.vmap(my_reset,in_axes=[None, 0])\n",
    "batched_step = jax.vmap(my_step,in_axes=[None, 0,0])"
   ]
  },
  {
   "cell_type": "code",
   "execution_count": 7,
   "metadata": {},
   "outputs": [],
   "source": [
    "#keys = jax.random.split(key, num=10)\n",
    "#states,foot_contacts = batched_reset(env,keys)\n",
    "#actions = jp.ones((10,env.action_size))\n",
    "#states,foot_contacts = batched_step(env,states,actions)"
   ]
  },
  {
   "cell_type": "code",
   "execution_count": null,
   "metadata": {},
   "outputs": [],
   "source": []
  },
  {
   "cell_type": "code",
   "execution_count": null,
   "metadata": {},
   "outputs": [],
   "source": []
  },
  {
   "cell_type": "code",
   "execution_count": 121,
   "metadata": {},
   "outputs": [
    {
     "data": {
      "text/plain": [
       "(87,)"
      ]
     },
     "execution_count": 121,
     "metadata": {},
     "output_type": "execute_result"
    }
   ],
   "source": [
    "state.obs.shape"
   ]
  },
  {
   "cell_type": "code",
   "execution_count": 46,
   "metadata": {},
   "outputs": [],
   "source": [
    "def ant_get_foot_contacts(sys_info):\n",
    "    contact = jp.sum(jp.square(jp.clip(sys_info.contact.vel, -1, 1)), axis=1) != 0\n",
    "    foot_contacts = contacts[2:-1:2] # BD is only for the contact of the foot and the floor\n",
    "    return foot_contacts\n",
    "\n",
    "def qd_reset(env_reset_fn,key):\n",
    "    state = env_reset_fn(key)\n",
    "    foot_contacts = ant_get_foot_contacts()\n",
    "\n",
    "def qd_step(env_step_fn):\n",
    "    pass\n",
    "    "
   ]
  },
  {
   "cell_type": "code",
   "execution_count": 48,
   "metadata": {},
   "outputs": [],
   "source": [
    "contacts = get_contacts(sys_info)\n",
    "foot_contacts = contacts[2:-1:2] # BD is only for the contact of the foot and the floor"
   ]
  },
  {
   "cell_type": "code",
   "execution_count": 49,
   "metadata": {},
   "outputs": [
    {
     "data": {
      "text/plain": [
       "array([False, False,  True, False])"
      ]
     },
     "execution_count": 49,
     "metadata": {},
     "output_type": "execute_result"
    }
   ],
   "source": [
    "foot_contacts"
   ]
  },
  {
   "cell_type": "code",
   "execution_count": 54,
   "metadata": {},
   "outputs": [
    {
     "data": {
      "text/plain": [
       "<brax.envs.wrappers.AutoResetWrapper at 0x7f0a838cc3a0>"
      ]
     },
     "execution_count": 54,
     "metadata": {},
     "output_type": "execute_result"
    }
   ],
   "source": [
    "env"
   ]
  },
  {
   "cell_type": "code",
   "execution_count": null,
   "metadata": {},
   "outputs": [],
   "source": []
  }
 ],
 "metadata": {
  "kernelspec": {
   "display_name": "Python 3",
   "language": "python",
   "name": "python3"
  },
  "language_info": {
   "codemirror_mode": {
    "name": "ipython",
    "version": 3
   },
   "file_extension": ".py",
   "mimetype": "text/x-python",
   "name": "python",
   "nbconvert_exporter": "python",
   "pygments_lexer": "ipython3",
   "version": "3.8.10"
  }
 },
 "nbformat": 4,
 "nbformat_minor": 4
}
