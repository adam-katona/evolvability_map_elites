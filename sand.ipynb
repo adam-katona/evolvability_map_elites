{
 "cells": [
  {
   "cell_type": "code",
   "execution_count": 37,
   "metadata": {},
   "outputs": [],
   "source": [
    "import numpy as np\n",
    "import matplotlib.pyplot as plt\n",
    "import torch"
   ]
  },
  {
   "cell_type": "code",
   "execution_count": 2,
   "metadata": {},
   "outputs": [],
   "source": [
    "import gym\n",
    "import QDgym"
   ]
  },
  {
   "cell_type": "code",
   "execution_count": 6,
   "metadata": {},
   "outputs": [
    {
     "name": "stdout",
     "output_type": "stream",
     "text": [
      "The behavioural desciptor is 2-dimentional and defined as proportion of feet contact time with the ground in the order ['ffoot', 'bfoot']\n"
     ]
    }
   ],
   "source": [
    "env = gym.make(\"QDHalfCheetahBulletEnv-v0\")\n",
    "# reset environment\n",
    "state = env.reset()\n",
    "done = False\n",
    "# eval loop\n",
    "a = []\n",
    "while not done: \n",
    "    action = env.action_space.sample()\n",
    "    state, reward, done, info = env.step(action) \n",
    "    a.append(env.desc)\n",
    "# get fitness and BD\n",
    "fitness = env.tot_reward\n",
    "behaviour_descriptor = env.desc # alternatively behaviour_descriptor = info[\"bc\"] for compatability with the code released for MAP-Elites-ES\n",
    "# close environment\n",
    "env.close()"
   ]
  },
  {
   "cell_type": "code",
   "execution_count": 5,
   "metadata": {},
   "outputs": [
    {
     "data": {
      "text/plain": [
       "array([0.236, 0.643])"
      ]
     },
     "execution_count": 5,
     "metadata": {},
     "output_type": "execute_result"
    }
   ],
   "source": [
    "behaviour_descriptor"
   ]
  },
  {
   "cell_type": "code",
   "execution_count": 8,
   "metadata": {},
   "outputs": [
    {
     "data": {
      "text/plain": [
       "[<matplotlib.lines.Line2D at 0x7f575f862640>]"
      ]
     },
     "execution_count": 8,
     "metadata": {},
     "output_type": "execute_result"
    },
    {
     "data": {
      "image/png": "[encoded data removed]",
      "text/plain": [
       "<Figure size 432x288 with 1 Axes>"
      ]
     },
     "metadata": {
      "needs_background": "light"
     },
     "output_type": "display_data"
    }
   ],
   "source": [
    "plt.plot([x[0] for x in a])"
   ]
  },
  {
   "cell_type": "code",
   "execution_count": 9,
   "metadata": {},
   "outputs": [
    {
     "data": {
      "text/plain": [
       "[<matplotlib.lines.Line2D at 0x7f576890c670>]"
      ]
     },
     "execution_count": 9,
     "metadata": {},
     "output_type": "execute_result"
    },
    {
     "data": {
      "image/png": "[encoded data removed]",
      "text/plain": [
       "<Figure size 432x288 with 1 Axes>"
      ]
     },
     "metadata": {
      "needs_background": "light"
     },
     "output_type": "display_data"
    }
   ],
   "source": [
    "plt.plot([x[1] for x in a])"
   ]
  },
  {
   "cell_type": "code",
   "execution_count": null,
   "metadata": {},
   "outputs": [],
   "source": [
    "# I am trying to write down the Evolvability Map elites algorithm\n",
    "# Let us do it in steps:\n",
    "#   1. let me write down the basic code for normal map elites\n",
    "#   2. Let me write down ES map elites\n",
    "#   3. Let me write down Evolvability map elites\n",
    "#   4. Let me write down variants of the algorithm"
   ]
  },
  {
   "cell_type": "code",
   "execution_count": null,
   "metadata": {},
   "outputs": [],
   "source": [
    "def fitness_func(x):\n",
    "    fitness = x[0]*x[1]\n",
    "    bc = np.array([x[0],x[1]])\n",
    "    return fitness,bc"
   ]
  },
  {
   "cell_type": "code",
   "execution_count": null,
   "metadata": {},
   "outputs": [],
   "source": [
    "\n",
    "# uniform grid\n",
    "map_elites_grid_description = {\n",
    "    \"bc_limits\" : [[-1,1],[-1,1]],\n",
    "    \"grid_dims\" : [20,20],\n",
    "}\n",
    "\n",
    "def behaviour_to_cell_coords(bc,map_elites_grid_description):\n",
    "    cell_coords = None # calculate which cell the behaviour is in\n",
    "    return cell_coords\n",
    "    \n",
    "def create_map_elites_grid(map_elites_grid_description):\n",
    "    return [[]] #array with the poroper size\n",
    "    \n",
    "    \n",
    "# A cell holds all kind of info\n",
    "# Most important is current elite: \n",
    "example_cell = {\n",
    "    \"fitness_elite_fitness\"\n",
    "    \"fitness_elite_params\"\n",
    "    \"innovation_elite\"\n",
    "    \"evolvability_elite\"\n",
    "    \"stats\" # how many times upgraded, fitness history ...\n",
    "}\n",
    "        \n",
    "bc_archive\n",
    "    \n",
    "    \n",
    "    "
   ]
  },
  {
   "cell_type": "code",
   "execution_count": null,
   "metadata": {},
   "outputs": [],
   "source": [
    "def update_grid(grid,fitness,bc,new_individual):\n",
    "    cell_coords = behaviour_to_cell_coords(bc)\n",
    "    cell_elite_fitness = grid[cell_coords][\"fitness_elite_fitness\"]\n",
    "    \n",
    "    if cell_elite_fitness <= fitness:\n",
    "        # replace old elite with new individual\n",
    "        grid[cell_coords][\"fitness_elite_fitness\"] = fitness\n",
    "        grid[cell_coords][\"fitness_elite_params\"] = mutated_copy"
   ]
  },
  {
   "cell_type": "code",
   "execution_count": null,
   "metadata": {},
   "outputs": [],
   "source": [
    "# First normal map elites\n",
    "\n",
    "# grid is an n-d array, where each element is a dict, containing cell data\n",
    "grid = create_map_elites_grid(map_elites_grid_description)\n",
    "# bc archive is a list of (tuple?), conatining bc of all the seen individuals (and maybe  some extra data...) \n",
    "bc_archive = []\n",
    "\n",
    "\n",
    "\n",
    "while True:\n",
    "    \n",
    "    parent_cell = select_parent_cell(grid)  # will return none if no cell available yet\n",
    "    parent = select_parent_elite(parent_cell)  # will be randomly init if parent_cell is none\n",
    "    \n",
    "    # choose ES update\n",
    "    operator = select_operator()\n",
    "    \n",
    "    # update / mutate individual\n",
    "    updated_individual_1,evo_0,innov_0 = es_update(parent)\n",
    "    updated_individual_2,evo_1,innov_1 = es_update(updated_individual_1) # TODO cache updated_individual_2, if we ever want to update updated_individual_1 in the future\n",
    "    # Also we can use updated_individual_2 now to update fitness if we want to\n",
    "    \n",
    "    # evaluate\n",
    "    fitness_1,bc_1 = evaluate(updated_individual_1)\n",
    "    \n",
    "    # update grid\n",
    "    grid = update_grid(grid,fitness_1,bc_1,updated_individual_1,evo_1,innov_1)\n",
    "    bc_archive = update_archive(bc_archive,bc_1,updated_individual_1)\n",
    "    \n",
    "    \n",
    "    \n",
    "    \n",
    "    \n",
    "    \n",
    "\n",
    "    \n",
    "    \n",
    "    \n",
    "    \n",
    "    \n",
    "\n",
    "\n",
    "\n"
   ]
  },
  {
   "cell_type": "code",
   "execution_count": null,
   "metadata": {},
   "outputs": [],
   "source": [
    "# Grid type\n",
    "# - single\n",
    "# - multi, independent\n",
    "# - multi, nd_sort\n",
    "# - multi, coop\n",
    "\n"
   ]
  },
  {
   "cell_type": "code",
   "execution_count": null,
   "metadata": {},
   "outputs": [],
   "source": [
    "# Build simple working prototype"
   ]
  },
  {
   "cell_type": "code",
   "execution_count": 12,
   "metadata": {},
   "outputs": [],
   "source": [
    "def create_map_elites_grid(map_elites_grid_description):\n",
    "    grid = np.empty(shape = map_elites_grid_description[\"grid_dims\"], dtype=object)\n",
    "    return grid\n",
    "\n",
    "def get_non_empty_cells(grid,map_elites_grid_description):\n",
    "    grid != None"
   ]
  },
  {
   "cell_type": "code",
   "execution_count": null,
   "metadata": {},
   "outputs": [],
   "source": [
    "map_elites_grid_description = {\n",
    "    \"bc_limits\" : [[-1,1],[-1,1]],\n",
    "    \"grid_dims\" : [20,20],\n",
    "}\n",
    "\n",
    "grid = create_map_elites_grid(map_elites_grid_description)\n",
    "\n",
    "for gen_i in range(3):\n",
    "    \n",
    "    parent_cell = select_parent_cell(grid)  # will return none if no cell available yet\n",
    "    parent = select_parent_elite(parent_cell)  # will be randomly init if parent_cell is none\n",
    "    \n",
    "    "
   ]
  },
  {
   "cell_type": "code",
   "execution_count": 17,
   "metadata": {},
   "outputs": [
    {
     "data": {
      "text/plain": [
       "20"
      ]
     },
     "execution_count": 17,
     "metadata": {},
     "output_type": "execute_result"
    }
   ],
   "source": [
    "map_elites_grid_description = {\n",
    "    \"bc_limits\" : [[-1,1],[-1,1]],\n",
    "    \"grid_dims\" : [20,20],\n",
    "}\n",
    "grid = create_map_elites_grid(map_elites_grid_description)\n",
    "len(grid)\n",
    "len(grid[2])"
   ]
  },
  {
   "cell_type": "code",
   "execution_count": null,
   "metadata": {},
   "outputs": [],
   "source": [
    "def create_map_elites_grid(map_elites_grid_description):\n",
    "    num_elements = np.prod(map_elites_grid_description[\"grid_dims\"])"
   ]
  },
  {
   "cell_type": "code",
   "execution_count": 18,
   "metadata": {},
   "outputs": [],
   "source": [
    "num_elements = np.prod(map_elites_grid_description[\"grid_dims\"])\n",
    "grid = np.array()"
   ]
  },
  {
   "cell_type": "code",
   "execution_count": 23,
   "metadata": {},
   "outputs": [],
   "source": [
    "grid = np.empty(shape = map_elites_grid_description[\"grid_dims\"], dtype=object)"
   ]
  },
  {
   "cell_type": "code",
   "execution_count": 27,
   "metadata": {},
   "outputs": [],
   "source": [
    "a = grid[4,7]"
   ]
  },
  {
   "cell_type": "code",
   "execution_count": 35,
   "metadata": {},
   "outputs": [],
   "source": [
    "grid[4,7] = {4: 5}\n",
    "grid[7,7] = {4: 7}"
   ]
  },
  {
   "cell_type": "code",
   "execution_count": 39,
   "metadata": {},
   "outputs": [],
   "source": [
    "non_empty_mask = grid != None\n",
    "non_empty_coords = np.where(non_empty_mask)\n",
    "non_empyt_cells = grid[non_empty_mask]"
   ]
  },
  {
   "cell_type": "code",
   "execution_count": 43,
   "metadata": {},
   "outputs": [],
   "source": [
    "a = object()"
   ]
  },
  {
   "cell_type": "code",
   "execution_count": 48,
   "metadata": {},
   "outputs": [
    {
     "data": {
      "text/plain": [
       "(array([4, 7]), array([7, 7]))"
      ]
     },
     "execution_count": 48,
     "metadata": {},
     "output_type": "execute_result"
    }
   ],
   "source": [
    "non_empty_coords"
   ]
  },
  {
   "cell_type": "code",
   "execution_count": 50,
   "metadata": {},
   "outputs": [],
   "source": [
    "import random"
   ]
  },
  {
   "cell_type": "code",
   "execution_count": 54,
   "metadata": {},
   "outputs": [],
   "source": [
    "choosen_coords = random.choice(non_empty_coords)"
   ]
  },
  {
   "cell_type": "code",
   "execution_count": 55,
   "metadata": {},
   "outputs": [
    {
     "data": {
      "text/plain": [
       "array([[None, None, None, None, None, None, None, {4: 5}, None, None,\n",
       "        None, None, None, None, None, None, None, None, None, None],\n",
       "       [None, None, None, None, None, None, None, {4: 7}, None, None,\n",
       "        None, None, None, None, None, None, None, None, None, None]],\n",
       "      dtype=object)"
      ]
     },
     "execution_count": 55,
     "metadata": {},
     "output_type": "execute_result"
    }
   ],
   "source": [
    "choosen_cell = [for coord in choosen_coords]  grid[choosen_coords]"
   ]
  },
  {
   "cell_type": "code",
   "execution_count": 56,
   "metadata": {},
   "outputs": [
    {
     "data": {
      "text/plain": [
       "array([4, 7])"
      ]
     },
     "execution_count": 56,
     "metadata": {},
     "output_type": "execute_result"
    }
   ],
   "source": [
    "choosen_coords"
   ]
  },
  {
   "cell_type": "code",
   "execution_count": 58,
   "metadata": {},
   "outputs": [
    {
     "data": {
      "text/plain": [
       "{4: 5}"
      ]
     },
     "execution_count": 58,
     "metadata": {},
     "output_type": "execute_result"
    }
   ],
   "source": [
    "grid[tuple(choosen_coords)]"
   ]
  },
  {
   "cell_type": "code",
   "execution_count": 69,
   "metadata": {},
   "outputs": [
    {
     "data": {
      "text/plain": [
       "[19, 1]"
      ]
     },
     "execution_count": 69,
     "metadata": {},
     "output_type": "execute_result"
    }
   ],
   "source": [
    "config = {\n",
    "    \"map_elites_grid_description\" : {\n",
    "    \"bc_limits\" : [[-1,1],[-1,1]],\n",
    "    \"grid_dims\" : [20,20],\n",
    "}}\n",
    "\n",
    "bc = [1,-0.89]\n",
    "\n",
    "\n",
    "coords = []\n",
    "for bc_dim,behaviour in enumerate(bc):\n",
    "\n",
    "    limits = config[\"map_elites_grid_description\"][\"bc_limits\"][bc_dim]\n",
    "    num_grids = config[\"map_elites_grid_description\"][\"grid_dims\"][bc_dim]\n",
    "\n",
    "    if behaviour <= limits[0]:\n",
    "        coord = 0\n",
    "    elif behaviour >= limits[1]:\n",
    "        coord = num_grids-1\n",
    "    else:\n",
    "        step = (limits[1]-limits[0]) / num_grids\n",
    "        coord = int((behaviour - limits[0]) / step)\n",
    "        \n",
    "    coords.append(coord)\n",
    "coords"
   ]
  },
  {
   "cell_type": "code",
   "execution_count": null,
   "metadata": {},
   "outputs": [],
   "source": []
  },
  {
   "cell_type": "code",
   "execution_count": 89,
   "metadata": {},
   "outputs": [
    {
     "data": {
      "text/plain": [
       "tensor(3.1110)"
      ]
     },
     "execution_count": 89,
     "metadata": {},
     "output_type": "execute_result"
    }
   ],
   "source": [
    "a = torch.randn(10,2)\n",
    "mean_a = torch.mean(a,dim=0)\n",
    "torch.sum((a-mean_a)**2) / 10\n"
   ]
  },
  {
   "cell_type": "code",
   "execution_count": 80,
   "metadata": {},
   "outputs": [
    {
     "data": {
      "text/plain": [
       "tensor([[ 8.4407e-01,  1.1173e-01],\n",
       "        [-5.5950e-01, -1.0724e+00],\n",
       "        [ 1.1421e+00,  1.3408e+00],\n",
       "        [-5.2538e-01, -1.6021e-03],\n",
       "        [-1.3224e+00,  2.4174e-01],\n",
       "        [ 9.6061e-01, -7.2827e-02],\n",
       "        [-5.7323e-01,  9.5675e-01],\n",
       "        [ 1.1200e-02,  5.0863e-01],\n",
       "        [ 2.6036e-01, -3.1742e-01],\n",
       "        [-2.3784e-01, -1.6954e+00]])"
      ]
     },
     "execution_count": 80,
     "metadata": {},
     "output_type": "execute_result"
    }
   ],
   "source": [
    "a - mean_a"
   ]
  },
  {
   "cell_type": "code",
   "execution_count": 79,
   "metadata": {},
   "outputs": [
    {
     "data": {
      "text/plain": [
       "tensor([[ 1.1608,  0.2259],\n",
       "        [-0.2428, -0.9582],\n",
       "        [ 1.4588,  1.4549],\n",
       "        [-0.2087,  0.1125],\n",
       "        [-1.0057,  0.3559],\n",
       "        [ 1.2773,  0.0413],\n",
       "        [-0.2565,  1.0709],\n",
       "        [ 0.3279,  0.6228],\n",
       "        [ 0.5771, -0.2033],\n",
       "        [ 0.0789, -1.5813]])"
      ]
     },
     "execution_count": 79,
     "metadata": {},
     "output_type": "execute_result"
    }
   ],
   "source": [
    "a"
   ]
  },
  {
   "cell_type": "code",
   "execution_count": 81,
   "metadata": {},
   "outputs": [
    {
     "data": {
      "text/plain": [
       "tensor([0.3167, 0.1141])"
      ]
     },
     "execution_count": 81,
     "metadata": {},
     "output_type": "execute_result"
    }
   ],
   "source": [
    "mean_a"
   ]
  },
  {
   "cell_type": "code",
   "execution_count": 91,
   "metadata": {},
   "outputs": [],
   "source": [
    "from sklearn.neighbors import KDTree\n",
    "from sklearn.cluster import KMeans"
   ]
  },
  {
   "cell_type": "code",
   "execution_count": null,
   "metadata": {},
   "outputs": [],
   "source": [
    "kdt = KDTree(c, leaf_size=30, metric='euclidean') # main k-nn"
   ]
  },
  {
   "cell_type": "code",
   "execution_count": 92,
   "metadata": {},
   "outputs": [
    {
     "data": {
      "text/plain": [
       "sklearn.cluster._kmeans.KMeans"
      ]
     },
     "execution_count": 92,
     "metadata": {},
     "output_type": "execute_result"
    }
   ],
   "source": [
    "KMeans"
   ]
  },
  {
   "cell_type": "code",
   "execution_count": 1,
   "metadata": {},
   "outputs": [],
   "source": [
    "import numpy as np\n",
    "import matplotlib.pyplot as plt\n",
    "import torch\n",
    "\n",
    "from es_map import behavior_map\n",
    "from es_map import novelty_archive"
   ]
  },
  {
   "cell_type": "code",
   "execution_count": 2,
   "metadata": {},
   "outputs": [],
   "source": [
    "# DUMMY map elites loop\n",
    "\n",
    "config = {\n",
    "    \n",
    "    \"map_elites_grid_description\" : {\n",
    "        \"bc_limits\" : [[-1,1],[-1,1]],\n",
    "        \"grid_dims\" : [20,20],\n",
    "        },\n",
    "}\n",
    "\n",
    "\n",
    "\n",
    "b_map = behavior_map.Grid_behaviour_map(config)\n",
    "b_archive = novelty_archive.NoveltyArchive(bc_dim = len(config[\"map_elites_grid_description\"][\"grid_dims\"]))\n",
    "\n",
    "\n",
    "\n",
    "def get_random_model_parameters():\n",
    "    return np.random.randn(2)\n",
    "\n",
    "\n",
    "def evaluate_model(x):\n",
    "    fitness = np.prod(x)\n",
    "    bc = np.sin(x)\n",
    "    return fitness,bc\n",
    "\n",
    " \n",
    "for gen in range(1000):\n",
    "    \n",
    "    params = get_random_model_parameters()\n",
    "    fitness,bc = evaluate_model(params)\n",
    "    \n",
    "    novelty = b_archive.calculate_novelty(bc)\n",
    "    b_archive.add_to_archive(bc)\n",
    "    \n",
    "    coords = b_map.get_cell_coords(bc,config)\n",
    "    old_elite = b_map.data[coords]\n",
    "    if old_elite is None or old_elite[\"eval_fitness\"] < fitness:\n",
    "        #print(\"New elite at: \",coords)\n",
    "        b_map.data[coords] = {\n",
    "            \"params\" : params,  # 1d torch tensor containing the parameters \n",
    "            \"eval_fitness\" : fitness,\n",
    "            \"eval_bc\" : bc,\n",
    "            \n",
    "            \"eval_novelty\" : novelty,\n",
    "        }\n",
    "    \n",
    "        \n",
    "    \n",
    "    \n",
    "    "
   ]
  },
  {
   "cell_type": "code",
   "execution_count": 3,
   "metadata": {},
   "outputs": [],
   "source": [
    "\n",
    "fitnesses = []\n",
    "novelties = []\n",
    "for elite in b_map.data.flatten():\n",
    "    if elite is not None:\n",
    "        fitnesses.append(elite[\"eval_fitness\"])\n",
    "        novelties.append(elite[\"eval_novelty\"])\n",
    "    else:\n",
    "        fitnesses.append(None)\n",
    "        novelties.append(None)\n"
   ]
  },
  {
   "cell_type": "code",
   "execution_count": 4,
   "metadata": {},
   "outputs": [
    {
     "data": {
      "image/png": "[encoded data removed]",
      "text/plain": [
       "<Figure size 432x288 with 2 Axes>"
      ]
     },
     "metadata": {
      "needs_background": "light"
     },
     "output_type": "display_data"
    },
    {
     "data": {
      "text/plain": [
       "<matplotlib.colorbar.Colorbar at 0x7f3f9ff59220>"
      ]
     },
     "execution_count": 4,
     "metadata": {},
     "output_type": "execute_result"
    },
    {
     "data": {
      "image/png": "[encoded data removed]",
      "text/plain": [
       "<Figure size 432x288 with 2 Axes>"
      ]
     },
     "metadata": {
      "needs_background": "light"
     },
     "output_type": "display_data"
    }
   ],
   "source": [
    "plt.imshow(np.array(fitnesses).astype(np.float).reshape(20,20),extent=[-1,1,-1,1])\n",
    "plt.colorbar()\n",
    "plt.show()\n",
    "plt.imshow(np.array(novelties).astype(np.float).reshape(20,20),extent=[-1,1,-1,1])\n",
    "plt.colorbar()"
   ]
  },
  {
   "cell_type": "code",
   "execution_count": 6,
   "metadata": {},
   "outputs": [
    {
     "data": {
      "text/plain": [
       "400"
      ]
     },
     "execution_count": 6,
     "metadata": {},
     "output_type": "execute_result"
    }
   ],
   "source": [
    "len(novelties)"
   ]
  },
  {
   "cell_type": "code",
   "execution_count": 7,
   "metadata": {},
   "outputs": [
    {
     "data": {
      "text/plain": [
       "400"
      ]
     },
     "execution_count": 7,
     "metadata": {},
     "output_type": "execute_result"
    }
   ],
   "source": [
    "len(fitnesses)"
   ]
  },
  {
   "cell_type": "code",
   "execution_count": null,
   "metadata": {},
   "outputs": [],
   "source": []
  },
  {
   "cell_type": "code",
   "execution_count": 8,
   "metadata": {},
   "outputs": [],
   "source": [
    "from sklearn.neighbors import NearestNeighbors\n",
    "import numpy as np"
   ]
  },
  {
   "cell_type": "code",
   "execution_count": 9,
   "metadata": {},
   "outputs": [
    {
     "data": {
      "text/plain": [
       "NearestNeighbors(algorithm='ball_tree', leaf_size=30, metric='euclidean',\n",
       "                 metric_params=None, n_jobs=None, n_neighbors=5, p=2,\n",
       "                 radius=1.0)"
      ]
     },
     "execution_count": 9,
     "metadata": {},
     "output_type": "execute_result"
    }
   ],
   "source": [
    "all_bcs = np.random.randn(10,2)\n",
    "\n",
    "nn_model = NearestNeighbors(n_neighbors=5, algorithm='ball_tree', metric='euclidean')\n",
    "nn_model.fit(all_bcs)\n",
    "\n",
    "\n"
   ]
  },
  {
   "cell_type": "code",
   "execution_count": 11,
   "metadata": {},
   "outputs": [],
   "source": [
    "distances, a = nn_model.kneighbors(np.random.randn(1,2), n_neighbors=5)"
   ]
  },
  {
   "cell_type": "code",
   "execution_count": 12,
   "metadata": {},
   "outputs": [
    {
     "data": {
      "text/plain": [
       "array([[0.29212001, 0.63869402, 0.75529381, 0.88998456, 1.34262215]])"
      ]
     },
     "execution_count": 12,
     "metadata": {},
     "output_type": "execute_result"
    }
   ],
   "source": [
    "distances"
   ]
  },
  {
   "cell_type": "code",
   "execution_count": 17,
   "metadata": {},
   "outputs": [
    {
     "ename": "ValueError",
     "evalue": "Found array with 0 sample(s) (shape=(0, 2)) while a minimum of 1 is required.",
     "output_type": "error",
     "traceback": [
      "\u001b[0;31m---------------------------------------------------------------------------\u001b[0m",
      "\u001b[0;31mValueError\u001b[0m                                Traceback (most recent call last)",
      "\u001b[0;32m<ipython-input-17-5cd627ad09a9>\u001b[0m in \u001b[0;36m<module>\u001b[0;34m\u001b[0m\n\u001b[1;32m      1\u001b[0m \u001b[0mnn_model\u001b[0m \u001b[0;34m=\u001b[0m \u001b[0mNearestNeighbors\u001b[0m\u001b[0;34m(\u001b[0m\u001b[0mn_neighbors\u001b[0m\u001b[0;34m=\u001b[0m\u001b[0;36m5\u001b[0m\u001b[0;34m,\u001b[0m \u001b[0malgorithm\u001b[0m\u001b[0;34m=\u001b[0m\u001b[0;34m'ball_tree'\u001b[0m\u001b[0;34m,\u001b[0m \u001b[0mmetric\u001b[0m\u001b[0;34m=\u001b[0m\u001b[0;34m'euclidean'\u001b[0m\u001b[0;34m)\u001b[0m\u001b[0;34m\u001b[0m\u001b[0;34m\u001b[0m\u001b[0m\n\u001b[0;32m----> 2\u001b[0;31m \u001b[0mnn_model\u001b[0m\u001b[0;34m.\u001b[0m\u001b[0mfit\u001b[0m\u001b[0;34m(\u001b[0m\u001b[0mnp\u001b[0m\u001b[0;34m.\u001b[0m\u001b[0marray\u001b[0m\u001b[0;34m(\u001b[0m\u001b[0;34m[\u001b[0m\u001b[0;34m]\u001b[0m\u001b[0;34m)\u001b[0m\u001b[0;34m.\u001b[0m\u001b[0mreshape\u001b[0m\u001b[0;34m(\u001b[0m\u001b[0;34m-\u001b[0m\u001b[0;36m1\u001b[0m\u001b[0;34m,\u001b[0m\u001b[0;36m2\u001b[0m\u001b[0;34m)\u001b[0m\u001b[0;34m)\u001b[0m\u001b[0;34m\u001b[0m\u001b[0;34m\u001b[0m\u001b[0m\n\u001b[0m",
      "\u001b[0;32m/scratch/ak1774/vargpu_env/lib/python3.8/site-packages/sklearn/neighbors/_base.py\u001b[0m in \u001b[0;36mfit\u001b[0;34m(self, X, y)\u001b[0m\n\u001b[1;32m   1166\u001b[0m             \u001b[0;32mor\u001b[0m \u001b[0;34m[\u001b[0m\u001b[0mn_samples\u001b[0m\u001b[0;34m,\u001b[0m \u001b[0mn_samples\u001b[0m\u001b[0;34m]\u001b[0m \u001b[0;32mif\u001b[0m \u001b[0mmetric\u001b[0m\u001b[0;34m=\u001b[0m\u001b[0;34m'precomputed'\u001b[0m\u001b[0;34m.\u001b[0m\u001b[0;34m\u001b[0m\u001b[0;34m\u001b[0m\u001b[0m\n\u001b[1;32m   1167\u001b[0m         \"\"\"\n\u001b[0;32m-> 1168\u001b[0;31m         \u001b[0;32mreturn\u001b[0m \u001b[0mself\u001b[0m\u001b[0;34m.\u001b[0m\u001b[0m_fit\u001b[0m\u001b[0;34m(\u001b[0m\u001b[0mX\u001b[0m\u001b[0;34m)\u001b[0m\u001b[0;34m\u001b[0m\u001b[0;34m\u001b[0m\u001b[0m\n\u001b[0m",
      "\u001b[0;32m/scratch/ak1774/vargpu_env/lib/python3.8/site-packages/sklearn/neighbors/_base.py\u001b[0m in \u001b[0;36m_fit\u001b[0;34m(self, X)\u001b[0m\n\u001b[1;32m    397\u001b[0m             \u001b[0mX\u001b[0m \u001b[0;34m=\u001b[0m \u001b[0m_check_precomputed\u001b[0m\u001b[0;34m(\u001b[0m\u001b[0mX\u001b[0m\u001b[0;34m)\u001b[0m\u001b[0;34m\u001b[0m\u001b[0;34m\u001b[0m\u001b[0m\n\u001b[1;32m    398\u001b[0m         \u001b[0;32melse\u001b[0m\u001b[0;34m:\u001b[0m\u001b[0;34m\u001b[0m\u001b[0;34m\u001b[0m\u001b[0m\n\u001b[0;32m--> 399\u001b[0;31m             \u001b[0mX\u001b[0m \u001b[0;34m=\u001b[0m \u001b[0mcheck_array\u001b[0m\u001b[0;34m(\u001b[0m\u001b[0mX\u001b[0m\u001b[0;34m,\u001b[0m \u001b[0maccept_sparse\u001b[0m\u001b[0;34m=\u001b[0m\u001b[0;34m'csr'\u001b[0m\u001b[0;34m)\u001b[0m\u001b[0;34m\u001b[0m\u001b[0;34m\u001b[0m\u001b[0m\n\u001b[0m\u001b[1;32m    400\u001b[0m \u001b[0;34m\u001b[0m\u001b[0m\n\u001b[1;32m    401\u001b[0m         \u001b[0mn_samples\u001b[0m \u001b[0;34m=\u001b[0m \u001b[0mX\u001b[0m\u001b[0;34m.\u001b[0m\u001b[0mshape\u001b[0m\u001b[0;34m[\u001b[0m\u001b[0;36m0\u001b[0m\u001b[0;34m]\u001b[0m\u001b[0;34m\u001b[0m\u001b[0;34m\u001b[0m\u001b[0m\n",
      "\u001b[0;32m/scratch/ak1774/vargpu_env/lib/python3.8/site-packages/sklearn/utils/validation.py\u001b[0m in \u001b[0;36mcheck_array\u001b[0;34m(array, accept_sparse, accept_large_sparse, dtype, order, copy, force_all_finite, ensure_2d, allow_nd, ensure_min_samples, ensure_min_features, warn_on_dtype, estimator)\u001b[0m\n\u001b[1;32m    581\u001b[0m         \u001b[0mn_samples\u001b[0m \u001b[0;34m=\u001b[0m \u001b[0m_num_samples\u001b[0m\u001b[0;34m(\u001b[0m\u001b[0marray\u001b[0m\u001b[0;34m)\u001b[0m\u001b[0;34m\u001b[0m\u001b[0;34m\u001b[0m\u001b[0m\n\u001b[1;32m    582\u001b[0m         \u001b[0;32mif\u001b[0m \u001b[0mn_samples\u001b[0m \u001b[0;34m<\u001b[0m \u001b[0mensure_min_samples\u001b[0m\u001b[0;34m:\u001b[0m\u001b[0;34m\u001b[0m\u001b[0;34m\u001b[0m\u001b[0m\n\u001b[0;32m--> 583\u001b[0;31m             raise ValueError(\"Found array with %d sample(s) (shape=%s) while a\"\n\u001b[0m\u001b[1;32m    584\u001b[0m                              \u001b[0;34m\" minimum of %d is required%s.\"\u001b[0m\u001b[0;34m\u001b[0m\u001b[0;34m\u001b[0m\u001b[0m\n\u001b[1;32m    585\u001b[0m                              % (n_samples, array.shape, ensure_min_samples,\n",
      "\u001b[0;31mValueError\u001b[0m: Found array with 0 sample(s) (shape=(0, 2)) while a minimum of 1 is required."
     ]
    }
   ],
   "source": [
    "nn_model = NearestNeighbors(n_neighbors=5, algorithm='ball_tree', metric='euclidean')\n",
    "nn_model.fit(np.array([]).reshape(-1,2))"
   ]
  },
  {
   "cell_type": "code",
   "execution_count": null,
   "metadata": {},
   "outputs": [],
   "source": []
  }
 ],
 "metadata": {
  "kernelspec": {
   "display_name": "Python 3",
   "language": "python",
   "name": "python3"
  },
  "language_info": {
   "codemirror_mode": {
    "name": "ipython",
    "version": 3
   },
   "file_extension": ".py",
   "mimetype": "text/x-python",
   "name": "python",
   "nbconvert_exporter": "python",
   "pygments_lexer": "ipython3",
   "version": "3.8.10"
  }
 },
 "nbformat": 4,
 "nbformat_minor": 4
}
