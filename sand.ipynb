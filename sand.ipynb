{
 "cells": [
  {
   "cell_type": "code",
   "execution_count": 1,
   "metadata": {},
   "outputs": [],
   "source": [
    "import numpy as np\n",
    "import matplotlib.pyplot as plt\n",
    "import torch"
   ]
  },
  {
   "cell_type": "code",
   "execution_count": 2,
   "metadata": {},
   "outputs": [],
   "source": [
    "import gym\n",
    "import QDgym"
   ]
  },
  {
   "cell_type": "code",
   "execution_count": 6,
   "metadata": {},
   "outputs": [
    {
     "name": "stdout",
     "output_type": "stream",
     "text": [
      "The behavioural desciptor is 2-dimentional and defined as proportion of feet contact time with the ground in the order ['ffoot', 'bfoot']\n"
     ]
    }
   ],
   "source": [
    "env = gym.make(\"QDHalfCheetahBulletEnv-v0\")\n",
    "# reset environment\n",
    "state = env.reset()\n",
    "done = False\n",
    "# eval loop\n",
    "a = []\n",
    "while not done: \n",
    "    action = env.action_space.sample()\n",
    "    state, reward, done, info = env.step(action) \n",
    "    a.append(env.desc)\n",
    "# get fitness and BD\n",
    "fitness = env.tot_reward\n",
    "behaviour_descriptor = env.desc # alternatively behaviour_descriptor = info[\"bc\"] for compatability with the code released for MAP-Elites-ES\n",
    "# close environment\n",
    "env.close()"
   ]
  },
  {
   "cell_type": "code",
   "execution_count": 5,
   "metadata": {},
   "outputs": [
    {
     "data": {
      "text/plain": [
       "array([0.236, 0.643])"
      ]
     },
     "execution_count": 5,
     "metadata": {},
     "output_type": "execute_result"
    }
   ],
   "source": [
    "behaviour_descriptor"
   ]
  },
  {
   "cell_type": "code",
   "execution_count": 8,
   "metadata": {},
   "outputs": [
    {
     "data": {
      "text/plain": [
       "[<matplotlib.lines.Line2D at 0x7f575f862640>]"
      ]
     },
     "execution_count": 8,
     "metadata": {},
     "output_type": "execute_result"
    },
    {
     "data": {
      "image/png": "[encoded data removed]",
      "text/plain": [
       "<Figure size 432x288 with 1 Axes>"
      ]
     },
     "metadata": {
      "needs_background": "light"
     },
     "output_type": "display_data"
    }
   ],
   "source": [
    "plt.plot([x[0] for x in a])"
   ]
  },
  {
   "cell_type": "code",
   "execution_count": 9,
   "metadata": {},
   "outputs": [
    {
     "data": {
      "text/plain": [
       "[<matplotlib.lines.Line2D at 0x7f576890c670>]"
      ]
     },
     "execution_count": 9,
     "metadata": {},
     "output_type": "execute_result"
    },
    {
     "data": {
      "image/png": "[encoded data removed]",
      "text/plain": [
       "<Figure size 432x288 with 1 Axes>"
      ]
     },
     "metadata": {
      "needs_background": "light"
     },
     "output_type": "display_data"
    }
   ],
   "source": [
    "plt.plot([x[1] for x in a])"
   ]
  },
  {
   "cell_type": "code",
   "execution_count": null,
   "metadata": {},
   "outputs": [],
   "source": [
    "# I am trying to write down the Evolvability Map elites algorithm\n",
    "# Let us do it in steps:\n",
    "#   1. let me write down the basic code for normal map elites\n",
    "#   2. Let me write down ES map elites\n",
    "#   3. Let me write down Evolvability map elites\n",
    "#   4. Let me write down variants of the algorithm"
   ]
  },
  {
   "cell_type": "code",
   "execution_count": null,
   "metadata": {},
   "outputs": [],
   "source": [
    "def fitness_func(x):\n",
    "    fitness = x[0]*x[1]\n",
    "    bc = np.array([x[0],x[1]])\n",
    "    return fitness,bc"
   ]
  },
  {
   "cell_type": "code",
   "execution_count": null,
   "metadata": {},
   "outputs": [],
   "source": [
    "\n",
    "# uniform grid\n",
    "map_elites_grid_description = {\n",
    "    \"bc_limits\" : [[-1,1],[-1,1]],\n",
    "    \"grid_dims\" : [20,20],\n",
    "}\n",
    "\n",
    "def behaviour_to_cell_coords(bc,map_elites_grid_description):\n",
    "    cell_coords = None # calculate which cell the behaviour is in\n",
    "    return cell_coords\n",
    "    \n",
    "def create_map_elites_grid(map_elites_grid_description):\n",
    "    return [[]] #array with the poroper size\n",
    "    \n",
    "    \n",
    "# A cell holds all kind of info\n",
    "# Most important is current elite: \n",
    "example_cell = {\n",
    "    \"fitness_elite_fitness\"\n",
    "    \"fitness_elite_params\"\n",
    "    \"innovation_elite\"\n",
    "    \"evolvability_elite\"\n",
    "    \"stats\" # how many times upgraded, fitness history ...\n",
    "}\n",
    "        \n",
    "bc_archive\n",
    "    \n",
    "    \n",
    "    "
   ]
  },
  {
   "cell_type": "code",
   "execution_count": null,
   "metadata": {},
   "outputs": [],
   "source": [
    "def update_grid(grid,fitness,bc,new_individual):\n",
    "    cell_coords = behaviour_to_cell_coords(bc)\n",
    "    cell_elite_fitness = grid[cell_coords][\"fitness_elite_fitness\"]\n",
    "    \n",
    "    if cell_elite_fitness <= fitness:\n",
    "        # replace old elite with new individual\n",
    "        grid[cell_coords][\"fitness_elite_fitness\"] = fitness\n",
    "        grid[cell_coords][\"fitness_elite_params\"] = mutated_copy"
   ]
  },
  {
   "cell_type": "code",
   "execution_count": null,
   "metadata": {},
   "outputs": [],
   "source": [
    "# First normal map elites\n",
    "\n",
    "# grid is an n-d array, where each element is a dict, containing cell data\n",
    "grid = create_map_elites_grid(map_elites_grid_description)\n",
    "# bc archive is a list of (tuple?), conatining bc of all the seen individuals (and maybe  some extra data...) \n",
    "bc_archive = []\n",
    "\n",
    "\n",
    "\n",
    "while True:\n",
    "    \n",
    "    parent_cell = select_parent_cell(grid)  # will return none if no cell available yet\n",
    "    parent = select_parent_elite(parent_cell)  # will be randomly init if parent_cell is none\n",
    "    \n",
    "    # choose ES update\n",
    "    operator = select_operator()\n",
    "    \n",
    "    # update / mutate individual\n",
    "    updated_individual_1,evo_0,innov_0 = es_update(parent)\n",
    "    updated_individual_2,evo_1,innov_1 = es_update(updated_individual_1) # TODO cache updated_individual_2, if we ever want to update updated_individual_1 in the future\n",
    "    # Also we can use updated_individual_2 now to update fitness if we want to\n",
    "    \n",
    "    # evaluate\n",
    "    fitness_1,bc_1 = evaluate(updated_individual_1)\n",
    "    \n",
    "    # update grid\n",
    "    grid = update_grid(grid,fitness_1,bc_1,updated_individual_1,evo_1,innov_1)\n",
    "    bc_archive = update_archive(bc_archive,bc_1,updated_individual_1)\n",
    "    \n",
    "    \n",
    "    \n",
    "    \n",
    "    \n",
    "    \n",
    "\n",
    "    \n",
    "    \n",
    "    \n",
    "    \n",
    "    \n",
    "\n",
    "\n",
    "\n"
   ]
  },
  {
   "cell_type": "code",
   "execution_count": null,
   "metadata": {},
   "outputs": [],
   "source": [
    "# Grid type\n",
    "# - single\n",
    "# - multi, independent\n",
    "# - multi, nd_sort\n",
    "# - multi, coop\n",
    "\n"
   ]
  },
  {
   "cell_type": "code",
   "execution_count": null,
   "metadata": {},
   "outputs": [],
   "source": [
    "# Build simple working prototype"
   ]
  },
  {
   "cell_type": "code",
   "execution_count": 12,
   "metadata": {},
   "outputs": [],
   "source": [
    "def create_map_elites_grid(map_elites_grid_description):\n",
    "    grid = np.empty(shape = map_elites_grid_description[\"grid_dims\"], dtype=object)\n",
    "    return grid\n",
    "\n",
    "def get_non_empty_cells(grid,map_elites_grid_description):\n",
    "    grid != None"
   ]
  },
  {
   "cell_type": "code",
   "execution_count": null,
   "metadata": {},
   "outputs": [],
   "source": [
    "map_elites_grid_description = {\n",
    "    \"bc_limits\" : [[-1,1],[-1,1]],\n",
    "    \"grid_dims\" : [20,20],\n",
    "}\n",
    "\n",
    "grid = create_map_elites_grid(map_elites_grid_description)\n",
    "\n",
    "for gen_i in range(3):\n",
    "    \n",
    "    parent_cell = select_parent_cell(grid)  # will return none if no cell available yet\n",
    "    parent = select_parent_elite(parent_cell)  # will be randomly init if parent_cell is none\n",
    "    \n",
    "    "
   ]
  },
  {
   "cell_type": "code",
   "execution_count": 17,
   "metadata": {},
   "outputs": [
    {
     "data": {
      "text/plain": [
       "20"
      ]
     },
     "execution_count": 17,
     "metadata": {},
     "output_type": "execute_result"
    }
   ],
   "source": [
    "map_elites_grid_description = {\n",
    "    \"bc_limits\" : [[-1,1],[-1,1]],\n",
    "    \"grid_dims\" : [20,20],\n",
    "}\n",
    "grid = create_map_elites_grid(map_elites_grid_description)\n",
    "len(grid)\n",
    "len(grid[2])"
   ]
  },
  {
   "cell_type": "code",
   "execution_count": null,
   "metadata": {},
   "outputs": [],
   "source": [
    "def create_map_elites_grid(map_elites_grid_description):\n",
    "    num_elements = np.prod(map_elites_grid_description[\"grid_dims\"])"
   ]
  },
  {
   "cell_type": "code",
   "execution_count": 18,
   "metadata": {},
   "outputs": [],
   "source": [
    "num_elements = np.prod(map_elites_grid_description[\"grid_dims\"])\n",
    "grid = np.array()"
   ]
  },
  {
   "cell_type": "code",
   "execution_count": 23,
   "metadata": {},
   "outputs": [],
   "source": [
    "grid = np.empty(shape = map_elites_grid_description[\"grid_dims\"], dtype=object)"
   ]
  },
  {
   "cell_type": "code",
   "execution_count": 27,
   "metadata": {},
   "outputs": [],
   "source": [
    "a = grid[4,7]"
   ]
  },
  {
   "cell_type": "code",
   "execution_count": 35,
   "metadata": {},
   "outputs": [],
   "source": [
    "grid[4,7] = {4: 5}\n",
    "grid[7,7] = {4: 7}"
   ]
  },
  {
   "cell_type": "code",
   "execution_count": 39,
   "metadata": {},
   "outputs": [],
   "source": [
    "non_empty_mask = grid != None\n",
    "non_empty_coords = np.where(non_empty_mask)\n",
    "non_empyt_cells = grid[non_empty_mask]"
   ]
  },
  {
   "cell_type": "code",
   "execution_count": 43,
   "metadata": {},
   "outputs": [],
   "source": [
    "a = object()"
   ]
  },
  {
   "cell_type": "code",
   "execution_count": 48,
   "metadata": {},
   "outputs": [
    {
     "data": {
      "text/plain": [
       "(array([4, 7]), array([7, 7]))"
      ]
     },
     "execution_count": 48,
     "metadata": {},
     "output_type": "execute_result"
    }
   ],
   "source": [
    "non_empty_coords"
   ]
  },
  {
   "cell_type": "code",
   "execution_count": 50,
   "metadata": {},
   "outputs": [],
   "source": [
    "import random"
   ]
  },
  {
   "cell_type": "code",
   "execution_count": 54,
   "metadata": {},
   "outputs": [],
   "source": [
    "choosen_coords = random.choice(non_empty_coords)"
   ]
  },
  {
   "cell_type": "code",
   "execution_count": 55,
   "metadata": {},
   "outputs": [
    {
     "data": {
      "text/plain": [
       "array([[None, None, None, None, None, None, None, {4: 5}, None, None,\n",
       "        None, None, None, None, None, None, None, None, None, None],\n",
       "       [None, None, None, None, None, None, None, {4: 7}, None, None,\n",
       "        None, None, None, None, None, None, None, None, None, None]],\n",
       "      dtype=object)"
      ]
     },
     "execution_count": 55,
     "metadata": {},
     "output_type": "execute_result"
    }
   ],
   "source": [
    "choosen_cell = [for coord in choosen_coords]  grid[choosen_coords]"
   ]
  },
  {
   "cell_type": "code",
   "execution_count": 56,
   "metadata": {},
   "outputs": [
    {
     "data": {
      "text/plain": [
       "array([4, 7])"
      ]
     },
     "execution_count": 56,
     "metadata": {},
     "output_type": "execute_result"
    }
   ],
   "source": [
    "choosen_coords"
   ]
  },
  {
   "cell_type": "code",
   "execution_count": 58,
   "metadata": {},
   "outputs": [
    {
     "data": {
      "text/plain": [
       "{4: 5}"
      ]
     },
     "execution_count": 58,
     "metadata": {},
     "output_type": "execute_result"
    }
   ],
   "source": [
    "grid[tuple(choosen_coords)]"
   ]
  },
  {
   "cell_type": "code",
   "execution_count": 69,
   "metadata": {},
   "outputs": [
    {
     "data": {
      "text/plain": [
       "[19, 1]"
      ]
     },
     "execution_count": 69,
     "metadata": {},
     "output_type": "execute_result"
    }
   ],
   "source": [
    "config = {\n",
    "    \"map_elites_grid_description\" : {\n",
    "    \"bc_limits\" : [[-1,1],[-1,1]],\n",
    "    \"grid_dims\" : [20,20],\n",
    "}}\n",
    "\n",
    "bc = [1,-0.89]\n",
    "\n",
    "\n",
    "coords = []\n",
    "for bc_dim,behaviour in enumerate(bc):\n",
    "\n",
    "    limits = config[\"map_elites_grid_description\"][\"bc_limits\"][bc_dim]\n",
    "    num_grids = config[\"map_elites_grid_description\"][\"grid_dims\"][bc_dim]\n",
    "\n",
    "    if behaviour <= limits[0]:\n",
    "        coord = 0\n",
    "    elif behaviour >= limits[1]:\n",
    "        coord = num_grids-1\n",
    "    else:\n",
    "        step = (limits[1]-limits[0]) / num_grids\n",
    "        coord = int((behaviour - limits[0]) / step)\n",
    "        \n",
    "    coords.append(coord)\n",
    "coords"
   ]
  },
  {
   "cell_type": "code",
   "execution_count": null,
   "metadata": {},
   "outputs": [],
   "source": []
  },
  {
   "cell_type": "code",
   "execution_count": 89,
   "metadata": {},
   "outputs": [
    {
     "data": {
      "text/plain": [
       "tensor(3.1110)"
      ]
     },
     "execution_count": 89,
     "metadata": {},
     "output_type": "execute_result"
    }
   ],
   "source": [
    "a = torch.randn(10,2)\n",
    "mean_a = torch.mean(a,dim=0)\n",
    "torch.sum((a-mean_a)**2) / 10\n"
   ]
  },
  {
   "cell_type": "code",
   "execution_count": 80,
   "metadata": {},
   "outputs": [
    {
     "data": {
      "text/plain": [
       "tensor([[ 8.4407e-01,  1.1173e-01],\n",
       "        [-5.5950e-01, -1.0724e+00],\n",
       "        [ 1.1421e+00,  1.3408e+00],\n",
       "        [-5.2538e-01, -1.6021e-03],\n",
       "        [-1.3224e+00,  2.4174e-01],\n",
       "        [ 9.6061e-01, -7.2827e-02],\n",
       "        [-5.7323e-01,  9.5675e-01],\n",
       "        [ 1.1200e-02,  5.0863e-01],\n",
       "        [ 2.6036e-01, -3.1742e-01],\n",
       "        [-2.3784e-01, -1.6954e+00]])"
      ]
     },
     "execution_count": 80,
     "metadata": {},
     "output_type": "execute_result"
    }
   ],
   "source": [
    "a - mean_a"
   ]
  },
  {
   "cell_type": "code",
   "execution_count": 79,
   "metadata": {},
   "outputs": [
    {
     "data": {
      "text/plain": [
       "tensor([[ 1.1608,  0.2259],\n",
       "        [-0.2428, -0.9582],\n",
       "        [ 1.4588,  1.4549],\n",
       "        [-0.2087,  0.1125],\n",
       "        [-1.0057,  0.3559],\n",
       "        [ 1.2773,  0.0413],\n",
       "        [-0.2565,  1.0709],\n",
       "        [ 0.3279,  0.6228],\n",
       "        [ 0.5771, -0.2033],\n",
       "        [ 0.0789, -1.5813]])"
      ]
     },
     "execution_count": 79,
     "metadata": {},
     "output_type": "execute_result"
    }
   ],
   "source": [
    "a"
   ]
  },
  {
   "cell_type": "code",
   "execution_count": 81,
   "metadata": {},
   "outputs": [
    {
     "data": {
      "text/plain": [
       "tensor([0.3167, 0.1141])"
      ]
     },
     "execution_count": 81,
     "metadata": {},
     "output_type": "execute_result"
    }
   ],
   "source": [
    "mean_a"
   ]
  },
  {
   "cell_type": "code",
   "execution_count": 91,
   "metadata": {},
   "outputs": [],
   "source": [
    "from sklearn.neighbors import KDTree\n",
    "from sklearn.cluster import KMeans"
   ]
  },
  {
   "cell_type": "code",
   "execution_count": null,
   "metadata": {},
   "outputs": [],
   "source": [
    "kdt = KDTree(c, leaf_size=30, metric='euclidean') # main k-nn"
   ]
  },
  {
   "cell_type": "code",
   "execution_count": 92,
   "metadata": {},
   "outputs": [
    {
     "data": {
      "text/plain": [
       "sklearn.cluster._kmeans.KMeans"
      ]
     },
     "execution_count": 92,
     "metadata": {},
     "output_type": "execute_result"
    }
   ],
   "source": [
    "KMeans"
   ]
  },
  {
   "cell_type": "code",
   "execution_count": 1,
   "metadata": {},
   "outputs": [],
   "source": [
    "import numpy as np\n",
    "import matplotlib.pyplot as plt\n",
    "import torch\n",
    "\n",
    "from es_map import behavior_map\n",
    "from es_map import novelty_archive"
   ]
  },
  {
   "cell_type": "code",
   "execution_count": 2,
   "metadata": {},
   "outputs": [],
   "source": [
    "# DUMMY map elites loop\n",
    "\n",
    "config = {\n",
    "    \n",
    "    \"map_elites_grid_description\" : {\n",
    "        \"bc_limits\" : [[-1,1],[-1,1]],\n",
    "        \"grid_dims\" : [20,20],\n",
    "        },\n",
    "}\n",
    "\n",
    "\n",
    "\n",
    "b_map = behavior_map.Grid_behaviour_map(config)\n",
    "b_archive = novelty_archive.NoveltyArchive(bc_dim = len(config[\"map_elites_grid_description\"][\"grid_dims\"]))\n",
    "\n",
    "\n",
    "\n",
    "def get_random_model_parameters():\n",
    "    return np.random.randn(2)\n",
    "\n",
    "\n",
    "def evaluate_model(x):\n",
    "    fitness = np.prod(x)\n",
    "    bc = np.sin(x)\n",
    "    return fitness,bc\n",
    "\n",
    " \n",
    "for gen in range(1000):\n",
    "    \n",
    "    params = get_random_model_parameters()\n",
    "    fitness,bc = evaluate_model(params)\n",
    "    \n",
    "    novelty = b_archive.calculate_novelty(bc)\n",
    "    b_archive.add_to_archive(bc)\n",
    "    \n",
    "    coords = b_map.get_cell_coords(bc,config)\n",
    "    old_elite = b_map.data[coords]\n",
    "    if old_elite is None or old_elite[\"eval_fitness\"] < fitness:\n",
    "        #print(\"New elite at: \",coords)\n",
    "        b_map.data[coords] = {\n",
    "            \"params\" : params,  # 1d torch tensor containing the parameters \n",
    "            \"eval_fitness\" : fitness,\n",
    "            \"eval_bc\" : bc,\n",
    "            \n",
    "            \"eval_novelty\" : novelty,\n",
    "        }\n",
    "    \n",
    "        \n",
    "    \n",
    "    \n",
    "    "
   ]
  },
  {
   "cell_type": "code",
   "execution_count": 3,
   "metadata": {},
   "outputs": [],
   "source": [
    "\n",
    "fitnesses = []\n",
    "novelties = []\n",
    "for elite in b_map.data.flatten():\n",
    "    if elite is not None:\n",
    "        fitnesses.append(elite[\"eval_fitness\"])\n",
    "        novelties.append(elite[\"eval_novelty\"])\n",
    "    else:\n",
    "        fitnesses.append(None)\n",
    "        novelties.append(None)\n"
   ]
  },
  {
   "cell_type": "code",
   "execution_count": 4,
   "metadata": {},
   "outputs": [
    {
     "data": {
      "image/png": "[encoded data removed]",
      "text/plain": [
       "<Figure size 432x288 with 2 Axes>"
      ]
     },
     "metadata": {
      "needs_background": "light"
     },
     "output_type": "display_data"
    },
    {
     "data": {
      "text/plain": [
       "<matplotlib.colorbar.Colorbar at 0x7f3f9ff59220>"
      ]
     },
     "execution_count": 4,
     "metadata": {},
     "output_type": "execute_result"
    },
    {
     "data": {
      "image/png": "[encoded data removed]",
      "text/plain": [
       "<Figure size 432x288 with 2 Axes>"
      ]
     },
     "metadata": {
      "needs_background": "light"
     },
     "output_type": "display_data"
    }
   ],
   "source": [
    "plt.imshow(np.array(fitnesses).astype(np.float).reshape(20,20),extent=[-1,1,-1,1])\n",
    "plt.colorbar()\n",
    "plt.show()\n",
    "plt.imshow(np.array(novelties).astype(np.float).reshape(20,20),extent=[-1,1,-1,1])\n",
    "plt.colorbar()"
   ]
  },
  {
   "cell_type": "code",
   "execution_count": 6,
   "metadata": {},
   "outputs": [
    {
     "data": {
      "text/plain": [
       "400"
      ]
     },
     "execution_count": 6,
     "metadata": {},
     "output_type": "execute_result"
    }
   ],
   "source": [
    "len(novelties)"
   ]
  },
  {
   "cell_type": "code",
   "execution_count": 7,
   "metadata": {},
   "outputs": [
    {
     "data": {
      "text/plain": [
       "400"
      ]
     },
     "execution_count": 7,
     "metadata": {},
     "output_type": "execute_result"
    }
   ],
   "source": [
    "len(fitnesses)"
   ]
  },
  {
   "cell_type": "code",
   "execution_count": null,
   "metadata": {},
   "outputs": [],
   "source": []
  },
  {
   "cell_type": "code",
   "execution_count": 1,
   "metadata": {},
   "outputs": [],
   "source": [
    "from sklearn.neighbors import NearestNeighbors\n",
    "import numpy as np"
   ]
  },
  {
   "cell_type": "code",
   "execution_count": 2,
   "metadata": {},
   "outputs": [
    {
     "data": {
      "text/plain": [
       "NearestNeighbors(algorithm='ball_tree', leaf_size=30, metric='euclidean',\n",
       "                 metric_params=None, n_jobs=None, n_neighbors=5, p=2,\n",
       "                 radius=1.0)"
      ]
     },
     "execution_count": 2,
     "metadata": {},
     "output_type": "execute_result"
    }
   ],
   "source": [
    "all_bcs = np.random.randn(10,2)\n",
    "\n",
    "nn_model = NearestNeighbors(n_neighbors=5, algorithm='ball_tree', metric='euclidean')\n",
    "nn_model.fit(all_bcs)\n",
    "\n",
    "\n"
   ]
  },
  {
   "cell_type": "code",
   "execution_count": 8,
   "metadata": {},
   "outputs": [],
   "source": [
    "distances, a = nn_model.kneighbors(np.random.randn(1,2), n_neighbors=5)"
   ]
  },
  {
   "cell_type": "code",
   "execution_count": 9,
   "metadata": {},
   "outputs": [
    {
     "data": {
      "text/plain": [
       "array([0.89094991])"
      ]
     },
     "execution_count": 9,
     "metadata": {},
     "output_type": "execute_result"
    }
   ],
   "source": [
    "np.mean(distances,axis=1)"
   ]
  },
  {
   "cell_type": "code",
   "execution_count": 17,
   "metadata": {},
   "outputs": [
    {
     "ename": "ValueError",
     "evalue": "Found array with 0 sample(s) (shape=(0, 2)) while a minimum of 1 is required.",
     "output_type": "error",
     "traceback": [
      "\u001b[0;31m---------------------------------------------------------------------------\u001b[0m",
      "\u001b[0;31mValueError\u001b[0m                                Traceback (most recent call last)",
      "\u001b[0;32m<ipython-input-17-5cd627ad09a9>\u001b[0m in \u001b[0;36m<module>\u001b[0;34m\u001b[0m\n\u001b[1;32m      1\u001b[0m \u001b[0mnn_model\u001b[0m \u001b[0;34m=\u001b[0m \u001b[0mNearestNeighbors\u001b[0m\u001b[0;34m(\u001b[0m\u001b[0mn_neighbors\u001b[0m\u001b[0;34m=\u001b[0m\u001b[0;36m5\u001b[0m\u001b[0;34m,\u001b[0m \u001b[0malgorithm\u001b[0m\u001b[0;34m=\u001b[0m\u001b[0;34m'ball_tree'\u001b[0m\u001b[0;34m,\u001b[0m \u001b[0mmetric\u001b[0m\u001b[0;34m=\u001b[0m\u001b[0;34m'euclidean'\u001b[0m\u001b[0;34m)\u001b[0m\u001b[0;34m\u001b[0m\u001b[0;34m\u001b[0m\u001b[0m\n\u001b[0;32m----> 2\u001b[0;31m \u001b[0mnn_model\u001b[0m\u001b[0;34m.\u001b[0m\u001b[0mfit\u001b[0m\u001b[0;34m(\u001b[0m\u001b[0mnp\u001b[0m\u001b[0;34m.\u001b[0m\u001b[0marray\u001b[0m\u001b[0;34m(\u001b[0m\u001b[0;34m[\u001b[0m\u001b[0;34m]\u001b[0m\u001b[0;34m)\u001b[0m\u001b[0;34m.\u001b[0m\u001b[0mreshape\u001b[0m\u001b[0;34m(\u001b[0m\u001b[0;34m-\u001b[0m\u001b[0;36m1\u001b[0m\u001b[0;34m,\u001b[0m\u001b[0;36m2\u001b[0m\u001b[0;34m)\u001b[0m\u001b[0;34m)\u001b[0m\u001b[0;34m\u001b[0m\u001b[0;34m\u001b[0m\u001b[0m\n\u001b[0m",
      "\u001b[0;32m/scratch/ak1774/vargpu_env/lib/python3.8/site-packages/sklearn/neighbors/_base.py\u001b[0m in \u001b[0;36mfit\u001b[0;34m(self, X, y)\u001b[0m\n\u001b[1;32m   1166\u001b[0m             \u001b[0;32mor\u001b[0m \u001b[0;34m[\u001b[0m\u001b[0mn_samples\u001b[0m\u001b[0;34m,\u001b[0m \u001b[0mn_samples\u001b[0m\u001b[0;34m]\u001b[0m \u001b[0;32mif\u001b[0m \u001b[0mmetric\u001b[0m\u001b[0;34m=\u001b[0m\u001b[0;34m'precomputed'\u001b[0m\u001b[0;34m.\u001b[0m\u001b[0;34m\u001b[0m\u001b[0;34m\u001b[0m\u001b[0m\n\u001b[1;32m   1167\u001b[0m         \"\"\"\n\u001b[0;32m-> 1168\u001b[0;31m         \u001b[0;32mreturn\u001b[0m \u001b[0mself\u001b[0m\u001b[0;34m.\u001b[0m\u001b[0m_fit\u001b[0m\u001b[0;34m(\u001b[0m\u001b[0mX\u001b[0m\u001b[0;34m)\u001b[0m\u001b[0;34m\u001b[0m\u001b[0;34m\u001b[0m\u001b[0m\n\u001b[0m",
      "\u001b[0;32m/scratch/ak1774/vargpu_env/lib/python3.8/site-packages/sklearn/neighbors/_base.py\u001b[0m in \u001b[0;36m_fit\u001b[0;34m(self, X)\u001b[0m\n\u001b[1;32m    397\u001b[0m             \u001b[0mX\u001b[0m \u001b[0;34m=\u001b[0m \u001b[0m_check_precomputed\u001b[0m\u001b[0;34m(\u001b[0m\u001b[0mX\u001b[0m\u001b[0;34m)\u001b[0m\u001b[0;34m\u001b[0m\u001b[0;34m\u001b[0m\u001b[0m\n\u001b[1;32m    398\u001b[0m         \u001b[0;32melse\u001b[0m\u001b[0;34m:\u001b[0m\u001b[0;34m\u001b[0m\u001b[0;34m\u001b[0m\u001b[0m\n\u001b[0;32m--> 399\u001b[0;31m             \u001b[0mX\u001b[0m \u001b[0;34m=\u001b[0m \u001b[0mcheck_array\u001b[0m\u001b[0;34m(\u001b[0m\u001b[0mX\u001b[0m\u001b[0;34m,\u001b[0m \u001b[0maccept_sparse\u001b[0m\u001b[0;34m=\u001b[0m\u001b[0;34m'csr'\u001b[0m\u001b[0;34m)\u001b[0m\u001b[0;34m\u001b[0m\u001b[0;34m\u001b[0m\u001b[0m\n\u001b[0m\u001b[1;32m    400\u001b[0m \u001b[0;34m\u001b[0m\u001b[0m\n\u001b[1;32m    401\u001b[0m         \u001b[0mn_samples\u001b[0m \u001b[0;34m=\u001b[0m \u001b[0mX\u001b[0m\u001b[0;34m.\u001b[0m\u001b[0mshape\u001b[0m\u001b[0;34m[\u001b[0m\u001b[0;36m0\u001b[0m\u001b[0;34m]\u001b[0m\u001b[0;34m\u001b[0m\u001b[0;34m\u001b[0m\u001b[0m\n",
      "\u001b[0;32m/scratch/ak1774/vargpu_env/lib/python3.8/site-packages/sklearn/utils/validation.py\u001b[0m in \u001b[0;36mcheck_array\u001b[0;34m(array, accept_sparse, accept_large_sparse, dtype, order, copy, force_all_finite, ensure_2d, allow_nd, ensure_min_samples, ensure_min_features, warn_on_dtype, estimator)\u001b[0m\n\u001b[1;32m    581\u001b[0m         \u001b[0mn_samples\u001b[0m \u001b[0;34m=\u001b[0m \u001b[0m_num_samples\u001b[0m\u001b[0;34m(\u001b[0m\u001b[0marray\u001b[0m\u001b[0;34m)\u001b[0m\u001b[0;34m\u001b[0m\u001b[0;34m\u001b[0m\u001b[0m\n\u001b[1;32m    582\u001b[0m         \u001b[0;32mif\u001b[0m \u001b[0mn_samples\u001b[0m \u001b[0;34m<\u001b[0m \u001b[0mensure_min_samples\u001b[0m\u001b[0;34m:\u001b[0m\u001b[0;34m\u001b[0m\u001b[0;34m\u001b[0m\u001b[0m\n\u001b[0;32m--> 583\u001b[0;31m             raise ValueError(\"Found array with %d sample(s) (shape=%s) while a\"\n\u001b[0m\u001b[1;32m    584\u001b[0m                              \u001b[0;34m\" minimum of %d is required%s.\"\u001b[0m\u001b[0;34m\u001b[0m\u001b[0;34m\u001b[0m\u001b[0m\n\u001b[1;32m    585\u001b[0m                              % (n_samples, array.shape, ensure_min_samples,\n",
      "\u001b[0;31mValueError\u001b[0m: Found array with 0 sample(s) (shape=(0, 2)) while a minimum of 1 is required."
     ]
    }
   ],
   "source": [
    "nn_model = NearestNeighbors(n_neighbors=5, algorithm='ball_tree', metric='euclidean')\n",
    "nn_model.fit(np.array([]).reshape(-1,2))"
   ]
  },
  {
   "cell_type": "code",
   "execution_count": 3,
   "metadata": {},
   "outputs": [],
   "source": [
    "def get_random_individual(config):\n",
    "    from es_map.interaction import interaction\n",
    "    env = interaction.build_interaction_module(config[\"env_id\"],config)\n",
    "    theta = env.initial_theta()\n",
    "    return theta"
   ]
  },
  {
   "cell_type": "code",
   "execution_count": 10,
   "metadata": {},
   "outputs": [
    {
     "data": {
      "text/plain": [
       "array([ 0.00275314, -0.0019562 ,  0.00258027, ...,  0.        ,\n",
       "        0.        ,  0.        ], dtype=float32)"
      ]
     },
     "execution_count": 10,
     "metadata": {},
     "output_type": "execute_result"
    }
   ],
   "source": [
    "config = {\n",
    "    \"env_id\" : \"DamageAnt-v2\",\n",
    "    \"policy_args\" : {\n",
    "        \"init\" : \"normc\",\n",
    "        \"layers\" :[256, 256],\n",
    "       \"activation\" : 'tanh',\n",
    "       \"action_noise\" : 0.01,\n",
    "    },\n",
    "    \"env_args\" : {\n",
    "        \"use_norm_obs\" : True,\n",
    "    },\n",
    "}\n",
    "a = get_random_individual(config)\n",
    "a"
   ]
  },
  {
   "cell_type": "code",
   "execution_count": null,
   "metadata": {},
   "outputs": [],
   "source": [
    "np.random."
   ]
  },
  {
   "cell_type": "code",
   "execution_count": null,
   "metadata": {},
   "outputs": [],
   "source": []
  },
  {
   "cell_type": "code",
   "execution_count": 1,
   "metadata": {},
   "outputs": [],
   "source": [
    "from dask.distributed import Client\n",
    "import dask\n",
    "import matplotlib.pyplot as plt\n",
    "\n",
    "import os\n",
    "os.environ[\"MKL_NUM_THREADS\"] = \"1\" \n",
    "os.environ[\"NUMEXPR_NUM_THREADS\"] = \"1\" \n",
    "os.environ[\"OMP_NUM_THREADS\"] = \"1\" \n",
    "import numpy as np"
   ]
  },
  {
   "cell_type": "code",
   "execution_count": 2,
   "metadata": {},
   "outputs": [],
   "source": [
    "import os\n",
    "os.chdir(\"/scratch/ak1774/runs\")"
   ]
  },
  {
   "cell_type": "code",
   "execution_count": 3,
   "metadata": {},
   "outputs": [],
   "source": [
    "client = Client(n_workers=60, threads_per_worker=1)"
   ]
  },
  {
   "cell_type": "code",
   "execution_count": 4,
   "metadata": {},
   "outputs": [],
   "source": [
    "def set_up_worker():\n",
    "    import os\n",
    "    os.environ[\"MKL_NUM_THREADS\"] = \"1\" \n",
    "    os.environ[\"NUMEXPR_NUM_THREADS\"] = \"1\" \n",
    "    os.environ[\"OMP_NUM_THREADS\"] = \"1\" \n",
    "    \n",
    "client.run(set_up_worker);"
   ]
  },
  {
   "cell_type": "code",
   "execution_count": 5,
   "metadata": {},
   "outputs": [],
   "source": [
    "%load_ext autoreload\n",
    "%autoreload 2"
   ]
  },
  {
   "cell_type": "code",
   "execution_count": 6,
   "metadata": {},
   "outputs": [],
   "source": [
    "from es_map import es_update"
   ]
  },
  {
   "cell_type": "code",
   "execution_count": 7,
   "metadata": {},
   "outputs": [],
   "source": [
    "config = {\n",
    "    \"env_id\" : \"DamageAnt-v2\",\n",
    "    \"policy_args\" : {\n",
    "        \"init\" : \"normc\",\n",
    "        \"layers\" :[256, 256],\n",
    "       \"activation\" : 'tanh',\n",
    "       \"action_noise\" : 0.01,\n",
    "    },\n",
    "    \"env_args\" : {\n",
    "        \"use_norm_obs\" : True,\n",
    "    },\n",
    "    \n",
    "    \"ES_popsize\" : 100,\n",
    "    \"ES_sigma\" : 0.02,\n",
    "    \"ES_EVALUATION_BATCH_SIZE\" : 5,\n",
    "    \"ES_lr\" : 0.01,\n",
    "    \n",
    "    \"ES_CENTRAL_NUM_EVALUATIONS\" : 30,\n",
    "    \n",
    "    \"GA_MAP_ELITES_NUM_GENERATIONS\" : 1000,\n",
    "    \n",
    "    \"GA_CHILDREN_PER_GENERATION\" : 200,\n",
    "    \"GA_NUM_EVALUATIONS\" : 20,\n",
    "    \n",
    "    \"GA_MUTATION_POWER\" : 0.02,\n",
    "    \n",
    "    \"map_elites_grid_description\" : {\n",
    "        \"bc_limits\" : [[0,1],[0,1],[0,1],[0,1]],\n",
    "        \"grid_dims\" : [6,6,6,6],\n",
    "    },\n",
    "    \n",
    "    \"CHECKPOINT_FREQUENCY\" : 100,\n",
    "    \"PLOT_FREQUENCY\" : 100,\n",
    "}"
   ]
  },
  {
   "cell_type": "code",
   "execution_count": null,
   "metadata": {},
   "outputs": [],
   "source": []
  },
  {
   "cell_type": "code",
   "execution_count": 8,
   "metadata": {},
   "outputs": [],
   "source": [
    "from es_map.interaction import interaction\n",
    "env = interaction.build_interaction_module(config[\"env_id\"],config)\n",
    "central_theta = env.initial_theta()\n",
    "obs_mean = np.zeros(env.env.observation_space.shape)\n",
    "obs_std = np.ones(env.env.observation_space.shape)"
   ]
  },
  {
   "cell_type": "code",
   "execution_count": 9,
   "metadata": {},
   "outputs": [],
   "source": [
    "#results = es_update.es_evaluate_children(client,central_theta,obs_mean,obs_std,config)"
   ]
  },
  {
   "cell_type": "code",
   "execution_count": 10,
   "metadata": {},
   "outputs": [
    {
     "name": "stdout",
     "output_type": "stream",
     "text": [
      "5.4836273193359375e-05\n"
     ]
    }
   ],
   "source": [
    "import time\n",
    "now = time.time()\n",
    "#oo = es_update.es_update(theta=central_theta,child_evaluations=results,config=config)\n",
    "print(time.time()-now)"
   ]
  },
  {
   "cell_type": "code",
   "execution_count": 11,
   "metadata": {},
   "outputs": [],
   "source": [
    "from es_map import behavior_map\n",
    "from es_map import novelty_archive"
   ]
  },
  {
   "cell_type": "code",
   "execution_count": 12,
   "metadata": {},
   "outputs": [],
   "source": [
    "def get_random_individual(config):\n",
    "    from es_map.interaction import interaction\n",
    "    env = interaction.build_interaction_module(config[\"env_id\"],config)\n",
    "    theta = env.initial_theta()\n",
    "    return theta"
   ]
  },
  {
   "cell_type": "code",
   "execution_count": 13,
   "metadata": {},
   "outputs": [],
   "source": [
    "def calculate_obs_stats(sum,sumsq,count):\n",
    "    if count == 0:\n",
    "        return np.zeros_like(sum),np.ones_like(sum)\n",
    "    mean = sum / count\n",
    "    std = np.sqrt(np.maximum(sumsq / count - np.square(mean), 1e-2))\n",
    "    return mean,std\n",
    "    \n",
    "   "
   ]
  },
  {
   "cell_type": "code",
   "execution_count": 15,
   "metadata": {},
   "outputs": [
    {
     "data": {
      "text/html": [
       "Finishing last run (ID:1xvd6ef6) before initializing another..."
      ],
      "text/plain": [
       "<IPython.core.display.HTML object>"
      ]
     },
     "metadata": {},
     "output_type": "display_data"
    },
    {
     "data": {
      "text/html": [
       "<br/>Waiting for W&B process to finish, PID 1060298... <strong style=\"color:green\">(success).</strong>"
      ],
      "text/plain": [
       "<IPython.core.display.HTML object>"
      ]
     },
     "metadata": {},
     "output_type": "display_data"
    },
    {
     "data": {
      "application/vnd.jupyter.widget-view+json": {
       "model_id": "c676dca3ca1b4b568bc8deca00d5996f",
       "version_major": 2,
       "version_minor": 0
      },
      "text/plain": [
       "VBox(children=(Label(value=' 0.00MB of 0.00MB uploaded (0.00MB deduped)\\r'), FloatProgress(value=1.0, max=1.0)…"
      ]
     },
     "metadata": {},
     "output_type": "display_data"
    },
    {
     "data": {
      "text/html": [
       "<style>\n",
       "    table.wandb td:nth-child(1) { padding: 0 10px; text-align: right }\n",
       "    .wandb-row { display: flex; flex-direction: row; flex-wrap: wrap; width: 100% }\n",
       "    .wandb-col { display: flex; flex-direction: column; flex-basis: 100%; flex: 1; padding: 10px; }\n",
       "    </style>\n",
       "<div class=\"wandb-row\"><div class=\"wandb-col\">\n",
       "</div><div class=\"wandb-col\">\n",
       "</div></div>\n",
       "Synced 4 W&B file(s), 0 media file(s), 0 artifact file(s) and 0 other file(s)\n",
       "<br/>Synced <strong style=\"color:#cdcd00\">crisp-forest-7</strong>: <a href=\"https://wandb.ai/adam_katona/evolvability_map_elites/runs/1xvd6ef6\" target=\"_blank\">https://wandb.ai/adam_katona/evolvability_map_elites/runs/1xvd6ef6</a><br/>\n",
       "Find logs at: <code>./wandb/run-20211216_132011-1xvd6ef6/logs</code><br/>\n"
      ],
      "text/plain": [
       "<IPython.core.display.HTML object>"
      ]
     },
     "metadata": {},
     "output_type": "display_data"
    },
    {
     "data": {
      "text/html": [
       "Successfully finished last run (ID:1xvd6ef6). Initializing new run:<br/>"
      ],
      "text/plain": [
       "<IPython.core.display.HTML object>"
      ]
     },
     "metadata": {},
     "output_type": "display_data"
    },
    {
     "data": {
      "text/html": [
       "\n",
       "                    Syncing run <strong><a href=\"https://wandb.ai/adam_katona/evolvability_map_elites/runs/39de3m6y\" target=\"_blank\">splendid-microwave-8</a></strong> to <a href=\"https://wandb.ai/adam_katona/evolvability_map_elites\" target=\"_blank\">Weights & Biases</a> (<a href=\"https://docs.wandb.com/integrations/jupyter.html\" target=\"_blank\">docs</a>).<br/>\n",
       "\n",
       "                "
      ],
      "text/plain": [
       "<IPython.core.display.HTML object>"
      ]
     },
     "metadata": {},
     "output_type": "display_data"
    }
   ],
   "source": [
    "import wandb\n",
    "config\n",
    "#wandb.config = config\n",
    "wandb.init(project=\"evolvability_map_elites\", entity=\"adam_katona\")\n",
    "wandb.run.name = \"me_ga_test1\"\n",
    "wandb.run.config.update(config)\n",
    "\n",
    "run_name = wandb.run.dir.split(\"/\")[-2]\n",
    "run_checkpoint_path = \"/scratch/ak1774/runs/large_files/\" + run_name\n",
    "os.makedirs(run_checkpoint_path,exist_ok=True)"
   ]
  },
  {
   "cell_type": "code",
   "execution_count": 17,
   "metadata": {},
   "outputs": [
    {
     "ename": "TypeError",
     "evalue": "list indices must be integers or slices, not str",
     "output_type": "error",
     "traceback": [
      "\u001b[0;31m---------------------------------------------------------------------------\u001b[0m",
      "\u001b[0;31mTypeError\u001b[0m                                 Traceback (most recent call last)",
      "\u001b[0;32m<ipython-input-17-229421fd52b2>\u001b[0m in \u001b[0;36m<module>\u001b[0;34m\u001b[0m\n\u001b[1;32m     78\u001b[0m             \u001b[0mparent_datas\u001b[0m\u001b[0;34m.\u001b[0m\u001b[0mappend\u001b[0m\u001b[0;34m(\u001b[0m\u001b[0;34m(\u001b[0m\u001b[0mparent_params\u001b[0m\u001b[0;34m,\u001b[0m\u001b[0mparent_obs_mean\u001b[0m\u001b[0;34m,\u001b[0m\u001b[0mparent_obs_std\u001b[0m\u001b[0;34m)\u001b[0m\u001b[0;34m)\u001b[0m\u001b[0;34m\u001b[0m\u001b[0;34m\u001b[0m\u001b[0m\n\u001b[1;32m     79\u001b[0m \u001b[0;34m\u001b[0m\u001b[0m\n\u001b[0;32m---> 80\u001b[0;31m         \u001b[0mchild_results\u001b[0m \u001b[0;34m=\u001b[0m \u001b[0mes_update\u001b[0m\u001b[0;34m.\u001b[0m\u001b[0mga_evaluate_children_multi_parent\u001b[0m\u001b[0;34m(\u001b[0m\u001b[0mclient\u001b[0m\u001b[0;34m,\u001b[0m\u001b[0mparent_datas\u001b[0m\u001b[0;34m,\u001b[0m\u001b[0mconfig\u001b[0m\u001b[0;34m)\u001b[0m\u001b[0;34m\u001b[0m\u001b[0;34m\u001b[0m\u001b[0m\n\u001b[0m\u001b[1;32m     81\u001b[0m \u001b[0;34m\u001b[0m\u001b[0m\n\u001b[1;32m     82\u001b[0m \u001b[0;34m\u001b[0m\u001b[0m\n",
      "\u001b[0;32m~/workspace/evolvability_map_elites/evolvability_map_elites/es_map/es_update.py\u001b[0m in \u001b[0;36mga_evaluate_children_multi_parent\u001b[0;34m(client, parent_datas, config)\u001b[0m\n\u001b[1;32m    213\u001b[0m         child_result = {\n\u001b[1;32m    214\u001b[0m             \u001b[0;34m\"child\"\u001b[0m \u001b[0;34m:\u001b[0m \u001b[0mchild\u001b[0m\u001b[0;34m,\u001b[0m\u001b[0;34m\u001b[0m\u001b[0;34m\u001b[0m\u001b[0m\n\u001b[0;32m--> 215\u001b[0;31m             \u001b[0;34m\"mean_fitness\"\u001b[0m \u001b[0;34m:\u001b[0m \u001b[0mnp\u001b[0m\u001b[0;34m.\u001b[0m\u001b[0mmean\u001b[0m\u001b[0;34m(\u001b[0m\u001b[0mresults\u001b[0m\u001b[0;34m[\u001b[0m\u001b[0;34m\"fitnesses\"\u001b[0m\u001b[0;34m]\u001b[0m\u001b[0;34m)\u001b[0m\u001b[0;34m,\u001b[0m\u001b[0;34m\u001b[0m\u001b[0;34m\u001b[0m\u001b[0m\n\u001b[0m\u001b[1;32m    216\u001b[0m             \u001b[0;34m\"mean_bc\"\u001b[0m \u001b[0;34m:\u001b[0m \u001b[0mnp\u001b[0m\u001b[0;34m.\u001b[0m\u001b[0mmean\u001b[0m\u001b[0;34m(\u001b[0m\u001b[0mresults\u001b[0m\u001b[0;34m[\u001b[0m\u001b[0;34m\"bcs\"\u001b[0m\u001b[0;34m]\u001b[0m\u001b[0;34m,\u001b[0m\u001b[0maxis\u001b[0m\u001b[0;34m=\u001b[0m\u001b[0;36m0\u001b[0m\u001b[0;34m)\u001b[0m\u001b[0;34m,\u001b[0m\u001b[0;34m\u001b[0m\u001b[0;34m\u001b[0m\u001b[0m\n\u001b[1;32m    217\u001b[0m \u001b[0;34m\u001b[0m\u001b[0m\n",
      "\u001b[0;31mTypeError\u001b[0m: list indices must be integers or slices, not str"
     ]
    }
   ],
   "source": [
    "\n",
    "DEBUG = True\n",
    "if DEBUG is True:\n",
    "    config[\"GA_CHILDREN_PER_GENERATION\"] = 20\n",
    "    config[\"GA_NUM_EVALUATIONS\"] = 4\n",
    "    \n",
    "\n",
    "b_map = behavior_map.Grid_behaviour_map(config)\n",
    "b_archive = novelty_archive.NoveltyArchive(bc_dim = len(config[\"map_elites_grid_description\"][\"grid_dims\"]))\n",
    "\n",
    "\n",
    "run_name = wandb.run.dir.split(\"/\")[-2]\n",
    "run_checkpoint_path = \"/scratch/ak1774/runs/large_files/\" + run_name\n",
    "\n",
    "evaluations_per_generation = config[\"GA_CHILDREN_PER_GENERATION\"] * config[\"GA_NUM_EVALUATIONS\"]\n",
    "# es evaluations\n",
    "# evaluations_per_generation = config[\"ES_popsize\"] + config[\"ES_CENTRAL_NUM_EVALUATIONS\"] \n",
    "\n",
    "generation_number = 0\n",
    "evaluations_so_far = 0\n",
    "best_fitness_so_far = 0\n",
    "best_model_so_far = None\n",
    "\n",
    "\n",
    "# log strategy:\n",
    "# - collect things to log at every step\n",
    "# - collect things to log at every n step\n",
    "# - collect things for the summary (best fitness so far etc.) (wandb.run.summary[\"best_accuracy\"] = test_accuracy)\n",
    "# - save latest model??  Save latest best model, save latest most evolvable\n",
    "#  most innovative history, best fitness history?\n",
    "\n",
    "# Do I also save logs as text?\n",
    "# Also define x axis. \n",
    "# - evaluations\n",
    "# - generations\n",
    "\n",
    "\n",
    "while True:\n",
    "    if generation_number >= config[\"GA_MAP_ELITES_NUM_GENERATIONS\"]:\n",
    "        break\n",
    "\n",
    "    use_single_parent = False\n",
    "    non_empty_cells = b_map.get_non_empty_cells(config)\n",
    "    \n",
    "    if use_single_parent:\n",
    "        if len(non_empty_cells) == 0:\n",
    "            parent_cell = None\n",
    "            parent_params = get_random_individual(config)\n",
    "            parent_obs_mean = None\n",
    "            parent_obs_std = None\n",
    "        else:\n",
    "            parent_cell = np.random.choice(non_empty_cells)  # NOTE, here goes cell selection method\n",
    "            parent_params = parent_cell[\"params\"]\n",
    "            parent_obs_mean,parent_obs_std = calculate_obs_stats( parent_cell[\"obs_stats\"][\"obs_sum\"],\n",
    "                                                                  parent_cell[\"obs_stats\"][\"obs_sq\"],\n",
    "                                                                  parent_cell[\"obs_stats\"][\"obs_count\"])\n",
    "\n",
    "        # instead of evaluating one child at a time, evaluate a bunch\n",
    "        # for example 200 children , times 10 evaluations, meaning 2000 episodes per generation \n",
    "        # then try to insert all of them into the archive\n",
    "\n",
    "        child_results = es_update.ga_evaluate_children(client,theta=parent_params,obs_mean=parent_obs_mean,obs_std=parent_obs_std,config=config)\n",
    "    \n",
    "    # use all the elite as parents\n",
    "    else:\n",
    "        parent_datas = []\n",
    "        for parent_i in range(config[\"GA_CHILDREN_PER_GENERATION\"]):\n",
    "            if len(non_empty_cells) == 0:\n",
    "                parent_cell = None\n",
    "                parent_params = get_random_individual(config)\n",
    "                parent_obs_mean = None\n",
    "                parent_obs_std = None\n",
    "            else:\n",
    "                parent_cell = np.random.choice(non_empty_cells)  # NOTE, here goes cell selection method\n",
    "                parent_params = parent_cell[\"params\"]\n",
    "                parent_obs_mean,parent_obs_std = calculate_obs_stats( parent_cell[\"obs_stats\"][\"obs_sum\"],\n",
    "                                                                      parent_cell[\"obs_stats\"][\"obs_sq\"],\n",
    "                                                                      parent_cell[\"obs_stats\"][\"obs_count\"])\n",
    "            parent_datas.append((parent_params,parent_obs_mean,parent_obs_std))\n",
    "    \n",
    "        child_results = es_update.ga_evaluate_children_multi_parent(client,parent_datas,config)\n",
    "    \n",
    "    \n",
    "    for child_res in child_results:\n",
    "        \n",
    "        mean_fitness = child_res[\"mean_fitness\"]\n",
    "        mean_bc = child_res[\"mean_bc\"]\n",
    "        \n",
    "        # try to add them to the archive\n",
    "        if mean_fitness > best_fitness_so_far:\n",
    "            best_fitness_so_far = mean_fitness\n",
    "            best_model_so_far = child_res[\"child\"]\n",
    "            \n",
    "        coords = b_map.get_cell_coords(mean_bc,config)\n",
    "        cell = b_map.data[coords]        \n",
    "                \n",
    "        need_adding = False\n",
    "        if cell is None:\n",
    "            need_adding = True\n",
    "        elif mean_fitness > cell[\"eval_fitness\"]:\n",
    "            need_adding = True\n",
    "            \n",
    "            \n",
    "        if need_adding is True:\n",
    "            updated_cell = {\n",
    "                \"params\" : child_res[\"child\"],\n",
    "                \"generation_created\" : generation_number,\n",
    "\n",
    "                \"eval_fitness\" : mean_fitness,\n",
    "                \"eval_bc\" : mean_bc,\n",
    "\n",
    "                \"obs_stats\" : {   # used for observation normalization. These stats are used for the children as well ??\n",
    "                    \"obs_sum\" : child_res[\"child_obs_sum\"],\n",
    "                    \"obs_sq\" : child_res[\"child_obs_sq\"],\n",
    "                    \"obs_count\" : child_res[\"child_obs_count\"],\n",
    "                },\n",
    "            }\n",
    "        b_map.data[coords] = updated_cell\n",
    "            \n",
    "    print(generation_number,len(non_empty_cells),best_fitness_so_far)\n",
    "    \n",
    "    # Calculate things for logging\n",
    "    generation_fitneses = [child_res[\"mean_fitness\"] for child_res in child_results]\n",
    "    generation_bc = np.stack([child_res[\"mean_bc\"] for child_res in child_results])\n",
    "    \n",
    "    # Do the step logging \n",
    "    step_logs = {\n",
    "        \"generation_number\" : generation_number,\n",
    "        \"nonempty_cells\" : len(non_empty_cells),\n",
    "        \"nonempty_ratio\" : float(len(non_empty_cells)) / b_map.data.size,\n",
    "        \"best_fitness_so_far\" : best_fitness_so_far,\n",
    "        \"generation_fitness_mean\" : np.mean(generation_fitneses),\n",
    "        \"generation_fitness_std\" : np.std(generation_fitneses),\n",
    "        \"generation_bc_mean\" : np.mean(generation_bc,axis=0),\n",
    "        \"generation_bc_std\" : np.std(generation_bc,axis=0),\n",
    "    }\n",
    "    wandb.log(step_logs)\n",
    "    \n",
    "    # Do the n-step logging\n",
    "    if generation_number % config[\"PLOT_FREQUENCY\"] == 10:\n",
    "        # do plot map\n",
    "        # save map without heavy stuff???\n",
    "        fig,ax = plot_4d_map(b_map)\n",
    "        n_step_log = {\n",
    "            \"b_map_plot\" : fig,\n",
    "        }\n",
    "        wandb.log(n_step_log)\n",
    "        \n",
    "        # also print some stuff to console\n",
    "        print(generation_number)\n",
    "        for k,v in step_logs.items():\n",
    "            print(k,v)\n",
    "            \n",
    "    # Do checkpointing\n",
    "    if generation_number % config[\"CHECKPOINT_FREQUENCY\"] == 10:\n",
    "        np.save(run_checkpoint_path+\"/best_model.npy\",best_model_so_far)\n",
    "        np.save(run_checkpoint_path+\"/b_map.npy\",b_map.data,allow_pickle=True)\n",
    "        b_archive.save_to_file(run_checkpoint_path+\"/b_archive.npy\")\n",
    "            \n",
    "    generation_number += 1\n",
    "    \n",
    "# Done, save final data\n",
    "np.save(run_checkpoint_path+\"/best_model.npy\",best_model_so_far)\n",
    "np.save(run_checkpoint_path+\"/b_map.npy\",b_map.data,allow_pickle=True)\n",
    "b_archive.save_to_file(run_checkpoint_path+\"/b_archive.npy\")\n",
    "\n"
   ]
  },
  {
   "cell_type": "code",
   "execution_count": 33,
   "metadata": {},
   "outputs": [
    {
     "data": {
      "text/plain": [
       "0"
      ]
     },
     "execution_count": 33,
     "metadata": {},
     "output_type": "execute_result"
    }
   ],
   "source": [
    "np.sum(b_map.data != None)"
   ]
  },
  {
   "cell_type": "code",
   "execution_count": 48,
   "metadata": {},
   "outputs": [],
   "source": [
    "cell_coords = b_map.get_cell_coords(mean_bc,config)"
   ]
  },
  {
   "cell_type": "code",
   "execution_count": 53,
   "metadata": {},
   "outputs": [],
   "source": [
    "cell = b_map.data[cell_coords]"
   ]
  },
  {
   "cell_type": "code",
   "execution_count": 52,
   "metadata": {},
   "outputs": [],
   "source": [
    "if cell is None:\n",
    "    b_map.data[cell_coords] = {}"
   ]
  },
  {
   "cell_type": "code",
   "execution_count": null,
   "metadata": {},
   "outputs": [],
   "source": []
  },
  {
   "cell_type": "code",
   "execution_count": 62,
   "metadata": {},
   "outputs": [
    {
     "data": {
      "text/plain": [
       "(array([nan, nan, nan, nan, nan, nan, nan, nan, nan, nan, nan, nan, nan,\n",
       "        nan, nan, nan, nan, nan, nan, nan, nan, nan, nan, nan, nan, nan,\n",
       "        nan], dtype=float32),\n",
       " array([nan, nan, nan, nan, nan, nan, nan, nan, nan, nan, nan, nan, nan,\n",
       "        nan, nan, nan, nan, nan, nan, nan, nan, nan, nan, nan, nan, nan,\n",
       "        nan], dtype=float32))"
      ]
     },
     "execution_count": 62,
     "metadata": {},
     "output_type": "execute_result"
    }
   ],
   "source": [
    "parent_obs_mean,parent_obs_std"
   ]
  },
  {
   "cell_type": "code",
   "execution_count": 20,
   "metadata": {},
   "outputs": [],
   "source": [
    "def plot_4d_map(b_map):\n",
    "    data_4d = []\n",
    "    for val in b_map.data.reshape(-1):\n",
    "        if val is not None:\n",
    "            data_4d.append(val[\"eval_fitness\"])\n",
    "        else:\n",
    "            data_4d.append(None)\n",
    "    data_4d = np.array(data_4d).reshape(*b_map.data.shape)\n",
    "    \n",
    "    dim = b_map.data.shape\n",
    "    data_2d = np.zeros([dim[0]*dim[2],dim[1]*dim[3]])\n",
    "    for coord1 in range(dim[0]):\n",
    "        for coord2 in range(dim[1]):\n",
    "            data_2d[coord1*dim[2]:(coord1+1)*dim[2],coord2*dim[3]:(coord2+1)*dim[3]] = data_4d[coord1,coord2]\n",
    "\n",
    "    import matplotlib.pyplot as plt\n",
    "    fig,ax = plt.subplots()\n",
    "    ax.imshow(data_2d)\n",
    "    #ax.colorbar()\n",
    "    \n",
    "    return fig,ax"
   ]
  },
  {
   "cell_type": "code",
   "execution_count": 22,
   "metadata": {},
   "outputs": [
    {
     "data": {
      "text/plain": [
       "{}"
      ]
     },
     "execution_count": 22,
     "metadata": {},
     "output_type": "execute_result"
    }
   ],
   "source": [
    "#fig,ax = plot_4d_map(b_map);\n",
    "\n",
    "wandb.config"
   ]
  },
  {
   "cell_type": "code",
   "execution_count": null,
   "metadata": {},
   "outputs": [],
   "source": [
    "wandb.log({\"plot\": fig})"
   ]
  },
  {
   "cell_type": "code",
   "execution_count": 91,
   "metadata": {},
   "outputs": [
    {
     "data": {
      "text/plain": [
       "<matplotlib.colorbar.Colorbar at 0x7f96c09db190>"
      ]
     },
     "execution_count": 91,
     "metadata": {},
     "output_type": "execute_result"
    },
    {
     "data": {
      "image/png": "[encoded data removed]",
      "text/plain": [
       "<Figure size 432x288 with 2 Axes>"
      ]
     },
     "metadata": {
      "needs_background": "light"
     },
     "output_type": "display_data"
    }
   ],
   "source": [
    "import matplotlib.pyplot as plt\n",
    "plt.imshow(data_2d)\n",
    "plt.colorbar()"
   ]
  },
  {
   "cell_type": "code",
   "execution_count": 17,
   "metadata": {},
   "outputs": [
    {
     "data": {
      "text/plain": [
       "<matplotlib.colorbar.Colorbar at 0x7fbf7a8ecdf0>"
      ]
     },
     "execution_count": 17,
     "metadata": {},
     "output_type": "execute_result"
    },
    {
     "data": {
      "image/png": "[encoded data removed]",
      "text/plain": [
       "<Figure size 432x288 with 2 Axes>"
      ]
     },
     "metadata": {
      "needs_background": "light"
     },
     "output_type": "display_data"
    }
   ],
   "source": [
    "import matplotlib.pyplot as plt\n",
    "plt.imshow(data_2d)\n",
    "plt.colorbar()"
   ]
  },
  {
   "cell_type": "code",
   "execution_count": 92,
   "metadata": {},
   "outputs": [
    {
     "ename": "TypeError",
     "evalue": "evaluate_children_remote() got an unexpected keyword argument 'repeat_n'",
     "output_type": "error",
     "traceback": [
      "\u001b[0;31m---------------------------------------------------------------------------\u001b[0m",
      "\u001b[0;31mTypeError\u001b[0m                                 Traceback (most recent call last)",
      "\u001b[0;32m<ipython-input-92-df7e347b7480>\u001b[0m in \u001b[0;36m<module>\u001b[0;34m\u001b[0m\n\u001b[0;32m----> 1\u001b[0;31m child_results = es_update.ga_evaluate_children(client,theta=parent_params,\n\u001b[0m\u001b[1;32m      2\u001b[0m                                                obs_mean=parent_obs_mean,obs_std=parent_obs_std,config=config)\n",
      "\u001b[0;32m~/workspace/evolvability_map_elites/evolvability_map_elites/es_map/es_update.py\u001b[0m in \u001b[0;36mga_evaluate_children\u001b[0;34m(client, theta, obs_mean, obs_std, config)\u001b[0m\n\u001b[1;32m    206\u001b[0m     res = client.map(evaluate_children_remote,child_list,central_theta=theta_f,obs_mean=obs_mean,obs_std=obs_std,config=config,\n\u001b[1;32m    207\u001b[0m                      repeat_n=num_evaluation_per_children)\n\u001b[0;32m--> 208\u001b[0;31m     \u001b[0mres\u001b[0m \u001b[0;34m=\u001b[0m \u001b[0mclient\u001b[0m\u001b[0;34m.\u001b[0m\u001b[0mgather\u001b[0m\u001b[0;34m(\u001b[0m\u001b[0mres\u001b[0m\u001b[0;34m)\u001b[0m\u001b[0;34m\u001b[0m\u001b[0;34m\u001b[0m\u001b[0m\n\u001b[0m\u001b[1;32m    209\u001b[0m \u001b[0;34m\u001b[0m\u001b[0m\n\u001b[1;32m    210\u001b[0m     \u001b[0mchild_results\u001b[0m \u001b[0;34m=\u001b[0m \u001b[0;34m[\u001b[0m\u001b[0;34m]\u001b[0m\u001b[0;34m\u001b[0m\u001b[0;34m\u001b[0m\u001b[0m\n",
      "\u001b[0;32m/scratch/ak1774/vargpu_env/lib/python3.8/site-packages/distributed/client.py\u001b[0m in \u001b[0;36mgather\u001b[0;34m(self, futures, errors, direct, asynchronous)\u001b[0m\n\u001b[1;32m   1885\u001b[0m             \u001b[0;32melse\u001b[0m\u001b[0;34m:\u001b[0m\u001b[0;34m\u001b[0m\u001b[0;34m\u001b[0m\u001b[0m\n\u001b[1;32m   1886\u001b[0m                 \u001b[0mlocal_worker\u001b[0m \u001b[0;34m=\u001b[0m \u001b[0;32mNone\u001b[0m\u001b[0;34m\u001b[0m\u001b[0;34m\u001b[0m\u001b[0m\n\u001b[0;32m-> 1887\u001b[0;31m             return self.sync(\n\u001b[0m\u001b[1;32m   1888\u001b[0m                 \u001b[0mself\u001b[0m\u001b[0;34m.\u001b[0m\u001b[0m_gather\u001b[0m\u001b[0;34m,\u001b[0m\u001b[0;34m\u001b[0m\u001b[0;34m\u001b[0m\u001b[0m\n\u001b[1;32m   1889\u001b[0m                 \u001b[0mfutures\u001b[0m\u001b[0;34m,\u001b[0m\u001b[0;34m\u001b[0m\u001b[0;34m\u001b[0m\u001b[0m\n",
      "\u001b[0;32m/scratch/ak1774/vargpu_env/lib/python3.8/site-packages/distributed/client.py\u001b[0m in \u001b[0;36msync\u001b[0;34m(self, func, asynchronous, callback_timeout, *args, **kwargs)\u001b[0m\n\u001b[1;32m    777\u001b[0m             \u001b[0;32mreturn\u001b[0m \u001b[0mfuture\u001b[0m\u001b[0;34m\u001b[0m\u001b[0;34m\u001b[0m\u001b[0m\n\u001b[1;32m    778\u001b[0m         \u001b[0;32melse\u001b[0m\u001b[0;34m:\u001b[0m\u001b[0;34m\u001b[0m\u001b[0;34m\u001b[0m\u001b[0m\n\u001b[0;32m--> 779\u001b[0;31m             return sync(\n\u001b[0m\u001b[1;32m    780\u001b[0m                 \u001b[0mself\u001b[0m\u001b[0;34m.\u001b[0m\u001b[0mloop\u001b[0m\u001b[0;34m,\u001b[0m \u001b[0mfunc\u001b[0m\u001b[0;34m,\u001b[0m \u001b[0;34m*\u001b[0m\u001b[0margs\u001b[0m\u001b[0;34m,\u001b[0m \u001b[0mcallback_timeout\u001b[0m\u001b[0;34m=\u001b[0m\u001b[0mcallback_timeout\u001b[0m\u001b[0;34m,\u001b[0m \u001b[0;34m**\u001b[0m\u001b[0mkwargs\u001b[0m\u001b[0;34m\u001b[0m\u001b[0;34m\u001b[0m\u001b[0m\n\u001b[1;32m    781\u001b[0m             )\n",
      "\u001b[0;32m/scratch/ak1774/vargpu_env/lib/python3.8/site-packages/distributed/utils.py\u001b[0m in \u001b[0;36msync\u001b[0;34m(loop, func, callback_timeout, *args, **kwargs)\u001b[0m\n\u001b[1;32m    346\u001b[0m     \u001b[0;32mif\u001b[0m \u001b[0merror\u001b[0m\u001b[0;34m[\u001b[0m\u001b[0;36m0\u001b[0m\u001b[0;34m]\u001b[0m\u001b[0;34m:\u001b[0m\u001b[0;34m\u001b[0m\u001b[0;34m\u001b[0m\u001b[0m\n\u001b[1;32m    347\u001b[0m         \u001b[0mtyp\u001b[0m\u001b[0;34m,\u001b[0m \u001b[0mexc\u001b[0m\u001b[0;34m,\u001b[0m \u001b[0mtb\u001b[0m \u001b[0;34m=\u001b[0m \u001b[0merror\u001b[0m\u001b[0;34m[\u001b[0m\u001b[0;36m0\u001b[0m\u001b[0;34m]\u001b[0m\u001b[0;34m\u001b[0m\u001b[0;34m\u001b[0m\u001b[0m\n\u001b[0;32m--> 348\u001b[0;31m         \u001b[0;32mraise\u001b[0m \u001b[0mexc\u001b[0m\u001b[0;34m.\u001b[0m\u001b[0mwith_traceback\u001b[0m\u001b[0;34m(\u001b[0m\u001b[0mtb\u001b[0m\u001b[0;34m)\u001b[0m\u001b[0;34m\u001b[0m\u001b[0;34m\u001b[0m\u001b[0m\n\u001b[0m\u001b[1;32m    349\u001b[0m     \u001b[0;32melse\u001b[0m\u001b[0;34m:\u001b[0m\u001b[0;34m\u001b[0m\u001b[0;34m\u001b[0m\u001b[0m\n\u001b[1;32m    350\u001b[0m         \u001b[0;32mreturn\u001b[0m \u001b[0mresult\u001b[0m\u001b[0;34m[\u001b[0m\u001b[0;36m0\u001b[0m\u001b[0;34m]\u001b[0m\u001b[0;34m\u001b[0m\u001b[0;34m\u001b[0m\u001b[0m\n",
      "\u001b[0;32m/scratch/ak1774/vargpu_env/lib/python3.8/site-packages/distributed/utils.py\u001b[0m in \u001b[0;36mf\u001b[0;34m()\u001b[0m\n\u001b[1;32m    330\u001b[0m             \u001b[0;32mif\u001b[0m \u001b[0mcallback_timeout\u001b[0m \u001b[0;32mis\u001b[0m \u001b[0;32mnot\u001b[0m \u001b[0;32mNone\u001b[0m\u001b[0;34m:\u001b[0m\u001b[0;34m\u001b[0m\u001b[0;34m\u001b[0m\u001b[0m\n\u001b[1;32m    331\u001b[0m                 \u001b[0mfuture\u001b[0m \u001b[0;34m=\u001b[0m \u001b[0masyncio\u001b[0m\u001b[0;34m.\u001b[0m\u001b[0mwait_for\u001b[0m\u001b[0;34m(\u001b[0m\u001b[0mfuture\u001b[0m\u001b[0;34m,\u001b[0m \u001b[0mcallback_timeout\u001b[0m\u001b[0;34m)\u001b[0m\u001b[0;34m\u001b[0m\u001b[0;34m\u001b[0m\u001b[0m\n\u001b[0;32m--> 332\u001b[0;31m             \u001b[0mresult\u001b[0m\u001b[0;34m[\u001b[0m\u001b[0;36m0\u001b[0m\u001b[0;34m]\u001b[0m \u001b[0;34m=\u001b[0m \u001b[0;32myield\u001b[0m \u001b[0mfuture\u001b[0m\u001b[0;34m\u001b[0m\u001b[0;34m\u001b[0m\u001b[0m\n\u001b[0m\u001b[1;32m    333\u001b[0m         \u001b[0;32mexcept\u001b[0m \u001b[0mException\u001b[0m \u001b[0;32mas\u001b[0m \u001b[0mexc\u001b[0m\u001b[0;34m:\u001b[0m\u001b[0;34m\u001b[0m\u001b[0;34m\u001b[0m\u001b[0m\n\u001b[1;32m    334\u001b[0m             \u001b[0merror\u001b[0m\u001b[0;34m[\u001b[0m\u001b[0;36m0\u001b[0m\u001b[0;34m]\u001b[0m \u001b[0;34m=\u001b[0m \u001b[0msys\u001b[0m\u001b[0;34m.\u001b[0m\u001b[0mexc_info\u001b[0m\u001b[0;34m(\u001b[0m\u001b[0;34m)\u001b[0m\u001b[0;34m\u001b[0m\u001b[0;34m\u001b[0m\u001b[0m\n",
      "\u001b[0;32m/scratch/ak1774/vargpu_env/lib/python3.8/site-packages/tornado/gen.py\u001b[0m in \u001b[0;36mrun\u001b[0;34m(self)\u001b[0m\n\u001b[1;32m    733\u001b[0m \u001b[0;34m\u001b[0m\u001b[0m\n\u001b[1;32m    734\u001b[0m                     \u001b[0;32mtry\u001b[0m\u001b[0;34m:\u001b[0m\u001b[0;34m\u001b[0m\u001b[0;34m\u001b[0m\u001b[0m\n\u001b[0;32m--> 735\u001b[0;31m                         \u001b[0mvalue\u001b[0m \u001b[0;34m=\u001b[0m \u001b[0mfuture\u001b[0m\u001b[0;34m.\u001b[0m\u001b[0mresult\u001b[0m\u001b[0;34m(\u001b[0m\u001b[0;34m)\u001b[0m\u001b[0;34m\u001b[0m\u001b[0;34m\u001b[0m\u001b[0m\n\u001b[0m\u001b[1;32m    736\u001b[0m                     \u001b[0;32mexcept\u001b[0m \u001b[0mException\u001b[0m\u001b[0;34m:\u001b[0m\u001b[0;34m\u001b[0m\u001b[0;34m\u001b[0m\u001b[0m\n\u001b[1;32m    737\u001b[0m                         \u001b[0mexc_info\u001b[0m \u001b[0;34m=\u001b[0m \u001b[0msys\u001b[0m\u001b[0;34m.\u001b[0m\u001b[0mexc_info\u001b[0m\u001b[0;34m(\u001b[0m\u001b[0;34m)\u001b[0m\u001b[0;34m\u001b[0m\u001b[0;34m\u001b[0m\u001b[0m\n",
      "\u001b[0;32m/scratch/ak1774/vargpu_env/lib/python3.8/site-packages/distributed/client.py\u001b[0m in \u001b[0;36m_gather\u001b[0;34m(self, futures, errors, direct, local_worker)\u001b[0m\n\u001b[1;32m   1750\u001b[0m                             \u001b[0mexc\u001b[0m \u001b[0;34m=\u001b[0m \u001b[0mCancelledError\u001b[0m\u001b[0;34m(\u001b[0m\u001b[0mkey\u001b[0m\u001b[0;34m)\u001b[0m\u001b[0;34m\u001b[0m\u001b[0;34m\u001b[0m\u001b[0m\n\u001b[1;32m   1751\u001b[0m                         \u001b[0;32melse\u001b[0m\u001b[0;34m:\u001b[0m\u001b[0;34m\u001b[0m\u001b[0;34m\u001b[0m\u001b[0m\n\u001b[0;32m-> 1752\u001b[0;31m                             \u001b[0;32mraise\u001b[0m \u001b[0mexception\u001b[0m\u001b[0;34m.\u001b[0m\u001b[0mwith_traceback\u001b[0m\u001b[0;34m(\u001b[0m\u001b[0mtraceback\u001b[0m\u001b[0;34m)\u001b[0m\u001b[0;34m\u001b[0m\u001b[0;34m\u001b[0m\u001b[0m\n\u001b[0m\u001b[1;32m   1753\u001b[0m                         \u001b[0;32mraise\u001b[0m \u001b[0mexc\u001b[0m\u001b[0;34m\u001b[0m\u001b[0;34m\u001b[0m\u001b[0m\n\u001b[1;32m   1754\u001b[0m                     \u001b[0;32mif\u001b[0m \u001b[0merrors\u001b[0m \u001b[0;34m==\u001b[0m \u001b[0;34m\"skip\"\u001b[0m\u001b[0;34m:\u001b[0m\u001b[0;34m\u001b[0m\u001b[0;34m\u001b[0m\u001b[0m\n",
      "\u001b[0;32m/scratch/ak1774/vargpu_env/lib/python3.8/site-packages/dask/utils.py\u001b[0m in \u001b[0;36mapply\u001b[0;34m()\u001b[0m\n\u001b[1;32m     28\u001b[0m \u001b[0;32mdef\u001b[0m \u001b[0mapply\u001b[0m\u001b[0;34m(\u001b[0m\u001b[0mfunc\u001b[0m\u001b[0;34m,\u001b[0m \u001b[0margs\u001b[0m\u001b[0;34m,\u001b[0m \u001b[0mkwargs\u001b[0m\u001b[0;34m=\u001b[0m\u001b[0;32mNone\u001b[0m\u001b[0;34m)\u001b[0m\u001b[0;34m:\u001b[0m\u001b[0;34m\u001b[0m\u001b[0;34m\u001b[0m\u001b[0m\n\u001b[1;32m     29\u001b[0m     \u001b[0;32mif\u001b[0m \u001b[0mkwargs\u001b[0m\u001b[0;34m:\u001b[0m\u001b[0;34m\u001b[0m\u001b[0;34m\u001b[0m\u001b[0m\n\u001b[0;32m---> 30\u001b[0;31m         \u001b[0;32mreturn\u001b[0m \u001b[0mfunc\u001b[0m\u001b[0;34m(\u001b[0m\u001b[0;34m*\u001b[0m\u001b[0margs\u001b[0m\u001b[0;34m,\u001b[0m \u001b[0;34m**\u001b[0m\u001b[0mkwargs\u001b[0m\u001b[0;34m)\u001b[0m\u001b[0;34m\u001b[0m\u001b[0;34m\u001b[0m\u001b[0m\n\u001b[0m\u001b[1;32m     31\u001b[0m     \u001b[0;32melse\u001b[0m\u001b[0;34m:\u001b[0m\u001b[0;34m\u001b[0m\u001b[0;34m\u001b[0m\u001b[0m\n\u001b[1;32m     32\u001b[0m         \u001b[0;32mreturn\u001b[0m \u001b[0mfunc\u001b[0m\u001b[0;34m(\u001b[0m\u001b[0;34m*\u001b[0m\u001b[0margs\u001b[0m\u001b[0;34m)\u001b[0m\u001b[0;34m\u001b[0m\u001b[0;34m\u001b[0m\u001b[0m\n",
      "\u001b[0;31mTypeError\u001b[0m: evaluate_children_remote() got an unexpected keyword argument 'repeat_n'"
     ]
    }
   ],
   "source": [
    "child_results = es_update.ga_evaluate_children(client,theta=parent_params,\n",
    "                                               obs_mean=parent_obs_mean,obs_std=parent_obs_std,config=config)"
   ]
  },
  {
   "cell_type": "code",
   "execution_count": null,
   "metadata": {},
   "outputs": [],
   "source": []
  },
  {
   "cell_type": "code",
   "execution_count": null,
   "metadata": {},
   "outputs": [],
   "source": [
    "# OLD GA single code\n",
    "  ###################\n",
    "    ## OLD CODE #######\n",
    "        \n",
    "    # create child\n",
    "    child = parent_params + np.random.randn(*parent_params.shape) * config[\"GA_MUTATION_POWER\"]\n",
    "    # lets make the eval bath not parralel.\n",
    "    \n",
    "\n",
    "    # evaluate child\n",
    "    child_f = client.scatter(child,broadcast=True)\n",
    "    \n",
    "    now = time.time()\n",
    "    res = [client.submit(es_update.evaluate_individual,theta=child_f,obs_mean=parent_obs_mean,obs_std=parent_obs_std,eval=True,config=config,\n",
    "                         pure=False) for _ in range(10)]\n",
    "    res = client.gather(res)\n",
    "    print(\"elapsed: \",time.time()-now)\n",
    "    \n",
    "    mean_fitness = np.mean([r[\"fitness\"] for r in res]) \n",
    "    if mean_fitness > best_fitness:\n",
    "        best_fitness = mean_fitness\n",
    "    mean_bc = np.mean([r[\"bc\"] for r in res],axis=0)\n",
    "    #print(generation_number,mean_fitness,mean_bc)\n",
    "    \n",
    "    obs_sum = np.sum(np.stack([r[\"obs_sum\"] for r in res]),axis=0)\n",
    "    obs_sq = np.sum(np.stack([r[\"obs_sq\"] for r in res]),axis=0)\n",
    "    obs_count = np.sum([r[\"obs_count\"] for r in res])\n",
    "    \n",
    "    coords = b_map.get_cell_coords(mean_bc,config)\n",
    "    cell = b_map.data[coords]\n",
    "    \n",
    "    need_adding = False\n",
    "    if cell is None:\n",
    "        need_adding = True\n",
    "    elif mean_fitness > cell[\"eval_fitness\"]:\n",
    "        need_adding = True\n",
    "        \n",
    "    if need_adding is True:\n",
    "        updated_cell = {\n",
    "            \"params\" : child,\n",
    "            \"generation_created\" : generation_number,\n",
    "\n",
    "            \"eval_fitness\" : mean_fitness,\n",
    "            \"eval_bc\" : mean_bc,\n",
    "\n",
    "            \"obs_stats\" : {   # used for observation normalization. These stats are used for the children as well ??\n",
    "                \"obs_sum\" : obs_sum,\n",
    "                \"obs_sq\" : obs_sq,\n",
    "                \"obs_count\" : obs_count,\n",
    "            },\n",
    "        }\n",
    "        b_map.data[coords] = updated_cell\n",
    "    \n",
    "    "
   ]
  },
  {
   "cell_type": "code",
   "execution_count": null,
   "metadata": {},
   "outputs": [],
   "source": [
    "2"
   ]
  },
  {
   "cell_type": "code",
   "execution_count": null,
   "metadata": {},
   "outputs": [],
   "source": []
  }
 ],
 "metadata": {
  "kernelspec": {
   "display_name": "Python 3",
   "language": "python",
   "name": "python3"
  },
  "language_info": {
   "codemirror_mode": {
    "name": "ipython",
    "version": 3
   },
   "file_extension": ".py",
   "mimetype": "text/x-python",
   "name": "python",
   "nbconvert_exporter": "python",
   "pygments_lexer": "ipython3",
   "version": "3.8.10"
  }
 },
 "nbformat": 4,
 "nbformat_minor": 4
}
