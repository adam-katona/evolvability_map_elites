{
 "cells": [
  {
   "cell_type": "code",
   "execution_count": 2,
   "metadata": {},
   "outputs": [
    {
     "name": "stdout",
     "output_type": "stream",
     "text": [
      "env: CUDA_VISIBLE_DEVICES=0\n"
     ]
    }
   ],
   "source": [
    "%env CUDA_VISIBLE_DEVICES=0\n",
    "from es_map import qdax_task\n",
    "\n",
    "import numpy as np\n",
    "import brax\n",
    "from brax import jumpy as jp\n",
    "from brax.envs import env\n",
    "import jax.numpy as jnp\n",
    "import jax\n",
    "\n",
    "import matplotlib.pyplot as plt\n",
    "\n",
    "\n",
    "from brax.envs import wrappers\n",
    "from brax.io import html\n",
    "from brax import envs"
   ]
  },
  {
   "cell_type": "code",
   "execution_count": 3,
   "metadata": {},
   "outputs": [],
   "source": [
    "from es_map import behavior_map\n",
    "from es_map import map_elite_utils\n",
    "from es_map import jax_evaluate"
   ]
  },
  {
   "cell_type": "code",
   "execution_count": 4,
   "metadata": {},
   "outputs": [
    {
     "name": "stderr",
     "output_type": "stream",
     "text": [
      "WARNING:absl:No GPU/TPU found, falling back to CPU. (Set TF_CPP_MIN_LOG_LEVEL=0 and rerun for more info.)\n"
     ]
    }
   ],
   "source": [
    "key = jax.random.PRNGKey(777)\n",
    "key_envs = jax.random.split(key, 1)"
   ]
  },
  {
   "cell_type": "code",
   "execution_count": null,
   "metadata": {},
   "outputs": [],
   "source": [
    "run_path = \"/scratch/ak1774/runs/large_files_jax/run-20220303_085708-pk4loduh\"\n",
    "import json\n",
    "with open(run_path+'/config.json') as f:\n",
    "    config = json.load(f)"
   ]
  },
  {
   "cell_type": "code",
   "execution_count": 9,
   "metadata": {},
   "outputs": [],
   "source": [
    "run_id = \"mfnlsrqm\"\n",
    "def id_to_path(id):\n",
    "    from glob import glob    \n",
    "    path = glob(\"/scratch/ak1774/runs/large_files_jax/*\"+id, recursive = False)[0]\n",
    "    return path\n",
    "run_path = id_to_path(run_id)\n",
    "\n",
    "import json\n",
    "with open(run_path+'/config.json') as f:\n",
    "    config = json.load(f)\n",
    "theta = np.load(run_path+\"/theta.npy\")\n",
    "from es_map import jax_evaluate\n"
   ]
  },
  {
   "cell_type": "code",
   "execution_count": 11,
   "metadata": {},
   "outputs": [],
   "source": [
    "def create_env(env_name):\n",
    "    if env_name == \"ant\":\n",
    "        from es_map.qdax_envs.unidirectional_envs import ant, walker, hopper, halfcheetah, humanoid\n",
    "        env = ant.QDUniAnt()\n",
    "    elif env_name == \"walker\":\n",
    "        from es_map.qdax_envs.unidirectional_envs import ant, walker, hopper, halfcheetah, humanoid\n",
    "        env = walker.QDUniWalker()\n",
    "    elif env_name == \"hopper\":\n",
    "        from es_map.qdax_envs.unidirectional_envs import ant, walker, hopper, halfcheetah, humanoid\n",
    "        env = hopper.QDUniHopper()\n",
    "    elif env_name == \"halfcheetah\":\n",
    "        from es_map.qdax_envs.unidirectional_envs import ant, walker, hopper, halfcheetah, humanoid\n",
    "        env = halfcheetah.QDUniHalfcheetah()\n",
    "    elif env_name == \"humanoid\":\n",
    "        from es_map.qdax_envs.unidirectional_envs import ant, walker, hopper, halfcheetah, humanoid\n",
    "        env = humanoid.QDUniHumanoid()\n",
    "    elif env_name == \"ant_omni\":\n",
    "        from es_map.qdax_envs.omnidirectional_envs import ant\n",
    "        env = ant.QDOmniAnt()\n",
    "    elif env_name == \"humanoid_omni\":\n",
    "        from es_map.qdax_envs.omnidirectional_envs import humanoid\n",
    "        env = humanoid.QDOmniHumanoid()\n",
    "    else:\n",
    "        raise \"unknown env name\"\n",
    "        \n",
    "    env = wrappers.EpisodeWrapper(env, episode_length=1000, action_repeat=1)\n",
    "    env = wrappers.VectorWrapper(env, batch_size=10) # for each iteration, we evaluate the children and the parent performance in parallel\n",
    "    env = wrappers.AutoResetWrapper(env) # not sure if this is nessasary, we only look at the first episode\n",
    "    env = wrappers.VectorGymWrapper(env) \n",
    "    return env"
   ]
  },
  {
   "cell_type": "code",
   "execution_count": 13,
   "metadata": {},
   "outputs": [],
   "source": [
    "env = create_env(config[\"env_name\"])"
   ]
  },
  {
   "cell_type": "code",
   "execution_count": 17,
   "metadata": {},
   "outputs": [],
   "source": [
    "action = env.action_space.sample()\n",
    "obs = env.reset()"
   ]
  },
  {
   "cell_type": "code",
   "execution_count": 19,
   "metadata": {},
   "outputs": [
    {
     "data": {
      "text/plain": [
       "(10, 87)"
      ]
     },
     "execution_count": 19,
     "metadata": {},
     "output_type": "execute_result"
    }
   ],
   "source": [
    "obs.shape"
   ]
  },
  {
   "cell_type": "code",
   "execution_count": null,
   "metadata": {},
   "outputs": [],
   "source": [
    "env."
   ]
  },
  {
   "cell_type": "code",
   "execution_count": null,
   "metadata": {},
   "outputs": [],
   "source": []
  },
  {
   "cell_type": "code",
   "execution_count": null,
   "metadata": {},
   "outputs": [],
   "source": []
  },
  {
   "cell_type": "code",
   "execution_count": null,
   "metadata": {},
   "outputs": [],
   "source": []
  }
 ],
 "metadata": {
  "kernelspec": {
   "display_name": "Python 3",
   "language": "python",
   "name": "python3"
  },
  "language_info": {
   "codemirror_mode": {
    "name": "ipython",
    "version": 3
   },
   "file_extension": ".py",
   "mimetype": "text/x-python",
   "name": "python",
   "nbconvert_exporter": "python",
   "pygments_lexer": "ipython3",
   "version": "3.8.10"
  }
 },
 "nbformat": 4,
 "nbformat_minor": 4
}
