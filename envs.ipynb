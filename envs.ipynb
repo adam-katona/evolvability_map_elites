{
 "cells": [
  {
   "cell_type": "code",
   "execution_count": 4,
   "metadata": {},
   "outputs": [],
   "source": [
    "import os\n",
    "os.environ[\"MKL_NUM_THREADS\"] = \"1\" \n",
    "os.environ[\"NUMEXPR_NUM_THREADS\"] = \"1\" \n",
    "os.environ[\"OMP_NUM_THREADS\"] = \"1\" \n",
    "\n",
    "import numpy as np\n",
    "import matplotlib.pyplot as plt\n",
    "import torch\n",
    "\n",
    "import gym\n",
    "import QDgym_noprint"
   ]
  },
  {
   "cell_type": "code",
   "execution_count": 5,
   "metadata": {},
   "outputs": [],
   "source": [
    "env = gym.make(\"QDWalker2DBulletEnv-v0\")"
   ]
  },
  {
   "cell_type": "code",
   "execution_count": 6,
   "metadata": {},
   "outputs": [],
   "source": [
    "obs = env.reset()"
   ]
  },
  {
   "cell_type": "code",
   "execution_count": 7,
   "metadata": {},
   "outputs": [],
   "source": [
    "for _ in range(29):\n",
    "    obs,r,done,info = env.step(env.action_space.sample())"
   ]
  },
  {
   "cell_type": "code",
   "execution_count": 9,
   "metadata": {},
   "outputs": [
    {
     "data": {
      "text/plain": [
       "array([0.86206897, 0.48275862])"
      ]
     },
     "execution_count": 9,
     "metadata": {},
     "output_type": "execute_result"
    }
   ],
   "source": [
    "info[\"bc\"]"
   ]
  },
  {
   "cell_type": "code",
   "execution_count": null,
   "metadata": {},
   "outputs": [],
   "source": [
    "# API\n",
    "# build_interaction_module(env_id, args):\n",
    "#     returns interaction class\n",
    "#\n",
    "# Interaction class have\n",
    "# - def initial_theta(self, seed=None):\n",
    "# - def rollout(self, theta, random_state, use_action_noise=False,record_obs=False, obs_mean=None, obs_std=None, render=False):\n",
    "# - def rollout_batch(self, thetas, batch_size, random_state, use_action_noise=False,record_obs=False,\n",
    "#                      obs_mean=None, obs_std=None, render=False):\n",
    "\n",
    "    \n",
    "\n"
   ]
  },
  {
   "cell_type": "code",
   "execution_count": 13,
   "metadata": {},
   "outputs": [],
   "source": [
    "from es_map import behavior_map\n",
    "from es_map import submission_common "
   ]
  },
  {
   "cell_type": "code",
   "execution_count": 14,
   "metadata": {},
   "outputs": [],
   "source": [
    "config = {\n",
    "    \"BMAP_type_and_metrics\" : [\"single_map\",    # type can be: \"single_map\",\"multi_map\",\"nd_sorted_map\" \n",
    "                                [\"fitness\"]]\n",
    "}\n",
    "config[\"map_elites_grid_description\"] = submission_common.get_bc_descriptor_for_env(\"QDWalker2DBulletEnv-v0\")"
   ]
  },
  {
   "cell_type": "code",
   "execution_count": 15,
   "metadata": {},
   "outputs": [],
   "source": [
    "b_map = behavior_map.Grid_behaviour_map(config)"
   ]
  },
  {
   "cell_type": "code",
   "execution_count": 19,
   "metadata": {},
   "outputs": [],
   "source": [
    "coords = b_map.get_cell_coords(info[\"bc\"])"
   ]
  },
  {
   "cell_type": "code",
   "execution_count": 18,
   "metadata": {},
   "outputs": [
    {
     "data": {
      "text/plain": [
       "(32, 32)"
      ]
     },
     "execution_count": 18,
     "metadata": {},
     "output_type": "execute_result"
    }
   ],
   "source": [
    "b_map.data.shape"
   ]
  },
  {
   "cell_type": "code",
   "execution_count": 21,
   "metadata": {},
   "outputs": [],
   "source": [
    "a = b_map.data[coords]"
   ]
  },
  {
   "cell_type": "code",
   "execution_count": null,
   "metadata": {},
   "outputs": [],
   "source": []
  },
  {
   "cell_type": "code",
   "execution_count": null,
   "metadata": {},
   "outputs": [],
   "source": []
  },
  {
   "cell_type": "code",
   "execution_count": 2,
   "metadata": {},
   "outputs": [],
   "source": [
    "import os\n",
    "import numpy as np\n",
    "from gym.envs.mujoco import mujoco_env\n",
    "from gym import utils\n",
    "from mujoco_py.generated import const"
   ]
  },
  {
   "cell_type": "code",
   "execution_count": null,
   "metadata": {},
   "outputs": [],
   "source": []
  },
  {
   "cell_type": "code",
   "execution_count": 3,
   "metadata": {},
   "outputs": [],
   "source": [
    "from es_map.interaction import custom_gym\n",
    "from es_map.interaction import interaction"
   ]
  },
  {
   "cell_type": "code",
   "execution_count": 29,
   "metadata": {},
   "outputs": [
    {
     "name": "stdout",
     "output_type": "stream",
     "text": [
      "The behavioural desciptor is 4-dimentional and defined as proportion of feet contact time with the ground in the order ['front_left_foot', 'front_right_foot', 'left_back_foot', 'right_back_foot']\n"
     ]
    },
    {
     "data": {
      "text/plain": [
       "8"
      ]
     },
     "execution_count": 29,
     "metadata": {},
     "output_type": "execute_result"
    }
   ],
   "source": [
    "env = gym.make(\"QDAntBulletEnv-v0\");\n",
    "env.observation_space.shape[0]\n",
    "env.action_space.shape[0]"
   ]
  },
  {
   "cell_type": "code",
   "execution_count": 38,
   "metadata": {},
   "outputs": [
    {
     "data": {
      "text/plain": [
       "1000"
      ]
     },
     "execution_count": 38,
     "metadata": {},
     "output_type": "execute_result"
    }
   ],
   "source": [
    "env._max_episode_steps "
   ]
  },
  {
   "cell_type": "code",
   "execution_count": 5,
   "metadata": {},
   "outputs": [],
   "source": [
    "config = {\n",
    "    \"env_id\" : \"DamageAnt-v2\",\n",
    "    \"policy_args\" : {\n",
    "        \"init\" : \"normc\",\n",
    "        \"layers\" :[256, 256],\n",
    "       \"activation\" : 'tanh',\n",
    "       \"action_noise\" : 0.01,\n",
    "    },\n",
    "    \"env_args\" : {\n",
    "        \"use_norm_obs\" : True,\n",
    "    },\n",
    "}"
   ]
  },
  {
   "cell_type": "code",
   "execution_count": 26,
   "metadata": {},
   "outputs": [
    {
     "name": "stdout",
     "output_type": "stream",
     "text": [
      "The behavioural desciptor is 4-dimentional and defined as proportion of feet contact time with the ground in the order ['front_left_foot', 'front_right_foot', 'left_back_foot', 'right_back_foot']\n",
      "The behavioural desciptor is 4-dimentional and defined as proportion of feet contact time with the ground in the order ['front_left_foot', 'front_right_foot', 'left_back_foot', 'right_back_foot']\n",
      "The behavioural desciptor is 2-dimentional and defined as proportion of feet contact time with the ground in the order ['foot', 'foot_left']\n",
      "The behavioural desciptor is 2-dimentional and defined as proportion of feet contact time with the ground in the order ['foot', 'foot_left']\n",
      "The behavioural desciptor is 2-dimentional and defined as proportion of feet contact time with the ground in the order ['ffoot', 'bfoot']\n",
      "The behavioural desciptor is 2-dimentional and defined as proportion of feet contact time with the ground in the order ['ffoot', 'bfoot']\n",
      "The behavioural desciptor is 1-dimentional and defined as proportion of feet contact time with the ground in the order ['foot']\n",
      "The behavioural desciptor is 1-dimentional and defined as proportion of feet contact time with the ground in the order ['foot']\n"
     ]
    }
   ],
   "source": [
    "random_state = np.random.RandomState()\n",
    "env_id = \"QDAntBulletEnv-v0\"\n",
    "config[\"env_id\"] = env_id\n",
    "env = interaction.build_interaction_module(env_id,config)\n",
    "theta = env.initial_theta()\n",
    "res1 = env.rollout(theta,random_state=random_state,use_action_noise=True,record_obs=True,render=False)\n",
    "env_id = \"QDWalker2DBulletEnv-v0\"\n",
    "config[\"env_id\"] = env_id\n",
    "env = interaction.build_interaction_module(env_id,config)\n",
    "theta = env.initial_theta()\n",
    "res2 = env.rollout(theta,random_state=random_state,use_action_noise=True,record_obs=True,render=False)\n",
    "env_id = \"QDHalfCheetahBulletEnv-v0\"\n",
    "config[\"env_id\"] = env_id\n",
    "env = interaction.build_interaction_module(env_id,config)\n",
    "theta = env.initial_theta()\n",
    "res3 = env.rollout(theta,random_state=random_state,use_action_noise=True,record_obs=True,render=False)\n",
    "env_id = \"QDHopperBulletEnv-v0\"\n",
    "config[\"env_id\"] = env_id\n",
    "env = interaction.build_interaction_module(env_id,config)\n",
    "theta = env.initial_theta()\n",
    "res4 = env.rollout(theta,random_state=random_state,use_action_noise=True,record_obs=True,render=False)"
   ]
  },
  {
   "cell_type": "code",
   "execution_count": 18,
   "metadata": {},
   "outputs": [
    {
     "name": "stdout",
     "output_type": "stream",
     "text": [
      "(9.992199696611896, 19, array([0., 0., 0., 0.]), None, array([-3.8219078e+00,  1.2313026e-01,  2.0999451e+01, -8.8261841e-03,\n",
      "       -1.0444443e-03, -9.0804415e+00, -1.1636292e-02, -3.4444500e-02,\n",
      "        4.4746462e-01,  7.7356480e-02, -3.6491123e+01,  6.7976254e-01,\n",
      "       -2.1503839e+00,  4.2067491e-02,  3.7792053e+01, -5.6049669e-01,\n",
      "        3.6218110e-01,  7.3417626e-02,  4.2113384e+01, -6.0183823e-01,\n",
      "       -1.9315624e+00,  1.3490291e-01, -4.1221275e+01,  7.4535686e-01,\n",
      "        0.0000000e+00,  0.0000000e+00,  0.0000000e+00,  0.0000000e+00],\n",
      "      dtype=float32), array([1.2588540e+00, 1.0934693e-03, 2.0998907e+01, 7.0014516e-06,\n",
      "       4.5723653e-05, 5.6190162e+00, 1.0599448e-05, 1.5409662e-04,\n",
      "       1.1600185e-02, 1.4924539e-03, 6.3426380e+01, 2.7865285e-01,\n",
      "       2.2135785e-01, 1.2516867e-03, 6.8019951e+01, 2.7920029e-01,\n",
      "       7.8983065e-03, 1.1551110e-03, 8.4463646e+01, 2.9911983e-01,\n",
      "       1.8135551e-01, 1.8016640e-03, 8.0934723e+01, 3.1113508e-01,\n",
      "       0.0000000e+00, 0.0000000e+00, 0.0000000e+00, 0.0000000e+00],\n",
      "      dtype=float32), 21)\n",
      "(43.1335779039302, 35, array([0.86111111, 0.83333333]), None, array([ -4.18076   ,   0.        ,  37.        ,  -3.6685283 ,\n",
      "         0.        ,  -9.124082  ,   0.        , -11.239004  ,\n",
      "        34.888596  ,   0.26704788,  23.107662  , -11.749294  ,\n",
      "        12.023509  ,   4.550929  ,  36.546375  ,  -0.06794342,\n",
      "        22.497534  , -10.851327  ,  10.331095  ,   4.608585  ,\n",
      "        30.        ,  29.        ], dtype=float32), array([ 1.0268468 ,  0.        , 37.        ,  0.47893447,  0.        ,\n",
      "        5.2231884 ,  0.        ,  6.527689  , 32.919807  ,  0.06810593,\n",
      "       21.41809   ,  5.6525826 ,  7.6247163 ,  1.23524   , 36.110783  ,\n",
      "        0.07453545, 20.058832  ,  5.280546  ,  6.2072535 ,  1.0362602 ,\n",
      "       30.        , 29.        ], dtype=float32), 37)\n",
      "(-1356.2814801354284, 999, array([0.35 , 0.992]), None, array([-3.8214111e+02,  0.0000000e+00,  1.0010000e+03,  3.9345247e-04,\n",
      "        0.0000000e+00, -7.0552478e+00,  0.0000000e+00,  2.1505830e+02,\n",
      "       -9.7099841e+02, -2.6588047e+00,  9.8840393e+02,  4.3623967e+00,\n",
      "       -9.9763281e+02, -2.1027293e+00,  9.8948267e+02,  5.0721564e+00,\n",
      "       -9.8562793e+02, -7.4106383e+00, -8.9216652e+01, -1.2588536e+01,\n",
      "        3.5000000e+02,  9.7900000e+02,  0.0000000e+00,  9.9100000e+02,\n",
      "        0.0000000e+00,  0.0000000e+00], dtype=float32), array([1.4737099e+02, 0.0000000e+00, 1.0010000e+03, 8.2889408e-02,\n",
      "       0.0000000e+00, 2.8375618e+00, 0.0000000e+00, 4.7032707e+01,\n",
      "       9.4610797e+02, 1.2881879e+00, 9.8527612e+02, 2.6966703e+00,\n",
      "       9.9704730e+02, 1.3032982e+00, 9.8531036e+02, 2.1299748e+00,\n",
      "       9.8546082e+02, 5.9127254e+00, 2.3612347e+02, 2.8623095e+01,\n",
      "       3.5000000e+02, 9.7900000e+02, 0.0000000e+00, 9.9100000e+02,\n",
      "       0.0000000e+00, 0.0000000e+00], dtype=float32), 1001)\n",
      "(51.9292591240619, 31, array([0.96875]), None, array([-1.7868524,  0.       , 33.       ,  0.6804604,  0.       ,\n",
      "       -3.7407198,  0.       , -9.603895 , 23.175304 , -7.723764 ,\n",
      "       31.904938 , -1.0188026,  3.8363404,  2.7702787, 30.       ],\n",
      "      dtype=float32), array([1.6960537e-01, 0.0000000e+00, 3.3000000e+01, 2.6269820e-02,\n",
      "       0.0000000e+00, 1.0107154e+00, 0.0000000e+00, 6.1273203e+00,\n",
      "       1.9037506e+01, 2.8648779e+00, 3.0873747e+01, 1.3426085e-01,\n",
      "       1.2958058e+00, 7.9448456e-01, 3.0000000e+01], dtype=float32), 33)\n"
     ]
    }
   ],
   "source": [
    "print(res1)\n",
    "print(res2)\n",
    "print(res3)\n",
    "print(res4)"
   ]
  },
  {
   "cell_type": "code",
   "execution_count": 12,
   "metadata": {},
   "outputs": [],
   "source": [
    "#env = interaction.Ant(config)"
   ]
  },
  {
   "cell_type": "code",
   "execution_count": 8,
   "metadata": {},
   "outputs": [],
   "source": [
    "env.model\n",
    "theta = env.initial_theta()"
   ]
  },
  {
   "cell_type": "code",
   "execution_count": 9,
   "metadata": {},
   "outputs": [
    {
     "name": "stdout",
     "output_type": "stream",
     "text": [
      "CPU times: user 1.81 s, sys: 2.06 ms, total: 1.81 s\n",
      "Wall time: 1.81 s\n"
     ]
    },
    {
     "data": {
      "text/plain": [
       "(1002.7926287039173,\n",
       " 999,\n",
       " array([0.696, 0.872, 0.878, 0.685]),\n",
       " 0.16214405193211767,\n",
       " array([ 3.83630895e+02,  9.99879897e+02, -4.64515239e-01,  4.63804442e-02,\n",
       "         2.53708341e+01, -2.10716422e+02,  5.39636060e+02,  6.30256248e+01,\n",
       "        -5.45654732e+02,  8.08990853e+01, -5.39261531e+02,  3.89313220e+02,\n",
       "         5.39880462e+02,  3.36159736e+00, -6.46247570e+00, -9.91758682e+00,\n",
       "         5.32591530e+00,  3.47893341e+00, -1.56037068e+00, -5.38921411e+00,\n",
       "         6.22404437e+00,  4.64220721e+00, -9.06186889e+00,  1.01964704e+00,\n",
       "        -6.56291014e+00,  1.18464267e+01,  8.16796872e+00]),\n",
       " array([1.48808271e+02, 9.98762946e+02, 6.11395659e-02, 5.63075221e-02,\n",
       "        2.11960733e+00, 6.24043265e+01, 2.95555480e+02, 2.07963441e+01,\n",
       "        3.05010891e+02, 2.89559290e+01, 2.94961600e+02, 1.67093749e+02,\n",
       "        2.96450401e+02, 4.31112957e+00, 4.03917614e+00, 7.93187310e+00,\n",
       "        8.01182872e+00, 6.15583165e+00, 5.49347667e+00, 1.45161791e+01,\n",
       "        2.21957798e+02, 1.25629148e+01, 1.92254750e+02, 1.61200007e+01,\n",
       "        2.02579916e+02, 1.98489638e+01, 1.89650044e+02]),\n",
       " 1001)"
      ]
     },
     "execution_count": 9,
     "metadata": {},
     "output_type": "execute_result"
    }
   ],
   "source": [
    "%%time\n",
    "\n",
    "\n",
    "env.rollout(theta,random_state=random_state,use_action_noise=False,record_obs=False,render=False)\n",
    "env.rollout(theta,random_state=random_state,use_action_noise=False,record_obs=True,render=False)\n",
    "env.rollout(theta,random_state=random_state,use_action_noise=True,record_obs=False,render=False)\n",
    "env.rollout(theta,random_state=random_state,use_action_noise=True,record_obs=True,render=False)\n",
    "#theta, random_state, eval=False, obs_mean=None, obs_std=None, render=False"
   ]
  },
  {
   "cell_type": "code",
   "execution_count": 10,
   "metadata": {},
   "outputs": [
    {
     "name": "stdout",
     "output_type": "stream",
     "text": [
      "(27, 256)\n",
      "(256, 256)\n",
      "(256, 8)\n"
     ]
    }
   ],
   "source": [
    "for a in env.model.weight:\n",
    "    print(a.shape)"
   ]
  },
  {
   "cell_type": "code",
   "execution_count": 28,
   "metadata": {},
   "outputs": [],
   "source": []
  },
  {
   "cell_type": "code",
   "execution_count": null,
   "metadata": {},
   "outputs": [],
   "source": []
  },
  {
   "cell_type": "code",
   "execution_count": 81,
   "metadata": {},
   "outputs": [],
   "source": [
    "a = np.random.RandomState()"
   ]
  },
  {
   "cell_type": "code",
   "execution_count": 17,
   "metadata": {},
   "outputs": [],
   "source": [
    "a.seed(5)"
   ]
  },
  {
   "cell_type": "code",
   "execution_count": 82,
   "metadata": {},
   "outputs": [
    {
     "data": {
      "text/plain": [
       "0.44729995513369003"
      ]
     },
     "execution_count": 82,
     "metadata": {},
     "output_type": "execute_result"
    }
   ],
   "source": [
    "a.rand()"
   ]
  },
  {
   "cell_type": "code",
   "execution_count": null,
   "metadata": {},
   "outputs": [],
   "source": []
  },
  {
   "cell_type": "code",
   "execution_count": null,
   "metadata": {},
   "outputs": [],
   "source": []
  },
  {
   "cell_type": "code",
   "execution_count": 19,
   "metadata": {},
   "outputs": [
    {
     "ename": "EasyProcessError",
     "evalue": "start error <EasyProcess cmd_param=['Xvfb', '-help'] cmd=['Xvfb', '-help'] oserror=[Errno 2] No such file or directory: 'Xvfb' return_code=None stdout=\"None\" stderr=\"None\" timeout_happened=False>",
     "output_type": "error",
     "traceback": [
      "\u001b[0;31m---------------------------------------------------------------------------\u001b[0m",
      "\u001b[0;31mFileNotFoundError\u001b[0m                         Traceback (most recent call last)",
      "\u001b[0;32m/scratch/ak1774/vargpu_env/lib/python3.8/site-packages/easyprocess/__init__.py\u001b[0m in \u001b[0;36mstart\u001b[0;34m(self)\u001b[0m\n\u001b[1;32m    167\u001b[0m         \u001b[0;32mtry\u001b[0m\u001b[0;34m:\u001b[0m\u001b[0;34m\u001b[0m\u001b[0;34m\u001b[0m\u001b[0m\n\u001b[0;32m--> 168\u001b[0;31m             self.popen = subprocess.Popen(\n\u001b[0m\u001b[1;32m    169\u001b[0m                 \u001b[0mcmd\u001b[0m\u001b[0;34m,\u001b[0m \u001b[0mstdout\u001b[0m\u001b[0;34m=\u001b[0m\u001b[0mstdout\u001b[0m\u001b[0;34m,\u001b[0m \u001b[0mstderr\u001b[0m\u001b[0;34m=\u001b[0m\u001b[0mstderr\u001b[0m\u001b[0;34m,\u001b[0m \u001b[0mcwd\u001b[0m\u001b[0;34m=\u001b[0m\u001b[0mself\u001b[0m\u001b[0;34m.\u001b[0m\u001b[0mcwd\u001b[0m\u001b[0;34m,\u001b[0m \u001b[0menv\u001b[0m\u001b[0;34m=\u001b[0m\u001b[0mself\u001b[0m\u001b[0;34m.\u001b[0m\u001b[0menv\u001b[0m\u001b[0;34m,\u001b[0m\u001b[0;34m\u001b[0m\u001b[0;34m\u001b[0m\u001b[0m\n",
      "\u001b[0;32m/usr/lib/python3.8/subprocess.py\u001b[0m in \u001b[0;36m__init__\u001b[0;34m(self, args, bufsize, executable, stdin, stdout, stderr, preexec_fn, close_fds, shell, cwd, env, universal_newlines, startupinfo, creationflags, restore_signals, start_new_session, pass_fds, encoding, errors, text)\u001b[0m\n\u001b[1;32m    857\u001b[0m \u001b[0;34m\u001b[0m\u001b[0m\n\u001b[0;32m--> 858\u001b[0;31m             self._execute_child(args, executable, preexec_fn, close_fds,\n\u001b[0m\u001b[1;32m    859\u001b[0m                                 \u001b[0mpass_fds\u001b[0m\u001b[0;34m,\u001b[0m \u001b[0mcwd\u001b[0m\u001b[0;34m,\u001b[0m \u001b[0menv\u001b[0m\u001b[0;34m,\u001b[0m\u001b[0;34m\u001b[0m\u001b[0;34m\u001b[0m\u001b[0m\n",
      "\u001b[0;32m/usr/lib/python3.8/subprocess.py\u001b[0m in \u001b[0;36m_execute_child\u001b[0;34m(self, args, executable, preexec_fn, close_fds, pass_fds, cwd, env, startupinfo, creationflags, shell, p2cread, p2cwrite, c2pread, c2pwrite, errread, errwrite, restore_signals, start_new_session)\u001b[0m\n\u001b[1;32m   1703\u001b[0m                         \u001b[0merr_msg\u001b[0m \u001b[0;34m=\u001b[0m \u001b[0mos\u001b[0m\u001b[0;34m.\u001b[0m\u001b[0mstrerror\u001b[0m\u001b[0;34m(\u001b[0m\u001b[0merrno_num\u001b[0m\u001b[0;34m)\u001b[0m\u001b[0;34m\u001b[0m\u001b[0;34m\u001b[0m\u001b[0m\n\u001b[0;32m-> 1704\u001b[0;31m                     \u001b[0;32mraise\u001b[0m \u001b[0mchild_exception_type\u001b[0m\u001b[0;34m(\u001b[0m\u001b[0merrno_num\u001b[0m\u001b[0;34m,\u001b[0m \u001b[0merr_msg\u001b[0m\u001b[0;34m,\u001b[0m \u001b[0merr_filename\u001b[0m\u001b[0;34m)\u001b[0m\u001b[0;34m\u001b[0m\u001b[0;34m\u001b[0m\u001b[0m\n\u001b[0m\u001b[1;32m   1705\u001b[0m                 \u001b[0;32mraise\u001b[0m \u001b[0mchild_exception_type\u001b[0m\u001b[0;34m(\u001b[0m\u001b[0merr_msg\u001b[0m\u001b[0;34m)\u001b[0m\u001b[0;34m\u001b[0m\u001b[0;34m\u001b[0m\u001b[0m\n",
      "\u001b[0;31mFileNotFoundError\u001b[0m: [Errno 2] No such file or directory: 'Xvfb'",
      "\nDuring handling of the above exception, another exception occurred:\n",
      "\u001b[0;31mEasyProcessError\u001b[0m                          Traceback (most recent call last)",
      "\u001b[0;32m<ipython-input-19-bc04c6087963>\u001b[0m in \u001b[0;36m<module>\u001b[0;34m\u001b[0m\n\u001b[1;32m      1\u001b[0m \u001b[0;32mfrom\u001b[0m \u001b[0mpyvirtualdisplay\u001b[0m \u001b[0;32mimport\u001b[0m \u001b[0mDisplay\u001b[0m\u001b[0;34m\u001b[0m\u001b[0;34m\u001b[0m\u001b[0m\n\u001b[1;32m      2\u001b[0m \u001b[0;34m\u001b[0m\u001b[0m\n\u001b[0;32m----> 3\u001b[0;31m \u001b[0mvirtual_display\u001b[0m \u001b[0;34m=\u001b[0m \u001b[0mDisplay\u001b[0m\u001b[0;34m(\u001b[0m\u001b[0mvisible\u001b[0m\u001b[0;34m=\u001b[0m\u001b[0;36m0\u001b[0m\u001b[0;34m,\u001b[0m \u001b[0msize\u001b[0m\u001b[0;34m=\u001b[0m\u001b[0;34m(\u001b[0m\u001b[0;36m1400\u001b[0m\u001b[0;34m,\u001b[0m \u001b[0;36m900\u001b[0m\u001b[0;34m)\u001b[0m\u001b[0;34m)\u001b[0m\u001b[0;34m\u001b[0m\u001b[0;34m\u001b[0m\u001b[0m\n\u001b[0m\u001b[1;32m      4\u001b[0m \u001b[0mvirtual_display\u001b[0m\u001b[0;34m.\u001b[0m\u001b[0mstart\u001b[0m\u001b[0;34m(\u001b[0m\u001b[0;34m)\u001b[0m\u001b[0;34m\u001b[0m\u001b[0;34m\u001b[0m\u001b[0m\n",
      "\u001b[0;32m/scratch/ak1774/vargpu_env/lib/python3.8/site-packages/pyvirtualdisplay/display.py\u001b[0m in \u001b[0;36m__init__\u001b[0;34m(self, backend, visible, size, color_depth, bgcolor, use_xauth, retries, extra_args, manage_global_env, **kwargs)\u001b[0m\n\u001b[1;32m     52\u001b[0m             \u001b[0;32mraise\u001b[0m \u001b[0mValueError\u001b[0m\u001b[0;34m(\u001b[0m\u001b[0;34m\"unknown backend: %s\"\u001b[0m \u001b[0;34m%\u001b[0m \u001b[0mself\u001b[0m\u001b[0;34m.\u001b[0m\u001b[0m_backend\u001b[0m\u001b[0;34m)\u001b[0m\u001b[0;34m\u001b[0m\u001b[0;34m\u001b[0m\u001b[0m\n\u001b[1;32m     53\u001b[0m \u001b[0;34m\u001b[0m\u001b[0m\n\u001b[0;32m---> 54\u001b[0;31m         self._obj = cls(\n\u001b[0m\u001b[1;32m     55\u001b[0m             \u001b[0msize\u001b[0m\u001b[0;34m=\u001b[0m\u001b[0msize\u001b[0m\u001b[0;34m,\u001b[0m\u001b[0;34m\u001b[0m\u001b[0;34m\u001b[0m\u001b[0m\n\u001b[1;32m     56\u001b[0m             \u001b[0mcolor_depth\u001b[0m\u001b[0;34m=\u001b[0m\u001b[0mcolor_depth\u001b[0m\u001b[0;34m,\u001b[0m\u001b[0;34m\u001b[0m\u001b[0;34m\u001b[0m\u001b[0m\n",
      "\u001b[0;32m/scratch/ak1774/vargpu_env/lib/python3.8/site-packages/pyvirtualdisplay/xvfb.py\u001b[0m in \u001b[0;36m__init__\u001b[0;34m(self, size, color_depth, bgcolor, use_xauth, fbdir, dpi, retries, extra_args, manage_global_env)\u001b[0m\n\u001b[1;32m     42\u001b[0m         \u001b[0mself\u001b[0m\u001b[0;34m.\u001b[0m\u001b[0m_dpi\u001b[0m \u001b[0;34m=\u001b[0m \u001b[0mdpi\u001b[0m\u001b[0;34m\u001b[0m\u001b[0;34m\u001b[0m\u001b[0m\n\u001b[1;32m     43\u001b[0m \u001b[0;34m\u001b[0m\u001b[0m\n\u001b[0;32m---> 44\u001b[0;31m         AbstractDisplay.__init__(\n\u001b[0m\u001b[1;32m     45\u001b[0m             \u001b[0mself\u001b[0m\u001b[0;34m,\u001b[0m\u001b[0;34m\u001b[0m\u001b[0;34m\u001b[0m\u001b[0m\n\u001b[1;32m     46\u001b[0m             \u001b[0mPROGRAM\u001b[0m\u001b[0;34m,\u001b[0m\u001b[0;34m\u001b[0m\u001b[0;34m\u001b[0m\u001b[0m\n",
      "\u001b[0;32m/scratch/ak1774/vargpu_env/lib/python3.8/site-packages/pyvirtualdisplay/abstractdisplay.py\u001b[0m in \u001b[0;36m__init__\u001b[0;34m(self, program, use_xauth, retries, extra_args, manage_global_env)\u001b[0m\n\u001b[1;32m     86\u001b[0m         \u001b[0mself\u001b[0m\u001b[0;34m.\u001b[0m\u001b[0m_retries_current\u001b[0m \u001b[0;34m=\u001b[0m \u001b[0;36m0\u001b[0m\u001b[0;34m\u001b[0m\u001b[0;34m\u001b[0m\u001b[0m\n\u001b[1;32m     87\u001b[0m \u001b[0;34m\u001b[0m\u001b[0m\n\u001b[0;32m---> 88\u001b[0;31m         \u001b[0mhelptext\u001b[0m \u001b[0;34m=\u001b[0m \u001b[0mget_helptext\u001b[0m\u001b[0;34m(\u001b[0m\u001b[0mprogram\u001b[0m\u001b[0;34m)\u001b[0m\u001b[0;34m\u001b[0m\u001b[0;34m\u001b[0m\u001b[0m\n\u001b[0m\u001b[1;32m     89\u001b[0m         \u001b[0mself\u001b[0m\u001b[0;34m.\u001b[0m\u001b[0m_has_displayfd\u001b[0m \u001b[0;34m=\u001b[0m \u001b[0;34m\"-displayfd\"\u001b[0m \u001b[0;32min\u001b[0m \u001b[0mhelptext\u001b[0m\u001b[0;34m\u001b[0m\u001b[0;34m\u001b[0m\u001b[0m\n\u001b[1;32m     90\u001b[0m         \u001b[0;32mif\u001b[0m \u001b[0;32mnot\u001b[0m \u001b[0mself\u001b[0m\u001b[0;34m.\u001b[0m\u001b[0m_has_displayfd\u001b[0m\u001b[0;34m:\u001b[0m\u001b[0;34m\u001b[0m\u001b[0;34m\u001b[0m\u001b[0m\n",
      "\u001b[0;32m/scratch/ak1774/vargpu_env/lib/python3.8/site-packages/pyvirtualdisplay/util.py\u001b[0m in \u001b[0;36mget_helptext\u001b[0;34m(program)\u001b[0m\n\u001b[1;32m      8\u001b[0m     \u001b[0mp\u001b[0m\u001b[0;34m.\u001b[0m\u001b[0menable_stdout_log\u001b[0m \u001b[0;34m=\u001b[0m \u001b[0;32mFalse\u001b[0m\u001b[0;34m\u001b[0m\u001b[0;34m\u001b[0m\u001b[0m\n\u001b[1;32m      9\u001b[0m     \u001b[0mp\u001b[0m\u001b[0;34m.\u001b[0m\u001b[0menable_stderr_log\u001b[0m \u001b[0;34m=\u001b[0m \u001b[0;32mFalse\u001b[0m\u001b[0;34m\u001b[0m\u001b[0;34m\u001b[0m\u001b[0m\n\u001b[0;32m---> 10\u001b[0;31m     \u001b[0mp\u001b[0m\u001b[0;34m.\u001b[0m\u001b[0mcall\u001b[0m\u001b[0;34m(\u001b[0m\u001b[0;34m)\u001b[0m\u001b[0;34m\u001b[0m\u001b[0;34m\u001b[0m\u001b[0m\n\u001b[0m\u001b[1;32m     11\u001b[0m     \u001b[0mhelptext\u001b[0m \u001b[0;34m=\u001b[0m \u001b[0mp\u001b[0m\u001b[0;34m.\u001b[0m\u001b[0mstderr\u001b[0m\u001b[0;34m\u001b[0m\u001b[0;34m\u001b[0m\u001b[0m\n\u001b[1;32m     12\u001b[0m     \u001b[0;32mreturn\u001b[0m \u001b[0mhelptext\u001b[0m\u001b[0;34m\u001b[0m\u001b[0;34m\u001b[0m\u001b[0m\n",
      "\u001b[0;32m/scratch/ak1774/vargpu_env/lib/python3.8/site-packages/easyprocess/__init__.py\u001b[0m in \u001b[0;36mcall\u001b[0;34m(self, timeout)\u001b[0m\n\u001b[1;32m    139\u001b[0m \u001b[0;34m\u001b[0m\u001b[0m\n\u001b[1;32m    140\u001b[0m         \"\"\"\n\u001b[0;32m--> 141\u001b[0;31m         \u001b[0mself\u001b[0m\u001b[0;34m.\u001b[0m\u001b[0mstart\u001b[0m\u001b[0;34m(\u001b[0m\u001b[0;34m)\u001b[0m\u001b[0;34m.\u001b[0m\u001b[0mwait\u001b[0m\u001b[0;34m(\u001b[0m\u001b[0mtimeout\u001b[0m\u001b[0;34m=\u001b[0m\u001b[0mtimeout\u001b[0m\u001b[0;34m)\u001b[0m\u001b[0;34m\u001b[0m\u001b[0;34m\u001b[0m\u001b[0m\n\u001b[0m\u001b[1;32m    142\u001b[0m         \u001b[0;32mif\u001b[0m \u001b[0mself\u001b[0m\u001b[0;34m.\u001b[0m\u001b[0mis_alive\u001b[0m\u001b[0;34m(\u001b[0m\u001b[0;34m)\u001b[0m\u001b[0;34m:\u001b[0m\u001b[0;34m\u001b[0m\u001b[0;34m\u001b[0m\u001b[0m\n\u001b[1;32m    143\u001b[0m             \u001b[0mself\u001b[0m\u001b[0;34m.\u001b[0m\u001b[0mstop\u001b[0m\u001b[0;34m(\u001b[0m\u001b[0;34m)\u001b[0m\u001b[0;34m\u001b[0m\u001b[0;34m\u001b[0m\u001b[0m\n",
      "\u001b[0;32m/scratch/ak1774/vargpu_env/lib/python3.8/site-packages/easyprocess/__init__.py\u001b[0m in \u001b[0;36mstart\u001b[0;34m(self)\u001b[0m\n\u001b[1;32m    172\u001b[0m             \u001b[0mlog\u001b[0m\u001b[0;34m.\u001b[0m\u001b[0mdebug\u001b[0m\u001b[0;34m(\u001b[0m\u001b[0;34m\"OSError exception: %s\"\u001b[0m\u001b[0;34m,\u001b[0m \u001b[0moserror\u001b[0m\u001b[0;34m)\u001b[0m\u001b[0;34m\u001b[0m\u001b[0;34m\u001b[0m\u001b[0m\n\u001b[1;32m    173\u001b[0m             \u001b[0mself\u001b[0m\u001b[0;34m.\u001b[0m\u001b[0moserror\u001b[0m \u001b[0;34m=\u001b[0m \u001b[0moserror\u001b[0m\u001b[0;34m\u001b[0m\u001b[0;34m\u001b[0m\u001b[0m\n\u001b[0;32m--> 174\u001b[0;31m             \u001b[0;32mraise\u001b[0m \u001b[0mEasyProcessError\u001b[0m\u001b[0;34m(\u001b[0m\u001b[0mself\u001b[0m\u001b[0;34m,\u001b[0m \u001b[0;34m\"start error\"\u001b[0m\u001b[0;34m)\u001b[0m\u001b[0;34m\u001b[0m\u001b[0;34m\u001b[0m\u001b[0m\n\u001b[0m\u001b[1;32m    175\u001b[0m         \u001b[0mself\u001b[0m\u001b[0;34m.\u001b[0m\u001b[0mis_started\u001b[0m \u001b[0;34m=\u001b[0m \u001b[0;32mTrue\u001b[0m\u001b[0;34m\u001b[0m\u001b[0;34m\u001b[0m\u001b[0m\n\u001b[1;32m    176\u001b[0m         \u001b[0mlog\u001b[0m\u001b[0;34m.\u001b[0m\u001b[0mdebug\u001b[0m\u001b[0;34m(\u001b[0m\u001b[0;34m\"process was started (pid=%s)\"\u001b[0m\u001b[0;34m,\u001b[0m \u001b[0mself\u001b[0m\u001b[0;34m.\u001b[0m\u001b[0mpid\u001b[0m\u001b[0;34m)\u001b[0m\u001b[0;34m\u001b[0m\u001b[0;34m\u001b[0m\u001b[0m\n",
      "\u001b[0;31mEasyProcessError\u001b[0m: start error <EasyProcess cmd_param=['Xvfb', '-help'] cmd=['Xvfb', '-help'] oserror=[Errno 2] No such file or directory: 'Xvfb' return_code=None stdout=\"None\" stderr=\"None\" timeout_happened=False>"
     ]
    }
   ],
   "source": [
    "from pyvirtualdisplay import Display\n",
    "\n",
    "virtual_display = Display(visible=0, size=(1400, 900))\n",
    "virtual_display.start()"
   ]
  },
  {
   "cell_type": "code",
   "execution_count": 34,
   "metadata": {},
   "outputs": [],
   "source": [
    "a = np.random.randint(0,4,5)"
   ]
  },
  {
   "cell_type": "code",
   "execution_count": 37,
   "metadata": {},
   "outputs": [
    {
     "data": {
      "text/plain": [
       "5"
      ]
     },
     "execution_count": 37,
     "metadata": {},
     "output_type": "execute_result"
    }
   ],
   "source": [
    "a.size"
   ]
  },
  {
   "cell_type": "code",
   "execution_count": 42,
   "metadata": {},
   "outputs": [
    {
     "data": {
      "text/plain": [
       "[0, 10]"
      ]
     },
     "execution_count": 42,
     "metadata": {},
     "output_type": "execute_result"
    }
   ],
   "source": [
    "list(range(0,11,10))"
   ]
  },
  {
   "cell_type": "code",
   "execution_count": 39,
   "metadata": {},
   "outputs": [],
   "source": [
    "a = list(range(15))"
   ]
  },
  {
   "cell_type": "code",
   "execution_count": 43,
   "metadata": {},
   "outputs": [
    {
     "data": {
      "text/plain": [
       "[10, 11, 12, 13, 14]"
      ]
     },
     "execution_count": 43,
     "metadata": {},
     "output_type": "execute_result"
    }
   ],
   "source": [
    "a[10:20]"
   ]
  },
  {
   "cell_type": "code",
   "execution_count": 2,
   "metadata": {},
   "outputs": [],
   "source": [
    "from dask.distributed import Client\n",
    "import dask"
   ]
  },
  {
   "cell_type": "code",
   "execution_count": 3,
   "metadata": {},
   "outputs": [],
   "source": [
    "import os\n",
    "os.chdir(\"/scratch/ak1774/runs\")"
   ]
  },
  {
   "cell_type": "code",
   "execution_count": 4,
   "metadata": {},
   "outputs": [],
   "source": [
    "client = Client()"
   ]
  },
  {
   "cell_type": "code",
   "execution_count": 53,
   "metadata": {},
   "outputs": [],
   "source": [
    "dask.config.get(\"temporary_directory\")"
   ]
  },
  {
   "cell_type": "code",
   "execution_count": 10,
   "metadata": {},
   "outputs": [],
   "source": [
    "central_theta = np.zeros(1000000)"
   ]
  },
  {
   "cell_type": "code",
   "execution_count": 11,
   "metadata": {},
   "outputs": [],
   "source": [
    "indicies = range(100)\n"
   ]
  },
  {
   "cell_type": "code",
   "execution_count": null,
   "metadata": {},
   "outputs": [],
   "source": []
  },
  {
   "cell_type": "code",
   "execution_count": 8,
   "metadata": {},
   "outputs": [],
   "source": [
    "def func(i,c):\n",
    "    from es_map.interaction import interaction\n",
    "    return np.sum(c)/i\n",
    "\n",
    "def func2(i,c,config):\n",
    "    from es_map.interaction import interaction\n",
    "    return np.sum(c)/i"
   ]
  },
  {
   "cell_type": "code",
   "execution_count": 23,
   "metadata": {},
   "outputs": [
    {
     "name": "stdout",
     "output_type": "stream",
     "text": [
      "CPU times: user 199 ms, sys: 10.9 ms, total: 210 ms\n",
      "Wall time: 219 ms\n"
     ]
    }
   ],
   "source": [
    "%%time\n",
    "central_theta_f = client.scatter(central_theta,broadcast=True)\n",
    "res = client.map(func,indicies,c=central_theta_f)\n",
    "res = client.gather(res)"
   ]
  },
  {
   "cell_type": "code",
   "execution_count": 24,
   "metadata": {},
   "outputs": [
    {
     "name": "stdout",
     "output_type": "stream",
     "text": [
      "CPU times: user 238 ms, sys: 6.19 ms, total: 244 ms\n",
      "Wall time: 245 ms\n"
     ]
    }
   ],
   "source": [
    "%%time\n",
    "central_theta_f = client.scatter(central_theta,broadcast=True)\n",
    "res = client.map(func2,indicies,c=central_theta_f,config=config)\n",
    "res = client.gather(res)"
   ]
  },
  {
   "cell_type": "code",
   "execution_count": 25,
   "metadata": {},
   "outputs": [
    {
     "name": "stdout",
     "output_type": "stream",
     "text": [
      "CPU times: user 1.31 s, sys: 49.8 ms, total: 1.36 s\n",
      "Wall time: 1.2 s\n"
     ]
    }
   ],
   "source": [
    "%%time\n",
    "res = client.map(func,indicies,c=central_theta)\n",
    "res = client.gather(res)"
   ]
  },
  {
   "cell_type": "code",
   "execution_count": 61,
   "metadata": {},
   "outputs": [],
   "source": [
    "res = client.gather(res)"
   ]
  },
  {
   "cell_type": "code",
   "execution_count": null,
   "metadata": {},
   "outputs": [],
   "source": []
  },
  {
   "cell_type": "code",
   "execution_count": null,
   "metadata": {},
   "outputs": [],
   "source": [
    "np.concatenate"
   ]
  },
  {
   "cell_type": "code",
   "execution_count": 75,
   "metadata": {},
   "outputs": [
    {
     "data": {
      "text/plain": [
       "['/home/userfs/a/ak1774/workspace/evolvability_map_elites/evolvability_map_elites',\n",
       " '/usr/lib/python38.zip',\n",
       " '/usr/lib/python3.8',\n",
       " '/usr/lib/python3.8/lib-dynload',\n",
       " '',\n",
       " '/scratch/ak1774/vargpu_env/lib/python3.8/site-packages',\n",
       " '/scratch/ak1774/vargpu_env/lib/python3.8/site-packages/IPython/extensions',\n",
       " '/home/userfs/a/ak1774/.ipython']"
      ]
     },
     "execution_count": 75,
     "metadata": {},
     "output_type": "execute_result"
    }
   ],
   "source": [
    "import sys\n",
    "sys.path"
   ]
  },
  {
   "cell_type": "code",
   "execution_count": null,
   "metadata": {},
   "outputs": [],
   "source": []
  },
  {
   "cell_type": "code",
   "execution_count": null,
   "metadata": {},
   "outputs": [],
   "source": []
  },
  {
   "cell_type": "code",
   "execution_count": null,
   "metadata": {},
   "outputs": [],
   "source": []
  },
  {
   "cell_type": "code",
   "execution_count": 1,
   "metadata": {},
   "outputs": [],
   "source": [
    "import os\n",
    "os.environ[\"MKL_NUM_THREADS\"] = \"1\" \n",
    "os.environ[\"NUMEXPR_NUM_THREADS\"] = \"1\" \n",
    "os.environ[\"OMP_NUM_THREADS\"] = \"1\" \n"
   ]
  },
  {
   "cell_type": "code",
   "execution_count": 2,
   "metadata": {},
   "outputs": [
    {
     "data": {
      "text/plain": [
       "{'tcp://127.0.0.1:32827': None,\n",
       " 'tcp://127.0.0.1:33009': None,\n",
       " 'tcp://127.0.0.1:33091': None,\n",
       " 'tcp://127.0.0.1:33259': None,\n",
       " 'tcp://127.0.0.1:33417': None,\n",
       " 'tcp://127.0.0.1:33469': None,\n",
       " 'tcp://127.0.0.1:33753': None,\n",
       " 'tcp://127.0.0.1:34043': None,\n",
       " 'tcp://127.0.0.1:34381': None,\n",
       " 'tcp://127.0.0.1:34851': None,\n",
       " 'tcp://127.0.0.1:35165': None,\n",
       " 'tcp://127.0.0.1:35195': None,\n",
       " 'tcp://127.0.0.1:35253': None,\n",
       " 'tcp://127.0.0.1:35519': None,\n",
       " 'tcp://127.0.0.1:35701': None,\n",
       " 'tcp://127.0.0.1:35833': None,\n",
       " 'tcp://127.0.0.1:36841': None,\n",
       " 'tcp://127.0.0.1:37405': None,\n",
       " 'tcp://127.0.0.1:37791': None,\n",
       " 'tcp://127.0.0.1:37817': None,\n",
       " 'tcp://127.0.0.1:37837': None,\n",
       " 'tcp://127.0.0.1:38145': None,\n",
       " 'tcp://127.0.0.1:38151': None,\n",
       " 'tcp://127.0.0.1:38495': None,\n",
       " 'tcp://127.0.0.1:38677': None,\n",
       " 'tcp://127.0.0.1:39497': None,\n",
       " 'tcp://127.0.0.1:40019': None,\n",
       " 'tcp://127.0.0.1:40233': None,\n",
       " 'tcp://127.0.0.1:40241': None,\n",
       " 'tcp://127.0.0.1:40591': None,\n",
       " 'tcp://127.0.0.1:40837': None,\n",
       " 'tcp://127.0.0.1:40977': None,\n",
       " 'tcp://127.0.0.1:41005': None,\n",
       " 'tcp://127.0.0.1:41111': None,\n",
       " 'tcp://127.0.0.1:41153': None,\n",
       " 'tcp://127.0.0.1:41169': None,\n",
       " 'tcp://127.0.0.1:41193': None,\n",
       " 'tcp://127.0.0.1:41385': None,\n",
       " 'tcp://127.0.0.1:41503': None,\n",
       " 'tcp://127.0.0.1:41659': None,\n",
       " 'tcp://127.0.0.1:41681': None,\n",
       " 'tcp://127.0.0.1:42011': None,\n",
       " 'tcp://127.0.0.1:42125': None,\n",
       " 'tcp://127.0.0.1:42339': None,\n",
       " 'tcp://127.0.0.1:42343': None,\n",
       " 'tcp://127.0.0.1:43221': None,\n",
       " 'tcp://127.0.0.1:43545': None,\n",
       " 'tcp://127.0.0.1:43591': None,\n",
       " 'tcp://127.0.0.1:43733': None,\n",
       " 'tcp://127.0.0.1:43779': None,\n",
       " 'tcp://127.0.0.1:43963': None,\n",
       " 'tcp://127.0.0.1:43991': None,\n",
       " 'tcp://127.0.0.1:44183': None,\n",
       " 'tcp://127.0.0.1:44589': None,\n",
       " 'tcp://127.0.0.1:44837': None,\n",
       " 'tcp://127.0.0.1:44891': None,\n",
       " 'tcp://127.0.0.1:44911': None,\n",
       " 'tcp://127.0.0.1:45069': None,\n",
       " 'tcp://127.0.0.1:45375': None,\n",
       " 'tcp://127.0.0.1:45973': None}"
      ]
     },
     "execution_count": 2,
     "metadata": {},
     "output_type": "execute_result"
    }
   ],
   "source": [
    "from dask.distributed import Client\n",
    "import dask\n",
    "import os\n",
    "os.chdir(\"/scratch/ak1774/runs\")\n",
    "client = Client(n_workers=60, threads_per_worker=1)\n",
    "client\n",
    "\n",
    "def set_up_worker():\n",
    "    import os\n",
    "    os.environ[\"MKL_NUM_THREADS\"] = \"1\" \n",
    "    os.environ[\"NUMEXPR_NUM_THREADS\"] = \"1\" \n",
    "    os.environ[\"OMP_NUM_THREADS\"] = \"1\" \n",
    "    \n",
    "client.run(set_up_worker)"
   ]
  },
  {
   "cell_type": "code",
   "execution_count": 3,
   "metadata": {},
   "outputs": [],
   "source": [
    "import numpy as np\n",
    "import matplotlib.pyplot as plt\n",
    "import torch\n",
    "\n",
    "from es_map import es_update\n",
    "from es_map.interaction import interaction"
   ]
  },
  {
   "cell_type": "code",
   "execution_count": 4,
   "metadata": {},
   "outputs": [],
   "source": [
    "config = {\n",
    "    \"env_id\" : \"DamageAnt-v2\",\n",
    "    \"policy_args\" : {\n",
    "        \"init\" : \"normc\",\n",
    "        \"layers\" :[256, 256],\n",
    "       \"activation\" : 'tanh',\n",
    "       \"action_noise\" : 0.01,\n",
    "    },\n",
    "    \"env_args\" : {\n",
    "        \"use_norm_obs\" : True,\n",
    "    },\n",
    "    \"ES_popsize\" : 2000,\n",
    "    \"ES_sigma\" : 0.01,\n",
    "    \n",
    "    # DISTRIBUTED SETTING\n",
    "    \"ES_EVALUATION_BATCH_SIZE\" : 10,\n",
    "}"
   ]
  },
  {
   "cell_type": "code",
   "execution_count": 5,
   "metadata": {},
   "outputs": [],
   "source": [
    "env = interaction.build_interaction_module(config[\"env_id\"],config)"
   ]
  },
  {
   "cell_type": "code",
   "execution_count": 6,
   "metadata": {},
   "outputs": [],
   "source": [
    "theta = env.initial_theta()"
   ]
  },
  {
   "cell_type": "code",
   "execution_count": 11,
   "metadata": {},
   "outputs": [
    {
     "name": "stdout",
     "output_type": "stream",
     "text": [
      "CPU times: user 5.72 s, sys: 536 ms, total: 6.25 s\n",
      "Wall time: 5.74 s\n"
     ]
    }
   ],
   "source": [
    "%%time\n",
    "for _ in range(10):\n",
    "    es_update.evaluate_individual_local(theta,obs_mean=None,obs_std=None,eval=False,config=config)"
   ]
  },
  {
   "cell_type": "code",
   "execution_count": 12,
   "metadata": {},
   "outputs": [
    {
     "name": "stdout",
     "output_type": "stream",
     "text": [
      "CPU times: user 613 ms, sys: 166 ms, total: 779 ms\n",
      "Wall time: 1.83 s\n"
     ]
    }
   ],
   "source": [
    "%%time\n",
    "res = [client.submit(es_update.evaluate_individual_local,theta,obs_mean=None,obs_std=None,eval=False,config=config) for _ in range(10)]\n",
    "res = client.gather(res)"
   ]
  },
  {
   "cell_type": "code",
   "execution_count": null,
   "metadata": {},
   "outputs": [],
   "source": []
  },
  {
   "cell_type": "code",
   "execution_count": null,
   "metadata": {},
   "outputs": [],
   "source": []
  },
  {
   "cell_type": "code",
   "execution_count": null,
   "metadata": {},
   "outputs": [],
   "source": []
  },
  {
   "cell_type": "code",
   "execution_count": 7,
   "metadata": {},
   "outputs": [
    {
     "name": "stdout",
     "output_type": "stream",
     "text": [
      "mean batch time is:  14.45363800406456\n",
      "CPU times: user 18.4 s, sys: 5.89 s, total: 24.3 s\n",
      "Wall time: 57.9 s\n"
     ]
    }
   ],
   "source": [
    "%%time\n",
    "res = es_update.es_evaluate_children(client,central_theta=theta,obs_mean=env.model.obs_stats.mean,\n",
    "                                                         obs_std=env.model.obs_stats.std,\n",
    "                                                         config=config)"
   ]
  },
  {
   "cell_type": "code",
   "execution_count": 46,
   "metadata": {},
   "outputs": [
    {
     "data": {
      "text/plain": [
       "{'noise_descriptors': [(15536287, 1),\n",
       "  (86398986, 1),\n",
       "  (3931112, 1),\n",
       "  (61850656, 1),\n",
       "  (9164245, 1),\n",
       "  (48693134, 1),\n",
       "  (79238908, 1),\n",
       "  (46612864, 1),\n",
       "  (13120791, 1),\n",
       "  (59288320, 1),\n",
       "  (30086285, 1),\n",
       "  (236167, 1),\n",
       "  (76102586, 1),\n",
       "  (2045318, 1),\n",
       "  (43974833, 1),\n",
       "  (18632230, 1),\n",
       "  (64373304, 1),\n",
       "  (47325167, 1),\n",
       "  (25709399, 1),\n",
       "  (10212311, 1),\n",
       "  (15536287, -1),\n",
       "  (86398986, -1),\n",
       "  (3931112, -1),\n",
       "  (61850656, -1),\n",
       "  (9164245, -1),\n",
       "  (48693134, -1),\n",
       "  (79238908, -1),\n",
       "  (46612864, -1),\n",
       "  (13120791, -1),\n",
       "  (59288320, -1),\n",
       "  (30086285, -1),\n",
       "  (236167, -1),\n",
       "  (76102586, -1),\n",
       "  (2045318, -1),\n",
       "  (43974833, -1),\n",
       "  (18632230, -1),\n",
       "  (64373304, -1),\n",
       "  (47325167, -1),\n",
       "  (25709399, -1),\n",
       "  (10212311, -1)],\n",
       " 'fitnesses': array([ 994.38593999, 1001.15106617,  997.10004033, 1001.93989278,\n",
       "        1001.28636351,  991.47081519, 1004.17402391,  991.17894073,\n",
       "         992.31558875,  996.07138453,  995.53432855, 1003.59383833,\n",
       "        1002.32417685,  995.50500509,  993.09637882, 1004.11757308,\n",
       "        1003.0508449 , 1004.89030869,  996.25646574,  997.26982504,\n",
       "        1004.66519324,  999.85493469,  996.62044783,  991.10721863,\n",
       "         995.76108463,  997.56045193,  996.85111992, 1006.29576175,\n",
       "         998.15409415,  997.54653686,  996.33139715,  999.71283566,\n",
       "         997.41050662, 1006.68565143,  998.61423175,  996.96866787,\n",
       "        1004.20833674,  995.1401005 , 1000.97462509,  996.86208178]),\n",
       " 'bcs': array([[0.658, 0.943, 0.882, 0.971],\n",
       "        [0.206, 0.808, 0.924, 0.965],\n",
       "        [0.837, 0.645, 0.983, 0.278],\n",
       "        [0.57 , 0.801, 0.955, 0.977],\n",
       "        [0.899, 0.327, 0.915, 0.356],\n",
       "        [0.975, 0.953, 0.992, 0.001],\n",
       "        [0.979, 0.862, 0.194, 0.955],\n",
       "        [0.003, 0.987, 0.967, 0.981],\n",
       "        [0.929, 0.896, 0.978, 0.125],\n",
       "        [0.913, 0.589, 0.963, 0.216],\n",
       "        [0.982, 0.4  , 0.895, 0.404],\n",
       "        [0.964, 0.988, 0.589, 0.848],\n",
       "        [0.986, 0.286, 0.993, 0.182],\n",
       "        [0.843, 0.837, 0.759, 0.371],\n",
       "        [0.002, 0.988, 0.922, 0.988],\n",
       "        [0.973, 0.989, 0.065, 0.987],\n",
       "        [0.788, 0.615, 0.531, 0.964],\n",
       "        [0.845, 0.989, 0.002, 0.992],\n",
       "        [0.059, 0.96 , 0.568, 0.958],\n",
       "        [0.972, 0.009, 0.982, 0.967],\n",
       "        [0.986, 0.005, 0.986, 0.899],\n",
       "        [0.989, 0.979, 0.963, 0.892],\n",
       "        [0.987, 0.873, 0.858, 0.888],\n",
       "        [0.002, 0.986, 0.751, 0.984],\n",
       "        [0.048, 0.989, 0.876, 0.981],\n",
       "        [0.067, 0.968, 0.954, 0.988],\n",
       "        [0.831, 0.669, 0.988, 0.473],\n",
       "        [0.99 , 0.003, 0.993, 0.915],\n",
       "        [0.987, 0.   , 0.989, 0.952],\n",
       "        [0.89 , 0.642, 0.593, 0.912],\n",
       "        [0.837, 0.853, 0.973, 0.211],\n",
       "        [0.555, 0.953, 0.831, 0.767],\n",
       "        [0.001, 0.988, 0.65 , 0.992],\n",
       "        [0.93 , 0.967, 0.011, 0.98 ],\n",
       "        [0.501, 0.969, 0.03 , 0.988],\n",
       "        [0.877, 0.921, 0.91 , 0.94 ],\n",
       "        [0.958, 0.988, 0.002, 0.989],\n",
       "        [0.985, 0.881, 0.99 , 0.001],\n",
       "        [0.98 , 0.079, 0.921, 0.983],\n",
       "        [0.911, 0.978, 0.148, 0.946]]),\n",
       " 'child_obs_sum': array([0., 0., 0., 0., 0., 0., 0., 0., 0., 0., 0., 0., 0., 0., 0., 0., 0.,\n",
       "        0., 0., 0., 0., 0., 0., 0., 0., 0., 0.], dtype=float32),\n",
       " 'child_obs_sq': array([0., 0., 0., 0., 0., 0., 0., 0., 0., 0., 0., 0., 0., 0., 0., 0., 0.,\n",
       "        0., 0., 0., 0., 0., 0., 0., 0., 0., 0.], dtype=float32),\n",
       " 'child_obs_count': 0}"
      ]
     },
     "execution_count": 46,
     "metadata": {},
     "output_type": "execute_result"
    }
   ],
   "source": [
    "res"
   ]
  },
  {
   "cell_type": "code",
   "execution_count": null,
   "metadata": {},
   "outputs": [],
   "source": []
  },
  {
   "cell_type": "code",
   "execution_count": null,
   "metadata": {},
   "outputs": [],
   "source": []
  },
  {
   "cell_type": "code",
   "execution_count": 6,
   "metadata": {},
   "outputs": [
    {
     "name": "stdout",
     "output_type": "stream",
     "text": [
      "CPU times: user 19.4 ms, sys: 4.89 ms, total: 24.3 ms\n",
      "Wall time: 22.5 ms\n"
     ]
    }
   ],
   "source": [
    "%%time\n",
    "from es_map.interaction import interaction\n",
    "env = interaction.build_interaction_module(config[\"env_id\"],config)"
   ]
  },
  {
   "cell_type": "code",
   "execution_count": 9,
   "metadata": {},
   "outputs": [
    {
     "name": "stdout",
     "output_type": "stream",
     "text": [
      "CPU times: user 544 ms, sys: 7.49 ms, total: 552 ms\n",
      "Wall time: 513 ms\n"
     ]
    },
    {
     "data": {
      "text/plain": [
       "(677.3798546074639,\n",
       " 999,\n",
       " array([0.922, 0.227, 0.942, 0.734]),\n",
       " -0.16646408420047717,\n",
       " array([0., 0., 0., 0., 0., 0., 0., 0., 0., 0., 0., 0., 0., 0., 0., 0., 0.,\n",
       "        0., 0., 0., 0., 0., 0., 0., 0., 0., 0.], dtype=float32),\n",
       " array([0., 0., 0., 0., 0., 0., 0., 0., 0., 0., 0., 0., 0., 0., 0., 0., 0.,\n",
       "        0., 0., 0., 0., 0., 0., 0., 0., 0., 0.], dtype=float32),\n",
       " 0)"
      ]
     },
     "execution_count": 9,
     "metadata": {},
     "output_type": "execute_result"
    }
   ],
   "source": [
    "%%time\n",
    "env.rollout( theta, random_state=np.random.RandomState(), eval=False, obs_mean=None, obs_std=None, render=False)"
   ]
  },
  {
   "cell_type": "code",
   "execution_count": null,
   "metadata": {},
   "outputs": [],
   "source": []
  },
  {
   "cell_type": "code",
   "execution_count": 17,
   "metadata": {},
   "outputs": [
    {
     "name": "stdout",
     "output_type": "stream",
     "text": [
      "blas_mkl_info:\n",
      "  NOT AVAILABLE\n",
      "blis_info:\n",
      "  NOT AVAILABLE\n",
      "openblas_info:\n",
      "    libraries = ['openblas', 'openblas']\n",
      "    library_dirs = ['/usr/local/lib']\n",
      "    language = c\n",
      "    define_macros = [('HAVE_CBLAS', None)]\n",
      "blas_opt_info:\n",
      "    libraries = ['openblas', 'openblas']\n",
      "    library_dirs = ['/usr/local/lib']\n",
      "    language = c\n",
      "    define_macros = [('HAVE_CBLAS', None)]\n",
      "lapack_mkl_info:\n",
      "  NOT AVAILABLE\n",
      "openblas_lapack_info:\n",
      "    libraries = ['openblas', 'openblas']\n",
      "    library_dirs = ['/usr/local/lib']\n",
      "    language = c\n",
      "    define_macros = [('HAVE_CBLAS', None)]\n",
      "lapack_opt_info:\n",
      "    libraries = ['openblas', 'openblas']\n",
      "    library_dirs = ['/usr/local/lib']\n",
      "    language = c\n",
      "    define_macros = [('HAVE_CBLAS', None)]\n"
     ]
    }
   ],
   "source": [
    "np.__config__.show()"
   ]
  },
  {
   "cell_type": "code",
   "execution_count": null,
   "metadata": {},
   "outputs": [],
   "source": []
  },
  {
   "cell_type": "code",
   "execution_count": 17,
   "metadata": {},
   "outputs": [],
   "source": [
    "def centered_rank_normalizer(x):\n",
    "    if len(x.shape) == 1:\n",
    "        return compute_centered_ranks(x)\n",
    "    elif len(x.shape) == 2:\n",
    "        ranked = np.zeros(x.shape)\n",
    "        for i in range(x.shape[1]):\n",
    "            ranked[:, i] = compute_centered_ranks(x[:, i])\n",
    "        return ranked\n",
    "    raise ValueError(\"X must have 1 or 2 dimensions\")\n",
    "\n",
    "def compute_ranks(x):\n",
    "    \"\"\"\n",
    "    Returns ranks in [0, len(x))\n",
    "    Note: This is different from scipy.stats.rankdata, which returns ranks in [1, len(x)].\n",
    "    \"\"\"\n",
    "    assert x.ndim == 1\n",
    "    ranks = np.empty(len(x), dtype=int)\n",
    "    ranks[x.argsort()] = np.arange(len(x))\n",
    "    return ranks\n",
    "\n",
    "\n",
    "def compute_centered_ranks(x):\n",
    "    y = compute_ranks(x.ravel()).reshape(x.shape).astype(np.float32)\n",
    "    y /= x.size - 1\n",
    "    y -= .5\n",
    "    return y"
   ]
  },
  {
   "cell_type": "code",
   "execution_count": 24,
   "metadata": {},
   "outputs": [
    {
     "data": {
      "text/plain": [
       "array([ 0.6071429 ,  0.2142857 , -1.17857143, -0.60714287, -0.07142857,\n",
       "       -0.74999997, -0.9285714 , -0.5       , -0.5357143 ,  0.78571433,\n",
       "       -0.07142854,  0.10714284,  0.64285719, -0.3214286 ,  0.50000003,\n",
       "        1.39285713, -0.42857143, -0.03571433,  0.4285714 ,  0.32142857,\n",
       "       -0.32142857, -0.46428567, -0.10714287, -0.3214286 ,  1.53571433,\n",
       "       -0.14285716,  0.57142857, -0.35714287,  0.0357143 ])"
      ]
     },
     "execution_count": 24,
     "metadata": {},
     "output_type": "execute_result"
    }
   ],
   "source": [
    "x = np.random.randn(29,4)\n",
    "np.sum(centered_rank_normalizer(x),axis=1)"
   ]
  },
  {
   "cell_type": "code",
   "execution_count": 17,
   "metadata": {},
   "outputs": [],
   "source": [
    "a = np.random.randn(10,2)\n",
    "b = np.random.randn(2)"
   ]
  },
  {
   "cell_type": "code",
   "execution_count": 18,
   "metadata": {},
   "outputs": [
    {
     "data": {
      "text/plain": [
       "array([[ 1.47726218,  1.78892368],\n",
       "       [ 0.19184764,  2.05596825],\n",
       "       [-0.93684622, -1.34920474],\n",
       "       [ 1.16094895,  0.12176406],\n",
       "       [ 0.12258614, -0.94618651],\n",
       "       [-0.56786051, -0.04309731],\n",
       "       [ 1.1958597 , -0.21224957],\n",
       "       [ 0.8933006 ,  2.10420853],\n",
       "       [ 1.22878732, -0.06128376],\n",
       "       [ 1.90495068, -1.4329343 ]])"
      ]
     },
     "execution_count": 18,
     "metadata": {},
     "output_type": "execute_result"
    }
   ],
   "source": [
    "a-b"
   ]
  },
  {
   "cell_type": "code",
   "execution_count": 19,
   "metadata": {},
   "outputs": [
    {
     "data": {
      "text/plain": [
       "array([[ 1.25621619,  1.66505038],\n",
       "       [-0.02919834,  1.93209496],\n",
       "       [-1.1578922 , -1.47307804],\n",
       "       [ 0.93990297, -0.00210923],\n",
       "       [-0.09845984, -1.07005981],\n",
       "       [-0.78890649, -0.16697061],\n",
       "       [ 0.97481372, -0.33612287],\n",
       "       [ 0.67225462,  1.98033523],\n",
       "       [ 1.00774133, -0.18515706],\n",
       "       [ 1.68390469, -1.5568076 ]])"
      ]
     },
     "execution_count": 19,
     "metadata": {},
     "output_type": "execute_result"
    }
   ],
   "source": [
    "a"
   ]
  },
  {
   "cell_type": "code",
   "execution_count": 20,
   "metadata": {},
   "outputs": [
    {
     "data": {
      "text/plain": [
       "array([-0.22104598, -0.1238733 ])"
      ]
     },
     "execution_count": 20,
     "metadata": {},
     "output_type": "execute_result"
    }
   ],
   "source": [
    "b"
   ]
  },
  {
   "cell_type": "code",
   "execution_count": 28,
   "metadata": {},
   "outputs": [],
   "source": [
    "import itertools\n",
    "        \n",
    "def create_id_generator():\n",
    "    counter = itertools.count()\n",
    "    def get_next_id():\n",
    "        return next(counter)\n",
    "    return get_next_id\n",
    "    \n",
    "get_next_individual_id = create_id_generator()"
   ]
  },
  {
   "cell_type": "code",
   "execution_count": 37,
   "metadata": {},
   "outputs": [
    {
     "data": {
      "text/plain": [
       "8"
      ]
     },
     "execution_count": 37,
     "metadata": {},
     "output_type": "execute_result"
    }
   ],
   "source": [
    "get_next_individual_id()"
   ]
  },
  {
   "cell_type": "code",
   "execution_count": 21,
   "metadata": {},
   "outputs": [],
   "source": [
    "\n",
    "import itertools\n",
    "a = itertools.count()"
   ]
  },
  {
   "cell_type": "code",
   "execution_count": 27,
   "metadata": {},
   "outputs": [
    {
     "data": {
      "text/plain": [
       "2"
      ]
     },
     "execution_count": 27,
     "metadata": {},
     "output_type": "execute_result"
    }
   ],
   "source": [
    "next(a)"
   ]
  },
  {
   "cell_type": "code",
   "execution_count": 3,
   "metadata": {},
   "outputs": [
    {
     "data": {
      "text/plain": [
       "[<matplotlib.lines.Line2D at 0x7ff40cec60a0>]"
      ]
     },
     "execution_count": 3,
     "metadata": {},
     "output_type": "execute_result"
    },
    {
     "data": {
      "image/png": "[encoded data removed]",
      "text/plain": [
       "<Figure size 432x288 with 1 Axes>"
      ]
     },
     "metadata": {
      "needs_background": "light"
     },
     "output_type": "display_data"
    }
   ],
   "source": [
    "import numpy as np\n",
    "import matplotlib.pyplot as plt\n",
    "a = np.random.randn(20) * 0.1\n",
    "b = np.random.randn(20)\n",
    "\n",
    "plt.plot(a)\n",
    "plt.plot(b)\n",
    "plt.ylabel()"
   ]
  },
  {
   "cell_type": "code",
   "execution_count": null,
   "metadata": {},
   "outputs": [],
   "source": []
  }
 ],
 "metadata": {
  "kernelspec": {
   "display_name": "Python 3",
   "language": "python",
   "name": "python3"
  },
  "language_info": {
   "codemirror_mode": {
    "name": "ipython",
    "version": 3
   },
   "file_extension": ".py",
   "mimetype": "text/x-python",
   "name": "python",
   "nbconvert_exporter": "python",
   "pygments_lexer": "ipython3",
   "version": "3.8.10"
  }
 },
 "nbformat": 4,
 "nbformat_minor": 4
}
